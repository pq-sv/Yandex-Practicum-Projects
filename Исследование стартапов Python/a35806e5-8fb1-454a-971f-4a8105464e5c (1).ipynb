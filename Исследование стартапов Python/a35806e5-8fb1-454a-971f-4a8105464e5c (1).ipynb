{
 "cells": [
  {
   "cell_type": "markdown",
   "metadata": {
    "id": "4mJbK1knrJgz"
   },
   "source": [
    "# Проект: Исследование стартапов"
   ]
  },
  {
   "cell_type": "markdown",
   "metadata": {
    "id": "P6j0r3worJg0"
   },
   "source": [
    "## Введение"
   ]
  },
  {
   "cell_type": "markdown",
   "metadata": {
    "id": "8lQtbsIUyFG6"
   },
   "source": [
    "### Цели и задачи проекта\n",
    "\n",
    "**Цель:** подготовить датасет и проверить, что данные в нём соответствуют здравому смыслу, а также ответить на вопросы заказчика как о предобработке, так и о значении данных для бизнеса."
   ]
  },
  {
   "cell_type": "markdown",
   "metadata": {},
   "source": [
    "**Задачи:**\n",
    "\n",
    "1. Загрузить данные и познакомиться с их содержимым.\n",
    "2. Провести предобработку данных.\n",
    "3. Провести исследовательский анализ данных:\n",
    "- выяснить по каким столбцам можно объединять данные из разных таблиц;\n",
    "- проверить можно ли доверять данным о сотрудниках стартапов и их образовании;\n",
    "- исследовать аномальные покупки и выяснить, что означают покупки за 0 или за 1 доллар;\n",
    "- изучить зависимость цены(price_amount) от категории **стартапов**(category code) и количества раундов финансирования(investment rounds) перед его покупкой;\n",
    "4. Сформулировать выводы по проведённому анализу."
   ]
  },
  {
   "cell_type": "markdown",
   "metadata": {},
   "source": [
    "### Описание данных\n",
    "\n",
    "Названия файлов:\n",
    "\n",
    "* `acquisition.csv` - cодержит информацию о покупках одними компаниями других компаний\n",
    "* `company_and_rounds.csv` - cодержит информацию о компаниях и раундах финансирования\n",
    "* `people.csv` - содержит информацию о сотрудниках\n",
    "* `education.csv` - содержит информацию об образовании сотрудника\n",
    "* `degrees.csv` - содержит информацию о типе образования сотрудника\n",
    "\n",
    "Опциональные датасеты:\n",
    "\n",
    "* `fund.csv` - содержит информацию о фондах\n",
    "* `investment.csv` - содержит информацию о раундах инвестирования\n",
    "\n",
    "\n",
    "**Описание датасета `acquisition.csv`:**\n",
    "\n",
    "- id — идентификатор покупки.\n",
    "- acquiring_company_id — идентификатор покупающей компании.\n",
    "- идентификатор покупаемой компании.\n",
    "- term_code — варианты расчёта.\n",
    "- price_amount — сумма сделки.\n",
    "- acquired_at — дата сделки.\n",
    "\n",
    "**Описание датасета `company_and_rounds.csv`:**\n",
    "\n",
    "- company ID — идентификатор компании.\n",
    "- name — название компании.\n",
    "- category code — категория области деятельности компании.\n",
    "- status — статус компании.\n",
    "- founded at — дата инвестирования.\n",
    "- closed at — дата закрытия компании.\n",
    "- domain — официальный сайт компании.\n",
    "- network username — ник компании в сети.\n",
    "- country code — код страны компании.\n",
    "- investment rounds — число инвестиционных раундов.\n",
    "- funding rounds — число раундов финансирования.\n",
    "- funding total — сумма финансирования.\n",
    "- milestones — вехи финансирования.\n",
    "- funding round id — идентификатор этапа финансирования.\n",
    "- company id — идентификатор компании.\n",
    "- funded at — дата финансирования.\n",
    "- funding round type — тип финансирования.\n",
    "- raised amount — сумма финансирования.\n",
    "- pre money valuation — предварительная денежная оценка.\n",
    "- participants — число участников.\n",
    "- is first round — является ли раунд первым.\n",
    "- is last round — является раунд последним.\n",
    "\n",
    "**Описание датасета `people.csv`:**\n",
    "\n",
    "- id — идентификатор сотрудника.\n",
    "- first_name — имя сотрудника.\n",
    "- last_name — фамилия сотрудника.\n",
    "- company_id — идентификатор компании.\n",
    "- network_username — ник в социальных сетях.\n",
    "\n",
    "**Описание датасета `education.csv`:**\n",
    "\n",
    "- id — идентификатор записи об образовании.\n",
    "- person_id — идентификатор работника.\n",
    "- instituition — название учебного заведения.\n",
    "- graduated_at — дата получения образования.\n",
    "\n",
    "**Описание датасета `degrees.csv`:**\n",
    "\n",
    "- id — идентификатор записи.\n",
    "- object_id — идентификатор сотрудника.\n",
    "- degree_type — тип образования.\n",
    "- subject — специальность."
   ]
  },
  {
   "cell_type": "markdown",
   "metadata": {
    "id": "xqr6uttCrJg0"
   },
   "source": [
    "\n",
    "## Знакомство с данными: загрузка и первичная предобработка\n",
    "\n",
    "\n",
    "###  Вывод общей информации, исправление названия столбцов\n"
   ]
  },
  {
   "cell_type": "code",
   "execution_count": 1,
   "metadata": {
    "colab": {
     "base_uri": "https://localhost:8080/"
    },
    "id": "W_W4jRazrJg0",
    "outputId": "d2409aad-233f-4bb4-ec71-7da96594f9df",
    "vscode": {
     "languageId": "plaintext"
    }
   },
   "outputs": [],
   "source": [
    "# Импортируем библиотеки\n",
    "import pandas as pd\n",
    "\n",
    "import matplotlib.pyplot as plt\n",
    "import seaborn as sns"
   ]
  },
  {
   "cell_type": "code",
   "execution_count": 2,
   "metadata": {
    "id": "oNqJ2qpRFebv"
   },
   "outputs": [],
   "source": [
    "# Сохраняем файлы в датафреймы\n",
    "base_url = \"https://code.s3.yandex.net/datasets/\"\n",
    "\n",
    "acquisition_df = pd.read_csv(base_url + 'acquisition.csv')\n",
    "\n",
    "company_and_rounds_df = pd.read_csv(base_url + 'company_and_rounds.csv')\n",
    "\n",
    "people_df = pd.read_csv(base_url + 'people.csv')\n",
    "\n",
    "education_df = pd.read_csv(base_url + 'education.csv')\n",
    "\n",
    "degrees_df = pd.read_csv(base_url + 'degrees.csv')\n"
   ]
  },
  {
   "cell_type": "code",
   "execution_count": 3,
   "metadata": {
    "scrolled": false
   },
   "outputs": [
    {
     "name": "stdout",
     "output_type": "stream",
     "text": [
      "<class 'pandas.core.frame.DataFrame'>\n",
      "RangeIndex: 9407 entries, 0 to 9406\n",
      "Data columns (total 6 columns):\n",
      " #   Column                Non-Null Count  Dtype \n",
      "---  ------                --------------  ----- \n",
      " 0   id                    9407 non-null   int64 \n",
      " 1   acquiring_company_id  9407 non-null   int64 \n",
      " 2   acquired_company_id   9407 non-null   int64 \n",
      " 3   term_code             1831 non-null   object\n",
      " 4   price_amount          9407 non-null   int64 \n",
      " 5   acquired_at           9378 non-null   object\n",
      "dtypes: int64(4), object(2)\n",
      "memory usage: 441.1+ KB\n"
     ]
    }
   ],
   "source": [
    "# acquisition_df\n",
    "acquisition_df.info()"
   ]
  },
  {
   "cell_type": "code",
   "execution_count": 4,
   "metadata": {
    "scrolled": true
   },
   "outputs": [
    {
     "data": {
      "text/html": [
       "<div>\n",
       "<style scoped>\n",
       "    .dataframe tbody tr th:only-of-type {\n",
       "        vertical-align: middle;\n",
       "    }\n",
       "\n",
       "    .dataframe tbody tr th {\n",
       "        vertical-align: top;\n",
       "    }\n",
       "\n",
       "    .dataframe thead th {\n",
       "        text-align: right;\n",
       "    }\n",
       "</style>\n",
       "<table border=\"1\" class=\"dataframe\">\n",
       "  <thead>\n",
       "    <tr style=\"text-align: right;\">\n",
       "      <th></th>\n",
       "      <th>id</th>\n",
       "      <th>acquiring_company_id</th>\n",
       "      <th>acquired_company_id</th>\n",
       "      <th>term_code</th>\n",
       "      <th>price_amount</th>\n",
       "      <th>acquired_at</th>\n",
       "    </tr>\n",
       "  </thead>\n",
       "  <tbody>\n",
       "    <tr>\n",
       "      <th>0</th>\n",
       "      <td>1</td>\n",
       "      <td>11</td>\n",
       "      <td>10</td>\n",
       "      <td>NaN</td>\n",
       "      <td>20000000</td>\n",
       "      <td>2007-05-30</td>\n",
       "    </tr>\n",
       "    <tr>\n",
       "      <th>1</th>\n",
       "      <td>7</td>\n",
       "      <td>59</td>\n",
       "      <td>72</td>\n",
       "      <td>cash</td>\n",
       "      <td>60000000</td>\n",
       "      <td>2007-07-01</td>\n",
       "    </tr>\n",
       "    <tr>\n",
       "      <th>2</th>\n",
       "      <td>8</td>\n",
       "      <td>24</td>\n",
       "      <td>132</td>\n",
       "      <td>cash</td>\n",
       "      <td>280000000</td>\n",
       "      <td>2007-05-01</td>\n",
       "    </tr>\n",
       "    <tr>\n",
       "      <th>3</th>\n",
       "      <td>9</td>\n",
       "      <td>59</td>\n",
       "      <td>155</td>\n",
       "      <td>cash</td>\n",
       "      <td>100000000</td>\n",
       "      <td>2007-06-01</td>\n",
       "    </tr>\n",
       "    <tr>\n",
       "      <th>4</th>\n",
       "      <td>10</td>\n",
       "      <td>212</td>\n",
       "      <td>215</td>\n",
       "      <td>cash</td>\n",
       "      <td>25000000</td>\n",
       "      <td>2007-07-01</td>\n",
       "    </tr>\n",
       "    <tr>\n",
       "      <th>5</th>\n",
       "      <td>11</td>\n",
       "      <td>227</td>\n",
       "      <td>228</td>\n",
       "      <td>NaN</td>\n",
       "      <td>7140000</td>\n",
       "      <td>2003-08-05</td>\n",
       "    </tr>\n",
       "    <tr>\n",
       "      <th>6</th>\n",
       "      <td>12</td>\n",
       "      <td>5</td>\n",
       "      <td>230</td>\n",
       "      <td>cash</td>\n",
       "      <td>0</td>\n",
       "      <td>2007-07-01</td>\n",
       "    </tr>\n",
       "    <tr>\n",
       "      <th>7</th>\n",
       "      <td>14</td>\n",
       "      <td>318</td>\n",
       "      <td>314</td>\n",
       "      <td>cash</td>\n",
       "      <td>0</td>\n",
       "      <td>2006-10-01</td>\n",
       "    </tr>\n",
       "    <tr>\n",
       "      <th>8</th>\n",
       "      <td>15</td>\n",
       "      <td>20</td>\n",
       "      <td>333</td>\n",
       "      <td>stock</td>\n",
       "      <td>1500000000</td>\n",
       "      <td>2002-07-08</td>\n",
       "    </tr>\n",
       "    <tr>\n",
       "      <th>9</th>\n",
       "      <td>16</td>\n",
       "      <td>342</td>\n",
       "      <td>341</td>\n",
       "      <td>cash</td>\n",
       "      <td>350000000</td>\n",
       "      <td>2007-08-01</td>\n",
       "    </tr>\n",
       "  </tbody>\n",
       "</table>\n",
       "</div>"
      ],
      "text/plain": [
       "   id  acquiring_company_id  acquired_company_id term_code  price_amount  \\\n",
       "0   1                    11                   10       NaN      20000000   \n",
       "1   7                    59                   72      cash      60000000   \n",
       "2   8                    24                  132      cash     280000000   \n",
       "3   9                    59                  155      cash     100000000   \n",
       "4  10                   212                  215      cash      25000000   \n",
       "5  11                   227                  228       NaN       7140000   \n",
       "6  12                     5                  230      cash             0   \n",
       "7  14                   318                  314      cash             0   \n",
       "8  15                    20                  333     stock    1500000000   \n",
       "9  16                   342                  341      cash     350000000   \n",
       "\n",
       "  acquired_at  \n",
       "0  2007-05-30  \n",
       "1  2007-07-01  \n",
       "2  2007-05-01  \n",
       "3  2007-06-01  \n",
       "4  2007-07-01  \n",
       "5  2003-08-05  \n",
       "6  2007-07-01  \n",
       "7  2006-10-01  \n",
       "8  2002-07-08  \n",
       "9  2007-08-01  "
      ]
     },
     "execution_count": 4,
     "metadata": {},
     "output_type": "execute_result"
    }
   ],
   "source": [
    "acquisition_df.head(10)"
   ]
  },
  {
   "cell_type": "markdown",
   "metadata": {},
   "source": [
    "### Промежуточный вывод по датасету `acquisition_df`"
   ]
  },
  {
   "cell_type": "markdown",
   "metadata": {},
   "source": [
    "Датасет  `acquisition_df` содержит 6 столбцов и 9407 строк\n",
    "\n",
    "- Названия столбцов на первый взгляд не требуют предобработки\n",
    "- Пропуски содержатся в столбцах `term_code` и `acquired_at`\n",
    "- Столбец `acquired_at` содержит дату сделки - следует привести к datetime\n",
    "- Значения в столбцах соответствуют своему описанию\n",
    "\n",
    "---"
   ]
  },
  {
   "cell_type": "code",
   "execution_count": 5,
   "metadata": {},
   "outputs": [
    {
     "name": "stdout",
     "output_type": "stream",
     "text": [
      "<class 'pandas.core.frame.DataFrame'>\n",
      "RangeIndex: 217774 entries, 0 to 217773\n",
      "Data columns (total 22 columns):\n",
      " #   Column                 Non-Null Count   Dtype  \n",
      "---  ------                 --------------   -----  \n",
      " 0   company  ID            217472 non-null  float64\n",
      " 1   name                   217472 non-null  object \n",
      " 2   category  code         143886 non-null  object \n",
      " 3   status                 217472 non-null  object \n",
      " 4   founded  at            109956 non-null  object \n",
      " 5   closed  at             3449 non-null    object \n",
      " 6   domain                 147159 non-null  object \n",
      " 7   network  username      95534 non-null   object \n",
      " 8   country  code          108607 non-null  object \n",
      " 9   investment  rounds     217472 non-null  float64\n",
      " 10  funding  rounds        217472 non-null  float64\n",
      " 11  funding  total         217472 non-null  float64\n",
      " 12  milestones             217472 non-null  float64\n",
      " 13  funding  round  id     52928 non-null   float64\n",
      " 14  company  id            52928 non-null   float64\n",
      " 15  funded  at             52680 non-null   object \n",
      " 16  funding  round  type   52928 non-null   object \n",
      " 17  raised  amount         52928 non-null   float64\n",
      " 18  pre  money  valuation  52928 non-null   float64\n",
      " 19  participants           52928 non-null   float64\n",
      " 20  is  first  round       52928 non-null   float64\n",
      " 21  is  last  round        52928 non-null   float64\n",
      "dtypes: float64(12), object(10)\n",
      "memory usage: 36.6+ MB\n"
     ]
    }
   ],
   "source": [
    "# company_and_rounds_df\n",
    "company_and_rounds_df.info()"
   ]
  },
  {
   "cell_type": "code",
   "execution_count": 6,
   "metadata": {
    "scrolled": true
   },
   "outputs": [
    {
     "data": {
      "text/html": [
       "<div>\n",
       "<style scoped>\n",
       "    .dataframe tbody tr th:only-of-type {\n",
       "        vertical-align: middle;\n",
       "    }\n",
       "\n",
       "    .dataframe tbody tr th {\n",
       "        vertical-align: top;\n",
       "    }\n",
       "\n",
       "    .dataframe thead th {\n",
       "        text-align: right;\n",
       "    }\n",
       "</style>\n",
       "<table border=\"1\" class=\"dataframe\">\n",
       "  <thead>\n",
       "    <tr style=\"text-align: right;\">\n",
       "      <th></th>\n",
       "      <th>company  ID</th>\n",
       "      <th>name</th>\n",
       "      <th>category  code</th>\n",
       "      <th>status</th>\n",
       "      <th>founded  at</th>\n",
       "      <th>closed  at</th>\n",
       "      <th>domain</th>\n",
       "      <th>network  username</th>\n",
       "      <th>country  code</th>\n",
       "      <th>investment  rounds</th>\n",
       "      <th>...</th>\n",
       "      <th>milestones</th>\n",
       "      <th>funding  round  id</th>\n",
       "      <th>company  id</th>\n",
       "      <th>funded  at</th>\n",
       "      <th>funding  round  type</th>\n",
       "      <th>raised  amount</th>\n",
       "      <th>pre  money  valuation</th>\n",
       "      <th>participants</th>\n",
       "      <th>is  first  round</th>\n",
       "      <th>is  last  round</th>\n",
       "    </tr>\n",
       "  </thead>\n",
       "  <tbody>\n",
       "    <tr>\n",
       "      <th>0</th>\n",
       "      <td>1.0</td>\n",
       "      <td>Wetpaint</td>\n",
       "      <td>web</td>\n",
       "      <td>operating</td>\n",
       "      <td>2005-10-17</td>\n",
       "      <td>NaN</td>\n",
       "      <td>wetpaint-inc.com</td>\n",
       "      <td>BachelrWetpaint</td>\n",
       "      <td>USA</td>\n",
       "      <td>0.0</td>\n",
       "      <td>...</td>\n",
       "      <td>5.0</td>\n",
       "      <td>888.0</td>\n",
       "      <td>1.0</td>\n",
       "      <td>2005-10-01</td>\n",
       "      <td>series-a</td>\n",
       "      <td>5250000.0</td>\n",
       "      <td>0.0</td>\n",
       "      <td>2.0</td>\n",
       "      <td>0.0</td>\n",
       "      <td>1.0</td>\n",
       "    </tr>\n",
       "    <tr>\n",
       "      <th>1</th>\n",
       "      <td>1.0</td>\n",
       "      <td>Wetpaint</td>\n",
       "      <td>web</td>\n",
       "      <td>operating</td>\n",
       "      <td>2005-10-17</td>\n",
       "      <td>NaN</td>\n",
       "      <td>wetpaint-inc.com</td>\n",
       "      <td>BachelrWetpaint</td>\n",
       "      <td>USA</td>\n",
       "      <td>0.0</td>\n",
       "      <td>...</td>\n",
       "      <td>5.0</td>\n",
       "      <td>889.0</td>\n",
       "      <td>1.0</td>\n",
       "      <td>2007-01-01</td>\n",
       "      <td>series-b</td>\n",
       "      <td>9500000.0</td>\n",
       "      <td>0.0</td>\n",
       "      <td>3.0</td>\n",
       "      <td>0.0</td>\n",
       "      <td>0.0</td>\n",
       "    </tr>\n",
       "    <tr>\n",
       "      <th>2</th>\n",
       "      <td>1.0</td>\n",
       "      <td>Wetpaint</td>\n",
       "      <td>web</td>\n",
       "      <td>operating</td>\n",
       "      <td>2005-10-17</td>\n",
       "      <td>NaN</td>\n",
       "      <td>wetpaint-inc.com</td>\n",
       "      <td>BachelrWetpaint</td>\n",
       "      <td>USA</td>\n",
       "      <td>0.0</td>\n",
       "      <td>...</td>\n",
       "      <td>5.0</td>\n",
       "      <td>2312.0</td>\n",
       "      <td>1.0</td>\n",
       "      <td>2008-05-19</td>\n",
       "      <td>series-c+</td>\n",
       "      <td>25000000.0</td>\n",
       "      <td>0.0</td>\n",
       "      <td>4.0</td>\n",
       "      <td>1.0</td>\n",
       "      <td>0.0</td>\n",
       "    </tr>\n",
       "    <tr>\n",
       "      <th>3</th>\n",
       "      <td>10.0</td>\n",
       "      <td>Flektor</td>\n",
       "      <td>games_video</td>\n",
       "      <td>acquired</td>\n",
       "      <td>NaN</td>\n",
       "      <td>NaN</td>\n",
       "      <td>flektor.com</td>\n",
       "      <td>NaN</td>\n",
       "      <td>USA</td>\n",
       "      <td>0.0</td>\n",
       "      <td>...</td>\n",
       "      <td>0.0</td>\n",
       "      <td>NaN</td>\n",
       "      <td>NaN</td>\n",
       "      <td>NaN</td>\n",
       "      <td>NaN</td>\n",
       "      <td>NaN</td>\n",
       "      <td>NaN</td>\n",
       "      <td>NaN</td>\n",
       "      <td>NaN</td>\n",
       "      <td>NaN</td>\n",
       "    </tr>\n",
       "    <tr>\n",
       "      <th>4</th>\n",
       "      <td>100.0</td>\n",
       "      <td>There</td>\n",
       "      <td>games_video</td>\n",
       "      <td>acquired</td>\n",
       "      <td>NaN</td>\n",
       "      <td>NaN</td>\n",
       "      <td>there.com</td>\n",
       "      <td>NaN</td>\n",
       "      <td>USA</td>\n",
       "      <td>0.0</td>\n",
       "      <td>...</td>\n",
       "      <td>4.0</td>\n",
       "      <td>NaN</td>\n",
       "      <td>NaN</td>\n",
       "      <td>NaN</td>\n",
       "      <td>NaN</td>\n",
       "      <td>NaN</td>\n",
       "      <td>NaN</td>\n",
       "      <td>NaN</td>\n",
       "      <td>NaN</td>\n",
       "      <td>NaN</td>\n",
       "    </tr>\n",
       "  </tbody>\n",
       "</table>\n",
       "<p>5 rows × 22 columns</p>\n",
       "</div>"
      ],
      "text/plain": [
       "   company  ID      name category  code     status founded  at closed  at  \\\n",
       "0          1.0  Wetpaint            web  operating  2005-10-17        NaN   \n",
       "1          1.0  Wetpaint            web  operating  2005-10-17        NaN   \n",
       "2          1.0  Wetpaint            web  operating  2005-10-17        NaN   \n",
       "3         10.0   Flektor    games_video   acquired         NaN        NaN   \n",
       "4        100.0     There    games_video   acquired         NaN        NaN   \n",
       "\n",
       "             domain network  username country  code  investment  rounds  ...  \\\n",
       "0  wetpaint-inc.com   BachelrWetpaint           USA                 0.0  ...   \n",
       "1  wetpaint-inc.com   BachelrWetpaint           USA                 0.0  ...   \n",
       "2  wetpaint-inc.com   BachelrWetpaint           USA                 0.0  ...   \n",
       "3       flektor.com               NaN           USA                 0.0  ...   \n",
       "4         there.com               NaN           USA                 0.0  ...   \n",
       "\n",
       "   milestones  funding  round  id  company  id  funded  at  \\\n",
       "0         5.0               888.0          1.0  2005-10-01   \n",
       "1         5.0               889.0          1.0  2007-01-01   \n",
       "2         5.0              2312.0          1.0  2008-05-19   \n",
       "3         0.0                 NaN          NaN         NaN   \n",
       "4         4.0                 NaN          NaN         NaN   \n",
       "\n",
       "   funding  round  type raised  amount pre  money  valuation  participants  \\\n",
       "0              series-a      5250000.0                   0.0           2.0   \n",
       "1              series-b      9500000.0                   0.0           3.0   \n",
       "2             series-c+     25000000.0                   0.0           4.0   \n",
       "3                   NaN            NaN                   NaN           NaN   \n",
       "4                   NaN            NaN                   NaN           NaN   \n",
       "\n",
       "   is  first  round  is  last  round  \n",
       "0               0.0              1.0  \n",
       "1               0.0              0.0  \n",
       "2               1.0              0.0  \n",
       "3               NaN              NaN  \n",
       "4               NaN              NaN  \n",
       "\n",
       "[5 rows x 22 columns]"
      ]
     },
     "execution_count": 6,
     "metadata": {},
     "output_type": "execute_result"
    }
   ],
   "source": [
    "company_and_rounds_df.head()"
   ]
  },
  {
   "cell_type": "markdown",
   "metadata": {},
   "source": [
    "### Промежуточный вывод по датасету `company_and_rounds_df`"
   ]
  },
  {
   "cell_type": "markdown",
   "metadata": {},
   "source": [
    "Датасет  `company_and_rounds_df` содержит 22 столбца и 217774 строк\n",
    "\n",
    "- Названия столбцов необходимо привести в формат snake_case\n",
    "- Пропуски содержатся в столбцах `category  code` , `founded  at`, `closed  at` , `domain`, `network  username` , `country  code`, `funding  round  id` , `company  id`, `funded  at` , `funding  round  type`, `raised  amount` , `pre  money  valuation`, `participants`, `is  first  round`, `is  last  round`\n",
    "- Все числовые столбцы, представленные в формате float64, поссле предобработки пропусков стоит привести к формату int64.\n",
    "- Столбцы `founded at`, `closed at` и `funded  at` содержат информацию о дате - следует привести к datetime \n",
    "- Значения в столбцах соответствуют своему описанию\n",
    "- Столбцы `company ID` и `company id` - дубли, которые стоит или объединить, или удалить  `company id`, так как в нём содержатся пропуски, в отличие от `company ID`\n",
    "\n",
    "---"
   ]
  },
  {
   "cell_type": "code",
   "execution_count": 7,
   "metadata": {},
   "outputs": [
    {
     "name": "stdout",
     "output_type": "stream",
     "text": [
      "<class 'pandas.core.frame.DataFrame'>\n",
      "RangeIndex: 226709 entries, 0 to 226708\n",
      "Data columns (total 5 columns):\n",
      " #   Column            Non-Null Count   Dtype  \n",
      "---  ------            --------------   -----  \n",
      " 0   id                226709 non-null  int64  \n",
      " 1   first_name        226704 non-null  object \n",
      " 2   last_name         226708 non-null  object \n",
      " 3   company_id        34615 non-null   float64\n",
      " 4   network_username  38867 non-null   object \n",
      "dtypes: float64(1), int64(1), object(3)\n",
      "memory usage: 8.6+ MB\n"
     ]
    }
   ],
   "source": [
    "# people_df \n",
    "people_df.info()"
   ]
  },
  {
   "cell_type": "code",
   "execution_count": 8,
   "metadata": {},
   "outputs": [
    {
     "data": {
      "text/html": [
       "<div>\n",
       "<style scoped>\n",
       "    .dataframe tbody tr th:only-of-type {\n",
       "        vertical-align: middle;\n",
       "    }\n",
       "\n",
       "    .dataframe tbody tr th {\n",
       "        vertical-align: top;\n",
       "    }\n",
       "\n",
       "    .dataframe thead th {\n",
       "        text-align: right;\n",
       "    }\n",
       "</style>\n",
       "<table border=\"1\" class=\"dataframe\">\n",
       "  <thead>\n",
       "    <tr style=\"text-align: right;\">\n",
       "      <th></th>\n",
       "      <th>id</th>\n",
       "      <th>first_name</th>\n",
       "      <th>last_name</th>\n",
       "      <th>company_id</th>\n",
       "      <th>network_username</th>\n",
       "    </tr>\n",
       "  </thead>\n",
       "  <tbody>\n",
       "    <tr>\n",
       "      <th>0</th>\n",
       "      <td>10</td>\n",
       "      <td>Mark</td>\n",
       "      <td>Zuckerberg</td>\n",
       "      <td>5.0</td>\n",
       "      <td>NaN</td>\n",
       "    </tr>\n",
       "    <tr>\n",
       "      <th>1</th>\n",
       "      <td>100</td>\n",
       "      <td>Peter</td>\n",
       "      <td>Lester</td>\n",
       "      <td>27.0</td>\n",
       "      <td>NaN</td>\n",
       "    </tr>\n",
       "    <tr>\n",
       "      <th>2</th>\n",
       "      <td>1000</td>\n",
       "      <td>Dr. Steven</td>\n",
       "      <td>E. Saunders</td>\n",
       "      <td>292.0</td>\n",
       "      <td>NaN</td>\n",
       "    </tr>\n",
       "    <tr>\n",
       "      <th>3</th>\n",
       "      <td>10000</td>\n",
       "      <td>Neil</td>\n",
       "      <td>Capel</td>\n",
       "      <td>2526.0</td>\n",
       "      <td>NaN</td>\n",
       "    </tr>\n",
       "    <tr>\n",
       "      <th>4</th>\n",
       "      <td>100000</td>\n",
       "      <td>Sue</td>\n",
       "      <td>Pilsch</td>\n",
       "      <td>NaN</td>\n",
       "      <td>NaN</td>\n",
       "    </tr>\n",
       "  </tbody>\n",
       "</table>\n",
       "</div>"
      ],
      "text/plain": [
       "       id  first_name    last_name  company_id network_username\n",
       "0      10        Mark   Zuckerberg         5.0              NaN\n",
       "1     100       Peter       Lester        27.0              NaN\n",
       "2    1000  Dr. Steven  E. Saunders       292.0              NaN\n",
       "3   10000        Neil        Capel      2526.0              NaN\n",
       "4  100000         Sue       Pilsch         NaN              NaN"
      ]
     },
     "execution_count": 8,
     "metadata": {},
     "output_type": "execute_result"
    }
   ],
   "source": [
    "people_df.head()"
   ]
  },
  {
   "cell_type": "markdown",
   "metadata": {},
   "source": [
    "### Промежуточный вывод по датасету `people_df`"
   ]
  },
  {
   "cell_type": "markdown",
   "metadata": {},
   "source": [
    "Датасет  `people_df` содержит 5 столбцов и 226709 строк\n",
    "\n",
    "- Названия столбцов на первый взгляд не требуют предобработки\n",
    "- Пропуски содержатся в столбцах `first_name`, `last_name`, `company_id` и `network_username`\n",
    "- Столбец `company_id` поссле предобработки пропусков стоит привести к формату int64.\n",
    "- Значения в столбцах соответствуют своему описанию\n",
    "\n",
    "---"
   ]
  },
  {
   "cell_type": "code",
   "execution_count": 9,
   "metadata": {},
   "outputs": [
    {
     "name": "stdout",
     "output_type": "stream",
     "text": [
      "<class 'pandas.core.frame.DataFrame'>\n",
      "RangeIndex: 109610 entries, 0 to 109609\n",
      "Data columns (total 4 columns):\n",
      " #   Column        Non-Null Count   Dtype \n",
      "---  ------        --------------   ----- \n",
      " 0   id            109610 non-null  int64 \n",
      " 1   person_id     109610 non-null  int64 \n",
      " 2   instituition  109555 non-null  object\n",
      " 3   graduated_at  58054 non-null   object\n",
      "dtypes: int64(2), object(2)\n",
      "memory usage: 3.3+ MB\n"
     ]
    }
   ],
   "source": [
    "# education_df \n",
    "education_df.info()"
   ]
  },
  {
   "cell_type": "code",
   "execution_count": 10,
   "metadata": {
    "scrolled": true
   },
   "outputs": [
    {
     "data": {
      "text/html": [
       "<div>\n",
       "<style scoped>\n",
       "    .dataframe tbody tr th:only-of-type {\n",
       "        vertical-align: middle;\n",
       "    }\n",
       "\n",
       "    .dataframe tbody tr th {\n",
       "        vertical-align: top;\n",
       "    }\n",
       "\n",
       "    .dataframe thead th {\n",
       "        text-align: right;\n",
       "    }\n",
       "</style>\n",
       "<table border=\"1\" class=\"dataframe\">\n",
       "  <thead>\n",
       "    <tr style=\"text-align: right;\">\n",
       "      <th></th>\n",
       "      <th>id</th>\n",
       "      <th>person_id</th>\n",
       "      <th>instituition</th>\n",
       "      <th>graduated_at</th>\n",
       "    </tr>\n",
       "  </thead>\n",
       "  <tbody>\n",
       "    <tr>\n",
       "      <th>0</th>\n",
       "      <td>1</td>\n",
       "      <td>6117</td>\n",
       "      <td>NaN</td>\n",
       "      <td>NaN</td>\n",
       "    </tr>\n",
       "    <tr>\n",
       "      <th>1</th>\n",
       "      <td>2</td>\n",
       "      <td>6136</td>\n",
       "      <td>Washington University, St. Louis</td>\n",
       "      <td>1990-01-01</td>\n",
       "    </tr>\n",
       "    <tr>\n",
       "      <th>2</th>\n",
       "      <td>3</td>\n",
       "      <td>6136</td>\n",
       "      <td>Boston University</td>\n",
       "      <td>1992-01-01</td>\n",
       "    </tr>\n",
       "    <tr>\n",
       "      <th>3</th>\n",
       "      <td>4</td>\n",
       "      <td>6005</td>\n",
       "      <td>University of Greenwich</td>\n",
       "      <td>2006-01-01</td>\n",
       "    </tr>\n",
       "    <tr>\n",
       "      <th>4</th>\n",
       "      <td>5</td>\n",
       "      <td>5832</td>\n",
       "      <td>Rice University</td>\n",
       "      <td>NaN</td>\n",
       "    </tr>\n",
       "  </tbody>\n",
       "</table>\n",
       "</div>"
      ],
      "text/plain": [
       "   id  person_id                      instituition graduated_at\n",
       "0   1       6117                               NaN          NaN\n",
       "1   2       6136  Washington University, St. Louis   1990-01-01\n",
       "2   3       6136                 Boston University   1992-01-01\n",
       "3   4       6005           University of Greenwich   2006-01-01\n",
       "4   5       5832                   Rice University          NaN"
      ]
     },
     "execution_count": 10,
     "metadata": {},
     "output_type": "execute_result"
    }
   ],
   "source": [
    "education_df.head()"
   ]
  },
  {
   "cell_type": "markdown",
   "metadata": {},
   "source": [
    "### Промежуточный вывод по датасету `education_df`"
   ]
  },
  {
   "cell_type": "markdown",
   "metadata": {},
   "source": [
    "Датасет  `education_df` содержит 4 столбца и 109610 строк\n",
    "\n",
    "- Названия столбцов на первый взгляд не требуют предобработки\n",
    "- Пропуски содержатся в столбцах `instituition` и `graduated_at`\n",
    "- Столбец `graduated_at` содержит дату получения образования - следует привести к datetime\n",
    "- Значения в столбцах соответствуют своему описанию\n",
    "\n",
    "---"
   ]
  },
  {
   "cell_type": "code",
   "execution_count": 11,
   "metadata": {},
   "outputs": [
    {
     "name": "stdout",
     "output_type": "stream",
     "text": [
      "<class 'pandas.core.frame.DataFrame'>\n",
      "RangeIndex: 109610 entries, 0 to 109609\n",
      "Data columns (total 4 columns):\n",
      " #   Column       Non-Null Count   Dtype \n",
      "---  ------       --------------   ----- \n",
      " 0   id           109610 non-null  int64 \n",
      " 1   object_id    109610 non-null  object\n",
      " 2   degree_type  98392 non-null   object\n",
      " 3   subject      81298 non-null   object\n",
      "dtypes: int64(1), object(3)\n",
      "memory usage: 3.3+ MB\n"
     ]
    }
   ],
   "source": [
    "# degrees_df\n",
    "degrees_df.info()"
   ]
  },
  {
   "cell_type": "code",
   "execution_count": 12,
   "metadata": {},
   "outputs": [
    {
     "data": {
      "text/html": [
       "<div>\n",
       "<style scoped>\n",
       "    .dataframe tbody tr th:only-of-type {\n",
       "        vertical-align: middle;\n",
       "    }\n",
       "\n",
       "    .dataframe tbody tr th {\n",
       "        vertical-align: top;\n",
       "    }\n",
       "\n",
       "    .dataframe thead th {\n",
       "        text-align: right;\n",
       "    }\n",
       "</style>\n",
       "<table border=\"1\" class=\"dataframe\">\n",
       "  <thead>\n",
       "    <tr style=\"text-align: right;\">\n",
       "      <th></th>\n",
       "      <th>id</th>\n",
       "      <th>object_id</th>\n",
       "      <th>degree_type</th>\n",
       "      <th>subject</th>\n",
       "    </tr>\n",
       "  </thead>\n",
       "  <tbody>\n",
       "    <tr>\n",
       "      <th>0</th>\n",
       "      <td>1</td>\n",
       "      <td>p:6117</td>\n",
       "      <td>MBA</td>\n",
       "      <td>NaN</td>\n",
       "    </tr>\n",
       "    <tr>\n",
       "      <th>1</th>\n",
       "      <td>2</td>\n",
       "      <td>p:6136</td>\n",
       "      <td>BA</td>\n",
       "      <td>English, French</td>\n",
       "    </tr>\n",
       "    <tr>\n",
       "      <th>2</th>\n",
       "      <td>3</td>\n",
       "      <td>p:6136</td>\n",
       "      <td>MS</td>\n",
       "      <td>Mass Communication</td>\n",
       "    </tr>\n",
       "    <tr>\n",
       "      <th>3</th>\n",
       "      <td>4</td>\n",
       "      <td>p:6005</td>\n",
       "      <td>MS</td>\n",
       "      <td>Internet Technology</td>\n",
       "    </tr>\n",
       "    <tr>\n",
       "      <th>4</th>\n",
       "      <td>5</td>\n",
       "      <td>p:5832</td>\n",
       "      <td>BCS</td>\n",
       "      <td>Computer Science, Psychology</td>\n",
       "    </tr>\n",
       "    <tr>\n",
       "      <th>5</th>\n",
       "      <td>6</td>\n",
       "      <td>p:1017</td>\n",
       "      <td>BS</td>\n",
       "      <td>Computer Science</td>\n",
       "    </tr>\n",
       "    <tr>\n",
       "      <th>6</th>\n",
       "      <td>7</td>\n",
       "      <td>p:6176</td>\n",
       "      <td>BS</td>\n",
       "      <td>Computer Science</td>\n",
       "    </tr>\n",
       "    <tr>\n",
       "      <th>7</th>\n",
       "      <td>8</td>\n",
       "      <td>p:5412</td>\n",
       "      <td>MS</td>\n",
       "      <td>Politics</td>\n",
       "    </tr>\n",
       "    <tr>\n",
       "      <th>8</th>\n",
       "      <td>9</td>\n",
       "      <td>p:1243</td>\n",
       "      <td>BA</td>\n",
       "      <td>International Business &amp; Marketing</td>\n",
       "    </tr>\n",
       "    <tr>\n",
       "      <th>9</th>\n",
       "      <td>10</td>\n",
       "      <td>p:6265</td>\n",
       "      <td>BS</td>\n",
       "      <td>Economics</td>\n",
       "    </tr>\n",
       "  </tbody>\n",
       "</table>\n",
       "</div>"
      ],
      "text/plain": [
       "   id object_id degree_type                             subject\n",
       "0   1    p:6117         MBA                                 NaN\n",
       "1   2    p:6136          BA                     English, French\n",
       "2   3    p:6136          MS                  Mass Communication\n",
       "3   4    p:6005          MS                 Internet Technology\n",
       "4   5    p:5832         BCS        Computer Science, Psychology\n",
       "5   6    p:1017          BS                    Computer Science\n",
       "6   7    p:6176          BS                    Computer Science\n",
       "7   8    p:5412          MS                            Politics\n",
       "8   9    p:1243          BA  International Business & Marketing\n",
       "9  10    p:6265          BS                           Economics"
      ]
     },
     "execution_count": 12,
     "metadata": {},
     "output_type": "execute_result"
    }
   ],
   "source": [
    "degrees_df.head(10)"
   ]
  },
  {
   "cell_type": "markdown",
   "metadata": {},
   "source": [
    "### Промежуточный вывод по датасету `degrees_df`"
   ]
  },
  {
   "cell_type": "markdown",
   "metadata": {},
   "source": [
    "Датасет  `degrees_df` содержит 4 столбца и 109610 строк\n",
    "\n",
    "- Названия столбцов на первый взгляд не требуют предобработки\n",
    "- Пропуски содержатся в столбцах `degree_type` и `subject`\n",
    "- Из данных столбца `object_id` следует удалить приписку `p.` и привести столбец к формату int64\n",
    "- Значения в столбцах соответствуют своему описанию"
   ]
  },
  {
   "cell_type": "markdown",
   "metadata": {},
   "source": [
    "### Промежуточный вывод по содержанию датасетов"
   ]
  },
  {
   "cell_type": "markdown",
   "metadata": {},
   "source": [
    "- Во всех датафреймах замечено большое количество пропусков, необходимо их обработать.\n",
    "- После предобработки пропусков следует изменить типы данных в некоторых столбцах на подходящие.\n",
    "- В некоторых датафреймах необходимо привести названия столбцов в формат snake_case, чтобы с ними было удобнее работать в дальнейшем.\n",
    "- Во всех датафреймах столбец id означает разное (покупка, компания, человек, образование и т. д.). Их следует переименовать для более удобной работы в дальнейшем.\n",
    "- Следует исследовать по каким столбцам соединяются таблицы и привести их к оиднаковым названиям."
   ]
  },
  {
   "cell_type": "markdown",
   "metadata": {},
   "source": [
    "### Изменение названий столбцов "
   ]
  },
  {
   "cell_type": "code",
   "execution_count": 13,
   "metadata": {},
   "outputs": [],
   "source": [
    "# Удаляем столбец-дубликат\n",
    "company_and_rounds_df.drop(columns='company  id', axis=1, inplace=True)"
   ]
  },
  {
   "cell_type": "code",
   "execution_count": 14,
   "metadata": {
    "scrolled": true
   },
   "outputs": [
    {
     "name": "stdout",
     "output_type": "stream",
     "text": [
      "<class 'pandas.core.frame.DataFrame'>\n",
      "RangeIndex: 217774 entries, 0 to 217773\n",
      "Data columns (total 21 columns):\n",
      " #   Column               Non-Null Count   Dtype  \n",
      "---  ------               --------------   -----  \n",
      " 0   company_id           217472 non-null  float64\n",
      " 1   name                 217472 non-null  object \n",
      " 2   category_code        143886 non-null  object \n",
      " 3   status               217472 non-null  object \n",
      " 4   founded_at           109956 non-null  object \n",
      " 5   closed_at            3449 non-null    object \n",
      " 6   domain               147159 non-null  object \n",
      " 7   network_username     95534 non-null   object \n",
      " 8   country_code         108607 non-null  object \n",
      " 9   investment_rounds    217472 non-null  float64\n",
      " 10  funding_rounds       217472 non-null  float64\n",
      " 11  funding_total        217472 non-null  float64\n",
      " 12  milestones           217472 non-null  float64\n",
      " 13  funding_round_id     52928 non-null   float64\n",
      " 14  funded_at            52680 non-null   object \n",
      " 15  funding_round_type   52928 non-null   object \n",
      " 16  raised_amount        52928 non-null   float64\n",
      " 17  pre_money_valuation  52928 non-null   float64\n",
      " 18  participants         52928 non-null   float64\n",
      " 19  is_first_round       52928 non-null   float64\n",
      " 20  is_last_round        52928 non-null   float64\n",
      "dtypes: float64(11), object(10)\n",
      "memory usage: 34.9+ MB\n"
     ]
    }
   ],
   "source": [
    "new_columns = {}\n",
    "for column in company_and_rounds_df:\n",
    "    new_column = column.lower().replace('  ', '_')\n",
    "    new_columns[column] = new_column\n",
    "\n",
    "company_and_rounds_df = company_and_rounds_df.rename(columns = new_columns)\n",
    "company_and_rounds_df.info()"
   ]
  },
  {
   "cell_type": "markdown",
   "metadata": {},
   "source": [
    "---"
   ]
  },
  {
   "cell_type": "code",
   "execution_count": 15,
   "metadata": {
    "scrolled": true
   },
   "outputs": [
    {
     "name": "stdout",
     "output_type": "stream",
     "text": [
      "<class 'pandas.core.frame.DataFrame'>\n",
      "RangeIndex: 9407 entries, 0 to 9406\n",
      "Data columns (total 6 columns):\n",
      " #   Column                Non-Null Count  Dtype \n",
      "---  ------                --------------  ----- \n",
      " 0   acquisition_id        9407 non-null   int64 \n",
      " 1   acquiring_company_id  9407 non-null   int64 \n",
      " 2   acquired_company_id   9407 non-null   int64 \n",
      " 3   term_code             1831 non-null   object\n",
      " 4   price_amount          9407 non-null   int64 \n",
      " 5   acquired_at           9378 non-null   object\n",
      "dtypes: int64(4), object(2)\n",
      "memory usage: 441.1+ KB\n"
     ]
    }
   ],
   "source": [
    "acquisition_df = acquisition_df.rename(columns = {'id': 'acquisition_id'})\n",
    "acquisition_df.info()"
   ]
  },
  {
   "cell_type": "markdown",
   "metadata": {},
   "source": [
    "---"
   ]
  },
  {
   "cell_type": "code",
   "execution_count": 16,
   "metadata": {
    "scrolled": true
   },
   "outputs": [
    {
     "name": "stdout",
     "output_type": "stream",
     "text": [
      "<class 'pandas.core.frame.DataFrame'>\n",
      "RangeIndex: 226709 entries, 0 to 226708\n",
      "Data columns (total 5 columns):\n",
      " #   Column            Non-Null Count   Dtype  \n",
      "---  ------            --------------   -----  \n",
      " 0   person_id         226709 non-null  int64  \n",
      " 1   first_name        226704 non-null  object \n",
      " 2   last_name         226708 non-null  object \n",
      " 3   company_id        34615 non-null   float64\n",
      " 4   network_username  38867 non-null   object \n",
      "dtypes: float64(1), int64(1), object(3)\n",
      "memory usage: 8.6+ MB\n"
     ]
    }
   ],
   "source": [
    "people_df = people_df.rename(columns = {'id': 'person_id'})\n",
    "people_df.info()"
   ]
  },
  {
   "cell_type": "markdown",
   "metadata": {},
   "source": [
    "---"
   ]
  },
  {
   "cell_type": "code",
   "execution_count": 17,
   "metadata": {
    "scrolled": true
   },
   "outputs": [
    {
     "name": "stdout",
     "output_type": "stream",
     "text": [
      "<class 'pandas.core.frame.DataFrame'>\n",
      "RangeIndex: 109610 entries, 0 to 109609\n",
      "Data columns (total 4 columns):\n",
      " #   Column        Non-Null Count   Dtype \n",
      "---  ------        --------------   ----- \n",
      " 0   education_id  109610 non-null  int64 \n",
      " 1   person_id     109610 non-null  int64 \n",
      " 2   instituition  109555 non-null  object\n",
      " 3   graduated_at  58054 non-null   object\n",
      "dtypes: int64(2), object(2)\n",
      "memory usage: 3.3+ MB\n"
     ]
    }
   ],
   "source": [
    "education_df = education_df.rename(columns = {'id': 'education_id'})\n",
    "education_df.info()"
   ]
  },
  {
   "cell_type": "markdown",
   "metadata": {},
   "source": [
    "---"
   ]
  },
  {
   "cell_type": "code",
   "execution_count": 18,
   "metadata": {
    "scrolled": true
   },
   "outputs": [
    {
     "name": "stdout",
     "output_type": "stream",
     "text": [
      "<class 'pandas.core.frame.DataFrame'>\n",
      "RangeIndex: 109610 entries, 0 to 109609\n",
      "Data columns (total 4 columns):\n",
      " #   Column        Non-Null Count   Dtype \n",
      "---  ------        --------------   ----- \n",
      " 0   education_id  109610 non-null  int64 \n",
      " 1   person_id     109610 non-null  object\n",
      " 2   degree_type   98392 non-null   object\n",
      " 3   subject       81298 non-null   object\n",
      "dtypes: int64(1), object(3)\n",
      "memory usage: 3.3+ MB\n"
     ]
    }
   ],
   "source": [
    "degrees_df = degrees_df.rename(columns = {'id': 'education_id',\n",
    "                                           'object_id' : 'person_id'\n",
    "                                         })\n",
    "degrees_df.info()"
   ]
  },
  {
   "cell_type": "markdown",
   "metadata": {},
   "source": [
    "### Промежуточный вывод по изменению названий столбцов\n",
    "\n",
    "В датасете **company_and_rounds_df**:\n",
    "\n",
    "- Из датафрейма был удален столбец-дубль `company  id`\n",
    "- Все столбцы приведены к формату snake_case\n",
    "\n",
    "Во всех датасетах столбцы `id` получили уникальные названия, для более удобной работы в дальнейшем\n",
    "\n",
    "В датасете **degrees_df** столбец `object_id` переименован в `person_id`"
   ]
  },
  {
   "cell_type": "markdown",
   "metadata": {
    "id": "mg2gEwh0rJg0"
   },
   "source": [
    "### Смена типов и анализ пропусков\n",
    "\n",
    "- Оцените полноту данных — сделайте предварительный вывод, достаточно ли данных для решения задач проекта."
   ]
  },
  {
   "cell_type": "markdown",
   "metadata": {},
   "source": [
    "#### Меняем в типы данных столбцах, которые хранят значения даты и времени"
   ]
  },
  {
   "cell_type": "code",
   "execution_count": 19,
   "metadata": {
    "id": "FsL0A8RBrJg1",
    "vscode": {
     "languageId": "plaintext"
    }
   },
   "outputs": [
    {
     "name": "stdout",
     "output_type": "stream",
     "text": [
      "<class 'pandas.core.frame.DataFrame'>\n",
      "RangeIndex: 9407 entries, 0 to 9406\n",
      "Data columns (total 6 columns):\n",
      " #   Column                Non-Null Count  Dtype         \n",
      "---  ------                --------------  -----         \n",
      " 0   acquisition_id        9407 non-null   int64         \n",
      " 1   acquiring_company_id  9407 non-null   int64         \n",
      " 2   acquired_company_id   9407 non-null   int64         \n",
      " 3   term_code             1831 non-null   object        \n",
      " 4   price_amount          9407 non-null   int64         \n",
      " 5   acquired_at           9378 non-null   datetime64[ns]\n",
      "dtypes: datetime64[ns](1), int64(4), object(1)\n",
      "memory usage: 441.1+ KB\n"
     ]
    }
   ],
   "source": [
    "acquisition_df['acquired_at'] = pd.to_datetime(acquisition_df['acquired_at'])\n",
    "acquisition_df.info()"
   ]
  },
  {
   "cell_type": "code",
   "execution_count": 20,
   "metadata": {
    "id": "46VskrGyFeJ-"
   },
   "outputs": [
    {
     "name": "stdout",
     "output_type": "stream",
     "text": [
      "<class 'pandas.core.frame.DataFrame'>\n",
      "RangeIndex: 217774 entries, 0 to 217773\n",
      "Data columns (total 21 columns):\n",
      " #   Column               Non-Null Count   Dtype         \n",
      "---  ------               --------------   -----         \n",
      " 0   company_id           217472 non-null  float64       \n",
      " 1   name                 217472 non-null  object        \n",
      " 2   category_code        143886 non-null  object        \n",
      " 3   status               217472 non-null  object        \n",
      " 4   founded_at           109956 non-null  datetime64[ns]\n",
      " 5   closed_at            3449 non-null    datetime64[ns]\n",
      " 6   domain               147159 non-null  object        \n",
      " 7   network_username     95534 non-null   object        \n",
      " 8   country_code         108607 non-null  object        \n",
      " 9   investment_rounds    217472 non-null  float64       \n",
      " 10  funding_rounds       217472 non-null  float64       \n",
      " 11  funding_total        217472 non-null  float64       \n",
      " 12  milestones           217472 non-null  float64       \n",
      " 13  funding_round_id     52928 non-null   float64       \n",
      " 14  funded_at            52680 non-null   datetime64[ns]\n",
      " 15  funding_round_type   52928 non-null   object        \n",
      " 16  raised_amount        52928 non-null   float64       \n",
      " 17  pre_money_valuation  52928 non-null   float64       \n",
      " 18  participants         52928 non-null   float64       \n",
      " 19  is_first_round       52928 non-null   float64       \n",
      " 20  is_last_round        52928 non-null   float64       \n",
      "dtypes: datetime64[ns](3), float64(11), object(7)\n",
      "memory usage: 34.9+ MB\n"
     ]
    }
   ],
   "source": [
    "company_and_rounds_df['founded_at'] = pd.to_datetime(company_and_rounds_df['founded_at'])\n",
    "company_and_rounds_df['closed_at'] = pd.to_datetime(company_and_rounds_df['closed_at'])\n",
    "company_and_rounds_df['funded_at'] = pd.to_datetime(company_and_rounds_df['funded_at'])\n",
    "company_and_rounds_df.info()"
   ]
  },
  {
   "cell_type": "code",
   "execution_count": 21,
   "metadata": {
    "id": "DEg1tl8DFeBn"
   },
   "outputs": [
    {
     "name": "stdout",
     "output_type": "stream",
     "text": [
      "<class 'pandas.core.frame.DataFrame'>\n",
      "RangeIndex: 109610 entries, 0 to 109609\n",
      "Data columns (total 4 columns):\n",
      " #   Column        Non-Null Count   Dtype         \n",
      "---  ------        --------------   -----         \n",
      " 0   education_id  109610 non-null  int64         \n",
      " 1   person_id     109610 non-null  int64         \n",
      " 2   instituition  109555 non-null  object        \n",
      " 3   graduated_at  58054 non-null   datetime64[ns]\n",
      "dtypes: datetime64[ns](1), int64(2), object(1)\n",
      "memory usage: 3.3+ MB\n"
     ]
    }
   ],
   "source": [
    "education_df['graduated_at'] = pd.to_datetime(education_df['graduated_at'])\n",
    "education_df.info()"
   ]
  },
  {
   "cell_type": "markdown",
   "metadata": {},
   "source": [
    "#### Работа с пропусками"
   ]
  },
  {
   "cell_type": "markdown",
   "metadata": {},
   "source": [
    "Пропуски в `acquisition_df`"
   ]
  },
  {
   "cell_type": "code",
   "execution_count": 22,
   "metadata": {
    "scrolled": true
   },
   "outputs": [
    {
     "data": {
      "text/html": [
       "<div>\n",
       "<style scoped>\n",
       "    .dataframe tbody tr th:only-of-type {\n",
       "        vertical-align: middle;\n",
       "    }\n",
       "\n",
       "    .dataframe tbody tr th {\n",
       "        vertical-align: top;\n",
       "    }\n",
       "\n",
       "    .dataframe thead th {\n",
       "        text-align: right;\n",
       "    }\n",
       "</style>\n",
       "<table border=\"1\" class=\"dataframe\">\n",
       "  <thead>\n",
       "    <tr style=\"text-align: right;\">\n",
       "      <th></th>\n",
       "      <th>Абсолютные значения</th>\n",
       "      <th>Относительные значения (%)</th>\n",
       "    </tr>\n",
       "  </thead>\n",
       "  <tbody>\n",
       "    <tr>\n",
       "      <th>acquisition_id</th>\n",
       "      <td>0</td>\n",
       "      <td>0.00</td>\n",
       "    </tr>\n",
       "    <tr>\n",
       "      <th>acquiring_company_id</th>\n",
       "      <td>0</td>\n",
       "      <td>0.00</td>\n",
       "    </tr>\n",
       "    <tr>\n",
       "      <th>acquired_company_id</th>\n",
       "      <td>0</td>\n",
       "      <td>0.00</td>\n",
       "    </tr>\n",
       "    <tr>\n",
       "      <th>term_code</th>\n",
       "      <td>7576</td>\n",
       "      <td>80.54</td>\n",
       "    </tr>\n",
       "    <tr>\n",
       "      <th>price_amount</th>\n",
       "      <td>0</td>\n",
       "      <td>0.00</td>\n",
       "    </tr>\n",
       "    <tr>\n",
       "      <th>acquired_at</th>\n",
       "      <td>29</td>\n",
       "      <td>0.31</td>\n",
       "    </tr>\n",
       "  </tbody>\n",
       "</table>\n",
       "</div>"
      ],
      "text/plain": [
       "                      Абсолютные значения  Относительные значения (%)\n",
       "acquisition_id                          0                        0.00\n",
       "acquiring_company_id                    0                        0.00\n",
       "acquired_company_id                     0                        0.00\n",
       "term_code                            7576                       80.54\n",
       "price_amount                            0                        0.00\n",
       "acquired_at                            29                        0.31"
      ]
     },
     "execution_count": 22,
     "metadata": {},
     "output_type": "execute_result"
    }
   ],
   "source": [
    "abs_omissions_acquisition = acquisition_df.isna().sum()\n",
    "otn_omissions_acquisition = round(acquisition_df.isna().sum() / acquisition_df.shape[0] * 100, 2)\n",
    "omissions_acquisition_df = pd.DataFrame({\n",
    "                                         'Абсолютные значения': abs_omissions_acquisition,\n",
    "                                         'Относительные значения (%)': otn_omissions_acquisition\n",
    "                                        })\n",
    "omissions_acquisition_df"
   ]
  },
  {
   "cell_type": "markdown",
   "metadata": {},
   "source": [
    "В столбце acquired_at 29 пропусков(0.31%) \n",
    "\n",
    "Возможными причинами данных пропусков может стать:\n",
    "- Опечатки при вводе даты.\n",
    "- Сделки, где дата не была задокументирована.\n",
    "\n",
    "Так как процент пропусков меньше 0.5, то их можно удалить и это не повлияет на репрезентативность данных (0.3% — незначительное количество).\n",
    "\n",
    "В столбце term_code\t7576 пропусков(80.54%)\n",
    "\n",
    "Возможные причины пропусков:\n",
    "\n",
    "- Сделки без указанных условий оплаты.\n",
    "- Данные не собирались для ранних сделок.\n",
    "\n",
    "Так как количество пропусков значительно, то оставим столбец без изменений. Если в дальнейшем он понадобится для анализа, то заменим пропуски на заглушку."
   ]
  },
  {
   "cell_type": "code",
   "execution_count": 23,
   "metadata": {},
   "outputs": [
    {
     "name": "stdout",
     "output_type": "stream",
     "text": [
      "<class 'pandas.core.frame.DataFrame'>\n",
      "Int64Index: 9378 entries, 0 to 9406\n",
      "Data columns (total 6 columns):\n",
      " #   Column                Non-Null Count  Dtype         \n",
      "---  ------                --------------  -----         \n",
      " 0   acquisition_id        9378 non-null   int64         \n",
      " 1   acquiring_company_id  9378 non-null   int64         \n",
      " 2   acquired_company_id   9378 non-null   int64         \n",
      " 3   term_code             1826 non-null   object        \n",
      " 4   price_amount          9378 non-null   int64         \n",
      " 5   acquired_at           9378 non-null   datetime64[ns]\n",
      "dtypes: datetime64[ns](1), int64(4), object(1)\n",
      "memory usage: 512.9+ KB\n"
     ]
    }
   ],
   "source": [
    "# Удаляем пропуски в acquired_at\n",
    "acquisition_df.dropna(subset=['acquired_at'], inplace = True)\n",
    "acquisition_df.info()"
   ]
  },
  {
   "cell_type": "markdown",
   "metadata": {},
   "source": [
    "---"
   ]
  },
  {
   "cell_type": "markdown",
   "metadata": {},
   "source": [
    "Пропуски в `company_and_rounds_df`"
   ]
  },
  {
   "cell_type": "code",
   "execution_count": 24,
   "metadata": {},
   "outputs": [
    {
     "data": {
      "text/html": [
       "<div>\n",
       "<style scoped>\n",
       "    .dataframe tbody tr th:only-of-type {\n",
       "        vertical-align: middle;\n",
       "    }\n",
       "\n",
       "    .dataframe tbody tr th {\n",
       "        vertical-align: top;\n",
       "    }\n",
       "\n",
       "    .dataframe thead th {\n",
       "        text-align: right;\n",
       "    }\n",
       "</style>\n",
       "<table border=\"1\" class=\"dataframe\">\n",
       "  <thead>\n",
       "    <tr style=\"text-align: right;\">\n",
       "      <th></th>\n",
       "      <th>Абсолютные значения</th>\n",
       "      <th>Относительные значения (%)</th>\n",
       "    </tr>\n",
       "  </thead>\n",
       "  <tbody>\n",
       "    <tr>\n",
       "      <th>company_id</th>\n",
       "      <td>302</td>\n",
       "      <td>0.14</td>\n",
       "    </tr>\n",
       "    <tr>\n",
       "      <th>name</th>\n",
       "      <td>302</td>\n",
       "      <td>0.14</td>\n",
       "    </tr>\n",
       "    <tr>\n",
       "      <th>category_code</th>\n",
       "      <td>73888</td>\n",
       "      <td>33.93</td>\n",
       "    </tr>\n",
       "    <tr>\n",
       "      <th>status</th>\n",
       "      <td>302</td>\n",
       "      <td>0.14</td>\n",
       "    </tr>\n",
       "    <tr>\n",
       "      <th>founded_at</th>\n",
       "      <td>107818</td>\n",
       "      <td>49.51</td>\n",
       "    </tr>\n",
       "    <tr>\n",
       "      <th>closed_at</th>\n",
       "      <td>214325</td>\n",
       "      <td>98.42</td>\n",
       "    </tr>\n",
       "    <tr>\n",
       "      <th>domain</th>\n",
       "      <td>70615</td>\n",
       "      <td>32.43</td>\n",
       "    </tr>\n",
       "    <tr>\n",
       "      <th>network_username</th>\n",
       "      <td>122240</td>\n",
       "      <td>56.13</td>\n",
       "    </tr>\n",
       "    <tr>\n",
       "      <th>country_code</th>\n",
       "      <td>109167</td>\n",
       "      <td>50.13</td>\n",
       "    </tr>\n",
       "    <tr>\n",
       "      <th>investment_rounds</th>\n",
       "      <td>302</td>\n",
       "      <td>0.14</td>\n",
       "    </tr>\n",
       "    <tr>\n",
       "      <th>funding_rounds</th>\n",
       "      <td>302</td>\n",
       "      <td>0.14</td>\n",
       "    </tr>\n",
       "    <tr>\n",
       "      <th>funding_total</th>\n",
       "      <td>302</td>\n",
       "      <td>0.14</td>\n",
       "    </tr>\n",
       "    <tr>\n",
       "      <th>milestones</th>\n",
       "      <td>302</td>\n",
       "      <td>0.14</td>\n",
       "    </tr>\n",
       "    <tr>\n",
       "      <th>funding_round_id</th>\n",
       "      <td>164846</td>\n",
       "      <td>75.70</td>\n",
       "    </tr>\n",
       "    <tr>\n",
       "      <th>funded_at</th>\n",
       "      <td>165094</td>\n",
       "      <td>75.81</td>\n",
       "    </tr>\n",
       "    <tr>\n",
       "      <th>funding_round_type</th>\n",
       "      <td>164846</td>\n",
       "      <td>75.70</td>\n",
       "    </tr>\n",
       "    <tr>\n",
       "      <th>raised_amount</th>\n",
       "      <td>164846</td>\n",
       "      <td>75.70</td>\n",
       "    </tr>\n",
       "    <tr>\n",
       "      <th>pre_money_valuation</th>\n",
       "      <td>164846</td>\n",
       "      <td>75.70</td>\n",
       "    </tr>\n",
       "    <tr>\n",
       "      <th>participants</th>\n",
       "      <td>164846</td>\n",
       "      <td>75.70</td>\n",
       "    </tr>\n",
       "    <tr>\n",
       "      <th>is_first_round</th>\n",
       "      <td>164846</td>\n",
       "      <td>75.70</td>\n",
       "    </tr>\n",
       "    <tr>\n",
       "      <th>is_last_round</th>\n",
       "      <td>164846</td>\n",
       "      <td>75.70</td>\n",
       "    </tr>\n",
       "  </tbody>\n",
       "</table>\n",
       "</div>"
      ],
      "text/plain": [
       "                     Абсолютные значения  Относительные значения (%)\n",
       "company_id                           302                        0.14\n",
       "name                                 302                        0.14\n",
       "category_code                      73888                       33.93\n",
       "status                               302                        0.14\n",
       "founded_at                        107818                       49.51\n",
       "closed_at                         214325                       98.42\n",
       "domain                             70615                       32.43\n",
       "network_username                  122240                       56.13\n",
       "country_code                      109167                       50.13\n",
       "investment_rounds                    302                        0.14\n",
       "funding_rounds                       302                        0.14\n",
       "funding_total                        302                        0.14\n",
       "milestones                           302                        0.14\n",
       "funding_round_id                  164846                       75.70\n",
       "funded_at                         165094                       75.81\n",
       "funding_round_type                164846                       75.70\n",
       "raised_amount                     164846                       75.70\n",
       "pre_money_valuation               164846                       75.70\n",
       "participants                      164846                       75.70\n",
       "is_first_round                    164846                       75.70\n",
       "is_last_round                     164846                       75.70"
      ]
     },
     "execution_count": 24,
     "metadata": {},
     "output_type": "execute_result"
    }
   ],
   "source": [
    "abs_omissions_company_and_rounds = company_and_rounds_df.isna().sum()\n",
    "otn_omissions_company_and_rounds = round(company_and_rounds_df.isna().sum() / company_and_rounds_df.shape[0] * 100, 2)\n",
    "omissions_company_and_rounds_df = pd.DataFrame({\n",
    "                                         'Абсолютные значения': abs_omissions_company_and_rounds,\n",
    "                                         'Относительные значения (%)': otn_omissions_company_and_rounds\n",
    "                                        })\n",
    "omissions_company_and_rounds_df "
   ]
  },
  {
   "cell_type": "markdown",
   "metadata": {},
   "source": [
    "Каждый столбец данного датасета содержит пропуски\n",
    "\n",
    "1. **Малое количество пропусков(<1%)**\n",
    "\n",
    "В столбцах company_id, name, status, investment_rounds, funding_rounds, funding_total, milestones содержатся по 302 пропуска(0.14%). Одинаковое значение пропусков в каждом столбце может быть связано с тем, что пропуски находятся в одних и тех же строках. В дальнейшем, если не получится восстановить эти пропуски, то их можно удалить, так как данное количество пропусков является малым и не повлияет на репрезентативность данных, если их удалить.\n",
    "\n",
    "2. **Умеренное количество пропусков (1-50%)**\n",
    "\n",
    "- category_code (33.93%) \n",
    "- founded_at (49.51%)\n",
    "- domain (32.43%)\n",
    "- country_code (50.13%)\n",
    "\n",
    "***Возможные причины:***\n",
    "\n",
    "- Данные собирались не для всех компаний\n",
    "- Некоторые компании не имеют четкой категории/домена\n",
    "- Некоторые компании не получают инвестиции, следовательно для них нет даты инвестировании\n",
    "\n",
    "***Возможные решения:***\n",
    "\n",
    "- Оставить столбцы без изменений, если они не пригодятся для дальнейшего анализа\n",
    "- Для category_code и country_code: заполнить значением-индикатором \"unknown\"\n",
    "- Для founded_at: удалить строки или заполнить медианной датой\n",
    "- Для domain: заполнить значением-индикатором \"unknown\"\n",
    "\n",
    "3. **Критичные пропуски (>50%)**\n",
    "\n",
    "- closed_at (98.42%)\n",
    "- network_username (56.13%)\n",
    "\n",
    "- Все столбцы, связанные с раундами финансирования примерно 75% пропусков:\n",
    "    - funding_round_id\n",
    "    - funded_at\n",
    "    - funding_round_type\n",
    "    - raised_amount\n",
    "    - pre_money_valuation\n",
    "    - participants\n",
    "    - is_first_round\n",
    "    - is_last_round\n",
    "\n",
    "***Возможные причины:***\n",
    "\n",
    "closed_at: почти все компании активны (что логично для стартапов).\n",
    "\n",
    "network_username: некоторые компании ещё не создали аккаунт в сети.\n",
    "\n",
    "Данные по финансированию отсутствуют у большинства компаний (возможно, нет открытых данных).\n",
    "\n",
    "***Возможные решения:***\n",
    "\n",
    " - Для closed_at: заменить пропуски на значение-индикатром, чтобы можно было анализировать данные в разрезе закрытых и незакрытых компаний.\n",
    "\n",
    "- Для данных о финансировании: можно создать столбец с бинарным признаком has_funding: \n",
    "\n",
    "    1 - у компании есть данные о финансировании;\n",
    "\n",
    "    0 — нет данных о финансировании.\n",
    "\n",
    "- network_username (56% пропусков):\n",
    "\n",
    "    Если соцсети не важны для анализа — удалить столбец.\n",
    "\n",
    "    Если важны — заменить пропуски на значение-индикатор."
   ]
  },
  {
   "cell_type": "markdown",
   "metadata": {},
   "source": [
    "---"
   ]
  },
  {
   "cell_type": "markdown",
   "metadata": {},
   "source": [
    "Пропуски в `people_df`"
   ]
  },
  {
   "cell_type": "code",
   "execution_count": 25,
   "metadata": {},
   "outputs": [
    {
     "data": {
      "text/html": [
       "<div>\n",
       "<style scoped>\n",
       "    .dataframe tbody tr th:only-of-type {\n",
       "        vertical-align: middle;\n",
       "    }\n",
       "\n",
       "    .dataframe tbody tr th {\n",
       "        vertical-align: top;\n",
       "    }\n",
       "\n",
       "    .dataframe thead th {\n",
       "        text-align: right;\n",
       "    }\n",
       "</style>\n",
       "<table border=\"1\" class=\"dataframe\">\n",
       "  <thead>\n",
       "    <tr style=\"text-align: right;\">\n",
       "      <th></th>\n",
       "      <th>Абсолютные значения</th>\n",
       "      <th>Относительные значения (%)</th>\n",
       "    </tr>\n",
       "  </thead>\n",
       "  <tbody>\n",
       "    <tr>\n",
       "      <th>person_id</th>\n",
       "      <td>0</td>\n",
       "      <td>0.00</td>\n",
       "    </tr>\n",
       "    <tr>\n",
       "      <th>first_name</th>\n",
       "      <td>5</td>\n",
       "      <td>0.00</td>\n",
       "    </tr>\n",
       "    <tr>\n",
       "      <th>last_name</th>\n",
       "      <td>1</td>\n",
       "      <td>0.00</td>\n",
       "    </tr>\n",
       "    <tr>\n",
       "      <th>company_id</th>\n",
       "      <td>192094</td>\n",
       "      <td>84.73</td>\n",
       "    </tr>\n",
       "    <tr>\n",
       "      <th>network_username</th>\n",
       "      <td>187842</td>\n",
       "      <td>82.86</td>\n",
       "    </tr>\n",
       "  </tbody>\n",
       "</table>\n",
       "</div>"
      ],
      "text/plain": [
       "                  Абсолютные значения  Относительные значения (%)\n",
       "person_id                           0                        0.00\n",
       "first_name                          5                        0.00\n",
       "last_name                           1                        0.00\n",
       "company_id                     192094                       84.73\n",
       "network_username               187842                       82.86"
      ]
     },
     "execution_count": 25,
     "metadata": {},
     "output_type": "execute_result"
    }
   ],
   "source": [
    "abs_omissions_people = people_df.isna().sum()\n",
    "otn_omissions_people = round(people_df.isna().sum() / people_df.shape[0] * 100, 2)\n",
    "omissions_people_df = pd.DataFrame({\n",
    "                                    'Абсолютные значения': abs_omissions_people,\n",
    "                                    'Относительные значения (%)': otn_omissions_people\n",
    "                                    })\n",
    "omissions_people_df"
   ]
  },
  {
   "cell_type": "markdown",
   "metadata": {},
   "source": [
    "Незначительное количество пропусков обнаружено в столбцах first_name(5) и last_name(1), это может быть связано с тем, что у некоторых людей нет имени или фамилии(особенность страны или культуры), стоит проверить нет ли людей с пропусками сразу в обоих этих столбцах.\n",
    "\n",
    "Большое количество пропусков содержится в столбцах company_id и network_username - 84.73% и 82.86% соответственно.\n",
    "\n",
    "Пропуски в этих столбцах могут быть обусловлены тем, что при сборе данных они были не обязательными для заполнения. Также пропуски в столбце company_id могут быть связаны с тем, что некоторые люди являются независимыми специалистами.\n",
    "\n",
    "Так как количество пропусков в этих столбцах значительно, то в столбце company_id заменим их на заглушку, чтобы привести данные в этом столбце к более подходящему формату формату: int64, а столбец network_username оставим без изменений. Если в дальнейшем он понадобится для анализа, то заменим пропуски на заглушку."
   ]
  },
  {
   "cell_type": "code",
   "execution_count": 26,
   "metadata": {},
   "outputs": [
    {
     "data": {
      "text/html": [
       "<div>\n",
       "<style scoped>\n",
       "    .dataframe tbody tr th:only-of-type {\n",
       "        vertical-align: middle;\n",
       "    }\n",
       "\n",
       "    .dataframe tbody tr th {\n",
       "        vertical-align: top;\n",
       "    }\n",
       "\n",
       "    .dataframe thead th {\n",
       "        text-align: right;\n",
       "    }\n",
       "</style>\n",
       "<table border=\"1\" class=\"dataframe\">\n",
       "  <thead>\n",
       "    <tr style=\"text-align: right;\">\n",
       "      <th></th>\n",
       "      <th>person_id</th>\n",
       "      <th>first_name</th>\n",
       "      <th>last_name</th>\n",
       "      <th>company_id</th>\n",
       "      <th>network_username</th>\n",
       "    </tr>\n",
       "  </thead>\n",
       "  <tbody>\n",
       "    <tr>\n",
       "      <th>207997</th>\n",
       "      <td>78517</td>\n",
       "      <td>NaN</td>\n",
       "      <td>NaN</td>\n",
       "      <td>29.0</td>\n",
       "      <td>NaN</td>\n",
       "    </tr>\n",
       "  </tbody>\n",
       "</table>\n",
       "</div>"
      ],
      "text/plain": [
       "        person_id first_name last_name  company_id network_username\n",
       "207997      78517        NaN       NaN        29.0              NaN"
      ]
     },
     "execution_count": 26,
     "metadata": {},
     "output_type": "execute_result"
    }
   ],
   "source": [
    "people_df[(people_df['first_name'].isna() == 1) & (people_df['last_name'].isna() == 1)]"
   ]
  },
  {
   "cell_type": "markdown",
   "metadata": {},
   "source": [
    "Найдена строка, где у человека нет ни имени, ни фамилии. Удалим её."
   ]
  },
  {
   "cell_type": "code",
   "execution_count": 27,
   "metadata": {
    "scrolled": false
   },
   "outputs": [
    {
     "name": "stdout",
     "output_type": "stream",
     "text": [
      "<class 'pandas.core.frame.DataFrame'>\n",
      "Int64Index: 226708 entries, 0 to 226708\n",
      "Data columns (total 5 columns):\n",
      " #   Column            Non-Null Count   Dtype \n",
      "---  ------            --------------   ----- \n",
      " 0   person_id         226708 non-null  int64 \n",
      " 1   first_name        226704 non-null  object\n",
      " 2   last_name         226708 non-null  object\n",
      " 3   company_id        226708 non-null  int64 \n",
      " 4   network_username  38867 non-null   object\n",
      "dtypes: int64(2), object(3)\n",
      "memory usage: 10.4+ MB\n"
     ]
    }
   ],
   "source": [
    "people_df.dropna(subset=['last_name'], inplace=True) # Удаляем строку с пропущенным именем и фамилией\n",
    "\n",
    "# Заменяем пропуски в company_id на -1\n",
    "people_df['company_id'] = people_df['company_id'].fillna(-1)\n",
    "\n",
    "# Меняем тип данных в company_id на int64\n",
    "people_df['company_id'] = people_df['company_id'].astype('int64')\n",
    "\n",
    "people_df.info()\n"
   ]
  },
  {
   "cell_type": "markdown",
   "metadata": {},
   "source": [
    "---"
   ]
  },
  {
   "cell_type": "markdown",
   "metadata": {},
   "source": [
    "Пропуски в `education_df`"
   ]
  },
  {
   "cell_type": "code",
   "execution_count": 28,
   "metadata": {},
   "outputs": [
    {
     "data": {
      "text/html": [
       "<div>\n",
       "<style scoped>\n",
       "    .dataframe tbody tr th:only-of-type {\n",
       "        vertical-align: middle;\n",
       "    }\n",
       "\n",
       "    .dataframe tbody tr th {\n",
       "        vertical-align: top;\n",
       "    }\n",
       "\n",
       "    .dataframe thead th {\n",
       "        text-align: right;\n",
       "    }\n",
       "</style>\n",
       "<table border=\"1\" class=\"dataframe\">\n",
       "  <thead>\n",
       "    <tr style=\"text-align: right;\">\n",
       "      <th></th>\n",
       "      <th>Абсолютные значения</th>\n",
       "      <th>Относительные значения (%)</th>\n",
       "    </tr>\n",
       "  </thead>\n",
       "  <tbody>\n",
       "    <tr>\n",
       "      <th>education_id</th>\n",
       "      <td>0</td>\n",
       "      <td>0.00</td>\n",
       "    </tr>\n",
       "    <tr>\n",
       "      <th>person_id</th>\n",
       "      <td>0</td>\n",
       "      <td>0.00</td>\n",
       "    </tr>\n",
       "    <tr>\n",
       "      <th>instituition</th>\n",
       "      <td>55</td>\n",
       "      <td>0.05</td>\n",
       "    </tr>\n",
       "    <tr>\n",
       "      <th>graduated_at</th>\n",
       "      <td>51556</td>\n",
       "      <td>47.04</td>\n",
       "    </tr>\n",
       "  </tbody>\n",
       "</table>\n",
       "</div>"
      ],
      "text/plain": [
       "              Абсолютные значения  Относительные значения (%)\n",
       "education_id                    0                        0.00\n",
       "person_id                       0                        0.00\n",
       "instituition                   55                        0.05\n",
       "graduated_at                51556                       47.04"
      ]
     },
     "execution_count": 28,
     "metadata": {},
     "output_type": "execute_result"
    }
   ],
   "source": [
    "abs_omissions_education = education_df.isna().sum()\n",
    "otn_omissions_education = round(education_df.isna().sum() / education_df.shape[0] * 100, 2)\n",
    "omissions_education_df = pd.DataFrame({\n",
    "                                    'Абсолютные значения': abs_omissions_education,\n",
    "                                    'Относительные значения (%)': otn_omissions_education\n",
    "                                    })\n",
    "omissions_education_df"
   ]
  },
  {
   "cell_type": "markdown",
   "metadata": {},
   "source": [
    "Найдено 55 пропусков(0.05%) в столбце instituition. Пропуски в данном столбце могут быть связаны с тем, что некоторые работники не обучались в институте\n",
    "\n",
    "В столбце graduated_at обнаружено 51556 пропусков(47.04%).\n",
    "\n",
    "Возможные причины:\n",
    "\n",
    "- у людей, которые не обучались в институте не будет и даты окончания обучения.\n",
    "- Некоторые работники ещё не закончили обучение.\n",
    "\n",
    "Оставим столбцы без изменений. Если в дальнейшем он понадобится для анализа, то заменим пропуски на заглушку.\n",
    "\n",
    "---"
   ]
  },
  {
   "cell_type": "code",
   "execution_count": 29,
   "metadata": {},
   "outputs": [
    {
     "data": {
      "text/html": [
       "<div>\n",
       "<style scoped>\n",
       "    .dataframe tbody tr th:only-of-type {\n",
       "        vertical-align: middle;\n",
       "    }\n",
       "\n",
       "    .dataframe tbody tr th {\n",
       "        vertical-align: top;\n",
       "    }\n",
       "\n",
       "    .dataframe thead th {\n",
       "        text-align: right;\n",
       "    }\n",
       "</style>\n",
       "<table border=\"1\" class=\"dataframe\">\n",
       "  <thead>\n",
       "    <tr style=\"text-align: right;\">\n",
       "      <th></th>\n",
       "      <th>Абсолютные значения</th>\n",
       "      <th>Относительные значения (%)</th>\n",
       "    </tr>\n",
       "  </thead>\n",
       "  <tbody>\n",
       "    <tr>\n",
       "      <th>education_id</th>\n",
       "      <td>0</td>\n",
       "      <td>0.00</td>\n",
       "    </tr>\n",
       "    <tr>\n",
       "      <th>person_id</th>\n",
       "      <td>0</td>\n",
       "      <td>0.00</td>\n",
       "    </tr>\n",
       "    <tr>\n",
       "      <th>degree_type</th>\n",
       "      <td>11218</td>\n",
       "      <td>10.23</td>\n",
       "    </tr>\n",
       "    <tr>\n",
       "      <th>subject</th>\n",
       "      <td>28312</td>\n",
       "      <td>25.83</td>\n",
       "    </tr>\n",
       "  </tbody>\n",
       "</table>\n",
       "</div>"
      ],
      "text/plain": [
       "              Абсолютные значения  Относительные значения (%)\n",
       "education_id                    0                        0.00\n",
       "person_id                       0                        0.00\n",
       "degree_type                 11218                       10.23\n",
       "subject                     28312                       25.83"
      ]
     },
     "execution_count": 29,
     "metadata": {},
     "output_type": "execute_result"
    }
   ],
   "source": [
    "abs_omissions_degrees = degrees_df.isna().sum()\n",
    "otn_omissions_degrees = round(degrees_df.isna().sum() / degrees_df.shape[0] * 100, 2)\n",
    "omissions_degrees_df = pd.DataFrame({\n",
    "                                    'Абсолютные значения': abs_omissions_degrees,\n",
    "                                    'Относительные значения (%)': otn_omissions_degrees\n",
    "                                    })\n",
    "omissions_degrees_df"
   ]
  },
  {
   "cell_type": "markdown",
   "metadata": {},
   "source": [
    "Обнаружено 11218 пропусков(10.23%) в столбце degree_type. \n",
    "\n",
    "Возможные причины пропусков:\n",
    "\n",
    "- Данные могли быть утеряны при переносе из старых систем.\n",
    "- При сборе данных этот столбцех был необязательным для заполнения.\n",
    "- Человек не указал степень (например, неоконченное образование).\n",
    "\n",
    "В столбце subject обнаружено 28312 пропусков(25.83%).\n",
    "\n",
    "Возможные причины:\n",
    "\n",
    "- Для некоторых степеней нет специализации.\n",
    "- Данные собирались не для всех типов образования (например, только для высшего).\n",
    "- Человек не указал специальность.\n",
    "\n",
    "Оставим столбцы без изменений. Если в дальнейшем он понадобится для анализа, то заменим пропуски на заглушку.\n"
   ]
  },
  {
   "cell_type": "markdown",
   "metadata": {},
   "source": [
    "Из данных столбца `person_id` удалим приписку `p.` и приведём к формату int64"
   ]
  },
  {
   "cell_type": "code",
   "execution_count": 30,
   "metadata": {},
   "outputs": [
    {
     "name": "stderr",
     "output_type": "stream",
     "text": [
      "/tmp/ipykernel_94/1961906640.py:2: FutureWarning: The default value of regex will change from True to False in a future version.\n",
      "  degrees_df['person_id'] = degrees_df['person_id'].str.replace('p.', '')\n"
     ]
    },
    {
     "data": {
      "text/html": [
       "<div>\n",
       "<style scoped>\n",
       "    .dataframe tbody tr th:only-of-type {\n",
       "        vertical-align: middle;\n",
       "    }\n",
       "\n",
       "    .dataframe tbody tr th {\n",
       "        vertical-align: top;\n",
       "    }\n",
       "\n",
       "    .dataframe thead th {\n",
       "        text-align: right;\n",
       "    }\n",
       "</style>\n",
       "<table border=\"1\" class=\"dataframe\">\n",
       "  <thead>\n",
       "    <tr style=\"text-align: right;\">\n",
       "      <th></th>\n",
       "      <th>education_id</th>\n",
       "      <th>person_id</th>\n",
       "      <th>degree_type</th>\n",
       "      <th>subject</th>\n",
       "    </tr>\n",
       "  </thead>\n",
       "  <tbody>\n",
       "    <tr>\n",
       "      <th>0</th>\n",
       "      <td>1</td>\n",
       "      <td>6117</td>\n",
       "      <td>MBA</td>\n",
       "      <td>NaN</td>\n",
       "    </tr>\n",
       "    <tr>\n",
       "      <th>1</th>\n",
       "      <td>2</td>\n",
       "      <td>6136</td>\n",
       "      <td>BA</td>\n",
       "      <td>English, French</td>\n",
       "    </tr>\n",
       "    <tr>\n",
       "      <th>2</th>\n",
       "      <td>3</td>\n",
       "      <td>6136</td>\n",
       "      <td>MS</td>\n",
       "      <td>Mass Communication</td>\n",
       "    </tr>\n",
       "    <tr>\n",
       "      <th>3</th>\n",
       "      <td>4</td>\n",
       "      <td>6005</td>\n",
       "      <td>MS</td>\n",
       "      <td>Internet Technology</td>\n",
       "    </tr>\n",
       "    <tr>\n",
       "      <th>4</th>\n",
       "      <td>5</td>\n",
       "      <td>5832</td>\n",
       "      <td>BCS</td>\n",
       "      <td>Computer Science, Psychology</td>\n",
       "    </tr>\n",
       "  </tbody>\n",
       "</table>\n",
       "</div>"
      ],
      "text/plain": [
       "   education_id person_id degree_type                       subject\n",
       "0             1      6117         MBA                           NaN\n",
       "1             2      6136          BA               English, French\n",
       "2             3      6136          MS            Mass Communication\n",
       "3             4      6005          MS           Internet Technology\n",
       "4             5      5832         BCS  Computer Science, Psychology"
      ]
     },
     "execution_count": 30,
     "metadata": {},
     "output_type": "execute_result"
    }
   ],
   "source": [
    "# Удаляем p.\n",
    "degrees_df['person_id'] = degrees_df['person_id'].str.replace('p.', '')\n",
    "degrees_df.head()"
   ]
  },
  {
   "cell_type": "code",
   "execution_count": 31,
   "metadata": {},
   "outputs": [
    {
     "name": "stdout",
     "output_type": "stream",
     "text": [
      "<class 'pandas.core.frame.DataFrame'>\n",
      "RangeIndex: 109610 entries, 0 to 109609\n",
      "Data columns (total 4 columns):\n",
      " #   Column        Non-Null Count   Dtype \n",
      "---  ------        --------------   ----- \n",
      " 0   education_id  109610 non-null  int64 \n",
      " 1   person_id     109610 non-null  int64 \n",
      " 2   degree_type   98392 non-null   object\n",
      " 3   subject       81298 non-null   object\n",
      "dtypes: int64(2), object(2)\n",
      "memory usage: 3.3+ MB\n"
     ]
    }
   ],
   "source": [
    "# Меняем тип данных\n",
    "degrees_df['person_id'] = degrees_df['person_id'].astype('int64')\n",
    "degrees_df.info()"
   ]
  },
  {
   "cell_type": "markdown",
   "metadata": {},
   "source": [
    "###  Промежуточный вывод о работе с типами данных и пропусками. Оценка полноты данных.\n",
    "\n",
    "**Обработка типов данных:**\n",
    "\n",
    "- Даты успешно преобразованы в datetime64[ns]\n",
    "- `company_id` в people_df заполнен -1 для пропусков и приведен целочисленному типу\n",
    "- Из `person_id` в degrees_df удалена приписка \"p.\", также столбец приведен целочисленному типу\n",
    "\n",
    "**Работа с пропусками:**\n",
    "\n",
    "- Во всех датафреймах найдены пропуски и сделаны гипотезы о возможных сценариях их обработки\n",
    "- Был выявлен проблемный датасет company_and_rounds_df, в каждом столбце которого содержатся пропуски\n",
    "- `acquired_at` (0.31%) — удалено 29 строк.\n",
    "- `first_name`/`last_name` (5 и 1 пропуск) — удалена 1 строка с отсутствующими именем и фамилией.\n",
    "- Пропуски в `company_id` в people_df заполнены индикатором -1\n",
    "\n",
    "**Полнота данных:**\n",
    "\n",
    "Оценим полноту данных относительно наших целей:\n",
    "\n",
    "1. Объединение таблиц: столбцы `company_id` и `person_id`, которые скорее всего являются ключами для объединения, почти без пропусков (<1%). Можно безопасно соединять.\n",
    "\n",
    "2. Доверие к данным о сотрудниках стартапов и их образовании: данные по сотрудникам и образованию содержат 10-25% пропусков в `degree_type`/`subject`. Из-за этого возможна систематическая ошибка (например, нет данных о людях, которые обучались самостоятельно).\n",
    "\n",
    "3. Финансовые показатели: только около 25% компаний имеют данные о финансировании. Анализ возможен только для выборки.\n",
    "\n",
    "    - анализ покупок за 0 или за 1 доллар - скорее всего возможен.\n",
    "    - анализ цены перед покупкой в зависимости от категории стартапов и раундов финансирования - цена покупки `price_amount` известна только для 9378, из-за чего данных из `category_code` с большим количеством пропусков может быть достаточно. Необходимо объединить данные из датасетов `acquisition_df` и `company_and_rounds_df` и проанализировать количество пропусков.\n",
    "    - Динамика и тренды - Даты сделок (`acquired_at`) в основном полные. Можно проанализировать динамику цен продаж в течение времени. Столбцы `founded_at` и `funded_at` содержат большое количество пропусков(49.51% и 75.81% соответственно). Из-за чего не получится проанализировать динамику и тренды финансирования и инвестирования с течением времени. "
   ]
  },
  {
   "cell_type": "markdown",
   "metadata": {
    "id": "u60cHsn6rJg1"
   },
   "source": [
    "## Шаг 2. Предобработка данных, предварительное исследование"
   ]
  },
  {
   "cell_type": "markdown",
   "metadata": {
    "id": "g2bHIIjcrJg1"
   },
   "source": [
    "\n",
    "### Раунды финансирования по годам\n",
    "\n",
    "Задание необходимо выполнить без объединения и дополнительной предобработки на основе датасета `company_and_rounds.csv`.\n",
    "\n",
    "- Составьте сводную таблицу по годам, в которой на основании столбца `raised_amount` для каждого года указан:\n",
    "    - типичный размер средств, выделяемый в рамках одного раунда;\n",
    "    - общее количество раундов финансирования за этот год.\n",
    "    \n",
    "- Оставьте в таблице информацию только для тех лет, для которых есть информация о более чем 50 раундах финансирования.\n",
    "- На основе получившейся таблицы постройте график, который будет отражать динамику типичного размера средств, которые стартапы получали в рамках одного раунда финансирования.\n",
    "\n",
    "На основе полученных данных ответьте на вопросы:\n",
    "\n",
    "- В каком году типичный размер собранных в рамках одного раунда средств был максимален?\n",
    "- Какая тенденция по количеству раундов и выделяемых в рамках каждого раунда средств наблюдалась в 2013 году?"
   ]
  },
  {
   "cell_type": "code",
   "execution_count": 32,
   "metadata": {
    "id": "Cf5IjfOQrJg1",
    "scrolled": true,
    "vscode": {
     "languageId": "plaintext"
    }
   },
   "outputs": [
    {
     "data": {
      "text/html": [
       "<div>\n",
       "<style scoped>\n",
       "    .dataframe tbody tr th:only-of-type {\n",
       "        vertical-align: middle;\n",
       "    }\n",
       "\n",
       "    .dataframe tbody tr th {\n",
       "        vertical-align: top;\n",
       "    }\n",
       "\n",
       "    .dataframe thead th {\n",
       "        text-align: right;\n",
       "    }\n",
       "</style>\n",
       "<table border=\"1\" class=\"dataframe\">\n",
       "  <thead>\n",
       "    <tr style=\"text-align: right;\">\n",
       "      <th></th>\n",
       "      <th>raised_median_per_one_round</th>\n",
       "      <th>count_funding_rounds</th>\n",
       "    </tr>\n",
       "    <tr>\n",
       "      <th>funded_year</th>\n",
       "      <th></th>\n",
       "      <th></th>\n",
       "    </tr>\n",
       "  </thead>\n",
       "  <tbody>\n",
       "    <tr>\n",
       "      <th>1998</th>\n",
       "      <td>100000</td>\n",
       "      <td>72</td>\n",
       "    </tr>\n",
       "    <tr>\n",
       "      <th>1999</th>\n",
       "      <td>2000000</td>\n",
       "      <td>268</td>\n",
       "    </tr>\n",
       "    <tr>\n",
       "      <th>2000</th>\n",
       "      <td>4200000</td>\n",
       "      <td>403</td>\n",
       "    </tr>\n",
       "    <tr>\n",
       "      <th>2001</th>\n",
       "      <td>3000000</td>\n",
       "      <td>302</td>\n",
       "    </tr>\n",
       "    <tr>\n",
       "      <th>2002</th>\n",
       "      <td>4200000</td>\n",
       "      <td>385</td>\n",
       "    </tr>\n",
       "    <tr>\n",
       "      <th>2003</th>\n",
       "      <td>3000000</td>\n",
       "      <td>569</td>\n",
       "    </tr>\n",
       "    <tr>\n",
       "      <th>2004</th>\n",
       "      <td>5000000</td>\n",
       "      <td>1057</td>\n",
       "    </tr>\n",
       "    <tr>\n",
       "      <th>2005</th>\n",
       "      <td>5500000</td>\n",
       "      <td>4157</td>\n",
       "    </tr>\n",
       "    <tr>\n",
       "      <th>2006</th>\n",
       "      <td>5000000</td>\n",
       "      <td>6295</td>\n",
       "    </tr>\n",
       "    <tr>\n",
       "      <th>2007</th>\n",
       "      <td>3973320</td>\n",
       "      <td>8494</td>\n",
       "    </tr>\n",
       "    <tr>\n",
       "      <th>2008</th>\n",
       "      <td>3110000</td>\n",
       "      <td>9931</td>\n",
       "    </tr>\n",
       "    <tr>\n",
       "      <th>2009</th>\n",
       "      <td>2000000</td>\n",
       "      <td>11857</td>\n",
       "    </tr>\n",
       "    <tr>\n",
       "      <th>2010</th>\n",
       "      <td>1602500</td>\n",
       "      <td>16913</td>\n",
       "    </tr>\n",
       "    <tr>\n",
       "      <th>2011</th>\n",
       "      <td>1200000</td>\n",
       "      <td>23503</td>\n",
       "    </tr>\n",
       "    <tr>\n",
       "      <th>2012</th>\n",
       "      <td>1000000</td>\n",
       "      <td>24549</td>\n",
       "    </tr>\n",
       "    <tr>\n",
       "      <th>2013</th>\n",
       "      <td>1200000</td>\n",
       "      <td>23978</td>\n",
       "    </tr>\n",
       "  </tbody>\n",
       "</table>\n",
       "</div>"
      ],
      "text/plain": [
       "             raised_median_per_one_round  count_funding_rounds\n",
       "funded_year                                                   \n",
       "1998                              100000                    72\n",
       "1999                             2000000                   268\n",
       "2000                             4200000                   403\n",
       "2001                             3000000                   302\n",
       "2002                             4200000                   385\n",
       "2003                             3000000                   569\n",
       "2004                             5000000                  1057\n",
       "2005                             5500000                  4157\n",
       "2006                             5000000                  6295\n",
       "2007                             3973320                  8494\n",
       "2008                             3110000                  9931\n",
       "2009                             2000000                 11857\n",
       "2010                             1602500                 16913\n",
       "2011                             1200000                 23503\n",
       "2012                             1000000                 24549\n",
       "2013                             1200000                 23978"
      ]
     },
     "execution_count": 32,
     "metadata": {},
     "output_type": "execute_result"
    }
   ],
   "source": [
    "# Вспомогательный датафрейм\n",
    "help_df = company_and_rounds_df.copy() \n",
    "\n",
    "# выделяем год из даты и рассчитываем типичное значение в разрезе каждого года(за типичное значение берём медиану, как более устойчивую к выбросам)\n",
    "help_df['funded_year'] = company_and_rounds_df['funded_at'].dt.year\n",
    "median_raised_amount_per_year = help_df.groupby('funded_year')['raised_amount'].median().reset_index()\n",
    "\n",
    "# считаем количество раундов финансирования в разрезе каждого года\n",
    "count_funding_rounds_per_year = help_df.groupby('funded_year')['funding_rounds'].sum().reset_index()\n",
    "\n",
    "join_df = median_raised_amount_per_year.merge(count_funding_rounds_per_year, how='inner', on='funded_year')\n",
    "\n",
    "# выбираю только те года, где количество раундов финансирования больше 50\n",
    "filtered_join_df = join_df[join_df['funding_rounds'] > 50]\n",
    "\n",
    "filtered_join_df_copy = filtered_join_df.copy()\n",
    "\n",
    "# для удобства приводим столбцы к формату int64(чтобы оставить только целые части чисел,т.к. десятичные 0)\n",
    "filtered_join_df_copy['funding_rounds'] = filtered_join_df_copy['funding_rounds'].astype('int64')\n",
    "filtered_join_df_copy['funded_year'] = filtered_join_df_copy['funded_year'].astype('int64')\n",
    "filtered_join_df_copy['raised_amount'] = filtered_join_df_copy['raised_amount'].astype('int64')\n",
    "\n",
    "filtered_join_df_copy = filtered_join_df_copy.rename(columns = {\n",
    "                                                      'raised_amount': 'raised_median_per_one_round',\n",
    "                                                      'funding_rounds': 'count_funding_rounds'\n",
    "                                                     })\n",
    "\n",
    "filtered_join_df_pivot = filtered_join_df_copy.set_index('funded_year') \n",
    "filtered_join_df_pivot"
   ]
  },
  {
   "cell_type": "code",
   "execution_count": 33,
   "metadata": {
    "id": "8Fbz6KmzFdYP"
   },
   "outputs": [
    {
     "data": {
      "image/png": "[encoded data removed]",
      "text/plain": [
       "<Figure size 720x432 with 1 Axes>"
      ]
     },
     "metadata": {
      "needs_background": "light"
     },
     "output_type": "display_data"
    }
   ],
   "source": [
    "# Строим график\n",
    "filtered_join_df_copy.reset_index()\n",
    "\n",
    "filtered_join_df_copy.plot(kind='line',\n",
    "                      x = 'funded_year',\n",
    "                      y = 'raised_median_per_one_round',\n",
    "                      color = 'purple',\n",
    "                      title = 'Динамика типичного размера средств в рамках одного раунда финансирования',\n",
    "                      legend = False,\n",
    "                      figsize=(10,6),\n",
    "                      xlabel = 'Год',\n",
    "                      ylabel = 'Количество средств',\n",
    "                      marker='o'\n",
    "                    )\n",
    "\n",
    "plt.grid()"
   ]
  },
  {
   "cell_type": "markdown",
   "metadata": {
    "id": "Z92DzKMMFdKW"
   },
   "source": [
    "### Промежуточный вывод по раудам финансирования в разрезе лет"
   ]
  },
  {
   "cell_type": "markdown",
   "metadata": {},
   "source": [
    "График показывает, что **в 2005 году** типичный размер собранных в рамках одного раунда финансирования средств был **максимален**, он составил 5500000 $.\n",
    "\n",
    "*В 2013 году наблюдались следующие тенденции*:\n",
    "\n",
    "- Количество раундов: 23978 (высокий показатель, больше только в 2011–2012 гг.).\n",
    "\n",
    "Размер инвестиций:\n",
    "\n",
    "Медианный размер раунда составил: 1200000$, что немного выше, чем в 2012 году(1000000)\n",
    "\n",
    "**Общая тенденция**: с 2005 года — снижение типичного размера средств в рамках одного раунда при росте количества раундов."
   ]
  },
  {
   "cell_type": "markdown",
   "metadata": {
    "id": "45if1en1rJg2"
   },
   "source": [
    "\n",
    "### Люди и их образование\n",
    "\n",
    "Заказчик хочет понять, зависит ли полнота сведений о сотрудниках (например, об их образовании) от размера компаний.\n",
    "\n",
    "- Оцените, насколько информация об образовании сотрудников полна. Используя датасеты `people.csv` и `education.csv`, разделите все компании на несколько групп по количеству сотрудников и оцените среднюю долю сотрудников без информации об образовании в каждой из групп. Обоснуйте выбранные границы групп.\n",
    "- Оцените, возможно ли для выполнения задания присоединить к этим таблицам ещё и таблицу `degrees.csv`."
   ]
  },
  {
   "cell_type": "markdown",
   "metadata": {},
   "source": [
    "При работе с пропусками было выявлено, что в столбце company_id 84.73% пропусков. Данные пропуски были заменены на значение-индикатор -1. \n",
    "\n",
    "В связи с большим количеством пропусков в столбце с информации о компании, в которой работает сотрудник, анализ возможно выполнить только для выборки людей, для которых известно company_id"
   ]
  },
  {
   "cell_type": "code",
   "execution_count": 34,
   "metadata": {},
   "outputs": [
    {
     "data": {
      "text/html": [
       "<div>\n",
       "<style scoped>\n",
       "    .dataframe tbody tr th:only-of-type {\n",
       "        vertical-align: middle;\n",
       "    }\n",
       "\n",
       "    .dataframe tbody tr th {\n",
       "        vertical-align: top;\n",
       "    }\n",
       "\n",
       "    .dataframe thead th {\n",
       "        text-align: right;\n",
       "    }\n",
       "</style>\n",
       "<table border=\"1\" class=\"dataframe\">\n",
       "  <thead>\n",
       "    <tr style=\"text-align: right;\">\n",
       "      <th></th>\n",
       "      <th>company_id</th>\n",
       "      <th>count_person</th>\n",
       "    </tr>\n",
       "  </thead>\n",
       "  <tbody>\n",
       "    <tr>\n",
       "      <th>0</th>\n",
       "      <td>1</td>\n",
       "      <td>2</td>\n",
       "    </tr>\n",
       "    <tr>\n",
       "      <th>1</th>\n",
       "      <td>2</td>\n",
       "      <td>1</td>\n",
       "    </tr>\n",
       "    <tr>\n",
       "      <th>2</th>\n",
       "      <td>3</td>\n",
       "      <td>3</td>\n",
       "    </tr>\n",
       "    <tr>\n",
       "      <th>3</th>\n",
       "      <td>4</td>\n",
       "      <td>13</td>\n",
       "    </tr>\n",
       "    <tr>\n",
       "      <th>4</th>\n",
       "      <td>5</td>\n",
       "      <td>61</td>\n",
       "    </tr>\n",
       "    <tr>\n",
       "      <th>5</th>\n",
       "      <td>8</td>\n",
       "      <td>3</td>\n",
       "    </tr>\n",
       "    <tr>\n",
       "      <th>6</th>\n",
       "      <td>9</td>\n",
       "      <td>1</td>\n",
       "    </tr>\n",
       "    <tr>\n",
       "      <th>7</th>\n",
       "      <td>10</td>\n",
       "      <td>2</td>\n",
       "    </tr>\n",
       "  </tbody>\n",
       "</table>\n",
       "</div>"
      ],
      "text/plain": [
       "   company_id  count_person\n",
       "0           1             2\n",
       "1           2             1\n",
       "2           3             3\n",
       "3           4            13\n",
       "4           5            61\n",
       "5           8             3\n",
       "6           9             1\n",
       "7          10             2"
      ]
     },
     "execution_count": 34,
     "metadata": {},
     "output_type": "execute_result"
    }
   ],
   "source": [
    "# удалим строки с сотрудниками, у которых нет информации о компании(-1 - заглушка)\n",
    "people_df_copy = people_df[people_df['company_id'] >= 0]\n",
    "\n",
    "count_person_per_company = people_df_copy.groupby('company_id')['person_id'].count().reset_index()\n",
    "count_person_per_company = count_person_per_company.rename(columns = {'person_id': 'count_person'})\n",
    "count_person_per_company.head(8)"
   ]
  },
  {
   "cell_type": "code",
   "execution_count": 35,
   "metadata": {},
   "outputs": [
    {
     "data": {
      "text/plain": [
       "244"
      ]
     },
     "execution_count": 35,
     "metadata": {},
     "output_type": "execute_result"
    }
   ],
   "source": [
    "max_count = count_person_per_company['count_person'].max()\n",
    "max_count"
   ]
  },
  {
   "cell_type": "markdown",
   "metadata": {},
   "source": [
    "Классическое разделение компаний по количеству персонала:\n",
    "\n",
    "1. Микропредприятие. Численность работников — до 15 человек\n",
    "2. Малое предприятие. Количество сотрудников — от 16 до 100 человек\n",
    "3. Среднее предприятие. Численность персонала — от 101 до 250 человек\n",
    "4. Крупное предприятие. Количество работников — от 251 человека\n",
    "\n",
    "В наших данных максимальное количество людей в компании - 244. Следовательно в нашей выборки нет крупных предприятий, что и не удивительно для стартапов. \n",
    "\n",
    "В связи с этим разделим компании на 3 категории:\n",
    "\n",
    "1) small - до 15 человек\n",
    "\n",
    "2) medium - от 16 до 100 человек\n",
    "\n",
    "3) large - от 101 человека"
   ]
  },
  {
   "cell_type": "code",
   "execution_count": 36,
   "metadata": {
    "scrolled": true
   },
   "outputs": [
    {
     "data": {
      "text/html": [
       "<div>\n",
       "<style scoped>\n",
       "    .dataframe tbody tr th:only-of-type {\n",
       "        vertical-align: middle;\n",
       "    }\n",
       "\n",
       "    .dataframe tbody tr th {\n",
       "        vertical-align: top;\n",
       "    }\n",
       "\n",
       "    .dataframe thead th {\n",
       "        text-align: right;\n",
       "    }\n",
       "</style>\n",
       "<table border=\"1\" class=\"dataframe\">\n",
       "  <thead>\n",
       "    <tr style=\"text-align: right;\">\n",
       "      <th></th>\n",
       "      <th>company_id</th>\n",
       "      <th>category_company</th>\n",
       "    </tr>\n",
       "  </thead>\n",
       "  <tbody>\n",
       "    <tr>\n",
       "      <th>0</th>\n",
       "      <td>1</td>\n",
       "      <td>small</td>\n",
       "    </tr>\n",
       "    <tr>\n",
       "      <th>1</th>\n",
       "      <td>2</td>\n",
       "      <td>small</td>\n",
       "    </tr>\n",
       "    <tr>\n",
       "      <th>2</th>\n",
       "      <td>3</td>\n",
       "      <td>small</td>\n",
       "    </tr>\n",
       "    <tr>\n",
       "      <th>3</th>\n",
       "      <td>4</td>\n",
       "      <td>small</td>\n",
       "    </tr>\n",
       "    <tr>\n",
       "      <th>4</th>\n",
       "      <td>5</td>\n",
       "      <td>medium</td>\n",
       "    </tr>\n",
       "    <tr>\n",
       "      <th>5</th>\n",
       "      <td>8</td>\n",
       "      <td>small</td>\n",
       "    </tr>\n",
       "    <tr>\n",
       "      <th>6</th>\n",
       "      <td>9</td>\n",
       "      <td>small</td>\n",
       "    </tr>\n",
       "    <tr>\n",
       "      <th>7</th>\n",
       "      <td>10</td>\n",
       "      <td>small</td>\n",
       "    </tr>\n",
       "    <tr>\n",
       "      <th>8</th>\n",
       "      <td>11</td>\n",
       "      <td>small</td>\n",
       "    </tr>\n",
       "    <tr>\n",
       "      <th>9</th>\n",
       "      <td>12</td>\n",
       "      <td>medium</td>\n",
       "    </tr>\n",
       "  </tbody>\n",
       "</table>\n",
       "</div>"
      ],
      "text/plain": [
       "   company_id category_company\n",
       "0           1            small\n",
       "1           2            small\n",
       "2           3            small\n",
       "3           4            small\n",
       "4           5           medium\n",
       "5           8            small\n",
       "6           9            small\n",
       "7          10            small\n",
       "8          11            small\n",
       "9          12           medium"
      ]
     },
     "execution_count": 36,
     "metadata": {},
     "output_type": "execute_result"
    }
   ],
   "source": [
    "# разделяем на категории\n",
    "bin = [1 , 16, 101]\n",
    "count_person_per_company['count_person'] = pd.cut(count_person_per_company['count_person'], bins= bin+[float('inf')], labels = ['small', 'medium', 'large'], right=False)\n",
    "count_person_per_company = count_person_per_company.rename(columns={'count_person': 'category_company'})\n",
    "count_person_per_company.head(10)"
   ]
  },
  {
   "cell_type": "code",
   "execution_count": 37,
   "metadata": {
    "scrolled": true
   },
   "outputs": [
    {
     "data": {
      "text/html": [
       "<div>\n",
       "<style scoped>\n",
       "    .dataframe tbody tr th:only-of-type {\n",
       "        vertical-align: middle;\n",
       "    }\n",
       "\n",
       "    .dataframe tbody tr th {\n",
       "        vertical-align: top;\n",
       "    }\n",
       "\n",
       "    .dataframe thead th {\n",
       "        text-align: right;\n",
       "    }\n",
       "</style>\n",
       "<table border=\"1\" class=\"dataframe\">\n",
       "  <thead>\n",
       "    <tr style=\"text-align: right;\">\n",
       "      <th></th>\n",
       "      <th>person_id</th>\n",
       "      <th>first_name</th>\n",
       "      <th>last_name</th>\n",
       "      <th>company_id</th>\n",
       "      <th>network_username</th>\n",
       "      <th>category_company</th>\n",
       "    </tr>\n",
       "  </thead>\n",
       "  <tbody>\n",
       "    <tr>\n",
       "      <th>0</th>\n",
       "      <td>10</td>\n",
       "      <td>Mark</td>\n",
       "      <td>Zuckerberg</td>\n",
       "      <td>5</td>\n",
       "      <td>NaN</td>\n",
       "      <td>medium</td>\n",
       "    </tr>\n",
       "    <tr>\n",
       "      <th>1</th>\n",
       "      <td>10430</td>\n",
       "      <td>Ruchi</td>\n",
       "      <td>Sanghvi</td>\n",
       "      <td>5</td>\n",
       "      <td>rsanghvi</td>\n",
       "      <td>medium</td>\n",
       "    </tr>\n",
       "    <tr>\n",
       "      <th>2</th>\n",
       "      <td>106199</td>\n",
       "      <td>Adam</td>\n",
       "      <td>Marchick</td>\n",
       "      <td>5</td>\n",
       "      <td>adammarstanford</td>\n",
       "      <td>medium</td>\n",
       "    </tr>\n",
       "    <tr>\n",
       "      <th>3</th>\n",
       "      <td>108814</td>\n",
       "      <td>Jimmy</td>\n",
       "      <td>Zhu</td>\n",
       "      <td>5</td>\n",
       "      <td>jyzhu</td>\n",
       "      <td>medium</td>\n",
       "    </tr>\n",
       "    <tr>\n",
       "      <th>4</th>\n",
       "      <td>11</td>\n",
       "      <td>Dustin</td>\n",
       "      <td>Moskovitz</td>\n",
       "      <td>5</td>\n",
       "      <td>NaN</td>\n",
       "      <td>medium</td>\n",
       "    </tr>\n",
       "    <tr>\n",
       "      <th>...</th>\n",
       "      <td>...</td>\n",
       "      <td>...</td>\n",
       "      <td>...</td>\n",
       "      <td>...</td>\n",
       "      <td>...</td>\n",
       "      <td>...</td>\n",
       "    </tr>\n",
       "    <tr>\n",
       "      <th>34609</th>\n",
       "      <td>99990</td>\n",
       "      <td>Tzvi</td>\n",
       "      <td>Milshtein</td>\n",
       "      <td>81971</td>\n",
       "      <td>NaN</td>\n",
       "      <td>small</td>\n",
       "    </tr>\n",
       "    <tr>\n",
       "      <th>34610</th>\n",
       "      <td>99992</td>\n",
       "      <td>Romain</td>\n",
       "      <td>Brabant</td>\n",
       "      <td>146815</td>\n",
       "      <td>NaN</td>\n",
       "      <td>small</td>\n",
       "    </tr>\n",
       "    <tr>\n",
       "      <th>34611</th>\n",
       "      <td>99997</td>\n",
       "      <td>Peter</td>\n",
       "      <td>Lalonde</td>\n",
       "      <td>83651</td>\n",
       "      <td>peterlalonde</td>\n",
       "      <td>small</td>\n",
       "    </tr>\n",
       "    <tr>\n",
       "      <th>34612</th>\n",
       "      <td>174088</td>\n",
       "      <td>Dr. Ray</td>\n",
       "      <td>Woods</td>\n",
       "      <td>188200</td>\n",
       "      <td>network</td>\n",
       "      <td>small</td>\n",
       "    </tr>\n",
       "    <tr>\n",
       "      <th>34613</th>\n",
       "      <td>118386</td>\n",
       "      <td>Ricardo</td>\n",
       "      <td>Durand</td>\n",
       "      <td>143419</td>\n",
       "      <td>itechsocialnet</td>\n",
       "      <td>small</td>\n",
       "    </tr>\n",
       "  </tbody>\n",
       "</table>\n",
       "<p>34614 rows × 6 columns</p>\n",
       "</div>"
      ],
      "text/plain": [
       "       person_id first_name   last_name  company_id network_username  \\\n",
       "0             10       Mark  Zuckerberg           5              NaN   \n",
       "1          10430      Ruchi     Sanghvi           5         rsanghvi   \n",
       "2         106199       Adam    Marchick           5  adammarstanford   \n",
       "3         108814      Jimmy         Zhu           5            jyzhu   \n",
       "4             11     Dustin   Moskovitz           5              NaN   \n",
       "...          ...        ...         ...         ...              ...   \n",
       "34609      99990       Tzvi   Milshtein       81971              NaN   \n",
       "34610      99992     Romain     Brabant      146815              NaN   \n",
       "34611      99997      Peter     Lalonde       83651     peterlalonde   \n",
       "34612     174088    Dr. Ray       Woods      188200          network   \n",
       "34613     118386    Ricardo      Durand      143419   itechsocialnet   \n",
       "\n",
       "      category_company  \n",
       "0               medium  \n",
       "1               medium  \n",
       "2               medium  \n",
       "3               medium  \n",
       "4               medium  \n",
       "...                ...  \n",
       "34609            small  \n",
       "34610            small  \n",
       "34611            small  \n",
       "34612            small  \n",
       "34613            small  \n",
       "\n",
       "[34614 rows x 6 columns]"
      ]
     },
     "execution_count": 37,
     "metadata": {},
     "output_type": "execute_result"
    }
   ],
   "source": [
    "# добавляем столбец category_company в people_df_copy\n",
    "\n",
    "new_people_df = people_df_copy.merge(count_person_per_company, how='inner', on='company_id')\n",
    "new_people_df"
   ]
  },
  {
   "cell_type": "markdown",
   "metadata": {},
   "source": [
    "Для анализа количества людей без образования присоединим таблицы education_df и degrees_df. Можно считать, что для сотрудника нет информации об образовании, если у него содержатся пропуски `education_id_x` и `education_id_y`(id образования из датафреймов education_df и degrees_df соответственно). Но эти датафреймы содержат пропуски в информации об образовании, поэтому мы будем считать, что нет информации об образовании сотрудника, если выполняется более сильное улосвие: пропуски находятся в `instituition`(название учебного заведение, в котором  обучался сотрудник) и `degree_type`(тип образования) одновременно. "
   ]
  },
  {
   "cell_type": "code",
   "execution_count": 38,
   "metadata": {
    "id": "BThTjpLqFcsm"
   },
   "outputs": [
    {
     "data": {
      "text/html": [
       "<div>\n",
       "<style scoped>\n",
       "    .dataframe tbody tr th:only-of-type {\n",
       "        vertical-align: middle;\n",
       "    }\n",
       "\n",
       "    .dataframe tbody tr th {\n",
       "        vertical-align: top;\n",
       "    }\n",
       "\n",
       "    .dataframe thead th {\n",
       "        text-align: right;\n",
       "    }\n",
       "</style>\n",
       "<table border=\"1\" class=\"dataframe\">\n",
       "  <thead>\n",
       "    <tr style=\"text-align: right;\">\n",
       "      <th></th>\n",
       "      <th>person_id</th>\n",
       "      <th>first_name</th>\n",
       "      <th>last_name</th>\n",
       "      <th>company_id</th>\n",
       "      <th>network_username</th>\n",
       "      <th>category_company</th>\n",
       "      <th>education_id_x</th>\n",
       "      <th>instituition</th>\n",
       "      <th>graduated_at</th>\n",
       "      <th>education_id_y</th>\n",
       "      <th>degree_type</th>\n",
       "      <th>subject</th>\n",
       "    </tr>\n",
       "  </thead>\n",
       "  <tbody>\n",
       "    <tr>\n",
       "      <th>0</th>\n",
       "      <td>10</td>\n",
       "      <td>Mark</td>\n",
       "      <td>Zuckerberg</td>\n",
       "      <td>5</td>\n",
       "      <td>NaN</td>\n",
       "      <td>medium</td>\n",
       "      <td>2415.0</td>\n",
       "      <td>Harvard University</td>\n",
       "      <td>NaT</td>\n",
       "      <td>2415.0</td>\n",
       "      <td>NaN</td>\n",
       "      <td>Computer Science</td>\n",
       "    </tr>\n",
       "    <tr>\n",
       "      <th>1</th>\n",
       "      <td>10430</td>\n",
       "      <td>Ruchi</td>\n",
       "      <td>Sanghvi</td>\n",
       "      <td>5</td>\n",
       "      <td>rsanghvi</td>\n",
       "      <td>medium</td>\n",
       "      <td>4247.0</td>\n",
       "      <td>Carnegie Mellon University</td>\n",
       "      <td>NaT</td>\n",
       "      <td>4247.0</td>\n",
       "      <td>BS</td>\n",
       "      <td>Electrical Computer Engineering</td>\n",
       "    </tr>\n",
       "    <tr>\n",
       "      <th>2</th>\n",
       "      <td>10430</td>\n",
       "      <td>Ruchi</td>\n",
       "      <td>Sanghvi</td>\n",
       "      <td>5</td>\n",
       "      <td>rsanghvi</td>\n",
       "      <td>medium</td>\n",
       "      <td>4247.0</td>\n",
       "      <td>Carnegie Mellon University</td>\n",
       "      <td>NaT</td>\n",
       "      <td>4248.0</td>\n",
       "      <td>MA</td>\n",
       "      <td>Electrical Computer Engineering</td>\n",
       "    </tr>\n",
       "    <tr>\n",
       "      <th>3</th>\n",
       "      <td>10430</td>\n",
       "      <td>Ruchi</td>\n",
       "      <td>Sanghvi</td>\n",
       "      <td>5</td>\n",
       "      <td>rsanghvi</td>\n",
       "      <td>medium</td>\n",
       "      <td>4248.0</td>\n",
       "      <td>Carnegie Mellon University</td>\n",
       "      <td>NaT</td>\n",
       "      <td>4247.0</td>\n",
       "      <td>BS</td>\n",
       "      <td>Electrical Computer Engineering</td>\n",
       "    </tr>\n",
       "    <tr>\n",
       "      <th>4</th>\n",
       "      <td>10430</td>\n",
       "      <td>Ruchi</td>\n",
       "      <td>Sanghvi</td>\n",
       "      <td>5</td>\n",
       "      <td>rsanghvi</td>\n",
       "      <td>medium</td>\n",
       "      <td>4248.0</td>\n",
       "      <td>Carnegie Mellon University</td>\n",
       "      <td>NaT</td>\n",
       "      <td>4248.0</td>\n",
       "      <td>MA</td>\n",
       "      <td>Electrical Computer Engineering</td>\n",
       "    </tr>\n",
       "    <tr>\n",
       "      <th>5</th>\n",
       "      <td>106199</td>\n",
       "      <td>Adam</td>\n",
       "      <td>Marchick</td>\n",
       "      <td>5</td>\n",
       "      <td>adammarstanford</td>\n",
       "      <td>medium</td>\n",
       "      <td>15666.0</td>\n",
       "      <td>Stanford University</td>\n",
       "      <td>2002-01-01</td>\n",
       "      <td>15666.0</td>\n",
       "      <td>BS</td>\n",
       "      <td>Computer Science</td>\n",
       "    </tr>\n",
       "    <tr>\n",
       "      <th>6</th>\n",
       "      <td>108814</td>\n",
       "      <td>Jimmy</td>\n",
       "      <td>Zhu</td>\n",
       "      <td>5</td>\n",
       "      <td>jyzhu</td>\n",
       "      <td>medium</td>\n",
       "      <td>16050.0</td>\n",
       "      <td>Massachusetts Institute of Technology (MIT)</td>\n",
       "      <td>NaT</td>\n",
       "      <td>16050.0</td>\n",
       "      <td>S.B.</td>\n",
       "      <td>Management Science, Math</td>\n",
       "    </tr>\n",
       "    <tr>\n",
       "      <th>7</th>\n",
       "      <td>11</td>\n",
       "      <td>Dustin</td>\n",
       "      <td>Moskovitz</td>\n",
       "      <td>5</td>\n",
       "      <td>NaN</td>\n",
       "      <td>medium</td>\n",
       "      <td>13476.0</td>\n",
       "      <td>Harvard University</td>\n",
       "      <td>NaT</td>\n",
       "      <td>13476.0</td>\n",
       "      <td>No degree</td>\n",
       "      <td>NaN</td>\n",
       "    </tr>\n",
       "    <tr>\n",
       "      <th>8</th>\n",
       "      <td>125183</td>\n",
       "      <td>Brandon</td>\n",
       "      <td>Sayles</td>\n",
       "      <td>5</td>\n",
       "      <td>NaN</td>\n",
       "      <td>medium</td>\n",
       "      <td>18382.0</td>\n",
       "      <td>National Institute of Technology Raipur</td>\n",
       "      <td>NaT</td>\n",
       "      <td>18382.0</td>\n",
       "      <td>Computer Engineering (HarDwarE &amp;</td>\n",
       "      <td>All in degree</td>\n",
       "    </tr>\n",
       "    <tr>\n",
       "      <th>9</th>\n",
       "      <td>127140</td>\n",
       "      <td>Alison</td>\n",
       "      <td>Rosenthal</td>\n",
       "      <td>5</td>\n",
       "      <td>alisonrosenthal</td>\n",
       "      <td>medium</td>\n",
       "      <td>54926.0</td>\n",
       "      <td>Stanford University Graduate School of Business</td>\n",
       "      <td>NaT</td>\n",
       "      <td>54926.0</td>\n",
       "      <td>MBA</td>\n",
       "      <td>NaN</td>\n",
       "    </tr>\n",
       "    <tr>\n",
       "      <th>10</th>\n",
       "      <td>127140</td>\n",
       "      <td>Alison</td>\n",
       "      <td>Rosenthal</td>\n",
       "      <td>5</td>\n",
       "      <td>alisonrosenthal</td>\n",
       "      <td>medium</td>\n",
       "      <td>54926.0</td>\n",
       "      <td>Stanford University Graduate School of Business</td>\n",
       "      <td>NaT</td>\n",
       "      <td>54927.0</td>\n",
       "      <td>BA</td>\n",
       "      <td>NaN</td>\n",
       "    </tr>\n",
       "    <tr>\n",
       "      <th>11</th>\n",
       "      <td>127140</td>\n",
       "      <td>Alison</td>\n",
       "      <td>Rosenthal</td>\n",
       "      <td>5</td>\n",
       "      <td>alisonrosenthal</td>\n",
       "      <td>medium</td>\n",
       "      <td>54927.0</td>\n",
       "      <td>Brown University</td>\n",
       "      <td>NaT</td>\n",
       "      <td>54926.0</td>\n",
       "      <td>MBA</td>\n",
       "      <td>NaN</td>\n",
       "    </tr>\n",
       "    <tr>\n",
       "      <th>12</th>\n",
       "      <td>127140</td>\n",
       "      <td>Alison</td>\n",
       "      <td>Rosenthal</td>\n",
       "      <td>5</td>\n",
       "      <td>alisonrosenthal</td>\n",
       "      <td>medium</td>\n",
       "      <td>54927.0</td>\n",
       "      <td>Brown University</td>\n",
       "      <td>NaT</td>\n",
       "      <td>54927.0</td>\n",
       "      <td>BA</td>\n",
       "      <td>NaN</td>\n",
       "    </tr>\n",
       "    <tr>\n",
       "      <th>13</th>\n",
       "      <td>135182</td>\n",
       "      <td>Makinde</td>\n",
       "      <td>Adeagbo</td>\n",
       "      <td>5</td>\n",
       "      <td>makinde</td>\n",
       "      <td>medium</td>\n",
       "      <td>19522.0</td>\n",
       "      <td>Massachusetts Institute of Technology (MIT)</td>\n",
       "      <td>2007-01-01</td>\n",
       "      <td>19522.0</td>\n",
       "      <td>BS</td>\n",
       "      <td>Computer Science</td>\n",
       "    </tr>\n",
       "    <tr>\n",
       "      <th>14</th>\n",
       "      <td>146969</td>\n",
       "      <td>Katherine</td>\n",
       "      <td>Losse</td>\n",
       "      <td>5</td>\n",
       "      <td>NaN</td>\n",
       "      <td>medium</td>\n",
       "      <td>NaN</td>\n",
       "      <td>NaN</td>\n",
       "      <td>NaT</td>\n",
       "      <td>NaN</td>\n",
       "      <td>NaN</td>\n",
       "      <td>NaN</td>\n",
       "    </tr>\n",
       "  </tbody>\n",
       "</table>\n",
       "</div>"
      ],
      "text/plain": [
       "    person_id first_name   last_name  company_id network_username  \\\n",
       "0          10       Mark  Zuckerberg           5              NaN   \n",
       "1       10430      Ruchi     Sanghvi           5         rsanghvi   \n",
       "2       10430      Ruchi     Sanghvi           5         rsanghvi   \n",
       "3       10430      Ruchi     Sanghvi           5         rsanghvi   \n",
       "4       10430      Ruchi     Sanghvi           5         rsanghvi   \n",
       "5      106199       Adam    Marchick           5  adammarstanford   \n",
       "6      108814      Jimmy         Zhu           5            jyzhu   \n",
       "7          11     Dustin   Moskovitz           5              NaN   \n",
       "8      125183    Brandon      Sayles           5              NaN   \n",
       "9      127140     Alison   Rosenthal           5  alisonrosenthal   \n",
       "10     127140     Alison   Rosenthal           5  alisonrosenthal   \n",
       "11     127140     Alison   Rosenthal           5  alisonrosenthal   \n",
       "12     127140     Alison   Rosenthal           5  alisonrosenthal   \n",
       "13     135182    Makinde     Adeagbo           5          makinde   \n",
       "14     146969  Katherine       Losse           5              NaN   \n",
       "\n",
       "   category_company  education_id_x  \\\n",
       "0            medium          2415.0   \n",
       "1            medium          4247.0   \n",
       "2            medium          4247.0   \n",
       "3            medium          4248.0   \n",
       "4            medium          4248.0   \n",
       "5            medium         15666.0   \n",
       "6            medium         16050.0   \n",
       "7            medium         13476.0   \n",
       "8            medium         18382.0   \n",
       "9            medium         54926.0   \n",
       "10           medium         54926.0   \n",
       "11           medium         54927.0   \n",
       "12           medium         54927.0   \n",
       "13           medium         19522.0   \n",
       "14           medium             NaN   \n",
       "\n",
       "                                       instituition graduated_at  \\\n",
       "0                                Harvard University          NaT   \n",
       "1                        Carnegie Mellon University          NaT   \n",
       "2                        Carnegie Mellon University          NaT   \n",
       "3                        Carnegie Mellon University          NaT   \n",
       "4                        Carnegie Mellon University          NaT   \n",
       "5                               Stanford University   2002-01-01   \n",
       "6       Massachusetts Institute of Technology (MIT)          NaT   \n",
       "7                                Harvard University          NaT   \n",
       "8           National Institute of Technology Raipur          NaT   \n",
       "9   Stanford University Graduate School of Business          NaT   \n",
       "10  Stanford University Graduate School of Business          NaT   \n",
       "11                                 Brown University          NaT   \n",
       "12                                 Brown University          NaT   \n",
       "13      Massachusetts Institute of Technology (MIT)   2007-01-01   \n",
       "14                                              NaN          NaT   \n",
       "\n",
       "    education_id_y                       degree_type  \\\n",
       "0           2415.0                               NaN   \n",
       "1           4247.0                                BS   \n",
       "2           4248.0                                MA   \n",
       "3           4247.0                                BS   \n",
       "4           4248.0                                MA   \n",
       "5          15666.0                                BS   \n",
       "6          16050.0                              S.B.   \n",
       "7          13476.0                         No degree   \n",
       "8          18382.0  Computer Engineering (HarDwarE &   \n",
       "9          54926.0                               MBA   \n",
       "10         54927.0                                BA   \n",
       "11         54926.0                               MBA   \n",
       "12         54927.0                                BA   \n",
       "13         19522.0                                BS   \n",
       "14             NaN                               NaN   \n",
       "\n",
       "                            subject  \n",
       "0                  Computer Science  \n",
       "1   Electrical Computer Engineering  \n",
       "2   Electrical Computer Engineering  \n",
       "3   Electrical Computer Engineering  \n",
       "4   Electrical Computer Engineering  \n",
       "5                  Computer Science  \n",
       "6          Management Science, Math  \n",
       "7                               NaN  \n",
       "8                     All in degree  \n",
       "9                               NaN  \n",
       "10                              NaN  \n",
       "11                              NaN  \n",
       "12                              NaN  \n",
       "13                 Computer Science  \n",
       "14                              NaN  "
      ]
     },
     "execution_count": 38,
     "metadata": {},
     "output_type": "execute_result"
    }
   ],
   "source": [
    "join_people_df = new_people_df.merge(education_df, how='left', on='person_id')\n",
    "join_people_df = join_people_df.merge(degrees_df, how='left', on=['person_id'])\n",
    "join_people_df.head(15)"
   ]
  },
  {
   "cell_type": "code",
   "execution_count": 39,
   "metadata": {
    "id": "4FC98Pd-FcmG"
   },
   "outputs": [
    {
     "data": {
      "text/html": [
       "<div>\n",
       "<style scoped>\n",
       "    .dataframe tbody tr th:only-of-type {\n",
       "        vertical-align: middle;\n",
       "    }\n",
       "\n",
       "    .dataframe tbody tr th {\n",
       "        vertical-align: top;\n",
       "    }\n",
       "\n",
       "    .dataframe thead th {\n",
       "        text-align: right;\n",
       "    }\n",
       "</style>\n",
       "<table border=\"1\" class=\"dataframe\">\n",
       "  <thead>\n",
       "    <tr style=\"text-align: right;\">\n",
       "      <th></th>\n",
       "      <th>person_id</th>\n",
       "      <th>first_name</th>\n",
       "      <th>last_name</th>\n",
       "      <th>company_id</th>\n",
       "      <th>network_username</th>\n",
       "      <th>category_company</th>\n",
       "      <th>education_id_x</th>\n",
       "      <th>instituition</th>\n",
       "      <th>graduated_at</th>\n",
       "      <th>education_id_y</th>\n",
       "      <th>degree_type</th>\n",
       "      <th>subject</th>\n",
       "      <th>inf_about_education</th>\n",
       "    </tr>\n",
       "  </thead>\n",
       "  <tbody>\n",
       "    <tr>\n",
       "      <th>0</th>\n",
       "      <td>10</td>\n",
       "      <td>Mark</td>\n",
       "      <td>Zuckerberg</td>\n",
       "      <td>5</td>\n",
       "      <td>NaN</td>\n",
       "      <td>medium</td>\n",
       "      <td>2415.0</td>\n",
       "      <td>Harvard University</td>\n",
       "      <td>NaT</td>\n",
       "      <td>2415.0</td>\n",
       "      <td>no_information</td>\n",
       "      <td>Computer Science</td>\n",
       "      <td>1</td>\n",
       "    </tr>\n",
       "    <tr>\n",
       "      <th>1</th>\n",
       "      <td>10430</td>\n",
       "      <td>Ruchi</td>\n",
       "      <td>Sanghvi</td>\n",
       "      <td>5</td>\n",
       "      <td>rsanghvi</td>\n",
       "      <td>medium</td>\n",
       "      <td>4247.0</td>\n",
       "      <td>Carnegie Mellon University</td>\n",
       "      <td>NaT</td>\n",
       "      <td>4247.0</td>\n",
       "      <td>BS</td>\n",
       "      <td>Electrical Computer Engineering</td>\n",
       "      <td>1</td>\n",
       "    </tr>\n",
       "    <tr>\n",
       "      <th>2</th>\n",
       "      <td>10430</td>\n",
       "      <td>Ruchi</td>\n",
       "      <td>Sanghvi</td>\n",
       "      <td>5</td>\n",
       "      <td>rsanghvi</td>\n",
       "      <td>medium</td>\n",
       "      <td>4247.0</td>\n",
       "      <td>Carnegie Mellon University</td>\n",
       "      <td>NaT</td>\n",
       "      <td>4248.0</td>\n",
       "      <td>MA</td>\n",
       "      <td>Electrical Computer Engineering</td>\n",
       "      <td>1</td>\n",
       "    </tr>\n",
       "    <tr>\n",
       "      <th>3</th>\n",
       "      <td>10430</td>\n",
       "      <td>Ruchi</td>\n",
       "      <td>Sanghvi</td>\n",
       "      <td>5</td>\n",
       "      <td>rsanghvi</td>\n",
       "      <td>medium</td>\n",
       "      <td>4248.0</td>\n",
       "      <td>Carnegie Mellon University</td>\n",
       "      <td>NaT</td>\n",
       "      <td>4247.0</td>\n",
       "      <td>BS</td>\n",
       "      <td>Electrical Computer Engineering</td>\n",
       "      <td>1</td>\n",
       "    </tr>\n",
       "    <tr>\n",
       "      <th>4</th>\n",
       "      <td>10430</td>\n",
       "      <td>Ruchi</td>\n",
       "      <td>Sanghvi</td>\n",
       "      <td>5</td>\n",
       "      <td>rsanghvi</td>\n",
       "      <td>medium</td>\n",
       "      <td>4248.0</td>\n",
       "      <td>Carnegie Mellon University</td>\n",
       "      <td>NaT</td>\n",
       "      <td>4248.0</td>\n",
       "      <td>MA</td>\n",
       "      <td>Electrical Computer Engineering</td>\n",
       "      <td>1</td>\n",
       "    </tr>\n",
       "    <tr>\n",
       "      <th>5</th>\n",
       "      <td>106199</td>\n",
       "      <td>Adam</td>\n",
       "      <td>Marchick</td>\n",
       "      <td>5</td>\n",
       "      <td>adammarstanford</td>\n",
       "      <td>medium</td>\n",
       "      <td>15666.0</td>\n",
       "      <td>Stanford University</td>\n",
       "      <td>2002-01-01</td>\n",
       "      <td>15666.0</td>\n",
       "      <td>BS</td>\n",
       "      <td>Computer Science</td>\n",
       "      <td>1</td>\n",
       "    </tr>\n",
       "    <tr>\n",
       "      <th>6</th>\n",
       "      <td>108814</td>\n",
       "      <td>Jimmy</td>\n",
       "      <td>Zhu</td>\n",
       "      <td>5</td>\n",
       "      <td>jyzhu</td>\n",
       "      <td>medium</td>\n",
       "      <td>16050.0</td>\n",
       "      <td>Massachusetts Institute of Technology (MIT)</td>\n",
       "      <td>NaT</td>\n",
       "      <td>16050.0</td>\n",
       "      <td>S.B.</td>\n",
       "      <td>Management Science, Math</td>\n",
       "      <td>1</td>\n",
       "    </tr>\n",
       "    <tr>\n",
       "      <th>7</th>\n",
       "      <td>11</td>\n",
       "      <td>Dustin</td>\n",
       "      <td>Moskovitz</td>\n",
       "      <td>5</td>\n",
       "      <td>NaN</td>\n",
       "      <td>medium</td>\n",
       "      <td>13476.0</td>\n",
       "      <td>Harvard University</td>\n",
       "      <td>NaT</td>\n",
       "      <td>13476.0</td>\n",
       "      <td>No degree</td>\n",
       "      <td>NaN</td>\n",
       "      <td>1</td>\n",
       "    </tr>\n",
       "    <tr>\n",
       "      <th>8</th>\n",
       "      <td>125183</td>\n",
       "      <td>Brandon</td>\n",
       "      <td>Sayles</td>\n",
       "      <td>5</td>\n",
       "      <td>NaN</td>\n",
       "      <td>medium</td>\n",
       "      <td>18382.0</td>\n",
       "      <td>National Institute of Technology Raipur</td>\n",
       "      <td>NaT</td>\n",
       "      <td>18382.0</td>\n",
       "      <td>Computer Engineering (HarDwarE &amp;</td>\n",
       "      <td>All in degree</td>\n",
       "      <td>1</td>\n",
       "    </tr>\n",
       "    <tr>\n",
       "      <th>9</th>\n",
       "      <td>127140</td>\n",
       "      <td>Alison</td>\n",
       "      <td>Rosenthal</td>\n",
       "      <td>5</td>\n",
       "      <td>alisonrosenthal</td>\n",
       "      <td>medium</td>\n",
       "      <td>54926.0</td>\n",
       "      <td>Stanford University Graduate School of Business</td>\n",
       "      <td>NaT</td>\n",
       "      <td>54926.0</td>\n",
       "      <td>MBA</td>\n",
       "      <td>NaN</td>\n",
       "      <td>1</td>\n",
       "    </tr>\n",
       "    <tr>\n",
       "      <th>10</th>\n",
       "      <td>127140</td>\n",
       "      <td>Alison</td>\n",
       "      <td>Rosenthal</td>\n",
       "      <td>5</td>\n",
       "      <td>alisonrosenthal</td>\n",
       "      <td>medium</td>\n",
       "      <td>54926.0</td>\n",
       "      <td>Stanford University Graduate School of Business</td>\n",
       "      <td>NaT</td>\n",
       "      <td>54927.0</td>\n",
       "      <td>BA</td>\n",
       "      <td>NaN</td>\n",
       "      <td>1</td>\n",
       "    </tr>\n",
       "    <tr>\n",
       "      <th>11</th>\n",
       "      <td>127140</td>\n",
       "      <td>Alison</td>\n",
       "      <td>Rosenthal</td>\n",
       "      <td>5</td>\n",
       "      <td>alisonrosenthal</td>\n",
       "      <td>medium</td>\n",
       "      <td>54927.0</td>\n",
       "      <td>Brown University</td>\n",
       "      <td>NaT</td>\n",
       "      <td>54926.0</td>\n",
       "      <td>MBA</td>\n",
       "      <td>NaN</td>\n",
       "      <td>1</td>\n",
       "    </tr>\n",
       "    <tr>\n",
       "      <th>12</th>\n",
       "      <td>127140</td>\n",
       "      <td>Alison</td>\n",
       "      <td>Rosenthal</td>\n",
       "      <td>5</td>\n",
       "      <td>alisonrosenthal</td>\n",
       "      <td>medium</td>\n",
       "      <td>54927.0</td>\n",
       "      <td>Brown University</td>\n",
       "      <td>NaT</td>\n",
       "      <td>54927.0</td>\n",
       "      <td>BA</td>\n",
       "      <td>NaN</td>\n",
       "      <td>1</td>\n",
       "    </tr>\n",
       "    <tr>\n",
       "      <th>13</th>\n",
       "      <td>135182</td>\n",
       "      <td>Makinde</td>\n",
       "      <td>Adeagbo</td>\n",
       "      <td>5</td>\n",
       "      <td>makinde</td>\n",
       "      <td>medium</td>\n",
       "      <td>19522.0</td>\n",
       "      <td>Massachusetts Institute of Technology (MIT)</td>\n",
       "      <td>2007-01-01</td>\n",
       "      <td>19522.0</td>\n",
       "      <td>BS</td>\n",
       "      <td>Computer Science</td>\n",
       "      <td>1</td>\n",
       "    </tr>\n",
       "    <tr>\n",
       "      <th>14</th>\n",
       "      <td>146969</td>\n",
       "      <td>Katherine</td>\n",
       "      <td>Losse</td>\n",
       "      <td>5</td>\n",
       "      <td>NaN</td>\n",
       "      <td>medium</td>\n",
       "      <td>NaN</td>\n",
       "      <td>no_information</td>\n",
       "      <td>NaT</td>\n",
       "      <td>NaN</td>\n",
       "      <td>no_information</td>\n",
       "      <td>NaN</td>\n",
       "      <td>0</td>\n",
       "    </tr>\n",
       "    <tr>\n",
       "      <th>15</th>\n",
       "      <td>150087</td>\n",
       "      <td>Emily</td>\n",
       "      <td>Grewal</td>\n",
       "      <td>5</td>\n",
       "      <td>emilygrewal</td>\n",
       "      <td>medium</td>\n",
       "      <td>21682.0</td>\n",
       "      <td>Stanford University</td>\n",
       "      <td>NaT</td>\n",
       "      <td>21682.0</td>\n",
       "      <td>MS</td>\n",
       "      <td>Statistics</td>\n",
       "      <td>1</td>\n",
       "    </tr>\n",
       "    <tr>\n",
       "      <th>16</th>\n",
       "      <td>150087</td>\n",
       "      <td>Emily</td>\n",
       "      <td>Grewal</td>\n",
       "      <td>5</td>\n",
       "      <td>emilygrewal</td>\n",
       "      <td>medium</td>\n",
       "      <td>21682.0</td>\n",
       "      <td>Stanford University</td>\n",
       "      <td>NaT</td>\n",
       "      <td>21683.0</td>\n",
       "      <td>BA</td>\n",
       "      <td>Economics</td>\n",
       "      <td>1</td>\n",
       "    </tr>\n",
       "    <tr>\n",
       "      <th>17</th>\n",
       "      <td>150087</td>\n",
       "      <td>Emily</td>\n",
       "      <td>Grewal</td>\n",
       "      <td>5</td>\n",
       "      <td>emilygrewal</td>\n",
       "      <td>medium</td>\n",
       "      <td>21683.0</td>\n",
       "      <td>Stanford University</td>\n",
       "      <td>NaT</td>\n",
       "      <td>21682.0</td>\n",
       "      <td>MS</td>\n",
       "      <td>Statistics</td>\n",
       "      <td>1</td>\n",
       "    </tr>\n",
       "    <tr>\n",
       "      <th>18</th>\n",
       "      <td>150087</td>\n",
       "      <td>Emily</td>\n",
       "      <td>Grewal</td>\n",
       "      <td>5</td>\n",
       "      <td>emilygrewal</td>\n",
       "      <td>medium</td>\n",
       "      <td>21683.0</td>\n",
       "      <td>Stanford University</td>\n",
       "      <td>NaT</td>\n",
       "      <td>21683.0</td>\n",
       "      <td>BA</td>\n",
       "      <td>Economics</td>\n",
       "      <td>1</td>\n",
       "    </tr>\n",
       "    <tr>\n",
       "      <th>19</th>\n",
       "      <td>15296</td>\n",
       "      <td>Sandra Liu</td>\n",
       "      <td>Huang</td>\n",
       "      <td>5</td>\n",
       "      <td>NaN</td>\n",
       "      <td>medium</td>\n",
       "      <td>1271.0</td>\n",
       "      <td>Stanford University</td>\n",
       "      <td>2005-01-01</td>\n",
       "      <td>1271.0</td>\n",
       "      <td>MS</td>\n",
       "      <td>Management Science and Engineering</td>\n",
       "      <td>1</td>\n",
       "    </tr>\n",
       "  </tbody>\n",
       "</table>\n",
       "</div>"
      ],
      "text/plain": [
       "    person_id  first_name   last_name  company_id network_username  \\\n",
       "0          10        Mark  Zuckerberg           5              NaN   \n",
       "1       10430       Ruchi     Sanghvi           5         rsanghvi   \n",
       "2       10430       Ruchi     Sanghvi           5         rsanghvi   \n",
       "3       10430       Ruchi     Sanghvi           5         rsanghvi   \n",
       "4       10430       Ruchi     Sanghvi           5         rsanghvi   \n",
       "5      106199        Adam    Marchick           5  adammarstanford   \n",
       "6      108814       Jimmy         Zhu           5            jyzhu   \n",
       "7          11      Dustin   Moskovitz           5              NaN   \n",
       "8      125183     Brandon      Sayles           5              NaN   \n",
       "9      127140      Alison   Rosenthal           5  alisonrosenthal   \n",
       "10     127140      Alison   Rosenthal           5  alisonrosenthal   \n",
       "11     127140      Alison   Rosenthal           5  alisonrosenthal   \n",
       "12     127140      Alison   Rosenthal           5  alisonrosenthal   \n",
       "13     135182     Makinde     Adeagbo           5          makinde   \n",
       "14     146969   Katherine       Losse           5              NaN   \n",
       "15     150087       Emily      Grewal           5      emilygrewal   \n",
       "16     150087       Emily      Grewal           5      emilygrewal   \n",
       "17     150087       Emily      Grewal           5      emilygrewal   \n",
       "18     150087       Emily      Grewal           5      emilygrewal   \n",
       "19      15296  Sandra Liu       Huang           5              NaN   \n",
       "\n",
       "   category_company  education_id_x  \\\n",
       "0            medium          2415.0   \n",
       "1            medium          4247.0   \n",
       "2            medium          4247.0   \n",
       "3            medium          4248.0   \n",
       "4            medium          4248.0   \n",
       "5            medium         15666.0   \n",
       "6            medium         16050.0   \n",
       "7            medium         13476.0   \n",
       "8            medium         18382.0   \n",
       "9            medium         54926.0   \n",
       "10           medium         54926.0   \n",
       "11           medium         54927.0   \n",
       "12           medium         54927.0   \n",
       "13           medium         19522.0   \n",
       "14           medium             NaN   \n",
       "15           medium         21682.0   \n",
       "16           medium         21682.0   \n",
       "17           medium         21683.0   \n",
       "18           medium         21683.0   \n",
       "19           medium          1271.0   \n",
       "\n",
       "                                       instituition graduated_at  \\\n",
       "0                                Harvard University          NaT   \n",
       "1                        Carnegie Mellon University          NaT   \n",
       "2                        Carnegie Mellon University          NaT   \n",
       "3                        Carnegie Mellon University          NaT   \n",
       "4                        Carnegie Mellon University          NaT   \n",
       "5                               Stanford University   2002-01-01   \n",
       "6       Massachusetts Institute of Technology (MIT)          NaT   \n",
       "7                                Harvard University          NaT   \n",
       "8           National Institute of Technology Raipur          NaT   \n",
       "9   Stanford University Graduate School of Business          NaT   \n",
       "10  Stanford University Graduate School of Business          NaT   \n",
       "11                                 Brown University          NaT   \n",
       "12                                 Brown University          NaT   \n",
       "13      Massachusetts Institute of Technology (MIT)   2007-01-01   \n",
       "14                                   no_information          NaT   \n",
       "15                              Stanford University          NaT   \n",
       "16                              Stanford University          NaT   \n",
       "17                              Stanford University          NaT   \n",
       "18                              Stanford University          NaT   \n",
       "19                              Stanford University   2005-01-01   \n",
       "\n",
       "    education_id_y                       degree_type  \\\n",
       "0           2415.0                    no_information   \n",
       "1           4247.0                                BS   \n",
       "2           4248.0                                MA   \n",
       "3           4247.0                                BS   \n",
       "4           4248.0                                MA   \n",
       "5          15666.0                                BS   \n",
       "6          16050.0                              S.B.   \n",
       "7          13476.0                         No degree   \n",
       "8          18382.0  Computer Engineering (HarDwarE &   \n",
       "9          54926.0                               MBA   \n",
       "10         54927.0                                BA   \n",
       "11         54926.0                               MBA   \n",
       "12         54927.0                                BA   \n",
       "13         19522.0                                BS   \n",
       "14             NaN                    no_information   \n",
       "15         21682.0                                MS   \n",
       "16         21683.0                                BA   \n",
       "17         21682.0                                MS   \n",
       "18         21683.0                                BA   \n",
       "19          1271.0                                MS   \n",
       "\n",
       "                               subject  inf_about_education  \n",
       "0                     Computer Science                    1  \n",
       "1      Electrical Computer Engineering                    1  \n",
       "2      Electrical Computer Engineering                    1  \n",
       "3      Electrical Computer Engineering                    1  \n",
       "4      Electrical Computer Engineering                    1  \n",
       "5                     Computer Science                    1  \n",
       "6             Management Science, Math                    1  \n",
       "7                                  NaN                    1  \n",
       "8                        All in degree                    1  \n",
       "9                                  NaN                    1  \n",
       "10                                 NaN                    1  \n",
       "11                                 NaN                    1  \n",
       "12                                 NaN                    1  \n",
       "13                    Computer Science                    1  \n",
       "14                                 NaN                    0  \n",
       "15                          Statistics                    1  \n",
       "16                           Economics                    1  \n",
       "17                          Statistics                    1  \n",
       "18                           Economics                    1  \n",
       "19  Management Science and Engineering                    1  "
      ]
     },
     "execution_count": 39,
     "metadata": {},
     "output_type": "execute_result"
    }
   ],
   "source": [
    "# Заменим пропуски в столбцах instituition и degree_type на no_information(1 - есть информация; 0 - нет)\n",
    "join_people_df['instituition'] = join_people_df['instituition'].fillna('no_information')\n",
    "join_people_df['degree_type'] = join_people_df['degree_type'].fillna('no_information')\n",
    "\n",
    "def omissions(column):\n",
    "    if column['instituition'] == 'no_information' and column['degree_type'] == 'no_information':\n",
    "        return 0\n",
    "    else:\n",
    "        return 1\n",
    "\n",
    "join_people_df['inf_about_education'] = join_people_df.apply(omissions, axis=1)\n",
    "join_people_df.head(20)"
   ]
  },
  {
   "cell_type": "code",
   "execution_count": 40,
   "metadata": {
    "scrolled": true
   },
   "outputs": [
    {
     "data": {
      "text/html": [
       "<div>\n",
       "<style scoped>\n",
       "    .dataframe tbody tr th:only-of-type {\n",
       "        vertical-align: middle;\n",
       "    }\n",
       "\n",
       "    .dataframe tbody tr th {\n",
       "        vertical-align: top;\n",
       "    }\n",
       "\n",
       "    .dataframe thead th {\n",
       "        text-align: right;\n",
       "    }\n",
       "</style>\n",
       "<table border=\"1\" class=\"dataframe\">\n",
       "  <thead>\n",
       "    <tr style=\"text-align: right;\">\n",
       "      <th></th>\n",
       "      <th>category_company</th>\n",
       "      <th>have_inf</th>\n",
       "      <th>all_count</th>\n",
       "      <th>havent_inf</th>\n",
       "      <th>percent_havent_inf</th>\n",
       "    </tr>\n",
       "  </thead>\n",
       "  <tbody>\n",
       "    <tr>\n",
       "      <th>0</th>\n",
       "      <td>small</td>\n",
       "      <td>17280</td>\n",
       "      <td>32846</td>\n",
       "      <td>15566</td>\n",
       "      <td>47.39</td>\n",
       "    </tr>\n",
       "    <tr>\n",
       "      <th>1</th>\n",
       "      <td>medium</td>\n",
       "      <td>805</td>\n",
       "      <td>1236</td>\n",
       "      <td>431</td>\n",
       "      <td>34.87</td>\n",
       "    </tr>\n",
       "    <tr>\n",
       "      <th>2</th>\n",
       "      <td>large</td>\n",
       "      <td>379</td>\n",
       "      <td>531</td>\n",
       "      <td>152</td>\n",
       "      <td>28.63</td>\n",
       "    </tr>\n",
       "  </tbody>\n",
       "</table>\n",
       "</div>"
      ],
      "text/plain": [
       "  category_company  have_inf  all_count  havent_inf  percent_havent_inf\n",
       "0            small     17280      32846       15566               47.39\n",
       "1           medium       805       1236         431               34.87\n",
       "2            large       379        531         152               28.63"
      ]
     },
     "execution_count": 40,
     "metadata": {},
     "output_type": "execute_result"
    }
   ],
   "source": [
    "# выделяю уникальные person_id с информацией и вывожу информацию об их образовании\n",
    "have_inf = join_people_df.groupby(['category_company', 'person_id'])['inf_about_education'].max().reset_index()\n",
    "# считаю таких людей\n",
    "inf_educ_df = have_inf.groupby('category_company')['inf_about_education'].sum().reset_index()\n",
    "# считаю общее количество людей \n",
    "all_count_df = join_people_df.groupby('category_company')['person_id'].nunique().reset_index()\n",
    "# соединяю в один датафрейм\n",
    "inf_education_df = inf_educ_df.merge(all_count_df, how='inner', on='category_company')\n",
    "inf_education_df.columns = ['category_company', 'have_inf', 'all_count']\n",
    "\n",
    "inf_education_df['havent_inf']  = inf_education_df['all_count'] - inf_education_df['have_inf']\n",
    "inf_education_df['percent_havent_inf'] = round(inf_education_df['havent_inf'] / inf_education_df['all_count'] * 100,2)\n",
    "\n",
    "inf_education_df['have_inf'] = inf_education_df['have_inf'].astype('int')\n",
    "inf_education_df['havent_inf'] = inf_education_df['havent_inf'].astype('int')\n",
    "inf_education_df"
   ]
  },
  {
   "cell_type": "code",
   "execution_count": 41,
   "metadata": {},
   "outputs": [
    {
     "data": {
      "text/plain": [
       "<Figure size 720x432 with 0 Axes>"
      ]
     },
     "metadata": {},
     "output_type": "display_data"
    },
    {
     "data": {
      "image/png": "[encoded data removed]",
      "text/plain": [
       "<Figure size 432x288 with 1 Axes>"
      ]
     },
     "metadata": {
      "needs_background": "light"
     },
     "output_type": "display_data"
    }
   ],
   "source": [
    "plt.figure(figsize=(10, 6))\n",
    "\n",
    "inf_education_df.plot(kind = 'bar',\n",
    "                      x = 'category_company', y = 'percent_havent_inf',\n",
    "                      color = 'purple',\n",
    "                      legend = False,\n",
    "                      rot = 0\n",
    "                     )\n",
    "plt.title('Доля сотрудников без информации об образовании по категориям компаний')\n",
    "plt.ylabel('Процент')\n",
    "\n",
    "plt.show()"
   ]
  },
  {
   "cell_type": "markdown",
   "metadata": {},
   "source": [
    "### Промежуточный вывод  о зависимости полноты сведений об образовании сотрудников от размера компаний."
   ]
  },
  {
   "cell_type": "markdown",
   "metadata": {},
   "source": [
    "Анализ показал, что наблюдается **четкая тенденция**: чем крупнее компания, тем полнее информация об образовании ее сотрудников:\n",
    "\n",
    "- Small (1-15 сотрудников): 47.39% сотрудников без данных об образовании\n",
    "- Medium (16-100): 34.87%\n",
    "- Large (101+): 28.63%\n",
    "\n",
    "Это может объясняться:\n",
    "\n",
    "- Более строгим кадровым учетом в крупных компаниях\n",
    "- Длительным периодом сбора данных (крупные компании чаще обновляют информацию)\n",
    "- В маленьких компаниях часто работают самоучки, которые не получали специального образования"
   ]
  },
  {
   "cell_type": "markdown",
   "metadata": {
    "id": "Lz7qjM32xglW"
   },
   "source": [
    "### 2.3. Объединять или не объединять — вот в чём вопрос\n",
    "\n",
    "Некоторые названия столбцов встречаются в датасетах чаще других. В результате предварительной проверки датасетов было выяснено, что столбец `company_id` подходит для объединения данных.\n",
    "\n",
    "- Установите, подходит ли для объединения данных столбец `network_username`, который встречается в нескольких датасетах. Нам необходимо понимать, дублируется ли для разных датасетов информация в столбцах с таким названием, и если да — то насколько часто.\n",
    "- Оцените, можно ли использовать столбцы с именем `network_username` для объединения данных."
   ]
  },
  {
   "cell_type": "markdown",
   "metadata": {
    "id": "zyI3rt0rxg1O"
   },
   "source": [
    "Столбец `network_username` встречается в:\n",
    "\n",
    "- company_and_rounds_df\n",
    "- people_df\n",
    "\n",
    "Необходимо проверить:\n",
    "\n",
    "1. Являются ли username уникальными для каждого объекта (сотрудника/компании)\n",
    "\n",
    "2. Есть ли пересечения между username компаний и сотрудников"
   ]
  },
  {
   "cell_type": "code",
   "execution_count": 42,
   "metadata": {
    "id": "RxOS5rwmFcNW"
   },
   "outputs": [
    {
     "data": {
      "text/plain": [
       "16.95"
      ]
     },
     "execution_count": 42,
     "metadata": {},
     "output_type": "execute_result"
    }
   ],
   "source": [
    "# доля уникальных значений для сотрудников\n",
    "unique_people_usernames = people_df['network_username'].nunique()\n",
    "total_people = len(people_df)\n",
    "percent_unique_username_people = round(unique_people_usernames / total_people * 100, 2)\n",
    "percent_unique_username_people"
   ]
  },
  {
   "cell_type": "code",
   "execution_count": 43,
   "metadata": {
    "id": "_7gjdrGOFcB2"
   },
   "outputs": [
    {
     "data": {
      "text/plain": [
       "36.54"
      ]
     },
     "execution_count": 43,
     "metadata": {},
     "output_type": "execute_result"
    }
   ],
   "source": [
    "# доля уникальных значений для компаний\n",
    "unique_company_usernames = company_and_rounds_df['network_username'].nunique()\n",
    "total_company = len(company_and_rounds_df)\n",
    "percent_unique_username_company = round(unique_company_usernames / total_company * 100 , 2)\n",
    "percent_unique_username_company"
   ]
  },
  {
   "cell_type": "markdown",
   "metadata": {},
   "source": [
    "При работе с пропусками было выявлено, что в датафрейме people_df в столбце network_username 84.73% пропусков, а в датафрейме company_and_rounds_df 56.13%. Таким образом на основе полученных значений о доли уникальных значений: 16.95% и 36.54% для people_df и company_and_rounds_df соответственно, можно сделать заключения, что все данные в каждом столбце являются уникальными."
   ]
  },
  {
   "cell_type": "code",
   "execution_count": 44,
   "metadata": {},
   "outputs": [
    {
     "data": {
      "text/plain": [
       "{'buzztouchApp',\n",
       " 'jeffshjarback',\n",
       " 'zbra',\n",
       " 'Argura',\n",
       " 'Vconnecta',\n",
       " 'rafflecopter',\n",
       " 'gmailxiaojie',\n",
       " 'robimbeault',\n",
       " 'Omnifone',\n",
       " 'tsheets',\n",
       " 'transcriptwave',\n",
       " 'delicatezzaUK',\n",
       " 'indicareer',\n",
       " 'steelvaultdata',\n",
       " 'theseoportal',\n",
       " 'tefdigital',\n",
       " 'razhair',\n",
       " 'fameusUSA',\n",
       " 'robriggsiii',\n",
       " 'dandingocpa',\n",
       " 'smash_haus',\n",
       " 'zarsmedia',\n",
       " 'yapp',\n",
       " 'insightforge',\n",
       " 'willscullypower',\n",
       " 'tureus',\n",
       " 'killermobile',\n",
       " 'LilitabKiosk',\n",
       " 'hannaaase',\n",
       " 'designingstudio',\n",
       " 'crowdgather',\n",
       " 'Andolasoft',\n",
       " 'johnasmcdonald',\n",
       " 'launchbit',\n",
       " 'mazecard',\n",
       " 'nathancarnes',\n",
       " 'co_simple',\n",
       " '21cssindia1',\n",
       " 'poker',\n",
       " 'juhani',\n",
       " 'filmbudget',\n",
       " 'reputationnews',\n",
       " 'venforo',\n",
       " 'MikeFish111',\n",
       " 'yourprivacy',\n",
       " 'ctshplc',\n",
       " 'oggin',\n",
       " 'Quickercity',\n",
       " 'roheenaa',\n",
       " 'SaaSy',\n",
       " 'liqueoinc',\n",
       " 'get_a_game',\n",
       " 'autoclaims',\n",
       " 'gridgain',\n",
       " 'InsideAxis',\n",
       " 'intelen',\n",
       " 'TranquilDental1',\n",
       " 'Numerounoweb',\n",
       " 'perceptionweb',\n",
       " 'Muzieo',\n",
       " 'GreggLorenzo_',\n",
       " 'seocorporation',\n",
       " 'gocubby',\n",
       " 'redpointhq',\n",
       " 'hywelapbuckler',\n",
       " 'onfx',\n",
       " 'hirephpcom',\n",
       " 'gsound_app',\n",
       " 'InThree',\n",
       " 'csworks',\n",
       " '_huion_',\n",
       " 'dnatimes',\n",
       " 'edarabia',\n",
       " 'avaimobile',\n",
       " 'wheemplay',\n",
       " 'mythingsapp',\n",
       " 'yeatoby',\n",
       " 'exprtise',\n",
       " 'mortfertel',\n",
       " 'tentoglou',\n",
       " 'Weemba',\n",
       " 'seqcentral',\n",
       " '_alphabeth',\n",
       " 'QueenieDress',\n",
       " 'mr1elee',\n",
       " 'goskateschool',\n",
       " 'triangledirect',\n",
       " 'coinxinc',\n",
       " 'exploramed',\n",
       " 'davecraige',\n",
       " 'shieldfunding',\n",
       " 'oogababy',\n",
       " 'simonsezs',\n",
       " 'InsiderPerks',\n",
       " 'wealthsprout',\n",
       " 'InfraUpgrade',\n",
       " 'dealdecor',\n",
       " 'soloenglish',\n",
       " '4delite',\n",
       " 'hypertech_ser',\n",
       " 'canecom',\n",
       " 'embrioodotcom',\n",
       " 'priceofmobiles',\n",
       " 'luckyprimellc',\n",
       " 'tecmoz',\n",
       " 'bestfitmobile',\n",
       " 'Shillster',\n",
       " 'localbizreg',\n",
       " 'animekida',\n",
       " 'jongkind_jtc',\n",
       " 'visionhelpdesk',\n",
       " 'swarmiq_tweets',\n",
       " 'andreadusi_vr',\n",
       " 'stordokshredder',\n",
       " 'space_antiques',\n",
       " 'ciloryindia',\n",
       " 'ScanMedQR',\n",
       " 'bliiir',\n",
       " 'yourartbay',\n",
       " 'opallabs',\n",
       " 'onetest_hr',\n",
       " 'yreceipts',\n",
       " 'imensosoftware0',\n",
       " 'Famocracy',\n",
       " 'tampaempire',\n",
       " 'NuHabitat',\n",
       " 'AbsoluteVariety',\n",
       " 'modraideja',\n",
       " 'edeckers',\n",
       " 'forexfx4x',\n",
       " 'esoftload',\n",
       " 'thequotefish',\n",
       " 'bargainbusnews',\n",
       " 'SureComm',\n",
       " 'CryoCell',\n",
       " 'templates_sale',\n",
       " 'NitinPradhanCIO',\n",
       " 'vistexinc',\n",
       " 'BizDevAngel',\n",
       " 'nickbeske',\n",
       " 'orcharddesigns',\n",
       " 'socialbicycles',\n",
       " 'placcountants',\n",
       " 'genadinik',\n",
       " 'brickandmaker',\n",
       " 'i_inspire',\n",
       " 'centeros',\n",
       " 'sibylvision',\n",
       " 'clippinghq',\n",
       " 'fearlesscomp',\n",
       " 'bigroadinc',\n",
       " 'carlislegroup',\n",
       " 'prisynccom',\n",
       " 'mashable',\n",
       " 'lifeknot',\n",
       " 'davegovan',\n",
       " 'kurtpenberg',\n",
       " 'LorenzTwit',\n",
       " 'CW_JenniferB',\n",
       " 'younationwide',\n",
       " 'seo_pro',\n",
       " 'hotelicopter',\n",
       " 'MELT_MEDIA',\n",
       " 'ethicalbrand',\n",
       " 'Glydewrite',\n",
       " 'pamegan',\n",
       " 'actualprint',\n",
       " 'erudify',\n",
       " 'jojamieson',\n",
       " 'coupsmart',\n",
       " 'appfolio',\n",
       " 'mysurveylab',\n",
       " 'sitercom',\n",
       " 'operationoffers',\n",
       " 'bookitlive',\n",
       " 'pud',\n",
       " 'neelsus',\n",
       " 'b3intelligence',\n",
       " 'sgbmedia',\n",
       " 'HackBoing',\n",
       " 'youronlineft',\n",
       " 'wiki_pr',\n",
       " 'jcherbo',\n",
       " 'scrattchsearch',\n",
       " 'allanoziel',\n",
       " 'fitnessgym_AZ',\n",
       " 'vocso',\n",
       " 'innoengines',\n",
       " 'kisshunterSrl',\n",
       " 'trifectaky',\n",
       " 'exozet',\n",
       " 'Conjugo',\n",
       " 'repolift',\n",
       " 'rampratetony',\n",
       " 'springshot_com',\n",
       " 'evvnt',\n",
       " 'peontv',\n",
       " 'darenslaughter',\n",
       " 'greenbirdIT',\n",
       " '3dsmaxmodeling',\n",
       " 'frankbuysphilly',\n",
       " 'homesacross',\n",
       " 'digitalhotdeal',\n",
       " 'gbramlet',\n",
       " 'BridgesAdv',\n",
       " 'rushkoff',\n",
       " 'IanHSmith',\n",
       " 'real_tony',\n",
       " 'youbooksapp',\n",
       " 'Addictd2Success',\n",
       " 'securesupport',\n",
       " 'Nosservices',\n",
       " 'samurai_ken',\n",
       " 'icdsarch',\n",
       " 'AccessWest',\n",
       " 'usjoomlaforce',\n",
       " 'byersbush',\n",
       " 'arnaudfischer',\n",
       " 'ssg_inc',\n",
       " 'AdviceWallet',\n",
       " 'byennen',\n",
       " 'GardeningFun',\n",
       " 'cazoomi',\n",
       " 'BuySellTradeRV',\n",
       " 'officevp',\n",
       " 'andrewdudum',\n",
       " 'InstaTee',\n",
       " 'gigstate',\n",
       " 'ProjectMtn',\n",
       " 'youlayaway',\n",
       " 'collegejackets',\n",
       " 'editEon',\n",
       " 'halfpennyonline',\n",
       " 'gmrtranscripts',\n",
       " 'compstak',\n",
       " 'exosite',\n",
       " 'projecteve1',\n",
       " 'ByncHQ',\n",
       " 'guzmanadrian',\n",
       " 'etaconsults',\n",
       " 'ManmadeNotebook',\n",
       " 'NewsletterEx',\n",
       " 'carrollwebdev',\n",
       " 'UBERFAN',\n",
       " 'lmgpr',\n",
       " 'thecmoclub',\n",
       " 'winwinbooks',\n",
       " 'cirkulr',\n",
       " 'togapit',\n",
       " 'planpod',\n",
       " 'detailreno',\n",
       " 'ncameron',\n",
       " '15marketing',\n",
       " 'rhobi1',\n",
       " 'aravindajith',\n",
       " 'textwithdextr',\n",
       " 'IT_Support_HQ',\n",
       " 'addoway',\n",
       " 'gremboul',\n",
       " 'fluidhtml',\n",
       " 'michaeldornan',\n",
       " 'lynxworkflow',\n",
       " 'ipvietnamtour',\n",
       " 'jaxcore',\n",
       " 'todltweets',\n",
       " 'koshikabio',\n",
       " '4evervogue',\n",
       " 'wordsteps_en',\n",
       " '8globaltech',\n",
       " 'squadronlondon',\n",
       " 'ZarkoCompare',\n",
       " 'mctip_it',\n",
       " 'HospitalityXing',\n",
       " 'listaustralia',\n",
       " 'twalaba',\n",
       " 'shefalimusic',\n",
       " 'ivanet',\n",
       " 'encirca',\n",
       " 'rolfeswinton',\n",
       " 'ganttic',\n",
       " 'qmedichealth',\n",
       " 'margaretwallace',\n",
       " 'thecandeoagency',\n",
       " 'QuintinAdamis',\n",
       " 'JustFabOnline',\n",
       " 'egullyindia',\n",
       " 'KarlSastrugi',\n",
       " 'diaetme',\n",
       " 'benmcdowell',\n",
       " 'gregmasley',\n",
       " 'hatchvalleyco',\n",
       " 'touchofmodern',\n",
       " 'clippingpaths7',\n",
       " 'erwood',\n",
       " 'LIFEmee',\n",
       " 'itmonteur',\n",
       " 'abovethefraymag',\n",
       " 'egreenbuilding',\n",
       " 'DashBurst',\n",
       " 'startupers',\n",
       " 'wabisabi9',\n",
       " 'GoTekEnergy',\n",
       " 'becoacht',\n",
       " 'kortingshop',\n",
       " 'greenprophet',\n",
       " 'snipsnapapp',\n",
       " 'kbsconsultants',\n",
       " 'seo_doctor',\n",
       " 'ITALondon',\n",
       " 'SLPowers',\n",
       " 'dwhs',\n",
       " 'adliptweet',\n",
       " 'koalentin',\n",
       " 'digitalvisiontv',\n",
       " 'shesaidbeauty',\n",
       " 'geo_will',\n",
       " 'CHINICT',\n",
       " 'kagoo_com',\n",
       " 'streamuk',\n",
       " 'richardalois',\n",
       " 'earbits',\n",
       " 'mrtejkohli',\n",
       " 'mtrdesign',\n",
       " 'exoprise',\n",
       " 'CoyleAndrew',\n",
       " 'healthimghub',\n",
       " 'sparqlight',\n",
       " 'ViVOforce',\n",
       " 'boardmybiz',\n",
       " 'clientwhys',\n",
       " 'futuresearches',\n",
       " 'teamweekplan',\n",
       " 'entrepreneurSF',\n",
       " 'catchtorolav',\n",
       " 'crowd_supply',\n",
       " 'safame20',\n",
       " 'anteksiler',\n",
       " 'artemis_seo',\n",
       " '_topseos_',\n",
       " 'drquickbooks',\n",
       " 'GlamourMod',\n",
       " 'dgillesfr',\n",
       " 'CrowdfundGuy',\n",
       " 'toby39',\n",
       " 'roshya',\n",
       " 'TEMAeurope',\n",
       " 't_crawford',\n",
       " 'worldwineevents',\n",
       " 'techahead',\n",
       " 'ekwitycom',\n",
       " 'skorpyoclub',\n",
       " 'reputami',\n",
       " 'AtomantsIT',\n",
       " 'excelmanish',\n",
       " 'droidsecurity',\n",
       " 'wizride',\n",
       " 'afzee',\n",
       " 'RedTricycleMom',\n",
       " 'clinkmeltd',\n",
       " 'phpkode',\n",
       " 'adambard',\n",
       " 'ambitionbag',\n",
       " 'give2gether',\n",
       " 'headhuntable',\n",
       " 'zisboombah',\n",
       " 'supramagnets',\n",
       " 'tampacosmetic',\n",
       " 'adthena',\n",
       " 'medclimate',\n",
       " 'endorphin_me',\n",
       " 'bashfoo',\n",
       " 'givology',\n",
       " 'web9x',\n",
       " 'thesocialnumber',\n",
       " 'stevenPiPsports',\n",
       " 'ecapsnet',\n",
       " 'probabilityplc',\n",
       " 'AvenueSocial',\n",
       " 'raffledog',\n",
       " 'nouvelinnovator',\n",
       " 'globolstaff',\n",
       " 'bittenbydesign',\n",
       " 'aalphaindia',\n",
       " 'onsecrethunt',\n",
       " 'Rekaudo',\n",
       " 'lawinsider',\n",
       " 'jeffstieler',\n",
       " 'randyhamilton',\n",
       " 'toolswatch',\n",
       " 'bahlteam',\n",
       " 'leximo',\n",
       " 'earliz',\n",
       " 'gneuman',\n",
       " 'FITRadio',\n",
       " 'Webmarketing123',\n",
       " 'maxmayo',\n",
       " 'vozio',\n",
       " 'treelifedesigns',\n",
       " 'theyoungturks',\n",
       " 'fcohen',\n",
       " 'RapidBoost',\n",
       " 'hoganmaps',\n",
       " 'TraveDoc',\n",
       " 'FabricPaul',\n",
       " 'rcginfosoft',\n",
       " 'travelhead',\n",
       " 'TLOTL',\n",
       " 'globalchamber',\n",
       " 'garnerseo',\n",
       " 'mykuyam',\n",
       " 'Weplann',\n",
       " 'moranconsulting',\n",
       " 'atechnocrats',\n",
       " 'pmwagner',\n",
       " 'yuilop',\n",
       " 'Snac',\n",
       " 'charlesgrimm',\n",
       " 'vcipublisher',\n",
       " 'umebooks',\n",
       " 'zarpzdotcom',\n",
       " 'encoreseo',\n",
       " 'grouptalent',\n",
       " 'Picocent',\n",
       " 'rhytha',\n",
       " 'riaxe',\n",
       " 'seoindia231',\n",
       " 'MobiDev_',\n",
       " 'naffyrules',\n",
       " 'RobotAppStore',\n",
       " 'localseoireland',\n",
       " 'd2eu',\n",
       " 'jasonkintzler',\n",
       " 'localbooking',\n",
       " 'bioZhena',\n",
       " 'CouponMajaa',\n",
       " 'suwarnasoft',\n",
       " 'lioninside',\n",
       " 'jungroup',\n",
       " 'iconprinting',\n",
       " 'choicedelhi',\n",
       " 'edu_koala',\n",
       " 'robinjewsbury',\n",
       " 'T_Dispatch',\n",
       " 'answerslab',\n",
       " 'ProlifikSEO',\n",
       " 'zettavox',\n",
       " 'cargoh',\n",
       " 'weareqipp',\n",
       " 'IMRadioOnline',\n",
       " 'onlinemarketdk',\n",
       " 'ProfStream',\n",
       " 'MounzaInc',\n",
       " 'top10',\n",
       " 'litemediadesk',\n",
       " 'three60market',\n",
       " 'getClever',\n",
       " 'dvspl',\n",
       " 'jm_pouabou',\n",
       " 'ShawWebDgnGroup',\n",
       " 'conversionsupp',\n",
       " 'visio2france',\n",
       " 'amanda_hill',\n",
       " 'readrz',\n",
       " 'jomieleung',\n",
       " 'forexpromos',\n",
       " 'AviGlatt',\n",
       " 'Kaliusz',\n",
       " 'tywanwade',\n",
       " 'colin_wt',\n",
       " 'orangecollar',\n",
       " 'flubitweet',\n",
       " 'xlfe',\n",
       " 'pinciti',\n",
       " 'integratire',\n",
       " 'design_run',\n",
       " 'yumedeals3',\n",
       " 'createforfuture',\n",
       " 'rockrevelations',\n",
       " 'ecoemplois',\n",
       " 'multiposting',\n",
       " 'KEXINO',\n",
       " 'edsdru',\n",
       " 'mkseoservices',\n",
       " 'randolf',\n",
       " 'karenshackelfo',\n",
       " 'webdeveloper619',\n",
       " 'hmiah1',\n",
       " 'LinkCaffeine',\n",
       " 'AaliyahLina',\n",
       " 'kanchukaonline',\n",
       " 'GigsTask',\n",
       " 'teejclark',\n",
       " 'butu_zone',\n",
       " 'eTimesheets',\n",
       " 'MINNIANDA',\n",
       " 'adlibsoftware',\n",
       " 'jobsbostontech',\n",
       " 'agenceindigo',\n",
       " 'BlackCaesarX',\n",
       " 'haltngo',\n",
       " 'mrs2be',\n",
       " 'BizVizWiz',\n",
       " 'bellatouch',\n",
       " 'StrikeInternet',\n",
       " 'gr_brains',\n",
       " 'merrows',\n",
       " 'manugill1995',\n",
       " 'comodosslstore',\n",
       " 'electriclenny',\n",
       " 'enovativegroup',\n",
       " 'whydomba',\n",
       " 'janneaaltonen',\n",
       " 'vikrantkjain',\n",
       " 'pin2ping',\n",
       " 'GetInMyBand',\n",
       " 'Appizon',\n",
       " 'seetheprogress',\n",
       " 'roadtrafficsign',\n",
       " 'LAdvertising',\n",
       " 'onlinesdl',\n",
       " 'merlinsoft',\n",
       " '4thaspect',\n",
       " 'cofounderslab',\n",
       " 'leecontractguru',\n",
       " 'TurnerDetroit',\n",
       " 'mediaretrievers',\n",
       " 'sl8zrecruiting',\n",
       " 'RailsTeam',\n",
       " 'AarowIndustries',\n",
       " 'krimfuk22',\n",
       " 'fantoon',\n",
       " 'clouds_media',\n",
       " 'SilkFred',\n",
       " 'bpublic',\n",
       " 'spothero',\n",
       " 'expressor',\n",
       " 'theheuristics',\n",
       " 'KallystoMedias',\n",
       " 'indianic',\n",
       " 'Accruing',\n",
       " 'gs4media',\n",
       " 'shootsharewin',\n",
       " 'adsmoke1',\n",
       " 'TaglineMachine',\n",
       " 'annfinnbalboa',\n",
       " 'iTrendTV',\n",
       " 'keychainsocial',\n",
       " 'fitdeck',\n",
       " 'orgyourpeople',\n",
       " 'treeshore',\n",
       " 'BosleyMedical',\n",
       " 'playbackrewards',\n",
       " 'Giochi_mmo',\n",
       " 'jlantunez',\n",
       " 'Sit4Charities',\n",
       " 'pogoplug',\n",
       " 'emobisoft',\n",
       " 'graticle',\n",
       " 'pofx_adagency',\n",
       " 'infinityintel',\n",
       " 'Bizpora',\n",
       " 'vebnest',\n",
       " 'audaxhealth',\n",
       " 'clippingpath_WH',\n",
       " 'azeemaosaf',\n",
       " 'geniot',\n",
       " 'guestblogit',\n",
       " 'OatesPartners',\n",
       " 'seniorcarehomes',\n",
       " 'cadcrowd',\n",
       " 'goodcore',\n",
       " 'powwowhr',\n",
       " 'foodmarketing',\n",
       " 'scootpad',\n",
       " 'tespiliakis',\n",
       " '9Dot_Strategies',\n",
       " 'iheartmuzeek',\n",
       " 'hiptraveler',\n",
       " 'freecamloader',\n",
       " 'mediaoptions',\n",
       " 'lumiydesign',\n",
       " 'sitementrix',\n",
       " 'ceoworld',\n",
       " 'ergo_evolution',\n",
       " 'gcrocker',\n",
       " 'mikehubdotnet',\n",
       " 'Dibollandassoc',\n",
       " 'forfone',\n",
       " 'egointer',\n",
       " 'matthagger',\n",
       " 'JustinHammack',\n",
       " 'veterancentral',\n",
       " 'sathivacreation',\n",
       " 'comnicate',\n",
       " 'bizbroker23',\n",
       " 'builderproprty',\n",
       " 'noodleshare',\n",
       " 'SE_IP',\n",
       " 'mindtrades',\n",
       " 'pickagenius',\n",
       " 'opinno',\n",
       " 'Talisflorida',\n",
       " 'smithsonmartin',\n",
       " 'vantagelocal',\n",
       " 'beseenontop',\n",
       " 'SFPropertyForce',\n",
       " 'yukaichou',\n",
       " 'LaurenJonesShoe',\n",
       " 'play2lead',\n",
       " 'massmediagroup',\n",
       " 'SeriousGamesInt',\n",
       " 'jocke',\n",
       " 'toygaroo',\n",
       " 'jeffchristian_',\n",
       " 'antonejohnson',\n",
       " 'gowanderu',\n",
       " 'ciscobuy',\n",
       " 'popnewswire',\n",
       " 'warrenwilkinson',\n",
       " 'localfoodsys',\n",
       " 'sextant',\n",
       " 'shannon_mullen',\n",
       " 'cuttle',\n",
       " 'aloha',\n",
       " 'AntonRock',\n",
       " 'EarlyTracks',\n",
       " 'KILTR',\n",
       " 'Hieroglifs_RO',\n",
       " 'AboutOne',\n",
       " 'sibersonik',\n",
       " 'raze_the_world',\n",
       " 'hey_kiki',\n",
       " 'TamaraWirz777',\n",
       " 'mentorhip',\n",
       " 'RTime',\n",
       " 'PingarHQ',\n",
       " 'MedicalSEOGuy',\n",
       " 'redalumnos',\n",
       " 'c3metrics',\n",
       " 'brit',\n",
       " 'TheSEOProUK',\n",
       " 'skillendar',\n",
       " 'BidPal',\n",
       " 'elementaltech',\n",
       " 'MyLocalForums',\n",
       " 'vinny_says',\n",
       " 'rahulgchaudhary',\n",
       " 'gameutilitiesap',\n",
       " 'brightfireview',\n",
       " 'uencounterme',\n",
       " 'bulkemailverify',\n",
       " 'tweetintent',\n",
       " 'jetmind',\n",
       " 'tekora',\n",
       " 'EcommerceJobs',\n",
       " 'Get10',\n",
       " 'inforamadocs',\n",
       " 'joinvilleinc',\n",
       " 'urnetwork',\n",
       " 'Montclairadvrs',\n",
       " 'EngineersJobs',\n",
       " 'omarabdodds',\n",
       " 'BurlCarpetOne',\n",
       " 'decodingthegame',\n",
       " 'writework_com',\n",
       " 'Selidbe_Prevoz',\n",
       " 'taiaut_vw',\n",
       " 'EichholzLawFirm',\n",
       " 'Silent_Order',\n",
       " 'rlatebooking',\n",
       " 'iPhoneAppsDevp',\n",
       " 'tomsplanner',\n",
       " 'unitedvirtual',\n",
       " 'rno',\n",
       " 'worldwidesupply',\n",
       " 'signavio',\n",
       " 'IntegrityFirstM',\n",
       " 'FitforGreen',\n",
       " 'maxOz',\n",
       " 'danielkuperman',\n",
       " 'Crowdfunding_PR',\n",
       " 'list2tech',\n",
       " 'Galavantier',\n",
       " 'mavenlink',\n",
       " 'simplilearn',\n",
       " 'bosstechnology',\n",
       " 'reynoldsdigital',\n",
       " 'tomhoganlaw',\n",
       " 'sievetech',\n",
       " 'free2astrology',\n",
       " 'gatim',\n",
       " 'Mirolta',\n",
       " 'tikshitravels',\n",
       " 'lasiksandiegod',\n",
       " 'foodiebytes',\n",
       " 'LibiBITech',\n",
       " 'bizzduniya',\n",
       " 'EmergingThreats',\n",
       " 'BOLDGuidance',\n",
       " 'duckmoose',\n",
       " '100mbpsfiber',\n",
       " 'hsafe',\n",
       " 'TripAdvisor',\n",
       " 'ClearCopywrite',\n",
       " 'hostedd',\n",
       " 'sensegiz',\n",
       " 'worldfoodtravel',\n",
       " 'fannitup',\n",
       " 'dressmyphone',\n",
       " 'Moonit',\n",
       " 'ablegrape',\n",
       " 'freeconference',\n",
       " 'startup2venture',\n",
       " 'GuerillaW',\n",
       " 'Yomdel',\n",
       " '4Urugs',\n",
       " 'gilfuseducation',\n",
       " 'hashe',\n",
       " 'thethinkcircle',\n",
       " 'gigantium',\n",
       " 'jumpropers',\n",
       " 'sgrove',\n",
       " 'anzatechnet',\n",
       " 'europeshuttle',\n",
       " 'mymzoneltd',\n",
       " 'dtexshop',\n",
       " 'Yellloh',\n",
       " 'Frozenbluemuss',\n",
       " 'allofcraigslist',\n",
       " 'jnisby',\n",
       " 'iovation',\n",
       " 'SquaredOut',\n",
       " 'qwikienglish',\n",
       " 'bizible',\n",
       " 'lapicamedia',\n",
       " 'predsolutions',\n",
       " 'rsalistservices',\n",
       " 'softwebchicago',\n",
       " 'crazybob',\n",
       " 'graph_me',\n",
       " 'greenhousegnome',\n",
       " 'samirkarande',\n",
       " 'bradharrison1',\n",
       " 'SimuSync',\n",
       " 'JRandomF',\n",
       " 'ipropertyreview',\n",
       " 'robertwprice',\n",
       " 'atebits',\n",
       " 'mediaburst',\n",
       " 'texstarenergytx',\n",
       " 'feefighters',\n",
       " 'sophiasearch',\n",
       " 'popappfactory',\n",
       " 'yours2share',\n",
       " 'VMRConsultants',\n",
       " 'furukama',\n",
       " 'bewod',\n",
       " 'Lorenburnett',\n",
       " 'grippo',\n",
       " '36kr',\n",
       " 'yourdailytask',\n",
       " 'Tap_Track',\n",
       " 'RauhmelFoxCEO',\n",
       " 'nishantsoni123',\n",
       " 'digitallecom',\n",
       " 'chandradekrio',\n",
       " 'glglaw',\n",
       " 'buildnative',\n",
       " 'chadprey',\n",
       " 'textloansinfo',\n",
       " 'firmaffiliate',\n",
       " 'vaayaaeducation',\n",
       " 'wilschroter',\n",
       " 'FourElementsMed',\n",
       " 'crocpond',\n",
       " 'internetdj',\n",
       " 'neighby',\n",
       " '8thandWalton',\n",
       " 'allprecisehvac',\n",
       " 'startupi',\n",
       " 'JasonBaudendist',\n",
       " 'aristotlecircle',\n",
       " 'impulsesave',\n",
       " 'yachtico',\n",
       " 'EvasDate',\n",
       " 'giftbigtweets',\n",
       " 'Coderbyte',\n",
       " 'ceosherpa',\n",
       " 'firmlyplanted',\n",
       " 'ofertarca',\n",
       " 'MSPassport',\n",
       " 'geekrowd',\n",
       " 'quirke_',\n",
       " 'masschallenge',\n",
       " 'Elixserve',\n",
       " 'michellem',\n",
       " 'Derm_Link',\n",
       " 'DanielEndy',\n",
       " 'potenciald',\n",
       " 'myvitaminmart_',\n",
       " 'sunforged',\n",
       " 'ethoseo',\n",
       " 'socialagency1',\n",
       " 'givenext',\n",
       " 'viralseo',\n",
       " 'echosec_corp',\n",
       " 'Biz_BT_Intl',\n",
       " 'IntroMaps',\n",
       " 'gal_away',\n",
       " 'atCollab',\n",
       " 'tomposerjll',\n",
       " 'broadsidemedia',\n",
       " 'teamMBH',\n",
       " 'mindmatrix',\n",
       " 'Tpad',\n",
       " 'yoink',\n",
       " 'konoozi',\n",
       " 'rprosen',\n",
       " 'datingbullet',\n",
       " 'billesping',\n",
       " 'amhnews',\n",
       " 'ForceITLLC',\n",
       " 'msprojectserver',\n",
       " 'venturehacks',\n",
       " 'yeloworld',\n",
       " 'esauve',\n",
       " 'ParaGate',\n",
       " 'fightmeofficial',\n",
       " 'covetique',\n",
       " 'orrisindia',\n",
       " 'tampawebdesign',\n",
       " 'DeliverySolNW',\n",
       " 'qliqsoft',\n",
       " 'rfilippini',\n",
       " 'astutehosting',\n",
       " 'CloudCEO',\n",
       " 'LamassuBTC',\n",
       " 'WHTVRme',\n",
       " 'IndusaITSol',\n",
       " 'Brightidea',\n",
       " 'videoexplainers',\n",
       " 'govindeng64',\n",
       " 'clickssl',\n",
       " 'clickariane',\n",
       " 'Flow_Studio',\n",
       " 'spellspace',\n",
       " 'niyati',\n",
       " 'smartonlinepros',\n",
       " 'EOCloud',\n",
       " 'mindjolt',\n",
       " 'leegunn',\n",
       " 'hometrackr',\n",
       " 'vowch',\n",
       " 'PlayToonGames',\n",
       " 'magicrob',\n",
       " 'TheFootballApp',\n",
       " 'codeprooftech',\n",
       " 'Socinteract',\n",
       " 'safe2waytexasdd',\n",
       " 'timesofnet',\n",
       " 'oemsecrets',\n",
       " 'pennjillette',\n",
       " 'taniablackalln',\n",
       " 'azurati1',\n",
       " 'manageyourtime',\n",
       " 'uniwebb',\n",
       " 'mariodc',\n",
       " 'obiesoftware',\n",
       " 'ihelplounge',\n",
       " 'projop',\n",
       " 'heelsrepublic',\n",
       " 'stevefidelity',\n",
       " 'hoonio',\n",
       " 'dave_ideate',\n",
       " 'behnight',\n",
       " 'kafechew',\n",
       " 'live2sellgroup',\n",
       " '41stParameter',\n",
       " 'ecobold',\n",
       " 'cloudacl',\n",
       " 'gerridsmith',\n",
       " 'uptilab',\n",
       " 'allcalltech',\n",
       " 'Thymometrics',\n",
       " 'dv8media',\n",
       " 'dusten',\n",
       " 'staffsquared',\n",
       " 'CallCenterXing',\n",
       " 'danilodelfino',\n",
       " 'CyberSponse',\n",
       " 'webmuch',\n",
       " 'iWatchLife',\n",
       " 'TheCityStreet',\n",
       " 'nevolutionllc',\n",
       " 'geoffbrandre',\n",
       " 'lord974',\n",
       " 'UPFRONTMEDIA',\n",
       " 'purevpn',\n",
       " 'sslrenewals',\n",
       " '4koegler',\n",
       " 'colingilchrist',\n",
       " 'beacab',\n",
       " 'boalt',\n",
       " 'VacanciesEng',\n",
       " 'mnxconnect',\n",
       " 'seedups',\n",
       " 'teamitt',\n",
       " 'incensetalk',\n",
       " 'crowdzu',\n",
       " 'bespokeapp',\n",
       " 'mobilemagzter',\n",
       " 'insomniacevents',\n",
       " 'TEHC_India',\n",
       " 'UnimastersCom',\n",
       " 'ryanstevensnu',\n",
       " 'skyrank',\n",
       " 'sundstedt',\n",
       " 'Chapmanleonard',\n",
       " 'roofmasterscorp',\n",
       " 'BinaryBonuses',\n",
       " 'liamdayan',\n",
       " 'jasoncitron',\n",
       " 'illumemag',\n",
       " 'sawyertraining',\n",
       " 'YoungHollywood',\n",
       " 'dendesigners',\n",
       " 'mindahome',\n",
       " 'Mixtur',\n",
       " 'ImpactSocialMe1',\n",
       " 'peoplesinnovasn',\n",
       " 'virante',\n",
       " 'LehighADC',\n",
       " 'blackwood_vc',\n",
       " 'royalcrownseo',\n",
       " 'ngocthuygroup',\n",
       " 'SprinkleBit',\n",
       " 'rinish720',\n",
       " 'wegolook',\n",
       " 'itksys',\n",
       " 'bookd',\n",
       " 'Armadillosdo',\n",
       " 'hhc_pune',\n",
       " 'ibuywesell',\n",
       " 'lunchmemo_com',\n",
       " 'BlogsConnection',\n",
       " 'comufy',\n",
       " 'IWebServices',\n",
       " 'tmmdata',\n",
       " 'friendfund',\n",
       " 'airfy',\n",
       " 'gavinnewsom4gov',\n",
       " 'fastmediamag',\n",
       " 'eWinWin',\n",
       " 'empeopled',\n",
       " 'Questechie',\n",
       " 'tre_beth',\n",
       " 'meitrack',\n",
       " 'schawel',\n",
       " 'chandavid',\n",
       " 'hackingtag',\n",
       " 'syrinxza',\n",
       " 'groceryalerts',\n",
       " 'cheapohnetwork',\n",
       " 'irocke',\n",
       " 'trustembedded',\n",
       " 'Ableton',\n",
       " 'mikeford',\n",
       " 'CamelotCastleHo',\n",
       " 'benjaminrudolph',\n",
       " 'proprly',\n",
       " 'knokstory',\n",
       " 'thereeveslawgro',\n",
       " 'NeevAdmarketing',\n",
       " 'eKomi',\n",
       " 'salon_zahra',\n",
       " 'InfoGrok',\n",
       " 'ConnectAndSell',\n",
       " 'itchimes',\n",
       " 'aptitudestaff',\n",
       " 'MonthlyMobiles',\n",
       " 'richardcampcpa',\n",
       " 'Apt_Ninjas',\n",
       " 'socialanimalusa',\n",
       " 'amkico01',\n",
       " 'shinetechdk',\n",
       " 'appsolutesarl',\n",
       " 'vasusrini',\n",
       " 'akosmasoftware',\n",
       " 'adam0shaw',\n",
       " 'EconTechSys',\n",
       " 'Qriffic',\n",
       " 'absolutmind_eu',\n",
       " 'AskEachOtherVIP',\n",
       " 'treptalks',\n",
       " 'PhotoRush',\n",
       " 'accuracast',\n",
       " 'academicworks',\n",
       " 'PatLefler',\n",
       " 'imediadisha',\n",
       " 'Ayero',\n",
       " ...}"
      ]
     },
     "execution_count": 44,
     "metadata": {},
     "output_type": "execute_result"
    }
   ],
   "source": [
    "# поиск одинаковый названий в 'network_username' для двух датасетов\n",
    "common_usernames = set(people_df['network_username'].dropna()) & set(company_and_rounds_df['network_username'].dropna()) #удаляем дубликаты и имещ пересечения двух множеств\n",
    "common_usernames"
   ]
  },
  {
   "cell_type": "markdown",
   "metadata": {},
   "source": [
    "Есть несколько совпадающих значений network_username в двух датасетах"
   ]
  },
  {
   "cell_type": "markdown",
   "metadata": {},
   "source": [
    "### Промежуточный вывод о возможности объединения датасетов  people_df и company_and_rounds_df по столбцу network_username."
   ]
  },
  {
   "cell_type": "markdown",
   "metadata": {},
   "source": [
    "**Проблемы с данными:**\n",
    "\n",
    "1. В обоих столбцах двух таблиц высокий процент пропусков:\n",
    "\n",
    "- В people_df: 82.9% пропусков\n",
    "- В company_and_rounds_df: 56.1% пропусков\n",
    "\n",
    "2. Возможные конфликты: один username может относиться и к компании, и к сотруднику. Таким образом сотрудник может иметь такой же никнейм, как и официальный аккаунт компании.\n",
    "\n",
    "**Вывод:** столбец network_username лучше использовать как ключ для JOIN из-за:\n",
    "\n",
    "- Высокого процента пропусков\n",
    "- Потенциальных конфликтов между компаниями и людьми\n",
    "- Отсутствия гарантии уникальности"
   ]
  },
  {
   "cell_type": "markdown",
   "metadata": {
    "id": "EHcODomVrJg1"
   },
   "source": [
    "\n",
    "### 2.4. Проблемный датасет и причина возникновения пропусков\n",
    "\n",
    "Во время собственного анализа данных у заказчика больше всего вопросов возникло к датасету `company_and_rounds.csv`. В нём много пропусков как раз в информации о раундах, которая заказчику важна.\n",
    "\n",
    "- Любым удобным способом приведите данные в вид, который позволит в дальнейшем проводить анализ в разрезе отдельных компаний. Обратите внимание на структуру датасета, порядок и названия столбцов, проанализируйте значения.\n",
    "\n",
    "По гипотезе заказчика данные по компаниям из этой таблицы раньше хранились иначе, более удобным для исследования образом.\n",
    "\n",
    "- Максимальным образом сохраняя данные, сохранив их связность и исключив возможные возникающие при этом ошибки, подготовьте данные так, чтобы удобно было отобрать компании по параметрам и рассчитать показатели из расчёта на одну компанию без промежуточных агрегаций."
   ]
  },
  {
   "cell_type": "code",
   "execution_count": 45,
   "metadata": {
    "id": "oSk7xqu_FbaN",
    "scrolled": true
   },
   "outputs": [
    {
     "name": "stdout",
     "output_type": "stream",
     "text": [
      "<class 'pandas.core.frame.DataFrame'>\n",
      "RangeIndex: 217774 entries, 0 to 217773\n",
      "Data columns (total 21 columns):\n",
      " #   Column               Non-Null Count   Dtype         \n",
      "---  ------               --------------   -----         \n",
      " 0   company_id           217472 non-null  float64       \n",
      " 1   name                 217472 non-null  object        \n",
      " 2   category_code        143886 non-null  object        \n",
      " 3   status               217472 non-null  object        \n",
      " 4   founded_at           109956 non-null  datetime64[ns]\n",
      " 5   closed_at            3449 non-null    datetime64[ns]\n",
      " 6   domain               147159 non-null  object        \n",
      " 7   network_username     95534 non-null   object        \n",
      " 8   country_code         108607 non-null  object        \n",
      " 9   investment_rounds    217472 non-null  float64       \n",
      " 10  funding_rounds       217472 non-null  float64       \n",
      " 11  funding_total        217472 non-null  float64       \n",
      " 12  milestones           217472 non-null  float64       \n",
      " 13  funding_round_id     52928 non-null   float64       \n",
      " 14  funded_at            52680 non-null   datetime64[ns]\n",
      " 15  funding_round_type   52928 non-null   object        \n",
      " 16  raised_amount        52928 non-null   float64       \n",
      " 17  pre_money_valuation  52928 non-null   float64       \n",
      " 18  participants         52928 non-null   float64       \n",
      " 19  is_first_round       52928 non-null   float64       \n",
      " 20  is_last_round        52928 non-null   float64       \n",
      "dtypes: datetime64[ns](3), float64(11), object(7)\n",
      "memory usage: 34.9+ MB\n"
     ]
    }
   ],
   "source": [
    "company_and_rounds_df.info()"
   ]
  },
  {
   "cell_type": "code",
   "execution_count": 46,
   "metadata": {
    "id": "9BY9lTUcFbJ-"
   },
   "outputs": [
    {
     "data": {
      "text/plain": [
       "0"
      ]
     },
     "execution_count": 46,
     "metadata": {},
     "output_type": "execute_result"
    }
   ],
   "source": [
    "# сначала проверим данные на дубликаты\n",
    "company_and_rounds_df.duplicated().sum() # общих дубликатов нет"
   ]
  },
  {
   "cell_type": "markdown",
   "metadata": {
    "id": "tJ6Sl6MKrJg1",
    "vscode": {
     "languageId": "plaintext"
    }
   },
   "source": [
    "В данной таблице смешаны данные о компаниях и раундах финансирования. Для более удобного анализа разделим их на 2 датафрейма."
   ]
  },
  {
   "cell_type": "code",
   "execution_count": 47,
   "metadata": {},
   "outputs": [
    {
     "name": "stdout",
     "output_type": "stream",
     "text": [
      "<class 'pandas.core.frame.DataFrame'>\n",
      "Int64Index: 217472 entries, 0 to 217471\n",
      "Data columns (total 9 columns):\n",
      " #   Column            Non-Null Count   Dtype         \n",
      "---  ------            --------------   -----         \n",
      " 0   company_id        217472 non-null  int64         \n",
      " 1   name              217472 non-null  object        \n",
      " 2   category_code     217472 non-null  object        \n",
      " 3   status            217472 non-null  object        \n",
      " 4   founded_at        217472 non-null  datetime64[ns]\n",
      " 5   closed_at         217472 non-null  datetime64[ns]\n",
      " 6   domain            217472 non-null  object        \n",
      " 7   network_username  217472 non-null  object        \n",
      " 8   country_code      217472 non-null  object        \n",
      "dtypes: datetime64[ns](2), int64(1), object(6)\n",
      "memory usage: 16.6+ MB\n"
     ]
    },
    {
     "name": "stderr",
     "output_type": "stream",
     "text": [
      "/tmp/ipykernel_94/1822282489.py:8: SettingWithCopyWarning: \n",
      "A value is trying to be set on a copy of a slice from a DataFrame\n",
      "\n",
      "See the caveats in the documentation: https://pandas.pydata.org/pandas-docs/stable/user_guide/indexing.html#returning-a-view-versus-a-copy\n",
      "  company_df.dropna(subset=['company_id'], inplace=True)\n",
      "/tmp/ipykernel_94/1822282489.py:11: SettingWithCopyWarning: \n",
      "A value is trying to be set on a copy of a slice from a DataFrame.\n",
      "Try using .loc[row_indexer,col_indexer] = value instead\n",
      "\n",
      "See the caveats in the documentation: https://pandas.pydata.org/pandas-docs/stable/user_guide/indexing.html#returning-a-view-versus-a-copy\n",
      "  company_df['category_code'] = company_df['category_code'].fillna('unknown')\n",
      "/tmp/ipykernel_94/1822282489.py:12: SettingWithCopyWarning: \n",
      "A value is trying to be set on a copy of a slice from a DataFrame.\n",
      "Try using .loc[row_indexer,col_indexer] = value instead\n",
      "\n",
      "See the caveats in the documentation: https://pandas.pydata.org/pandas-docs/stable/user_guide/indexing.html#returning-a-view-versus-a-copy\n",
      "  company_df['domain'] = company_df['domain'].fillna('unknown')\n",
      "/tmp/ipykernel_94/1822282489.py:13: SettingWithCopyWarning: \n",
      "A value is trying to be set on a copy of a slice from a DataFrame.\n",
      "Try using .loc[row_indexer,col_indexer] = value instead\n",
      "\n",
      "See the caveats in the documentation: https://pandas.pydata.org/pandas-docs/stable/user_guide/indexing.html#returning-a-view-versus-a-copy\n",
      "  company_df['network_username'] = company_df['network_username'].fillna('unknown')\n",
      "/tmp/ipykernel_94/1822282489.py:14: SettingWithCopyWarning: \n",
      "A value is trying to be set on a copy of a slice from a DataFrame.\n",
      "Try using .loc[row_indexer,col_indexer] = value instead\n",
      "\n",
      "See the caveats in the documentation: https://pandas.pydata.org/pandas-docs/stable/user_guide/indexing.html#returning-a-view-versus-a-copy\n",
      "  company_df['country_code'] = company_df['country_code'].fillna('unknown')\n",
      "/tmp/ipykernel_94/1822282489.py:17: SettingWithCopyWarning: \n",
      "A value is trying to be set on a copy of a slice from a DataFrame.\n",
      "Try using .loc[row_indexer,col_indexer] = value instead\n",
      "\n",
      "See the caveats in the documentation: https://pandas.pydata.org/pandas-docs/stable/user_guide/indexing.html#returning-a-view-versus-a-copy\n",
      "  company_df['founded_at'] = company_df['founded_at'].fillna(pd.Timestamp('1900-01-01'))\n",
      "/tmp/ipykernel_94/1822282489.py:18: SettingWithCopyWarning: \n",
      "A value is trying to be set on a copy of a slice from a DataFrame.\n",
      "Try using .loc[row_indexer,col_indexer] = value instead\n",
      "\n",
      "See the caveats in the documentation: https://pandas.pydata.org/pandas-docs/stable/user_guide/indexing.html#returning-a-view-versus-a-copy\n",
      "  company_df['closed_at'] = company_df['closed_at'].fillna(pd.Timestamp('1900-01-01'))\n",
      "/tmp/ipykernel_94/1822282489.py:21: SettingWithCopyWarning: \n",
      "A value is trying to be set on a copy of a slice from a DataFrame.\n",
      "Try using .loc[row_indexer,col_indexer] = value instead\n",
      "\n",
      "See the caveats in the documentation: https://pandas.pydata.org/pandas-docs/stable/user_guide/indexing.html#returning-a-view-versus-a-copy\n",
      "  company_df['company_id'] = company_df['company_id'].astype('int64')\n"
     ]
    }
   ],
   "source": [
    "# данные о компаниях\n",
    "company_df = company_and_rounds_df[[\n",
    "    'company_id', 'name', 'category_code', 'status', \n",
    "    'founded_at', 'closed_at', 'domain', 'network_username', 'country_code' \n",
    "]]\n",
    "\n",
    "# удалим строки с пропусками в company_id, так как их невозможно восстановить, а также их содержится малое количество, из-за чего их удаление не повлияет на репрезентативность данных \n",
    "company_df.dropna(subset=['company_id'], inplace=True)\n",
    "\n",
    "# заменим пропуски в category_code, domain, network_username и country_code на значение-индикатор unknown\n",
    "company_df['category_code'] = company_df['category_code'].fillna('unknown')\n",
    "company_df['domain'] = company_df['domain'].fillna('unknown')\n",
    "company_df['network_username'] = company_df['network_username'].fillna('unknown')\n",
    "company_df['country_code'] = company_df['country_code'].fillna('unknown')\n",
    "\n",
    "# заменим пропуски в founded_at и closed_at на значение-индикатор 1900-01-01\n",
    "company_df['founded_at'] = company_df['founded_at'].fillna(pd.Timestamp('1900-01-01'))\n",
    "company_df['closed_at'] = company_df['closed_at'].fillna(pd.Timestamp('1900-01-01'))\n",
    "\n",
    "# заменим тип данных в столбце company_id на int64\n",
    "company_df['company_id'] = company_df['company_id'].astype('int64')\n",
    "\n",
    "company_df.info()"
   ]
  },
  {
   "cell_type": "code",
   "execution_count": 48,
   "metadata": {
    "scrolled": true
   },
   "outputs": [
    {
     "name": "stdout",
     "output_type": "stream",
     "text": [
      "<class 'pandas.core.frame.DataFrame'>\n",
      "Int64Index: 52626 entries, 0 to 217471\n",
      "Data columns (total 9 columns):\n",
      " #   Column               Non-Null Count  Dtype         \n",
      "---  ------               --------------  -----         \n",
      " 0   funding_round_id     52626 non-null  int64         \n",
      " 1   company_id           52626 non-null  int64         \n",
      " 2   funded_at            52626 non-null  datetime64[ns]\n",
      " 3   funding_round_type   52626 non-null  object        \n",
      " 4   raised_amount        52626 non-null  int64         \n",
      " 5   pre_money_valuation  52626 non-null  int64         \n",
      " 6   participants         52626 non-null  int64         \n",
      " 7   is_first_round       52626 non-null  int8          \n",
      " 8   is_last_round        52626 non-null  int8          \n",
      "dtypes: datetime64[ns](1), int64(5), int8(2), object(1)\n",
      "memory usage: 3.3+ MB\n"
     ]
    },
    {
     "name": "stderr",
     "output_type": "stream",
     "text": [
      "/tmp/ipykernel_94/2415927268.py:11: SettingWithCopyWarning: \n",
      "A value is trying to be set on a copy of a slice from a DataFrame\n",
      "\n",
      "See the caveats in the documentation: https://pandas.pydata.org/pandas-docs/stable/user_guide/indexing.html#returning-a-view-versus-a-copy\n",
      "  funding_df.dropna(subset=['funding_round_id'], inplace=True)\n",
      "/tmp/ipykernel_94/2415927268.py:14: SettingWithCopyWarning: \n",
      "A value is trying to be set on a copy of a slice from a DataFrame\n",
      "\n",
      "See the caveats in the documentation: https://pandas.pydata.org/pandas-docs/stable/user_guide/indexing.html#returning-a-view-versus-a-copy\n",
      "  funding_df.dropna(subset=['company_id'], inplace=True)\n",
      "/tmp/ipykernel_94/2415927268.py:17: SettingWithCopyWarning: \n",
      "A value is trying to be set on a copy of a slice from a DataFrame.\n",
      "Try using .loc[row_indexer,col_indexer] = value instead\n",
      "\n",
      "See the caveats in the documentation: https://pandas.pydata.org/pandas-docs/stable/user_guide/indexing.html#returning-a-view-versus-a-copy\n",
      "  funding_df['funded_at'] = funding_df['funded_at'].fillna(pd.Timestamp('1900-01-01'))\n",
      "/tmp/ipykernel_94/2415927268.py:20: SettingWithCopyWarning: \n",
      "A value is trying to be set on a copy of a slice from a DataFrame.\n",
      "Try using .loc[row_indexer,col_indexer] = value instead\n",
      "\n",
      "See the caveats in the documentation: https://pandas.pydata.org/pandas-docs/stable/user_guide/indexing.html#returning-a-view-versus-a-copy\n",
      "  funding_df['funding_round_id'] = funding_df['funding_round_id'].astype('int64')\n",
      "/tmp/ipykernel_94/2415927268.py:21: SettingWithCopyWarning: \n",
      "A value is trying to be set on a copy of a slice from a DataFrame.\n",
      "Try using .loc[row_indexer,col_indexer] = value instead\n",
      "\n",
      "See the caveats in the documentation: https://pandas.pydata.org/pandas-docs/stable/user_guide/indexing.html#returning-a-view-versus-a-copy\n",
      "  funding_df['company_id'] = funding_df['company_id'].astype('int64')\n",
      "/tmp/ipykernel_94/2415927268.py:22: SettingWithCopyWarning: \n",
      "A value is trying to be set on a copy of a slice from a DataFrame.\n",
      "Try using .loc[row_indexer,col_indexer] = value instead\n",
      "\n",
      "See the caveats in the documentation: https://pandas.pydata.org/pandas-docs/stable/user_guide/indexing.html#returning-a-view-versus-a-copy\n",
      "  funding_df['raised_amount'] = funding_df['raised_amount'].astype('int64')\n",
      "/tmp/ipykernel_94/2415927268.py:23: SettingWithCopyWarning: \n",
      "A value is trying to be set on a copy of a slice from a DataFrame.\n",
      "Try using .loc[row_indexer,col_indexer] = value instead\n",
      "\n",
      "See the caveats in the documentation: https://pandas.pydata.org/pandas-docs/stable/user_guide/indexing.html#returning-a-view-versus-a-copy\n",
      "  funding_df['pre_money_valuation'] = funding_df['pre_money_valuation'].astype('int64')\n",
      "/tmp/ipykernel_94/2415927268.py:24: SettingWithCopyWarning: \n",
      "A value is trying to be set on a copy of a slice from a DataFrame.\n",
      "Try using .loc[row_indexer,col_indexer] = value instead\n",
      "\n",
      "See the caveats in the documentation: https://pandas.pydata.org/pandas-docs/stable/user_guide/indexing.html#returning-a-view-versus-a-copy\n",
      "  funding_df['participants'] = funding_df['participants'].astype('int64')\n",
      "/tmp/ipykernel_94/2415927268.py:25: SettingWithCopyWarning: \n",
      "A value is trying to be set on a copy of a slice from a DataFrame.\n",
      "Try using .loc[row_indexer,col_indexer] = value instead\n",
      "\n",
      "See the caveats in the documentation: https://pandas.pydata.org/pandas-docs/stable/user_guide/indexing.html#returning-a-view-versus-a-copy\n",
      "  funding_df['is_first_round'] = pd.to_numeric(funding_df['is_first_round'], downcast='integer')\n",
      "/tmp/ipykernel_94/2415927268.py:26: SettingWithCopyWarning: \n",
      "A value is trying to be set on a copy of a slice from a DataFrame.\n",
      "Try using .loc[row_indexer,col_indexer] = value instead\n",
      "\n",
      "See the caveats in the documentation: https://pandas.pydata.org/pandas-docs/stable/user_guide/indexing.html#returning-a-view-versus-a-copy\n",
      "  funding_df['is_last_round'] = pd.to_numeric(funding_df['is_last_round'], downcast='integer')\n"
     ]
    }
   ],
   "source": [
    "# данные о финансировании \n",
    "funding_df = company_and_rounds_df[[\n",
    "    'funding_round_id', 'company_id', 'funded_at',\n",
    "    'funding_round_type', 'raised_amount',\n",
    "    'pre_money_valuation', 'participants',\n",
    "    'is_first_round', 'is_last_round'\n",
    "]]\n",
    "\n",
    "# удалим все строки для которых нет информации о company_id \n",
    "#(такое большое количество непустых данных, в отличие от других столбцов, может быть обусловлено тем, что некоторые компании не получали финсирование)\n",
    "funding_df.dropna(subset=['funding_round_id'], inplace=True)\n",
    "\n",
    "# удалим строки, где отсутствует информация об id компании, так как данные строки невозможно будет анализировать в разрезе компаний\n",
    "funding_df.dropna(subset=['company_id'], inplace=True)\n",
    "\n",
    "# пропуски в столбце funded_at заменим на значение-индикатор 1900-01-01\n",
    "funding_df['funded_at'] = funding_df['funded_at'].fillna(pd.Timestamp('1900-01-01'))\n",
    "\n",
    "# заменим тип данных в столбцах с числовыми типами данных на int64 и оптимизируем тип данных для is_first_round и is_last_round\n",
    "funding_df['funding_round_id'] = funding_df['funding_round_id'].astype('int64')\n",
    "funding_df['company_id'] = funding_df['company_id'].astype('int64')\n",
    "funding_df['raised_amount'] = funding_df['raised_amount'].astype('int64')\n",
    "funding_df['pre_money_valuation'] = funding_df['pre_money_valuation'].astype('int64')\n",
    "funding_df['participants'] = funding_df['participants'].astype('int64')\n",
    "funding_df['is_first_round'] = pd.to_numeric(funding_df['is_first_round'], downcast='integer')\n",
    "funding_df['is_last_round'] = pd.to_numeric(funding_df['is_last_round'], downcast='integer')\n",
    "\n",
    "funding_df.info()"
   ]
  },
  {
   "cell_type": "code",
   "execution_count": 49,
   "metadata": {
    "scrolled": true
   },
   "outputs": [
    {
     "data": {
      "text/html": [
       "<div>\n",
       "<style scoped>\n",
       "    .dataframe tbody tr th:only-of-type {\n",
       "        vertical-align: middle;\n",
       "    }\n",
       "\n",
       "    .dataframe tbody tr th {\n",
       "        vertical-align: top;\n",
       "    }\n",
       "\n",
       "    .dataframe thead th {\n",
       "        text-align: right;\n",
       "    }\n",
       "</style>\n",
       "<table border=\"1\" class=\"dataframe\">\n",
       "  <thead>\n",
       "    <tr style=\"text-align: right;\">\n",
       "      <th></th>\n",
       "      <th>company_id</th>\n",
       "      <th>total_investment_rounds</th>\n",
       "      <th>total_funding_rounds</th>\n",
       "      <th>total_milestones</th>\n",
       "      <th>total_funding</th>\n",
       "    </tr>\n",
       "  </thead>\n",
       "  <tbody>\n",
       "    <tr>\n",
       "      <th>0</th>\n",
       "      <td>1.0</td>\n",
       "      <td>0.0</td>\n",
       "      <td>9.0</td>\n",
       "      <td>15.0</td>\n",
       "      <td>1.192500e+08</td>\n",
       "    </tr>\n",
       "    <tr>\n",
       "      <th>1</th>\n",
       "      <td>2.0</td>\n",
       "      <td>0.0</td>\n",
       "      <td>0.0</td>\n",
       "      <td>0.0</td>\n",
       "      <td>0.000000e+00</td>\n",
       "    </tr>\n",
       "    <tr>\n",
       "      <th>2</th>\n",
       "      <td>3.0</td>\n",
       "      <td>0.0</td>\n",
       "      <td>0.0</td>\n",
       "      <td>5.0</td>\n",
       "      <td>0.000000e+00</td>\n",
       "    </tr>\n",
       "    <tr>\n",
       "      <th>3</th>\n",
       "      <td>4.0</td>\n",
       "      <td>0.0</td>\n",
       "      <td>16.0</td>\n",
       "      <td>32.0</td>\n",
       "      <td>1.800000e+08</td>\n",
       "    </tr>\n",
       "    <tr>\n",
       "      <th>4</th>\n",
       "      <td>5.0</td>\n",
       "      <td>33.0</td>\n",
       "      <td>121.0</td>\n",
       "      <td>55.0</td>\n",
       "      <td>2.668270e+10</td>\n",
       "    </tr>\n",
       "    <tr>\n",
       "      <th>...</th>\n",
       "      <td>...</td>\n",
       "      <td>...</td>\n",
       "      <td>...</td>\n",
       "      <td>...</td>\n",
       "      <td>...</td>\n",
       "    </tr>\n",
       "    <tr>\n",
       "      <th>196548</th>\n",
       "      <td>286210.0</td>\n",
       "      <td>0.0</td>\n",
       "      <td>0.0</td>\n",
       "      <td>1.0</td>\n",
       "      <td>0.000000e+00</td>\n",
       "    </tr>\n",
       "    <tr>\n",
       "      <th>196549</th>\n",
       "      <td>286211.0</td>\n",
       "      <td>0.0</td>\n",
       "      <td>0.0</td>\n",
       "      <td>0.0</td>\n",
       "      <td>0.000000e+00</td>\n",
       "    </tr>\n",
       "    <tr>\n",
       "      <th>196550</th>\n",
       "      <td>286212.0</td>\n",
       "      <td>0.0</td>\n",
       "      <td>0.0</td>\n",
       "      <td>0.0</td>\n",
       "      <td>0.000000e+00</td>\n",
       "    </tr>\n",
       "    <tr>\n",
       "      <th>196551</th>\n",
       "      <td>286213.0</td>\n",
       "      <td>0.0</td>\n",
       "      <td>0.0</td>\n",
       "      <td>0.0</td>\n",
       "      <td>0.000000e+00</td>\n",
       "    </tr>\n",
       "    <tr>\n",
       "      <th>196552</th>\n",
       "      <td>286215.0</td>\n",
       "      <td>0.0</td>\n",
       "      <td>1.0</td>\n",
       "      <td>0.0</td>\n",
       "      <td>2.712500e+05</td>\n",
       "    </tr>\n",
       "  </tbody>\n",
       "</table>\n",
       "<p>196553 rows × 5 columns</p>\n",
       "</div>"
      ],
      "text/plain": [
       "        company_id  total_investment_rounds  total_funding_rounds  \\\n",
       "0              1.0                      0.0                   9.0   \n",
       "1              2.0                      0.0                   0.0   \n",
       "2              3.0                      0.0                   0.0   \n",
       "3              4.0                      0.0                  16.0   \n",
       "4              5.0                     33.0                 121.0   \n",
       "...            ...                      ...                   ...   \n",
       "196548    286210.0                      0.0                   0.0   \n",
       "196549    286211.0                      0.0                   0.0   \n",
       "196550    286212.0                      0.0                   0.0   \n",
       "196551    286213.0                      0.0                   0.0   \n",
       "196552    286215.0                      0.0                   1.0   \n",
       "\n",
       "        total_milestones  total_funding  \n",
       "0                   15.0   1.192500e+08  \n",
       "1                    0.0   0.000000e+00  \n",
       "2                    5.0   0.000000e+00  \n",
       "3                   32.0   1.800000e+08  \n",
       "4                   55.0   2.668270e+10  \n",
       "...                  ...            ...  \n",
       "196548               1.0   0.000000e+00  \n",
       "196549               0.0   0.000000e+00  \n",
       "196550               0.0   0.000000e+00  \n",
       "196551               0.0   0.000000e+00  \n",
       "196552               0.0   2.712500e+05  \n",
       "\n",
       "[196553 rows x 5 columns]"
      ]
     },
     "execution_count": 49,
     "metadata": {},
     "output_type": "execute_result"
    }
   ],
   "source": [
    "# рассчитаем агрегированные метрики(в разрезе id компаний) для присоединения к company\n",
    "agg_df_company = company_and_rounds_df.groupby('company_id').agg(\n",
    "    total_investment_rounds=('investment_rounds', 'sum'), # суммарное количество инвестиционных раундов\n",
    "    total_funding_rounds=('funding_rounds', 'sum'), # суммарное количество раундов финансирования\n",
    "    total_milestones=('milestones', 'sum'), # суммарное количество вех финансирования\n",
    "    total_funding=('funding_total', 'sum'), # итоговая сумма финансирования\n",
    ").reset_index()\n",
    "agg_df_company"
   ]
  },
  {
   "cell_type": "code",
   "execution_count": 50,
   "metadata": {},
   "outputs": [
    {
     "data": {
      "text/html": [
       "<div>\n",
       "<style scoped>\n",
       "    .dataframe tbody tr th:only-of-type {\n",
       "        vertical-align: middle;\n",
       "    }\n",
       "\n",
       "    .dataframe tbody tr th {\n",
       "        vertical-align: top;\n",
       "    }\n",
       "\n",
       "    .dataframe thead th {\n",
       "        text-align: right;\n",
       "    }\n",
       "</style>\n",
       "<table border=\"1\" class=\"dataframe\">\n",
       "  <thead>\n",
       "    <tr style=\"text-align: right;\">\n",
       "      <th></th>\n",
       "      <th>company_id</th>\n",
       "      <th>average_raised_amount</th>\n",
       "      <th>first_funding_date</th>\n",
       "      <th>last_funding_date</th>\n",
       "    </tr>\n",
       "  </thead>\n",
       "  <tbody>\n",
       "    <tr>\n",
       "      <th>0</th>\n",
       "      <td>1.0</td>\n",
       "      <td>1.325000e+07</td>\n",
       "      <td>2005-10-01</td>\n",
       "      <td>2008-05-19</td>\n",
       "    </tr>\n",
       "    <tr>\n",
       "      <th>1</th>\n",
       "      <td>2.0</td>\n",
       "      <td>NaN</td>\n",
       "      <td>NaT</td>\n",
       "      <td>NaT</td>\n",
       "    </tr>\n",
       "    <tr>\n",
       "      <th>2</th>\n",
       "      <td>3.0</td>\n",
       "      <td>NaN</td>\n",
       "      <td>NaT</td>\n",
       "      <td>NaT</td>\n",
       "    </tr>\n",
       "    <tr>\n",
       "      <th>3</th>\n",
       "      <td>4.0</td>\n",
       "      <td>1.125000e+07</td>\n",
       "      <td>2005-10-01</td>\n",
       "      <td>2011-07-12</td>\n",
       "    </tr>\n",
       "    <tr>\n",
       "      <th>4</th>\n",
       "      <td>5.0</td>\n",
       "      <td>2.205182e+08</td>\n",
       "      <td>2004-09-01</td>\n",
       "      <td>2011-01-21</td>\n",
       "    </tr>\n",
       "    <tr>\n",
       "      <th>...</th>\n",
       "      <td>...</td>\n",
       "      <td>...</td>\n",
       "      <td>...</td>\n",
       "      <td>...</td>\n",
       "    </tr>\n",
       "    <tr>\n",
       "      <th>196548</th>\n",
       "      <td>286210.0</td>\n",
       "      <td>NaN</td>\n",
       "      <td>NaT</td>\n",
       "      <td>NaT</td>\n",
       "    </tr>\n",
       "    <tr>\n",
       "      <th>196549</th>\n",
       "      <td>286211.0</td>\n",
       "      <td>NaN</td>\n",
       "      <td>NaT</td>\n",
       "      <td>NaT</td>\n",
       "    </tr>\n",
       "    <tr>\n",
       "      <th>196550</th>\n",
       "      <td>286212.0</td>\n",
       "      <td>NaN</td>\n",
       "      <td>NaT</td>\n",
       "      <td>NaT</td>\n",
       "    </tr>\n",
       "    <tr>\n",
       "      <th>196551</th>\n",
       "      <td>286213.0</td>\n",
       "      <td>NaN</td>\n",
       "      <td>NaT</td>\n",
       "      <td>NaT</td>\n",
       "    </tr>\n",
       "    <tr>\n",
       "      <th>196552</th>\n",
       "      <td>286215.0</td>\n",
       "      <td>2.712500e+05</td>\n",
       "      <td>2010-04-07</td>\n",
       "      <td>2010-04-07</td>\n",
       "    </tr>\n",
       "  </tbody>\n",
       "</table>\n",
       "<p>196553 rows × 4 columns</p>\n",
       "</div>"
      ],
      "text/plain": [
       "        company_id  average_raised_amount first_funding_date last_funding_date\n",
       "0              1.0           1.325000e+07         2005-10-01        2008-05-19\n",
       "1              2.0                    NaN                NaT               NaT\n",
       "2              3.0                    NaN                NaT               NaT\n",
       "3              4.0           1.125000e+07         2005-10-01        2011-07-12\n",
       "4              5.0           2.205182e+08         2004-09-01        2011-01-21\n",
       "...            ...                    ...                ...               ...\n",
       "196548    286210.0                    NaN                NaT               NaT\n",
       "196549    286211.0                    NaN                NaT               NaT\n",
       "196550    286212.0                    NaN                NaT               NaT\n",
       "196551    286213.0                    NaN                NaT               NaT\n",
       "196552    286215.0           2.712500e+05         2010-04-07        2010-04-07\n",
       "\n",
       "[196553 rows x 4 columns]"
      ]
     },
     "execution_count": 50,
     "metadata": {},
     "output_type": "execute_result"
    }
   ],
   "source": [
    "# рассчитаем агрегированные метрики(в разрезе id компаний) для присоединения к funding_df\n",
    "agg_df_funding = company_and_rounds_df.groupby('company_id').agg(\n",
    "    average_raised_amount=('raised_amount', 'mean'), # средняя сумма финансирования\n",
    "    first_funding_date=('funded_at', 'min'), # начало финансирования\n",
    "    last_funding_date=('funded_at', 'max') # последняя дата финансирования\n",
    ").reset_index()\n",
    "agg_df_funding"
   ]
  },
  {
   "cell_type": "code",
   "execution_count": 51,
   "metadata": {
    "scrolled": true
   },
   "outputs": [
    {
     "name": "stdout",
     "output_type": "stream",
     "text": [
      "<class 'pandas.core.frame.DataFrame'>\n",
      "Int64Index: 217472 entries, 0 to 217471\n",
      "Data columns (total 13 columns):\n",
      " #   Column                   Non-Null Count   Dtype         \n",
      "---  ------                   --------------   -----         \n",
      " 0   company_id               217472 non-null  int64         \n",
      " 1   name                     217472 non-null  object        \n",
      " 2   category_code            217472 non-null  object        \n",
      " 3   status                   217472 non-null  object        \n",
      " 4   founded_at               217472 non-null  datetime64[ns]\n",
      " 5   closed_at                217472 non-null  datetime64[ns]\n",
      " 6   domain                   217472 non-null  object        \n",
      " 7   network_username         217472 non-null  object        \n",
      " 8   country_code             217472 non-null  object        \n",
      " 9   total_investment_rounds  217472 non-null  int64         \n",
      " 10  total_funding_rounds     217472 non-null  int64         \n",
      " 11  total_milestones         217472 non-null  int64         \n",
      " 12  total_funding            217472 non-null  int64         \n",
      "dtypes: datetime64[ns](2), int64(5), object(6)\n",
      "memory usage: 23.2+ MB\n"
     ]
    }
   ],
   "source": [
    "company_df = company_df.merge(agg_df_company, how='left', on='company_id')\n",
    "\n",
    "company_df['total_investment_rounds'] = company_df['total_investment_rounds'].astype('int64')\n",
    "company_df['total_funding_rounds'] = company_df['total_funding_rounds'].astype('int64')\n",
    "company_df['total_milestones'] = company_df['total_milestones'].astype('int64')\n",
    "company_df['total_funding'] = company_df['total_funding'].astype('int64')\n",
    "\n",
    "company_df.info()"
   ]
  },
  {
   "cell_type": "code",
   "execution_count": 52,
   "metadata": {
    "scrolled": true
   },
   "outputs": [
    {
     "name": "stdout",
     "output_type": "stream",
     "text": [
      "<class 'pandas.core.frame.DataFrame'>\n",
      "Int64Index: 52626 entries, 0 to 52625\n",
      "Data columns (total 12 columns):\n",
      " #   Column                 Non-Null Count  Dtype         \n",
      "---  ------                 --------------  -----         \n",
      " 0   funding_round_id       52626 non-null  int64         \n",
      " 1   company_id             52626 non-null  int64         \n",
      " 2   funded_at              52626 non-null  datetime64[ns]\n",
      " 3   funding_round_type     52626 non-null  object        \n",
      " 4   raised_amount          52626 non-null  int64         \n",
      " 5   pre_money_valuation    52626 non-null  int64         \n",
      " 6   participants           52626 non-null  int64         \n",
      " 7   is_first_round         52626 non-null  int8          \n",
      " 8   is_last_round          52626 non-null  int8          \n",
      " 9   average_raised_amount  52626 non-null  float64       \n",
      " 10  first_funding_date     52626 non-null  datetime64[ns]\n",
      " 11  last_funding_date      52626 non-null  datetime64[ns]\n",
      "dtypes: datetime64[ns](3), float64(1), int64(5), int8(2), object(1)\n",
      "memory usage: 4.5+ MB\n"
     ]
    }
   ],
   "source": [
    "funding_df = funding_df.merge(agg_df_funding, how='left', on='company_id')\n",
    "# заменим пропуски в рассчитанных столбцах на значение-индикатор\n",
    "funding_df['first_funding_date'] = funding_df['first_funding_date'].fillna(pd.Timestamp('1900-01-01'))\n",
    "funding_df['last_funding_date'] = funding_df['last_funding_date'].fillna(pd.Timestamp('1900-01-01'))\n",
    "\n",
    "funding_df.info()"
   ]
  },
  {
   "cell_type": "markdown",
   "metadata": {},
   "source": [
    "### Промежуточный вывод о предобработки датасета company_and_rounds_df\n",
    "\n",
    "1. Результаты нормализации данных:\n",
    "\n",
    "Исходный датасет успешно разделен на 2 логические части:\n",
    "\n",
    "- company_df (217472 строк и 13 столбцов) - статические данные о компаниях\n",
    "- funding_df (52626 строк и 12 столбцов) - данные о раундах финансирования\n",
    "\n",
    "2. Ключевые улучшения структуры:\n",
    "\n",
    "- Устранили дублирование информации (компании больше не повторяются для каждого раунда)\n",
    "- Сохранили все исходные показатели, добавив расчетные агрегаты:\n",
    "    - Для компаний: общие суммы и количество раундов\n",
    "    - Для финансирования: средние значения и временные метки\n",
    "\n",
    "- Оптимизировали типы данных \n",
    "\n",
    "3. Обработка проблемных случаев:\n",
    "\n",
    "- Пропуски в датах: использованы индикаторы (1900-01-01)\n",
    "- Категориальные пропуски: заменены на \"unknown\""
   ]
  },
  {
   "cell_type": "markdown",
   "metadata": {
    "id": "bmVYhphNrJg2"
   },
   "source": [
    "\n",
    "## Шаг 3. Исследовательский анализ объединённых таблиц\n",
    "\n",
    "> Приступите к шагу 3 после проверки ревьюера.\n",
    "\n",
    "<big>Студентам нужно чётко сказать - проверять дальше или не проверять.</big>"
   ]
  },
  {
   "cell_type": "markdown",
   "metadata": {
    "id": "3Di6tCT3rJg2"
   },
   "source": [
    "\n",
    "### Объединение данных\n",
    "\n",
    "Объедините данные для ответа на вопросы заказчика, которые касаются интересующих его компаний. Заказчика прежде всего интересуют те компании, которые меняли или готовы менять владельцев. Получение инвестиций или финансирования, по мнению заказчика, означает интерес к покупке или продаже компании.\n",
    "\n",
    "В качестве основы для объединённой таблицы возьмите данные из обработанного датасета `company_and_rounds.csv` — выберите только те компании, у которых указаны значения `funding_rounds` или `investment_rounds` больше нуля, или те, у которых в колонке `status` указано `acquired`. В результирующей таблице должно получиться порядка 40 тысяч компаний.\n",
    "\n",
    "Проверьте полноту и корректность получившейся таблицы. Далее работайте только с этими данными."
   ]
  },
  {
   "cell_type": "code",
   "execution_count": 53,
   "metadata": {
    "id": "kuV1b5MXFg3_"
   },
   "outputs": [
    {
     "name": "stdout",
     "output_type": "stream",
     "text": [
      "<class 'pandas.core.frame.DataFrame'>\n",
      "Int64Index: 142170 entries, 0 to 142169\n",
      "Data columns (total 24 columns):\n",
      " #   Column                   Non-Null Count   Dtype         \n",
      "---  ------                   --------------   -----         \n",
      " 0   company_id               142170 non-null  int64         \n",
      " 1   name                     142170 non-null  object        \n",
      " 2   category_code            142170 non-null  object        \n",
      " 3   status                   142170 non-null  object        \n",
      " 4   founded_at               142170 non-null  datetime64[ns]\n",
      " 5   closed_at                142170 non-null  datetime64[ns]\n",
      " 6   domain                   142170 non-null  object        \n",
      " 7   network_username         142170 non-null  object        \n",
      " 8   country_code             142170 non-null  object        \n",
      " 9   total_investment_rounds  142170 non-null  int64         \n",
      " 10  total_funding_rounds     142170 non-null  int64         \n",
      " 11  total_milestones         142170 non-null  int64         \n",
      " 12  total_funding            142170 non-null  int64         \n",
      " 13  funding_round_id         133130 non-null  float64       \n",
      " 14  funded_at                133130 non-null  datetime64[ns]\n",
      " 15  funding_round_type       133130 non-null  object        \n",
      " 16  raised_amount            133130 non-null  float64       \n",
      " 17  pre_money_valuation      133130 non-null  float64       \n",
      " 18  participants             133130 non-null  float64       \n",
      " 19  is_first_round           133130 non-null  float64       \n",
      " 20  is_last_round            133130 non-null  float64       \n",
      " 21  average_raised_amount    133130 non-null  float64       \n",
      " 22  first_funding_date       133130 non-null  datetime64[ns]\n",
      " 23  last_funding_date        133130 non-null  datetime64[ns]\n",
      "dtypes: datetime64[ns](5), float64(7), int64(5), object(7)\n",
      "memory usage: 27.1+ MB\n"
     ]
    }
   ],
   "source": [
    "# отбираем компании с нужными данными\n",
    "new_company_df = company_df[(company_df['total_funding_rounds'] > 0) | (company_df['total_investment_rounds'] > 0) | (company_df['status'] == 'acquired')]\n",
    "\n",
    "# объединяем датафреймы\n",
    "\n",
    "result_df = new_company_df.merge(funding_df, how='left', on='company_id')\n",
    "result_df.info()"
   ]
  },
  {
   "cell_type": "code",
   "execution_count": 54,
   "metadata": {},
   "outputs": [
    {
     "data": {
      "text/plain": [
       "40747"
      ]
     },
     "execution_count": 54,
     "metadata": {},
     "output_type": "execute_result"
    }
   ],
   "source": [
    "# количество компаний\n",
    "result_df['company_id'].nunique()"
   ]
  },
  {
   "cell_type": "markdown",
   "metadata": {},
   "source": [
    "Проверим сколько заглушек находится в каждом столбце, где они есть"
   ]
  },
  {
   "cell_type": "markdown",
   "metadata": {},
   "source": [
    "Временные столбцы:"
   ]
  },
  {
   "cell_type": "code",
   "execution_count": 55,
   "metadata": {},
   "outputs": [
    {
     "data": {
      "text/plain": [
       "200"
      ]
     },
     "execution_count": 55,
     "metadata": {},
     "output_type": "execute_result"
    }
   ],
   "source": [
    "result_df[result_df['first_funding_date'] == '1900-01-01']['company_id'].nunique()"
   ]
  },
  {
   "cell_type": "code",
   "execution_count": 56,
   "metadata": {},
   "outputs": [
    {
     "data": {
      "text/plain": [
       "200"
      ]
     },
     "execution_count": 56,
     "metadata": {},
     "output_type": "execute_result"
    }
   ],
   "source": [
    "result_df[result_df['last_funding_date'] == '1900-01-01']['company_id'].nunique()"
   ]
  },
  {
   "cell_type": "code",
   "execution_count": 57,
   "metadata": {},
   "outputs": [
    {
     "data": {
      "text/plain": [
       "238"
      ]
     },
     "execution_count": 57,
     "metadata": {},
     "output_type": "execute_result"
    }
   ],
   "source": [
    "result_df[result_df['funded_at'] == '1900-01-01']['company_id'].nunique()"
   ]
  },
  {
   "cell_type": "code",
   "execution_count": 58,
   "metadata": {},
   "outputs": [
    {
     "data": {
      "text/plain": [
       "12940"
      ]
     },
     "execution_count": 58,
     "metadata": {},
     "output_type": "execute_result"
    }
   ],
   "source": [
    "result_df[result_df['founded_at'] == '1900-01-01']['company_id'].nunique()"
   ]
  },
  {
   "cell_type": "markdown",
   "metadata": {},
   "source": [
    "Категориальные столбцы:"
   ]
  },
  {
   "cell_type": "code",
   "execution_count": 59,
   "metadata": {},
   "outputs": [
    {
     "data": {
      "text/plain": [
       "5432"
      ]
     },
     "execution_count": 59,
     "metadata": {},
     "output_type": "execute_result"
    }
   ],
   "source": [
    "result_df[result_df['category_code'] == 'unknown']['company_id'].nunique()"
   ]
  },
  {
   "cell_type": "code",
   "execution_count": 60,
   "metadata": {},
   "outputs": [
    {
     "data": {
      "text/plain": [
       "4993"
      ]
     },
     "execution_count": 60,
     "metadata": {},
     "output_type": "execute_result"
    }
   ],
   "source": [
    "result_df[result_df['domain'] == 'unknown']['company_id'].nunique()"
   ]
  },
  {
   "cell_type": "code",
   "execution_count": 61,
   "metadata": {},
   "outputs": [
    {
     "data": {
      "text/plain": [
       "19897"
      ]
     },
     "execution_count": 61,
     "metadata": {},
     "output_type": "execute_result"
    }
   ],
   "source": [
    "result_df[result_df['network_username'] == 'unknown']['company_id'].nunique()"
   ]
  },
  {
   "cell_type": "code",
   "execution_count": 62,
   "metadata": {},
   "outputs": [
    {
     "data": {
      "text/plain": [
       "6005"
      ]
     },
     "execution_count": 62,
     "metadata": {},
     "output_type": "execute_result"
    }
   ],
   "source": [
    "result_df[result_df['country_code'] == 'unknown']['company_id'].nunique()"
   ]
  },
  {
   "cell_type": "markdown",
   "metadata": {},
   "source": [
    "### Промежуточный вывод об объединенной таблице\n",
    "\n",
    "В итоговой таблице полсе объединения содержится информация о 40747 компанях. Пропуски были предобработаны до объединения, так что в объединённой таблице их нет.\n",
    "\n",
    "Заглушки в данных:\n",
    "\n",
    "- Во временных данных заглушкой является '1900-01-01':\n",
    "\n",
    "    - `first_funding_date` данные отсутствуют для 200 компаний\n",
    "    - `last_funding_date` данные отсутствуют для 200 компаний\n",
    "    - `funded_at` данные отсутствуют для 238 компаний\n",
    "    - `founded_at` данные отсутствуют для 12940 компаний\n",
    "    \n",
    "    \n",
    "- В категориальных данных установлена заглушка 'unknown':\n",
    "\n",
    "    - `category_code` данные отсутствуют для 5432 компаний\n",
    "    - `domain` данные отсутствуют для 4993 компаний\n",
    "    - `network_username` данные отсутствуют для 19897 компаний\n",
    "    - `country_code` данные отсутствуют для 6005 компаний\n",
    "    \n",
    "Вывод по количеству заглушек в данных:\n",
    "\n",
    "- Критичные значения заглушек: \n",
    "\n",
    "    1.31.76% компаний не имеют даты инвестирования (`founded_at` = '1900-01-01'). Из-за этого сложно анализировать тренды инвестирования с течением времени.\n",
    "    \n",
    "    2.`country_code` (14,7%) – невозможность определения географического распределения для части данных.\n",
    "    \n",
    "    3.В столбце `category_code` 13,3% заглушек, из-за этого возникнут сложности при отраслевом анализе.\n",
    "    \n",
    "\n",
    "- Некритичные значения заглушек: \n",
    "\n",
    "    1.Даты финансирования (`first_funding_date`, `last_funding_date` и `funded_at`) – пропуски незначительны (200–238 строк).\n",
    "    \n",
    "    2.Столбцы `domain` и `network_username` – важны для веб-аналитики, но не всегда критичны для финансового анализа."
   ]
  },
  {
   "cell_type": "markdown",
   "metadata": {
    "id": "DFHINkV3rJg2"
   },
   "source": [
    "\n",
    "### Анализ выбросов\n",
    "\n",
    "Заказчика интересует обычный для рассматриваемого периода размер средств, который предоставлялся компаниям.\n",
    "\n",
    "- По предобработанному столбцу `funding_total` графическим способом оцените, какой размер общего финансирования для одной компании будет типичным, а какой — выбивающимся.\n",
    "- В процессе расчёта значений обратите внимание, например, на показатели, возвращаемые методом `.describe()`, — объясните их. Применимы ли к таким данным обычные способы нахождения типичных значений?"
   ]
  },
  {
   "cell_type": "code",
   "execution_count": 63,
   "metadata": {
    "id": "8jm75fKXrJg2",
    "vscode": {
     "languageId": "plaintext"
    }
   },
   "outputs": [
    {
     "data": {
      "image/png": "[encoded data removed]",
      "text/plain": [
       "<Figure size 720x432 with 1 Axes>"
      ]
     },
     "metadata": {
      "needs_background": "light"
     },
     "output_type": "display_data"
    }
   ],
   "source": [
    "pd.set_option('display.float_format', str) # отключаем научный формат данных\n",
    "\n",
    "plt.figure(figsize=(10,6))\n",
    "\n",
    "result_df['total_funding'].plot(kind='hist',\n",
    "                                color = 'purple',\n",
    "                                title = 'График распределения общего финансирования для одной компании',\n",
    "                                bins = 50\n",
    "                               )\n",
    "plt.xlabel('Общее финансирование')\n",
    "plt.grid()\n",
    "\n",
    "plt.show()"
   ]
  },
  {
   "cell_type": "markdown",
   "metadata": {},
   "source": [
    "График показывает, что данные показывают сильную асимметрию (правостороннее распределение). Также можно заметить, что данные по были нормализованы, что может указывать на экстримально большие выбросы."
   ]
  },
  {
   "cell_type": "code",
   "execution_count": 64,
   "metadata": {
    "id": "S1jrfr7rFhcw"
   },
   "outputs": [
    {
     "data": {
      "text/plain": [
       "count             142170.0\n",
       "mean     301524744.2073926\n",
       "std     1232235470.1310592\n",
       "min                    0.0\n",
       "25%              3000000.0\n",
       "50%             34800000.0\n",
       "75%            188400000.0\n",
       "max          26682700000.0\n",
       "Name: total_funding, dtype: float64"
      ]
     },
     "execution_count": 64,
     "metadata": {},
     "output_type": "execute_result"
    }
   ],
   "source": [
    "analis_df = result_df['total_funding'].describe()\n",
    "analis_df"
   ]
  },
  {
   "cell_type": "markdown",
   "metadata": {},
   "source": [
    "- Среднее значение сильно завышено из-за выбросов (301.5 млн vs медиана 34.8 млн).\n",
    "- Стандартное отклонение (std) слишком велико (~1.23 млрд), что делает классические доверительные интервалы бессмысленными.\n",
    "\n",
    "Таким образом, применять к таким данным обычные способы нахождения типичных значений будет оишбкой. Для описания типичных значений будем использовать медиану и квартили."
   ]
  },
  {
   "cell_type": "code",
   "execution_count": 65,
   "metadata": {
    "scrolled": true
   },
   "outputs": [
    {
     "data": {
      "text/plain": [
       "-275100000.0"
      ]
     },
     "execution_count": 65,
     "metadata": {},
     "output_type": "execute_result"
    }
   ],
   "source": [
    "# посчитаем межквартильный размах\n",
    "interquartile_range = analis_df['75%'] - analis_df['25%']\n",
    "\n",
    "# Нижняя граница\n",
    "lower_bound = analis_df['25%'] - interquartile_range * 1.5\n",
    "lower_bound "
   ]
  },
  {
   "cell_type": "markdown",
   "metadata": {},
   "source": [
    "Нижняя граница принимает отрицательное значение - не применяем."
   ]
  },
  {
   "cell_type": "code",
   "execution_count": 66,
   "metadata": {},
   "outputs": [
    {
     "data": {
      "text/plain": [
       "466500000.0"
      ]
     },
     "execution_count": 66,
     "metadata": {},
     "output_type": "execute_result"
    }
   ],
   "source": [
    "# Верхняя граница\n",
    "upper_bound = analis_df['75%'] + interquartile_range * 1.5\n",
    "upper_bound "
   ]
  },
  {
   "cell_type": "markdown",
   "metadata": {},
   "source": [
    "Верхняя граница составляет 466500000 "
   ]
  },
  {
   "cell_type": "markdown",
   "metadata": {},
   "source": [
    "### Промежуточный вывод по анализу типичного размера общего финансирования для одной компании\n",
    "\n",
    "- Типичное финансирование: 3–188 млн (IQR), с медианой 34.8 млн.\n",
    "- Выбросы: компании с общим финансированием > 466.5 млн (по правилу 1.5×IQR), особенно компании с миллиардным финансированием. Также можно рассмотреть компании с 0 или близким к нулю финансированием, при учёте наличия раундов финансирования."
   ]
  },
  {
   "cell_type": "markdown",
   "metadata": {
    "id": "JqkRAQrIrJg2"
   },
   "source": [
    "\n",
    "### Куплены забесплатно?\n",
    "\n",
    "- Исследуйте компании, которые были проданы за ноль или за один доллар, и при этом известно, что у них был ненулевой общий объём финансирования.\n",
    "\n",
    "- Рассчитайте аналитически верхнюю и нижнюю границу выбросов для столбца `funding_total` и укажите, каким процентилям границы соответствуют."
   ]
  },
  {
   "cell_type": "code",
   "execution_count": 67,
   "metadata": {
    "id": "wJHXCBwwrJg2",
    "vscode": {
     "languageId": "plaintext"
    }
   },
   "outputs": [
    {
     "name": "stdout",
     "output_type": "stream",
     "text": [
      "<class 'pandas.core.frame.DataFrame'>\n",
      "Int64Index: 8279 entries, 7 to 20413\n",
      "Data columns (total 30 columns):\n",
      " #   Column                   Non-Null Count  Dtype         \n",
      "---  ------                   --------------  -----         \n",
      " 0   company_id               8279 non-null   int64         \n",
      " 1   name                     8279 non-null   object        \n",
      " 2   category_code            8279 non-null   object        \n",
      " 3   status                   8279 non-null   object        \n",
      " 4   founded_at               8279 non-null   datetime64[ns]\n",
      " 5   closed_at                8279 non-null   datetime64[ns]\n",
      " 6   domain                   8279 non-null   object        \n",
      " 7   network_username         8279 non-null   object        \n",
      " 8   country_code             8279 non-null   object        \n",
      " 9   total_investment_rounds  8279 non-null   int64         \n",
      " 10  total_funding_rounds     8279 non-null   int64         \n",
      " 11  total_milestones         8279 non-null   int64         \n",
      " 12  total_funding            8279 non-null   int64         \n",
      " 13  funding_round_id         8279 non-null   float64       \n",
      " 14  funded_at                8279 non-null   datetime64[ns]\n",
      " 15  funding_round_type       8279 non-null   object        \n",
      " 16  raised_amount            8279 non-null   float64       \n",
      " 17  pre_money_valuation      8279 non-null   float64       \n",
      " 18  participants             8279 non-null   float64       \n",
      " 19  is_first_round           8279 non-null   float64       \n",
      " 20  is_last_round            8279 non-null   float64       \n",
      " 21  average_raised_amount    8279 non-null   float64       \n",
      " 22  first_funding_date       8279 non-null   datetime64[ns]\n",
      " 23  last_funding_date        8279 non-null   datetime64[ns]\n",
      " 24  acquisition_id           8279 non-null   int64         \n",
      " 25  acquiring_company_id     8279 non-null   int64         \n",
      " 26  acquired_company_id      8279 non-null   int64         \n",
      " 27  term_code                645 non-null    object        \n",
      " 28  price_amount             8279 non-null   int64         \n",
      " 29  acquired_at              8279 non-null   datetime64[ns]\n",
      "dtypes: datetime64[ns](6), float64(7), int64(9), object(8)\n",
      "memory usage: 2.0+ MB\n"
     ]
    }
   ],
   "source": [
    "# присоединим датафрейм acquisition_df, содержащий данные о покупках компаний\n",
    "\n",
    "join_result_df = pd.merge(left=result_df, right=acquisition_df, how='inner', left_on='company_id', right_on='acquired_company_id')\n",
    "\n",
    "# отберем данные о компаниях, которые были проданы за ноль или за один доллар, и при этом известно, что у них был ненулевой общий объём финансирования.\n",
    "\n",
    "join_result_df = join_result_df[((join_result_df['price_amount'] == 0) | (join_result_df['price_amount'] == 1)) & (join_result_df['total_funding'] > 0)]\n",
    "join_result_df.info()"
   ]
  },
  {
   "cell_type": "code",
   "execution_count": 68,
   "metadata": {
    "id": "9IDTHfYQFhuX",
    "scrolled": true
   },
   "outputs": [
    {
     "data": {
      "text/plain": [
       "1589"
      ]
     },
     "execution_count": 68,
     "metadata": {},
     "output_type": "execute_result"
    }
   ],
   "source": [
    "join_result_df['company_id'].nunique()"
   ]
  },
  {
   "cell_type": "markdown",
   "metadata": {},
   "source": [
    "Найдено 1589 компаний, которые удовлетворяют условиям"
   ]
  },
  {
   "cell_type": "code",
   "execution_count": 69,
   "metadata": {
    "scrolled": true
   },
   "outputs": [
    {
     "data": {
      "text/plain": [
       "count               8279.0\n",
       "mean    227439798.70322502\n",
       "std     1063518326.0350881\n",
       "min                 3750.0\n",
       "25%             11521100.0\n",
       "50%             52200000.0\n",
       "75%            165366000.0\n",
       "max          22800000000.0\n",
       "Name: total_funding, dtype: float64"
      ]
     },
     "execution_count": 69,
     "metadata": {},
     "output_type": "execute_result"
    }
   ],
   "source": [
    "stats = join_result_df['total_funding'].describe()\n",
    "stats"
   ]
  },
  {
   "cell_type": "markdown",
   "metadata": {},
   "source": [
    "Общие характеристики выборки:\n",
    "\n",
    "- Среднее финансирование : примерно 227 млн долларов — но этот показатель сильно завышен из-за выбросов.\n",
    "- Медиана (50%): 52.2 млн — более репрезентативный показатель \"типичной\" компании в выборке."
   ]
  },
  {
   "cell_type": "markdown",
   "metadata": {},
   "source": [
    "### Промежуточный вывод об анализе данных, которые были проданы за бесценок\n",
    "\n",
    "- Типичная компания, проданная за 0/1, получала 11.5–165.4 млн финансирования\n",
    "- Выбросы (особенно 22.8 млрд) требуют отдельного изучения — вероятно, это особые случаи\n",
    "- Медиана и IQR: если у проданных за 0/1 финансирование существенно выше, по сравнению с общим распределением, это может указывать на нестандартные сделки.\n",
    "\n",
    "Многие компании, привлекшие значительные суммы финансирования, > 100 млн., были проданы за символическую сумму(0 или 1).\n",
    "\n",
    "Возможные причины:\n",
    "\n",
    "- Технические/юридические сделки.\n",
    "- Скрытые условия сделки."
   ]
  },
  {
   "cell_type": "markdown",
   "metadata": {},
   "source": [
    "В предыдущем щаге были аналитически рассчитаны верхняя и нижняя границы выбросов для столбца funding_total(расчёт производился при помощи межквартильных размахов). Нижняя граница принимает отрицательное значение - не применяем. А верхняя равняется 466.5 млн., определим какой примерно это процентиль."
   ]
  },
  {
   "cell_type": "code",
   "execution_count": 70,
   "metadata": {},
   "outputs": [
    {
     "data": {
      "text/plain": [
       "87.45"
      ]
     },
     "execution_count": 70,
     "metadata": {},
     "output_type": "execute_result"
    }
   ],
   "source": [
    "# найдём верхний процентиль для выбросов\n",
    "upper_procentile = round(result_df[result_df['total_funding'] <= 466500000]['total_funding'].count() / result_df['total_funding'].count() * 100, 2)\n",
    "upper_procentile"
   ]
  },
  {
   "cell_type": "markdown",
   "metadata": {},
   "source": [
    "### Промежуточный вывод по выбросам для столбца funding_total\n",
    "\n",
    "**Нижние выбросы**: Нижняя граница принимает отрицательное значение - не применяем\n",
    "\n",
    "**Верхние границы**:\n",
    "\n",
    "- По IQR: значения > 466.5 млн(граница - 466.5 млн)\n",
    "\n",
    "- По перцентилям: 88 процентиль(все значения большие 88 процентиля - выбросы)"
   ]
  },
  {
   "cell_type": "markdown",
   "metadata": {
    "id": "mEiWpROjrJg2"
   },
   "source": [
    "\n",
    "### Цены стартапов по категориям\n",
    "\n",
    "Категории стартапов с типично высокими ценами покупки стартапов и значительным разбросом цен могут быть привлекательными для крупных инвесторов, которые готовы к высоким рискам ради потенциально больших доходов. Среди категорий стартапов выделите категории стартапов, характеризующиеся:\n",
    "\n",
    "- типично высокими ценами;\n",
    "- и наибольшим разбросом цен за стартап.\n",
    "\n",
    "Объясните, почему решили составить топ именно из такого числа категорий и почему рассчитывали именно так."
   ]
  },
  {
   "cell_type": "code",
   "execution_count": 71,
   "metadata": {
    "id": "jQ09dYUWrJg2",
    "vscode": {
     "languageId": "plaintext"
    }
   },
   "outputs": [],
   "source": [
    "result_df = pd.merge(left=result_df, right=acquisition_df, how='inner', left_on='company_id', right_on='acquired_company_id')\n",
    "\n",
    "# уберем выбросы в столбце 'price_amount'(значения 0 и 1)\n",
    "result_df = result_df[(result_df['price_amount'] != 0) & (result_df['price_amount'] != 1)]\n",
    "\n",
    "# сгруппируем данные по категориям\n",
    "stats = result_df.groupby('category_code')['price_amount'].agg([\n",
    "    ('count', 'count'),\n",
    "    ('median_price', 'median'),\n",
    "    ('Q1', lambda x: x.quantile(0.25)),\n",
    "    ('Q3', lambda x: x.quantile(0.75)),\n",
    "    ('IQR', lambda x: x.quantile(0.75) - x.quantile(0.25)),\n",
    "    ('std', 'std')\n",
    "]).sort_values('median_price', ascending=False)\n"
   ]
  },
  {
   "cell_type": "code",
   "execution_count": 72,
   "metadata": {
    "id": "eF1aULm5FjfY",
    "scrolled": true
   },
   "outputs": [
    {
     "data": {
      "text/html": [
       "<div>\n",
       "<style scoped>\n",
       "    .dataframe tbody tr th:only-of-type {\n",
       "        vertical-align: middle;\n",
       "    }\n",
       "\n",
       "    .dataframe tbody tr th {\n",
       "        vertical-align: top;\n",
       "    }\n",
       "\n",
       "    .dataframe thead th {\n",
       "        text-align: right;\n",
       "    }\n",
       "</style>\n",
       "<table border=\"1\" class=\"dataframe\">\n",
       "  <thead>\n",
       "    <tr style=\"text-align: right;\">\n",
       "      <th></th>\n",
       "      <th>count</th>\n",
       "      <th>median_price</th>\n",
       "      <th>Q1</th>\n",
       "      <th>Q3</th>\n",
       "      <th>IQR</th>\n",
       "      <th>std</th>\n",
       "    </tr>\n",
       "    <tr>\n",
       "      <th>category_code</th>\n",
       "      <th></th>\n",
       "      <th></th>\n",
       "      <th></th>\n",
       "      <th></th>\n",
       "      <th></th>\n",
       "      <th></th>\n",
       "    </tr>\n",
       "  </thead>\n",
       "  <tbody>\n",
       "    <tr>\n",
       "      <th>automotive</th>\n",
       "      <td>3</td>\n",
       "      <td>2400000000</td>\n",
       "      <td>1221500000</td>\n",
       "      <td>3800000000</td>\n",
       "      <td>2578500000</td>\n",
       "      <td>2581669292.01502</td>\n",
       "    </tr>\n",
       "    <tr>\n",
       "      <th>transportation</th>\n",
       "      <td>11</td>\n",
       "      <td>1100000000</td>\n",
       "      <td>1100000000</td>\n",
       "      <td>1100000000</td>\n",
       "      <td>0</td>\n",
       "      <td>397192419.59259266</td>\n",
       "    </tr>\n",
       "    <tr>\n",
       "      <th>sports</th>\n",
       "      <td>2</td>\n",
       "      <td>622500000</td>\n",
       "      <td>441250000</td>\n",
       "      <td>803750000</td>\n",
       "      <td>362500000</td>\n",
       "      <td>512652416.36024696</td>\n",
       "    </tr>\n",
       "    <tr>\n",
       "      <th>nanotech</th>\n",
       "      <td>1</td>\n",
       "      <td>584000000</td>\n",
       "      <td>584000000</td>\n",
       "      <td>584000000</td>\n",
       "      <td>0</td>\n",
       "      <td>NaN</td>\n",
       "    </tr>\n",
       "    <tr>\n",
       "      <th>ecommerce</th>\n",
       "      <td>119</td>\n",
       "      <td>315000000</td>\n",
       "      <td>12650000</td>\n",
       "      <td>545000000</td>\n",
       "      <td>532350000</td>\n",
       "      <td>264989479.73218253</td>\n",
       "    </tr>\n",
       "    <tr>\n",
       "      <th>consulting</th>\n",
       "      <td>95</td>\n",
       "      <td>295000000</td>\n",
       "      <td>137000000</td>\n",
       "      <td>295000000</td>\n",
       "      <td>158000000</td>\n",
       "      <td>587064383.3791108</td>\n",
       "    </tr>\n",
       "    <tr>\n",
       "      <th>biotech</th>\n",
       "      <td>636</td>\n",
       "      <td>287500000</td>\n",
       "      <td>60000000</td>\n",
       "      <td>650000000</td>\n",
       "      <td>590000000</td>\n",
       "      <td>1303653488.716644</td>\n",
       "    </tr>\n",
       "    <tr>\n",
       "      <th>fashion</th>\n",
       "      <td>6</td>\n",
       "      <td>270000000</td>\n",
       "      <td>213750000</td>\n",
       "      <td>270000000</td>\n",
       "      <td>56250000</td>\n",
       "      <td>70953329.73159188</td>\n",
       "    </tr>\n",
       "    <tr>\n",
       "      <th>enterprise</th>\n",
       "      <td>503</td>\n",
       "      <td>255000000</td>\n",
       "      <td>50000000</td>\n",
       "      <td>685000000</td>\n",
       "      <td>635000000</td>\n",
       "      <td>115911157131.82074</td>\n",
       "    </tr>\n",
       "    <tr>\n",
       "      <th>manufacturing</th>\n",
       "      <td>24</td>\n",
       "      <td>247000000</td>\n",
       "      <td>15975000</td>\n",
       "      <td>1220000000</td>\n",
       "      <td>1204025000</td>\n",
       "      <td>1025017729.9351294</td>\n",
       "    </tr>\n",
       "    <tr>\n",
       "      <th>analytics</th>\n",
       "      <td>68</td>\n",
       "      <td>200000000</td>\n",
       "      <td>200000000</td>\n",
       "      <td>200000000</td>\n",
       "      <td>0</td>\n",
       "      <td>64838774.85885696</td>\n",
       "    </tr>\n",
       "    <tr>\n",
       "      <th>cleantech</th>\n",
       "      <td>216</td>\n",
       "      <td>192500000</td>\n",
       "      <td>30000000</td>\n",
       "      <td>335625000</td>\n",
       "      <td>305625000</td>\n",
       "      <td>444965277.1605727</td>\n",
       "    </tr>\n",
       "    <tr>\n",
       "      <th>finance</th>\n",
       "      <td>90</td>\n",
       "      <td>170000000</td>\n",
       "      <td>155000000</td>\n",
       "      <td>1500000000</td>\n",
       "      <td>1345000000</td>\n",
       "      <td>751115643.3537376</td>\n",
       "    </tr>\n",
       "    <tr>\n",
       "      <th>messaging</th>\n",
       "      <td>35</td>\n",
       "      <td>169000000</td>\n",
       "      <td>102000000</td>\n",
       "      <td>169000000</td>\n",
       "      <td>67000000</td>\n",
       "      <td>56783904.09883669</td>\n",
       "    </tr>\n",
       "    <tr>\n",
       "      <th>security</th>\n",
       "      <td>147</td>\n",
       "      <td>169000000</td>\n",
       "      <td>24000000</td>\n",
       "      <td>300000000</td>\n",
       "      <td>276000000</td>\n",
       "      <td>713364018.1665553</td>\n",
       "    </tr>\n",
       "    <tr>\n",
       "      <th>medical</th>\n",
       "      <td>10</td>\n",
       "      <td>165000000</td>\n",
       "      <td>30000000</td>\n",
       "      <td>300000000</td>\n",
       "      <td>270000000</td>\n",
       "      <td>146046044.8701786</td>\n",
       "    </tr>\n",
       "    <tr>\n",
       "      <th>games_video</th>\n",
       "      <td>307</td>\n",
       "      <td>160000000</td>\n",
       "      <td>30000000</td>\n",
       "      <td>260000000</td>\n",
       "      <td>230000000</td>\n",
       "      <td>810636464.0461818</td>\n",
       "    </tr>\n",
       "    <tr>\n",
       "      <th>social</th>\n",
       "      <td>50</td>\n",
       "      <td>151000000</td>\n",
       "      <td>65000000</td>\n",
       "      <td>151000000</td>\n",
       "      <td>86000000</td>\n",
       "      <td>47059367.62890735</td>\n",
       "    </tr>\n",
       "    <tr>\n",
       "      <th>health</th>\n",
       "      <td>37</td>\n",
       "      <td>150000000</td>\n",
       "      <td>150000000</td>\n",
       "      <td>150000000</td>\n",
       "      <td>0</td>\n",
       "      <td>1049002777.9172362</td>\n",
       "    </tr>\n",
       "    <tr>\n",
       "      <th>travel</th>\n",
       "      <td>15</td>\n",
       "      <td>120000000</td>\n",
       "      <td>5000000</td>\n",
       "      <td>120000000</td>\n",
       "      <td>115000000</td>\n",
       "      <td>63381685.803062186</td>\n",
       "    </tr>\n",
       "    <tr>\n",
       "      <th>semiconductor</th>\n",
       "      <td>186</td>\n",
       "      <td>113205000</td>\n",
       "      <td>43780000</td>\n",
       "      <td>275000000</td>\n",
       "      <td>231220000</td>\n",
       "      <td>712703621.0993009</td>\n",
       "    </tr>\n",
       "    <tr>\n",
       "      <th>news</th>\n",
       "      <td>70</td>\n",
       "      <td>108250000</td>\n",
       "      <td>35000000</td>\n",
       "      <td>315000000</td>\n",
       "      <td>280000000</td>\n",
       "      <td>134663338.55787477</td>\n",
       "    </tr>\n",
       "    <tr>\n",
       "      <th>search</th>\n",
       "      <td>47</td>\n",
       "      <td>100000000</td>\n",
       "      <td>7600000</td>\n",
       "      <td>115000000</td>\n",
       "      <td>107400000</td>\n",
       "      <td>224133721.3449614</td>\n",
       "    </tr>\n",
       "    <tr>\n",
       "      <th>web</th>\n",
       "      <td>664</td>\n",
       "      <td>100000000</td>\n",
       "      <td>26400000</td>\n",
       "      <td>321500000</td>\n",
       "      <td>295100000</td>\n",
       "      <td>580449089.1216943</td>\n",
       "    </tr>\n",
       "    <tr>\n",
       "      <th>network_hosting</th>\n",
       "      <td>354</td>\n",
       "      <td>99000000</td>\n",
       "      <td>27000000</td>\n",
       "      <td>350000000</td>\n",
       "      <td>323000000</td>\n",
       "      <td>694925775.0734521</td>\n",
       "    </tr>\n",
       "    <tr>\n",
       "      <th>advertising</th>\n",
       "      <td>457</td>\n",
       "      <td>92000000</td>\n",
       "      <td>30000000</td>\n",
       "      <td>275000000</td>\n",
       "      <td>245000000</td>\n",
       "      <td>266428288.58142856</td>\n",
       "    </tr>\n",
       "    <tr>\n",
       "      <th>mobile</th>\n",
       "      <td>579</td>\n",
       "      <td>85000000</td>\n",
       "      <td>31000000</td>\n",
       "      <td>310000000</td>\n",
       "      <td>279000000</td>\n",
       "      <td>615335622.7233899</td>\n",
       "    </tr>\n",
       "    <tr>\n",
       "      <th>software</th>\n",
       "      <td>929</td>\n",
       "      <td>71700000</td>\n",
       "      <td>35000000</td>\n",
       "      <td>300000000</td>\n",
       "      <td>265000000</td>\n",
       "      <td>1632860266.053567</td>\n",
       "    </tr>\n",
       "    <tr>\n",
       "      <th>photo_video</th>\n",
       "      <td>45</td>\n",
       "      <td>50000000</td>\n",
       "      <td>40000000</td>\n",
       "      <td>60000000</td>\n",
       "      <td>20000000</td>\n",
       "      <td>389982805.92867166</td>\n",
       "    </tr>\n",
       "    <tr>\n",
       "      <th>other</th>\n",
       "      <td>107</td>\n",
       "      <td>50000000</td>\n",
       "      <td>22000000</td>\n",
       "      <td>195000000</td>\n",
       "      <td>173000000</td>\n",
       "      <td>1834338486.642561</td>\n",
       "    </tr>\n",
       "    <tr>\n",
       "      <th>real_estate</th>\n",
       "      <td>17</td>\n",
       "      <td>40000000</td>\n",
       "      <td>40000000</td>\n",
       "      <td>40000000</td>\n",
       "      <td>0</td>\n",
       "      <td>1654863629.5335457</td>\n",
       "    </tr>\n",
       "    <tr>\n",
       "      <th>hardware</th>\n",
       "      <td>172</td>\n",
       "      <td>40000000</td>\n",
       "      <td>15000000</td>\n",
       "      <td>286250000</td>\n",
       "      <td>271250000</td>\n",
       "      <td>473377435.4355769</td>\n",
       "    </tr>\n",
       "    <tr>\n",
       "      <th>hospitality</th>\n",
       "      <td>10</td>\n",
       "      <td>32450000</td>\n",
       "      <td>10000000</td>\n",
       "      <td>149375000</td>\n",
       "      <td>139375000</td>\n",
       "      <td>678167865.4859561</td>\n",
       "    </tr>\n",
       "    <tr>\n",
       "      <th>unknown</th>\n",
       "      <td>544</td>\n",
       "      <td>26000000</td>\n",
       "      <td>250000</td>\n",
       "      <td>150000000</td>\n",
       "      <td>149750000</td>\n",
       "      <td>1331385823.006772</td>\n",
       "    </tr>\n",
       "    <tr>\n",
       "      <th>public_relations</th>\n",
       "      <td>172</td>\n",
       "      <td>25000000</td>\n",
       "      <td>10000000</td>\n",
       "      <td>182000000</td>\n",
       "      <td>172000000</td>\n",
       "      <td>4560916146.628447</td>\n",
       "    </tr>\n",
       "    <tr>\n",
       "      <th>education</th>\n",
       "      <td>6</td>\n",
       "      <td>16250000</td>\n",
       "      <td>4892500</td>\n",
       "      <td>37875000</td>\n",
       "      <td>32982500</td>\n",
       "      <td>288329370.9457987</td>\n",
       "    </tr>\n",
       "    <tr>\n",
       "      <th>local</th>\n",
       "      <td>1</td>\n",
       "      <td>16140200</td>\n",
       "      <td>16140200</td>\n",
       "      <td>16140200</td>\n",
       "      <td>0</td>\n",
       "      <td>NaN</td>\n",
       "    </tr>\n",
       "    <tr>\n",
       "      <th>music</th>\n",
       "      <td>27</td>\n",
       "      <td>1000000</td>\n",
       "      <td>1000000</td>\n",
       "      <td>1000000</td>\n",
       "      <td>0</td>\n",
       "      <td>53670137.24510896</td>\n",
       "    </tr>\n",
       "  </tbody>\n",
       "</table>\n",
       "</div>"
      ],
      "text/plain": [
       "                  count  median_price          Q1          Q3         IQR  \\\n",
       "category_code                                                               \n",
       "automotive            3    2400000000  1221500000  3800000000  2578500000   \n",
       "transportation       11    1100000000  1100000000  1100000000           0   \n",
       "sports                2     622500000   441250000   803750000   362500000   \n",
       "nanotech              1     584000000   584000000   584000000           0   \n",
       "ecommerce           119     315000000    12650000   545000000   532350000   \n",
       "consulting           95     295000000   137000000   295000000   158000000   \n",
       "biotech             636     287500000    60000000   650000000   590000000   \n",
       "fashion               6     270000000   213750000   270000000    56250000   \n",
       "enterprise          503     255000000    50000000   685000000   635000000   \n",
       "manufacturing        24     247000000    15975000  1220000000  1204025000   \n",
       "analytics            68     200000000   200000000   200000000           0   \n",
       "cleantech           216     192500000    30000000   335625000   305625000   \n",
       "finance              90     170000000   155000000  1500000000  1345000000   \n",
       "messaging            35     169000000   102000000   169000000    67000000   \n",
       "security            147     169000000    24000000   300000000   276000000   \n",
       "medical              10     165000000    30000000   300000000   270000000   \n",
       "games_video         307     160000000    30000000   260000000   230000000   \n",
       "social               50     151000000    65000000   151000000    86000000   \n",
       "health               37     150000000   150000000   150000000           0   \n",
       "travel               15     120000000     5000000   120000000   115000000   \n",
       "semiconductor       186     113205000    43780000   275000000   231220000   \n",
       "news                 70     108250000    35000000   315000000   280000000   \n",
       "search               47     100000000     7600000   115000000   107400000   \n",
       "web                 664     100000000    26400000   321500000   295100000   \n",
       "network_hosting     354      99000000    27000000   350000000   323000000   \n",
       "advertising         457      92000000    30000000   275000000   245000000   \n",
       "mobile              579      85000000    31000000   310000000   279000000   \n",
       "software            929      71700000    35000000   300000000   265000000   \n",
       "photo_video          45      50000000    40000000    60000000    20000000   \n",
       "other               107      50000000    22000000   195000000   173000000   \n",
       "real_estate          17      40000000    40000000    40000000           0   \n",
       "hardware            172      40000000    15000000   286250000   271250000   \n",
       "hospitality          10      32450000    10000000   149375000   139375000   \n",
       "unknown             544      26000000      250000   150000000   149750000   \n",
       "public_relations    172      25000000    10000000   182000000   172000000   \n",
       "education             6      16250000     4892500    37875000    32982500   \n",
       "local                 1      16140200    16140200    16140200           0   \n",
       "music                27       1000000     1000000     1000000           0   \n",
       "\n",
       "                                std  \n",
       "category_code                        \n",
       "automotive         2581669292.01502  \n",
       "transportation   397192419.59259266  \n",
       "sports           512652416.36024696  \n",
       "nanotech                        NaN  \n",
       "ecommerce        264989479.73218253  \n",
       "consulting        587064383.3791108  \n",
       "biotech           1303653488.716644  \n",
       "fashion           70953329.73159188  \n",
       "enterprise       115911157131.82074  \n",
       "manufacturing    1025017729.9351294  \n",
       "analytics         64838774.85885696  \n",
       "cleantech         444965277.1605727  \n",
       "finance           751115643.3537376  \n",
       "messaging         56783904.09883669  \n",
       "security          713364018.1665553  \n",
       "medical           146046044.8701786  \n",
       "games_video       810636464.0461818  \n",
       "social            47059367.62890735  \n",
       "health           1049002777.9172362  \n",
       "travel           63381685.803062186  \n",
       "semiconductor     712703621.0993009  \n",
       "news             134663338.55787477  \n",
       "search            224133721.3449614  \n",
       "web               580449089.1216943  \n",
       "network_hosting   694925775.0734521  \n",
       "advertising      266428288.58142856  \n",
       "mobile            615335622.7233899  \n",
       "software          1632860266.053567  \n",
       "photo_video      389982805.92867166  \n",
       "other             1834338486.642561  \n",
       "real_estate      1654863629.5335457  \n",
       "hardware          473377435.4355769  \n",
       "hospitality       678167865.4859561  \n",
       "unknown           1331385823.006772  \n",
       "public_relations  4560916146.628447  \n",
       "education         288329370.9457987  \n",
       "local                           NaN  \n",
       "music             53670137.24510896  "
      ]
     },
     "execution_count": 72,
     "metadata": {},
     "output_type": "execute_result"
    }
   ],
   "source": [
    "stats"
   ]
  },
  {
   "cell_type": "code",
   "execution_count": 73,
   "metadata": {},
   "outputs": [
    {
     "data": {
      "text/html": [
       "<div>\n",
       "<style scoped>\n",
       "    .dataframe tbody tr th:only-of-type {\n",
       "        vertical-align: middle;\n",
       "    }\n",
       "\n",
       "    .dataframe tbody tr th {\n",
       "        vertical-align: top;\n",
       "    }\n",
       "\n",
       "    .dataframe thead th {\n",
       "        text-align: right;\n",
       "    }\n",
       "</style>\n",
       "<table border=\"1\" class=\"dataframe\">\n",
       "  <thead>\n",
       "    <tr style=\"text-align: right;\">\n",
       "      <th></th>\n",
       "      <th>count</th>\n",
       "      <th>median_price</th>\n",
       "      <th>Q1</th>\n",
       "      <th>Q3</th>\n",
       "      <th>IQR</th>\n",
       "      <th>std</th>\n",
       "      <th>spread_rank</th>\n",
       "    </tr>\n",
       "    <tr>\n",
       "      <th>category_code</th>\n",
       "      <th></th>\n",
       "      <th></th>\n",
       "      <th></th>\n",
       "      <th></th>\n",
       "      <th></th>\n",
       "      <th></th>\n",
       "      <th></th>\n",
       "    </tr>\n",
       "  </thead>\n",
       "  <tbody>\n",
       "    <tr>\n",
       "      <th>finance</th>\n",
       "      <td>90</td>\n",
       "      <td>170000000</td>\n",
       "      <td>155000000</td>\n",
       "      <td>1500000000</td>\n",
       "      <td>1345000000</td>\n",
       "      <td>751115643.3537376</td>\n",
       "      <td>1.0</td>\n",
       "    </tr>\n",
       "    <tr>\n",
       "      <th>manufacturing</th>\n",
       "      <td>24</td>\n",
       "      <td>247000000</td>\n",
       "      <td>15975000</td>\n",
       "      <td>1220000000</td>\n",
       "      <td>1204025000</td>\n",
       "      <td>1025017729.9351294</td>\n",
       "      <td>2.0</td>\n",
       "    </tr>\n",
       "    <tr>\n",
       "      <th>enterprise</th>\n",
       "      <td>503</td>\n",
       "      <td>255000000</td>\n",
       "      <td>50000000</td>\n",
       "      <td>685000000</td>\n",
       "      <td>635000000</td>\n",
       "      <td>115911157131.82074</td>\n",
       "      <td>3.0</td>\n",
       "    </tr>\n",
       "    <tr>\n",
       "      <th>biotech</th>\n",
       "      <td>636</td>\n",
       "      <td>287500000</td>\n",
       "      <td>60000000</td>\n",
       "      <td>650000000</td>\n",
       "      <td>590000000</td>\n",
       "      <td>1303653488.716644</td>\n",
       "      <td>4.0</td>\n",
       "    </tr>\n",
       "    <tr>\n",
       "      <th>ecommerce</th>\n",
       "      <td>119</td>\n",
       "      <td>315000000</td>\n",
       "      <td>12650000</td>\n",
       "      <td>545000000</td>\n",
       "      <td>532350000</td>\n",
       "      <td>264989479.73218253</td>\n",
       "      <td>5.0</td>\n",
       "    </tr>\n",
       "    <tr>\n",
       "      <th>cleantech</th>\n",
       "      <td>216</td>\n",
       "      <td>192500000</td>\n",
       "      <td>30000000</td>\n",
       "      <td>335625000</td>\n",
       "      <td>305625000</td>\n",
       "      <td>444965277.1605727</td>\n",
       "      <td>6.0</td>\n",
       "    </tr>\n",
       "    <tr>\n",
       "      <th>security</th>\n",
       "      <td>147</td>\n",
       "      <td>169000000</td>\n",
       "      <td>24000000</td>\n",
       "      <td>300000000</td>\n",
       "      <td>276000000</td>\n",
       "      <td>713364018.1665553</td>\n",
       "      <td>7.0</td>\n",
       "    </tr>\n",
       "    <tr>\n",
       "      <th>games_video</th>\n",
       "      <td>307</td>\n",
       "      <td>160000000</td>\n",
       "      <td>30000000</td>\n",
       "      <td>260000000</td>\n",
       "      <td>230000000</td>\n",
       "      <td>810636464.0461818</td>\n",
       "      <td>8.0</td>\n",
       "    </tr>\n",
       "    <tr>\n",
       "      <th>consulting</th>\n",
       "      <td>95</td>\n",
       "      <td>295000000</td>\n",
       "      <td>137000000</td>\n",
       "      <td>295000000</td>\n",
       "      <td>158000000</td>\n",
       "      <td>587064383.3791108</td>\n",
       "      <td>9.0</td>\n",
       "    </tr>\n",
       "    <tr>\n",
       "      <th>travel</th>\n",
       "      <td>15</td>\n",
       "      <td>120000000</td>\n",
       "      <td>5000000</td>\n",
       "      <td>120000000</td>\n",
       "      <td>115000000</td>\n",
       "      <td>63381685.803062186</td>\n",
       "      <td>10.0</td>\n",
       "    </tr>\n",
       "    <tr>\n",
       "      <th>social</th>\n",
       "      <td>50</td>\n",
       "      <td>151000000</td>\n",
       "      <td>65000000</td>\n",
       "      <td>151000000</td>\n",
       "      <td>86000000</td>\n",
       "      <td>47059367.62890735</td>\n",
       "      <td>11.0</td>\n",
       "    </tr>\n",
       "    <tr>\n",
       "      <th>messaging</th>\n",
       "      <td>35</td>\n",
       "      <td>169000000</td>\n",
       "      <td>102000000</td>\n",
       "      <td>169000000</td>\n",
       "      <td>67000000</td>\n",
       "      <td>56783904.09883669</td>\n",
       "      <td>12.0</td>\n",
       "    </tr>\n",
       "    <tr>\n",
       "      <th>analytics</th>\n",
       "      <td>68</td>\n",
       "      <td>200000000</td>\n",
       "      <td>200000000</td>\n",
       "      <td>200000000</td>\n",
       "      <td>0</td>\n",
       "      <td>64838774.85885696</td>\n",
       "      <td>13.0</td>\n",
       "    </tr>\n",
       "    <tr>\n",
       "      <th>health</th>\n",
       "      <td>37</td>\n",
       "      <td>150000000</td>\n",
       "      <td>150000000</td>\n",
       "      <td>150000000</td>\n",
       "      <td>0</td>\n",
       "      <td>1049002777.9172362</td>\n",
       "      <td>13.0</td>\n",
       "    </tr>\n",
       "  </tbody>\n",
       "</table>\n",
       "</div>"
      ],
      "text/plain": [
       "               count  median_price         Q1          Q3         IQR  \\\n",
       "category_code                                                           \n",
       "finance           90     170000000  155000000  1500000000  1345000000   \n",
       "manufacturing     24     247000000   15975000  1220000000  1204025000   \n",
       "enterprise       503     255000000   50000000   685000000   635000000   \n",
       "biotech          636     287500000   60000000   650000000   590000000   \n",
       "ecommerce        119     315000000   12650000   545000000   532350000   \n",
       "cleantech        216     192500000   30000000   335625000   305625000   \n",
       "security         147     169000000   24000000   300000000   276000000   \n",
       "games_video      307     160000000   30000000   260000000   230000000   \n",
       "consulting        95     295000000  137000000   295000000   158000000   \n",
       "travel            15     120000000    5000000   120000000   115000000   \n",
       "social            50     151000000   65000000   151000000    86000000   \n",
       "messaging         35     169000000  102000000   169000000    67000000   \n",
       "analytics         68     200000000  200000000   200000000           0   \n",
       "health            37     150000000  150000000   150000000           0   \n",
       "\n",
       "                             std  spread_rank  \n",
       "category_code                                  \n",
       "finance        751115643.3537376          1.0  \n",
       "manufacturing 1025017729.9351294          2.0  \n",
       "enterprise    115911157131.82074          3.0  \n",
       "biotech        1303653488.716644          4.0  \n",
       "ecommerce     264989479.73218253          5.0  \n",
       "cleantech      444965277.1605727          6.0  \n",
       "security       713364018.1665553          7.0  \n",
       "games_video    810636464.0461818          8.0  \n",
       "consulting     587064383.3791108          9.0  \n",
       "travel        63381685.803062186         10.0  \n",
       "social         47059367.62890735         11.0  \n",
       "messaging      56783904.09883669         12.0  \n",
       "analytics      64838774.85885696         13.0  \n",
       "health        1049002777.9172362         13.0  "
      ]
     },
     "execution_count": 73,
     "metadata": {},
     "output_type": "execute_result"
    }
   ],
   "source": [
    "# исключим категории с малым числом сделок ( < 15), чтобы избежать случайных выбросов:\n",
    "stats = stats[stats['count'] >= 15]\n",
    "\n",
    "# будем считать цену 'типично' выской, если она больше медианного значения по столбце\n",
    "median_median_price = stats['median_price'].median()\n",
    "stats = stats[stats['median_price'] > median_median_price]\n",
    "\n",
    "# проранжируем данные(в качестве меры разброса будем исользовать IQR, так как стандартное отклонение не устойчиво к выбросам, которые присутствуют в нишх данных)\n",
    "stats['spread_rank'] = stats['IQR'].rank(ascending=False, method='min')\n",
    "stats = stats.sort_values(by='spread_rank')\n",
    "\n",
    "stats"
   ]
  },
  {
   "cell_type": "code",
   "execution_count": 74,
   "metadata": {
    "scrolled": true
   },
   "outputs": [
    {
     "data": {
      "text/html": [
       "<div>\n",
       "<style scoped>\n",
       "    .dataframe tbody tr th:only-of-type {\n",
       "        vertical-align: middle;\n",
       "    }\n",
       "\n",
       "    .dataframe tbody tr th {\n",
       "        vertical-align: top;\n",
       "    }\n",
       "\n",
       "    .dataframe thead th {\n",
       "        text-align: right;\n",
       "    }\n",
       "</style>\n",
       "<table border=\"1\" class=\"dataframe\">\n",
       "  <thead>\n",
       "    <tr style=\"text-align: right;\">\n",
       "      <th></th>\n",
       "      <th>count</th>\n",
       "      <th>median_price</th>\n",
       "      <th>Q1</th>\n",
       "      <th>Q3</th>\n",
       "      <th>IQR</th>\n",
       "      <th>std</th>\n",
       "      <th>spread_rank</th>\n",
       "    </tr>\n",
       "    <tr>\n",
       "      <th>category_code</th>\n",
       "      <th></th>\n",
       "      <th></th>\n",
       "      <th></th>\n",
       "      <th></th>\n",
       "      <th></th>\n",
       "      <th></th>\n",
       "      <th></th>\n",
       "    </tr>\n",
       "  </thead>\n",
       "  <tbody>\n",
       "    <tr>\n",
       "      <th>finance</th>\n",
       "      <td>90</td>\n",
       "      <td>170000000</td>\n",
       "      <td>155000000</td>\n",
       "      <td>1500000000</td>\n",
       "      <td>1345000000</td>\n",
       "      <td>751115643.3537376</td>\n",
       "      <td>1.0</td>\n",
       "    </tr>\n",
       "    <tr>\n",
       "      <th>manufacturing</th>\n",
       "      <td>24</td>\n",
       "      <td>247000000</td>\n",
       "      <td>15975000</td>\n",
       "      <td>1220000000</td>\n",
       "      <td>1204025000</td>\n",
       "      <td>1025017729.9351294</td>\n",
       "      <td>2.0</td>\n",
       "    </tr>\n",
       "    <tr>\n",
       "      <th>enterprise</th>\n",
       "      <td>503</td>\n",
       "      <td>255000000</td>\n",
       "      <td>50000000</td>\n",
       "      <td>685000000</td>\n",
       "      <td>635000000</td>\n",
       "      <td>115911157131.82074</td>\n",
       "      <td>3.0</td>\n",
       "    </tr>\n",
       "    <tr>\n",
       "      <th>biotech</th>\n",
       "      <td>636</td>\n",
       "      <td>287500000</td>\n",
       "      <td>60000000</td>\n",
       "      <td>650000000</td>\n",
       "      <td>590000000</td>\n",
       "      <td>1303653488.716644</td>\n",
       "      <td>4.0</td>\n",
       "    </tr>\n",
       "    <tr>\n",
       "      <th>ecommerce</th>\n",
       "      <td>119</td>\n",
       "      <td>315000000</td>\n",
       "      <td>12650000</td>\n",
       "      <td>545000000</td>\n",
       "      <td>532350000</td>\n",
       "      <td>264989479.73218253</td>\n",
       "      <td>5.0</td>\n",
       "    </tr>\n",
       "  </tbody>\n",
       "</table>\n",
       "</div>"
      ],
      "text/plain": [
       "               count  median_price         Q1          Q3         IQR  \\\n",
       "category_code                                                           \n",
       "finance           90     170000000  155000000  1500000000  1345000000   \n",
       "manufacturing     24     247000000   15975000  1220000000  1204025000   \n",
       "enterprise       503     255000000   50000000   685000000   635000000   \n",
       "biotech          636     287500000   60000000   650000000   590000000   \n",
       "ecommerce        119     315000000   12650000   545000000   532350000   \n",
       "\n",
       "                             std  spread_rank  \n",
       "category_code                                  \n",
       "finance        751115643.3537376          1.0  \n",
       "manufacturing 1025017729.9351294          2.0  \n",
       "enterprise    115911157131.82074          3.0  \n",
       "biotech        1303653488.716644          4.0  \n",
       "ecommerce     264989479.73218253          5.0  "
      ]
     },
     "execution_count": 74,
     "metadata": {},
     "output_type": "execute_result"
    }
   ],
   "source": [
    "# выделим топ-5 из выборки\n",
    "\n",
    "top_5_category = stats.head(5)\n",
    "top_5_category"
   ]
  },
  {
   "cell_type": "code",
   "execution_count": 75,
   "metadata": {},
   "outputs": [
    {
     "data": {
      "image/png": "[encoded data removed]",
      "text/plain": [
       "<Figure size 432x288 with 1 Axes>"
      ]
     },
     "metadata": {
      "needs_background": "light"
     },
     "output_type": "display_data"
    }
   ],
   "source": [
    "top_5_category['median_price'].plot(kind='bar',\n",
    "                                    color='purple', \n",
    "                                    alpha=0.6, \n",
    "                                    label='медианная цена',\n",
    "                                    rot = 0)\n",
    "\n",
    "top_5_category['IQR'].plot(kind='bar',\n",
    "                           color='orange',\n",
    "                           alpha=0.6,\n",
    "                           label='IQR',\n",
    "                           rot = 0)\n",
    "\n",
    "plt.xlabel('Категория')\n",
    "plt.ylabel('Цена покупки')\n",
    "plt.title('Топ-5 категорий по разбросом цен с `типично` высокими ценами покупки')\n",
    "\n",
    "plt.legend()\n",
    "\n",
    "plt.show()"
   ]
  },
  {
   "cell_type": "markdown",
   "metadata": {},
   "source": [
    "### Промежуточный выпод по категориям с высокой ценой продажи и высоким разбросом цен\n",
    "\n",
    "Логика фильтрации:\n",
    "\n",
    "- Отбор категорий с медианной ценой выше общей медианы (median_median_price)\n",
    "\n",
    "- Ранжирование по IQR для выявления категорий с наибольшим разбросом\n",
    "\n",
    "**Топ-5 категорий** (по убыванию разброса цен):\n",
    "\n",
    "1. Finance - наибольший разброс (1.345B)при средней цене 170M\n",
    "\n",
    "2. Manufacturing - высокий разброс (1.204B)и медиана 247M\n",
    "\n",
    "3. Enterprise - крупнейшая выборка (503 сделки), значительный разброс (635M)\n",
    "\n",
    "4. Biotech - высокая медиана (287.5M) и большой разброс(590M)\n",
    "\n",
    "5. Ecommerce - самая высокая медиана (315M) среди топ-5\n",
    "\n"
   ]
  },
  {
   "cell_type": "markdown",
   "metadata": {
    "id": "ADOfyVY_rJg3"
   },
   "source": [
    "\n",
    "### Сколько раундов продержится стартап перед покупкой\n",
    "\n",
    "- Необходимо проанализировать столбец `funding_rounds`. Исследуйте значения столбца. Заказчика интересует типичное значение количества раундов для каждого возможного статуса стартапа.\n",
    "- Постройте график, который отображает, сколько в среднем раундов финансирования проходило для стартапов из каждой группы. Сделайте выводы."
   ]
  },
  {
   "cell_type": "code",
   "execution_count": 76,
   "metadata": {},
   "outputs": [
    {
     "name": "stdout",
     "output_type": "stream",
     "text": [
      "<class 'pandas.core.frame.DataFrame'>\n",
      "Int64Index: 217472 entries, 0 to 217471\n",
      "Data columns (total 13 columns):\n",
      " #   Column                   Non-Null Count   Dtype         \n",
      "---  ------                   --------------   -----         \n",
      " 0   company_id               217472 non-null  int64         \n",
      " 1   name                     217472 non-null  object        \n",
      " 2   category_code            217472 non-null  object        \n",
      " 3   status                   217472 non-null  object        \n",
      " 4   founded_at               217472 non-null  datetime64[ns]\n",
      " 5   closed_at                217472 non-null  datetime64[ns]\n",
      " 6   domain                   217472 non-null  object        \n",
      " 7   network_username         217472 non-null  object        \n",
      " 8   country_code             217472 non-null  object        \n",
      " 9   total_investment_rounds  217472 non-null  int64         \n",
      " 10  total_funding_rounds     217472 non-null  int64         \n",
      " 11  total_milestones         217472 non-null  int64         \n",
      " 12  total_funding            217472 non-null  int64         \n",
      "dtypes: datetime64[ns](2), int64(5), object(6)\n",
      "memory usage: 23.2+ MB\n"
     ]
    }
   ],
   "source": [
    "company_df.info()"
   ]
  },
  {
   "cell_type": "code",
   "execution_count": 77,
   "metadata": {
    "id": "hgXMPC4WrJg3",
    "vscode": {
     "languageId": "plaintext"
    }
   },
   "outputs": [
    {
     "name": "stdout",
     "output_type": "stream",
     "text": [
      "<class 'pandas.core.frame.DataFrame'>\n",
      "Int64Index: 52626 entries, 0 to 217471\n",
      "Data columns (total 13 columns):\n",
      " #   Column                   Non-Null Count  Dtype         \n",
      "---  ------                   --------------  -----         \n",
      " 0   company_id               52626 non-null  int64         \n",
      " 1   name                     52626 non-null  object        \n",
      " 2   category_code            52626 non-null  object        \n",
      " 3   status                   52626 non-null  object        \n",
      " 4   founded_at               52626 non-null  datetime64[ns]\n",
      " 5   closed_at                52626 non-null  datetime64[ns]\n",
      " 6   domain                   52626 non-null  object        \n",
      " 7   network_username         52626 non-null  object        \n",
      " 8   country_code             52626 non-null  object        \n",
      " 9   total_investment_rounds  52626 non-null  int64         \n",
      " 10  total_funding_rounds     52626 non-null  int64         \n",
      " 11  total_milestones         52626 non-null  int64         \n",
      " 12  total_funding            52626 non-null  int64         \n",
      "dtypes: datetime64[ns](2), int64(5), object(6)\n",
      "memory usage: 5.6+ MB\n"
     ]
    }
   ],
   "source": [
    "rounds_df = company_df[company_df['total_funding_rounds'] > 0]  # Исключаем нулевые значения\n",
    "rounds_df.info()"
   ]
  },
  {
   "cell_type": "code",
   "execution_count": 78,
   "metadata": {
    "id": "pV3e7kw5Fj1Y"
   },
   "outputs": [
    {
     "data": {
      "text/html": [
       "<div>\n",
       "<style scoped>\n",
       "    .dataframe tbody tr th:only-of-type {\n",
       "        vertical-align: middle;\n",
       "    }\n",
       "\n",
       "    .dataframe tbody tr th {\n",
       "        vertical-align: top;\n",
       "    }\n",
       "\n",
       "    .dataframe thead th {\n",
       "        text-align: right;\n",
       "    }\n",
       "</style>\n",
       "<table border=\"1\" class=\"dataframe\">\n",
       "  <thead>\n",
       "    <tr style=\"text-align: right;\">\n",
       "      <th></th>\n",
       "      <th>status</th>\n",
       "      <th>mean_funding_rounds</th>\n",
       "    </tr>\n",
       "  </thead>\n",
       "  <tbody>\n",
       "    <tr>\n",
       "      <th>2</th>\n",
       "      <td>ipo</td>\n",
       "      <td>30.0</td>\n",
       "    </tr>\n",
       "    <tr>\n",
       "      <th>0</th>\n",
       "      <td>acquired</td>\n",
       "      <td>11.0</td>\n",
       "    </tr>\n",
       "    <tr>\n",
       "      <th>3</th>\n",
       "      <td>operating</td>\n",
       "      <td>10.0</td>\n",
       "    </tr>\n",
       "    <tr>\n",
       "      <th>1</th>\n",
       "      <td>closed</td>\n",
       "      <td>5.0</td>\n",
       "    </tr>\n",
       "  </tbody>\n",
       "</table>\n",
       "</div>"
      ],
      "text/plain": [
       "      status  mean_funding_rounds\n",
       "2        ipo                 30.0\n",
       "0   acquired                 11.0\n",
       "3  operating                 10.0\n",
       "1     closed                  5.0"
      ]
     },
     "execution_count": 78,
     "metadata": {},
     "output_type": "execute_result"
    }
   ],
   "source": [
    "# Группировка по статусу\n",
    "rounds_by_status = rounds_df.groupby('status')['total_funding_rounds'].mean().round().reset_index() # посчитаем среднее значение раундов в разрезе статусов и округлим до целого\n",
    "rounds_by_status = rounds_by_status.rename(columns={'total_funding_rounds': 'mean_funding_rounds'})\n",
    "rounds_by_status = rounds_by_status.sort_values('mean_funding_rounds', ascending=False)\n",
    "rounds_by_status"
   ]
  },
  {
   "cell_type": "code",
   "execution_count": 79,
   "metadata": {},
   "outputs": [
    {
     "data": {
      "text/plain": [
       "<Figure size 864x432 with 0 Axes>"
      ]
     },
     "metadata": {},
     "output_type": "display_data"
    },
    {
     "data": {
      "image/png": "[encoded data removed]",
      "text/plain": [
       "<Figure size 432x288 with 1 Axes>"
      ]
     },
     "metadata": {
      "needs_background": "light"
     },
     "output_type": "display_data"
    }
   ],
   "source": [
    "plt.figure(figsize=(12, 6))\n",
    "\n",
    "rounds_by_status.plot(kind='bar',\n",
    "                      color = 'purple',\n",
    "                      legend = False,\n",
    "                      x = 'status',\n",
    "                      rot = 0\n",
    "                      )\n",
    "\n",
    "# Добавление подписей\n",
    "plt.title('Среднее количество раундов финансирования по статусам стартапов', pad=20)\n",
    "plt.xlabel('Статус компании')\n",
    "plt.ylabel('Среднее количество раундов')\n",
    "\n",
    "plt.grid(axis = 'y')\n",
    "\n",
    "plt.show()"
   ]
  },
  {
   "cell_type": "markdown",
   "metadata": {},
   "source": [
    "### Промежуточный вывод о количестве раундов финансирования в разрезе категорий\n",
    "\n",
    "1. Наибольшее количество раундов у компаний с статусом:\n",
    "\n",
    "- ipo (30 в среднем) - компании, вышедшие на IPO, проходят больше раундов, что логично для масштабирования перед публичным размещением\n",
    "\n",
    "- acquired (11) - приобретенные компании также показывают высокую активность привлечения инвестиций\n",
    "\n",
    "2. Закрытые стартапы (closed):\n",
    "\n",
    "- Минимальное количество раундов (5)\n"
   ]
  },
  {
   "cell_type": "markdown",
   "metadata": {
    "id": "VAFEZ2HBrJg3"
   },
   "source": [
    "\n",
    "## Шаг 4. Итоговый вывод и рекомендации\n",
    "\n",
    "### **Проделанная работа**\n",
    "\n",
    "В ходе проекта была проведена комплексная работа с данными о стартапах:\n",
    "\n",
    "- Загрузку и первичный анализ данных: знакомство с датасетами, проверка структуры, типов данных и пропусков.\n",
    "\n",
    "\n",
    "- Предобработку данных:\n",
    "\n",
    "    - Исправление названий столбцов (приведение к snake_case).\n",
    "\n",
    "    - Обработка пропусков (заполнение индикаторами, удаление некритичных пропусков).\n",
    "\n",
    "    - Оптимизация типов данных (например, преобразование дат в datetime, целочисленные типы для ID).\n",
    "\n",
    "    - Разделение датасета company_and_rounds.csv на две логические таблицы: company_df (информация о компаниях) и funding_df (данные о раундах финансирования).\n",
    "    \n",
    "\n",
    "- Исследовательский анализ:\n",
    "\n",
    "    - Анализ динамики финансирования стартапов по годам.\n",
    "\n",
    "    - Исследование зависимости полноты данных об образовании сотрудников от размера компании.\n",
    "\n",
    "    - Проверка возможности объединения таблиц по столбцу network_username.\n",
    "\n",
    "    - Анализ аномальных сделок (покупки за 0 или 1).\n",
    "\n",
    "    - Изучение категорий стартапов с самыми высокими ценами продажи и наибольшим разбросом цен.\n",
    "\n",
    "    - Анализ среднего количества раундов финансирования в зависимости от статуса компании.\n",
    "    \n",
    "### **Ключевые выводы**\n",
    "\n",
    "#### Динамика финансирования стартапов:\n",
    "\n",
    "     Пик медианного размера финансирования раунда пришелся на 2005 год (5.5 млн), после чего наблюдалось снижение при росте количества раундов.\n",
    "\n",
    "#### Данные об образовании сотрудников:\n",
    "\n",
    "    Чем крупнее компания, тем полнее информация об образовании сотрудников:\n",
    "\n",
    "        - Small (1–15 сотрудников): 47.4% без данных об образовании.\n",
    "\n",
    "        - Medium (16–100): 34.9%.\n",
    "\n",
    "        - Large (101+): 28.6%.\n",
    "\n",
    "Это может быть связано с более строгим кадровым учетом в крупных компаниях или особенностями стартапов (например, в малых компаниях чаще работают самоучки).\n",
    "\n",
    "#### Аномальные сделки (0 или 1):\n",
    "\n",
    "    Найдено 1589 компаний, проданных за 0 или 1, но при этом привлекших значительное финансирование (медиана — 52.2 млн).\n",
    "\n",
    "    Возможные причины:\n",
    "\n",
    "        - Технические/юридические сделки (например, передача активов внутри холдинга).\n",
    "\n",
    "        - Скрытые условия (например, выплаты через акции или роялти).\n",
    "\n",
    "#### Категории стартапов с высокой ценой и разбросом цен:\n",
    "\n",
    "    Топ-5 категорий (по медианной цене и разбросу):\n",
    "        \n",
    "        1.Finance: медиана — 170 млн, IQR—1.345млрд.\n",
    "        2.Manufacturing: медиана — 247 млн, IQR—1.204млрд.\n",
    "        3.Enterprise: медиана — 255 млн, IQR—635млн.\n",
    "        4.Biotech: медиана — 287.5 млн, IQR—590млн.\n",
    "        5.Ecommerce: медиана — 315 млн, IQR—532млн.\n",
    "        \n",
    "   Эти категории могут быть особенно интересны для инвесторов, готовых к высоким рискам ради потенциально большой прибыли.\n",
    "   \n",
    "#### Количество раундов финансирования:\n",
    "\n",
    "    Наибольшее среднее количество раундов у компаний:\n",
    "\n",
    "        IPO: 30 раундов.\n",
    "        \n",
    "        acquired: 11 раундов.\n",
    "\n",
    "    Закрытые стартапы (closed) прошли в среднем 5 раундов, что может указывать на недостаточное финансирование для масштабирования.\n",
    "    \n",
    "### Рекомендации для заказчика\n",
    "\n",
    "Для инвестиций в высокорисковые и высокодоходные стартапы:\n",
    "\n",
    "- Сфокусироваться на категориях Finance, Biotech и Enterprise — они демонстрируют высокие медианные цены и значительный разброс, что может указывать на потенциал для \"крупных выигрышей\".\n",
    "\n",
    "- Учитывать, что в этих категориях возможны как сверхприбыльные сделки, так и провалы (из-за большого IQR).\n",
    "\n",
    "При анализе сделок за 0/1:\n",
    "\n",
    "- Изучить дополнительные юридические и финансовые условия таких сделок — формальная цена может не отражать реальную стоимость.\n",
    "\n",
    "- Проверить, не связаны ли эти сделки с изменением структуры компаний.\n",
    "\n",
    "Для оценки перспективности стартапов:\n",
    "\n",
    "- Компании, прошедшие более 10 раундов финансирования, с высокой вероятностью либо выйдут на IPO, либо будут приобретены.\n",
    "\n",
    "- Стартапы с меньше 5 раундов имеют повышенный риск закрытия."
   ]
  }
 ],
 "metadata": {
  "ExecuteTimeLog": [
   {
    "duration": 1332,
    "start_time": "2025-05-02T00:43:13.740Z"
   },
   {
    "duration": 1406,
    "start_time": "2025-05-02T08:47:47.168Z"
   },
   {
    "duration": 1166,
    "start_time": "2025-05-02T08:47:51.592Z"
   },
   {
    "duration": 148,
    "start_time": "2025-05-02T08:47:52.760Z"
   },
   {
    "duration": 43,
    "start_time": "2025-05-02T08:49:50.196Z"
   },
   {
    "duration": 52,
    "start_time": "2025-05-02T08:50:07.165Z"
   },
   {
    "duration": 3,
    "start_time": "2025-05-02T08:50:21.646Z"
   },
   {
    "duration": 39,
    "start_time": "2025-05-02T08:50:24.013Z"
   },
   {
    "duration": 47,
    "start_time": "2025-05-02T08:54:15.865Z"
   },
   {
    "duration": 200,
    "start_time": "2025-05-02T08:54:29.905Z"
   },
   {
    "duration": 43,
    "start_time": "2025-05-02T08:54:44.456Z"
   },
   {
    "duration": 13,
    "start_time": "2025-05-02T08:59:12.019Z"
   },
   {
    "duration": 12,
    "start_time": "2025-05-02T08:59:19.322Z"
   },
   {
    "duration": 9,
    "start_time": "2025-05-02T08:59:27.967Z"
   },
   {
    "duration": 9,
    "start_time": "2025-05-02T09:08:03.229Z"
   },
   {
    "duration": 1659,
    "start_time": "2025-05-02T09:08:32.689Z"
   },
   {
    "duration": 100,
    "start_time": "2025-05-02T09:08:41.465Z"
   },
   {
    "duration": 33,
    "start_time": "2025-05-02T09:09:54.369Z"
   },
   {
    "duration": 29,
    "start_time": "2025-05-02T09:10:51.363Z"
   },
   {
    "duration": 33,
    "start_time": "2025-05-02T09:11:05.844Z"
   },
   {
    "duration": 25,
    "start_time": "2025-05-02T09:11:14.161Z"
   },
   {
    "duration": 26,
    "start_time": "2025-05-02T09:12:26.699Z"
   },
   {
    "duration": 80,
    "start_time": "2025-05-02T09:17:32.721Z"
   },
   {
    "duration": 28,
    "start_time": "2025-05-02T09:29:45.610Z"
   },
   {
    "duration": 24,
    "start_time": "2025-05-02T09:30:00.896Z"
   },
   {
    "duration": 4,
    "start_time": "2025-05-02T09:40:52.714Z"
   },
   {
    "duration": 42,
    "start_time": "2025-05-02T09:41:14.335Z"
   },
   {
    "duration": 10,
    "start_time": "2025-05-02T09:41:25.184Z"
   },
   {
    "duration": 20,
    "start_time": "2025-05-02T09:55:50.406Z"
   },
   {
    "duration": 8,
    "start_time": "2025-05-02T09:55:58.334Z"
   },
   {
    "duration": 26,
    "start_time": "2025-05-02T10:01:17.599Z"
   },
   {
    "duration": 12,
    "start_time": "2025-05-02T10:01:24.394Z"
   },
   {
    "duration": 9,
    "start_time": "2025-05-02T10:01:56.649Z"
   },
   {
    "duration": 10,
    "start_time": "2025-05-02T10:02:02.086Z"
   },
   {
    "duration": 8,
    "start_time": "2025-05-02T10:02:08.184Z"
   },
   {
    "duration": 8,
    "start_time": "2025-05-02T10:03:02.856Z"
   },
   {
    "duration": 9,
    "start_time": "2025-05-02T10:03:07.804Z"
   },
   {
    "duration": 10,
    "start_time": "2025-05-02T10:03:14.015Z"
   },
   {
    "duration": 8,
    "start_time": "2025-05-02T10:03:20.616Z"
   },
   {
    "duration": 1436,
    "start_time": "2025-05-02T22:17:11.921Z"
   },
   {
    "duration": 2421,
    "start_time": "2025-05-02T22:17:13.359Z"
   },
   {
    "duration": 13,
    "start_time": "2025-05-02T22:17:15.782Z"
   },
   {
    "duration": 15,
    "start_time": "2025-05-02T22:17:15.806Z"
   },
   {
    "duration": 125,
    "start_time": "2025-05-02T22:17:15.823Z"
   },
   {
    "duration": 27,
    "start_time": "2025-05-02T22:17:15.950Z"
   },
   {
    "duration": 139,
    "start_time": "2025-05-02T22:17:15.979Z"
   },
   {
    "duration": 10,
    "start_time": "2025-05-02T22:17:16.119Z"
   },
   {
    "duration": 24,
    "start_time": "2025-05-02T22:17:16.130Z"
   },
   {
    "duration": 7,
    "start_time": "2025-05-02T22:17:16.157Z"
   },
   {
    "duration": 47,
    "start_time": "2025-05-02T22:17:16.166Z"
   },
   {
    "duration": 30,
    "start_time": "2025-05-02T22:17:16.215Z"
   },
   {
    "duration": 1415,
    "start_time": "2025-05-03T05:48:09.840Z"
   },
   {
    "duration": 1884,
    "start_time": "2025-05-03T05:48:11.257Z"
   },
   {
    "duration": 14,
    "start_time": "2025-05-03T05:48:13.143Z"
   },
   {
    "duration": 34,
    "start_time": "2025-05-03T05:48:13.159Z"
   },
   {
    "duration": 115,
    "start_time": "2025-05-03T05:48:13.195Z"
   },
   {
    "duration": 24,
    "start_time": "2025-05-03T05:48:13.312Z"
   },
   {
    "duration": 43,
    "start_time": "2025-05-03T05:48:13.338Z"
   },
   {
    "duration": 22,
    "start_time": "2025-05-03T05:48:13.383Z"
   },
   {
    "duration": 22,
    "start_time": "2025-05-03T05:48:13.407Z"
   },
   {
    "duration": 12,
    "start_time": "2025-05-03T05:48:13.432Z"
   },
   {
    "duration": 59,
    "start_time": "2025-05-03T05:48:13.446Z"
   },
   {
    "duration": 9,
    "start_time": "2025-05-03T05:48:13.507Z"
   },
   {
    "duration": 28,
    "start_time": "2025-05-03T05:50:32.617Z"
   },
   {
    "duration": 36,
    "start_time": "2025-05-03T05:50:46.966Z"
   },
   {
    "duration": 25,
    "start_time": "2025-05-03T05:51:18.252Z"
   },
   {
    "duration": 150,
    "start_time": "2025-05-03T05:56:32.843Z"
   },
   {
    "duration": 162,
    "start_time": "2025-05-03T05:57:12.605Z"
   },
   {
    "duration": 145,
    "start_time": "2025-05-03T05:57:22.037Z"
   },
   {
    "duration": 111,
    "start_time": "2025-05-03T05:59:14.958Z"
   },
   {
    "duration": 126,
    "start_time": "2025-05-03T06:05:06.814Z"
   },
   {
    "duration": 126,
    "start_time": "2025-05-03T06:05:18.459Z"
   },
   {
    "duration": 125,
    "start_time": "2025-05-03T06:07:02.017Z"
   },
   {
    "duration": 128,
    "start_time": "2025-05-03T06:07:06.504Z"
   },
   {
    "duration": 1242,
    "start_time": "2025-05-03T06:07:14.116Z"
   },
   {
    "duration": 2252,
    "start_time": "2025-05-03T06:07:15.361Z"
   },
   {
    "duration": 13,
    "start_time": "2025-05-03T06:07:17.614Z"
   },
   {
    "duration": 118,
    "start_time": "2025-05-03T06:07:17.630Z"
   },
   {
    "duration": 109,
    "start_time": "2025-05-03T06:07:17.751Z"
   },
   {
    "duration": 26,
    "start_time": "2025-05-03T06:07:17.862Z"
   },
   {
    "duration": 52,
    "start_time": "2025-05-03T06:07:17.891Z"
   },
   {
    "duration": 10,
    "start_time": "2025-05-03T06:07:17.945Z"
   },
   {
    "duration": 28,
    "start_time": "2025-05-03T06:07:17.957Z"
   },
   {
    "duration": 8,
    "start_time": "2025-05-03T06:07:18.005Z"
   },
   {
    "duration": 26,
    "start_time": "2025-05-03T06:07:18.014Z"
   },
   {
    "duration": 8,
    "start_time": "2025-05-03T06:07:18.042Z"
   },
   {
    "duration": 267,
    "start_time": "2025-05-03T06:07:18.052Z"
   },
   {
    "duration": 154,
    "start_time": "2025-05-03T06:07:25.602Z"
   },
   {
    "duration": 1213,
    "start_time": "2025-05-03T06:07:31.338Z"
   },
   {
    "duration": 2048,
    "start_time": "2025-05-03T06:07:32.554Z"
   },
   {
    "duration": 14,
    "start_time": "2025-05-03T06:07:34.605Z"
   },
   {
    "duration": 48,
    "start_time": "2025-05-03T06:07:34.620Z"
   },
   {
    "duration": 141,
    "start_time": "2025-05-03T06:07:34.671Z"
   },
   {
    "duration": 25,
    "start_time": "2025-05-03T06:07:34.814Z"
   },
   {
    "duration": 95,
    "start_time": "2025-05-03T06:07:34.841Z"
   },
   {
    "duration": 13,
    "start_time": "2025-05-03T06:07:34.939Z"
   },
   {
    "duration": 102,
    "start_time": "2025-05-03T06:07:34.954Z"
   },
   {
    "duration": 8,
    "start_time": "2025-05-03T06:07:35.058Z"
   },
   {
    "duration": 44,
    "start_time": "2025-05-03T06:07:35.067Z"
   },
   {
    "duration": 54,
    "start_time": "2025-05-03T06:07:35.112Z"
   },
   {
    "duration": 173,
    "start_time": "2025-05-03T06:07:35.168Z"
   },
   {
    "duration": 106,
    "start_time": "2025-05-03T06:10:30.625Z"
   },
   {
    "duration": 148,
    "start_time": "2025-05-03T06:10:41.177Z"
   },
   {
    "duration": 1274,
    "start_time": "2025-05-03T06:11:11.279Z"
   },
   {
    "duration": 1904,
    "start_time": "2025-05-03T06:11:12.555Z"
   },
   {
    "duration": 14,
    "start_time": "2025-05-03T06:11:14.461Z"
   },
   {
    "duration": 28,
    "start_time": "2025-05-03T06:11:14.478Z"
   },
   {
    "duration": 114,
    "start_time": "2025-05-03T06:11:14.508Z"
   },
   {
    "duration": 26,
    "start_time": "2025-05-03T06:11:14.624Z"
   },
   {
    "duration": 63,
    "start_time": "2025-05-03T06:11:14.652Z"
   },
   {
    "duration": 10,
    "start_time": "2025-05-03T06:11:14.717Z"
   },
   {
    "duration": 36,
    "start_time": "2025-05-03T06:11:14.728Z"
   },
   {
    "duration": 26,
    "start_time": "2025-05-03T06:11:14.766Z"
   },
   {
    "duration": 27,
    "start_time": "2025-05-03T06:11:14.794Z"
   },
   {
    "duration": 11,
    "start_time": "2025-05-03T06:11:14.823Z"
   },
   {
    "duration": 187,
    "start_time": "2025-05-03T06:11:14.836Z"
   },
   {
    "duration": 1274,
    "start_time": "2025-05-03T06:12:05.174Z"
   },
   {
    "duration": 1952,
    "start_time": "2025-05-03T06:12:06.449Z"
   },
   {
    "duration": 13,
    "start_time": "2025-05-03T06:12:08.403Z"
   },
   {
    "duration": 18,
    "start_time": "2025-05-03T06:12:08.418Z"
   },
   {
    "duration": 120,
    "start_time": "2025-05-03T06:12:08.438Z"
   },
   {
    "duration": 24,
    "start_time": "2025-05-03T06:12:08.560Z"
   },
   {
    "duration": 55,
    "start_time": "2025-05-03T06:12:08.586Z"
   },
   {
    "duration": 11,
    "start_time": "2025-05-03T06:12:08.643Z"
   },
   {
    "duration": 35,
    "start_time": "2025-05-03T06:12:08.656Z"
   },
   {
    "duration": 16,
    "start_time": "2025-05-03T06:12:08.693Z"
   },
   {
    "duration": 41,
    "start_time": "2025-05-03T06:12:08.711Z"
   },
   {
    "duration": 10,
    "start_time": "2025-05-03T06:12:08.754Z"
   },
   {
    "duration": 144,
    "start_time": "2025-05-03T06:12:08.765Z"
   },
   {
    "duration": 163,
    "start_time": "2025-05-03T06:12:08.912Z"
   },
   {
    "duration": 116,
    "start_time": "2025-05-03T06:12:22.361Z"
   },
   {
    "duration": 1271,
    "start_time": "2025-05-03T06:12:46.584Z"
   },
   {
    "duration": 2324,
    "start_time": "2025-05-03T06:12:47.857Z"
   },
   {
    "duration": 27,
    "start_time": "2025-05-03T06:12:50.182Z"
   },
   {
    "duration": 15,
    "start_time": "2025-05-03T06:12:50.211Z"
   },
   {
    "duration": 118,
    "start_time": "2025-05-03T06:12:50.228Z"
   },
   {
    "duration": 25,
    "start_time": "2025-05-03T06:12:50.347Z"
   },
   {
    "duration": 57,
    "start_time": "2025-05-03T06:12:50.374Z"
   },
   {
    "duration": 9,
    "start_time": "2025-05-03T06:12:50.433Z"
   },
   {
    "duration": 41,
    "start_time": "2025-05-03T06:12:50.444Z"
   },
   {
    "duration": 11,
    "start_time": "2025-05-03T06:12:50.487Z"
   },
   {
    "duration": 38,
    "start_time": "2025-05-03T06:12:50.499Z"
   },
   {
    "duration": 25,
    "start_time": "2025-05-03T06:12:50.538Z"
   },
   {
    "duration": 42,
    "start_time": "2025-05-03T06:12:50.565Z"
   },
   {
    "duration": 159,
    "start_time": "2025-05-03T06:12:50.610Z"
   },
   {
    "duration": 69,
    "start_time": "2025-05-03T06:17:34.980Z"
   },
   {
    "duration": 213,
    "start_time": "2025-05-03T06:17:58.127Z"
   },
   {
    "duration": 77,
    "start_time": "2025-05-03T06:18:30.802Z"
   },
   {
    "duration": 115,
    "start_time": "2025-05-03T06:18:38.875Z"
   },
   {
    "duration": 12,
    "start_time": "2025-05-03T06:19:14.125Z"
   },
   {
    "duration": 48,
    "start_time": "2025-05-03T06:22:03.550Z"
   },
   {
    "duration": 8,
    "start_time": "2025-05-03T06:27:15.534Z"
   },
   {
    "duration": 9,
    "start_time": "2025-05-03T06:27:27.374Z"
   },
   {
    "duration": 50,
    "start_time": "2025-05-03T06:28:13.898Z"
   },
   {
    "duration": 21,
    "start_time": "2025-05-03T06:29:43.020Z"
   },
   {
    "duration": 27,
    "start_time": "2025-05-03T06:31:47.865Z"
   },
   {
    "duration": 1269,
    "start_time": "2025-05-03T06:31:55.483Z"
   },
   {
    "duration": 2337,
    "start_time": "2025-05-03T06:31:56.754Z"
   },
   {
    "duration": 14,
    "start_time": "2025-05-03T06:31:59.093Z"
   },
   {
    "duration": 45,
    "start_time": "2025-05-03T06:31:59.109Z"
   },
   {
    "duration": 109,
    "start_time": "2025-05-03T06:31:59.155Z"
   },
   {
    "duration": 50,
    "start_time": "2025-05-03T06:31:59.266Z"
   },
   {
    "duration": 88,
    "start_time": "2025-05-03T06:31:59.317Z"
   },
   {
    "duration": 10,
    "start_time": "2025-05-03T06:31:59.407Z"
   },
   {
    "duration": 24,
    "start_time": "2025-05-03T06:31:59.419Z"
   },
   {
    "duration": 8,
    "start_time": "2025-05-03T06:31:59.445Z"
   },
   {
    "duration": 26,
    "start_time": "2025-05-03T06:31:59.455Z"
   },
   {
    "duration": 9,
    "start_time": "2025-05-03T06:31:59.506Z"
   },
   {
    "duration": 42,
    "start_time": "2025-05-03T06:31:59.517Z"
   },
   {
    "duration": 173,
    "start_time": "2025-05-03T06:31:59.560Z"
   },
   {
    "duration": 13,
    "start_time": "2025-05-03T06:31:59.734Z"
   },
   {
    "duration": 126,
    "start_time": "2025-05-03T06:31:59.748Z"
   },
   {
    "duration": 23,
    "start_time": "2025-05-03T06:31:59.875Z"
   },
   {
    "duration": 28,
    "start_time": "2025-05-03T06:31:59.899Z"
   },
   {
    "duration": 16,
    "start_time": "2025-05-03T06:39:16.508Z"
   },
   {
    "duration": 217,
    "start_time": "2025-05-03T06:43:10.803Z"
   },
   {
    "duration": 33,
    "start_time": "2025-05-03T06:46:27.898Z"
   },
   {
    "duration": 49,
    "start_time": "2025-05-03T12:22:53.268Z"
   },
   {
    "duration": 1368,
    "start_time": "2025-05-03T12:23:01.507Z"
   },
   {
    "duration": 2214,
    "start_time": "2025-05-03T12:23:02.878Z"
   },
   {
    "duration": 13,
    "start_time": "2025-05-03T12:23:05.094Z"
   },
   {
    "duration": 35,
    "start_time": "2025-05-03T12:23:05.109Z"
   },
   {
    "duration": 98,
    "start_time": "2025-05-03T12:23:05.146Z"
   },
   {
    "duration": 29,
    "start_time": "2025-05-03T12:23:05.246Z"
   },
   {
    "duration": 60,
    "start_time": "2025-05-03T12:23:05.276Z"
   },
   {
    "duration": 11,
    "start_time": "2025-05-03T12:23:05.337Z"
   },
   {
    "duration": 35,
    "start_time": "2025-05-03T12:23:05.350Z"
   },
   {
    "duration": 17,
    "start_time": "2025-05-03T12:23:05.389Z"
   },
   {
    "duration": 31,
    "start_time": "2025-05-03T12:23:05.408Z"
   },
   {
    "duration": 24,
    "start_time": "2025-05-03T12:23:05.441Z"
   },
   {
    "duration": 46,
    "start_time": "2025-05-03T12:23:05.467Z"
   },
   {
    "duration": 163,
    "start_time": "2025-05-03T12:23:05.515Z"
   },
   {
    "duration": 12,
    "start_time": "2025-05-03T12:23:05.680Z"
   },
   {
    "duration": 61,
    "start_time": "2025-05-03T12:23:05.693Z"
   },
   {
    "duration": 24,
    "start_time": "2025-05-03T12:23:05.756Z"
   },
   {
    "duration": 30,
    "start_time": "2025-05-03T12:23:05.781Z"
   },
   {
    "duration": 16,
    "start_time": "2025-05-03T12:23:05.813Z"
   },
   {
    "duration": 236,
    "start_time": "2025-05-03T12:23:05.831Z"
   },
   {
    "duration": 32,
    "start_time": "2025-05-03T12:23:06.069Z"
   },
   {
    "duration": 7,
    "start_time": "2025-05-03T12:23:06.103Z"
   },
   {
    "duration": 8,
    "start_time": "2025-05-03T12:27:00.235Z"
   },
   {
    "duration": 10,
    "start_time": "2025-05-03T12:27:06.967Z"
   },
   {
    "duration": 10,
    "start_time": "2025-05-03T12:28:00.556Z"
   },
   {
    "duration": 9,
    "start_time": "2025-05-03T12:28:05.905Z"
   },
   {
    "duration": 10,
    "start_time": "2025-05-03T12:28:19.712Z"
   },
   {
    "duration": 13,
    "start_time": "2025-05-03T12:30:23.876Z"
   },
   {
    "duration": 110,
    "start_time": "2025-05-03T12:46:34.092Z"
   },
   {
    "duration": 13,
    "start_time": "2025-05-03T12:47:14.304Z"
   },
   {
    "duration": 14,
    "start_time": "2025-05-03T12:48:04.007Z"
   },
   {
    "duration": 71,
    "start_time": "2025-05-03T12:51:58.228Z"
   },
   {
    "duration": 72,
    "start_time": "2025-05-03T12:52:07.404Z"
   },
   {
    "duration": 73,
    "start_time": "2025-05-03T12:53:07.179Z"
   },
   {
    "duration": 9,
    "start_time": "2025-05-03T13:04:37.832Z"
   },
   {
    "duration": 9,
    "start_time": "2025-05-03T13:04:55.714Z"
   },
   {
    "duration": 9,
    "start_time": "2025-05-03T13:06:55.693Z"
   },
   {
    "duration": 1236,
    "start_time": "2025-05-03T13:07:03.262Z"
   },
   {
    "duration": 2007,
    "start_time": "2025-05-03T13:07:04.500Z"
   },
   {
    "duration": 13,
    "start_time": "2025-05-03T13:07:06.508Z"
   },
   {
    "duration": 28,
    "start_time": "2025-05-03T13:07:06.523Z"
   },
   {
    "duration": 119,
    "start_time": "2025-05-03T13:07:06.553Z"
   },
   {
    "duration": 26,
    "start_time": "2025-05-03T13:07:06.673Z"
   },
   {
    "duration": 62,
    "start_time": "2025-05-03T13:07:06.700Z"
   },
   {
    "duration": 23,
    "start_time": "2025-05-03T13:07:06.764Z"
   },
   {
    "duration": 59,
    "start_time": "2025-05-03T13:07:06.789Z"
   },
   {
    "duration": 11,
    "start_time": "2025-05-03T13:07:06.850Z"
   },
   {
    "duration": 67,
    "start_time": "2025-05-03T13:07:06.862Z"
   },
   {
    "duration": 55,
    "start_time": "2025-05-03T13:07:06.930Z"
   },
   {
    "duration": 58,
    "start_time": "2025-05-03T13:07:06.986Z"
   },
   {
    "duration": 352,
    "start_time": "2025-05-03T13:07:07.045Z"
   },
   {
    "duration": 63,
    "start_time": "2025-05-03T13:07:07.399Z"
   },
   {
    "duration": 100,
    "start_time": "2025-05-03T13:07:07.464Z"
   },
   {
    "duration": 21,
    "start_time": "2025-05-03T13:07:07.565Z"
   },
   {
    "duration": 81,
    "start_time": "2025-05-03T13:07:07.587Z"
   },
   {
    "duration": 14,
    "start_time": "2025-05-03T13:07:07.669Z"
   },
   {
    "duration": 478,
    "start_time": "2025-05-03T13:07:07.685Z"
   },
   {
    "duration": 32,
    "start_time": "2025-05-03T13:07:08.165Z"
   },
   {
    "duration": 67,
    "start_time": "2025-05-03T13:07:08.198Z"
   },
   {
    "duration": 14,
    "start_time": "2025-05-03T13:07:08.267Z"
   },
   {
    "duration": 182,
    "start_time": "2025-05-03T13:07:08.282Z"
   },
   {
    "duration": 157,
    "start_time": "2025-05-03T13:07:08.466Z"
   },
   {
    "duration": 32,
    "start_time": "2025-05-03T13:07:47.653Z"
   },
   {
    "duration": 87,
    "start_time": "2025-05-03T13:10:33.671Z"
   },
   {
    "duration": 69,
    "start_time": "2025-05-03T13:10:52.321Z"
   },
   {
    "duration": 26,
    "start_time": "2025-05-03T13:14:15.910Z"
   },
   {
    "duration": 42,
    "start_time": "2025-05-03T13:22:43.126Z"
   },
   {
    "duration": 83,
    "start_time": "2025-05-03T13:33:25.205Z"
   },
   {
    "duration": 10,
    "start_time": "2025-05-03T13:33:53.067Z"
   },
   {
    "duration": 70,
    "start_time": "2025-05-03T13:35:00.473Z"
   },
   {
    "duration": 9,
    "start_time": "2025-05-03T13:35:05.509Z"
   },
   {
    "duration": 71,
    "start_time": "2025-05-03T13:36:10.558Z"
   },
   {
    "duration": 10,
    "start_time": "2025-05-03T13:37:35.436Z"
   },
   {
    "duration": 75,
    "start_time": "2025-05-03T13:39:28.027Z"
   },
   {
    "duration": 43,
    "start_time": "2025-05-03T13:39:47.094Z"
   },
   {
    "duration": 71,
    "start_time": "2025-05-03T13:40:29.761Z"
   },
   {
    "duration": 10,
    "start_time": "2025-05-03T13:54:49.982Z"
   },
   {
    "duration": 13,
    "start_time": "2025-05-03T13:54:59.786Z"
   },
   {
    "duration": 12,
    "start_time": "2025-05-03T13:55:08.703Z"
   },
   {
    "duration": 89,
    "start_time": "2025-05-03T13:55:17.116Z"
   },
   {
    "duration": 15,
    "start_time": "2025-05-03T13:56:54.807Z"
   },
   {
    "duration": 21,
    "start_time": "2025-05-03T13:58:27.668Z"
   },
   {
    "duration": 12,
    "start_time": "2025-05-03T13:58:56.252Z"
   },
   {
    "duration": 13,
    "start_time": "2025-05-03T13:59:00.713Z"
   },
   {
    "duration": 13,
    "start_time": "2025-05-03T13:59:09.836Z"
   },
   {
    "duration": 1247,
    "start_time": "2025-05-03T13:59:21.476Z"
   },
   {
    "duration": 3089,
    "start_time": "2025-05-03T13:59:22.725Z"
   },
   {
    "duration": 13,
    "start_time": "2025-05-03T13:59:25.816Z"
   },
   {
    "duration": 13,
    "start_time": "2025-05-03T13:59:25.831Z"
   },
   {
    "duration": 115,
    "start_time": "2025-05-03T13:59:25.862Z"
   },
   {
    "duration": 25,
    "start_time": "2025-05-03T13:59:25.979Z"
   },
   {
    "duration": 56,
    "start_time": "2025-05-03T13:59:26.006Z"
   },
   {
    "duration": 10,
    "start_time": "2025-05-03T13:59:26.064Z"
   },
   {
    "duration": 28,
    "start_time": "2025-05-03T13:59:26.076Z"
   },
   {
    "duration": 7,
    "start_time": "2025-05-03T13:59:26.107Z"
   },
   {
    "duration": 55,
    "start_time": "2025-05-03T13:59:26.116Z"
   },
   {
    "duration": 8,
    "start_time": "2025-05-03T13:59:26.173Z"
   },
   {
    "duration": 36,
    "start_time": "2025-05-03T13:59:26.183Z"
   },
   {
    "duration": 172,
    "start_time": "2025-05-03T13:59:26.221Z"
   },
   {
    "duration": 13,
    "start_time": "2025-05-03T13:59:26.395Z"
   },
   {
    "duration": 67,
    "start_time": "2025-05-03T13:59:26.410Z"
   },
   {
    "duration": 22,
    "start_time": "2025-05-03T13:59:26.479Z"
   },
   {
    "duration": 30,
    "start_time": "2025-05-03T13:59:26.503Z"
   },
   {
    "duration": 38,
    "start_time": "2025-05-03T13:59:26.535Z"
   },
   {
    "duration": 229,
    "start_time": "2025-05-03T13:59:26.574Z"
   },
   {
    "duration": 31,
    "start_time": "2025-05-03T13:59:26.805Z"
   },
   {
    "duration": 31,
    "start_time": "2025-05-03T13:59:26.838Z"
   },
   {
    "duration": 13,
    "start_time": "2025-05-03T13:59:26.871Z"
   },
   {
    "duration": 98,
    "start_time": "2025-05-03T13:59:26.886Z"
   },
   {
    "duration": 33,
    "start_time": "2025-05-03T13:59:26.986Z"
   },
   {
    "duration": 96,
    "start_time": "2025-05-03T13:59:27.021Z"
   },
   {
    "duration": 23,
    "start_time": "2025-05-03T13:59:27.119Z"
   },
   {
    "duration": 57,
    "start_time": "2025-05-03T13:59:27.145Z"
   },
   {
    "duration": 155,
    "start_time": "2025-05-03T13:59:27.204Z"
   },
   {
    "duration": 41,
    "start_time": "2025-05-03T13:59:27.362Z"
   },
   {
    "duration": 90,
    "start_time": "2025-05-03T14:00:42.049Z"
   },
   {
    "duration": 73,
    "start_time": "2025-05-03T14:00:47.492Z"
   },
   {
    "duration": 163,
    "start_time": "2025-05-03T14:10:01.872Z"
   },
   {
    "duration": 9,
    "start_time": "2025-05-03T17:56:05.721Z"
   },
   {
    "duration": 8,
    "start_time": "2025-05-03T17:56:27.961Z"
   },
   {
    "duration": 8,
    "start_time": "2025-05-03T17:56:42.794Z"
   },
   {
    "duration": 12,
    "start_time": "2025-05-03T17:59:49.442Z"
   },
   {
    "duration": 12,
    "start_time": "2025-05-03T17:59:50.479Z"
   },
   {
    "duration": 11,
    "start_time": "2025-05-03T17:59:51.241Z"
   },
   {
    "duration": 11,
    "start_time": "2025-05-03T17:59:51.986Z"
   },
   {
    "duration": 12,
    "start_time": "2025-05-03T17:59:52.598Z"
   },
   {
    "duration": 13,
    "start_time": "2025-05-03T17:59:53.159Z"
   },
   {
    "duration": 13,
    "start_time": "2025-05-03T17:59:53.697Z"
   },
   {
    "duration": 12,
    "start_time": "2025-05-03T17:59:57.368Z"
   },
   {
    "duration": 111,
    "start_time": "2025-05-03T18:00:51.965Z"
   },
   {
    "duration": 16,
    "start_time": "2025-05-03T18:01:08.117Z"
   },
   {
    "duration": 20,
    "start_time": "2025-05-03T18:01:59.871Z"
   },
   {
    "duration": 62,
    "start_time": "2025-05-03T18:10:42.106Z"
   },
   {
    "duration": 55,
    "start_time": "2025-05-03T18:11:11.729Z"
   },
   {
    "duration": 108,
    "start_time": "2025-05-03T18:11:38.343Z"
   },
   {
    "duration": 33,
    "start_time": "2025-05-03T18:13:45.925Z"
   },
   {
    "duration": 58,
    "start_time": "2025-05-03T18:14:20.392Z"
   },
   {
    "duration": 80,
    "start_time": "2025-05-03T18:14:53.996Z"
   },
   {
    "duration": 96,
    "start_time": "2025-05-03T18:14:57.245Z"
   },
   {
    "duration": 71,
    "start_time": "2025-05-03T18:14:57.715Z"
   },
   {
    "duration": 68,
    "start_time": "2025-05-03T18:14:58.218Z"
   },
   {
    "duration": 39,
    "start_time": "2025-05-03T18:15:22.427Z"
   },
   {
    "duration": 128,
    "start_time": "2025-05-03T18:15:58.508Z"
   },
   {
    "duration": 127,
    "start_time": "2025-05-03T18:16:02.745Z"
   },
   {
    "duration": 44,
    "start_time": "2025-05-03T18:18:34.868Z"
   },
   {
    "duration": 43,
    "start_time": "2025-05-03T18:21:31.101Z"
   },
   {
    "duration": 46,
    "start_time": "2025-05-03T18:26:21.873Z"
   },
   {
    "duration": 51,
    "start_time": "2025-05-03T18:26:44.897Z"
   },
   {
    "duration": 54,
    "start_time": "2025-05-03T18:28:11.161Z"
   },
   {
    "duration": 53,
    "start_time": "2025-05-03T18:30:39.134Z"
   },
   {
    "duration": 55,
    "start_time": "2025-05-03T18:34:05.368Z"
   },
   {
    "duration": 45,
    "start_time": "2025-05-03T18:35:28.575Z"
   },
   {
    "duration": 44,
    "start_time": "2025-05-03T18:35:50.429Z"
   },
   {
    "duration": 51,
    "start_time": "2025-05-03T18:36:16.855Z"
   },
   {
    "duration": 52,
    "start_time": "2025-05-03T18:36:30.598Z"
   },
   {
    "duration": 47,
    "start_time": "2025-05-03T18:37:32.556Z"
   },
   {
    "duration": 54,
    "start_time": "2025-05-03T18:37:51.677Z"
   },
   {
    "duration": 51,
    "start_time": "2025-05-03T18:38:11.076Z"
   },
   {
    "duration": 51,
    "start_time": "2025-05-03T18:38:34.150Z"
   },
   {
    "duration": 49,
    "start_time": "2025-05-03T18:47:43.139Z"
   },
   {
    "duration": 53,
    "start_time": "2025-05-03T18:47:52.494Z"
   },
   {
    "duration": 56,
    "start_time": "2025-05-03T19:00:19.811Z"
   },
   {
    "duration": 52,
    "start_time": "2025-05-03T19:01:13.018Z"
   },
   {
    "duration": 54,
    "start_time": "2025-05-03T19:01:58.177Z"
   },
   {
    "duration": 253,
    "start_time": "2025-05-03T19:04:27.311Z"
   },
   {
    "duration": 111,
    "start_time": "2025-05-03T19:05:06.327Z"
   },
   {
    "duration": 166,
    "start_time": "2025-05-03T19:05:12.672Z"
   },
   {
    "duration": 11,
    "start_time": "2025-05-03T19:06:07.456Z"
   },
   {
    "duration": 164,
    "start_time": "2025-05-03T19:06:13.067Z"
   },
   {
    "duration": 237,
    "start_time": "2025-05-03T19:06:22.346Z"
   },
   {
    "duration": 182,
    "start_time": "2025-05-03T19:06:29.591Z"
   },
   {
    "duration": 1231,
    "start_time": "2025-05-03T19:06:37.542Z"
   },
   {
    "duration": 2221,
    "start_time": "2025-05-03T19:06:38.775Z"
   },
   {
    "duration": 68,
    "start_time": "2025-05-03T19:06:40.998Z"
   },
   {
    "duration": 14,
    "start_time": "2025-05-03T19:06:41.068Z"
   },
   {
    "duration": 207,
    "start_time": "2025-05-03T19:06:41.083Z"
   },
   {
    "duration": 83,
    "start_time": "2025-05-03T19:06:41.291Z"
   },
   {
    "duration": 94,
    "start_time": "2025-05-03T19:06:41.376Z"
   },
   {
    "duration": 9,
    "start_time": "2025-05-03T19:06:41.472Z"
   },
   {
    "duration": 21,
    "start_time": "2025-05-03T19:06:41.482Z"
   },
   {
    "duration": 58,
    "start_time": "2025-05-03T19:06:41.506Z"
   },
   {
    "duration": 46,
    "start_time": "2025-05-03T19:06:41.566Z"
   },
   {
    "duration": 51,
    "start_time": "2025-05-03T19:06:41.613Z"
   },
   {
    "duration": 46,
    "start_time": "2025-05-03T19:06:41.666Z"
   },
   {
    "duration": 246,
    "start_time": "2025-05-03T19:06:41.762Z"
   },
   {
    "duration": 13,
    "start_time": "2025-05-03T19:06:42.063Z"
   },
   {
    "duration": 103,
    "start_time": "2025-05-03T19:06:42.078Z"
   },
   {
    "duration": 21,
    "start_time": "2025-05-03T19:06:42.183Z"
   },
   {
    "duration": 73,
    "start_time": "2025-05-03T19:06:42.205Z"
   },
   {
    "duration": 17,
    "start_time": "2025-05-03T19:06:42.279Z"
   },
   {
    "duration": 226,
    "start_time": "2025-05-03T19:06:42.298Z"
   },
   {
    "duration": 37,
    "start_time": "2025-05-03T19:06:42.526Z"
   },
   {
    "duration": 14,
    "start_time": "2025-05-03T19:06:42.565Z"
   },
   {
    "duration": 14,
    "start_time": "2025-05-03T19:06:42.580Z"
   },
   {
    "duration": 170,
    "start_time": "2025-05-03T19:06:42.595Z"
   },
   {
    "duration": 72,
    "start_time": "2025-05-03T19:06:42.767Z"
   },
   {
    "duration": 43,
    "start_time": "2025-05-03T19:06:42.841Z"
   },
   {
    "duration": 82,
    "start_time": "2025-05-03T19:06:42.886Z"
   },
   {
    "duration": 22,
    "start_time": "2025-05-03T19:06:42.971Z"
   },
   {
    "duration": 40,
    "start_time": "2025-05-03T19:06:42.994Z"
   },
   {
    "duration": 111,
    "start_time": "2025-05-03T19:06:43.036Z"
   },
   {
    "duration": 45,
    "start_time": "2025-05-03T19:06:43.148Z"
   },
   {
    "duration": 74,
    "start_time": "2025-05-03T19:06:43.194Z"
   },
   {
    "duration": 191,
    "start_time": "2025-05-03T19:06:43.269Z"
   },
   {
    "duration": 176,
    "start_time": "2025-05-03T19:07:05.124Z"
   },
   {
    "duration": 165,
    "start_time": "2025-05-03T19:07:11.291Z"
   },
   {
    "duration": 173,
    "start_time": "2025-05-03T19:08:30.391Z"
   },
   {
    "duration": 170,
    "start_time": "2025-05-03T19:08:31.258Z"
   },
   {
    "duration": 164,
    "start_time": "2025-05-03T19:08:31.843Z"
   },
   {
    "duration": 168,
    "start_time": "2025-05-03T19:08:32.639Z"
   },
   {
    "duration": 167,
    "start_time": "2025-05-03T19:08:32.997Z"
   },
   {
    "duration": 229,
    "start_time": "2025-05-03T19:08:33.212Z"
   },
   {
    "duration": 164,
    "start_time": "2025-05-03T19:08:33.753Z"
   },
   {
    "duration": 166,
    "start_time": "2025-05-03T19:08:39.741Z"
   },
   {
    "duration": 162,
    "start_time": "2025-05-03T19:08:43.017Z"
   },
   {
    "duration": 182,
    "start_time": "2025-05-03T19:09:02.241Z"
   },
   {
    "duration": 182,
    "start_time": "2025-05-03T19:09:06.708Z"
   },
   {
    "duration": 162,
    "start_time": "2025-05-03T19:09:20.388Z"
   },
   {
    "duration": 1206,
    "start_time": "2025-05-03T19:09:39.273Z"
   },
   {
    "duration": 2290,
    "start_time": "2025-05-03T19:09:40.481Z"
   },
   {
    "duration": 13,
    "start_time": "2025-05-03T19:09:42.773Z"
   },
   {
    "duration": 13,
    "start_time": "2025-05-03T19:09:42.788Z"
   },
   {
    "duration": 206,
    "start_time": "2025-05-03T19:09:42.802Z"
   },
   {
    "duration": 27,
    "start_time": "2025-05-03T19:09:43.063Z"
   },
   {
    "duration": 97,
    "start_time": "2025-05-03T19:09:43.091Z"
   },
   {
    "duration": 10,
    "start_time": "2025-05-03T19:09:43.190Z"
   },
   {
    "duration": 20,
    "start_time": "2025-05-03T19:09:43.202Z"
   },
   {
    "duration": 7,
    "start_time": "2025-05-03T19:09:43.226Z"
   },
   {
    "duration": 25,
    "start_time": "2025-05-03T19:09:43.264Z"
   },
   {
    "duration": 8,
    "start_time": "2025-05-03T19:09:43.291Z"
   },
   {
    "duration": 35,
    "start_time": "2025-05-03T19:09:43.301Z"
   },
   {
    "duration": 157,
    "start_time": "2025-05-03T19:09:43.363Z"
   },
   {
    "duration": 14,
    "start_time": "2025-05-03T19:09:43.522Z"
   },
   {
    "duration": 65,
    "start_time": "2025-05-03T19:09:43.538Z"
   },
   {
    "duration": 22,
    "start_time": "2025-05-03T19:09:43.605Z"
   },
   {
    "duration": 43,
    "start_time": "2025-05-03T19:09:43.629Z"
   },
   {
    "duration": 15,
    "start_time": "2025-05-03T19:09:43.673Z"
   },
   {
    "duration": 230,
    "start_time": "2025-05-03T19:09:43.690Z"
   },
   {
    "duration": 31,
    "start_time": "2025-05-03T19:09:43.922Z"
   },
   {
    "duration": 13,
    "start_time": "2025-05-03T19:09:43.963Z"
   },
   {
    "duration": 13,
    "start_time": "2025-05-03T19:09:43.977Z"
   },
   {
    "duration": 166,
    "start_time": "2025-05-03T19:09:43.991Z"
   },
   {
    "duration": 75,
    "start_time": "2025-05-03T19:09:44.158Z"
   },
   {
    "duration": 47,
    "start_time": "2025-05-03T19:09:44.235Z"
   },
   {
    "duration": 89,
    "start_time": "2025-05-03T19:09:44.283Z"
   },
   {
    "duration": 23,
    "start_time": "2025-05-03T19:09:44.376Z"
   },
   {
    "duration": 40,
    "start_time": "2025-05-03T19:09:44.400Z"
   },
   {
    "duration": 104,
    "start_time": "2025-05-03T19:09:44.442Z"
   },
   {
    "duration": 40,
    "start_time": "2025-05-03T19:09:44.547Z"
   },
   {
    "duration": 78,
    "start_time": "2025-05-03T19:09:44.589Z"
   },
   {
    "duration": 196,
    "start_time": "2025-05-03T19:09:44.668Z"
   },
   {
    "duration": 172,
    "start_time": "2025-05-03T19:09:49.881Z"
   },
   {
    "duration": 167,
    "start_time": "2025-05-03T19:10:06.439Z"
   },
   {
    "duration": 163,
    "start_time": "2025-05-03T19:10:22.923Z"
   },
   {
    "duration": 156,
    "start_time": "2025-05-03T19:10:45.470Z"
   },
   {
    "duration": 172,
    "start_time": "2025-05-03T19:10:56.382Z"
   },
   {
    "duration": 165,
    "start_time": "2025-05-03T19:11:08.078Z"
   },
   {
    "duration": 226,
    "start_time": "2025-05-03T19:11:15.694Z"
   },
   {
    "duration": 155,
    "start_time": "2025-05-03T19:12:26.984Z"
   },
   {
    "duration": 2,
    "start_time": "2025-05-03T19:12:43.846Z"
   },
   {
    "duration": 3,
    "start_time": "2025-05-03T19:12:44.084Z"
   },
   {
    "duration": 3,
    "start_time": "2025-05-03T19:12:44.251Z"
   },
   {
    "duration": 3,
    "start_time": "2025-05-03T19:12:44.382Z"
   },
   {
    "duration": 3,
    "start_time": "2025-05-03T19:12:44.533Z"
   },
   {
    "duration": 3,
    "start_time": "2025-05-03T19:12:44.672Z"
   },
   {
    "duration": 3,
    "start_time": "2025-05-03T19:12:44.777Z"
   },
   {
    "duration": 3,
    "start_time": "2025-05-03T19:12:44.881Z"
   },
   {
    "duration": 3,
    "start_time": "2025-05-03T19:12:45.001Z"
   },
   {
    "duration": 3,
    "start_time": "2025-05-03T19:12:45.148Z"
   },
   {
    "duration": 3,
    "start_time": "2025-05-03T19:12:45.270Z"
   },
   {
    "duration": 3,
    "start_time": "2025-05-03T19:12:45.398Z"
   },
   {
    "duration": 2,
    "start_time": "2025-05-03T19:12:47.703Z"
   },
   {
    "duration": 165,
    "start_time": "2025-05-03T19:13:43.539Z"
   },
   {
    "duration": 158,
    "start_time": "2025-05-03T19:14:07.723Z"
   },
   {
    "duration": 197,
    "start_time": "2025-05-03T19:14:17.162Z"
   },
   {
    "duration": 3,
    "start_time": "2025-05-03T21:20:52.895Z"
   },
   {
    "duration": 78,
    "start_time": "2025-05-03T21:21:14.688Z"
   },
   {
    "duration": 4,
    "start_time": "2025-05-03T21:21:28.533Z"
   },
   {
    "duration": 53,
    "start_time": "2025-05-03T21:23:16.070Z"
   },
   {
    "duration": 9,
    "start_time": "2025-05-03T21:27:29.676Z"
   },
   {
    "duration": 9,
    "start_time": "2025-05-03T21:27:44.827Z"
   },
   {
    "duration": 41,
    "start_time": "2025-05-03T21:28:55.504Z"
   },
   {
    "duration": 17,
    "start_time": "2025-05-03T21:29:04.175Z"
   },
   {
    "duration": 11,
    "start_time": "2025-05-03T21:31:39.383Z"
   },
   {
    "duration": 15,
    "start_time": "2025-05-03T21:31:46.061Z"
   },
   {
    "duration": 18,
    "start_time": "2025-05-03T21:32:13.341Z"
   },
   {
    "duration": 15,
    "start_time": "2025-05-03T21:34:46.569Z"
   },
   {
    "duration": 17,
    "start_time": "2025-05-03T21:34:59.746Z"
   },
   {
    "duration": 26,
    "start_time": "2025-05-03T21:37:08.572Z"
   },
   {
    "duration": 25,
    "start_time": "2025-05-03T21:39:32.853Z"
   },
   {
    "duration": 19,
    "start_time": "2025-05-03T21:39:38.471Z"
   },
   {
    "duration": 21,
    "start_time": "2025-05-03T21:39:49.707Z"
   },
   {
    "duration": 18,
    "start_time": "2025-05-03T21:40:10.096Z"
   },
   {
    "duration": 21,
    "start_time": "2025-05-03T21:40:36.399Z"
   },
   {
    "duration": 23,
    "start_time": "2025-05-03T21:41:37.592Z"
   },
   {
    "duration": 1468,
    "start_time": "2025-05-03T21:42:03.716Z"
   },
   {
    "duration": 1036,
    "start_time": "2025-05-03T21:42:39.902Z"
   },
   {
    "duration": 974,
    "start_time": "2025-05-03T21:42:48.404Z"
   },
   {
    "duration": 1232,
    "start_time": "2025-05-03T21:43:02.061Z"
   },
   {
    "duration": 2927,
    "start_time": "2025-05-03T21:43:03.296Z"
   },
   {
    "duration": 13,
    "start_time": "2025-05-03T21:43:06.225Z"
   },
   {
    "duration": 23,
    "start_time": "2025-05-03T21:43:06.241Z"
   },
   {
    "duration": 108,
    "start_time": "2025-05-03T21:43:06.266Z"
   },
   {
    "duration": 26,
    "start_time": "2025-05-03T21:43:06.377Z"
   },
   {
    "duration": 65,
    "start_time": "2025-05-03T21:43:06.405Z"
   },
   {
    "duration": 9,
    "start_time": "2025-05-03T21:43:06.472Z"
   },
   {
    "duration": 29,
    "start_time": "2025-05-03T21:43:06.482Z"
   },
   {
    "duration": 18,
    "start_time": "2025-05-03T21:43:06.512Z"
   },
   {
    "duration": 24,
    "start_time": "2025-05-03T21:43:06.532Z"
   },
   {
    "duration": 27,
    "start_time": "2025-05-03T21:43:06.562Z"
   },
   {
    "duration": 51,
    "start_time": "2025-05-03T21:43:06.592Z"
   },
   {
    "duration": 155,
    "start_time": "2025-05-03T21:43:06.646Z"
   },
   {
    "duration": 11,
    "start_time": "2025-05-03T21:43:06.803Z"
   },
   {
    "duration": 61,
    "start_time": "2025-05-03T21:43:06.816Z"
   },
   {
    "duration": 21,
    "start_time": "2025-05-03T21:43:06.878Z"
   },
   {
    "duration": 24,
    "start_time": "2025-05-03T21:43:06.901Z"
   },
   {
    "duration": 15,
    "start_time": "2025-05-03T21:43:06.927Z"
   },
   {
    "duration": 231,
    "start_time": "2025-05-03T21:43:06.962Z"
   },
   {
    "duration": 85,
    "start_time": "2025-05-03T21:43:07.195Z"
   },
   {
    "duration": 18,
    "start_time": "2025-05-03T21:43:07.283Z"
   },
   {
    "duration": 71,
    "start_time": "2025-05-03T21:43:07.302Z"
   },
   {
    "duration": 316,
    "start_time": "2025-05-03T21:43:07.374Z"
   },
   {
    "duration": 177,
    "start_time": "2025-05-03T21:43:07.691Z"
   },
   {
    "duration": 31,
    "start_time": "2025-05-03T21:43:07.870Z"
   },
   {
    "duration": 176,
    "start_time": "2025-05-03T21:43:07.903Z"
   },
   {
    "duration": 23,
    "start_time": "2025-05-03T21:43:08.080Z"
   },
   {
    "duration": 93,
    "start_time": "2025-05-03T21:43:08.104Z"
   },
   {
    "duration": 191,
    "start_time": "2025-05-03T21:43:08.199Z"
   },
   {
    "duration": 85,
    "start_time": "2025-05-03T21:43:08.392Z"
   },
   {
    "duration": 119,
    "start_time": "2025-05-03T21:43:08.479Z"
   },
   {
    "duration": 1530,
    "start_time": "2025-05-03T21:43:08.599Z"
   },
   {
    "duration": 0,
    "start_time": "2025-05-03T21:43:10.130Z"
   },
   {
    "duration": 0,
    "start_time": "2025-05-03T21:43:10.132Z"
   },
   {
    "duration": 0,
    "start_time": "2025-05-03T21:43:10.133Z"
   },
   {
    "duration": 0,
    "start_time": "2025-05-03T21:43:10.134Z"
   },
   {
    "duration": 0,
    "start_time": "2025-05-03T21:43:10.135Z"
   },
   {
    "duration": 1289,
    "start_time": "2025-05-03T21:44:31.426Z"
   },
   {
    "duration": 10,
    "start_time": "2025-05-03T21:44:59.320Z"
   },
   {
    "duration": 1407,
    "start_time": "2025-05-03T21:45:57.887Z"
   },
   {
    "duration": 77,
    "start_time": "2025-05-03T21:46:58.065Z"
   },
   {
    "duration": 55,
    "start_time": "2025-05-03T21:47:07.732Z"
   },
   {
    "duration": 1235,
    "start_time": "2025-05-03T21:47:16.547Z"
   },
   {
    "duration": 2187,
    "start_time": "2025-05-03T21:47:17.784Z"
   },
   {
    "duration": 13,
    "start_time": "2025-05-03T21:47:19.973Z"
   },
   {
    "duration": 13,
    "start_time": "2025-05-03T21:47:19.988Z"
   },
   {
    "duration": 165,
    "start_time": "2025-05-03T21:47:20.004Z"
   },
   {
    "duration": 25,
    "start_time": "2025-05-03T21:47:20.171Z"
   },
   {
    "duration": 67,
    "start_time": "2025-05-03T21:47:20.198Z"
   },
   {
    "duration": 9,
    "start_time": "2025-05-03T21:47:20.266Z"
   },
   {
    "duration": 29,
    "start_time": "2025-05-03T21:47:20.277Z"
   },
   {
    "duration": 8,
    "start_time": "2025-05-03T21:47:20.308Z"
   },
   {
    "duration": 60,
    "start_time": "2025-05-03T21:47:20.317Z"
   },
   {
    "duration": 8,
    "start_time": "2025-05-03T21:47:20.379Z"
   },
   {
    "duration": 78,
    "start_time": "2025-05-03T21:47:20.389Z"
   },
   {
    "duration": 193,
    "start_time": "2025-05-03T21:47:20.470Z"
   },
   {
    "duration": 11,
    "start_time": "2025-05-03T21:47:20.665Z"
   },
   {
    "duration": 65,
    "start_time": "2025-05-03T21:47:20.678Z"
   },
   {
    "duration": 41,
    "start_time": "2025-05-03T21:47:20.744Z"
   },
   {
    "duration": 31,
    "start_time": "2025-05-03T21:47:20.787Z"
   },
   {
    "duration": 15,
    "start_time": "2025-05-03T21:47:20.819Z"
   },
   {
    "duration": 248,
    "start_time": "2025-05-03T21:47:20.862Z"
   },
   {
    "duration": 31,
    "start_time": "2025-05-03T21:47:21.111Z"
   },
   {
    "duration": 30,
    "start_time": "2025-05-03T21:47:21.144Z"
   },
   {
    "duration": 12,
    "start_time": "2025-05-03T21:47:21.176Z"
   },
   {
    "duration": 217,
    "start_time": "2025-05-03T21:47:21.190Z"
   },
   {
    "duration": 103,
    "start_time": "2025-05-03T21:47:21.409Z"
   },
   {
    "duration": 49,
    "start_time": "2025-05-03T21:47:21.514Z"
   },
   {
    "duration": 99,
    "start_time": "2025-05-03T21:47:21.565Z"
   },
   {
    "duration": 26,
    "start_time": "2025-05-03T21:47:21.666Z"
   },
   {
    "duration": 60,
    "start_time": "2025-05-03T21:47:21.694Z"
   },
   {
    "duration": 105,
    "start_time": "2025-05-03T21:47:21.763Z"
   },
   {
    "duration": 36,
    "start_time": "2025-05-03T21:47:21.870Z"
   },
   {
    "duration": 88,
    "start_time": "2025-05-03T21:47:21.908Z"
   },
   {
    "duration": 1480,
    "start_time": "2025-05-03T21:47:21.998Z"
   },
   {
    "duration": 0,
    "start_time": "2025-05-03T21:47:23.480Z"
   },
   {
    "duration": 0,
    "start_time": "2025-05-03T21:47:23.481Z"
   },
   {
    "duration": 0,
    "start_time": "2025-05-03T21:47:23.483Z"
   },
   {
    "duration": 0,
    "start_time": "2025-05-03T21:47:23.484Z"
   },
   {
    "duration": 0,
    "start_time": "2025-05-03T21:47:23.486Z"
   },
   {
    "duration": 83,
    "start_time": "2025-05-03T21:47:59.062Z"
   },
   {
    "duration": 58,
    "start_time": "2025-05-03T21:48:05.408Z"
   },
   {
    "duration": 55,
    "start_time": "2025-05-03T21:48:47.531Z"
   },
   {
    "duration": 56,
    "start_time": "2025-05-03T21:48:52.862Z"
   },
   {
    "duration": 185,
    "start_time": "2025-05-03T21:49:04.615Z"
   },
   {
    "duration": 1040,
    "start_time": "2025-05-03T21:49:12.624Z"
   },
   {
    "duration": 17,
    "start_time": "2025-05-03T21:49:30.879Z"
   },
   {
    "duration": 22,
    "start_time": "2025-05-03T21:50:20.128Z"
   },
   {
    "duration": 1328,
    "start_time": "2025-05-03T21:54:00.513Z"
   },
   {
    "duration": 16,
    "start_time": "2025-05-03T21:54:16.436Z"
   },
   {
    "duration": 18,
    "start_time": "2025-05-03T21:54:21.939Z"
   },
   {
    "duration": 4,
    "start_time": "2025-05-03T22:00:17.916Z"
   },
   {
    "duration": 22,
    "start_time": "2025-05-03T22:00:23.169Z"
   },
   {
    "duration": 10,
    "start_time": "2025-05-03T22:06:49.328Z"
   },
   {
    "duration": 10,
    "start_time": "2025-05-03T22:08:39.159Z"
   },
   {
    "duration": 5,
    "start_time": "2025-05-03T22:08:48.282Z"
   },
   {
    "duration": 15,
    "start_time": "2025-05-03T22:08:56.097Z"
   },
   {
    "duration": 10,
    "start_time": "2025-05-03T22:09:20.367Z"
   },
   {
    "duration": 13,
    "start_time": "2025-05-03T22:09:42.769Z"
   },
   {
    "duration": 15,
    "start_time": "2025-05-03T22:21:04.979Z"
   },
   {
    "duration": 1144,
    "start_time": "2025-05-03T22:21:21.738Z"
   },
   {
    "duration": 2302,
    "start_time": "2025-05-03T22:21:22.884Z"
   },
   {
    "duration": 12,
    "start_time": "2025-05-03T22:21:25.188Z"
   },
   {
    "duration": 69,
    "start_time": "2025-05-03T22:21:25.202Z"
   },
   {
    "duration": 209,
    "start_time": "2025-05-03T22:21:25.273Z"
   },
   {
    "duration": 78,
    "start_time": "2025-05-03T22:21:25.484Z"
   },
   {
    "duration": 40,
    "start_time": "2025-05-03T22:21:25.564Z"
   },
   {
    "duration": 63,
    "start_time": "2025-05-03T22:21:25.606Z"
   },
   {
    "duration": 23,
    "start_time": "2025-05-03T22:21:25.670Z"
   },
   {
    "duration": 8,
    "start_time": "2025-05-03T22:21:25.695Z"
   },
   {
    "duration": 77,
    "start_time": "2025-05-03T22:21:25.704Z"
   },
   {
    "duration": 14,
    "start_time": "2025-05-03T22:21:25.782Z"
   },
   {
    "duration": 84,
    "start_time": "2025-05-03T22:21:25.798Z"
   },
   {
    "duration": 301,
    "start_time": "2025-05-03T22:21:25.883Z"
   },
   {
    "duration": 11,
    "start_time": "2025-05-03T22:21:26.186Z"
   },
   {
    "duration": 104,
    "start_time": "2025-05-03T22:21:26.199Z"
   },
   {
    "duration": 20,
    "start_time": "2025-05-03T22:21:26.305Z"
   },
   {
    "duration": 48,
    "start_time": "2025-05-03T22:21:26.327Z"
   },
   {
    "duration": 16,
    "start_time": "2025-05-03T22:21:26.376Z"
   },
   {
    "duration": 221,
    "start_time": "2025-05-03T22:21:26.394Z"
   },
   {
    "duration": 28,
    "start_time": "2025-05-03T22:21:26.617Z"
   },
   {
    "duration": 26,
    "start_time": "2025-05-03T22:21:26.647Z"
   },
   {
    "duration": 12,
    "start_time": "2025-05-03T22:21:26.674Z"
   },
   {
    "duration": 161,
    "start_time": "2025-05-03T22:21:26.688Z"
   },
   {
    "duration": 77,
    "start_time": "2025-05-03T22:21:26.851Z"
   },
   {
    "duration": 44,
    "start_time": "2025-05-03T22:21:26.930Z"
   },
   {
    "duration": 72,
    "start_time": "2025-05-03T22:21:26.976Z"
   },
   {
    "duration": 22,
    "start_time": "2025-05-03T22:21:27.062Z"
   },
   {
    "duration": 39,
    "start_time": "2025-05-03T22:21:27.085Z"
   },
   {
    "duration": 140,
    "start_time": "2025-05-03T22:21:27.125Z"
   },
   {
    "duration": 51,
    "start_time": "2025-05-03T22:21:27.267Z"
   },
   {
    "duration": 111,
    "start_time": "2025-05-03T22:21:27.320Z"
   },
   {
    "duration": 203,
    "start_time": "2025-05-03T22:21:27.433Z"
   },
   {
    "duration": 31,
    "start_time": "2025-05-03T22:21:27.637Z"
   },
   {
    "duration": 4,
    "start_time": "2025-05-03T22:21:27.670Z"
   },
   {
    "duration": 25,
    "start_time": "2025-05-03T22:21:27.675Z"
   },
   {
    "duration": 7,
    "start_time": "2025-05-03T22:21:27.702Z"
   },
   {
    "duration": 20,
    "start_time": "2025-05-03T22:21:27.711Z"
   },
   {
    "duration": 109,
    "start_time": "2025-05-03T22:26:34.922Z"
   },
   {
    "duration": 12,
    "start_time": "2025-05-03T22:26:58.449Z"
   },
   {
    "duration": 1197,
    "start_time": "2025-05-03T22:27:20.372Z"
   },
   {
    "duration": 2133,
    "start_time": "2025-05-03T22:27:21.571Z"
   },
   {
    "duration": 12,
    "start_time": "2025-05-03T22:27:23.709Z"
   },
   {
    "duration": 17,
    "start_time": "2025-05-03T22:27:23.723Z"
   },
   {
    "duration": 113,
    "start_time": "2025-05-03T22:27:23.742Z"
   },
   {
    "duration": 26,
    "start_time": "2025-05-03T22:27:23.857Z"
   },
   {
    "duration": 52,
    "start_time": "2025-05-03T22:27:23.885Z"
   },
   {
    "duration": 10,
    "start_time": "2025-05-03T22:27:23.938Z"
   },
   {
    "duration": 19,
    "start_time": "2025-05-03T22:27:23.962Z"
   },
   {
    "duration": 14,
    "start_time": "2025-05-03T22:27:23.983Z"
   },
   {
    "duration": 35,
    "start_time": "2025-05-03T22:27:23.999Z"
   },
   {
    "duration": 8,
    "start_time": "2025-05-03T22:27:24.036Z"
   },
   {
    "duration": 42,
    "start_time": "2025-05-03T22:27:24.046Z"
   },
   {
    "duration": 159,
    "start_time": "2025-05-03T22:27:24.089Z"
   },
   {
    "duration": 17,
    "start_time": "2025-05-03T22:27:24.250Z"
   },
   {
    "duration": 54,
    "start_time": "2025-05-03T22:27:24.269Z"
   },
   {
    "duration": 20,
    "start_time": "2025-05-03T22:27:24.324Z"
   },
   {
    "duration": 40,
    "start_time": "2025-05-03T22:27:24.345Z"
   },
   {
    "duration": 35,
    "start_time": "2025-05-03T22:27:24.387Z"
   },
   {
    "duration": 206,
    "start_time": "2025-05-03T22:27:24.424Z"
   },
   {
    "duration": 34,
    "start_time": "2025-05-03T22:27:24.632Z"
   },
   {
    "duration": 13,
    "start_time": "2025-05-03T22:27:24.668Z"
   },
   {
    "duration": 13,
    "start_time": "2025-05-03T22:27:24.682Z"
   },
   {
    "duration": 166,
    "start_time": "2025-05-03T22:27:24.697Z"
   },
   {
    "duration": 79,
    "start_time": "2025-05-03T22:27:24.865Z"
   },
   {
    "duration": 45,
    "start_time": "2025-05-03T22:27:24.946Z"
   },
   {
    "duration": 77,
    "start_time": "2025-05-03T22:27:24.994Z"
   },
   {
    "duration": 20,
    "start_time": "2025-05-03T22:27:25.073Z"
   },
   {
    "duration": 39,
    "start_time": "2025-05-03T22:27:25.095Z"
   },
   {
    "duration": 110,
    "start_time": "2025-05-03T22:27:25.135Z"
   },
   {
    "duration": 40,
    "start_time": "2025-05-03T22:27:25.247Z"
   },
   {
    "duration": 83,
    "start_time": "2025-05-03T22:27:25.289Z"
   },
   {
    "duration": 197,
    "start_time": "2025-05-03T22:27:25.374Z"
   },
   {
    "duration": 23,
    "start_time": "2025-05-03T22:27:25.573Z"
   },
   {
    "duration": 5,
    "start_time": "2025-05-03T22:27:25.598Z"
   },
   {
    "duration": 26,
    "start_time": "2025-05-03T22:27:25.605Z"
   },
   {
    "duration": 82,
    "start_time": "2025-05-03T22:27:25.633Z"
   },
   {
    "duration": 0,
    "start_time": "2025-05-03T22:27:25.716Z"
   },
   {
    "duration": 0,
    "start_time": "2025-05-03T22:27:25.719Z"
   },
   {
    "duration": 19,
    "start_time": "2025-05-03T22:30:54.124Z"
   },
   {
    "duration": 32,
    "start_time": "2025-05-03T22:31:03.413Z"
   },
   {
    "duration": 45,
    "start_time": "2025-05-03T22:41:05.706Z"
   },
   {
    "duration": 8,
    "start_time": "2025-05-03T22:42:28.755Z"
   },
   {
    "duration": 8,
    "start_time": "2025-05-03T22:42:42.856Z"
   },
   {
    "duration": 9,
    "start_time": "2025-05-03T22:43:06.059Z"
   },
   {
    "duration": 10,
    "start_time": "2025-05-03T22:43:10.559Z"
   },
   {
    "duration": 106,
    "start_time": "2025-05-03T22:44:42.497Z"
   },
   {
    "duration": 78,
    "start_time": "2025-05-03T22:49:06.292Z"
   },
   {
    "duration": 74,
    "start_time": "2025-05-03T22:49:14.423Z"
   },
   {
    "duration": 107,
    "start_time": "2025-05-03T22:49:29.140Z"
   },
   {
    "duration": 95,
    "start_time": "2025-05-03T22:49:47.042Z"
   },
   {
    "duration": 31,
    "start_time": "2025-05-03T22:51:45.237Z"
   },
   {
    "duration": 34,
    "start_time": "2025-05-03T22:51:58.810Z"
   },
   {
    "duration": 22,
    "start_time": "2025-05-03T22:52:02.868Z"
   },
   {
    "duration": 77,
    "start_time": "2025-05-03T22:53:09.579Z"
   },
   {
    "duration": 102,
    "start_time": "2025-05-03T23:05:00.661Z"
   },
   {
    "duration": 9,
    "start_time": "2025-05-03T23:05:24.460Z"
   },
   {
    "duration": 16,
    "start_time": "2025-05-03T23:05:32.064Z"
   },
   {
    "duration": 29,
    "start_time": "2025-05-03T23:08:45.887Z"
   },
   {
    "duration": 25,
    "start_time": "2025-05-03T23:09:32.324Z"
   },
   {
    "duration": 103,
    "start_time": "2025-05-03T23:15:02.208Z"
   },
   {
    "duration": 197,
    "start_time": "2025-05-03T23:15:33.747Z"
   },
   {
    "duration": 679,
    "start_time": "2025-05-03T23:17:11.877Z"
   },
   {
    "duration": 662,
    "start_time": "2025-05-03T23:17:18.177Z"
   },
   {
    "duration": 689,
    "start_time": "2025-05-03T23:17:30.457Z"
   },
   {
    "duration": 77,
    "start_time": "2025-05-03T23:17:51.460Z"
   },
   {
    "duration": 75,
    "start_time": "2025-05-03T23:18:04.124Z"
   },
   {
    "duration": 662,
    "start_time": "2025-05-03T23:23:18.995Z"
   },
   {
    "duration": 13,
    "start_time": "2025-05-03T23:29:41.417Z"
   },
   {
    "duration": 14,
    "start_time": "2025-05-03T23:29:54.576Z"
   },
   {
    "duration": 17,
    "start_time": "2025-05-03T23:31:57.323Z"
   },
   {
    "duration": 15,
    "start_time": "2025-05-03T23:32:03.282Z"
   },
   {
    "duration": 16,
    "start_time": "2025-05-03T23:32:12.274Z"
   },
   {
    "duration": 15,
    "start_time": "2025-05-03T23:34:46.701Z"
   },
   {
    "duration": 14,
    "start_time": "2025-05-03T23:34:58.659Z"
   },
   {
    "duration": 13,
    "start_time": "2025-05-03T23:35:30.626Z"
   },
   {
    "duration": 10,
    "start_time": "2025-05-03T23:36:05.854Z"
   },
   {
    "duration": 14,
    "start_time": "2025-05-03T23:36:11.502Z"
   },
   {
    "duration": 16,
    "start_time": "2025-05-03T23:38:35.171Z"
   },
   {
    "duration": 16,
    "start_time": "2025-05-03T23:38:55.165Z"
   },
   {
    "duration": 95,
    "start_time": "2025-05-03T23:44:08.197Z"
   },
   {
    "duration": 133,
    "start_time": "2025-05-03T23:44:27.388Z"
   },
   {
    "duration": 140,
    "start_time": "2025-05-03T23:45:31.833Z"
   },
   {
    "duration": 122,
    "start_time": "2025-05-03T23:46:05.579Z"
   },
   {
    "duration": 19,
    "start_time": "2025-05-04T00:19:13.967Z"
   },
   {
    "duration": 20,
    "start_time": "2025-05-04T00:19:21.038Z"
   },
   {
    "duration": 19,
    "start_time": "2025-05-04T00:19:58.407Z"
   },
   {
    "duration": 28,
    "start_time": "2025-05-04T00:21:16.601Z"
   },
   {
    "duration": 26,
    "start_time": "2025-05-04T00:21:17.408Z"
   },
   {
    "duration": 27,
    "start_time": "2025-05-04T00:21:27.090Z"
   },
   {
    "duration": 27,
    "start_time": "2025-05-04T00:24:13.100Z"
   },
   {
    "duration": 21,
    "start_time": "2025-05-04T00:24:22.515Z"
   },
   {
    "duration": 61,
    "start_time": "2025-05-04T00:33:55.909Z"
   },
   {
    "duration": 99,
    "start_time": "2025-05-04T00:42:02.096Z"
   },
   {
    "duration": 56,
    "start_time": "2025-05-04T00:42:05.888Z"
   },
   {
    "duration": 86,
    "start_time": "2025-05-04T00:51:30.822Z"
   },
   {
    "duration": 10,
    "start_time": "2025-05-04T00:52:18.822Z"
   },
   {
    "duration": 369,
    "start_time": "2025-05-04T00:52:33.193Z"
   },
   {
    "duration": 333,
    "start_time": "2025-05-04T00:52:41.667Z"
   },
   {
    "duration": 10,
    "start_time": "2025-05-04T00:53:42.239Z"
   },
   {
    "duration": 11,
    "start_time": "2025-05-04T00:55:03.418Z"
   },
   {
    "duration": 11,
    "start_time": "2025-05-04T00:55:08.838Z"
   },
   {
    "duration": 20,
    "start_time": "2025-05-04T01:00:10.795Z"
   },
   {
    "duration": 47,
    "start_time": "2025-05-04T01:01:24.765Z"
   },
   {
    "duration": 66,
    "start_time": "2025-05-04T01:01:52.132Z"
   },
   {
    "duration": 101,
    "start_time": "2025-05-04T01:04:18.371Z"
   },
   {
    "duration": 34,
    "start_time": "2025-05-04T01:05:44.468Z"
   },
   {
    "duration": 94,
    "start_time": "2025-05-04T01:06:33.556Z"
   },
   {
    "duration": 11,
    "start_time": "2025-05-04T01:08:20.235Z"
   },
   {
    "duration": 20,
    "start_time": "2025-05-04T01:08:36.601Z"
   },
   {
    "duration": 31,
    "start_time": "2025-05-04T01:19:58.742Z"
   },
   {
    "duration": 23,
    "start_time": "2025-05-04T01:23:03.468Z"
   },
   {
    "duration": 36,
    "start_time": "2025-05-04T01:23:27.443Z"
   },
   {
    "duration": 27,
    "start_time": "2025-05-04T01:23:41.898Z"
   },
   {
    "duration": 20,
    "start_time": "2025-05-04T01:23:57.322Z"
   },
   {
    "duration": 34,
    "start_time": "2025-05-04T01:24:04.673Z"
   },
   {
    "duration": 1170,
    "start_time": "2025-05-04T01:24:11.328Z"
   },
   {
    "duration": 2291,
    "start_time": "2025-05-04T01:24:12.500Z"
   },
   {
    "duration": 14,
    "start_time": "2025-05-04T01:24:14.792Z"
   },
   {
    "duration": 17,
    "start_time": "2025-05-04T01:24:14.808Z"
   },
   {
    "duration": 117,
    "start_time": "2025-05-04T01:24:14.827Z"
   },
   {
    "duration": 38,
    "start_time": "2025-05-04T01:24:14.946Z"
   },
   {
    "duration": 57,
    "start_time": "2025-05-04T01:24:14.986Z"
   },
   {
    "duration": 38,
    "start_time": "2025-05-04T01:24:15.045Z"
   },
   {
    "duration": 24,
    "start_time": "2025-05-04T01:24:15.085Z"
   },
   {
    "duration": 8,
    "start_time": "2025-05-04T01:24:15.112Z"
   },
   {
    "duration": 40,
    "start_time": "2025-05-04T01:24:15.121Z"
   },
   {
    "duration": 9,
    "start_time": "2025-05-04T01:24:15.162Z"
   },
   {
    "duration": 55,
    "start_time": "2025-05-04T01:24:15.172Z"
   },
   {
    "duration": 176,
    "start_time": "2025-05-04T01:24:15.228Z"
   },
   {
    "duration": 11,
    "start_time": "2025-05-04T01:24:15.406Z"
   },
   {
    "duration": 75,
    "start_time": "2025-05-04T01:24:15.418Z"
   },
   {
    "duration": 20,
    "start_time": "2025-05-04T01:24:15.496Z"
   },
   {
    "duration": 36,
    "start_time": "2025-05-04T01:24:15.518Z"
   },
   {
    "duration": 16,
    "start_time": "2025-05-04T01:24:15.562Z"
   },
   {
    "duration": 219,
    "start_time": "2025-05-04T01:24:15.580Z"
   },
   {
    "duration": 32,
    "start_time": "2025-05-04T01:24:15.801Z"
   },
   {
    "duration": 50,
    "start_time": "2025-05-04T01:24:15.835Z"
   },
   {
    "duration": 16,
    "start_time": "2025-05-04T01:24:15.887Z"
   },
   {
    "duration": 293,
    "start_time": "2025-05-04T01:24:15.905Z"
   },
   {
    "duration": 173,
    "start_time": "2025-05-04T01:24:16.200Z"
   },
   {
    "duration": 32,
    "start_time": "2025-05-04T01:24:16.375Z"
   },
   {
    "duration": 121,
    "start_time": "2025-05-04T01:24:16.463Z"
   },
   {
    "duration": 77,
    "start_time": "2025-05-04T01:24:16.587Z"
   },
   {
    "duration": 40,
    "start_time": "2025-05-04T01:24:16.665Z"
   },
   {
    "duration": 142,
    "start_time": "2025-05-04T01:24:16.763Z"
   },
   {
    "duration": 80,
    "start_time": "2025-05-04T01:24:16.907Z"
   },
   {
    "duration": 100,
    "start_time": "2025-05-04T01:24:16.989Z"
   },
   {
    "duration": 404,
    "start_time": "2025-05-04T01:24:17.090Z"
   },
   {
    "duration": 24,
    "start_time": "2025-05-04T01:24:17.496Z"
   },
   {
    "duration": 4,
    "start_time": "2025-05-04T01:24:17.521Z"
   },
   {
    "duration": 13,
    "start_time": "2025-05-04T01:24:17.526Z"
   },
   {
    "duration": 29,
    "start_time": "2025-05-04T01:24:17.563Z"
   },
   {
    "duration": 86,
    "start_time": "2025-05-04T01:24:17.594Z"
   },
   {
    "duration": 674,
    "start_time": "2025-05-04T01:24:17.682Z"
   },
   {
    "duration": 18,
    "start_time": "2025-05-04T01:24:18.362Z"
   },
   {
    "duration": 142,
    "start_time": "2025-05-04T01:24:18.382Z"
   },
   {
    "duration": 19,
    "start_time": "2025-05-04T01:24:18.526Z"
   },
   {
    "duration": 41,
    "start_time": "2025-05-04T01:24:18.547Z"
   },
   {
    "duration": 73,
    "start_time": "2025-05-04T01:24:18.589Z"
   },
   {
    "duration": 78,
    "start_time": "2025-05-04T01:24:18.664Z"
   },
   {
    "duration": 390,
    "start_time": "2025-05-04T01:24:18.744Z"
   },
   {
    "duration": 112,
    "start_time": "2025-05-04T01:24:19.136Z"
   },
   {
    "duration": 49,
    "start_time": "2025-05-04T01:24:19.249Z"
   },
   {
    "duration": 40,
    "start_time": "2025-05-04T01:25:12.079Z"
   },
   {
    "duration": 26,
    "start_time": "2025-05-04T01:25:52.857Z"
   },
   {
    "duration": 29,
    "start_time": "2025-05-04T01:41:32.694Z"
   },
   {
    "duration": 99,
    "start_time": "2025-05-04T01:42:35.042Z"
   },
   {
    "duration": 146,
    "start_time": "2025-05-04T01:49:03.437Z"
   },
   {
    "duration": 1509,
    "start_time": "2025-05-04T01:55:53.121Z"
   },
   {
    "duration": 2557,
    "start_time": "2025-05-04T01:56:06.232Z"
   },
   {
    "duration": 89,
    "start_time": "2025-05-04T01:56:28.774Z"
   },
   {
    "duration": 101,
    "start_time": "2025-05-04T01:56:43.769Z"
   },
   {
    "duration": 153,
    "start_time": "2025-05-04T01:57:29.136Z"
   },
   {
    "duration": 136,
    "start_time": "2025-05-04T01:59:47.341Z"
   },
   {
    "duration": 170,
    "start_time": "2025-05-04T01:59:51.451Z"
   },
   {
    "duration": 113,
    "start_time": "2025-05-04T02:01:21.186Z"
   },
   {
    "duration": 117,
    "start_time": "2025-05-04T02:01:43.672Z"
   },
   {
    "duration": 155,
    "start_time": "2025-05-04T02:01:58.427Z"
   },
   {
    "duration": 26062,
    "start_time": "2025-05-04T02:02:42.728Z"
   },
   {
    "duration": 145,
    "start_time": "2025-05-04T02:04:30.930Z"
   },
   {
    "duration": 26058,
    "start_time": "2025-05-04T02:04:45.048Z"
   },
   {
    "duration": 163,
    "start_time": "2025-05-04T02:09:50.270Z"
   },
   {
    "duration": 31,
    "start_time": "2025-05-04T02:11:53.565Z"
   },
   {
    "duration": 31,
    "start_time": "2025-05-04T02:12:07.122Z"
   },
   {
    "duration": 31,
    "start_time": "2025-05-04T02:12:31.438Z"
   },
   {
    "duration": 32,
    "start_time": "2025-05-04T02:14:13.348Z"
   },
   {
    "duration": 33,
    "start_time": "2025-05-04T02:14:49.726Z"
   },
   {
    "duration": 29,
    "start_time": "2025-05-04T02:15:55.767Z"
   },
   {
    "duration": 32,
    "start_time": "2025-05-04T02:16:03.955Z"
   },
   {
    "duration": 37,
    "start_time": "2025-05-04T02:20:27.882Z"
   },
   {
    "duration": 34,
    "start_time": "2025-05-04T02:23:24.862Z"
   },
   {
    "duration": 41,
    "start_time": "2025-05-04T02:23:51.786Z"
   },
   {
    "duration": 42,
    "start_time": "2025-05-04T02:24:14.962Z"
   },
   {
    "duration": 169,
    "start_time": "2025-05-04T02:25:31.622Z"
   },
   {
    "duration": 6,
    "start_time": "2025-05-04T02:44:14.670Z"
   },
   {
    "duration": 39,
    "start_time": "2025-05-04T02:44:18.767Z"
   },
   {
    "duration": 41,
    "start_time": "2025-05-04T02:44:33.966Z"
   },
   {
    "duration": 43,
    "start_time": "2025-05-04T02:45:02.168Z"
   },
   {
    "duration": 112,
    "start_time": "2025-05-04T02:45:31.687Z"
   },
   {
    "duration": 161,
    "start_time": "2025-05-04T02:45:48.444Z"
   },
   {
    "duration": 109,
    "start_time": "2025-05-04T02:46:12.727Z"
   },
   {
    "duration": 181,
    "start_time": "2025-05-04T02:46:37.943Z"
   },
   {
    "duration": 160,
    "start_time": "2025-05-04T02:47:31.568Z"
   },
   {
    "duration": 90,
    "start_time": "2025-05-04T02:47:40.270Z"
   },
   {
    "duration": 177,
    "start_time": "2025-05-04T02:47:47.088Z"
   },
   {
    "duration": 186,
    "start_time": "2025-05-04T02:48:00.326Z"
   },
   {
    "duration": 183,
    "start_time": "2025-05-04T02:48:08.090Z"
   },
   {
    "duration": 187,
    "start_time": "2025-05-04T02:48:16.737Z"
   },
   {
    "duration": 114,
    "start_time": "2025-05-04T02:48:36.300Z"
   },
   {
    "duration": 115,
    "start_time": "2025-05-04T02:48:43.339Z"
   },
   {
    "duration": 168,
    "start_time": "2025-05-04T02:49:01.916Z"
   },
   {
    "duration": 139,
    "start_time": "2025-05-04T02:49:43.414Z"
   },
   {
    "duration": 140,
    "start_time": "2025-05-04T02:54:04.786Z"
   },
   {
    "duration": 178,
    "start_time": "2025-05-04T02:55:21.956Z"
   },
   {
    "duration": 211,
    "start_time": "2025-05-04T02:55:33.894Z"
   },
   {
    "duration": 225,
    "start_time": "2025-05-04T02:56:09.839Z"
   },
   {
    "duration": 1201,
    "start_time": "2025-05-04T02:56:30.111Z"
   },
   {
    "duration": 2657,
    "start_time": "2025-05-04T02:56:31.314Z"
   },
   {
    "duration": 16,
    "start_time": "2025-05-04T02:56:33.972Z"
   },
   {
    "duration": 74,
    "start_time": "2025-05-04T02:56:33.991Z"
   },
   {
    "duration": 162,
    "start_time": "2025-05-04T02:56:34.067Z"
   },
   {
    "duration": 31,
    "start_time": "2025-05-04T02:56:34.231Z"
   },
   {
    "duration": 70,
    "start_time": "2025-05-04T02:56:34.264Z"
   },
   {
    "duration": 9,
    "start_time": "2025-05-04T02:56:34.335Z"
   },
   {
    "duration": 34,
    "start_time": "2025-05-04T02:56:34.346Z"
   },
   {
    "duration": 7,
    "start_time": "2025-05-04T02:56:34.383Z"
   },
   {
    "duration": 36,
    "start_time": "2025-05-04T02:56:34.392Z"
   },
   {
    "duration": 13,
    "start_time": "2025-05-04T02:56:34.430Z"
   },
   {
    "duration": 39,
    "start_time": "2025-05-04T02:56:34.445Z"
   },
   {
    "duration": 153,
    "start_time": "2025-05-04T02:56:34.486Z"
   },
   {
    "duration": 22,
    "start_time": "2025-05-04T02:56:34.641Z"
   },
   {
    "duration": 45,
    "start_time": "2025-05-04T02:56:34.665Z"
   },
   {
    "duration": 21,
    "start_time": "2025-05-04T02:56:34.712Z"
   },
   {
    "duration": 52,
    "start_time": "2025-05-04T02:56:34.734Z"
   },
   {
    "duration": 14,
    "start_time": "2025-05-04T02:56:34.788Z"
   },
   {
    "duration": 232,
    "start_time": "2025-05-04T02:56:34.804Z"
   },
   {
    "duration": 38,
    "start_time": "2025-05-04T02:56:35.038Z"
   },
   {
    "duration": 12,
    "start_time": "2025-05-04T02:56:35.078Z"
   },
   {
    "duration": 11,
    "start_time": "2025-05-04T02:56:35.092Z"
   },
   {
    "duration": 164,
    "start_time": "2025-05-04T02:56:35.105Z"
   },
   {
    "duration": 76,
    "start_time": "2025-05-04T02:56:35.271Z"
   },
   {
    "duration": 47,
    "start_time": "2025-05-04T02:56:35.348Z"
   },
   {
    "duration": 90,
    "start_time": "2025-05-04T02:56:35.397Z"
   },
   {
    "duration": 21,
    "start_time": "2025-05-04T02:56:35.490Z"
   },
   {
    "duration": 52,
    "start_time": "2025-05-04T02:56:35.513Z"
   },
   {
    "duration": 99,
    "start_time": "2025-05-04T02:56:35.567Z"
   },
   {
    "duration": 32,
    "start_time": "2025-05-04T02:56:35.668Z"
   },
   {
    "duration": 86,
    "start_time": "2025-05-04T02:56:35.701Z"
   },
   {
    "duration": 187,
    "start_time": "2025-05-04T02:56:35.788Z"
   },
   {
    "duration": 23,
    "start_time": "2025-05-04T02:56:35.977Z"
   },
   {
    "duration": 14,
    "start_time": "2025-05-04T02:56:36.001Z"
   },
   {
    "duration": 43,
    "start_time": "2025-05-04T02:56:36.017Z"
   },
   {
    "duration": 29,
    "start_time": "2025-05-04T02:56:36.061Z"
   },
   {
    "duration": 90,
    "start_time": "2025-05-04T02:56:36.092Z"
   },
   {
    "duration": 672,
    "start_time": "2025-05-04T02:56:36.183Z"
   },
   {
    "duration": 21,
    "start_time": "2025-05-04T02:56:36.856Z"
   },
   {
    "duration": 130,
    "start_time": "2025-05-04T02:56:36.878Z"
   },
   {
    "duration": 20,
    "start_time": "2025-05-04T02:56:37.009Z"
   },
   {
    "duration": 39,
    "start_time": "2025-05-04T02:56:37.031Z"
   },
   {
    "duration": 62,
    "start_time": "2025-05-04T02:56:37.072Z"
   },
   {
    "duration": 99,
    "start_time": "2025-05-04T02:56:37.136Z"
   },
   {
    "duration": 388,
    "start_time": "2025-05-04T02:56:37.237Z"
   },
   {
    "duration": 197,
    "start_time": "2025-05-04T02:56:37.627Z"
   },
   {
    "duration": 60,
    "start_time": "2025-05-04T02:56:37.826Z"
   },
   {
    "duration": 150,
    "start_time": "2025-05-04T02:56:37.888Z"
   },
   {
    "duration": 238,
    "start_time": "2025-05-04T02:56:38.041Z"
   },
   {
    "duration": 71,
    "start_time": "2025-05-04T03:00:51.093Z"
   },
   {
    "duration": 102,
    "start_time": "2025-05-04T03:00:54.781Z"
   },
   {
    "duration": 115,
    "start_time": "2025-05-04T03:02:15.305Z"
   },
   {
    "duration": 102,
    "start_time": "2025-05-04T03:02:31.243Z"
   },
   {
    "duration": 72,
    "start_time": "2025-05-04T03:02:39.249Z"
   },
   {
    "duration": 143,
    "start_time": "2025-05-04T03:02:42.982Z"
   },
   {
    "duration": 85,
    "start_time": "2025-05-04T03:03:14.351Z"
   },
   {
    "duration": 1244,
    "start_time": "2025-05-04T03:03:35.536Z"
   },
   {
    "duration": 1999,
    "start_time": "2025-05-04T03:03:36.782Z"
   },
   {
    "duration": 12,
    "start_time": "2025-05-04T03:03:38.783Z"
   },
   {
    "duration": 17,
    "start_time": "2025-05-04T03:03:38.797Z"
   },
   {
    "duration": 105,
    "start_time": "2025-05-04T03:03:38.816Z"
   },
   {
    "duration": 24,
    "start_time": "2025-05-04T03:03:38.923Z"
   },
   {
    "duration": 49,
    "start_time": "2025-05-04T03:03:38.950Z"
   },
   {
    "duration": 9,
    "start_time": "2025-05-04T03:03:39.001Z"
   },
   {
    "duration": 20,
    "start_time": "2025-05-04T03:03:39.011Z"
   },
   {
    "duration": 29,
    "start_time": "2025-05-04T03:03:39.034Z"
   },
   {
    "duration": 25,
    "start_time": "2025-05-04T03:03:39.065Z"
   },
   {
    "duration": 8,
    "start_time": "2025-05-04T03:03:39.091Z"
   },
   {
    "duration": 35,
    "start_time": "2025-05-04T03:03:39.101Z"
   },
   {
    "duration": 167,
    "start_time": "2025-05-04T03:03:39.137Z"
   },
   {
    "duration": 10,
    "start_time": "2025-05-04T03:03:39.306Z"
   },
   {
    "duration": 59,
    "start_time": "2025-05-04T03:03:39.317Z"
   },
   {
    "duration": 20,
    "start_time": "2025-05-04T03:03:39.377Z"
   },
   {
    "duration": 25,
    "start_time": "2025-05-04T03:03:39.399Z"
   },
   {
    "duration": 36,
    "start_time": "2025-05-04T03:03:39.426Z"
   },
   {
    "duration": 217,
    "start_time": "2025-05-04T03:03:39.464Z"
   },
   {
    "duration": 30,
    "start_time": "2025-05-04T03:03:39.683Z"
   },
   {
    "duration": 13,
    "start_time": "2025-05-04T03:03:39.715Z"
   },
   {
    "duration": 38,
    "start_time": "2025-05-04T03:03:39.729Z"
   },
   {
    "duration": 156,
    "start_time": "2025-05-04T03:03:39.769Z"
   },
   {
    "duration": 158,
    "start_time": "2025-05-04T03:03:39.926Z"
   },
   {
    "duration": 85,
    "start_time": "2025-05-04T03:03:40.086Z"
   },
   {
    "duration": 129,
    "start_time": "2025-05-04T03:03:40.172Z"
   },
   {
    "duration": 72,
    "start_time": "2025-05-04T03:03:40.304Z"
   },
   {
    "duration": 88,
    "start_time": "2025-05-04T03:03:40.377Z"
   },
   {
    "duration": 139,
    "start_time": "2025-05-04T03:03:40.467Z"
   },
   {
    "duration": 32,
    "start_time": "2025-05-04T03:03:40.663Z"
   },
   {
    "duration": 107,
    "start_time": "2025-05-04T03:03:40.697Z"
   },
   {
    "duration": 389,
    "start_time": "2025-05-04T03:03:40.806Z"
   },
   {
    "duration": 77,
    "start_time": "2025-05-04T03:03:41.196Z"
   },
   {
    "duration": 4,
    "start_time": "2025-05-04T03:03:41.275Z"
   },
   {
    "duration": 84,
    "start_time": "2025-05-04T03:03:41.280Z"
   },
   {
    "duration": 30,
    "start_time": "2025-05-04T03:03:41.365Z"
   },
   {
    "duration": 94,
    "start_time": "2025-05-04T03:03:41.396Z"
   },
   {
    "duration": 663,
    "start_time": "2025-05-04T03:03:41.492Z"
   },
   {
    "duration": 17,
    "start_time": "2025-05-04T03:03:42.156Z"
   },
   {
    "duration": 141,
    "start_time": "2025-05-04T03:03:42.175Z"
   },
   {
    "duration": 21,
    "start_time": "2025-05-04T03:03:42.317Z"
   },
   {
    "duration": 42,
    "start_time": "2025-05-04T03:03:42.339Z"
   },
   {
    "duration": 65,
    "start_time": "2025-05-04T03:03:42.382Z"
   },
   {
    "duration": 85,
    "start_time": "2025-05-04T03:03:42.449Z"
   },
   {
    "duration": 365,
    "start_time": "2025-05-04T03:03:42.535Z"
   },
   {
    "duration": 194,
    "start_time": "2025-05-04T03:03:42.902Z"
   },
   {
    "duration": 46,
    "start_time": "2025-05-04T03:03:43.098Z"
   },
   {
    "duration": 128,
    "start_time": "2025-05-04T03:03:43.146Z"
   },
   {
    "duration": 73,
    "start_time": "2025-05-04T03:03:43.275Z"
   },
   {
    "duration": 237,
    "start_time": "2025-05-04T03:03:43.349Z"
   },
   {
    "duration": 94,
    "start_time": "2025-05-04T03:03:43.587Z"
   },
   {
    "duration": 1652,
    "start_time": "2025-05-04T03:05:51.339Z"
   },
   {
    "duration": 1655,
    "start_time": "2025-05-04T03:06:12.786Z"
   },
   {
    "duration": 1152,
    "start_time": "2025-05-04T03:06:19.227Z"
   },
   {
    "duration": 1959,
    "start_time": "2025-05-04T03:06:20.381Z"
   },
   {
    "duration": 13,
    "start_time": "2025-05-04T03:06:22.342Z"
   },
   {
    "duration": 12,
    "start_time": "2025-05-04T03:06:22.363Z"
   },
   {
    "duration": 110,
    "start_time": "2025-05-04T03:06:22.377Z"
   },
   {
    "duration": 25,
    "start_time": "2025-05-04T03:06:22.489Z"
   },
   {
    "duration": 54,
    "start_time": "2025-05-04T03:06:22.515Z"
   },
   {
    "duration": 8,
    "start_time": "2025-05-04T03:06:22.571Z"
   },
   {
    "duration": 20,
    "start_time": "2025-05-04T03:06:22.581Z"
   },
   {
    "duration": 7,
    "start_time": "2025-05-04T03:06:22.604Z"
   },
   {
    "duration": 54,
    "start_time": "2025-05-04T03:06:22.613Z"
   },
   {
    "duration": 8,
    "start_time": "2025-05-04T03:06:22.669Z"
   },
   {
    "duration": 37,
    "start_time": "2025-05-04T03:06:22.679Z"
   },
   {
    "duration": 171,
    "start_time": "2025-05-04T03:06:22.718Z"
   },
   {
    "duration": 12,
    "start_time": "2025-05-04T03:06:22.891Z"
   },
   {
    "duration": 64,
    "start_time": "2025-05-04T03:06:22.904Z"
   },
   {
    "duration": 22,
    "start_time": "2025-05-04T03:06:22.970Z"
   },
   {
    "duration": 27,
    "start_time": "2025-05-04T03:06:22.993Z"
   },
   {
    "duration": 45,
    "start_time": "2025-05-04T03:06:23.022Z"
   },
   {
    "duration": 216,
    "start_time": "2025-05-04T03:06:23.069Z"
   },
   {
    "duration": 31,
    "start_time": "2025-05-04T03:06:23.287Z"
   },
   {
    "duration": 15,
    "start_time": "2025-05-04T03:06:23.320Z"
   },
   {
    "duration": 38,
    "start_time": "2025-05-04T03:06:23.337Z"
   },
   {
    "duration": 202,
    "start_time": "2025-05-04T03:06:23.376Z"
   },
   {
    "duration": 123,
    "start_time": "2025-05-04T03:06:23.579Z"
   },
   {
    "duration": 82,
    "start_time": "2025-05-04T03:06:23.703Z"
   },
   {
    "duration": 181,
    "start_time": "2025-05-04T03:06:23.787Z"
   },
   {
    "duration": 23,
    "start_time": "2025-05-04T03:06:23.971Z"
   },
   {
    "duration": 90,
    "start_time": "2025-05-04T03:06:23.995Z"
   },
   {
    "duration": 195,
    "start_time": "2025-05-04T03:06:24.086Z"
   },
   {
    "duration": 85,
    "start_time": "2025-05-04T03:06:24.283Z"
   },
   {
    "duration": 118,
    "start_time": "2025-05-04T03:06:24.370Z"
   },
   {
    "duration": 393,
    "start_time": "2025-05-04T03:06:24.490Z"
   },
   {
    "duration": 78,
    "start_time": "2025-05-04T03:06:24.885Z"
   },
   {
    "duration": 4,
    "start_time": "2025-05-04T03:06:24.965Z"
   },
   {
    "duration": 36,
    "start_time": "2025-05-04T03:06:24.971Z"
   },
   {
    "duration": 63,
    "start_time": "2025-05-04T03:06:25.009Z"
   },
   {
    "duration": 69,
    "start_time": "2025-05-04T03:06:25.074Z"
   },
   {
    "duration": 682,
    "start_time": "2025-05-04T03:06:25.145Z"
   },
   {
    "duration": 19,
    "start_time": "2025-05-04T03:06:25.828Z"
   },
   {
    "duration": 136,
    "start_time": "2025-05-04T03:06:25.849Z"
   },
   {
    "duration": 20,
    "start_time": "2025-05-04T03:06:25.987Z"
   },
   {
    "duration": 35,
    "start_time": "2025-05-04T03:06:26.008Z"
   },
   {
    "duration": 75,
    "start_time": "2025-05-04T03:06:26.044Z"
   },
   {
    "duration": 93,
    "start_time": "2025-05-04T03:06:26.120Z"
   },
   {
    "duration": 371,
    "start_time": "2025-05-04T03:06:26.215Z"
   },
   {
    "duration": 188,
    "start_time": "2025-05-04T03:06:26.588Z"
   },
   {
    "duration": 48,
    "start_time": "2025-05-04T03:06:26.777Z"
   },
   {
    "duration": 127,
    "start_time": "2025-05-04T03:06:26.826Z"
   },
   {
    "duration": 76,
    "start_time": "2025-05-04T03:06:26.955Z"
   },
   {
    "duration": 239,
    "start_time": "2025-05-04T03:06:27.032Z"
   },
   {
    "duration": 1846,
    "start_time": "2025-05-04T03:06:27.273Z"
   },
   {
    "duration": 1747,
    "start_time": "2025-05-04T03:06:44.896Z"
   },
   {
    "duration": 89,
    "start_time": "2025-05-04T03:06:53.372Z"
   },
   {
    "duration": 1242,
    "start_time": "2025-05-04T03:07:26.041Z"
   },
   {
    "duration": 2505,
    "start_time": "2025-05-04T03:07:27.286Z"
   },
   {
    "duration": 13,
    "start_time": "2025-05-04T03:07:29.792Z"
   },
   {
    "duration": 13,
    "start_time": "2025-05-04T03:07:29.863Z"
   },
   {
    "duration": 203,
    "start_time": "2025-05-04T03:07:29.878Z"
   },
   {
    "duration": 81,
    "start_time": "2025-05-04T03:07:30.083Z"
   },
   {
    "duration": 102,
    "start_time": "2025-05-04T03:07:30.166Z"
   },
   {
    "duration": 9,
    "start_time": "2025-05-04T03:07:30.269Z"
   },
   {
    "duration": 102,
    "start_time": "2025-05-04T03:07:30.279Z"
   },
   {
    "duration": 33,
    "start_time": "2025-05-04T03:07:30.384Z"
   },
   {
    "duration": 66,
    "start_time": "2025-05-04T03:07:30.418Z"
   },
   {
    "duration": 8,
    "start_time": "2025-05-04T03:07:30.486Z"
   },
   {
    "duration": 95,
    "start_time": "2025-05-04T03:07:30.495Z"
   },
   {
    "duration": 372,
    "start_time": "2025-05-04T03:07:30.591Z"
   },
   {
    "duration": 12,
    "start_time": "2025-05-04T03:07:30.964Z"
   },
   {
    "duration": 106,
    "start_time": "2025-05-04T03:07:30.977Z"
   },
   {
    "duration": 22,
    "start_time": "2025-05-04T03:07:31.085Z"
   },
   {
    "duration": 42,
    "start_time": "2025-05-04T03:07:31.109Z"
   },
   {
    "duration": 20,
    "start_time": "2025-05-04T03:07:31.153Z"
   },
   {
    "duration": 227,
    "start_time": "2025-05-04T03:07:31.174Z"
   },
   {
    "duration": 30,
    "start_time": "2025-05-04T03:07:31.403Z"
   },
   {
    "duration": 28,
    "start_time": "2025-05-04T03:07:31.434Z"
   },
   {
    "duration": 15,
    "start_time": "2025-05-04T03:07:31.464Z"
   },
   {
    "duration": 177,
    "start_time": "2025-05-04T03:07:31.481Z"
   },
   {
    "duration": 74,
    "start_time": "2025-05-04T03:07:31.661Z"
   },
   {
    "duration": 46,
    "start_time": "2025-05-04T03:07:31.736Z"
   },
   {
    "duration": 89,
    "start_time": "2025-05-04T03:07:31.784Z"
   },
   {
    "duration": 23,
    "start_time": "2025-05-04T03:07:31.877Z"
   },
   {
    "duration": 53,
    "start_time": "2025-05-04T03:07:31.901Z"
   },
   {
    "duration": 96,
    "start_time": "2025-05-04T03:07:31.955Z"
   },
   {
    "duration": 31,
    "start_time": "2025-05-04T03:07:32.063Z"
   },
   {
    "duration": 86,
    "start_time": "2025-05-04T03:07:32.096Z"
   },
   {
    "duration": 190,
    "start_time": "2025-05-04T03:07:32.184Z"
   },
   {
    "duration": 24,
    "start_time": "2025-05-04T03:07:32.376Z"
   },
   {
    "duration": 20,
    "start_time": "2025-05-04T03:07:32.401Z"
   },
   {
    "duration": 33,
    "start_time": "2025-05-04T03:07:32.422Z"
   },
   {
    "duration": 30,
    "start_time": "2025-05-04T03:07:32.457Z"
   },
   {
    "duration": 84,
    "start_time": "2025-05-04T03:07:32.488Z"
   },
   {
    "duration": 669,
    "start_time": "2025-05-04T03:07:32.573Z"
   },
   {
    "duration": 25,
    "start_time": "2025-05-04T03:07:33.244Z"
   },
   {
    "duration": 184,
    "start_time": "2025-05-04T03:07:33.271Z"
   },
   {
    "duration": 20,
    "start_time": "2025-05-04T03:07:33.456Z"
   },
   {
    "duration": 41,
    "start_time": "2025-05-04T03:07:33.478Z"
   },
   {
    "duration": 66,
    "start_time": "2025-05-04T03:07:33.520Z"
   },
   {
    "duration": 82,
    "start_time": "2025-05-04T03:07:33.588Z"
   },
   {
    "duration": 374,
    "start_time": "2025-05-04T03:07:33.672Z"
   },
   {
    "duration": 189,
    "start_time": "2025-05-04T03:07:34.048Z"
   },
   {
    "duration": 54,
    "start_time": "2025-05-04T03:07:34.239Z"
   },
   {
    "duration": 154,
    "start_time": "2025-05-04T03:07:34.295Z"
   },
   {
    "duration": 76,
    "start_time": "2025-05-04T03:07:34.450Z"
   },
   {
    "duration": 238,
    "start_time": "2025-05-04T03:07:34.528Z"
   },
   {
    "duration": 1540,
    "start_time": "2025-05-04T03:07:34.767Z"
   },
   {
    "duration": 72,
    "start_time": "2025-05-04T03:08:15.262Z"
   },
   {
    "duration": 194,
    "start_time": "2025-05-04T03:08:23.813Z"
   },
   {
    "duration": 1196,
    "start_time": "2025-05-04T03:08:35.487Z"
   },
   {
    "duration": 1895,
    "start_time": "2025-05-04T03:08:36.685Z"
   },
   {
    "duration": 13,
    "start_time": "2025-05-04T03:08:38.582Z"
   },
   {
    "duration": 12,
    "start_time": "2025-05-04T03:08:38.597Z"
   },
   {
    "duration": 115,
    "start_time": "2025-05-04T03:08:38.610Z"
   },
   {
    "duration": 25,
    "start_time": "2025-05-04T03:08:38.726Z"
   },
   {
    "duration": 40,
    "start_time": "2025-05-04T03:08:38.763Z"
   },
   {
    "duration": 8,
    "start_time": "2025-05-04T03:08:38.805Z"
   },
   {
    "duration": 28,
    "start_time": "2025-05-04T03:08:38.815Z"
   },
   {
    "duration": 8,
    "start_time": "2025-05-04T03:08:38.862Z"
   },
   {
    "duration": 25,
    "start_time": "2025-05-04T03:08:38.871Z"
   },
   {
    "duration": 8,
    "start_time": "2025-05-04T03:08:38.898Z"
   },
   {
    "duration": 56,
    "start_time": "2025-05-04T03:08:38.907Z"
   },
   {
    "duration": 156,
    "start_time": "2025-05-04T03:08:38.965Z"
   },
   {
    "duration": 11,
    "start_time": "2025-05-04T03:08:39.122Z"
   },
   {
    "duration": 58,
    "start_time": "2025-05-04T03:08:39.135Z"
   },
   {
    "duration": 20,
    "start_time": "2025-05-04T03:08:39.194Z"
   },
   {
    "duration": 25,
    "start_time": "2025-05-04T03:08:39.216Z"
   },
   {
    "duration": 14,
    "start_time": "2025-05-04T03:08:39.262Z"
   },
   {
    "duration": 240,
    "start_time": "2025-05-04T03:08:39.278Z"
   },
   {
    "duration": 31,
    "start_time": "2025-05-04T03:08:39.519Z"
   },
   {
    "duration": 20,
    "start_time": "2025-05-04T03:08:39.552Z"
   },
   {
    "duration": 36,
    "start_time": "2025-05-04T03:08:39.573Z"
   },
   {
    "duration": 153,
    "start_time": "2025-05-04T03:08:39.610Z"
   },
   {
    "duration": 70,
    "start_time": "2025-05-04T03:08:39.765Z"
   },
   {
    "duration": 44,
    "start_time": "2025-05-04T03:08:39.837Z"
   },
   {
    "duration": 84,
    "start_time": "2025-05-04T03:08:39.883Z"
   },
   {
    "duration": 23,
    "start_time": "2025-05-04T03:08:39.971Z"
   },
   {
    "duration": 41,
    "start_time": "2025-05-04T03:08:39.996Z"
   },
   {
    "duration": 105,
    "start_time": "2025-05-04T03:08:40.039Z"
   },
   {
    "duration": 46,
    "start_time": "2025-05-04T03:08:40.146Z"
   },
   {
    "duration": 81,
    "start_time": "2025-05-04T03:08:40.193Z"
   },
   {
    "duration": 190,
    "start_time": "2025-05-04T03:08:40.275Z"
   },
   {
    "duration": 22,
    "start_time": "2025-05-04T03:08:40.466Z"
   },
   {
    "duration": 4,
    "start_time": "2025-05-04T03:08:40.490Z"
   },
   {
    "duration": 14,
    "start_time": "2025-05-04T03:08:40.496Z"
   },
   {
    "duration": 58,
    "start_time": "2025-05-04T03:08:40.511Z"
   },
   {
    "duration": 128,
    "start_time": "2025-05-04T03:08:40.571Z"
   },
   {
    "duration": 1328,
    "start_time": "2025-05-04T03:08:40.700Z"
   },
   {
    "duration": 46,
    "start_time": "2025-05-04T03:08:42.029Z"
   },
   {
    "duration": 137,
    "start_time": "2025-05-04T03:08:42.077Z"
   },
   {
    "duration": 20,
    "start_time": "2025-05-04T03:08:42.216Z"
   },
   {
    "duration": 40,
    "start_time": "2025-05-04T03:08:42.238Z"
   },
   {
    "duration": 58,
    "start_time": "2025-05-04T03:08:42.280Z"
   },
   {
    "duration": 88,
    "start_time": "2025-05-04T03:08:42.340Z"
   },
   {
    "duration": 376,
    "start_time": "2025-05-04T03:08:42.429Z"
   },
   {
    "duration": 198,
    "start_time": "2025-05-04T03:08:42.807Z"
   },
   {
    "duration": 61,
    "start_time": "2025-05-04T03:08:43.007Z"
   },
   {
    "duration": 118,
    "start_time": "2025-05-04T03:08:43.070Z"
   },
   {
    "duration": 83,
    "start_time": "2025-05-04T03:08:43.190Z"
   },
   {
    "duration": 234,
    "start_time": "2025-05-04T03:08:43.275Z"
   },
   {
    "duration": 1579,
    "start_time": "2025-05-04T03:08:43.511Z"
   },
   {
    "duration": 1464,
    "start_time": "2025-05-04T03:09:25.363Z"
   },
   {
    "duration": 1193,
    "start_time": "2025-05-04T03:09:34.308Z"
   },
   {
    "duration": 2291,
    "start_time": "2025-05-04T03:09:35.502Z"
   },
   {
    "duration": 12,
    "start_time": "2025-05-04T03:09:37.795Z"
   },
   {
    "duration": 62,
    "start_time": "2025-05-04T03:09:37.809Z"
   },
   {
    "duration": 197,
    "start_time": "2025-05-04T03:09:37.873Z"
   },
   {
    "duration": 24,
    "start_time": "2025-05-04T03:09:38.071Z"
   },
   {
    "duration": 44,
    "start_time": "2025-05-04T03:09:38.096Z"
   },
   {
    "duration": 21,
    "start_time": "2025-05-04T03:09:38.142Z"
   },
   {
    "duration": 20,
    "start_time": "2025-05-04T03:09:38.164Z"
   },
   {
    "duration": 6,
    "start_time": "2025-05-04T03:09:38.187Z"
   },
   {
    "duration": 30,
    "start_time": "2025-05-04T03:09:38.195Z"
   },
   {
    "duration": 8,
    "start_time": "2025-05-04T03:09:38.227Z"
   },
   {
    "duration": 53,
    "start_time": "2025-05-04T03:09:38.236Z"
   },
   {
    "duration": 162,
    "start_time": "2025-05-04T03:09:38.291Z"
   },
   {
    "duration": 14,
    "start_time": "2025-05-04T03:09:38.455Z"
   },
   {
    "duration": 47,
    "start_time": "2025-05-04T03:09:38.470Z"
   },
   {
    "duration": 20,
    "start_time": "2025-05-04T03:09:38.519Z"
   },
   {
    "duration": 41,
    "start_time": "2025-05-04T03:09:38.541Z"
   },
   {
    "duration": 14,
    "start_time": "2025-05-04T03:09:38.584Z"
   },
   {
    "duration": 218,
    "start_time": "2025-05-04T03:09:38.600Z"
   },
   {
    "duration": 29,
    "start_time": "2025-05-04T03:09:38.820Z"
   },
   {
    "duration": 13,
    "start_time": "2025-05-04T03:09:38.862Z"
   },
   {
    "duration": 13,
    "start_time": "2025-05-04T03:09:38.876Z"
   },
   {
    "duration": 163,
    "start_time": "2025-05-04T03:09:38.890Z"
   },
   {
    "duration": 74,
    "start_time": "2025-05-04T03:09:39.055Z"
   },
   {
    "duration": 44,
    "start_time": "2025-05-04T03:09:39.131Z"
   },
   {
    "duration": 69,
    "start_time": "2025-05-04T03:09:39.176Z"
   },
   {
    "duration": 21,
    "start_time": "2025-05-04T03:09:39.262Z"
   },
   {
    "duration": 65,
    "start_time": "2025-05-04T03:09:39.285Z"
   },
   {
    "duration": 91,
    "start_time": "2025-05-04T03:09:39.351Z"
   },
   {
    "duration": 36,
    "start_time": "2025-05-04T03:09:39.444Z"
   },
   {
    "duration": 67,
    "start_time": "2025-05-04T03:09:39.482Z"
   },
   {
    "duration": 193,
    "start_time": "2025-05-04T03:09:39.551Z"
   },
   {
    "duration": 30,
    "start_time": "2025-05-04T03:09:39.745Z"
   },
   {
    "duration": 4,
    "start_time": "2025-05-04T03:09:39.777Z"
   },
   {
    "duration": 14,
    "start_time": "2025-05-04T03:09:39.783Z"
   },
   {
    "duration": 29,
    "start_time": "2025-05-04T03:09:39.799Z"
   },
   {
    "duration": 95,
    "start_time": "2025-05-04T03:09:39.829Z"
   },
   {
    "duration": 655,
    "start_time": "2025-05-04T03:09:39.925Z"
   },
   {
    "duration": 19,
    "start_time": "2025-05-04T03:09:40.581Z"
   },
   {
    "duration": 140,
    "start_time": "2025-05-04T03:09:40.601Z"
   },
   {
    "duration": 30,
    "start_time": "2025-05-04T03:09:40.743Z"
   },
   {
    "duration": 29,
    "start_time": "2025-05-04T03:09:40.774Z"
   },
   {
    "duration": 78,
    "start_time": "2025-05-04T03:09:40.805Z"
   },
   {
    "duration": 88,
    "start_time": "2025-05-04T03:09:40.884Z"
   },
   {
    "duration": 359,
    "start_time": "2025-05-04T03:09:40.974Z"
   },
   {
    "duration": 188,
    "start_time": "2025-05-04T03:09:41.334Z"
   },
   {
    "duration": 53,
    "start_time": "2025-05-04T03:09:41.523Z"
   },
   {
    "duration": 121,
    "start_time": "2025-05-04T03:09:41.577Z"
   },
   {
    "duration": 81,
    "start_time": "2025-05-04T03:09:41.699Z"
   },
   {
    "duration": 226,
    "start_time": "2025-05-04T03:09:41.781Z"
   },
   {
    "duration": 93,
    "start_time": "2025-05-04T03:09:42.009Z"
   },
   {
    "duration": 1526,
    "start_time": "2025-05-04T03:10:01.417Z"
   },
   {
    "duration": 1226,
    "start_time": "2025-05-04T03:10:30.860Z"
   },
   {
    "duration": 1827,
    "start_time": "2025-05-04T03:10:32.088Z"
   },
   {
    "duration": 13,
    "start_time": "2025-05-04T03:10:33.916Z"
   },
   {
    "duration": 20,
    "start_time": "2025-05-04T03:10:33.931Z"
   },
   {
    "duration": 104,
    "start_time": "2025-05-04T03:10:33.961Z"
   },
   {
    "duration": 23,
    "start_time": "2025-05-04T03:10:34.067Z"
   },
   {
    "duration": 55,
    "start_time": "2025-05-04T03:10:34.092Z"
   },
   {
    "duration": 13,
    "start_time": "2025-05-04T03:10:34.149Z"
   },
   {
    "duration": 42,
    "start_time": "2025-05-04T03:10:34.164Z"
   },
   {
    "duration": 23,
    "start_time": "2025-05-04T03:10:34.208Z"
   },
   {
    "duration": 48,
    "start_time": "2025-05-04T03:10:34.232Z"
   },
   {
    "duration": 24,
    "start_time": "2025-05-04T03:10:34.282Z"
   },
   {
    "duration": 47,
    "start_time": "2025-05-04T03:10:34.308Z"
   },
   {
    "duration": 156,
    "start_time": "2025-05-04T03:10:34.357Z"
   },
   {
    "duration": 12,
    "start_time": "2025-05-04T03:10:34.514Z"
   },
   {
    "duration": 59,
    "start_time": "2025-05-04T03:10:34.527Z"
   },
   {
    "duration": 21,
    "start_time": "2025-05-04T03:10:34.587Z"
   },
   {
    "duration": 29,
    "start_time": "2025-05-04T03:10:34.610Z"
   },
   {
    "duration": 34,
    "start_time": "2025-05-04T03:10:34.641Z"
   },
   {
    "duration": 238,
    "start_time": "2025-05-04T03:10:34.676Z"
   },
   {
    "duration": 32,
    "start_time": "2025-05-04T03:10:34.916Z"
   },
   {
    "duration": 23,
    "start_time": "2025-05-04T03:10:34.950Z"
   },
   {
    "duration": 28,
    "start_time": "2025-05-04T03:10:34.975Z"
   },
   {
    "duration": 160,
    "start_time": "2025-05-04T03:10:35.004Z"
   },
   {
    "duration": 72,
    "start_time": "2025-05-04T03:10:35.166Z"
   },
   {
    "duration": 41,
    "start_time": "2025-05-04T03:10:35.240Z"
   },
   {
    "duration": 143,
    "start_time": "2025-05-04T03:10:35.283Z"
   },
   {
    "duration": 22,
    "start_time": "2025-05-04T03:10:35.430Z"
   },
   {
    "duration": 46,
    "start_time": "2025-05-04T03:10:35.454Z"
   },
   {
    "duration": 100,
    "start_time": "2025-05-04T03:10:35.502Z"
   },
   {
    "duration": 31,
    "start_time": "2025-05-04T03:10:35.603Z"
   },
   {
    "duration": 63,
    "start_time": "2025-05-04T03:10:35.636Z"
   },
   {
    "duration": 182,
    "start_time": "2025-05-04T03:10:35.700Z"
   },
   {
    "duration": 21,
    "start_time": "2025-05-04T03:10:35.884Z"
   },
   {
    "duration": 4,
    "start_time": "2025-05-04T03:10:35.907Z"
   },
   {
    "duration": 27,
    "start_time": "2025-05-04T03:10:35.912Z"
   },
   {
    "duration": 44,
    "start_time": "2025-05-04T03:10:35.941Z"
   },
   {
    "duration": 78,
    "start_time": "2025-05-04T03:10:35.987Z"
   },
   {
    "duration": 671,
    "start_time": "2025-05-04T03:10:36.067Z"
   },
   {
    "duration": 23,
    "start_time": "2025-05-04T03:10:36.740Z"
   },
   {
    "duration": 127,
    "start_time": "2025-05-04T03:10:36.764Z"
   },
   {
    "duration": 20,
    "start_time": "2025-05-04T03:10:36.893Z"
   },
   {
    "duration": 46,
    "start_time": "2025-05-04T03:10:36.915Z"
   },
   {
    "duration": 79,
    "start_time": "2025-05-04T03:10:36.962Z"
   },
   {
    "duration": 82,
    "start_time": "2025-05-04T03:10:37.043Z"
   },
   {
    "duration": 395,
    "start_time": "2025-05-04T03:10:37.127Z"
   },
   {
    "duration": 193,
    "start_time": "2025-05-04T03:10:37.524Z"
   },
   {
    "duration": 61,
    "start_time": "2025-05-04T03:10:37.719Z"
   },
   {
    "duration": 123,
    "start_time": "2025-05-04T03:10:37.782Z"
   },
   {
    "duration": 89,
    "start_time": "2025-05-04T03:10:37.907Z"
   },
   {
    "duration": 229,
    "start_time": "2025-05-04T03:10:37.998Z"
   },
   {
    "duration": 92,
    "start_time": "2025-05-04T03:10:38.228Z"
   },
   {
    "duration": 149,
    "start_time": "2025-05-04T03:19:00.644Z"
   },
   {
    "duration": 198,
    "start_time": "2025-05-04T03:20:48.292Z"
   },
   {
    "duration": 1246,
    "start_time": "2025-05-04T03:22:13.950Z"
   },
   {
    "duration": 2063,
    "start_time": "2025-05-04T03:22:15.198Z"
   },
   {
    "duration": 17,
    "start_time": "2025-05-04T03:22:17.263Z"
   },
   {
    "duration": 31,
    "start_time": "2025-05-04T03:22:17.283Z"
   },
   {
    "duration": 122,
    "start_time": "2025-05-04T03:22:17.316Z"
   },
   {
    "duration": 25,
    "start_time": "2025-05-04T03:22:17.440Z"
   },
   {
    "duration": 42,
    "start_time": "2025-05-04T03:22:17.466Z"
   },
   {
    "duration": 9,
    "start_time": "2025-05-04T03:22:17.509Z"
   },
   {
    "duration": 43,
    "start_time": "2025-05-04T03:22:17.520Z"
   },
   {
    "duration": 8,
    "start_time": "2025-05-04T03:22:17.566Z"
   },
   {
    "duration": 26,
    "start_time": "2025-05-04T03:22:17.575Z"
   },
   {
    "duration": 8,
    "start_time": "2025-05-04T03:22:17.603Z"
   },
   {
    "duration": 55,
    "start_time": "2025-05-04T03:22:17.613Z"
   },
   {
    "duration": 158,
    "start_time": "2025-05-04T03:22:17.670Z"
   },
   {
    "duration": 11,
    "start_time": "2025-05-04T03:22:17.830Z"
   },
   {
    "duration": 58,
    "start_time": "2025-05-04T03:22:17.843Z"
   },
   {
    "duration": 20,
    "start_time": "2025-05-04T03:22:17.903Z"
   },
   {
    "duration": 43,
    "start_time": "2025-05-04T03:22:17.925Z"
   },
   {
    "duration": 14,
    "start_time": "2025-05-04T03:22:17.970Z"
   },
   {
    "duration": 226,
    "start_time": "2025-05-04T03:22:17.986Z"
   },
   {
    "duration": 30,
    "start_time": "2025-05-04T03:22:18.214Z"
   },
   {
    "duration": 25,
    "start_time": "2025-05-04T03:22:18.245Z"
   },
   {
    "duration": 13,
    "start_time": "2025-05-04T03:22:18.272Z"
   },
   {
    "duration": 168,
    "start_time": "2025-05-04T03:22:18.287Z"
   },
   {
    "duration": 71,
    "start_time": "2025-05-04T03:22:18.457Z"
   },
   {
    "duration": 49,
    "start_time": "2025-05-04T03:22:18.530Z"
   },
   {
    "duration": 82,
    "start_time": "2025-05-04T03:22:18.580Z"
   },
   {
    "duration": 23,
    "start_time": "2025-05-04T03:22:18.666Z"
   },
   {
    "duration": 39,
    "start_time": "2025-05-04T03:22:18.691Z"
   },
   {
    "duration": 111,
    "start_time": "2025-05-04T03:22:18.732Z"
   },
   {
    "duration": 41,
    "start_time": "2025-05-04T03:22:18.844Z"
   },
   {
    "duration": 85,
    "start_time": "2025-05-04T03:22:18.887Z"
   },
   {
    "duration": 291,
    "start_time": "2025-05-04T03:22:18.974Z"
   },
   {
    "duration": 23,
    "start_time": "2025-05-04T03:22:19.267Z"
   },
   {
    "duration": 5,
    "start_time": "2025-05-04T03:22:19.291Z"
   },
   {
    "duration": 77,
    "start_time": "2025-05-04T03:22:19.297Z"
   },
   {
    "duration": 31,
    "start_time": "2025-05-04T03:22:19.376Z"
   },
   {
    "duration": 130,
    "start_time": "2025-05-04T03:22:19.463Z"
   },
   {
    "duration": 1174,
    "start_time": "2025-05-04T03:22:19.594Z"
   },
   {
    "duration": 16,
    "start_time": "2025-05-04T03:22:20.770Z"
   },
   {
    "duration": 132,
    "start_time": "2025-05-04T03:22:20.788Z"
   },
   {
    "duration": 22,
    "start_time": "2025-05-04T03:22:20.921Z"
   },
   {
    "duration": 41,
    "start_time": "2025-05-04T03:22:20.945Z"
   },
   {
    "duration": 60,
    "start_time": "2025-05-04T03:22:20.988Z"
   },
   {
    "duration": 77,
    "start_time": "2025-05-04T03:22:21.061Z"
   },
   {
    "duration": 369,
    "start_time": "2025-05-04T03:22:21.140Z"
   },
   {
    "duration": 195,
    "start_time": "2025-05-04T03:22:21.511Z"
   },
   {
    "duration": 59,
    "start_time": "2025-05-04T03:22:21.708Z"
   },
   {
    "duration": 118,
    "start_time": "2025-05-04T03:22:21.769Z"
   },
   {
    "duration": 80,
    "start_time": "2025-05-04T03:22:21.888Z"
   },
   {
    "duration": 244,
    "start_time": "2025-05-04T03:22:21.969Z"
   },
   {
    "duration": 93,
    "start_time": "2025-05-04T03:22:22.215Z"
   },
   {
    "duration": 1403,
    "start_time": "2025-05-04T08:25:00.166Z"
   },
   {
    "duration": 2141,
    "start_time": "2025-05-04T08:25:01.571Z"
   },
   {
    "duration": 13,
    "start_time": "2025-05-04T08:25:03.714Z"
   },
   {
    "duration": 32,
    "start_time": "2025-05-04T08:25:03.729Z"
   },
   {
    "duration": 136,
    "start_time": "2025-05-04T08:25:03.762Z"
   },
   {
    "duration": 27,
    "start_time": "2025-05-04T08:25:03.900Z"
   },
   {
    "duration": 69,
    "start_time": "2025-05-04T08:25:03.929Z"
   },
   {
    "duration": 9,
    "start_time": "2025-05-04T08:25:04.000Z"
   },
   {
    "duration": 58,
    "start_time": "2025-05-04T08:25:04.011Z"
   },
   {
    "duration": 25,
    "start_time": "2025-05-04T08:25:04.072Z"
   },
   {
    "duration": 47,
    "start_time": "2025-05-04T08:25:04.099Z"
   },
   {
    "duration": 9,
    "start_time": "2025-05-04T08:25:04.148Z"
   },
   {
    "duration": 94,
    "start_time": "2025-05-04T08:25:04.158Z"
   },
   {
    "duration": 257,
    "start_time": "2025-05-04T08:25:04.254Z"
   },
   {
    "duration": 11,
    "start_time": "2025-05-04T08:25:04.513Z"
   },
   {
    "duration": 47,
    "start_time": "2025-05-04T08:25:04.526Z"
   },
   {
    "duration": 43,
    "start_time": "2025-05-04T08:25:04.575Z"
   },
   {
    "duration": 27,
    "start_time": "2025-05-04T08:25:04.620Z"
   },
   {
    "duration": 16,
    "start_time": "2025-05-04T08:25:04.649Z"
   },
   {
    "duration": 244,
    "start_time": "2025-05-04T08:25:04.666Z"
   },
   {
    "duration": 36,
    "start_time": "2025-05-04T08:25:04.911Z"
   },
   {
    "duration": 17,
    "start_time": "2025-05-04T08:25:04.949Z"
   },
   {
    "duration": 68,
    "start_time": "2025-05-04T08:25:04.968Z"
   },
   {
    "duration": 188,
    "start_time": "2025-05-04T08:25:05.037Z"
   },
   {
    "duration": 102,
    "start_time": "2025-05-04T08:25:05.227Z"
   },
   {
    "duration": 37,
    "start_time": "2025-05-04T08:25:05.330Z"
   },
   {
    "duration": 95,
    "start_time": "2025-05-04T08:25:05.369Z"
   },
   {
    "duration": 23,
    "start_time": "2025-05-04T08:25:05.467Z"
   },
   {
    "duration": 101,
    "start_time": "2025-05-04T08:25:05.492Z"
   },
   {
    "duration": 123,
    "start_time": "2025-05-04T08:25:05.595Z"
   },
   {
    "duration": 32,
    "start_time": "2025-05-04T08:25:05.720Z"
   },
   {
    "duration": 83,
    "start_time": "2025-05-04T08:25:05.755Z"
   },
   {
    "duration": 204,
    "start_time": "2025-05-04T08:25:05.840Z"
   },
   {
    "duration": 33,
    "start_time": "2025-05-04T08:25:06.048Z"
   },
   {
    "duration": 48,
    "start_time": "2025-05-04T08:25:06.083Z"
   },
   {
    "duration": 33,
    "start_time": "2025-05-04T08:25:06.132Z"
   },
   {
    "duration": 37,
    "start_time": "2025-05-04T08:25:06.166Z"
   },
   {
    "duration": 96,
    "start_time": "2025-05-04T08:25:06.205Z"
   },
   {
    "duration": 717,
    "start_time": "2025-05-04T08:25:06.303Z"
   },
   {
    "duration": 17,
    "start_time": "2025-05-04T08:25:07.021Z"
   },
   {
    "duration": 147,
    "start_time": "2025-05-04T08:25:07.040Z"
   },
   {
    "duration": 26,
    "start_time": "2025-05-04T08:25:07.189Z"
   },
   {
    "duration": 54,
    "start_time": "2025-05-04T08:25:07.216Z"
   },
   {
    "duration": 95,
    "start_time": "2025-05-04T08:25:07.272Z"
   },
   {
    "duration": 92,
    "start_time": "2025-05-04T08:25:07.369Z"
   },
   {
    "duration": 379,
    "start_time": "2025-05-04T08:25:07.463Z"
   },
   {
    "duration": 202,
    "start_time": "2025-05-04T08:25:07.844Z"
   },
   {
    "duration": 60,
    "start_time": "2025-05-04T08:25:08.048Z"
   },
   {
    "duration": 126,
    "start_time": "2025-05-04T08:25:08.110Z"
   },
   {
    "duration": 86,
    "start_time": "2025-05-04T08:25:08.238Z"
   },
   {
    "duration": 269,
    "start_time": "2025-05-04T08:25:08.326Z"
   },
   {
    "duration": 108,
    "start_time": "2025-05-04T08:25:08.597Z"
   },
   {
    "duration": 1284,
    "start_time": "2025-05-04T09:59:17.871Z"
   },
   {
    "duration": 1953,
    "start_time": "2025-05-04T09:59:19.157Z"
   },
   {
    "duration": 13,
    "start_time": "2025-05-04T09:59:21.112Z"
   },
   {
    "duration": 16,
    "start_time": "2025-05-04T09:59:21.128Z"
   },
   {
    "duration": 125,
    "start_time": "2025-05-04T09:59:21.146Z"
   },
   {
    "duration": 33,
    "start_time": "2025-05-04T09:59:21.274Z"
   },
   {
    "duration": 43,
    "start_time": "2025-05-04T09:59:21.309Z"
   },
   {
    "duration": 9,
    "start_time": "2025-05-04T09:59:21.354Z"
   },
   {
    "duration": 51,
    "start_time": "2025-05-04T09:59:21.365Z"
   },
   {
    "duration": 8,
    "start_time": "2025-05-04T09:59:21.420Z"
   },
   {
    "duration": 31,
    "start_time": "2025-05-04T09:59:21.430Z"
   },
   {
    "duration": 8,
    "start_time": "2025-05-04T09:59:21.463Z"
   },
   {
    "duration": 60,
    "start_time": "2025-05-04T09:59:21.473Z"
   },
   {
    "duration": 164,
    "start_time": "2025-05-04T09:59:21.535Z"
   },
   {
    "duration": 12,
    "start_time": "2025-05-04T09:59:21.705Z"
   },
   {
    "duration": 48,
    "start_time": "2025-05-04T09:59:21.719Z"
   },
   {
    "duration": 43,
    "start_time": "2025-05-04T09:59:21.768Z"
   },
   {
    "duration": 89,
    "start_time": "2025-05-04T09:59:21.813Z"
   },
   {
    "duration": 16,
    "start_time": "2025-05-04T09:59:21.904Z"
   },
   {
    "duration": 234,
    "start_time": "2025-05-04T09:59:21.922Z"
   },
   {
    "duration": 51,
    "start_time": "2025-05-04T09:59:22.158Z"
   },
   {
    "duration": 21,
    "start_time": "2025-05-04T09:59:22.211Z"
   },
   {
    "duration": 15,
    "start_time": "2025-05-04T09:59:22.234Z"
   },
   {
    "duration": 179,
    "start_time": "2025-05-04T09:59:22.251Z"
   },
   {
    "duration": 88,
    "start_time": "2025-05-04T09:59:22.431Z"
   },
   {
    "duration": 33,
    "start_time": "2025-05-04T09:59:22.521Z"
   },
   {
    "duration": 106,
    "start_time": "2025-05-04T09:59:22.556Z"
   },
   {
    "duration": 23,
    "start_time": "2025-05-04T09:59:22.665Z"
   },
   {
    "duration": 57,
    "start_time": "2025-05-04T09:59:22.689Z"
   },
   {
    "duration": 111,
    "start_time": "2025-05-04T09:59:22.747Z"
   },
   {
    "duration": 45,
    "start_time": "2025-05-04T09:59:22.860Z"
   },
   {
    "duration": 79,
    "start_time": "2025-05-04T09:59:22.907Z"
   },
   {
    "duration": 203,
    "start_time": "2025-05-04T09:59:22.987Z"
   },
   {
    "duration": 34,
    "start_time": "2025-05-04T09:59:23.192Z"
   },
   {
    "duration": 5,
    "start_time": "2025-05-04T09:59:23.228Z"
   },
   {
    "duration": 15,
    "start_time": "2025-05-04T09:59:23.235Z"
   },
   {
    "duration": 55,
    "start_time": "2025-05-04T09:59:23.252Z"
   },
   {
    "duration": 78,
    "start_time": "2025-05-04T09:59:23.308Z"
   },
   {
    "duration": 723,
    "start_time": "2025-05-04T09:59:23.388Z"
   },
   {
    "duration": 17,
    "start_time": "2025-05-04T09:59:24.112Z"
   },
   {
    "duration": 144,
    "start_time": "2025-05-04T09:59:24.131Z"
   },
   {
    "duration": 30,
    "start_time": "2025-05-04T09:59:24.277Z"
   },
   {
    "duration": 30,
    "start_time": "2025-05-04T09:59:24.309Z"
   },
   {
    "duration": 81,
    "start_time": "2025-05-04T09:59:24.341Z"
   },
   {
    "duration": 91,
    "start_time": "2025-05-04T09:59:24.423Z"
   },
   {
    "duration": 389,
    "start_time": "2025-05-04T09:59:24.516Z"
   },
   {
    "duration": 213,
    "start_time": "2025-05-04T09:59:24.907Z"
   },
   {
    "duration": 48,
    "start_time": "2025-05-04T09:59:25.122Z"
   },
   {
    "duration": 135,
    "start_time": "2025-05-04T09:59:25.171Z"
   },
   {
    "duration": 71,
    "start_time": "2025-05-04T09:59:25.307Z"
   },
   {
    "duration": 265,
    "start_time": "2025-05-04T09:59:25.380Z"
   },
   {
    "duration": 100,
    "start_time": "2025-05-04T09:59:25.646Z"
   },
   {
    "duration": 54,
    "start_time": "2025-05-04T21:31:44.448Z"
   },
   {
    "duration": 1481,
    "start_time": "2025-05-04T21:31:55.669Z"
   },
   {
    "duration": 3166,
    "start_time": "2025-05-04T21:31:58.365Z"
   },
   {
    "duration": 1353,
    "start_time": "2025-05-04T21:32:06.607Z"
   },
   {
    "duration": 3406,
    "start_time": "2025-05-04T21:32:07.963Z"
   },
   {
    "duration": 13,
    "start_time": "2025-05-04T21:32:11.371Z"
   },
   {
    "duration": 13,
    "start_time": "2025-05-04T21:32:11.386Z"
   },
   {
    "duration": 263,
    "start_time": "2025-05-04T21:32:11.401Z"
   },
   {
    "duration": 27,
    "start_time": "2025-05-04T21:32:11.666Z"
   },
   {
    "duration": 98,
    "start_time": "2025-05-04T21:32:11.694Z"
   },
   {
    "duration": 10,
    "start_time": "2025-05-04T21:32:11.793Z"
   },
   {
    "duration": 35,
    "start_time": "2025-05-04T21:32:11.860Z"
   },
   {
    "duration": 67,
    "start_time": "2025-05-04T21:32:11.899Z"
   },
   {
    "duration": 27,
    "start_time": "2025-05-04T21:32:11.968Z"
   },
   {
    "duration": 64,
    "start_time": "2025-05-04T21:32:11.997Z"
   },
   {
    "duration": 36,
    "start_time": "2025-05-04T21:32:12.063Z"
   },
   {
    "duration": 365,
    "start_time": "2025-05-04T21:32:12.101Z"
   },
   {
    "duration": 18,
    "start_time": "2025-05-04T21:32:12.467Z"
   },
   {
    "duration": 174,
    "start_time": "2025-05-04T21:32:12.488Z"
   },
   {
    "duration": 23,
    "start_time": "2025-05-04T21:32:12.663Z"
   },
   {
    "duration": 81,
    "start_time": "2025-05-04T21:32:12.688Z"
   },
   {
    "duration": 16,
    "start_time": "2025-05-04T21:32:12.771Z"
   },
   {
    "duration": 407,
    "start_time": "2025-05-04T21:32:12.789Z"
   },
   {
    "duration": 33,
    "start_time": "2025-05-04T21:32:13.197Z"
   },
   {
    "duration": 31,
    "start_time": "2025-05-04T21:32:13.232Z"
   },
   {
    "duration": 15,
    "start_time": "2025-05-04T21:32:13.265Z"
   },
   {
    "duration": 175,
    "start_time": "2025-05-04T21:32:13.281Z"
   },
   {
    "duration": 76,
    "start_time": "2025-05-04T21:32:13.461Z"
   },
   {
    "duration": 44,
    "start_time": "2025-05-04T21:32:13.538Z"
   },
   {
    "duration": 112,
    "start_time": "2025-05-04T21:32:13.584Z"
   },
   {
    "duration": 24,
    "start_time": "2025-05-04T21:32:13.700Z"
   },
   {
    "duration": 55,
    "start_time": "2025-05-04T21:32:13.726Z"
   },
   {
    "duration": 109,
    "start_time": "2025-05-04T21:32:13.783Z"
   },
   {
    "duration": 33,
    "start_time": "2025-05-04T21:32:13.894Z"
   },
   {
    "duration": 91,
    "start_time": "2025-05-04T21:32:13.929Z"
   },
   {
    "duration": 205,
    "start_time": "2025-05-04T21:32:14.022Z"
   },
   {
    "duration": 36,
    "start_time": "2025-05-04T21:32:14.229Z"
   },
   {
    "duration": 4,
    "start_time": "2025-05-04T21:32:14.267Z"
   },
   {
    "duration": 16,
    "start_time": "2025-05-04T21:32:14.273Z"
   },
   {
    "duration": 32,
    "start_time": "2025-05-04T21:32:14.291Z"
   },
   {
    "duration": 111,
    "start_time": "2025-05-04T21:32:14.325Z"
   },
   {
    "duration": 729,
    "start_time": "2025-05-04T21:32:14.437Z"
   },
   {
    "duration": 20,
    "start_time": "2025-05-04T21:32:15.168Z"
   },
   {
    "duration": 157,
    "start_time": "2025-05-04T21:32:15.189Z"
   },
   {
    "duration": 26,
    "start_time": "2025-05-04T21:32:15.348Z"
   },
   {
    "duration": 51,
    "start_time": "2025-05-04T21:32:15.376Z"
   },
   {
    "duration": 73,
    "start_time": "2025-05-04T21:32:15.429Z"
   },
   {
    "duration": 105,
    "start_time": "2025-05-04T21:32:15.504Z"
   },
   {
    "duration": 453,
    "start_time": "2025-05-04T21:32:15.611Z"
   },
   {
    "duration": 205,
    "start_time": "2025-05-04T21:32:16.066Z"
   },
   {
    "duration": 49,
    "start_time": "2025-05-04T21:32:16.273Z"
   },
   {
    "duration": 142,
    "start_time": "2025-05-04T21:32:16.324Z"
   },
   {
    "duration": 80,
    "start_time": "2025-05-04T21:32:16.468Z"
   },
   {
    "duration": 276,
    "start_time": "2025-05-04T21:32:16.560Z"
   },
   {
    "duration": 104,
    "start_time": "2025-05-04T21:32:16.838Z"
   },
   {
    "duration": 62,
    "start_time": "2025-05-04T21:40:24.368Z"
   },
   {
    "duration": 72,
    "start_time": "2025-05-04T21:41:20.017Z"
   },
   {
    "duration": 55,
    "start_time": "2025-05-04T21:46:55.403Z"
   },
   {
    "duration": 31,
    "start_time": "2025-05-04T21:49:02.397Z"
   },
   {
    "duration": 135,
    "start_time": "2025-05-04T21:50:21.766Z"
   },
   {
    "duration": 30,
    "start_time": "2025-05-04T21:50:43.532Z"
   },
   {
    "duration": 5,
    "start_time": "2025-05-04T21:51:14.488Z"
   },
   {
    "duration": 5,
    "start_time": "2025-05-04T21:51:19.074Z"
   },
   {
    "duration": 56,
    "start_time": "2025-05-04T21:54:24.650Z"
   },
   {
    "duration": 1258,
    "start_time": "2025-05-04T21:55:07.527Z"
   },
   {
    "duration": 56,
    "start_time": "2025-05-04T21:55:41.722Z"
   },
   {
    "duration": 1157,
    "start_time": "2025-05-04T21:55:50.742Z"
   },
   {
    "duration": 1151,
    "start_time": "2025-05-04T21:56:07.715Z"
   },
   {
    "duration": 1217,
    "start_time": "2025-05-04T21:56:13.301Z"
   },
   {
    "duration": 2531,
    "start_time": "2025-05-04T21:56:14.521Z"
   },
   {
    "duration": 15,
    "start_time": "2025-05-04T21:56:17.054Z"
   },
   {
    "duration": 13,
    "start_time": "2025-05-04T21:56:17.071Z"
   },
   {
    "duration": 119,
    "start_time": "2025-05-04T21:56:17.087Z"
   },
   {
    "duration": 26,
    "start_time": "2025-05-04T21:56:17.207Z"
   },
   {
    "duration": 59,
    "start_time": "2025-05-04T21:56:17.235Z"
   },
   {
    "duration": 10,
    "start_time": "2025-05-04T21:56:17.295Z"
   },
   {
    "duration": 21,
    "start_time": "2025-05-04T21:56:17.306Z"
   },
   {
    "duration": 8,
    "start_time": "2025-05-04T21:56:17.328Z"
   },
   {
    "duration": 26,
    "start_time": "2025-05-04T21:56:17.361Z"
   },
   {
    "duration": 9,
    "start_time": "2025-05-04T21:56:17.389Z"
   },
   {
    "duration": 60,
    "start_time": "2025-05-04T21:56:17.400Z"
   },
   {
    "duration": 170,
    "start_time": "2025-05-04T21:56:17.465Z"
   },
   {
    "duration": 13,
    "start_time": "2025-05-04T21:56:17.637Z"
   },
   {
    "duration": 58,
    "start_time": "2025-05-04T21:56:17.652Z"
   },
   {
    "duration": 23,
    "start_time": "2025-05-04T21:56:17.713Z"
   },
   {
    "duration": 46,
    "start_time": "2025-05-04T21:56:17.738Z"
   },
   {
    "duration": 16,
    "start_time": "2025-05-04T21:56:17.785Z"
   },
   {
    "duration": 240,
    "start_time": "2025-05-04T21:56:17.803Z"
   },
   {
    "duration": 37,
    "start_time": "2025-05-04T21:56:18.045Z"
   },
   {
    "duration": 15,
    "start_time": "2025-05-04T21:56:18.085Z"
   },
   {
    "duration": 14,
    "start_time": "2025-05-04T21:56:18.102Z"
   },
   {
    "duration": 186,
    "start_time": "2025-05-04T21:56:18.117Z"
   },
   {
    "duration": 96,
    "start_time": "2025-05-04T21:56:18.305Z"
   },
   {
    "duration": 32,
    "start_time": "2025-05-04T21:56:18.403Z"
   },
   {
    "duration": 92,
    "start_time": "2025-05-04T21:56:18.437Z"
   },
   {
    "duration": 35,
    "start_time": "2025-05-04T21:56:18.531Z"
   },
   {
    "duration": 42,
    "start_time": "2025-05-04T21:56:18.568Z"
   },
   {
    "duration": 111,
    "start_time": "2025-05-04T21:56:18.611Z"
   },
   {
    "duration": 41,
    "start_time": "2025-05-04T21:56:18.723Z"
   },
   {
    "duration": 66,
    "start_time": "2025-05-04T21:56:18.766Z"
   },
   {
    "duration": 1169,
    "start_time": "2025-05-04T21:56:18.834Z"
   },
   {
    "duration": 0,
    "start_time": "2025-05-04T21:56:20.006Z"
   },
   {
    "duration": 0,
    "start_time": "2025-05-04T21:56:20.007Z"
   },
   {
    "duration": 0,
    "start_time": "2025-05-04T21:56:20.009Z"
   },
   {
    "duration": 0,
    "start_time": "2025-05-04T21:56:20.009Z"
   },
   {
    "duration": 0,
    "start_time": "2025-05-04T21:56:20.011Z"
   },
   {
    "duration": 0,
    "start_time": "2025-05-04T21:56:20.012Z"
   },
   {
    "duration": 0,
    "start_time": "2025-05-04T21:56:20.013Z"
   },
   {
    "duration": 0,
    "start_time": "2025-05-04T21:56:20.014Z"
   },
   {
    "duration": 0,
    "start_time": "2025-05-04T21:56:20.015Z"
   },
   {
    "duration": 0,
    "start_time": "2025-05-04T21:56:20.016Z"
   },
   {
    "duration": 0,
    "start_time": "2025-05-04T21:56:20.017Z"
   },
   {
    "duration": 0,
    "start_time": "2025-05-04T21:56:20.018Z"
   },
   {
    "duration": 0,
    "start_time": "2025-05-04T21:56:20.019Z"
   },
   {
    "duration": 0,
    "start_time": "2025-05-04T21:56:20.020Z"
   },
   {
    "duration": 0,
    "start_time": "2025-05-04T21:56:20.022Z"
   },
   {
    "duration": 0,
    "start_time": "2025-05-04T21:56:20.023Z"
   },
   {
    "duration": 0,
    "start_time": "2025-05-04T21:56:20.024Z"
   },
   {
    "duration": 0,
    "start_time": "2025-05-04T21:56:20.025Z"
   },
   {
    "duration": 0,
    "start_time": "2025-05-04T21:56:20.026Z"
   },
   {
    "duration": 184,
    "start_time": "2025-05-04T21:56:51.095Z"
   },
   {
    "duration": 22,
    "start_time": "2025-05-04T22:06:08.346Z"
   },
   {
    "duration": 21,
    "start_time": "2025-05-04T22:06:16.795Z"
   },
   {
    "duration": 13,
    "start_time": "2025-05-04T22:07:51.778Z"
   },
   {
    "duration": 11,
    "start_time": "2025-05-04T22:07:57.140Z"
   },
   {
    "duration": 11,
    "start_time": "2025-05-04T22:08:02.512Z"
   },
   {
    "duration": 1280,
    "start_time": "2025-05-04T22:08:09.300Z"
   },
   {
    "duration": 2578,
    "start_time": "2025-05-04T22:08:10.582Z"
   },
   {
    "duration": 13,
    "start_time": "2025-05-04T22:08:13.162Z"
   },
   {
    "duration": 14,
    "start_time": "2025-05-04T22:08:13.177Z"
   },
   {
    "duration": 135,
    "start_time": "2025-05-04T22:08:13.193Z"
   },
   {
    "duration": 32,
    "start_time": "2025-05-04T22:08:13.330Z"
   },
   {
    "duration": 44,
    "start_time": "2025-05-04T22:08:13.363Z"
   },
   {
    "duration": 10,
    "start_time": "2025-05-04T22:08:13.409Z"
   },
   {
    "duration": 50,
    "start_time": "2025-05-04T22:08:13.421Z"
   },
   {
    "duration": 9,
    "start_time": "2025-05-04T22:08:13.475Z"
   },
   {
    "duration": 27,
    "start_time": "2025-05-04T22:08:13.486Z"
   },
   {
    "duration": 10,
    "start_time": "2025-05-04T22:08:13.515Z"
   },
   {
    "duration": 122,
    "start_time": "2025-05-04T22:08:13.526Z"
   },
   {
    "duration": 156,
    "start_time": "2025-05-04T22:08:13.650Z"
   },
   {
    "duration": 12,
    "start_time": "2025-05-04T22:08:13.808Z"
   },
   {
    "duration": 61,
    "start_time": "2025-05-04T22:08:13.822Z"
   },
   {
    "duration": 22,
    "start_time": "2025-05-04T22:08:13.885Z"
   },
   {
    "duration": 30,
    "start_time": "2025-05-04T22:08:13.909Z"
   },
   {
    "duration": 18,
    "start_time": "2025-05-04T22:08:13.961Z"
   },
   {
    "duration": 286,
    "start_time": "2025-05-04T22:08:13.980Z"
   },
   {
    "duration": 34,
    "start_time": "2025-05-04T22:08:14.267Z"
   },
   {
    "duration": 84,
    "start_time": "2025-05-04T22:08:14.303Z"
   },
   {
    "duration": 16,
    "start_time": "2025-05-04T22:08:14.388Z"
   },
   {
    "duration": 158,
    "start_time": "2025-05-04T22:08:14.406Z"
   },
   {
    "duration": 76,
    "start_time": "2025-05-04T22:08:14.565Z"
   },
   {
    "duration": 47,
    "start_time": "2025-05-04T22:08:14.643Z"
   },
   {
    "duration": 95,
    "start_time": "2025-05-04T22:08:14.692Z"
   },
   {
    "duration": 24,
    "start_time": "2025-05-04T22:08:14.790Z"
   },
   {
    "duration": 59,
    "start_time": "2025-05-04T22:08:14.816Z"
   },
   {
    "duration": 106,
    "start_time": "2025-05-04T22:08:14.877Z"
   },
   {
    "duration": 36,
    "start_time": "2025-05-04T22:08:14.985Z"
   },
   {
    "duration": 94,
    "start_time": "2025-05-04T22:08:15.023Z"
   },
   {
    "duration": 205,
    "start_time": "2025-05-04T22:08:15.119Z"
   },
   {
    "duration": 40,
    "start_time": "2025-05-04T22:08:15.327Z"
   },
   {
    "duration": 5,
    "start_time": "2025-05-04T22:08:15.369Z"
   },
   {
    "duration": 16,
    "start_time": "2025-05-04T22:08:15.375Z"
   },
   {
    "duration": 31,
    "start_time": "2025-05-04T22:08:15.393Z"
   },
   {
    "duration": 104,
    "start_time": "2025-05-04T22:08:15.426Z"
   },
   {
    "duration": 761,
    "start_time": "2025-05-04T22:08:15.532Z"
   },
   {
    "duration": 18,
    "start_time": "2025-05-04T22:08:16.295Z"
   },
   {
    "duration": 185,
    "start_time": "2025-05-04T22:08:16.315Z"
   },
   {
    "duration": 22,
    "start_time": "2025-05-04T22:08:16.502Z"
   },
   {
    "duration": 44,
    "start_time": "2025-05-04T22:08:16.525Z"
   },
   {
    "duration": 64,
    "start_time": "2025-05-04T22:08:16.571Z"
   },
   {
    "duration": 102,
    "start_time": "2025-05-04T22:08:16.638Z"
   },
   {
    "duration": 421,
    "start_time": "2025-05-04T22:08:16.742Z"
   },
   {
    "duration": 210,
    "start_time": "2025-05-04T22:08:17.165Z"
   },
   {
    "duration": 48,
    "start_time": "2025-05-04T22:08:17.377Z"
   },
   {
    "duration": 140,
    "start_time": "2025-05-04T22:08:17.427Z"
   },
   {
    "duration": 93,
    "start_time": "2025-05-04T22:08:17.569Z"
   },
   {
    "duration": 274,
    "start_time": "2025-05-04T22:08:17.664Z"
   },
   {
    "duration": 101,
    "start_time": "2025-05-04T22:08:17.940Z"
   },
   {
    "duration": 1293,
    "start_time": "2025-05-04T22:08:58.408Z"
   },
   {
    "duration": 26,
    "start_time": "2025-05-04T22:09:20.686Z"
   },
   {
    "duration": 30,
    "start_time": "2025-05-04T22:09:25.444Z"
   },
   {
    "duration": 30,
    "start_time": "2025-05-04T22:09:33.625Z"
   },
   {
    "duration": 26,
    "start_time": "2025-05-04T22:09:45.834Z"
   },
   {
    "duration": 28,
    "start_time": "2025-05-04T22:09:50.190Z"
   },
   {
    "duration": 33,
    "start_time": "2025-05-04T22:09:58.810Z"
   },
   {
    "duration": 19,
    "start_time": "2025-05-04T22:10:17.878Z"
   },
   {
    "duration": 21,
    "start_time": "2025-05-04T22:10:49.343Z"
   },
   {
    "duration": 21,
    "start_time": "2025-05-04T22:10:58.832Z"
   },
   {
    "duration": 20,
    "start_time": "2025-05-04T22:10:59.953Z"
   },
   {
    "duration": 17,
    "start_time": "2025-05-04T22:11:05.058Z"
   },
   {
    "duration": 20,
    "start_time": "2025-05-04T22:11:14.921Z"
   },
   {
    "duration": 399,
    "start_time": "2025-05-04T22:30:29.729Z"
   },
   {
    "duration": 320,
    "start_time": "2025-05-04T22:31:24.201Z"
   },
   {
    "duration": 334,
    "start_time": "2025-05-04T22:31:31.270Z"
   },
   {
    "duration": 340,
    "start_time": "2025-05-04T22:33:00.265Z"
   },
   {
    "duration": 339,
    "start_time": "2025-05-04T22:33:38.908Z"
   },
   {
    "duration": 394,
    "start_time": "2025-05-04T22:35:54.389Z"
   },
   {
    "duration": 336,
    "start_time": "2025-05-04T22:36:01.813Z"
   },
   {
    "duration": 22,
    "start_time": "2025-05-04T22:36:57.800Z"
   },
   {
    "duration": 18,
    "start_time": "2025-05-04T22:37:05.298Z"
   },
   {
    "duration": 7,
    "start_time": "2025-05-04T22:38:44.717Z"
   },
   {
    "duration": 11,
    "start_time": "2025-05-04T22:38:52.973Z"
   },
   {
    "duration": 10,
    "start_time": "2025-05-04T22:39:06.423Z"
   },
   {
    "duration": 19,
    "start_time": "2025-05-04T22:39:55.643Z"
   },
   {
    "duration": 10,
    "start_time": "2025-05-04T22:40:40.141Z"
   },
   {
    "duration": 14,
    "start_time": "2025-05-04T23:00:12.000Z"
   },
   {
    "duration": 354,
    "start_time": "2025-05-04T23:05:22.519Z"
   },
   {
    "duration": 340,
    "start_time": "2025-05-04T23:05:51.676Z"
   },
   {
    "duration": 420,
    "start_time": "2025-05-04T23:06:30.222Z"
   },
   {
    "duration": 334,
    "start_time": "2025-05-04T23:07:16.954Z"
   },
   {
    "duration": 342,
    "start_time": "2025-05-04T23:07:22.351Z"
   },
   {
    "duration": 327,
    "start_time": "2025-05-04T23:07:28.064Z"
   },
   {
    "duration": 344,
    "start_time": "2025-05-04T23:07:45.022Z"
   },
   {
    "duration": 132,
    "start_time": "2025-05-04T23:11:23.545Z"
   },
   {
    "duration": 131,
    "start_time": "2025-05-04T23:11:54.605Z"
   },
   {
    "duration": 14,
    "start_time": "2025-05-05T00:35:57.684Z"
   },
   {
    "duration": 14,
    "start_time": "2025-05-05T00:36:26.290Z"
   },
   {
    "duration": 38,
    "start_time": "2025-05-05T00:37:53.357Z"
   },
   {
    "duration": 6,
    "start_time": "2025-05-05T00:38:54.551Z"
   },
   {
    "duration": 7,
    "start_time": "2025-05-05T00:39:02.802Z"
   },
   {
    "duration": 7,
    "start_time": "2025-05-05T00:39:10.959Z"
   },
   {
    "duration": 6,
    "start_time": "2025-05-05T00:39:17.351Z"
   },
   {
    "duration": 6,
    "start_time": "2025-05-05T00:39:21.260Z"
   },
   {
    "duration": 7,
    "start_time": "2025-05-05T00:39:28.489Z"
   },
   {
    "duration": 78,
    "start_time": "2025-05-05T00:47:29.830Z"
   },
   {
    "duration": 92,
    "start_time": "2025-05-05T00:50:00.182Z"
   },
   {
    "duration": 41,
    "start_time": "2025-05-05T00:50:28.600Z"
   },
   {
    "duration": 43,
    "start_time": "2025-05-05T00:50:34.219Z"
   },
   {
    "duration": 58,
    "start_time": "2025-05-05T00:51:41.633Z"
   },
   {
    "duration": 257,
    "start_time": "2025-05-05T00:54:38.644Z"
   },
   {
    "duration": 159,
    "start_time": "2025-05-05T00:54:52.670Z"
   },
   {
    "duration": 160,
    "start_time": "2025-05-05T00:55:02.293Z"
   },
   {
    "duration": 155,
    "start_time": "2025-05-05T00:55:15.530Z"
   },
   {
    "duration": 58,
    "start_time": "2025-05-05T00:55:38.313Z"
   },
   {
    "duration": 150,
    "start_time": "2025-05-05T00:55:47.707Z"
   },
   {
    "duration": 179,
    "start_time": "2025-05-05T00:56:00.359Z"
   },
   {
    "duration": 149,
    "start_time": "2025-05-05T00:56:39.058Z"
   },
   {
    "duration": 11,
    "start_time": "2025-05-05T00:59:56.064Z"
   },
   {
    "duration": 7,
    "start_time": "2025-05-05T01:02:15.225Z"
   },
   {
    "duration": 34,
    "start_time": "2025-05-05T01:02:42.945Z"
   },
   {
    "duration": 173,
    "start_time": "2025-05-05T01:03:07.294Z"
   },
   {
    "duration": 8,
    "start_time": "2025-05-05T01:03:11.051Z"
   },
   {
    "duration": 74,
    "start_time": "2025-05-05T01:17:33.850Z"
   },
   {
    "duration": 14,
    "start_time": "2025-05-05T01:17:53.222Z"
   },
   {
    "duration": 829,
    "start_time": "2025-05-05T01:18:19.597Z"
   },
   {
    "duration": 747,
    "start_time": "2025-05-05T01:18:27.776Z"
   },
   {
    "duration": 7,
    "start_time": "2025-05-05T01:18:38.909Z"
   },
   {
    "duration": 7,
    "start_time": "2025-05-05T01:18:59.361Z"
   },
   {
    "duration": 7,
    "start_time": "2025-05-05T01:19:24.887Z"
   },
   {
    "duration": 14,
    "start_time": "2025-05-05T01:19:42.350Z"
   },
   {
    "duration": 18,
    "start_time": "2025-05-05T01:22:17.965Z"
   },
   {
    "duration": 20,
    "start_time": "2025-05-05T01:23:16.712Z"
   },
   {
    "duration": 23,
    "start_time": "2025-05-05T01:23:18.732Z"
   },
   {
    "duration": 74,
    "start_time": "2025-05-05T01:23:20.752Z"
   },
   {
    "duration": 18,
    "start_time": "2025-05-05T01:23:46.396Z"
   },
   {
    "duration": 112,
    "start_time": "2025-05-05T01:47:40.247Z"
   },
   {
    "duration": 1708,
    "start_time": "2025-05-05T01:50:09.265Z"
   },
   {
    "duration": 12,
    "start_time": "2025-05-05T01:50:24.714Z"
   },
   {
    "duration": 11,
    "start_time": "2025-05-05T01:50:35.181Z"
   },
   {
    "duration": 16,
    "start_time": "2025-05-05T01:50:58.716Z"
   },
   {
    "duration": 14,
    "start_time": "2025-05-05T01:51:49.246Z"
   },
   {
    "duration": 16,
    "start_time": "2025-05-05T01:55:51.440Z"
   },
   {
    "duration": 16,
    "start_time": "2025-05-05T01:55:59.413Z"
   },
   {
    "duration": 16,
    "start_time": "2025-05-05T01:56:03.005Z"
   },
   {
    "duration": 14,
    "start_time": "2025-05-05T01:56:14.235Z"
   },
   {
    "duration": 16,
    "start_time": "2025-05-05T01:57:36.221Z"
   },
   {
    "duration": 1059,
    "start_time": "2025-05-05T01:57:55.532Z"
   },
   {
    "duration": 16,
    "start_time": "2025-05-05T01:58:57.455Z"
   },
   {
    "duration": 12,
    "start_time": "2025-05-05T02:00:53.684Z"
   },
   {
    "duration": 10,
    "start_time": "2025-05-05T02:01:24.045Z"
   },
   {
    "duration": 12,
    "start_time": "2025-05-05T02:01:36.895Z"
   },
   {
    "duration": 263,
    "start_time": "2025-05-05T02:09:32.158Z"
   },
   {
    "duration": 257,
    "start_time": "2025-05-05T02:10:02.437Z"
   },
   {
    "duration": 251,
    "start_time": "2025-05-05T02:10:08.329Z"
   },
   {
    "duration": 9,
    "start_time": "2025-05-05T02:10:26.513Z"
   },
   {
    "duration": 12,
    "start_time": "2025-05-05T02:10:32.116Z"
   },
   {
    "duration": 166,
    "start_time": "2025-05-05T02:12:33.996Z"
   },
   {
    "duration": 182,
    "start_time": "2025-05-05T02:12:45.531Z"
   },
   {
    "duration": 203,
    "start_time": "2025-05-05T02:12:48.773Z"
   },
   {
    "duration": 239,
    "start_time": "2025-05-05T02:12:55.673Z"
   },
   {
    "duration": 269,
    "start_time": "2025-05-05T02:12:59.750Z"
   },
   {
    "duration": 224,
    "start_time": "2025-05-05T02:13:05.401Z"
   },
   {
    "duration": 234,
    "start_time": "2025-05-05T02:13:35.897Z"
   },
   {
    "duration": 350,
    "start_time": "2025-05-05T02:15:26.158Z"
   },
   {
    "duration": 234,
    "start_time": "2025-05-05T02:16:04.489Z"
   },
   {
    "duration": 239,
    "start_time": "2025-05-05T02:18:11.049Z"
   },
   {
    "duration": 3,
    "start_time": "2025-05-05T02:48:23.670Z"
   },
   {
    "duration": 5,
    "start_time": "2025-05-05T02:48:28.650Z"
   },
   {
    "duration": 4,
    "start_time": "2025-05-05T02:50:09.770Z"
   },
   {
    "duration": 12,
    "start_time": "2025-05-05T03:02:45.783Z"
   },
   {
    "duration": 14,
    "start_time": "2025-05-05T03:02:52.821Z"
   },
   {
    "duration": 59,
    "start_time": "2025-05-05T03:03:18.640Z"
   },
   {
    "duration": 80,
    "start_time": "2025-05-05T03:04:53.018Z"
   },
   {
    "duration": 12,
    "start_time": "2025-05-05T03:07:50.496Z"
   },
   {
    "duration": 27,
    "start_time": "2025-05-05T03:08:30.187Z"
   },
   {
    "duration": 63,
    "start_time": "2025-05-05T03:09:15.141Z"
   },
   {
    "duration": 5,
    "start_time": "2025-05-05T03:09:59.405Z"
   },
   {
    "duration": 7,
    "start_time": "2025-05-05T03:12:55.401Z"
   },
   {
    "duration": 10,
    "start_time": "2025-05-05T03:13:01.545Z"
   },
   {
    "duration": 9,
    "start_time": "2025-05-05T03:13:35.966Z"
   },
   {
    "duration": 9,
    "start_time": "2025-05-05T03:33:45.773Z"
   },
   {
    "duration": 5,
    "start_time": "2025-05-05T03:33:55.989Z"
   },
   {
    "duration": 5,
    "start_time": "2025-05-05T03:34:00.011Z"
   },
   {
    "duration": 7,
    "start_time": "2025-05-05T03:34:02.215Z"
   },
   {
    "duration": 6,
    "start_time": "2025-05-05T03:34:27.860Z"
   },
   {
    "duration": 7,
    "start_time": "2025-05-05T03:35:17.654Z"
   },
   {
    "duration": 7,
    "start_time": "2025-05-05T03:35:31.061Z"
   },
   {
    "duration": 6,
    "start_time": "2025-05-05T03:35:40.886Z"
   },
   {
    "duration": 7,
    "start_time": "2025-05-05T03:35:45.156Z"
   },
   {
    "duration": 6,
    "start_time": "2025-05-05T03:35:56.171Z"
   },
   {
    "duration": 7,
    "start_time": "2025-05-05T03:36:01.990Z"
   },
   {
    "duration": 7,
    "start_time": "2025-05-05T03:36:05.976Z"
   },
   {
    "duration": 7,
    "start_time": "2025-05-05T03:36:10.983Z"
   },
   {
    "duration": 6,
    "start_time": "2025-05-05T03:36:22.993Z"
   },
   {
    "duration": 7,
    "start_time": "2025-05-05T03:36:32.527Z"
   },
   {
    "duration": 7,
    "start_time": "2025-05-05T03:36:36.678Z"
   },
   {
    "duration": 72,
    "start_time": "2025-05-05T03:55:04.670Z"
   },
   {
    "duration": 26,
    "start_time": "2025-05-05T03:55:15.144Z"
   },
   {
    "duration": 25,
    "start_time": "2025-05-05T03:55:39.318Z"
   },
   {
    "duration": 55,
    "start_time": "2025-05-05T04:11:06.383Z"
   },
   {
    "duration": 25,
    "start_time": "2025-05-05T04:11:58.000Z"
   },
   {
    "duration": 41,
    "start_time": "2025-05-05T04:12:21.109Z"
   },
   {
    "duration": 1259,
    "start_time": "2025-05-05T04:12:43.052Z"
   },
   {
    "duration": 2261,
    "start_time": "2025-05-05T04:12:44.313Z"
   },
   {
    "duration": 13,
    "start_time": "2025-05-05T04:12:46.576Z"
   },
   {
    "duration": 14,
    "start_time": "2025-05-05T04:12:46.592Z"
   },
   {
    "duration": 132,
    "start_time": "2025-05-05T04:12:46.608Z"
   },
   {
    "duration": 29,
    "start_time": "2025-05-05T04:12:46.742Z"
   },
   {
    "duration": 43,
    "start_time": "2025-05-05T04:12:46.773Z"
   },
   {
    "duration": 10,
    "start_time": "2025-05-05T04:12:46.818Z"
   },
   {
    "duration": 47,
    "start_time": "2025-05-05T04:12:46.829Z"
   },
   {
    "duration": 8,
    "start_time": "2025-05-05T04:12:46.879Z"
   },
   {
    "duration": 31,
    "start_time": "2025-05-05T04:12:46.889Z"
   },
   {
    "duration": 9,
    "start_time": "2025-05-05T04:12:46.922Z"
   },
   {
    "duration": 59,
    "start_time": "2025-05-05T04:12:46.933Z"
   },
   {
    "duration": 169,
    "start_time": "2025-05-05T04:12:46.994Z"
   },
   {
    "duration": 13,
    "start_time": "2025-05-05T04:12:47.164Z"
   },
   {
    "duration": 50,
    "start_time": "2025-05-05T04:12:47.178Z"
   },
   {
    "duration": 48,
    "start_time": "2025-05-05T04:12:47.229Z"
   },
   {
    "duration": 28,
    "start_time": "2025-05-05T04:12:47.278Z"
   },
   {
    "duration": 17,
    "start_time": "2025-05-05T04:12:47.308Z"
   },
   {
    "duration": 247,
    "start_time": "2025-05-05T04:12:47.326Z"
   },
   {
    "duration": 32,
    "start_time": "2025-05-05T04:12:47.575Z"
   },
   {
    "duration": 14,
    "start_time": "2025-05-05T04:12:47.609Z"
   },
   {
    "duration": 39,
    "start_time": "2025-05-05T04:12:47.624Z"
   },
   {
    "duration": 161,
    "start_time": "2025-05-05T04:12:47.665Z"
   },
   {
    "duration": 85,
    "start_time": "2025-05-05T04:12:47.828Z"
   },
   {
    "duration": 34,
    "start_time": "2025-05-05T04:12:47.914Z"
   },
   {
    "duration": 78,
    "start_time": "2025-05-05T04:12:47.962Z"
   },
   {
    "duration": 24,
    "start_time": "2025-05-05T04:12:48.060Z"
   },
   {
    "duration": 42,
    "start_time": "2025-05-05T04:12:48.086Z"
   },
   {
    "duration": 116,
    "start_time": "2025-05-05T04:12:48.130Z"
   },
   {
    "duration": 42,
    "start_time": "2025-05-05T04:12:48.248Z"
   },
   {
    "duration": 88,
    "start_time": "2025-05-05T04:12:48.292Z"
   },
   {
    "duration": 194,
    "start_time": "2025-05-05T04:12:48.382Z"
   },
   {
    "duration": 21,
    "start_time": "2025-05-05T04:12:48.578Z"
   },
   {
    "duration": 5,
    "start_time": "2025-05-05T04:12:48.601Z"
   },
   {
    "duration": 13,
    "start_time": "2025-05-05T04:12:48.607Z"
   },
   {
    "duration": 62,
    "start_time": "2025-05-05T04:12:48.622Z"
   },
   {
    "duration": 81,
    "start_time": "2025-05-05T04:12:48.686Z"
   },
   {
    "duration": 725,
    "start_time": "2025-05-05T04:12:48.769Z"
   },
   {
    "duration": 391,
    "start_time": "2025-05-05T04:12:49.496Z"
   },
   {
    "duration": 134,
    "start_time": "2025-05-05T04:12:49.889Z"
   },
   {
    "duration": 22,
    "start_time": "2025-05-05T04:12:50.025Z"
   },
   {
    "duration": 31,
    "start_time": "2025-05-05T04:12:50.060Z"
   },
   {
    "duration": 79,
    "start_time": "2025-05-05T04:12:50.092Z"
   },
   {
    "duration": 89,
    "start_time": "2025-05-05T04:12:50.173Z"
   },
   {
    "duration": 418,
    "start_time": "2025-05-05T04:12:50.264Z"
   },
   {
    "duration": 203,
    "start_time": "2025-05-05T04:12:50.683Z"
   },
   {
    "duration": 51,
    "start_time": "2025-05-05T04:12:50.888Z"
   },
   {
    "duration": 147,
    "start_time": "2025-05-05T04:12:50.941Z"
   },
   {
    "duration": 92,
    "start_time": "2025-05-05T04:12:51.090Z"
   },
   {
    "duration": 270,
    "start_time": "2025-05-05T04:12:51.184Z"
   },
   {
    "duration": 104,
    "start_time": "2025-05-05T04:12:51.456Z"
   },
   {
    "duration": 205,
    "start_time": "2025-05-05T04:12:51.562Z"
   },
   {
    "duration": 8,
    "start_time": "2025-05-05T04:12:51.768Z"
   },
   {
    "duration": 113,
    "start_time": "2025-05-05T04:12:51.777Z"
   },
   {
    "duration": 6,
    "start_time": "2025-05-05T04:12:51.892Z"
   },
   {
    "duration": 6,
    "start_time": "2025-05-05T04:12:51.900Z"
   },
   {
    "duration": 14,
    "start_time": "2025-05-05T04:12:51.908Z"
   },
   {
    "duration": 43,
    "start_time": "2025-05-05T04:12:51.923Z"
   },
   {
    "duration": 21,
    "start_time": "2025-05-05T04:12:51.968Z"
   },
   {
    "duration": 26,
    "start_time": "2025-05-05T04:12:51.991Z"
   },
   {
    "duration": 49,
    "start_time": "2025-05-05T04:12:52.019Z"
   },
   {
    "duration": 253,
    "start_time": "2025-05-05T04:12:52.070Z"
   },
   {
    "duration": 11,
    "start_time": "2025-05-05T04:12:52.325Z"
   },
   {
    "duration": 46,
    "start_time": "2025-05-05T04:12:52.338Z"
   },
   {
    "duration": 5,
    "start_time": "2025-05-05T04:12:52.386Z"
   },
   {
    "duration": 67,
    "start_time": "2025-05-05T04:12:52.393Z"
   },
   {
    "duration": 6,
    "start_time": "2025-05-05T04:12:52.462Z"
   },
   {
    "duration": 40,
    "start_time": "2025-05-05T04:12:52.470Z"
   },
   {
    "duration": 26,
    "start_time": "2025-05-05T04:12:52.512Z"
   },
   {
    "duration": 148,
    "start_time": "2025-05-05T04:12:52.540Z"
   },
   {
    "duration": 13,
    "start_time": "2025-05-05T04:12:57.413Z"
   },
   {
    "duration": 10,
    "start_time": "2025-05-05T04:13:16.365Z"
   },
   {
    "duration": 12,
    "start_time": "2025-05-05T04:15:56.092Z"
   },
   {
    "duration": 108,
    "start_time": "2025-05-05T04:16:44.352Z"
   },
   {
    "duration": 4,
    "start_time": "2025-05-05T04:16:52.654Z"
   },
   {
    "duration": 14,
    "start_time": "2025-05-05T04:16:57.528Z"
   },
   {
    "duration": 10,
    "start_time": "2025-05-05T04:17:10.178Z"
   },
   {
    "duration": 10,
    "start_time": "2025-05-05T04:17:13.928Z"
   },
   {
    "duration": 7,
    "start_time": "2025-05-05T04:30:22.364Z"
   },
   {
    "duration": 18,
    "start_time": "2025-05-05T04:30:26.135Z"
   },
   {
    "duration": 14,
    "start_time": "2025-05-05T04:34:31.464Z"
   },
   {
    "duration": 14,
    "start_time": "2025-05-05T04:34:35.206Z"
   },
   {
    "duration": 1249,
    "start_time": "2025-05-05T04:36:03.561Z"
   },
   {
    "duration": 2567,
    "start_time": "2025-05-05T04:36:04.812Z"
   },
   {
    "duration": 15,
    "start_time": "2025-05-05T04:36:07.380Z"
   },
   {
    "duration": 13,
    "start_time": "2025-05-05T04:36:07.397Z"
   },
   {
    "duration": 125,
    "start_time": "2025-05-05T04:36:07.412Z"
   },
   {
    "duration": 34,
    "start_time": "2025-05-05T04:36:07.539Z"
   },
   {
    "duration": 43,
    "start_time": "2025-05-05T04:36:07.575Z"
   },
   {
    "duration": 10,
    "start_time": "2025-05-05T04:36:07.620Z"
   },
   {
    "duration": 48,
    "start_time": "2025-05-05T04:36:07.632Z"
   },
   {
    "duration": 9,
    "start_time": "2025-05-05T04:36:07.683Z"
   },
   {
    "duration": 37,
    "start_time": "2025-05-05T04:36:07.694Z"
   },
   {
    "duration": 34,
    "start_time": "2025-05-05T04:36:07.733Z"
   },
   {
    "duration": 40,
    "start_time": "2025-05-05T04:36:07.769Z"
   },
   {
    "duration": 166,
    "start_time": "2025-05-05T04:36:07.811Z"
   },
   {
    "duration": 13,
    "start_time": "2025-05-05T04:36:07.979Z"
   },
   {
    "duration": 67,
    "start_time": "2025-05-05T04:36:07.994Z"
   },
   {
    "duration": 23,
    "start_time": "2025-05-05T04:36:08.063Z"
   },
   {
    "duration": 28,
    "start_time": "2025-05-05T04:36:08.088Z"
   },
   {
    "duration": 15,
    "start_time": "2025-05-05T04:36:08.118Z"
   },
   {
    "duration": 230,
    "start_time": "2025-05-05T04:36:08.161Z"
   },
   {
    "duration": 33,
    "start_time": "2025-05-05T04:36:08.393Z"
   },
   {
    "duration": 14,
    "start_time": "2025-05-05T04:36:08.428Z"
   },
   {
    "duration": 15,
    "start_time": "2025-05-05T04:36:08.460Z"
   },
   {
    "duration": 167,
    "start_time": "2025-05-05T04:36:08.477Z"
   },
   {
    "duration": 78,
    "start_time": "2025-05-05T04:36:08.646Z"
   },
   {
    "duration": 47,
    "start_time": "2025-05-05T04:36:08.726Z"
   },
   {
    "duration": 112,
    "start_time": "2025-05-05T04:36:08.774Z"
   },
   {
    "duration": 24,
    "start_time": "2025-05-05T04:36:08.892Z"
   },
   {
    "duration": 61,
    "start_time": "2025-05-05T04:36:08.918Z"
   },
   {
    "duration": 133,
    "start_time": "2025-05-05T04:36:08.981Z"
   },
   {
    "duration": 34,
    "start_time": "2025-05-05T04:36:09.116Z"
   },
   {
    "duration": 69,
    "start_time": "2025-05-05T04:36:09.160Z"
   },
   {
    "duration": 206,
    "start_time": "2025-05-05T04:36:09.230Z"
   },
   {
    "duration": 31,
    "start_time": "2025-05-05T04:36:09.437Z"
   },
   {
    "duration": 4,
    "start_time": "2025-05-05T04:36:09.470Z"
   },
   {
    "duration": 13,
    "start_time": "2025-05-05T04:36:09.476Z"
   },
   {
    "duration": 32,
    "start_time": "2025-05-05T04:36:09.491Z"
   },
   {
    "duration": 111,
    "start_time": "2025-05-05T04:36:09.525Z"
   },
   {
    "duration": 685,
    "start_time": "2025-05-05T04:36:09.638Z"
   },
   {
    "duration": 409,
    "start_time": "2025-05-05T04:36:10.325Z"
   },
   {
    "duration": 138,
    "start_time": "2025-05-05T04:36:10.736Z"
   },
   {
    "duration": 21,
    "start_time": "2025-05-05T04:36:10.875Z"
   },
   {
    "duration": 37,
    "start_time": "2025-05-05T04:36:10.898Z"
   },
   {
    "duration": 84,
    "start_time": "2025-05-05T04:36:10.937Z"
   },
   {
    "duration": 94,
    "start_time": "2025-05-05T04:36:11.022Z"
   },
   {
    "duration": 413,
    "start_time": "2025-05-05T04:36:11.118Z"
   },
   {
    "duration": 201,
    "start_time": "2025-05-05T04:36:11.533Z"
   },
   {
    "duration": 57,
    "start_time": "2025-05-05T04:36:11.736Z"
   },
   {
    "duration": 129,
    "start_time": "2025-05-05T04:36:11.795Z"
   },
   {
    "duration": 87,
    "start_time": "2025-05-05T04:36:11.925Z"
   },
   {
    "duration": 267,
    "start_time": "2025-05-05T04:36:12.014Z"
   },
   {
    "duration": 98,
    "start_time": "2025-05-05T04:36:12.283Z"
   },
   {
    "duration": 213,
    "start_time": "2025-05-05T04:36:12.383Z"
   },
   {
    "duration": 8,
    "start_time": "2025-05-05T04:36:12.597Z"
   },
   {
    "duration": 65,
    "start_time": "2025-05-05T04:36:12.606Z"
   },
   {
    "duration": 7,
    "start_time": "2025-05-05T04:36:12.672Z"
   },
   {
    "duration": 133,
    "start_time": "2025-05-05T04:36:12.681Z"
   },
   {
    "duration": 27,
    "start_time": "2025-05-05T04:36:12.816Z"
   },
   {
    "duration": 18,
    "start_time": "2025-05-05T04:36:12.845Z"
   },
   {
    "duration": 19,
    "start_time": "2025-05-05T04:36:12.865Z"
   },
   {
    "duration": 24,
    "start_time": "2025-05-05T04:36:12.886Z"
   },
   {
    "duration": 19,
    "start_time": "2025-05-05T04:36:12.912Z"
   },
   {
    "duration": 270,
    "start_time": "2025-05-05T04:36:12.932Z"
   },
   {
    "duration": 9,
    "start_time": "2025-05-05T04:36:13.204Z"
   },
   {
    "duration": 5,
    "start_time": "2025-05-05T04:36:13.215Z"
   },
   {
    "duration": 7,
    "start_time": "2025-05-05T04:36:13.221Z"
   },
   {
    "duration": 89,
    "start_time": "2025-05-05T04:36:13.230Z"
   },
   {
    "duration": 6,
    "start_time": "2025-05-05T04:36:13.321Z"
   },
   {
    "duration": 9,
    "start_time": "2025-05-05T04:36:13.329Z"
   },
   {
    "duration": 25,
    "start_time": "2025-05-05T04:36:13.360Z"
   },
   {
    "duration": 162,
    "start_time": "2025-05-05T04:36:13.388Z"
   },
   {
    "duration": 18,
    "start_time": "2025-05-05T04:36:13.552Z"
   },
   {
    "duration": 12,
    "start_time": "2025-05-05T04:36:13.571Z"
   },
   {
    "duration": 27,
    "start_time": "2025-05-05T04:37:05.481Z"
   },
   {
    "duration": 6,
    "start_time": "2025-05-05T04:38:10.698Z"
   },
   {
    "duration": 8,
    "start_time": "2025-05-05T04:38:21.740Z"
   },
   {
    "duration": 1234,
    "start_time": "2025-05-05T04:42:06.424Z"
   },
   {
    "duration": 5,
    "start_time": "2025-05-05T04:42:13.929Z"
   },
   {
    "duration": 25,
    "start_time": "2025-05-05T04:44:05.642Z"
   },
   {
    "duration": 12,
    "start_time": "2025-05-05T04:46:55.002Z"
   },
   {
    "duration": 16,
    "start_time": "2025-05-05T04:48:09.484Z"
   },
   {
    "duration": 1551,
    "start_time": "2025-05-05T04:56:45.504Z"
   },
   {
    "duration": 1331,
    "start_time": "2025-05-05T04:57:04.375Z"
   },
   {
    "duration": 2241,
    "start_time": "2025-05-05T04:57:05.708Z"
   },
   {
    "duration": 15,
    "start_time": "2025-05-05T04:57:07.951Z"
   },
   {
    "duration": 14,
    "start_time": "2025-05-05T04:57:07.968Z"
   },
   {
    "duration": 121,
    "start_time": "2025-05-05T04:57:07.984Z"
   },
   {
    "duration": 27,
    "start_time": "2025-05-05T04:57:08.107Z"
   },
   {
    "duration": 58,
    "start_time": "2025-05-05T04:57:08.136Z"
   },
   {
    "duration": 10,
    "start_time": "2025-05-05T04:57:08.196Z"
   },
   {
    "duration": 21,
    "start_time": "2025-05-05T04:57:08.207Z"
   },
   {
    "duration": 35,
    "start_time": "2025-05-05T04:57:08.231Z"
   },
   {
    "duration": 25,
    "start_time": "2025-05-05T04:57:08.268Z"
   },
   {
    "duration": 9,
    "start_time": "2025-05-05T04:57:08.295Z"
   },
   {
    "duration": 60,
    "start_time": "2025-05-05T04:57:08.306Z"
   },
   {
    "duration": 160,
    "start_time": "2025-05-05T04:57:08.367Z"
   },
   {
    "duration": 12,
    "start_time": "2025-05-05T04:57:08.529Z"
   },
   {
    "duration": 60,
    "start_time": "2025-05-05T04:57:08.542Z"
   },
   {
    "duration": 21,
    "start_time": "2025-05-05T04:57:08.604Z"
   },
   {
    "duration": 44,
    "start_time": "2025-05-05T04:57:08.627Z"
   },
   {
    "duration": 16,
    "start_time": "2025-05-05T04:57:08.673Z"
   },
   {
    "duration": 238,
    "start_time": "2025-05-05T04:57:08.691Z"
   },
   {
    "duration": 39,
    "start_time": "2025-05-05T04:57:08.931Z"
   },
   {
    "duration": 24,
    "start_time": "2025-05-05T04:57:08.972Z"
   },
   {
    "duration": 14,
    "start_time": "2025-05-05T04:57:08.998Z"
   },
   {
    "duration": 188,
    "start_time": "2025-05-05T04:57:09.015Z"
   },
   {
    "duration": 84,
    "start_time": "2025-05-05T04:57:09.205Z"
   },
   {
    "duration": 34,
    "start_time": "2025-05-05T04:57:09.290Z"
   },
   {
    "duration": 91,
    "start_time": "2025-05-05T04:57:09.326Z"
   },
   {
    "duration": 23,
    "start_time": "2025-05-05T04:57:09.421Z"
   },
   {
    "duration": 53,
    "start_time": "2025-05-05T04:57:09.446Z"
   },
   {
    "duration": 110,
    "start_time": "2025-05-05T04:57:09.501Z"
   },
   {
    "duration": 34,
    "start_time": "2025-05-05T04:57:09.612Z"
   },
   {
    "duration": 78,
    "start_time": "2025-05-05T04:57:09.648Z"
   },
   {
    "duration": 203,
    "start_time": "2025-05-05T04:57:09.728Z"
   },
   {
    "duration": 37,
    "start_time": "2025-05-05T04:57:09.932Z"
   },
   {
    "duration": 5,
    "start_time": "2025-05-05T04:57:09.970Z"
   },
   {
    "duration": 15,
    "start_time": "2025-05-05T04:57:09.977Z"
   },
   {
    "duration": 35,
    "start_time": "2025-05-05T04:57:09.994Z"
   },
   {
    "duration": 106,
    "start_time": "2025-05-05T04:57:10.030Z"
   },
   {
    "duration": 700,
    "start_time": "2025-05-05T04:57:10.138Z"
   },
   {
    "duration": 421,
    "start_time": "2025-05-05T04:57:10.840Z"
   },
   {
    "duration": 144,
    "start_time": "2025-05-05T04:57:11.263Z"
   },
   {
    "duration": 22,
    "start_time": "2025-05-05T04:57:11.410Z"
   },
   {
    "duration": 48,
    "start_time": "2025-05-05T04:57:11.434Z"
   },
   {
    "duration": 83,
    "start_time": "2025-05-05T04:57:11.484Z"
   },
   {
    "duration": 91,
    "start_time": "2025-05-05T04:57:11.569Z"
   },
   {
    "duration": 407,
    "start_time": "2025-05-05T04:57:11.662Z"
   },
   {
    "duration": 206,
    "start_time": "2025-05-05T04:57:12.071Z"
   },
   {
    "duration": 51,
    "start_time": "2025-05-05T04:57:12.279Z"
   },
   {
    "duration": 144,
    "start_time": "2025-05-05T04:57:12.332Z"
   },
   {
    "duration": 89,
    "start_time": "2025-05-05T04:57:12.478Z"
   },
   {
    "duration": 271,
    "start_time": "2025-05-05T04:57:12.570Z"
   },
   {
    "duration": 112,
    "start_time": "2025-05-05T04:57:12.844Z"
   },
   {
    "duration": 207,
    "start_time": "2025-05-05T04:57:12.958Z"
   },
   {
    "duration": 9,
    "start_time": "2025-05-05T04:57:13.167Z"
   },
   {
    "duration": 84,
    "start_time": "2025-05-05T04:57:13.178Z"
   },
   {
    "duration": 9,
    "start_time": "2025-05-05T04:57:13.264Z"
   },
   {
    "duration": 8,
    "start_time": "2025-05-05T04:57:13.275Z"
   },
   {
    "duration": 15,
    "start_time": "2025-05-05T04:57:13.285Z"
   },
   {
    "duration": 19,
    "start_time": "2025-05-05T04:57:13.302Z"
   },
   {
    "duration": 20,
    "start_time": "2025-05-05T04:57:13.361Z"
   },
   {
    "duration": 25,
    "start_time": "2025-05-05T04:57:13.383Z"
   },
   {
    "duration": 20,
    "start_time": "2025-05-05T04:57:13.410Z"
   },
   {
    "duration": 250,
    "start_time": "2025-05-05T04:57:13.461Z"
   },
   {
    "duration": 13,
    "start_time": "2025-05-05T04:57:13.713Z"
   },
   {
    "duration": 5,
    "start_time": "2025-05-05T04:57:13.729Z"
   },
   {
    "duration": 26,
    "start_time": "2025-05-05T04:57:13.736Z"
   },
   {
    "duration": 62,
    "start_time": "2025-05-05T04:57:13.763Z"
   },
   {
    "duration": 5,
    "start_time": "2025-05-05T04:57:13.826Z"
   },
   {
    "duration": 32,
    "start_time": "2025-05-05T04:57:13.833Z"
   },
   {
    "duration": 23,
    "start_time": "2025-05-05T04:57:13.867Z"
   },
   {
    "duration": 201,
    "start_time": "2025-05-05T04:57:13.891Z"
   },
   {
    "duration": 12,
    "start_time": "2025-05-05T04:57:14.094Z"
   },
   {
    "duration": 12,
    "start_time": "2025-05-05T04:57:14.107Z"
   },
   {
    "duration": 23,
    "start_time": "2025-05-05T04:57:14.120Z"
   },
   {
    "duration": 1345,
    "start_time": "2025-05-05T04:57:50.166Z"
   },
   {
    "duration": 1948,
    "start_time": "2025-05-05T04:57:51.513Z"
   },
   {
    "duration": 14,
    "start_time": "2025-05-05T04:57:53.463Z"
   },
   {
    "duration": 13,
    "start_time": "2025-05-05T04:57:53.480Z"
   },
   {
    "duration": 129,
    "start_time": "2025-05-05T04:57:53.495Z"
   },
   {
    "duration": 37,
    "start_time": "2025-05-05T04:57:53.625Z"
   },
   {
    "duration": 43,
    "start_time": "2025-05-05T04:57:53.663Z"
   },
   {
    "duration": 11,
    "start_time": "2025-05-05T04:57:53.708Z"
   },
   {
    "duration": 49,
    "start_time": "2025-05-05T04:57:53.721Z"
   },
   {
    "duration": 9,
    "start_time": "2025-05-05T04:57:53.773Z"
   },
   {
    "duration": 34,
    "start_time": "2025-05-05T04:57:53.784Z"
   },
   {
    "duration": 18,
    "start_time": "2025-05-05T04:57:53.821Z"
   },
   {
    "duration": 48,
    "start_time": "2025-05-05T04:57:53.841Z"
   },
   {
    "duration": 179,
    "start_time": "2025-05-05T04:57:53.891Z"
   },
   {
    "duration": 14,
    "start_time": "2025-05-05T04:57:54.072Z"
   },
   {
    "duration": 72,
    "start_time": "2025-05-05T04:57:54.088Z"
   },
   {
    "duration": 23,
    "start_time": "2025-05-05T04:57:54.162Z"
   },
   {
    "duration": 28,
    "start_time": "2025-05-05T04:57:54.187Z"
   },
   {
    "duration": 44,
    "start_time": "2025-05-05T04:57:54.217Z"
   },
   {
    "duration": 222,
    "start_time": "2025-05-05T04:57:54.263Z"
   },
   {
    "duration": 33,
    "start_time": "2025-05-05T04:57:54.487Z"
   },
   {
    "duration": 15,
    "start_time": "2025-05-05T04:57:54.522Z"
   },
   {
    "duration": 14,
    "start_time": "2025-05-05T04:57:54.560Z"
   },
   {
    "duration": 177,
    "start_time": "2025-05-05T04:57:54.575Z"
   },
   {
    "duration": 81,
    "start_time": "2025-05-05T04:57:54.753Z"
   },
   {
    "duration": 53,
    "start_time": "2025-05-05T04:57:54.835Z"
   },
   {
    "duration": 91,
    "start_time": "2025-05-05T04:57:54.890Z"
   },
   {
    "duration": 25,
    "start_time": "2025-05-05T04:57:54.985Z"
   },
   {
    "duration": 59,
    "start_time": "2025-05-05T04:57:55.011Z"
   },
   {
    "duration": 101,
    "start_time": "2025-05-05T04:57:55.071Z"
   },
   {
    "duration": 34,
    "start_time": "2025-05-05T04:57:55.174Z"
   },
   {
    "duration": 91,
    "start_time": "2025-05-05T04:57:55.210Z"
   },
   {
    "duration": 200,
    "start_time": "2025-05-05T04:57:55.302Z"
   },
   {
    "duration": 22,
    "start_time": "2025-05-05T04:57:55.504Z"
   },
   {
    "duration": 5,
    "start_time": "2025-05-05T04:57:55.528Z"
   },
   {
    "duration": 35,
    "start_time": "2025-05-05T04:57:55.534Z"
   },
   {
    "duration": 34,
    "start_time": "2025-05-05T04:57:55.571Z"
   },
   {
    "duration": 105,
    "start_time": "2025-05-05T04:57:55.606Z"
   },
   {
    "duration": 700,
    "start_time": "2025-05-05T04:57:55.713Z"
   },
   {
    "duration": 416,
    "start_time": "2025-05-05T04:57:56.415Z"
   },
   {
    "duration": 143,
    "start_time": "2025-05-05T04:57:56.833Z"
   },
   {
    "duration": 22,
    "start_time": "2025-05-05T04:57:56.978Z"
   },
   {
    "duration": 33,
    "start_time": "2025-05-05T04:57:57.002Z"
   },
   {
    "duration": 85,
    "start_time": "2025-05-05T04:57:57.036Z"
   },
   {
    "duration": 94,
    "start_time": "2025-05-05T04:57:57.123Z"
   },
   {
    "duration": 406,
    "start_time": "2025-05-05T04:57:57.219Z"
   },
   {
    "duration": 209,
    "start_time": "2025-05-05T04:57:57.627Z"
   },
   {
    "duration": 58,
    "start_time": "2025-05-05T04:57:57.837Z"
   },
   {
    "duration": 131,
    "start_time": "2025-05-05T04:57:57.897Z"
   },
   {
    "duration": 84,
    "start_time": "2025-05-05T04:57:58.030Z"
   },
   {
    "duration": 270,
    "start_time": "2025-05-05T04:57:58.117Z"
   },
   {
    "duration": 104,
    "start_time": "2025-05-05T04:57:58.389Z"
   },
   {
    "duration": 207,
    "start_time": "2025-05-05T04:57:58.495Z"
   },
   {
    "duration": 8,
    "start_time": "2025-05-05T04:57:58.704Z"
   },
   {
    "duration": 81,
    "start_time": "2025-05-05T04:57:58.713Z"
   },
   {
    "duration": 7,
    "start_time": "2025-05-05T04:57:58.796Z"
   },
   {
    "duration": 57,
    "start_time": "2025-05-05T04:57:58.805Z"
   },
   {
    "duration": 15,
    "start_time": "2025-05-05T04:57:58.863Z"
   },
   {
    "duration": 18,
    "start_time": "2025-05-05T04:57:58.880Z"
   },
   {
    "duration": 19,
    "start_time": "2025-05-05T04:57:58.900Z"
   },
   {
    "duration": 51,
    "start_time": "2025-05-05T04:57:58.921Z"
   },
   {
    "duration": 21,
    "start_time": "2025-05-05T04:57:58.974Z"
   },
   {
    "duration": 280,
    "start_time": "2025-05-05T04:57:58.998Z"
   },
   {
    "duration": 12,
    "start_time": "2025-05-05T04:57:59.280Z"
   },
   {
    "duration": 5,
    "start_time": "2025-05-05T04:57:59.295Z"
   },
   {
    "duration": 14,
    "start_time": "2025-05-05T04:57:59.302Z"
   },
   {
    "duration": 90,
    "start_time": "2025-05-05T04:57:59.318Z"
   },
   {
    "duration": 6,
    "start_time": "2025-05-05T04:57:59.410Z"
   },
   {
    "duration": 9,
    "start_time": "2025-05-05T04:57:59.418Z"
   },
   {
    "duration": 50,
    "start_time": "2025-05-05T04:57:59.429Z"
   },
   {
    "duration": 160,
    "start_time": "2025-05-05T04:57:59.481Z"
   },
   {
    "duration": 19,
    "start_time": "2025-05-05T04:57:59.643Z"
   },
   {
    "duration": 37,
    "start_time": "2025-05-05T04:57:59.664Z"
   },
   {
    "duration": 17,
    "start_time": "2025-05-05T04:57:59.702Z"
   },
   {
    "duration": 17,
    "start_time": "2025-05-05T04:58:51.096Z"
   },
   {
    "duration": 16,
    "start_time": "2025-05-05T05:01:16.855Z"
   },
   {
    "duration": 15,
    "start_time": "2025-05-05T05:01:25.063Z"
   },
   {
    "duration": 17,
    "start_time": "2025-05-05T05:03:00.001Z"
   },
   {
    "duration": 4,
    "start_time": "2025-05-05T05:03:06.471Z"
   },
   {
    "duration": 15,
    "start_time": "2025-05-05T05:04:00.813Z"
   },
   {
    "duration": 1351,
    "start_time": "2025-05-05T05:04:09.657Z"
   },
   {
    "duration": 1996,
    "start_time": "2025-05-05T05:04:11.010Z"
   },
   {
    "duration": 13,
    "start_time": "2025-05-05T05:04:13.008Z"
   },
   {
    "duration": 13,
    "start_time": "2025-05-05T05:04:13.024Z"
   },
   {
    "duration": 124,
    "start_time": "2025-05-05T05:04:13.038Z"
   },
   {
    "duration": 26,
    "start_time": "2025-05-05T05:04:13.163Z"
   },
   {
    "duration": 47,
    "start_time": "2025-05-05T05:04:13.191Z"
   },
   {
    "duration": 26,
    "start_time": "2025-05-05T05:04:13.240Z"
   },
   {
    "duration": 22,
    "start_time": "2025-05-05T05:04:13.267Z"
   },
   {
    "duration": 8,
    "start_time": "2025-05-05T05:04:13.291Z"
   },
   {
    "duration": 26,
    "start_time": "2025-05-05T05:04:13.301Z"
   },
   {
    "duration": 9,
    "start_time": "2025-05-05T05:04:13.361Z"
   },
   {
    "duration": 45,
    "start_time": "2025-05-05T05:04:13.372Z"
   },
   {
    "duration": 163,
    "start_time": "2025-05-05T05:04:13.419Z"
   },
   {
    "duration": 13,
    "start_time": "2025-05-05T05:04:13.583Z"
   },
   {
    "duration": 64,
    "start_time": "2025-05-05T05:04:13.598Z"
   },
   {
    "duration": 22,
    "start_time": "2025-05-05T05:04:13.664Z"
   },
   {
    "duration": 29,
    "start_time": "2025-05-05T05:04:13.688Z"
   },
   {
    "duration": 43,
    "start_time": "2025-05-05T05:04:13.718Z"
   },
   {
    "duration": 228,
    "start_time": "2025-05-05T05:04:13.763Z"
   },
   {
    "duration": 33,
    "start_time": "2025-05-05T05:04:13.992Z"
   },
   {
    "duration": 14,
    "start_time": "2025-05-05T05:04:14.026Z"
   },
   {
    "duration": 14,
    "start_time": "2025-05-05T05:04:14.061Z"
   },
   {
    "duration": 167,
    "start_time": "2025-05-05T05:04:14.077Z"
   },
   {
    "duration": 81,
    "start_time": "2025-05-05T05:04:14.246Z"
   },
   {
    "duration": 48,
    "start_time": "2025-05-05T05:04:14.328Z"
   },
   {
    "duration": 89,
    "start_time": "2025-05-05T05:04:14.377Z"
   },
   {
    "duration": 24,
    "start_time": "2025-05-05T05:04:14.470Z"
   },
   {
    "duration": 42,
    "start_time": "2025-05-05T05:04:14.496Z"
   },
   {
    "duration": 102,
    "start_time": "2025-05-05T05:04:14.560Z"
   },
   {
    "duration": 33,
    "start_time": "2025-05-05T05:04:14.664Z"
   },
   {
    "duration": 88,
    "start_time": "2025-05-05T05:04:14.699Z"
   },
   {
    "duration": 200,
    "start_time": "2025-05-05T05:04:14.789Z"
   },
   {
    "duration": 22,
    "start_time": "2025-05-05T05:04:14.991Z"
   },
   {
    "duration": 18,
    "start_time": "2025-05-05T05:04:15.015Z"
   },
   {
    "duration": 28,
    "start_time": "2025-05-05T05:04:15.034Z"
   },
   {
    "duration": 89,
    "start_time": "2025-05-05T05:04:15.064Z"
   },
   {
    "duration": 135,
    "start_time": "2025-05-05T05:04:15.155Z"
   },
   {
    "duration": 718,
    "start_time": "2025-05-05T05:04:15.292Z"
   },
   {
    "duration": 411,
    "start_time": "2025-05-05T05:04:16.013Z"
   },
   {
    "duration": 142,
    "start_time": "2025-05-05T05:04:16.426Z"
   },
   {
    "duration": 22,
    "start_time": "2025-05-05T05:04:16.570Z"
   },
   {
    "duration": 93,
    "start_time": "2025-05-05T05:04:16.594Z"
   },
   {
    "duration": 72,
    "start_time": "2025-05-05T05:04:16.689Z"
   },
   {
    "duration": 83,
    "start_time": "2025-05-05T05:04:16.764Z"
   },
   {
    "duration": 444,
    "start_time": "2025-05-05T05:04:16.861Z"
   },
   {
    "duration": 210,
    "start_time": "2025-05-05T05:04:17.307Z"
   },
   {
    "duration": 65,
    "start_time": "2025-05-05T05:04:17.519Z"
   },
   {
    "duration": 130,
    "start_time": "2025-05-05T05:04:17.586Z"
   },
   {
    "duration": 95,
    "start_time": "2025-05-05T05:04:17.718Z"
   },
   {
    "duration": 269,
    "start_time": "2025-05-05T05:04:17.816Z"
   },
   {
    "duration": 106,
    "start_time": "2025-05-05T05:04:18.087Z"
   },
   {
    "duration": 209,
    "start_time": "2025-05-05T05:04:18.195Z"
   },
   {
    "duration": 9,
    "start_time": "2025-05-05T05:04:18.406Z"
   },
   {
    "duration": 85,
    "start_time": "2025-05-05T05:04:18.417Z"
   },
   {
    "duration": 8,
    "start_time": "2025-05-05T05:04:18.504Z"
   },
   {
    "duration": 7,
    "start_time": "2025-05-05T05:04:18.514Z"
   },
   {
    "duration": 38,
    "start_time": "2025-05-05T05:04:18.524Z"
   },
   {
    "duration": 20,
    "start_time": "2025-05-05T05:04:18.564Z"
   },
   {
    "duration": 63,
    "start_time": "2025-05-05T05:04:18.586Z"
   },
   {
    "duration": 25,
    "start_time": "2025-05-05T05:04:18.651Z"
   },
   {
    "duration": 19,
    "start_time": "2025-05-05T05:04:18.678Z"
   },
   {
    "duration": 262,
    "start_time": "2025-05-05T05:04:18.699Z"
   },
   {
    "duration": 14,
    "start_time": "2025-05-05T05:04:18.964Z"
   },
   {
    "duration": 6,
    "start_time": "2025-05-05T05:04:18.980Z"
   },
   {
    "duration": 5,
    "start_time": "2025-05-05T05:04:18.989Z"
   },
   {
    "duration": 99,
    "start_time": "2025-05-05T05:04:18.996Z"
   },
   {
    "duration": 5,
    "start_time": "2025-05-05T05:04:19.097Z"
   },
   {
    "duration": 10,
    "start_time": "2025-05-05T05:04:19.103Z"
   },
   {
    "duration": 23,
    "start_time": "2025-05-05T05:04:19.114Z"
   },
   {
    "duration": 144,
    "start_time": "2025-05-05T05:04:19.161Z"
   },
   {
    "duration": 12,
    "start_time": "2025-05-05T05:04:19.306Z"
   },
   {
    "duration": 19,
    "start_time": "2025-05-05T05:04:19.320Z"
   },
   {
    "duration": 30,
    "start_time": "2025-05-05T05:04:19.340Z"
   },
   {
    "duration": 15,
    "start_time": "2025-05-05T05:05:33.120Z"
   },
   {
    "duration": 14,
    "start_time": "2025-05-05T05:05:51.405Z"
   },
   {
    "duration": 13,
    "start_time": "2025-05-05T05:05:55.460Z"
   },
   {
    "duration": 1310,
    "start_time": "2025-05-05T05:06:01.402Z"
   },
   {
    "duration": 1872,
    "start_time": "2025-05-05T05:06:02.714Z"
   },
   {
    "duration": 14,
    "start_time": "2025-05-05T05:06:04.587Z"
   },
   {
    "duration": 51,
    "start_time": "2025-05-05T05:06:04.603Z"
   },
   {
    "duration": 103,
    "start_time": "2025-05-05T05:06:04.655Z"
   },
   {
    "duration": 26,
    "start_time": "2025-05-05T05:06:04.760Z"
   },
   {
    "duration": 110,
    "start_time": "2025-05-05T05:06:04.787Z"
   },
   {
    "duration": 10,
    "start_time": "2025-05-05T05:06:04.899Z"
   },
   {
    "duration": 22,
    "start_time": "2025-05-05T05:06:04.912Z"
   },
   {
    "duration": 24,
    "start_time": "2025-05-05T05:06:04.938Z"
   },
   {
    "duration": 28,
    "start_time": "2025-05-05T05:06:04.964Z"
   },
   {
    "duration": 10,
    "start_time": "2025-05-05T05:06:04.994Z"
   },
   {
    "duration": 65,
    "start_time": "2025-05-05T05:06:05.006Z"
   },
   {
    "duration": 162,
    "start_time": "2025-05-05T05:06:05.073Z"
   },
   {
    "duration": 24,
    "start_time": "2025-05-05T05:06:05.237Z"
   },
   {
    "duration": 49,
    "start_time": "2025-05-05T05:06:05.264Z"
   },
   {
    "duration": 46,
    "start_time": "2025-05-05T05:06:05.315Z"
   },
   {
    "duration": 31,
    "start_time": "2025-05-05T05:06:05.363Z"
   },
   {
    "duration": 17,
    "start_time": "2025-05-05T05:06:05.396Z"
   },
   {
    "duration": 249,
    "start_time": "2025-05-05T05:06:05.415Z"
   },
   {
    "duration": 34,
    "start_time": "2025-05-05T05:06:05.666Z"
   },
   {
    "duration": 16,
    "start_time": "2025-05-05T05:06:05.703Z"
   },
   {
    "duration": 48,
    "start_time": "2025-05-05T05:06:05.721Z"
   },
   {
    "duration": 162,
    "start_time": "2025-05-05T05:06:05.771Z"
   },
   {
    "duration": 85,
    "start_time": "2025-05-05T05:06:05.935Z"
   },
   {
    "duration": 46,
    "start_time": "2025-05-05T05:06:06.022Z"
   },
   {
    "duration": 77,
    "start_time": "2025-05-05T05:06:06.070Z"
   },
   {
    "duration": 24,
    "start_time": "2025-05-05T05:06:06.160Z"
   },
   {
    "duration": 41,
    "start_time": "2025-05-05T05:06:06.186Z"
   },
   {
    "duration": 123,
    "start_time": "2025-05-05T05:06:06.229Z"
   },
   {
    "duration": 38,
    "start_time": "2025-05-05T05:06:06.353Z"
   },
   {
    "duration": 92,
    "start_time": "2025-05-05T05:06:06.393Z"
   },
   {
    "duration": 198,
    "start_time": "2025-05-05T05:06:06.486Z"
   },
   {
    "duration": 21,
    "start_time": "2025-05-05T05:06:06.686Z"
   },
   {
    "duration": 5,
    "start_time": "2025-05-05T05:06:06.709Z"
   },
   {
    "duration": 15,
    "start_time": "2025-05-05T05:06:06.716Z"
   },
   {
    "duration": 34,
    "start_time": "2025-05-05T05:06:06.761Z"
   },
   {
    "duration": 177,
    "start_time": "2025-05-05T05:06:06.797Z"
   },
   {
    "duration": 709,
    "start_time": "2025-05-05T05:06:06.976Z"
   },
   {
    "duration": 409,
    "start_time": "2025-05-05T05:06:07.687Z"
   },
   {
    "duration": 137,
    "start_time": "2025-05-05T05:06:08.098Z"
   },
   {
    "duration": 31,
    "start_time": "2025-05-05T05:06:08.237Z"
   },
   {
    "duration": 62,
    "start_time": "2025-05-05T05:06:08.270Z"
   },
   {
    "duration": 97,
    "start_time": "2025-05-05T05:06:08.333Z"
   },
   {
    "duration": 82,
    "start_time": "2025-05-05T05:06:08.432Z"
   },
   {
    "duration": 413,
    "start_time": "2025-05-05T05:06:08.515Z"
   },
   {
    "duration": 226,
    "start_time": "2025-05-05T05:06:08.930Z"
   },
   {
    "duration": 50,
    "start_time": "2025-05-05T05:06:09.160Z"
   },
   {
    "duration": 131,
    "start_time": "2025-05-05T05:06:09.212Z"
   },
   {
    "duration": 81,
    "start_time": "2025-05-05T05:06:09.345Z"
   },
   {
    "duration": 262,
    "start_time": "2025-05-05T05:06:09.428Z"
   },
   {
    "duration": 106,
    "start_time": "2025-05-05T05:06:09.692Z"
   },
   {
    "duration": 201,
    "start_time": "2025-05-05T05:06:09.800Z"
   },
   {
    "duration": 8,
    "start_time": "2025-05-05T05:06:10.003Z"
   },
   {
    "duration": 76,
    "start_time": "2025-05-05T05:06:10.012Z"
   },
   {
    "duration": 7,
    "start_time": "2025-05-05T05:06:10.090Z"
   },
   {
    "duration": 38,
    "start_time": "2025-05-05T05:06:10.098Z"
   },
   {
    "duration": 19,
    "start_time": "2025-05-05T05:06:10.137Z"
   },
   {
    "duration": 19,
    "start_time": "2025-05-05T05:06:10.158Z"
   },
   {
    "duration": 19,
    "start_time": "2025-05-05T05:06:10.179Z"
   },
   {
    "duration": 25,
    "start_time": "2025-05-05T05:06:10.199Z"
   },
   {
    "duration": 42,
    "start_time": "2025-05-05T05:06:10.226Z"
   },
   {
    "duration": 262,
    "start_time": "2025-05-05T05:06:10.270Z"
   },
   {
    "duration": 12,
    "start_time": "2025-05-05T05:06:10.534Z"
   },
   {
    "duration": 14,
    "start_time": "2025-05-05T05:06:10.548Z"
   },
   {
    "duration": 4,
    "start_time": "2025-05-05T05:06:10.564Z"
   },
   {
    "duration": 58,
    "start_time": "2025-05-05T05:06:10.569Z"
   },
   {
    "duration": 5,
    "start_time": "2025-05-05T05:06:10.628Z"
   },
   {
    "duration": 8,
    "start_time": "2025-05-05T05:06:10.661Z"
   },
   {
    "duration": 23,
    "start_time": "2025-05-05T05:06:10.670Z"
   },
   {
    "duration": 162,
    "start_time": "2025-05-05T05:06:10.695Z"
   },
   {
    "duration": 12,
    "start_time": "2025-05-05T05:06:10.860Z"
   },
   {
    "duration": 20,
    "start_time": "2025-05-05T05:06:10.874Z"
   },
   {
    "duration": 18,
    "start_time": "2025-05-05T05:06:10.896Z"
   },
   {
    "duration": 10,
    "start_time": "2025-05-05T05:10:14.433Z"
   },
   {
    "duration": 15,
    "start_time": "2025-05-05T05:10:45.243Z"
   },
   {
    "duration": 1280,
    "start_time": "2025-05-05T05:10:50.633Z"
   },
   {
    "duration": 1983,
    "start_time": "2025-05-05T05:10:51.915Z"
   },
   {
    "duration": 14,
    "start_time": "2025-05-05T05:10:53.900Z"
   },
   {
    "duration": 14,
    "start_time": "2025-05-05T05:10:53.917Z"
   },
   {
    "duration": 120,
    "start_time": "2025-05-05T05:10:53.932Z"
   },
   {
    "duration": 31,
    "start_time": "2025-05-05T05:10:54.054Z"
   },
   {
    "duration": 47,
    "start_time": "2025-05-05T05:10:54.087Z"
   },
   {
    "duration": 25,
    "start_time": "2025-05-05T05:10:54.135Z"
   },
   {
    "duration": 22,
    "start_time": "2025-05-05T05:10:54.162Z"
   },
   {
    "duration": 8,
    "start_time": "2025-05-05T05:10:54.187Z"
   },
   {
    "duration": 26,
    "start_time": "2025-05-05T05:10:54.197Z"
   },
   {
    "duration": 37,
    "start_time": "2025-05-05T05:10:54.225Z"
   },
   {
    "duration": 35,
    "start_time": "2025-05-05T05:10:54.264Z"
   },
   {
    "duration": 168,
    "start_time": "2025-05-05T05:10:54.301Z"
   },
   {
    "duration": 12,
    "start_time": "2025-05-05T05:10:54.470Z"
   },
   {
    "duration": 48,
    "start_time": "2025-05-05T05:10:54.484Z"
   },
   {
    "duration": 42,
    "start_time": "2025-05-05T05:10:54.534Z"
   },
   {
    "duration": 27,
    "start_time": "2025-05-05T05:10:54.578Z"
   },
   {
    "duration": 15,
    "start_time": "2025-05-05T05:10:54.606Z"
   },
   {
    "duration": 257,
    "start_time": "2025-05-05T05:10:54.623Z"
   },
   {
    "duration": 31,
    "start_time": "2025-05-05T05:10:54.882Z"
   },
   {
    "duration": 15,
    "start_time": "2025-05-05T05:10:54.915Z"
   },
   {
    "duration": 40,
    "start_time": "2025-05-05T05:10:54.931Z"
   },
   {
    "duration": 160,
    "start_time": "2025-05-05T05:10:54.973Z"
   },
   {
    "duration": 86,
    "start_time": "2025-05-05T05:10:55.135Z"
   },
   {
    "duration": 38,
    "start_time": "2025-05-05T05:10:55.223Z"
   },
   {
    "duration": 75,
    "start_time": "2025-05-05T05:10:55.263Z"
   },
   {
    "duration": 37,
    "start_time": "2025-05-05T05:10:55.342Z"
   },
   {
    "duration": 41,
    "start_time": "2025-05-05T05:10:55.380Z"
   },
   {
    "duration": 117,
    "start_time": "2025-05-05T05:10:55.423Z"
   },
   {
    "duration": 43,
    "start_time": "2025-05-05T05:10:55.541Z"
   },
   {
    "duration": 53,
    "start_time": "2025-05-05T05:10:55.585Z"
   },
   {
    "duration": 212,
    "start_time": "2025-05-05T05:10:55.660Z"
   },
   {
    "duration": 26,
    "start_time": "2025-05-05T05:10:55.874Z"
   },
   {
    "duration": 5,
    "start_time": "2025-05-05T05:10:55.902Z"
   },
   {
    "duration": 12,
    "start_time": "2025-05-05T05:10:55.909Z"
   },
   {
    "duration": 95,
    "start_time": "2025-05-05T05:10:55.923Z"
   },
   {
    "duration": 82,
    "start_time": "2025-05-05T05:10:56.020Z"
   },
   {
    "duration": 708,
    "start_time": "2025-05-05T05:10:56.104Z"
   },
   {
    "duration": 416,
    "start_time": "2025-05-05T05:10:56.814Z"
   },
   {
    "duration": 144,
    "start_time": "2025-05-05T05:10:57.232Z"
   },
   {
    "duration": 22,
    "start_time": "2025-05-05T05:10:57.377Z"
   },
   {
    "duration": 32,
    "start_time": "2025-05-05T05:10:57.401Z"
   },
   {
    "duration": 85,
    "start_time": "2025-05-05T05:10:57.435Z"
   },
   {
    "duration": 97,
    "start_time": "2025-05-05T05:10:57.522Z"
   },
   {
    "duration": 417,
    "start_time": "2025-05-05T05:10:57.621Z"
   },
   {
    "duration": 203,
    "start_time": "2025-05-05T05:10:58.040Z"
   },
   {
    "duration": 58,
    "start_time": "2025-05-05T05:10:58.245Z"
   },
   {
    "duration": 129,
    "start_time": "2025-05-05T05:10:58.305Z"
   },
   {
    "duration": 85,
    "start_time": "2025-05-05T05:10:58.436Z"
   },
   {
    "duration": 268,
    "start_time": "2025-05-05T05:10:58.523Z"
   },
   {
    "duration": 101,
    "start_time": "2025-05-05T05:10:58.793Z"
   },
   {
    "duration": 227,
    "start_time": "2025-05-05T05:10:58.896Z"
   },
   {
    "duration": 7,
    "start_time": "2025-05-05T05:10:59.125Z"
   },
   {
    "duration": 82,
    "start_time": "2025-05-05T05:10:59.134Z"
   },
   {
    "duration": 7,
    "start_time": "2025-05-05T05:10:59.218Z"
   },
   {
    "duration": 7,
    "start_time": "2025-05-05T05:10:59.227Z"
   },
   {
    "duration": 39,
    "start_time": "2025-05-05T05:10:59.235Z"
   },
   {
    "duration": 19,
    "start_time": "2025-05-05T05:10:59.276Z"
   },
   {
    "duration": 19,
    "start_time": "2025-05-05T05:10:59.297Z"
   },
   {
    "duration": 50,
    "start_time": "2025-05-05T05:10:59.318Z"
   },
   {
    "duration": 20,
    "start_time": "2025-05-05T05:10:59.369Z"
   },
   {
    "duration": 272,
    "start_time": "2025-05-05T05:10:59.390Z"
   },
   {
    "duration": 12,
    "start_time": "2025-05-05T05:10:59.664Z"
   },
   {
    "duration": 6,
    "start_time": "2025-05-05T05:10:59.677Z"
   },
   {
    "duration": 6,
    "start_time": "2025-05-05T05:10:59.684Z"
   },
   {
    "duration": 86,
    "start_time": "2025-05-05T05:10:59.692Z"
   },
   {
    "duration": 5,
    "start_time": "2025-05-05T05:10:59.780Z"
   },
   {
    "duration": 12,
    "start_time": "2025-05-05T05:10:59.787Z"
   },
   {
    "duration": 35,
    "start_time": "2025-05-05T05:10:59.801Z"
   },
   {
    "duration": 163,
    "start_time": "2025-05-05T05:10:59.838Z"
   },
   {
    "duration": 12,
    "start_time": "2025-05-05T05:11:00.003Z"
   },
   {
    "duration": 64,
    "start_time": "2025-05-05T05:11:00.017Z"
   },
   {
    "duration": 10,
    "start_time": "2025-05-05T05:13:01.457Z"
   },
   {
    "duration": 1375,
    "start_time": "2025-05-05T05:13:29.735Z"
   },
   {
    "duration": 1970,
    "start_time": "2025-05-05T05:13:31.112Z"
   },
   {
    "duration": 13,
    "start_time": "2025-05-05T05:13:33.084Z"
   },
   {
    "duration": 27,
    "start_time": "2025-05-05T05:13:33.100Z"
   },
   {
    "duration": 115,
    "start_time": "2025-05-05T05:13:33.129Z"
   },
   {
    "duration": 31,
    "start_time": "2025-05-05T05:13:33.246Z"
   },
   {
    "duration": 43,
    "start_time": "2025-05-05T05:13:33.278Z"
   },
   {
    "duration": 10,
    "start_time": "2025-05-05T05:13:33.322Z"
   },
   {
    "duration": 46,
    "start_time": "2025-05-05T05:13:33.333Z"
   },
   {
    "duration": 9,
    "start_time": "2025-05-05T05:13:33.382Z"
   },
   {
    "duration": 26,
    "start_time": "2025-05-05T05:13:33.393Z"
   },
   {
    "duration": 10,
    "start_time": "2025-05-05T05:13:33.421Z"
   },
   {
    "duration": 34,
    "start_time": "2025-05-05T05:13:33.461Z"
   },
   {
    "duration": 166,
    "start_time": "2025-05-05T05:13:33.496Z"
   },
   {
    "duration": 13,
    "start_time": "2025-05-05T05:13:33.664Z"
   },
   {
    "duration": 48,
    "start_time": "2025-05-05T05:13:33.679Z"
   },
   {
    "duration": 47,
    "start_time": "2025-05-05T05:13:33.729Z"
   },
   {
    "duration": 28,
    "start_time": "2025-05-05T05:13:33.778Z"
   },
   {
    "duration": 16,
    "start_time": "2025-05-05T05:13:33.808Z"
   },
   {
    "duration": 242,
    "start_time": "2025-05-05T05:13:33.825Z"
   },
   {
    "duration": 33,
    "start_time": "2025-05-05T05:13:34.068Z"
   },
   {
    "duration": 20,
    "start_time": "2025-05-05T05:13:34.103Z"
   },
   {
    "duration": 36,
    "start_time": "2025-05-05T05:13:34.124Z"
   },
   {
    "duration": 178,
    "start_time": "2025-05-05T05:13:34.162Z"
   },
   {
    "duration": 81,
    "start_time": "2025-05-05T05:13:34.342Z"
   },
   {
    "duration": 48,
    "start_time": "2025-05-05T05:13:34.426Z"
   },
   {
    "duration": 92,
    "start_time": "2025-05-05T05:13:34.475Z"
   },
   {
    "duration": 24,
    "start_time": "2025-05-05T05:13:34.571Z"
   },
   {
    "duration": 41,
    "start_time": "2025-05-05T05:13:34.597Z"
   },
   {
    "duration": 100,
    "start_time": "2025-05-05T05:13:34.661Z"
   },
   {
    "duration": 34,
    "start_time": "2025-05-05T05:13:34.763Z"
   },
   {
    "duration": 153,
    "start_time": "2025-05-05T05:13:34.799Z"
   },
   {
    "duration": 203,
    "start_time": "2025-05-05T05:13:34.954Z"
   },
   {
    "duration": 22,
    "start_time": "2025-05-05T05:13:35.160Z"
   },
   {
    "duration": 60,
    "start_time": "2025-05-05T05:13:35.185Z"
   },
   {
    "duration": 16,
    "start_time": "2025-05-05T05:13:35.248Z"
   },
   {
    "duration": 35,
    "start_time": "2025-05-05T05:13:35.266Z"
   },
   {
    "duration": 110,
    "start_time": "2025-05-05T05:13:35.303Z"
   },
   {
    "duration": 731,
    "start_time": "2025-05-05T05:13:35.415Z"
   },
   {
    "duration": 418,
    "start_time": "2025-05-05T05:13:36.149Z"
   },
   {
    "duration": 157,
    "start_time": "2025-05-05T05:13:36.570Z"
   },
   {
    "duration": 23,
    "start_time": "2025-05-05T05:13:36.729Z"
   },
   {
    "duration": 34,
    "start_time": "2025-05-05T05:13:36.761Z"
   },
   {
    "duration": 174,
    "start_time": "2025-05-05T05:13:36.797Z"
   },
   {
    "duration": 96,
    "start_time": "2025-05-05T05:13:36.973Z"
   },
   {
    "duration": 428,
    "start_time": "2025-05-05T05:13:37.070Z"
   },
   {
    "duration": 208,
    "start_time": "2025-05-05T05:13:37.500Z"
   },
   {
    "duration": 66,
    "start_time": "2025-05-05T05:13:37.710Z"
   },
   {
    "duration": 125,
    "start_time": "2025-05-05T05:13:37.778Z"
   },
   {
    "duration": 92,
    "start_time": "2025-05-05T05:13:37.906Z"
   },
   {
    "duration": 275,
    "start_time": "2025-05-05T05:13:38.000Z"
   },
   {
    "duration": 103,
    "start_time": "2025-05-05T05:13:38.277Z"
   },
   {
    "duration": 206,
    "start_time": "2025-05-05T05:13:38.382Z"
   },
   {
    "duration": 8,
    "start_time": "2025-05-05T05:13:38.590Z"
   },
   {
    "duration": 83,
    "start_time": "2025-05-05T05:13:38.600Z"
   },
   {
    "duration": 8,
    "start_time": "2025-05-05T05:13:38.685Z"
   },
   {
    "duration": 8,
    "start_time": "2025-05-05T05:13:38.694Z"
   },
   {
    "duration": 16,
    "start_time": "2025-05-05T05:13:38.703Z"
   },
   {
    "duration": 45,
    "start_time": "2025-05-05T05:13:38.721Z"
   },
   {
    "duration": 19,
    "start_time": "2025-05-05T05:13:38.768Z"
   },
   {
    "duration": 152,
    "start_time": "2025-05-05T05:13:38.788Z"
   },
   {
    "duration": 20,
    "start_time": "2025-05-05T05:13:38.942Z"
   },
   {
    "duration": 268,
    "start_time": "2025-05-05T05:13:38.964Z"
   },
   {
    "duration": 13,
    "start_time": "2025-05-05T05:13:39.234Z"
   },
   {
    "duration": 6,
    "start_time": "2025-05-05T05:13:39.262Z"
   },
   {
    "duration": 5,
    "start_time": "2025-05-05T05:13:39.270Z"
   },
   {
    "duration": 88,
    "start_time": "2025-05-05T05:13:39.277Z"
   },
   {
    "duration": 6,
    "start_time": "2025-05-05T05:13:39.367Z"
   },
   {
    "duration": 10,
    "start_time": "2025-05-05T05:13:39.375Z"
   },
   {
    "duration": 25,
    "start_time": "2025-05-05T05:13:39.387Z"
   },
   {
    "duration": 183,
    "start_time": "2025-05-05T05:13:39.414Z"
   },
   {
    "duration": 13,
    "start_time": "2025-05-05T05:13:39.599Z"
   },
   {
    "duration": 19,
    "start_time": "2025-05-05T05:13:39.614Z"
   },
   {
    "duration": 33,
    "start_time": "2025-05-05T05:13:39.636Z"
   },
   {
    "duration": 196,
    "start_time": "2025-05-05T05:20:09.839Z"
   },
   {
    "duration": 200,
    "start_time": "2025-05-05T05:20:29.127Z"
   },
   {
    "duration": 201,
    "start_time": "2025-05-05T05:20:39.483Z"
   },
   {
    "duration": 187,
    "start_time": "2025-05-05T05:21:47.850Z"
   },
   {
    "duration": 108,
    "start_time": "2025-05-05T05:35:36.839Z"
   },
   {
    "duration": 1032,
    "start_time": "2025-05-05T05:36:27.444Z"
   },
   {
    "duration": 16,
    "start_time": "2025-05-05T05:36:58.222Z"
   },
   {
    "duration": 28,
    "start_time": "2025-05-05T05:39:28.451Z"
   },
   {
    "duration": 17,
    "start_time": "2025-05-05T05:39:42.561Z"
   },
   {
    "duration": 10,
    "start_time": "2025-05-05T05:41:06.489Z"
   },
   {
    "duration": 10,
    "start_time": "2025-05-05T05:41:34.150Z"
   },
   {
    "duration": 8,
    "start_time": "2025-05-05T05:41:46.570Z"
   },
   {
    "duration": 69,
    "start_time": "2025-05-05T05:43:34.890Z"
   },
   {
    "duration": 9,
    "start_time": "2025-05-05T05:43:55.983Z"
   },
   {
    "duration": 41,
    "start_time": "2025-05-05T05:44:03.636Z"
   },
   {
    "duration": 10,
    "start_time": "2025-05-05T05:44:27.183Z"
   },
   {
    "duration": 10,
    "start_time": "2025-05-05T05:45:00.517Z"
   },
   {
    "duration": 20,
    "start_time": "2025-05-05T05:45:32.757Z"
   },
   {
    "duration": 14,
    "start_time": "2025-05-05T05:46:04.946Z"
   },
   {
    "duration": 14,
    "start_time": "2025-05-05T05:48:02.812Z"
   },
   {
    "duration": 16,
    "start_time": "2025-05-05T05:48:09.805Z"
   },
   {
    "duration": 18,
    "start_time": "2025-05-05T05:49:18.714Z"
   },
   {
    "duration": 19,
    "start_time": "2025-05-05T05:49:39.585Z"
   },
   {
    "duration": 17,
    "start_time": "2025-05-05T05:49:53.186Z"
   },
   {
    "duration": 18,
    "start_time": "2025-05-05T05:51:17.094Z"
   },
   {
    "duration": 16,
    "start_time": "2025-05-05T05:51:29.914Z"
   },
   {
    "duration": 13,
    "start_time": "2025-05-05T05:53:54.193Z"
   },
   {
    "duration": 13,
    "start_time": "2025-05-05T05:53:58.718Z"
   },
   {
    "duration": 12,
    "start_time": "2025-05-05T05:54:01.463Z"
   },
   {
    "duration": 167,
    "start_time": "2025-05-05T05:55:31.031Z"
   },
   {
    "duration": 160,
    "start_time": "2025-05-05T05:55:43.856Z"
   },
   {
    "duration": 149,
    "start_time": "2025-05-05T05:56:12.873Z"
   },
   {
    "duration": 160,
    "start_time": "2025-05-05T05:56:22.358Z"
   },
   {
    "duration": 160,
    "start_time": "2025-05-05T05:56:34.621Z"
   },
   {
    "duration": 166,
    "start_time": "2025-05-05T05:57:15.461Z"
   },
   {
    "duration": 160,
    "start_time": "2025-05-05T05:57:31.164Z"
   },
   {
    "duration": 169,
    "start_time": "2025-05-05T05:57:43.051Z"
   },
   {
    "duration": 150,
    "start_time": "2025-05-05T05:57:56.817Z"
   },
   {
    "duration": 151,
    "start_time": "2025-05-05T05:58:02.502Z"
   },
   {
    "duration": 16,
    "start_time": "2025-05-05T05:58:41.473Z"
   },
   {
    "duration": 16,
    "start_time": "2025-05-05T05:58:55.532Z"
   },
   {
    "duration": 265,
    "start_time": "2025-05-05T06:00:53.867Z"
   },
   {
    "duration": 1314,
    "start_time": "2025-05-05T06:29:19.890Z"
   },
   {
    "duration": 2176,
    "start_time": "2025-05-05T06:29:21.206Z"
   },
   {
    "duration": 13,
    "start_time": "2025-05-05T06:29:23.384Z"
   },
   {
    "duration": 13,
    "start_time": "2025-05-05T06:29:23.400Z"
   },
   {
    "duration": 128,
    "start_time": "2025-05-05T06:29:23.415Z"
   },
   {
    "duration": 30,
    "start_time": "2025-05-05T06:29:23.545Z"
   },
   {
    "duration": 43,
    "start_time": "2025-05-05T06:29:23.576Z"
   },
   {
    "duration": 10,
    "start_time": "2025-05-05T06:29:23.621Z"
   },
   {
    "duration": 21,
    "start_time": "2025-05-05T06:29:23.660Z"
   },
   {
    "duration": 9,
    "start_time": "2025-05-05T06:29:23.684Z"
   },
   {
    "duration": 26,
    "start_time": "2025-05-05T06:29:23.695Z"
   },
   {
    "duration": 10,
    "start_time": "2025-05-05T06:29:23.722Z"
   },
   {
    "duration": 36,
    "start_time": "2025-05-05T06:29:23.761Z"
   },
   {
    "duration": 167,
    "start_time": "2025-05-05T06:29:23.799Z"
   },
   {
    "duration": 13,
    "start_time": "2025-05-05T06:29:23.968Z"
   },
   {
    "duration": 50,
    "start_time": "2025-05-05T06:29:23.982Z"
   },
   {
    "duration": 43,
    "start_time": "2025-05-05T06:29:24.034Z"
   },
   {
    "duration": 28,
    "start_time": "2025-05-05T06:29:24.079Z"
   },
   {
    "duration": 16,
    "start_time": "2025-05-05T06:29:24.109Z"
   },
   {
    "duration": 254,
    "start_time": "2025-05-05T06:29:24.126Z"
   },
   {
    "duration": 33,
    "start_time": "2025-05-05T06:29:24.382Z"
   },
   {
    "duration": 15,
    "start_time": "2025-05-05T06:29:24.417Z"
   },
   {
    "duration": 38,
    "start_time": "2025-05-05T06:29:24.435Z"
   },
   {
    "duration": 165,
    "start_time": "2025-05-05T06:29:24.474Z"
   },
   {
    "duration": 84,
    "start_time": "2025-05-05T06:29:24.641Z"
   },
   {
    "duration": 42,
    "start_time": "2025-05-05T06:29:24.727Z"
   },
   {
    "duration": 90,
    "start_time": "2025-05-05T06:29:24.771Z"
   },
   {
    "duration": 24,
    "start_time": "2025-05-05T06:29:24.865Z"
   },
   {
    "duration": 62,
    "start_time": "2025-05-05T06:29:24.891Z"
   },
   {
    "duration": 107,
    "start_time": "2025-05-05T06:29:24.955Z"
   },
   {
    "duration": 79,
    "start_time": "2025-05-05T06:29:25.064Z"
   },
   {
    "duration": 72,
    "start_time": "2025-05-05T06:29:25.145Z"
   },
   {
    "duration": 190,
    "start_time": "2025-05-05T06:29:25.219Z"
   },
   {
    "duration": 23,
    "start_time": "2025-05-05T06:29:25.410Z"
   },
   {
    "duration": 57,
    "start_time": "2025-05-05T06:29:25.435Z"
   },
   {
    "duration": 13,
    "start_time": "2025-05-05T06:29:25.494Z"
   },
   {
    "duration": 34,
    "start_time": "2025-05-05T06:29:25.509Z"
   },
   {
    "duration": 79,
    "start_time": "2025-05-05T06:29:25.544Z"
   },
   {
    "duration": 714,
    "start_time": "2025-05-05T06:29:25.625Z"
   },
   {
    "duration": 407,
    "start_time": "2025-05-05T06:29:26.340Z"
   },
   {
    "duration": 143,
    "start_time": "2025-05-05T06:29:26.748Z"
   },
   {
    "duration": 24,
    "start_time": "2025-05-05T06:29:26.894Z"
   },
   {
    "duration": 59,
    "start_time": "2025-05-05T06:29:26.920Z"
   },
   {
    "duration": 66,
    "start_time": "2025-05-05T06:29:26.982Z"
   },
   {
    "duration": 82,
    "start_time": "2025-05-05T06:29:27.060Z"
   },
   {
    "duration": 453,
    "start_time": "2025-05-05T06:29:27.144Z"
   },
   {
    "duration": 216,
    "start_time": "2025-05-05T06:29:27.599Z"
   },
   {
    "duration": 64,
    "start_time": "2025-05-05T06:29:27.817Z"
   },
   {
    "duration": 129,
    "start_time": "2025-05-05T06:29:27.883Z"
   },
   {
    "duration": 90,
    "start_time": "2025-05-05T06:29:28.015Z"
   },
   {
    "duration": 272,
    "start_time": "2025-05-05T06:29:28.107Z"
   },
   {
    "duration": 116,
    "start_time": "2025-05-05T06:29:28.381Z"
   },
   {
    "duration": 208,
    "start_time": "2025-05-05T06:29:28.499Z"
   },
   {
    "duration": 9,
    "start_time": "2025-05-05T06:29:28.709Z"
   },
   {
    "duration": 93,
    "start_time": "2025-05-05T06:29:28.720Z"
   },
   {
    "duration": 8,
    "start_time": "2025-05-05T06:29:28.815Z"
   },
   {
    "duration": 8,
    "start_time": "2025-05-05T06:29:28.825Z"
   },
   {
    "duration": 38,
    "start_time": "2025-05-05T06:29:28.835Z"
   },
   {
    "duration": 47,
    "start_time": "2025-05-05T06:29:28.875Z"
   },
   {
    "duration": 19,
    "start_time": "2025-05-05T06:29:28.923Z"
   },
   {
    "duration": 26,
    "start_time": "2025-05-05T06:29:28.944Z"
   },
   {
    "duration": 22,
    "start_time": "2025-05-05T06:29:28.972Z"
   },
   {
    "duration": 383,
    "start_time": "2025-05-05T06:29:28.995Z"
   },
   {
    "duration": 10,
    "start_time": "2025-05-05T06:29:29.380Z"
   },
   {
    "duration": 4,
    "start_time": "2025-05-05T06:29:29.392Z"
   },
   {
    "duration": 6,
    "start_time": "2025-05-05T06:29:29.398Z"
   },
   {
    "duration": 90,
    "start_time": "2025-05-05T06:29:29.405Z"
   },
   {
    "duration": 6,
    "start_time": "2025-05-05T06:29:29.497Z"
   },
   {
    "duration": 8,
    "start_time": "2025-05-05T06:29:29.505Z"
   },
   {
    "duration": 48,
    "start_time": "2025-05-05T06:29:29.515Z"
   },
   {
    "duration": 152,
    "start_time": "2025-05-05T06:29:29.565Z"
   },
   {
    "duration": 12,
    "start_time": "2025-05-05T06:29:29.719Z"
   },
   {
    "duration": 33,
    "start_time": "2025-05-05T06:29:29.733Z"
   },
   {
    "duration": 9,
    "start_time": "2025-05-05T06:29:29.768Z"
   },
   {
    "duration": 201,
    "start_time": "2025-05-05T06:29:29.778Z"
   },
   {
    "duration": 85,
    "start_time": "2025-05-05T06:29:29.981Z"
   },
   {
    "duration": 40,
    "start_time": "2025-05-05T06:29:30.068Z"
   },
   {
    "duration": 16,
    "start_time": "2025-05-05T06:29:30.110Z"
   },
   {
    "duration": 179,
    "start_time": "2025-05-05T06:29:30.128Z"
   },
   {
    "duration": 246,
    "start_time": "2025-05-05T06:29:46.232Z"
   },
   {
    "duration": 242,
    "start_time": "2025-05-05T06:29:52.174Z"
   },
   {
    "duration": 259,
    "start_time": "2025-05-05T06:29:57.759Z"
   },
   {
    "duration": 255,
    "start_time": "2025-05-05T06:30:01.446Z"
   },
   {
    "duration": 1361,
    "start_time": "2025-05-06T06:18:41.801Z"
   },
   {
    "duration": 2298,
    "start_time": "2025-05-06T06:18:43.164Z"
   },
   {
    "duration": 13,
    "start_time": "2025-05-06T06:18:45.464Z"
   },
   {
    "duration": 12,
    "start_time": "2025-05-06T06:18:45.479Z"
   },
   {
    "duration": 125,
    "start_time": "2025-05-06T06:18:45.493Z"
   },
   {
    "duration": 30,
    "start_time": "2025-05-06T06:18:45.620Z"
   },
   {
    "duration": 45,
    "start_time": "2025-05-06T06:18:45.652Z"
   },
   {
    "duration": 18,
    "start_time": "2025-05-06T06:18:45.699Z"
   },
   {
    "duration": 54,
    "start_time": "2025-05-06T06:18:45.718Z"
   },
   {
    "duration": 7,
    "start_time": "2025-05-06T06:18:45.775Z"
   },
   {
    "duration": 26,
    "start_time": "2025-05-06T06:18:45.783Z"
   },
   {
    "duration": 8,
    "start_time": "2025-05-06T06:18:45.811Z"
   },
   {
    "duration": 44,
    "start_time": "2025-05-06T06:18:45.821Z"
   },
   {
    "duration": 205,
    "start_time": "2025-05-06T06:18:45.866Z"
   },
   {
    "duration": 11,
    "start_time": "2025-05-06T06:18:46.073Z"
   },
   {
    "duration": 126,
    "start_time": "2025-05-06T06:18:46.086Z"
   },
   {
    "duration": 20,
    "start_time": "2025-05-06T06:18:46.214Z"
   },
   {
    "duration": 25,
    "start_time": "2025-05-06T06:18:46.236Z"
   },
   {
    "duration": 17,
    "start_time": "2025-05-06T06:18:46.263Z"
   },
   {
    "duration": 219,
    "start_time": "2025-05-06T06:18:46.282Z"
   },
   {
    "duration": 38,
    "start_time": "2025-05-06T06:18:46.503Z"
   },
   {
    "duration": 13,
    "start_time": "2025-05-06T06:18:46.543Z"
   },
   {
    "duration": 13,
    "start_time": "2025-05-06T06:18:46.557Z"
   },
   {
    "duration": 173,
    "start_time": "2025-05-06T06:18:46.571Z"
   },
   {
    "duration": 71,
    "start_time": "2025-05-06T06:18:46.745Z"
   },
   {
    "duration": 45,
    "start_time": "2025-05-06T06:18:46.818Z"
   },
   {
    "duration": 81,
    "start_time": "2025-05-06T06:18:46.865Z"
   },
   {
    "duration": 22,
    "start_time": "2025-05-06T06:18:46.951Z"
   },
   {
    "duration": 63,
    "start_time": "2025-05-06T06:18:46.974Z"
   },
   {
    "duration": 98,
    "start_time": "2025-05-06T06:18:47.039Z"
   },
   {
    "duration": 32,
    "start_time": "2025-05-06T06:18:47.139Z"
   },
   {
    "duration": 81,
    "start_time": "2025-05-06T06:18:47.172Z"
   },
   {
    "duration": 193,
    "start_time": "2025-05-06T06:18:47.254Z"
   },
   {
    "duration": 21,
    "start_time": "2025-05-06T06:18:47.448Z"
   },
   {
    "duration": 5,
    "start_time": "2025-05-06T06:18:47.471Z"
   },
   {
    "duration": 15,
    "start_time": "2025-05-06T06:18:47.478Z"
   },
   {
    "duration": 63,
    "start_time": "2025-05-06T06:18:47.494Z"
   },
   {
    "duration": 78,
    "start_time": "2025-05-06T06:18:47.559Z"
   },
   {
    "duration": 698,
    "start_time": "2025-05-06T06:18:47.639Z"
   },
   {
    "duration": 365,
    "start_time": "2025-05-06T06:18:48.338Z"
   },
   {
    "duration": 124,
    "start_time": "2025-05-06T06:18:48.705Z"
   },
   {
    "duration": 18,
    "start_time": "2025-05-06T06:18:48.837Z"
   },
   {
    "duration": 35,
    "start_time": "2025-05-06T06:18:48.857Z"
   },
   {
    "duration": 74,
    "start_time": "2025-05-06T06:18:48.894Z"
   },
   {
    "duration": 104,
    "start_time": "2025-05-06T06:18:48.970Z"
   },
   {
    "duration": 361,
    "start_time": "2025-05-06T06:18:49.076Z"
   },
   {
    "duration": 189,
    "start_time": "2025-05-06T06:18:49.439Z"
   },
   {
    "duration": 51,
    "start_time": "2025-05-06T06:18:49.629Z"
   },
   {
    "duration": 116,
    "start_time": "2025-05-06T06:18:49.682Z"
   },
   {
    "duration": 80,
    "start_time": "2025-05-06T06:18:49.800Z"
   },
   {
    "duration": 238,
    "start_time": "2025-05-06T06:18:49.882Z"
   },
   {
    "duration": 87,
    "start_time": "2025-05-06T06:18:50.122Z"
   },
   {
    "duration": 194,
    "start_time": "2025-05-06T06:18:50.211Z"
   },
   {
    "duration": 7,
    "start_time": "2025-05-06T06:18:50.406Z"
   },
   {
    "duration": 79,
    "start_time": "2025-05-06T06:18:50.414Z"
   },
   {
    "duration": 6,
    "start_time": "2025-05-06T06:18:50.494Z"
   },
   {
    "duration": 27,
    "start_time": "2025-05-06T06:18:50.502Z"
   },
   {
    "duration": 60,
    "start_time": "2025-05-06T06:18:50.531Z"
   },
   {
    "duration": 22,
    "start_time": "2025-05-06T06:18:50.593Z"
   },
   {
    "duration": 65,
    "start_time": "2025-05-06T06:18:50.617Z"
   },
   {
    "duration": 53,
    "start_time": "2025-05-06T06:18:50.684Z"
   },
   {
    "duration": 40,
    "start_time": "2025-05-06T06:18:50.739Z"
   },
   {
    "duration": 247,
    "start_time": "2025-05-06T06:18:50.780Z"
   },
   {
    "duration": 15,
    "start_time": "2025-05-06T06:18:51.029Z"
   },
   {
    "duration": 13,
    "start_time": "2025-05-06T06:18:51.046Z"
   },
   {
    "duration": 7,
    "start_time": "2025-05-06T06:18:51.061Z"
   },
   {
    "duration": 53,
    "start_time": "2025-05-06T06:18:51.070Z"
   },
   {
    "duration": 5,
    "start_time": "2025-05-06T06:18:51.136Z"
   },
   {
    "duration": 12,
    "start_time": "2025-05-06T06:18:51.142Z"
   },
   {
    "duration": 21,
    "start_time": "2025-05-06T06:18:51.156Z"
   },
   {
    "duration": 165,
    "start_time": "2025-05-06T06:18:51.179Z"
   },
   {
    "duration": 12,
    "start_time": "2025-05-06T06:18:51.345Z"
   },
   {
    "duration": 31,
    "start_time": "2025-05-06T06:18:51.359Z"
   },
   {
    "duration": 22,
    "start_time": "2025-05-06T06:18:51.392Z"
   },
   {
    "duration": 187,
    "start_time": "2025-05-06T06:18:51.416Z"
   },
   {
    "duration": 75,
    "start_time": "2025-05-06T06:18:51.604Z"
   },
   {
    "duration": 48,
    "start_time": "2025-05-06T06:18:51.681Z"
   },
   {
    "duration": 14,
    "start_time": "2025-05-06T06:18:51.730Z"
   },
   {
    "duration": 207,
    "start_time": "2025-05-06T06:18:51.745Z"
   },
   {
    "duration": 1491,
    "start_time": "2025-05-11T19:26:23.697Z"
   },
   {
    "duration": 2921,
    "start_time": "2025-05-11T19:26:25.190Z"
   },
   {
    "duration": 12,
    "start_time": "2025-05-11T19:26:28.112Z"
   },
   {
    "duration": 30,
    "start_time": "2025-05-11T19:26:28.126Z"
   },
   {
    "duration": 122,
    "start_time": "2025-05-11T19:26:28.158Z"
   },
   {
    "duration": 22,
    "start_time": "2025-05-11T19:26:28.282Z"
   },
   {
    "duration": 54,
    "start_time": "2025-05-11T19:26:28.306Z"
   },
   {
    "duration": 10,
    "start_time": "2025-05-11T19:26:28.362Z"
   },
   {
    "duration": 36,
    "start_time": "2025-05-11T19:26:28.374Z"
   },
   {
    "duration": 8,
    "start_time": "2025-05-11T19:26:28.413Z"
   },
   {
    "duration": 45,
    "start_time": "2025-05-11T19:26:28.423Z"
   },
   {
    "duration": 17,
    "start_time": "2025-05-11T19:26:28.470Z"
   },
   {
    "duration": 35,
    "start_time": "2025-05-11T19:26:28.489Z"
   },
   {
    "duration": 173,
    "start_time": "2025-05-11T19:26:28.527Z"
   },
   {
    "duration": 10,
    "start_time": "2025-05-11T19:26:28.702Z"
   },
   {
    "duration": 71,
    "start_time": "2025-05-11T19:26:28.714Z"
   },
   {
    "duration": 19,
    "start_time": "2025-05-11T19:26:28.787Z"
   },
   {
    "duration": 57,
    "start_time": "2025-05-11T19:26:28.808Z"
   },
   {
    "duration": 14,
    "start_time": "2025-05-11T19:26:28.867Z"
   },
   {
    "duration": 240,
    "start_time": "2025-05-11T19:26:28.883Z"
   },
   {
    "duration": 58,
    "start_time": "2025-05-11T19:26:29.124Z"
   },
   {
    "duration": 13,
    "start_time": "2025-05-11T19:26:29.184Z"
   },
   {
    "duration": 12,
    "start_time": "2025-05-11T19:26:29.200Z"
   },
   {
    "duration": 185,
    "start_time": "2025-05-11T19:26:29.214Z"
   },
   {
    "duration": 91,
    "start_time": "2025-05-11T19:26:29.401Z"
   },
   {
    "duration": 30,
    "start_time": "2025-05-11T19:26:29.494Z"
   },
   {
    "duration": 81,
    "start_time": "2025-05-11T19:26:29.525Z"
   },
   {
    "duration": 45,
    "start_time": "2025-05-11T19:26:29.610Z"
   },
   {
    "duration": 43,
    "start_time": "2025-05-11T19:26:29.659Z"
   },
   {
    "duration": 105,
    "start_time": "2025-05-11T19:26:29.704Z"
   },
   {
    "duration": 47,
    "start_time": "2025-05-11T19:26:29.811Z"
   },
   {
    "duration": 52,
    "start_time": "2025-05-11T19:26:29.862Z"
   },
   {
    "duration": 206,
    "start_time": "2025-05-11T19:26:29.916Z"
   },
   {
    "duration": 26,
    "start_time": "2025-05-11T19:26:30.124Z"
   },
   {
    "duration": 6,
    "start_time": "2025-05-11T19:26:30.161Z"
   },
   {
    "duration": 58,
    "start_time": "2025-05-11T19:26:30.169Z"
   },
   {
    "duration": 48,
    "start_time": "2025-05-11T19:26:30.229Z"
   },
   {
    "duration": 80,
    "start_time": "2025-05-11T19:26:30.279Z"
   },
   {
    "duration": 755,
    "start_time": "2025-05-11T19:26:30.360Z"
   },
   {
    "duration": 415,
    "start_time": "2025-05-11T19:26:31.117Z"
   },
   {
    "duration": 156,
    "start_time": "2025-05-11T19:26:31.541Z"
   },
   {
    "duration": 29,
    "start_time": "2025-05-11T19:26:31.699Z"
   },
   {
    "duration": 46,
    "start_time": "2025-05-11T19:26:31.744Z"
   },
   {
    "duration": 76,
    "start_time": "2025-05-11T19:26:31.791Z"
   },
   {
    "duration": 93,
    "start_time": "2025-05-11T19:26:31.869Z"
   },
   {
    "duration": 403,
    "start_time": "2025-05-11T19:26:31.968Z"
   },
   {
    "duration": 305,
    "start_time": "2025-05-11T19:26:32.373Z"
   },
   {
    "duration": 163,
    "start_time": "2025-05-11T19:26:32.683Z"
   },
   {
    "duration": 228,
    "start_time": "2025-05-11T19:26:32.863Z"
   },
   {
    "duration": 180,
    "start_time": "2025-05-11T19:26:33.092Z"
   },
   {
    "duration": 698,
    "start_time": "2025-05-11T19:26:33.274Z"
   },
   {
    "duration": 298,
    "start_time": "2025-05-11T19:26:33.976Z"
   },
   {
    "duration": 268,
    "start_time": "2025-05-11T19:26:34.276Z"
   },
   {
    "duration": 18,
    "start_time": "2025-05-11T19:26:34.547Z"
   },
   {
    "duration": 94,
    "start_time": "2025-05-11T19:26:34.568Z"
   },
   {
    "duration": 6,
    "start_time": "2025-05-11T19:26:34.665Z"
   },
   {
    "duration": 22,
    "start_time": "2025-05-11T19:26:34.673Z"
   },
   {
    "duration": 61,
    "start_time": "2025-05-11T19:26:34.697Z"
   },
   {
    "duration": 21,
    "start_time": "2025-05-11T19:26:34.761Z"
   },
   {
    "duration": 17,
    "start_time": "2025-05-11T19:26:34.785Z"
   },
   {
    "duration": 22,
    "start_time": "2025-05-11T19:26:34.803Z"
   },
   {
    "duration": 38,
    "start_time": "2025-05-11T19:26:34.827Z"
   },
   {
    "duration": 262,
    "start_time": "2025-05-11T19:26:34.867Z"
   },
   {
    "duration": 26,
    "start_time": "2025-05-11T19:26:35.130Z"
   },
   {
    "duration": 4,
    "start_time": "2025-05-11T19:26:35.158Z"
   },
   {
    "duration": 68,
    "start_time": "2025-05-11T19:26:35.164Z"
   },
   {
    "duration": 66,
    "start_time": "2025-05-11T19:26:35.237Z"
   },
   {
    "duration": 5,
    "start_time": "2025-05-11T19:26:35.304Z"
   },
   {
    "duration": 50,
    "start_time": "2025-05-11T19:26:35.310Z"
   },
   {
    "duration": 27,
    "start_time": "2025-05-11T19:26:35.361Z"
   },
   {
    "duration": 156,
    "start_time": "2025-05-11T19:26:35.390Z"
   },
   {
    "duration": 18,
    "start_time": "2025-05-11T19:26:35.550Z"
   },
   {
    "duration": 70,
    "start_time": "2025-05-11T19:26:35.570Z"
   },
   {
    "duration": 29,
    "start_time": "2025-05-11T19:26:35.642Z"
   },
   {
    "duration": 205,
    "start_time": "2025-05-11T19:26:35.672Z"
   },
   {
    "duration": 93,
    "start_time": "2025-05-11T19:26:35.879Z"
   },
   {
    "duration": 40,
    "start_time": "2025-05-11T19:26:35.973Z"
   },
   {
    "duration": 16,
    "start_time": "2025-05-11T19:26:36.015Z"
   },
   {
    "duration": 159,
    "start_time": "2025-05-11T19:26:36.038Z"
   },
   {
    "duration": 1267,
    "start_time": "2025-05-11T19:26:48.051Z"
   },
   {
    "duration": 2278,
    "start_time": "2025-05-11T19:26:49.320Z"
   },
   {
    "duration": 12,
    "start_time": "2025-05-11T19:26:51.600Z"
   },
   {
    "duration": 41,
    "start_time": "2025-05-11T19:26:51.614Z"
   },
   {
    "duration": 115,
    "start_time": "2025-05-11T19:26:51.663Z"
   },
   {
    "duration": 24,
    "start_time": "2025-05-11T19:26:51.780Z"
   },
   {
    "duration": 76,
    "start_time": "2025-05-11T19:26:51.806Z"
   },
   {
    "duration": 8,
    "start_time": "2025-05-11T19:26:51.884Z"
   },
   {
    "duration": 26,
    "start_time": "2025-05-11T19:26:51.894Z"
   },
   {
    "duration": 29,
    "start_time": "2025-05-11T19:26:51.921Z"
   },
   {
    "duration": 32,
    "start_time": "2025-05-11T19:26:51.952Z"
   },
   {
    "duration": 28,
    "start_time": "2025-05-11T19:26:51.986Z"
   },
   {
    "duration": 59,
    "start_time": "2025-05-11T19:26:52.015Z"
   },
   {
    "duration": 203,
    "start_time": "2025-05-11T19:26:52.077Z"
   },
   {
    "duration": 12,
    "start_time": "2025-05-11T19:26:52.282Z"
   },
   {
    "duration": 66,
    "start_time": "2025-05-11T19:26:52.296Z"
   },
   {
    "duration": 21,
    "start_time": "2025-05-11T19:26:52.370Z"
   },
   {
    "duration": 80,
    "start_time": "2025-05-11T19:26:52.392Z"
   },
   {
    "duration": 15,
    "start_time": "2025-05-11T19:26:52.474Z"
   },
   {
    "duration": 260,
    "start_time": "2025-05-11T19:26:52.490Z"
   },
   {
    "duration": 37,
    "start_time": "2025-05-11T19:26:52.756Z"
   },
   {
    "duration": 14,
    "start_time": "2025-05-11T19:26:52.795Z"
   },
   {
    "duration": 12,
    "start_time": "2025-05-11T19:26:52.811Z"
   },
   {
    "duration": 188,
    "start_time": "2025-05-11T19:26:52.825Z"
   },
   {
    "duration": 96,
    "start_time": "2025-05-11T19:26:53.015Z"
   },
   {
    "duration": 41,
    "start_time": "2025-05-11T19:26:53.112Z"
   },
   {
    "duration": 73,
    "start_time": "2025-05-11T19:26:53.158Z"
   },
   {
    "duration": 37,
    "start_time": "2025-05-11T19:26:53.238Z"
   },
   {
    "duration": 38,
    "start_time": "2025-05-11T19:26:53.277Z"
   },
   {
    "duration": 111,
    "start_time": "2025-05-11T19:26:53.317Z"
   },
   {
    "duration": 62,
    "start_time": "2025-05-11T19:26:53.430Z"
   },
   {
    "duration": 89,
    "start_time": "2025-05-11T19:26:53.494Z"
   },
   {
    "duration": 207,
    "start_time": "2025-05-11T19:26:53.585Z"
   },
   {
    "duration": 20,
    "start_time": "2025-05-11T19:26:53.794Z"
   },
   {
    "duration": 4,
    "start_time": "2025-05-11T19:26:53.816Z"
   },
   {
    "duration": 37,
    "start_time": "2025-05-11T19:26:53.821Z"
   },
   {
    "duration": 30,
    "start_time": "2025-05-11T19:26:53.860Z"
   },
   {
    "duration": 80,
    "start_time": "2025-05-11T19:26:53.892Z"
   },
   {
    "duration": 763,
    "start_time": "2025-05-11T19:26:53.974Z"
   },
   {
    "duration": 426,
    "start_time": "2025-05-11T19:26:54.740Z"
   },
   {
    "duration": 131,
    "start_time": "2025-05-11T19:26:55.171Z"
   },
   {
    "duration": 21,
    "start_time": "2025-05-11T19:26:55.304Z"
   },
   {
    "duration": 40,
    "start_time": "2025-05-11T19:26:55.327Z"
   },
   {
    "duration": 58,
    "start_time": "2025-05-11T19:26:55.369Z"
   },
   {
    "duration": 112,
    "start_time": "2025-05-11T19:26:55.428Z"
   },
   {
    "duration": 405,
    "start_time": "2025-05-11T19:26:55.544Z"
   },
   {
    "duration": 211,
    "start_time": "2025-05-11T19:26:55.951Z"
   },
   {
    "duration": 45,
    "start_time": "2025-05-11T19:26:56.168Z"
   },
   {
    "duration": 116,
    "start_time": "2025-05-11T19:26:56.215Z"
   },
   {
    "duration": 82,
    "start_time": "2025-05-11T19:26:56.333Z"
   },
   {
    "duration": 545,
    "start_time": "2025-05-11T19:26:56.417Z"
   },
   {
    "duration": 313,
    "start_time": "2025-05-11T19:26:56.969Z"
   },
   {
    "duration": 491,
    "start_time": "2025-05-11T19:26:57.284Z"
   },
   {
    "duration": 82,
    "start_time": "2025-05-11T19:26:57.778Z"
   },
   {
    "duration": 117,
    "start_time": "2025-05-11T19:26:57.867Z"
   },
   {
    "duration": 54,
    "start_time": "2025-05-11T19:26:57.986Z"
   },
   {
    "duration": 16,
    "start_time": "2025-05-11T19:26:58.042Z"
   },
   {
    "duration": 19,
    "start_time": "2025-05-11T19:26:58.061Z"
   },
   {
    "duration": 83,
    "start_time": "2025-05-11T19:26:58.081Z"
   },
   {
    "duration": 17,
    "start_time": "2025-05-11T19:26:58.171Z"
   },
   {
    "duration": 85,
    "start_time": "2025-05-11T19:26:58.190Z"
   },
   {
    "duration": 88,
    "start_time": "2025-05-11T19:26:58.276Z"
   },
   {
    "duration": 407,
    "start_time": "2025-05-11T19:26:58.366Z"
   },
   {
    "duration": 73,
    "start_time": "2025-05-11T19:26:58.777Z"
   },
   {
    "duration": 8,
    "start_time": "2025-05-11T19:26:58.852Z"
   },
   {
    "duration": 17,
    "start_time": "2025-05-11T19:26:58.865Z"
   },
   {
    "duration": 176,
    "start_time": "2025-05-11T19:26:58.883Z"
   },
   {
    "duration": 9,
    "start_time": "2025-05-11T19:26:59.066Z"
   },
   {
    "duration": 8,
    "start_time": "2025-05-11T19:26:59.077Z"
   },
   {
    "duration": 91,
    "start_time": "2025-05-11T19:26:59.086Z"
   },
   {
    "duration": 368,
    "start_time": "2025-05-11T19:26:59.179Z"
   },
   {
    "duration": 15,
    "start_time": "2025-05-11T19:26:59.550Z"
   },
   {
    "duration": 102,
    "start_time": "2025-05-11T19:26:59.567Z"
   },
   {
    "duration": 9,
    "start_time": "2025-05-11T19:26:59.671Z"
   },
   {
    "duration": 491,
    "start_time": "2025-05-11T19:26:59.681Z"
   },
   {
    "duration": 269,
    "start_time": "2025-05-11T19:27:00.178Z"
   },
   {
    "duration": 102,
    "start_time": "2025-05-11T19:27:00.460Z"
   },
   {
    "duration": 24,
    "start_time": "2025-05-11T19:27:00.565Z"
   },
   {
    "duration": 426,
    "start_time": "2025-05-11T19:27:00.648Z"
   },
   {
    "duration": 162,
    "start_time": "2025-05-11T19:54:11.463Z"
   },
   {
    "duration": 62,
    "start_time": "2025-05-11T19:54:14.752Z"
   },
   {
    "duration": 1324,
    "start_time": "2025-05-13T11:36:54.858Z"
   },
   {
    "duration": 133,
    "start_time": "2025-05-13T11:36:57.076Z"
   },
   {
    "duration": 1234,
    "start_time": "2025-05-13T11:39:17.046Z"
   },
   {
    "duration": 2935,
    "start_time": "2025-05-13T11:39:18.282Z"
   },
   {
    "duration": 13,
    "start_time": "2025-05-13T11:39:21.219Z"
   },
   {
    "duration": 14,
    "start_time": "2025-05-13T11:39:21.234Z"
   },
   {
    "duration": 125,
    "start_time": "2025-05-13T11:39:21.249Z"
   },
   {
    "duration": 25,
    "start_time": "2025-05-13T11:39:21.376Z"
   },
   {
    "duration": 46,
    "start_time": "2025-05-13T11:39:21.403Z"
   },
   {
    "duration": 9,
    "start_time": "2025-05-13T11:39:21.463Z"
   },
   {
    "duration": 63,
    "start_time": "2025-05-13T11:39:21.474Z"
   },
   {
    "duration": 31,
    "start_time": "2025-05-13T11:39:21.540Z"
   },
   {
    "duration": 26,
    "start_time": "2025-05-13T11:39:21.573Z"
   },
   {
    "duration": 8,
    "start_time": "2025-05-13T11:39:21.601Z"
   },
   {
    "duration": 33,
    "start_time": "2025-05-13T11:39:21.611Z"
   },
   {
    "duration": 155,
    "start_time": "2025-05-13T11:39:21.646Z"
   },
   {
    "duration": 12,
    "start_time": "2025-05-13T11:39:21.802Z"
   },
   {
    "duration": 59,
    "start_time": "2025-05-13T11:39:21.815Z"
   },
   {
    "duration": 20,
    "start_time": "2025-05-13T11:39:21.876Z"
   },
   {
    "duration": 25,
    "start_time": "2025-05-13T11:39:21.898Z"
   },
   {
    "duration": 38,
    "start_time": "2025-05-13T11:39:21.924Z"
   },
   {
    "duration": 214,
    "start_time": "2025-05-13T11:39:21.964Z"
   },
   {
    "duration": 30,
    "start_time": "2025-05-13T11:39:22.180Z"
   },
   {
    "duration": 49,
    "start_time": "2025-05-13T11:39:22.212Z"
   },
   {
    "duration": 13,
    "start_time": "2025-05-13T11:39:22.263Z"
   },
   {
    "duration": 158,
    "start_time": "2025-05-13T11:39:22.277Z"
   },
   {
    "duration": 73,
    "start_time": "2025-05-13T11:39:22.437Z"
   },
   {
    "duration": 70,
    "start_time": "2025-05-13T11:39:22.511Z"
   },
   {
    "duration": 123,
    "start_time": "2025-05-13T11:39:22.583Z"
   },
   {
    "duration": 22,
    "start_time": "2025-05-13T11:39:22.710Z"
   },
   {
    "duration": 56,
    "start_time": "2025-05-13T11:39:22.733Z"
   },
   {
    "duration": 102,
    "start_time": "2025-05-13T11:39:22.790Z"
   },
   {
    "duration": 32,
    "start_time": "2025-05-13T11:39:22.893Z"
   },
   {
    "duration": 83,
    "start_time": "2025-05-13T11:39:22.926Z"
   },
   {
    "duration": 190,
    "start_time": "2025-05-13T11:39:23.011Z"
   },
   {
    "duration": 20,
    "start_time": "2025-05-13T11:39:23.203Z"
   },
   {
    "duration": 4,
    "start_time": "2025-05-13T11:39:23.224Z"
   },
   {
    "duration": 38,
    "start_time": "2025-05-13T11:39:23.230Z"
   },
   {
    "duration": 28,
    "start_time": "2025-05-13T11:39:23.270Z"
   },
   {
    "duration": 93,
    "start_time": "2025-05-13T11:39:23.299Z"
   },
   {
    "duration": 681,
    "start_time": "2025-05-13T11:39:23.393Z"
   },
   {
    "duration": 386,
    "start_time": "2025-05-13T11:39:24.077Z"
   },
   {
    "duration": 130,
    "start_time": "2025-05-13T11:39:24.464Z"
   },
   {
    "duration": 20,
    "start_time": "2025-05-13T11:39:24.596Z"
   },
   {
    "duration": 55,
    "start_time": "2025-05-13T11:39:24.617Z"
   },
   {
    "duration": 57,
    "start_time": "2025-05-13T11:39:24.674Z"
   },
   {
    "duration": 86,
    "start_time": "2025-05-13T11:39:24.733Z"
   },
   {
    "duration": 357,
    "start_time": "2025-05-13T11:39:24.821Z"
   },
   {
    "duration": 184,
    "start_time": "2025-05-13T11:39:25.179Z"
   },
   {
    "duration": 46,
    "start_time": "2025-05-13T11:39:25.365Z"
   },
   {
    "duration": 120,
    "start_time": "2025-05-13T11:39:25.413Z"
   },
   {
    "duration": 75,
    "start_time": "2025-05-13T11:39:25.535Z"
   },
   {
    "duration": 238,
    "start_time": "2025-05-13T11:39:25.611Z"
   },
   {
    "duration": 92,
    "start_time": "2025-05-13T11:39:25.851Z"
   },
   {
    "duration": 197,
    "start_time": "2025-05-13T11:39:25.945Z"
   },
   {
    "duration": 7,
    "start_time": "2025-05-13T11:39:26.143Z"
   },
   {
    "duration": 63,
    "start_time": "2025-05-13T11:39:26.152Z"
   },
   {
    "duration": 6,
    "start_time": "2025-05-13T11:39:26.217Z"
   },
   {
    "duration": 44,
    "start_time": "2025-05-13T11:39:26.225Z"
   },
   {
    "duration": 18,
    "start_time": "2025-05-13T11:39:26.271Z"
   },
   {
    "duration": 16,
    "start_time": "2025-05-13T11:39:26.291Z"
   },
   {
    "duration": 22,
    "start_time": "2025-05-13T11:39:26.309Z"
   },
   {
    "duration": 31,
    "start_time": "2025-05-13T11:39:26.332Z"
   },
   {
    "duration": 17,
    "start_time": "2025-05-13T11:39:26.365Z"
   },
   {
    "duration": 231,
    "start_time": "2025-05-13T11:39:26.384Z"
   },
   {
    "duration": 11,
    "start_time": "2025-05-13T11:39:26.616Z"
   },
   {
    "duration": 11,
    "start_time": "2025-05-13T11:39:26.629Z"
   },
   {
    "duration": 22,
    "start_time": "2025-05-13T11:39:26.641Z"
   },
   {
    "duration": 51,
    "start_time": "2025-05-13T11:39:26.665Z"
   },
   {
    "duration": 4,
    "start_time": "2025-05-13T11:39:26.718Z"
   },
   {
    "duration": 14,
    "start_time": "2025-05-13T11:39:26.724Z"
   },
   {
    "duration": 22,
    "start_time": "2025-05-13T11:39:26.762Z"
   },
   {
    "duration": 151,
    "start_time": "2025-05-13T11:39:26.785Z"
   },
   {
    "duration": 10,
    "start_time": "2025-05-13T11:39:26.938Z"
   },
   {
    "duration": 38,
    "start_time": "2025-05-13T11:39:26.950Z"
   },
   {
    "duration": 28,
    "start_time": "2025-05-13T11:39:26.990Z"
   },
   {
    "duration": 191,
    "start_time": "2025-05-13T11:39:27.019Z"
   },
   {
    "duration": 72,
    "start_time": "2025-05-13T11:39:27.211Z"
   },
   {
    "duration": 40,
    "start_time": "2025-05-13T11:39:27.285Z"
   },
   {
    "duration": 13,
    "start_time": "2025-05-13T11:39:27.327Z"
   },
   {
    "duration": 150,
    "start_time": "2025-05-13T11:39:27.361Z"
   }
  ],
  "colab": {
   "provenance": []
  },
  "kernelspec": {
   "display_name": "Python 3 (ipykernel)",
   "language": "python",
   "name": "python3"
  },
  "language_info": {
   "codemirror_mode": {
    "name": "ipython",
    "version": 3
   },
   "file_extension": ".py",
   "mimetype": "text/x-python",
   "name": "python",
   "nbconvert_exporter": "python",
   "pygments_lexer": "ipython3",
   "version": "3.9.5"
  },
  "toc": {
   "base_numbering": 1,
   "nav_menu": {},
   "number_sections": true,
   "sideBar": true,
   "skip_h1_title": true,
   "title_cell": "Table of Contents",
   "title_sidebar": "Contents",
   "toc_cell": false,
   "toc_position": {
    "height": "698px",
    "left": "71px",
    "top": "363.125px",
    "width": "359.391px"
   },
   "toc_section_display": true,
   "toc_window_display": true
  }
 },
 "nbformat": 4,
 "nbformat_minor": 1
}
