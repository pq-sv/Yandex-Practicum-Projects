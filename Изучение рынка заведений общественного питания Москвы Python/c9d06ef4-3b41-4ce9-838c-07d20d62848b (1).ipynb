{
 "cells": [
  {
   "cell_type": "markdown",
   "id": "e06910dd",
   "metadata": {
    "id": "e06910dd"
   },
   "source": [
    "# Изучение рынка заведений общественного питания Москвы\n",
    "\n",
    "- Автор:Кононов С.В.\n",
    "- Дата:26.04.2005"
   ]
  },
  {
   "cell_type": "markdown",
   "id": "4149134c",
   "metadata": {
    "id": "4149134c"
   },
   "source": [
    "# Цели и задачи проекта\n",
    "\n",
    "**Цель:** Провести исследовательский анализ рынка Москвы. На основе полученных данных выявить наиболее востребованные типы ресторанов общественного питания, а также подходящего места для их размещения\n",
    "\n",
    "**Задачи:**\n",
    "\n",
    "1. Загрузить данные и познакомиться с их содержимым.\n",
    "2. Провести предобработку данных.\n",
    "3. Провести исследовательский анализ данных:\n",
    "    - изучить данные более детально;\n",
    "    - изучить взаимосвязь данных в столбце Сhurn с другими данными.\n",
    "4. Сформулировать выводы по проведённому анализу."
   ]
  },
  {
   "cell_type": "markdown",
   "id": "728986ea",
   "metadata": {
    "id": "728986ea"
   },
   "source": [
    "### Описание данных\n",
    "\n",
    "Для анализа будем использовать датасет с заведениями общественного питания Москвы, составленный на основе данных сервисов Яндекс Карты и Яндекс Бизнес на лето 2022 года. Данные состоят из двух датасетов:\n",
    "\n",
    "- `rest_info.csv` — содержит информацию о заведениях общественного питания;\n",
    "- `rest_price.csv` —   содержит информацию о среднем чеке в заведениях общественного питания.\n",
    "\n",
    "**Описание датасета `rest_info.csv`**\n",
    "\n",
    "- name — название заведения;\n",
    "- address — адрес заведения;\n",
    "- district — административный район, в котором находится заведение, например Центральный административный округ;\n",
    "- category — категория заведения, например «кафе», «пиццерия» или «кофейня»;\n",
    "- hours — информация о днях и часах работы;\n",
    "- rating — рейтинг заведения по оценкам пользователей в Яндекс Картах (высшая оценка — 5.0);\n",
    "- chain — число, выраженное 0 или 1, которое показывает, является ли заведение сетевым (для маленьких сетей могут встречаться ошибки):\n",
    "\n",
    "0 — заведение не является сетевым;\n",
    "1 — заведение является сетевым.\n",
    "- seats — количество посадочных мест.\n",
    "\n",
    "**Описание датасета `rest_price.csv`**\n",
    "\n",
    "- price — категория цен в заведении, например «средние», «ниже среднего», «выше среднего» и так далее;\n",
    "- avg_bill — строка, которая хранит среднюю стоимость заказа в виде диапазона, например:\n",
    "\n",
    "«Средний счёт: 1000–1500 ₽»;\n",
    "«Цена чашки капучино: 130–220 ₽»;\n",
    "«Цена бокала пива: 400–600 ₽».\n",
    "и так далее;\n",
    "- middle_avg_bill — число с оценкой среднего чека, которое указано только для значений из столбца avg_bill, начинающихся с подстроки «Средний счёт»:\n",
    "\n",
    "Если в строке указан ценовой диапазон из двух значений, в столбец войдёт медиана этих двух значений.\n",
    "\n",
    "Если в строке указано одно число — цена без диапазона, то в столбец войдёт это число.\n",
    "\n",
    "Если значения нет или оно не начинается с подстроки «Средний счёт», то в столбец ничего не войдёт.\n",
    "- middle_coffee_cup — число с оценкой одной чашки капучино, которое указано только для значений из столбца avg_bill, начинающихся с подстроки «Цена одной чашки капучино»:\n",
    "\n",
    "Если в строке указан ценовой диапазон из двух значений, в столбец войдёт медиана этих двух значений.\n",
    "\n",
    "Если в строке указано одно число — цена без диапазона, то в столбец войдёт это число.\n",
    "\n",
    "Если значения нет или оно не начинается с подстроки «Цена одной чашки капучино», то в столбец ничего не войдёт."
   ]
  },
  {
   "cell_type": "markdown",
   "id": "4fecaf95",
   "metadata": {
    "id": "4fecaf95"
   },
   "source": [
    "### Содержимое проекта\n",
    "\n",
    "1. Загрузка данных и знакомство с ними.\n",
    "2. Предобработка данных.\n",
    "3. Исследовательский анализ данных.\n",
    "4. Итоговый вывод и рекомендации.\n",
    "\n"
   ]
  },
  {
   "cell_type": "markdown",
   "id": "6f7d21d6",
   "metadata": {
    "id": "6f7d21d6"
   },
   "source": [
    "##  Загрузка данных и знакомство с ними\n"
   ]
  },
  {
   "cell_type": "code",
   "execution_count": 1,
   "id": "6c740f13",
   "metadata": {},
   "outputs": [
    {
     "name": "stdout",
     "output_type": "stream",
     "text": [
      "Collecting phik\n",
      "  Downloading phik-0.12.4-cp39-cp39-manylinux_2_17_x86_64.manylinux2014_x86_64.whl (686 kB)\n",
      "\u001b[K     |████████████████████████████████| 686 kB 1.3 MB/s eta 0:00:01\n",
      "\u001b[?25hRequirement already satisfied: joblib>=0.14.1 in /opt/conda/lib/python3.9/site-packages (from phik) (1.1.0)\n",
      "Requirement already satisfied: numpy>=1.18.0 in /opt/conda/lib/python3.9/site-packages (from phik) (1.21.1)\n",
      "Requirement already satisfied: scipy>=1.5.2 in /opt/conda/lib/python3.9/site-packages (from phik) (1.9.1)\n",
      "Requirement already satisfied: matplotlib>=2.2.3 in /opt/conda/lib/python3.9/site-packages (from phik) (3.3.4)\n",
      "Requirement already satisfied: pandas>=0.25.1 in /opt/conda/lib/python3.9/site-packages (from phik) (1.2.4)\n",
      "Requirement already satisfied: python-dateutil>=2.1 in /opt/conda/lib/python3.9/site-packages (from matplotlib>=2.2.3->phik) (2.8.1)\n",
      "Requirement already satisfied: kiwisolver>=1.0.1 in /opt/conda/lib/python3.9/site-packages (from matplotlib>=2.2.3->phik) (1.4.4)\n",
      "Requirement already satisfied: pillow>=6.2.0 in /opt/conda/lib/python3.9/site-packages (from matplotlib>=2.2.3->phik) (8.4.0)\n",
      "Requirement already satisfied: cycler>=0.10 in /opt/conda/lib/python3.9/site-packages (from matplotlib>=2.2.3->phik) (0.11.0)\n",
      "Requirement already satisfied: pyparsing!=2.0.4,!=2.1.2,!=2.1.6,>=2.0.3 in /opt/conda/lib/python3.9/site-packages (from matplotlib>=2.2.3->phik) (2.4.7)\n",
      "Requirement already satisfied: pytz>=2017.3 in /opt/conda/lib/python3.9/site-packages (from pandas>=0.25.1->phik) (2021.1)\n",
      "Requirement already satisfied: six>=1.5 in /opt/conda/lib/python3.9/site-packages (from python-dateutil>=2.1->matplotlib>=2.2.3->phik) (1.16.0)\n",
      "Installing collected packages: phik\n",
      "Successfully installed phik-0.12.4\n"
     ]
    }
   ],
   "source": [
    "!pip install phik -U"
   ]
  },
  {
   "cell_type": "code",
   "execution_count": 2,
   "id": "abca889f",
   "metadata": {},
   "outputs": [],
   "source": [
    "# Импортируем библиотеки\n",
    "import pandas as pd\n",
    "\n",
    "import matplotlib.pyplot as plt\n",
    "import seaborn as sns\n",
    "\n",
    "from phik import phik_matrix\n",
    "from scipy.stats import spearmanr\n",
    "import re"
   ]
  },
  {
   "cell_type": "code",
   "execution_count": 3,
   "id": "551f4efe",
   "metadata": {
    "id": "05faf34b"
   },
   "outputs": [],
   "source": [
    "# Загружаем данные о заведениях общественного питания Москвы\n",
    "info_df = pd.read_csv('https://code.s3.yandex.net/datasets/rest_info.csv')\n",
    "                   \n",
    "price_df = pd.read_csv('https://code.s3.yandex.net/datasets/rest_price.csv')"
   ]
  },
  {
   "cell_type": "code",
   "execution_count": 4,
   "id": "f68a7419",
   "metadata": {
    "id": "f68a7419"
   },
   "outputs": [
    {
     "name": "stdout",
     "output_type": "stream",
     "text": [
      "<class 'pandas.core.frame.DataFrame'>\n",
      "RangeIndex: 8406 entries, 0 to 8405\n",
      "Data columns (total 9 columns):\n",
      " #   Column    Non-Null Count  Dtype  \n",
      "---  ------    --------------  -----  \n",
      " 0   id        8406 non-null   object \n",
      " 1   name      8406 non-null   object \n",
      " 2   category  8406 non-null   object \n",
      " 3   address   8406 non-null   object \n",
      " 4   district  8406 non-null   object \n",
      " 5   hours     7870 non-null   object \n",
      " 6   rating    8406 non-null   float64\n",
      " 7   chain     8406 non-null   int64  \n",
      " 8   seats     4795 non-null   float64\n",
      "dtypes: float64(2), int64(1), object(6)\n",
      "memory usage: 591.2+ KB\n"
     ]
    }
   ],
   "source": [
    "# Выводим информацию о info_df\n",
    "info_df.info()"
   ]
  },
  {
   "cell_type": "code",
   "execution_count": 5,
   "id": "dd415c80",
   "metadata": {
    "id": "dd415c80"
   },
   "outputs": [
    {
     "data": {
      "text/html": [
       "<div>\n",
       "<style scoped>\n",
       "    .dataframe tbody tr th:only-of-type {\n",
       "        vertical-align: middle;\n",
       "    }\n",
       "\n",
       "    .dataframe tbody tr th {\n",
       "        vertical-align: top;\n",
       "    }\n",
       "\n",
       "    .dataframe thead th {\n",
       "        text-align: right;\n",
       "    }\n",
       "</style>\n",
       "<table border=\"1\" class=\"dataframe\">\n",
       "  <thead>\n",
       "    <tr style=\"text-align: right;\">\n",
       "      <th></th>\n",
       "      <th>id</th>\n",
       "      <th>name</th>\n",
       "      <th>category</th>\n",
       "      <th>address</th>\n",
       "      <th>district</th>\n",
       "      <th>hours</th>\n",
       "      <th>rating</th>\n",
       "      <th>chain</th>\n",
       "      <th>seats</th>\n",
       "    </tr>\n",
       "  </thead>\n",
       "  <tbody>\n",
       "    <tr>\n",
       "      <th>0</th>\n",
       "      <td>0c3e3439a8c64ea5bf6ecd6ca6ae19f0</td>\n",
       "      <td>WoWфли</td>\n",
       "      <td>кафе</td>\n",
       "      <td>Москва, улица Дыбенко, 7/1</td>\n",
       "      <td>Северный административный округ</td>\n",
       "      <td>ежедневно, 10:00–22:00</td>\n",
       "      <td>5.0</td>\n",
       "      <td>0</td>\n",
       "      <td>NaN</td>\n",
       "    </tr>\n",
       "    <tr>\n",
       "      <th>1</th>\n",
       "      <td>045780ada3474c57a2112e505d74b633</td>\n",
       "      <td>Четыре комнаты</td>\n",
       "      <td>ресторан</td>\n",
       "      <td>Москва, улица Дыбенко, 36, корп. 1</td>\n",
       "      <td>Северный административный округ</td>\n",
       "      <td>ежедневно, 10:00–22:00</td>\n",
       "      <td>4.5</td>\n",
       "      <td>0</td>\n",
       "      <td>4.0</td>\n",
       "    </tr>\n",
       "    <tr>\n",
       "      <th>2</th>\n",
       "      <td>1070b6b59144425896c65889347fcff6</td>\n",
       "      <td>Хазри</td>\n",
       "      <td>кафе</td>\n",
       "      <td>Москва, Клязьминская улица, 15</td>\n",
       "      <td>Северный административный округ</td>\n",
       "      <td>пн-чт 11:00–02:00; пт,сб 11:00–05:00; вс 11:00...</td>\n",
       "      <td>4.6</td>\n",
       "      <td>0</td>\n",
       "      <td>45.0</td>\n",
       "    </tr>\n",
       "    <tr>\n",
       "      <th>3</th>\n",
       "      <td>03ac7cd772104f65b58b349dc59f03ee</td>\n",
       "      <td>Dormouse Coffee Shop</td>\n",
       "      <td>кофейня</td>\n",
       "      <td>Москва, улица Маршала Федоренко, 12</td>\n",
       "      <td>Северный административный округ</td>\n",
       "      <td>ежедневно, 09:00–22:00</td>\n",
       "      <td>5.0</td>\n",
       "      <td>0</td>\n",
       "      <td>NaN</td>\n",
       "    </tr>\n",
       "    <tr>\n",
       "      <th>4</th>\n",
       "      <td>a163aada139c4c7f87b0b1c0b466a50f</td>\n",
       "      <td>Иль Марко</td>\n",
       "      <td>пиццерия</td>\n",
       "      <td>Москва, Правобережная улица, 1Б</td>\n",
       "      <td>Северный административный округ</td>\n",
       "      <td>ежедневно, 10:00–22:00</td>\n",
       "      <td>5.0</td>\n",
       "      <td>1</td>\n",
       "      <td>148.0</td>\n",
       "    </tr>\n",
       "  </tbody>\n",
       "</table>\n",
       "</div>"
      ],
      "text/plain": [
       "                                 id                  name  category  \\\n",
       "0  0c3e3439a8c64ea5bf6ecd6ca6ae19f0                WoWфли      кафе   \n",
       "1  045780ada3474c57a2112e505d74b633        Четыре комнаты  ресторан   \n",
       "2  1070b6b59144425896c65889347fcff6                 Хазри      кафе   \n",
       "3  03ac7cd772104f65b58b349dc59f03ee  Dormouse Coffee Shop   кофейня   \n",
       "4  a163aada139c4c7f87b0b1c0b466a50f             Иль Марко  пиццерия   \n",
       "\n",
       "                               address                         district  \\\n",
       "0           Москва, улица Дыбенко, 7/1  Северный административный округ   \n",
       "1   Москва, улица Дыбенко, 36, корп. 1  Северный административный округ   \n",
       "2       Москва, Клязьминская улица, 15  Северный административный округ   \n",
       "3  Москва, улица Маршала Федоренко, 12  Северный административный округ   \n",
       "4      Москва, Правобережная улица, 1Б  Северный административный округ   \n",
       "\n",
       "                                               hours  rating  chain  seats  \n",
       "0                             ежедневно, 10:00–22:00     5.0      0    NaN  \n",
       "1                             ежедневно, 10:00–22:00     4.5      0    4.0  \n",
       "2  пн-чт 11:00–02:00; пт,сб 11:00–05:00; вс 11:00...     4.6      0   45.0  \n",
       "3                             ежедневно, 09:00–22:00     5.0      0    NaN  \n",
       "4                             ежедневно, 10:00–22:00     5.0      1  148.0  "
      ]
     },
     "execution_count": 5,
     "metadata": {},
     "output_type": "execute_result"
    }
   ],
   "source": [
    "# Выводим первые 5 строк info_df\n",
    "info_df.head()"
   ]
  },
  {
   "cell_type": "markdown",
   "id": "80838a6a",
   "metadata": {},
   "source": [
    "### Промежуточный вывод по датасету `info_df`"
   ]
  },
  {
   "cell_type": "markdown",
   "id": "2ebb22e4",
   "metadata": {},
   "source": [
    "Датасет `info_df` содержит 9 столбцов и 8406 строк\n",
    "\n",
    "После первичного анализа данных можно сделать следующие выводы:\n",
    "- Названия столбцов не требуют предоработки\n",
    "- 6 столбцов представлены в типе данных `object`. Значения в столбцах `rating` и `seats` представлены в формате `float64`. Столбец `chain` представлен типом данных `int64`.\n",
    "\n",
    "Столбец `chain` которое показывает, является ли заведение сетевым и содержит значения 1 или 0 — размерность этих данных можно оптимизировать. Типы данных остальных столбцов не нуждаются в предоработки.\n",
    "- Пропуски содержатся в столбцах `hours` и `seats`.\n",
    "- Судя по первому знакомству с данными, значения в столбцах соответствуют своему описанию.\n",
    "\n",
    "---"
   ]
  },
  {
   "cell_type": "code",
   "execution_count": 6,
   "id": "3158ad37",
   "metadata": {
    "id": "3158ad37"
   },
   "outputs": [
    {
     "name": "stdout",
     "output_type": "stream",
     "text": [
      "<class 'pandas.core.frame.DataFrame'>\n",
      "RangeIndex: 4058 entries, 0 to 4057\n",
      "Data columns (total 5 columns):\n",
      " #   Column             Non-Null Count  Dtype  \n",
      "---  ------             --------------  -----  \n",
      " 0   id                 4058 non-null   object \n",
      " 1   price              3315 non-null   object \n",
      " 2   avg_bill           3816 non-null   object \n",
      " 3   middle_avg_bill    3149 non-null   float64\n",
      " 4   middle_coffee_cup  535 non-null    float64\n",
      "dtypes: float64(2), object(3)\n",
      "memory usage: 158.6+ KB\n"
     ]
    }
   ],
   "source": [
    "# Выводим информацию о price_df\n",
    "price_df.info()"
   ]
  },
  {
   "cell_type": "code",
   "execution_count": 7,
   "id": "dfd0bd85",
   "metadata": {},
   "outputs": [
    {
     "data": {
      "text/html": [
       "<div>\n",
       "<style scoped>\n",
       "    .dataframe tbody tr th:only-of-type {\n",
       "        vertical-align: middle;\n",
       "    }\n",
       "\n",
       "    .dataframe tbody tr th {\n",
       "        vertical-align: top;\n",
       "    }\n",
       "\n",
       "    .dataframe thead th {\n",
       "        text-align: right;\n",
       "    }\n",
       "</style>\n",
       "<table border=\"1\" class=\"dataframe\">\n",
       "  <thead>\n",
       "    <tr style=\"text-align: right;\">\n",
       "      <th></th>\n",
       "      <th>id</th>\n",
       "      <th>price</th>\n",
       "      <th>avg_bill</th>\n",
       "      <th>middle_avg_bill</th>\n",
       "      <th>middle_coffee_cup</th>\n",
       "    </tr>\n",
       "  </thead>\n",
       "  <tbody>\n",
       "    <tr>\n",
       "      <th>0</th>\n",
       "      <td>045780ada3474c57a2112e505d74b633</td>\n",
       "      <td>выше среднего</td>\n",
       "      <td>Средний счёт:1500–1600 ₽</td>\n",
       "      <td>1550.0</td>\n",
       "      <td>NaN</td>\n",
       "    </tr>\n",
       "    <tr>\n",
       "      <th>1</th>\n",
       "      <td>1070b6b59144425896c65889347fcff6</td>\n",
       "      <td>средние</td>\n",
       "      <td>Средний счёт:от 1000 ₽</td>\n",
       "      <td>1000.0</td>\n",
       "      <td>NaN</td>\n",
       "    </tr>\n",
       "    <tr>\n",
       "      <th>2</th>\n",
       "      <td>03ac7cd772104f65b58b349dc59f03ee</td>\n",
       "      <td>NaN</td>\n",
       "      <td>Цена чашки капучино:155–185 ₽</td>\n",
       "      <td>NaN</td>\n",
       "      <td>170.0</td>\n",
       "    </tr>\n",
       "    <tr>\n",
       "      <th>3</th>\n",
       "      <td>a163aada139c4c7f87b0b1c0b466a50f</td>\n",
       "      <td>средние</td>\n",
       "      <td>Средний счёт:400–600 ₽</td>\n",
       "      <td>500.0</td>\n",
       "      <td>NaN</td>\n",
       "    </tr>\n",
       "    <tr>\n",
       "      <th>4</th>\n",
       "      <td>8a343546b24e4a499ad96eb7d0797a8a</td>\n",
       "      <td>средние</td>\n",
       "      <td>NaN</td>\n",
       "      <td>NaN</td>\n",
       "      <td>NaN</td>\n",
       "    </tr>\n",
       "  </tbody>\n",
       "</table>\n",
       "</div>"
      ],
      "text/plain": [
       "                                 id          price  \\\n",
       "0  045780ada3474c57a2112e505d74b633  выше среднего   \n",
       "1  1070b6b59144425896c65889347fcff6        средние   \n",
       "2  03ac7cd772104f65b58b349dc59f03ee            NaN   \n",
       "3  a163aada139c4c7f87b0b1c0b466a50f        средние   \n",
       "4  8a343546b24e4a499ad96eb7d0797a8a        средние   \n",
       "\n",
       "                        avg_bill  middle_avg_bill  middle_coffee_cup  \n",
       "0       Средний счёт:1500–1600 ₽           1550.0                NaN  \n",
       "1         Средний счёт:от 1000 ₽           1000.0                NaN  \n",
       "2  Цена чашки капучино:155–185 ₽              NaN              170.0  \n",
       "3         Средний счёт:400–600 ₽            500.0                NaN  \n",
       "4                            NaN              NaN                NaN  "
      ]
     },
     "execution_count": 7,
     "metadata": {},
     "output_type": "execute_result"
    }
   ],
   "source": [
    "# Выводим первые 5 строк price_df\n",
    "price_df.head()"
   ]
  },
  {
   "cell_type": "markdown",
   "id": "2c614a62",
   "metadata": {
    "id": "2c614a62"
   },
   "source": [
    "\n",
    "### Промежуточный вывод по датасету `price_df`"
   ]
  },
  {
   "cell_type": "markdown",
   "id": "cf91b44c",
   "metadata": {
    "id": "3593b7d5"
   },
   "source": [
    "Датасет `price_df` содержит 5 столбцов и 4058 строк\n",
    "\n",
    "После первичного анализа данных можно сделать следующие выводы:\n",
    "- Названия столбцов не требуют предоработки\n",
    "- 3 столбца представлены в типе данных `object`. Значения в столбцах `middle_avg_bill` и `middle_coffee_cup` представлены в формате `float64`.\n",
    "\n",
    "На первый взгдяд типы данных столбцов не нуждаются в предоработке\n",
    "- Пропуски содержатся во всех столбцах, кроме `id`. Особенно большое число пропусков содержится в столбце `middle_coffee_cup`.\n",
    "- Судя по первому знакомству с данными, значения в столбцах соответствуют своему описанию."
   ]
  },
  {
   "cell_type": "markdown",
   "id": "8a8d1491",
   "metadata": {
    "id": "8a8d1491"
   },
   "source": [
    "### Подготовка единого датафрейма\n"
   ]
  },
  {
   "cell_type": "code",
   "execution_count": 8,
   "id": "3408e303",
   "metadata": {
    "id": "3408e303"
   },
   "outputs": [],
   "source": [
    "# Объединяем info_df и price_df в один датафрейм\n",
    "join_df = info_df.merge(price_df, how = 'left', on = 'id')"
   ]
  },
  {
   "cell_type": "code",
   "execution_count": 9,
   "id": "5695950b",
   "metadata": {
    "id": "5695950b",
    "scrolled": true
   },
   "outputs": [
    {
     "name": "stdout",
     "output_type": "stream",
     "text": [
      "<class 'pandas.core.frame.DataFrame'>\n",
      "Int64Index: 8406 entries, 0 to 8405\n",
      "Data columns (total 13 columns):\n",
      " #   Column             Non-Null Count  Dtype  \n",
      "---  ------             --------------  -----  \n",
      " 0   id                 8406 non-null   object \n",
      " 1   name               8406 non-null   object \n",
      " 2   category           8406 non-null   object \n",
      " 3   address            8406 non-null   object \n",
      " 4   district           8406 non-null   object \n",
      " 5   hours              7870 non-null   object \n",
      " 6   rating             8406 non-null   float64\n",
      " 7   chain              8406 non-null   int64  \n",
      " 8   seats              4795 non-null   float64\n",
      " 9   price              3315 non-null   object \n",
      " 10  avg_bill           3816 non-null   object \n",
      " 11  middle_avg_bill    3149 non-null   float64\n",
      " 12  middle_coffee_cup  535 non-null    float64\n",
      "dtypes: float64(4), int64(1), object(8)\n",
      "memory usage: 919.4+ KB\n"
     ]
    }
   ],
   "source": [
    "# Общая информация объединенного датафрейма\n",
    "join_df.info()"
   ]
  },
  {
   "cell_type": "code",
   "execution_count": 10,
   "id": "6577c71c",
   "metadata": {
    "id": "6577c71c",
    "scrolled": true
   },
   "outputs": [
    {
     "data": {
      "text/html": [
       "<div>\n",
       "<style scoped>\n",
       "    .dataframe tbody tr th:only-of-type {\n",
       "        vertical-align: middle;\n",
       "    }\n",
       "\n",
       "    .dataframe tbody tr th {\n",
       "        vertical-align: top;\n",
       "    }\n",
       "\n",
       "    .dataframe thead th {\n",
       "        text-align: right;\n",
       "    }\n",
       "</style>\n",
       "<table border=\"1\" class=\"dataframe\">\n",
       "  <thead>\n",
       "    <tr style=\"text-align: right;\">\n",
       "      <th></th>\n",
       "      <th>id</th>\n",
       "      <th>name</th>\n",
       "      <th>category</th>\n",
       "      <th>address</th>\n",
       "      <th>district</th>\n",
       "      <th>hours</th>\n",
       "      <th>rating</th>\n",
       "      <th>chain</th>\n",
       "      <th>seats</th>\n",
       "      <th>price</th>\n",
       "      <th>avg_bill</th>\n",
       "      <th>middle_avg_bill</th>\n",
       "      <th>middle_coffee_cup</th>\n",
       "    </tr>\n",
       "  </thead>\n",
       "  <tbody>\n",
       "    <tr>\n",
       "      <th>0</th>\n",
       "      <td>0c3e3439a8c64ea5bf6ecd6ca6ae19f0</td>\n",
       "      <td>WoWфли</td>\n",
       "      <td>кафе</td>\n",
       "      <td>Москва, улица Дыбенко, 7/1</td>\n",
       "      <td>Северный административный округ</td>\n",
       "      <td>ежедневно, 10:00–22:00</td>\n",
       "      <td>5.0</td>\n",
       "      <td>0</td>\n",
       "      <td>NaN</td>\n",
       "      <td>NaN</td>\n",
       "      <td>NaN</td>\n",
       "      <td>NaN</td>\n",
       "      <td>NaN</td>\n",
       "    </tr>\n",
       "    <tr>\n",
       "      <th>1</th>\n",
       "      <td>045780ada3474c57a2112e505d74b633</td>\n",
       "      <td>Четыре комнаты</td>\n",
       "      <td>ресторан</td>\n",
       "      <td>Москва, улица Дыбенко, 36, корп. 1</td>\n",
       "      <td>Северный административный округ</td>\n",
       "      <td>ежедневно, 10:00–22:00</td>\n",
       "      <td>4.5</td>\n",
       "      <td>0</td>\n",
       "      <td>4.0</td>\n",
       "      <td>выше среднего</td>\n",
       "      <td>Средний счёт:1500–1600 ₽</td>\n",
       "      <td>1550.0</td>\n",
       "      <td>NaN</td>\n",
       "    </tr>\n",
       "    <tr>\n",
       "      <th>2</th>\n",
       "      <td>1070b6b59144425896c65889347fcff6</td>\n",
       "      <td>Хазри</td>\n",
       "      <td>кафе</td>\n",
       "      <td>Москва, Клязьминская улица, 15</td>\n",
       "      <td>Северный административный округ</td>\n",
       "      <td>пн-чт 11:00–02:00; пт,сб 11:00–05:00; вс 11:00...</td>\n",
       "      <td>4.6</td>\n",
       "      <td>0</td>\n",
       "      <td>45.0</td>\n",
       "      <td>средние</td>\n",
       "      <td>Средний счёт:от 1000 ₽</td>\n",
       "      <td>1000.0</td>\n",
       "      <td>NaN</td>\n",
       "    </tr>\n",
       "    <tr>\n",
       "      <th>3</th>\n",
       "      <td>03ac7cd772104f65b58b349dc59f03ee</td>\n",
       "      <td>Dormouse Coffee Shop</td>\n",
       "      <td>кофейня</td>\n",
       "      <td>Москва, улица Маршала Федоренко, 12</td>\n",
       "      <td>Северный административный округ</td>\n",
       "      <td>ежедневно, 09:00–22:00</td>\n",
       "      <td>5.0</td>\n",
       "      <td>0</td>\n",
       "      <td>NaN</td>\n",
       "      <td>NaN</td>\n",
       "      <td>Цена чашки капучино:155–185 ₽</td>\n",
       "      <td>NaN</td>\n",
       "      <td>170.0</td>\n",
       "    </tr>\n",
       "    <tr>\n",
       "      <th>4</th>\n",
       "      <td>a163aada139c4c7f87b0b1c0b466a50f</td>\n",
       "      <td>Иль Марко</td>\n",
       "      <td>пиццерия</td>\n",
       "      <td>Москва, Правобережная улица, 1Б</td>\n",
       "      <td>Северный административный округ</td>\n",
       "      <td>ежедневно, 10:00–22:00</td>\n",
       "      <td>5.0</td>\n",
       "      <td>1</td>\n",
       "      <td>148.0</td>\n",
       "      <td>средние</td>\n",
       "      <td>Средний счёт:400–600 ₽</td>\n",
       "      <td>500.0</td>\n",
       "      <td>NaN</td>\n",
       "    </tr>\n",
       "  </tbody>\n",
       "</table>\n",
       "</div>"
      ],
      "text/plain": [
       "                                 id                  name  category  \\\n",
       "0  0c3e3439a8c64ea5bf6ecd6ca6ae19f0                WoWфли      кафе   \n",
       "1  045780ada3474c57a2112e505d74b633        Четыре комнаты  ресторан   \n",
       "2  1070b6b59144425896c65889347fcff6                 Хазри      кафе   \n",
       "3  03ac7cd772104f65b58b349dc59f03ee  Dormouse Coffee Shop   кофейня   \n",
       "4  a163aada139c4c7f87b0b1c0b466a50f             Иль Марко  пиццерия   \n",
       "\n",
       "                               address                         district  \\\n",
       "0           Москва, улица Дыбенко, 7/1  Северный административный округ   \n",
       "1   Москва, улица Дыбенко, 36, корп. 1  Северный административный округ   \n",
       "2       Москва, Клязьминская улица, 15  Северный административный округ   \n",
       "3  Москва, улица Маршала Федоренко, 12  Северный административный округ   \n",
       "4      Москва, Правобережная улица, 1Б  Северный административный округ   \n",
       "\n",
       "                                               hours  rating  chain  seats  \\\n",
       "0                             ежедневно, 10:00–22:00     5.0      0    NaN   \n",
       "1                             ежедневно, 10:00–22:00     4.5      0    4.0   \n",
       "2  пн-чт 11:00–02:00; пт,сб 11:00–05:00; вс 11:00...     4.6      0   45.0   \n",
       "3                             ежедневно, 09:00–22:00     5.0      0    NaN   \n",
       "4                             ежедневно, 10:00–22:00     5.0      1  148.0   \n",
       "\n",
       "           price                       avg_bill  middle_avg_bill  \\\n",
       "0            NaN                            NaN              NaN   \n",
       "1  выше среднего       Средний счёт:1500–1600 ₽           1550.0   \n",
       "2        средние         Средний счёт:от 1000 ₽           1000.0   \n",
       "3            NaN  Цена чашки капучино:155–185 ₽              NaN   \n",
       "4        средние         Средний счёт:400–600 ₽            500.0   \n",
       "\n",
       "   middle_coffee_cup  \n",
       "0                NaN  \n",
       "1                NaN  \n",
       "2                NaN  \n",
       "3              170.0  \n",
       "4                NaN  "
      ]
     },
     "execution_count": 10,
     "metadata": {},
     "output_type": "execute_result"
    }
   ],
   "source": [
    "# Первые 5 строк объединенного датафрейма\n",
    "join_df.head()"
   ]
  },
  {
   "cell_type": "markdown",
   "id": "51b8d467",
   "metadata": {},
   "source": [
    "После объединения двех датафреймов в один по столбцу `id` методом `left` получился датафрейм join_df, который состоит из 13 столбцов и содержит 8406 строк"
   ]
  },
  {
   "cell_type": "markdown",
   "id": "956e82e2",
   "metadata": {
    "id": "956e82e2"
   },
   "source": [
    "## Предобработка данных\n"
   ]
  },
  {
   "cell_type": "code",
   "execution_count": 11,
   "id": "67956690",
   "metadata": {
    "id": "67956690"
   },
   "outputs": [],
   "source": [
    "# Оптимизируем тип данных для столбца 'chain'\n",
    "join_df['chain'] = pd.to_numeric(join_df['chain'], downcast = 'integer')"
   ]
  },
  {
   "cell_type": "code",
   "execution_count": 12,
   "id": "b5f2a94d",
   "metadata": {
    "id": "b5f2a94d"
   },
   "outputs": [
    {
     "name": "stdout",
     "output_type": "stream",
     "text": [
      "<class 'pandas.core.frame.DataFrame'>\n",
      "Int64Index: 8406 entries, 0 to 8405\n",
      "Data columns (total 13 columns):\n",
      " #   Column             Non-Null Count  Dtype  \n",
      "---  ------             --------------  -----  \n",
      " 0   id                 8406 non-null   object \n",
      " 1   name               8406 non-null   object \n",
      " 2   category           8406 non-null   object \n",
      " 3   address            8406 non-null   object \n",
      " 4   district           8406 non-null   object \n",
      " 5   hours              7870 non-null   object \n",
      " 6   rating             8406 non-null   float64\n",
      " 7   chain              8406 non-null   int8   \n",
      " 8   seats              4795 non-null   float64\n",
      " 9   price              3315 non-null   object \n",
      " 10  avg_bill           3816 non-null   object \n",
      " 11  middle_avg_bill    3149 non-null   float64\n",
      " 12  middle_coffee_cup  535 non-null    float64\n",
      "dtypes: float64(4), int8(1), object(8)\n",
      "memory usage: 861.9+ KB\n"
     ]
    }
   ],
   "source": [
    "join_df.info()"
   ]
  },
  {
   "cell_type": "markdown",
   "id": "4b7ee469",
   "metadata": {
    "id": "4b7ee469"
   },
   "source": [
    "### Обрабатываем пропущенные значения"
   ]
  },
  {
   "cell_type": "code",
   "execution_count": 13,
   "id": "3d8840ca",
   "metadata": {
    "id": "3d8840ca"
   },
   "outputs": [
    {
     "data": {
      "text/plain": [
       "id                      0\n",
       "name                    0\n",
       "category                0\n",
       "address                 0\n",
       "district                0\n",
       "hours                 536\n",
       "rating                  0\n",
       "chain                   0\n",
       "seats                3611\n",
       "price                5091\n",
       "avg_bill             4590\n",
       "middle_avg_bill      5257\n",
       "middle_coffee_cup    7871\n",
       "dtype: int64"
      ]
     },
     "execution_count": 13,
     "metadata": {},
     "output_type": "execute_result"
    }
   ],
   "source": [
    "# Считаем количество пропусков в каждом столбце\n",
    "join_df.isna().sum()"
   ]
  },
  {
   "cell_type": "code",
   "execution_count": 14,
   "id": "2ea145ca",
   "metadata": {
    "id": "2ea145ca"
   },
   "outputs": [
    {
     "data": {
      "text/plain": [
       "id                    0.00\n",
       "name                  0.00\n",
       "category              0.00\n",
       "address               0.00\n",
       "district              0.00\n",
       "hours                 6.38\n",
       "rating                0.00\n",
       "chain                 0.00\n",
       "seats                42.96\n",
       "price                60.56\n",
       "avg_bill             54.60\n",
       "middle_avg_bill      62.54\n",
       "middle_coffee_cup    93.64\n",
       "dtype: float64"
      ]
     },
     "execution_count": 14,
     "metadata": {},
     "output_type": "execute_result"
    }
   ],
   "source": [
    "# Считаем процент пропусков в каждом столбце \n",
    "round(join_df.isna().sum() / join_df.shape[0] * 100, 2)"
   ]
  },
  {
   "cell_type": "markdown",
   "id": "91683124",
   "metadata": {
    "id": "d9e7c358"
   },
   "source": [
    "В столбце `hours` отсутствует информация для 536 заведений (6.38%). Это может быть связано с тем, что они временно закрыты или работают по нерегулярному графику.\n",
    "\n",
    "В столбце, содержащем количество посадочных мест (`seats`), почти половина значений отсутствует. Это может быть вызвано тем, что владельцы не предоставили эту информацию, особенно в случае небольших кафе или уличных киосков.\n",
    "\n",
    "Что касается столбцов с ценами — `price` и `avg_bill` — здесь наблюдается значительное количество пропусков (60.56% и 54.60% соответственно). Высокий уровень пропусков может объясняться тем, что не все заведения публикуют меню с ценами, или для некоторых категорий, таких как уличная еда, сложно определить средний чек.\n",
    "\n",
    "Пропуски в столбцах `middle_avg_bill (62.54%)` и `middle_coffee_cup (93.64%)` напрямую связаны с отсутствующими данными в столбце `avg_bill`, так как эти столбцы заполнялись на основе его значений. Следует отметить, что столбец `middle_coffee_cup` содержит более 90% пропусков, что может свидетельствовать о том, что кофе не является основным продуктом для многих заведений. "
   ]
  },
  {
   "cell_type": "markdown",
   "id": "23846c48",
   "metadata": {},
   "source": [
    "Для того, чтобы с этими столбцами в дальнейшем было проще работать, заменим пропуски на значение-индикатор **-1**"
   ]
  },
  {
   "cell_type": "code",
   "execution_count": 15,
   "id": "5fa0a62e",
   "metadata": {},
   "outputs": [
    {
     "name": "stdout",
     "output_type": "stream",
     "text": [
      "<class 'pandas.core.frame.DataFrame'>\n",
      "Int64Index: 8406 entries, 0 to 8405\n",
      "Data columns (total 13 columns):\n",
      " #   Column             Non-Null Count  Dtype  \n",
      "---  ------             --------------  -----  \n",
      " 0   id                 8406 non-null   object \n",
      " 1   name               8406 non-null   object \n",
      " 2   category           8406 non-null   object \n",
      " 3   address            8406 non-null   object \n",
      " 4   district           8406 non-null   object \n",
      " 5   hours              8406 non-null   object \n",
      " 6   rating             8406 non-null   float64\n",
      " 7   chain              8406 non-null   int8   \n",
      " 8   seats              8406 non-null   float64\n",
      " 9   price              8406 non-null   object \n",
      " 10  avg_bill           8406 non-null   object \n",
      " 11  middle_avg_bill    8406 non-null   float64\n",
      " 12  middle_coffee_cup  8406 non-null   float64\n",
      "dtypes: float64(4), int8(1), object(8)\n",
      "memory usage: 861.9+ KB\n"
     ]
    }
   ],
   "source": [
    "# Во всех столбцах с пропусками заменяем их на -1\n",
    "for column in join_df.columns:\n",
    "    if join_df[column].isna().sum() > 0:\n",
    "        join_df[column] = join_df[column].fillna(-1)\n",
    "        \n",
    "join_df.info()"
   ]
  },
  {
   "cell_type": "markdown",
   "id": "c4d5f04d",
   "metadata": {
    "id": "c4d5f04d"
   },
   "source": [
    "### Проверяем данные на явные и неявные дубликаты"
   ]
  },
  {
   "cell_type": "code",
   "execution_count": 16,
   "id": "f865adac",
   "metadata": {},
   "outputs": [
    {
     "data": {
      "text/plain": [
       "0"
      ]
     },
     "execution_count": 16,
     "metadata": {},
     "output_type": "execute_result"
    }
   ],
   "source": [
    "# Проверяем на явные дубликаты\n",
    "join_df.duplicated().sum()"
   ]
  },
  {
   "cell_type": "code",
   "execution_count": 17,
   "id": "2b07e31a",
   "metadata": {},
   "outputs": [
    {
     "name": "stdout",
     "output_type": "stream",
     "text": [
      "Количество дубликатов в столбце id:\n",
      "0 \n",
      "\n",
      "Количество дубликатов в столбце name:\n",
      "2792 \n",
      "\n",
      "Количество дубликатов в столбце address:\n",
      "2653 \n",
      "\n"
     ]
    }
   ],
   "source": [
    "# Проверяем на явные дубликаты в столбце id, name и address\n",
    "for column in ['id', 'name', 'address']:\n",
    "    print(f'Количество дубликатов в столбце {column}:')\n",
    "    print(join_df[column].duplicated().sum(), '\\n')"
   ]
  },
  {
   "cell_type": "code",
   "execution_count": 18,
   "id": "7df5b41b",
   "metadata": {},
   "outputs": [
    {
     "name": "stdout",
     "output_type": "stream",
     "text": [
      "2894\n",
      "2654\n"
     ]
    }
   ],
   "source": [
    "# Преобразуем столбцы name и address в нижний регистр:\n",
    "join_df['name'] = join_df['name'].str.lower()\n",
    "print(join_df['name'].duplicated().sum())\n",
    "\n",
    "join_df['address'] = join_df['address'].str.lower()\n",
    "print(join_df['address'].duplicated().sum())"
   ]
  },
  {
   "cell_type": "code",
   "execution_count": 19,
   "id": "bf3370d1",
   "metadata": {},
   "outputs": [
    {
     "data": {
      "text/plain": [
       "4"
      ]
     },
     "execution_count": 19,
     "metadata": {},
     "output_type": "execute_result"
    }
   ],
   "source": [
    "join_df.duplicated(subset = ['name', 'address']).sum()"
   ]
  },
  {
   "cell_type": "markdown",
   "id": "71e7ead6",
   "metadata": {},
   "source": [
    "В итоге получилось, что в 4 строках содержатся дубликаты по названию и адресу\n",
    "\n",
    "Остальные дубликаты в столбце `name` могут быть связаны с тем, что некоторые компании имеют франшизы или сети заведений.\n",
    "А дубликаты в столбце `address` связаны с тем, что несколько заведений могут находиться в одном здании."
   ]
  },
  {
   "cell_type": "code",
   "execution_count": 20,
   "id": "97637de4",
   "metadata": {
    "scrolled": true
   },
   "outputs": [],
   "source": [
    "# Удаляем эти 4 дубликата \n",
    "join_df = join_df.drop_duplicates(subset = ['name', 'address'])"
   ]
  },
  {
   "cell_type": "code",
   "execution_count": 21,
   "id": "d0011210",
   "metadata": {},
   "outputs": [
    {
     "name": "stdout",
     "output_type": "stream",
     "text": [
      "Уникальные значения столбца category:\n",
      "['кафе' 'ресторан' 'кофейня' 'пиццерия' 'бар,паб' 'быстрое питание'\n",
      " 'булочная' 'столовая'] \n",
      "\n",
      "Уникальные значения столбца district:\n",
      "['Северный административный округ'\n",
      " 'Северо-Восточный административный округ'\n",
      " 'Северо-Западный административный округ'\n",
      " 'Западный административный округ' 'Центральный административный округ'\n",
      " 'Восточный административный округ' 'Юго-Восточный административный округ'\n",
      " 'Южный административный округ' 'Юго-Западный административный округ'] \n",
      "\n",
      "Уникальные значения столбца chain:\n",
      "[0 1] \n",
      "\n"
     ]
    }
   ],
   "source": [
    "for column in ['category', 'district', 'chain']:\n",
    "    print(f'Уникальные значения столбца {column}:')\n",
    "    print(join_df[column].unique(), '\\n')\n",
    "    "
   ]
  },
  {
   "cell_type": "markdown",
   "id": "1187f7c4",
   "metadata": {
    "id": "b52bae9a"
   },
   "source": [
    "В столбцах `category`, `district`, `chain` дубликатов не обнаружено"
   ]
  },
  {
   "cell_type": "markdown",
   "id": "4c0563f2",
   "metadata": {
    "id": "4c0563f2"
   },
   "source": [
    "- Для дальнейшей работы создадим столбец `is_24_7` с обозначением того, что заведение работает ежедневно и круглосуточно, то есть 24/7:\n",
    "\n",
    "  - логическое значение `True` — если заведение работает ежедневно и круглосуточно;\n",
    "  - логическое значение `False` — в противоположном случае."
   ]
  },
  {
   "cell_type": "code",
   "execution_count": 22,
   "id": "d8a8a963",
   "metadata": {
    "id": "d8a8a963"
   },
   "outputs": [
    {
     "data": {
      "text/html": [
       "<div>\n",
       "<style scoped>\n",
       "    .dataframe tbody tr th:only-of-type {\n",
       "        vertical-align: middle;\n",
       "    }\n",
       "\n",
       "    .dataframe tbody tr th {\n",
       "        vertical-align: top;\n",
       "    }\n",
       "\n",
       "    .dataframe thead th {\n",
       "        text-align: right;\n",
       "    }\n",
       "</style>\n",
       "<table border=\"1\" class=\"dataframe\">\n",
       "  <thead>\n",
       "    <tr style=\"text-align: right;\">\n",
       "      <th></th>\n",
       "      <th>id</th>\n",
       "      <th>name</th>\n",
       "      <th>category</th>\n",
       "      <th>address</th>\n",
       "      <th>district</th>\n",
       "      <th>hours</th>\n",
       "      <th>rating</th>\n",
       "      <th>chain</th>\n",
       "      <th>seats</th>\n",
       "      <th>price</th>\n",
       "      <th>avg_bill</th>\n",
       "      <th>middle_avg_bill</th>\n",
       "      <th>middle_coffee_cup</th>\n",
       "      <th>is_24_7</th>\n",
       "    </tr>\n",
       "  </thead>\n",
       "  <tbody>\n",
       "    <tr>\n",
       "      <th>0</th>\n",
       "      <td>0c3e3439a8c64ea5bf6ecd6ca6ae19f0</td>\n",
       "      <td>wowфли</td>\n",
       "      <td>кафе</td>\n",
       "      <td>москва, улица дыбенко, 7/1</td>\n",
       "      <td>Северный административный округ</td>\n",
       "      <td>ежедневно, 10:00–22:00</td>\n",
       "      <td>5.0</td>\n",
       "      <td>0</td>\n",
       "      <td>-1.0</td>\n",
       "      <td>-1</td>\n",
       "      <td>-1</td>\n",
       "      <td>-1.0</td>\n",
       "      <td>-1.0</td>\n",
       "      <td>False</td>\n",
       "    </tr>\n",
       "    <tr>\n",
       "      <th>1</th>\n",
       "      <td>045780ada3474c57a2112e505d74b633</td>\n",
       "      <td>четыре комнаты</td>\n",
       "      <td>ресторан</td>\n",
       "      <td>москва, улица дыбенко, 36, корп. 1</td>\n",
       "      <td>Северный административный округ</td>\n",
       "      <td>ежедневно, 10:00–22:00</td>\n",
       "      <td>4.5</td>\n",
       "      <td>0</td>\n",
       "      <td>4.0</td>\n",
       "      <td>выше среднего</td>\n",
       "      <td>Средний счёт:1500–1600 ₽</td>\n",
       "      <td>1550.0</td>\n",
       "      <td>-1.0</td>\n",
       "      <td>False</td>\n",
       "    </tr>\n",
       "    <tr>\n",
       "      <th>2</th>\n",
       "      <td>1070b6b59144425896c65889347fcff6</td>\n",
       "      <td>хазри</td>\n",
       "      <td>кафе</td>\n",
       "      <td>москва, клязьминская улица, 15</td>\n",
       "      <td>Северный административный округ</td>\n",
       "      <td>пн-чт 11:00–02:00; пт,сб 11:00–05:00; вс 11:00...</td>\n",
       "      <td>4.6</td>\n",
       "      <td>0</td>\n",
       "      <td>45.0</td>\n",
       "      <td>средние</td>\n",
       "      <td>Средний счёт:от 1000 ₽</td>\n",
       "      <td>1000.0</td>\n",
       "      <td>-1.0</td>\n",
       "      <td>False</td>\n",
       "    </tr>\n",
       "    <tr>\n",
       "      <th>3</th>\n",
       "      <td>03ac7cd772104f65b58b349dc59f03ee</td>\n",
       "      <td>dormouse coffee shop</td>\n",
       "      <td>кофейня</td>\n",
       "      <td>москва, улица маршала федоренко, 12</td>\n",
       "      <td>Северный административный округ</td>\n",
       "      <td>ежедневно, 09:00–22:00</td>\n",
       "      <td>5.0</td>\n",
       "      <td>0</td>\n",
       "      <td>-1.0</td>\n",
       "      <td>-1</td>\n",
       "      <td>Цена чашки капучино:155–185 ₽</td>\n",
       "      <td>-1.0</td>\n",
       "      <td>170.0</td>\n",
       "      <td>False</td>\n",
       "    </tr>\n",
       "    <tr>\n",
       "      <th>4</th>\n",
       "      <td>a163aada139c4c7f87b0b1c0b466a50f</td>\n",
       "      <td>иль марко</td>\n",
       "      <td>пиццерия</td>\n",
       "      <td>москва, правобережная улица, 1б</td>\n",
       "      <td>Северный административный округ</td>\n",
       "      <td>ежедневно, 10:00–22:00</td>\n",
       "      <td>5.0</td>\n",
       "      <td>1</td>\n",
       "      <td>148.0</td>\n",
       "      <td>средние</td>\n",
       "      <td>Средний счёт:400–600 ₽</td>\n",
       "      <td>500.0</td>\n",
       "      <td>-1.0</td>\n",
       "      <td>False</td>\n",
       "    </tr>\n",
       "    <tr>\n",
       "      <th>5</th>\n",
       "      <td>8a343546b24e4a499ad96eb7d0797a8a</td>\n",
       "      <td>sergio pizza</td>\n",
       "      <td>пиццерия</td>\n",
       "      <td>москва, ижорская улица, вл8б</td>\n",
       "      <td>Северный административный округ</td>\n",
       "      <td>ежедневно, 10:00–23:00</td>\n",
       "      <td>4.6</td>\n",
       "      <td>0</td>\n",
       "      <td>-1.0</td>\n",
       "      <td>средние</td>\n",
       "      <td>-1</td>\n",
       "      <td>-1.0</td>\n",
       "      <td>-1.0</td>\n",
       "      <td>False</td>\n",
       "    </tr>\n",
       "    <tr>\n",
       "      <th>6</th>\n",
       "      <td>96ebceb1a09e4e3191133b9fe0379a64</td>\n",
       "      <td>огни города</td>\n",
       "      <td>бар,паб</td>\n",
       "      <td>москва, клязьминская улица, 9, стр. 3</td>\n",
       "      <td>Северный административный округ</td>\n",
       "      <td>пн 15:00–04:00; вт-вс 15:00–05:00</td>\n",
       "      <td>4.4</td>\n",
       "      <td>0</td>\n",
       "      <td>45.0</td>\n",
       "      <td>средние</td>\n",
       "      <td>Средний счёт:199 ₽</td>\n",
       "      <td>199.0</td>\n",
       "      <td>-1.0</td>\n",
       "      <td>False</td>\n",
       "    </tr>\n",
       "    <tr>\n",
       "      <th>7</th>\n",
       "      <td>0243288b78024af090b8e947842c969c</td>\n",
       "      <td>mr. уголёк</td>\n",
       "      <td>быстрое питание</td>\n",
       "      <td>москва, клязьминская улица, 9, стр. 3</td>\n",
       "      <td>Северный административный округ</td>\n",
       "      <td>пн-чт 10:00–22:00; пт,сб 10:00–23:00; вс 10:00...</td>\n",
       "      <td>4.7</td>\n",
       "      <td>0</td>\n",
       "      <td>45.0</td>\n",
       "      <td>средние</td>\n",
       "      <td>Средний счёт:200–300 ₽</td>\n",
       "      <td>250.0</td>\n",
       "      <td>-1.0</td>\n",
       "      <td>False</td>\n",
       "    </tr>\n",
       "    <tr>\n",
       "      <th>8</th>\n",
       "      <td>36aeb0ffa69c48fdb0021549520deb10</td>\n",
       "      <td>donna maria</td>\n",
       "      <td>ресторан</td>\n",
       "      <td>москва, дмитровское шоссе, 107, корп. 4</td>\n",
       "      <td>Северный административный округ</td>\n",
       "      <td>ежедневно, 10:00–22:00</td>\n",
       "      <td>4.8</td>\n",
       "      <td>0</td>\n",
       "      <td>79.0</td>\n",
       "      <td>средние</td>\n",
       "      <td>Средний счёт:от 500 ₽</td>\n",
       "      <td>500.0</td>\n",
       "      <td>-1.0</td>\n",
       "      <td>False</td>\n",
       "    </tr>\n",
       "    <tr>\n",
       "      <th>9</th>\n",
       "      <td>487167877eb04288bc90d4fa80646fc2</td>\n",
       "      <td>готика</td>\n",
       "      <td>кафе</td>\n",
       "      <td>москва, ангарская улица, 39</td>\n",
       "      <td>Северный административный округ</td>\n",
       "      <td>ежедневно, 12:00–00:00</td>\n",
       "      <td>4.3</td>\n",
       "      <td>0</td>\n",
       "      <td>65.0</td>\n",
       "      <td>средние</td>\n",
       "      <td>Средний счёт:1000–1200 ₽</td>\n",
       "      <td>1100.0</td>\n",
       "      <td>-1.0</td>\n",
       "      <td>False</td>\n",
       "    </tr>\n",
       "    <tr>\n",
       "      <th>10</th>\n",
       "      <td>ac32978af97641bfacf996e7f5a50ee5</td>\n",
       "      <td>great room bar</td>\n",
       "      <td>бар,паб</td>\n",
       "      <td>москва, левобережная улица, 12</td>\n",
       "      <td>Северный административный округ</td>\n",
       "      <td>ежедневно, круглосуточно</td>\n",
       "      <td>4.5</td>\n",
       "      <td>0</td>\n",
       "      <td>102.0</td>\n",
       "      <td>средние</td>\n",
       "      <td>Цена бокала пива:250–350 ₽</td>\n",
       "      <td>-1.0</td>\n",
       "      <td>-1.0</td>\n",
       "      <td>True</td>\n",
       "    </tr>\n",
       "    <tr>\n",
       "      <th>11</th>\n",
       "      <td>53ac103717c142f29907080db1f0ce58</td>\n",
       "      <td>шашлык шефф</td>\n",
       "      <td>кафе</td>\n",
       "      <td>москва, улица маршала федоренко, 10с1</td>\n",
       "      <td>Северный административный округ</td>\n",
       "      <td>ежедневно, 10:00–21:00</td>\n",
       "      <td>4.9</td>\n",
       "      <td>0</td>\n",
       "      <td>-1.0</td>\n",
       "      <td>-1</td>\n",
       "      <td>-1</td>\n",
       "      <td>-1.0</td>\n",
       "      <td>-1.0</td>\n",
       "      <td>False</td>\n",
       "    </tr>\n",
       "    <tr>\n",
       "      <th>12</th>\n",
       "      <td>9384a51a4b2749759234df689b3a4857</td>\n",
       "      <td>заправка</td>\n",
       "      <td>кафе</td>\n",
       "      <td>москва, мкад, 80-й километр, 1</td>\n",
       "      <td>Северный административный округ</td>\n",
       "      <td>вт-сб 09:00–18:00</td>\n",
       "      <td>4.3</td>\n",
       "      <td>0</td>\n",
       "      <td>-1.0</td>\n",
       "      <td>средние</td>\n",
       "      <td>Средний счёт:330 ₽</td>\n",
       "      <td>330.0</td>\n",
       "      <td>-1.0</td>\n",
       "      <td>False</td>\n",
       "    </tr>\n",
       "    <tr>\n",
       "      <th>13</th>\n",
       "      <td>aea18265b0a0415893f1e796b82568fe</td>\n",
       "      <td>буханка</td>\n",
       "      <td>булочная</td>\n",
       "      <td>москва, базовская улица, 15, корп. 1</td>\n",
       "      <td>Северный административный округ</td>\n",
       "      <td>ежедневно, 08:00–22:00</td>\n",
       "      <td>4.8</td>\n",
       "      <td>1</td>\n",
       "      <td>180.0</td>\n",
       "      <td>-1</td>\n",
       "      <td>-1</td>\n",
       "      <td>-1.0</td>\n",
       "      <td>-1.0</td>\n",
       "      <td>False</td>\n",
       "    </tr>\n",
       "    <tr>\n",
       "      <th>14</th>\n",
       "      <td>b9469750090f4a19829cc717bc369988</td>\n",
       "      <td>у сильвы</td>\n",
       "      <td>бар,паб</td>\n",
       "      <td>москва, ангарская улица, 42с1</td>\n",
       "      <td>Северный административный округ</td>\n",
       "      <td>ежедневно, 13:00–00:00</td>\n",
       "      <td>4.2</td>\n",
       "      <td>0</td>\n",
       "      <td>-1.0</td>\n",
       "      <td>выше среднего</td>\n",
       "      <td>Средний счёт:1500 ₽</td>\n",
       "      <td>1500.0</td>\n",
       "      <td>-1.0</td>\n",
       "      <td>False</td>\n",
       "    </tr>\n",
       "    <tr>\n",
       "      <th>15</th>\n",
       "      <td>9b8421c55aef47efa4c6bc9e6fb4c239</td>\n",
       "      <td>дом обеда</td>\n",
       "      <td>столовая</td>\n",
       "      <td>москва, улица бусиновская горка, 2</td>\n",
       "      <td>Северный административный округ</td>\n",
       "      <td>пн-пт 08:30–18:30; сб 10:00–20:00</td>\n",
       "      <td>4.1</td>\n",
       "      <td>0</td>\n",
       "      <td>180.0</td>\n",
       "      <td>средние</td>\n",
       "      <td>Средний счёт:300–500 ₽</td>\n",
       "      <td>400.0</td>\n",
       "      <td>-1.0</td>\n",
       "      <td>False</td>\n",
       "    </tr>\n",
       "    <tr>\n",
       "      <th>16</th>\n",
       "      <td>ccda3acc54e34bfcac4d6a25a5205bcb</td>\n",
       "      <td>база стритфуд</td>\n",
       "      <td>кафе</td>\n",
       "      <td>москва, базовская улица, 15, корп. 8</td>\n",
       "      <td>Северный административный округ</td>\n",
       "      <td>ежедневно, 10:00–23:00</td>\n",
       "      <td>4.2</td>\n",
       "      <td>0</td>\n",
       "      <td>-1.0</td>\n",
       "      <td>средние</td>\n",
       "      <td>Средний счёт:140–350 ₽</td>\n",
       "      <td>245.0</td>\n",
       "      <td>-1.0</td>\n",
       "      <td>False</td>\n",
       "    </tr>\n",
       "    <tr>\n",
       "      <th>17</th>\n",
       "      <td>b55465d0869648a295ad1d85ed9b5c4f</td>\n",
       "      <td>чайхана беш-бармак</td>\n",
       "      <td>ресторан</td>\n",
       "      <td>москва, ленинградское шоссе, 71б, стр. 2</td>\n",
       "      <td>Северный административный округ</td>\n",
       "      <td>ежедневно, круглосуточно</td>\n",
       "      <td>4.4</td>\n",
       "      <td>0</td>\n",
       "      <td>96.0</td>\n",
       "      <td>средние</td>\n",
       "      <td>Средний счёт:350–500 ₽</td>\n",
       "      <td>425.0</td>\n",
       "      <td>-1.0</td>\n",
       "      <td>True</td>\n",
       "    </tr>\n",
       "    <tr>\n",
       "      <th>18</th>\n",
       "      <td>06e4244f6832490ea35c0c1f8824bb30</td>\n",
       "      <td>час-пик</td>\n",
       "      <td>столовая</td>\n",
       "      <td>москва, коровинское шоссе, 30а</td>\n",
       "      <td>Северный административный округ</td>\n",
       "      <td>ежедневно, 09:00–21:00</td>\n",
       "      <td>4.3</td>\n",
       "      <td>0</td>\n",
       "      <td>25.0</td>\n",
       "      <td>средние</td>\n",
       "      <td>Средний счёт:200–300 ₽</td>\n",
       "      <td>250.0</td>\n",
       "      <td>-1.0</td>\n",
       "      <td>False</td>\n",
       "    </tr>\n",
       "    <tr>\n",
       "      <th>19</th>\n",
       "      <td>feec6bedccae44cb877d99c13f9aa5d7</td>\n",
       "      <td>пекарня</td>\n",
       "      <td>булочная</td>\n",
       "      <td>москва, ижорский проезд, 5</td>\n",
       "      <td>Северный административный округ</td>\n",
       "      <td>ежедневно, круглосуточно</td>\n",
       "      <td>4.4</td>\n",
       "      <td>1</td>\n",
       "      <td>-1.0</td>\n",
       "      <td>-1</td>\n",
       "      <td>-1</td>\n",
       "      <td>-1.0</td>\n",
       "      <td>-1.0</td>\n",
       "      <td>True</td>\n",
       "    </tr>\n",
       "  </tbody>\n",
       "</table>\n",
       "</div>"
      ],
      "text/plain": [
       "                                  id                  name         category  \\\n",
       "0   0c3e3439a8c64ea5bf6ecd6ca6ae19f0                wowфли             кафе   \n",
       "1   045780ada3474c57a2112e505d74b633        четыре комнаты         ресторан   \n",
       "2   1070b6b59144425896c65889347fcff6                 хазри             кафе   \n",
       "3   03ac7cd772104f65b58b349dc59f03ee  dormouse coffee shop          кофейня   \n",
       "4   a163aada139c4c7f87b0b1c0b466a50f             иль марко         пиццерия   \n",
       "5   8a343546b24e4a499ad96eb7d0797a8a          sergio pizza         пиццерия   \n",
       "6   96ebceb1a09e4e3191133b9fe0379a64           огни города          бар,паб   \n",
       "7   0243288b78024af090b8e947842c969c            mr. уголёк  быстрое питание   \n",
       "8   36aeb0ffa69c48fdb0021549520deb10           donna maria         ресторан   \n",
       "9   487167877eb04288bc90d4fa80646fc2                готика             кафе   \n",
       "10  ac32978af97641bfacf996e7f5a50ee5        great room bar          бар,паб   \n",
       "11  53ac103717c142f29907080db1f0ce58           шашлык шефф             кафе   \n",
       "12  9384a51a4b2749759234df689b3a4857              заправка             кафе   \n",
       "13  aea18265b0a0415893f1e796b82568fe               буханка         булочная   \n",
       "14  b9469750090f4a19829cc717bc369988              у сильвы          бар,паб   \n",
       "15  9b8421c55aef47efa4c6bc9e6fb4c239             дом обеда         столовая   \n",
       "16  ccda3acc54e34bfcac4d6a25a5205bcb         база стритфуд             кафе   \n",
       "17  b55465d0869648a295ad1d85ed9b5c4f    чайхана беш-бармак         ресторан   \n",
       "18  06e4244f6832490ea35c0c1f8824bb30               час-пик         столовая   \n",
       "19  feec6bedccae44cb877d99c13f9aa5d7               пекарня         булочная   \n",
       "\n",
       "                                     address                         district  \\\n",
       "0                 москва, улица дыбенко, 7/1  Северный административный округ   \n",
       "1         москва, улица дыбенко, 36, корп. 1  Северный административный округ   \n",
       "2             москва, клязьминская улица, 15  Северный административный округ   \n",
       "3        москва, улица маршала федоренко, 12  Северный административный округ   \n",
       "4            москва, правобережная улица, 1б  Северный административный округ   \n",
       "5               москва, ижорская улица, вл8б  Северный административный округ   \n",
       "6      москва, клязьминская улица, 9, стр. 3  Северный административный округ   \n",
       "7      москва, клязьминская улица, 9, стр. 3  Северный административный округ   \n",
       "8    москва, дмитровское шоссе, 107, корп. 4  Северный административный округ   \n",
       "9                москва, ангарская улица, 39  Северный административный округ   \n",
       "10            москва, левобережная улица, 12  Северный административный округ   \n",
       "11     москва, улица маршала федоренко, 10с1  Северный административный округ   \n",
       "12            москва, мкад, 80-й километр, 1  Северный административный округ   \n",
       "13      москва, базовская улица, 15, корп. 1  Северный административный округ   \n",
       "14             москва, ангарская улица, 42с1  Северный административный округ   \n",
       "15        москва, улица бусиновская горка, 2  Северный административный округ   \n",
       "16      москва, базовская улица, 15, корп. 8  Северный административный округ   \n",
       "17  москва, ленинградское шоссе, 71б, стр. 2  Северный административный округ   \n",
       "18            москва, коровинское шоссе, 30а  Северный административный округ   \n",
       "19                москва, ижорский проезд, 5  Северный административный округ   \n",
       "\n",
       "                                                hours  rating  chain  seats  \\\n",
       "0                              ежедневно, 10:00–22:00     5.0      0   -1.0   \n",
       "1                              ежедневно, 10:00–22:00     4.5      0    4.0   \n",
       "2   пн-чт 11:00–02:00; пт,сб 11:00–05:00; вс 11:00...     4.6      0   45.0   \n",
       "3                              ежедневно, 09:00–22:00     5.0      0   -1.0   \n",
       "4                              ежедневно, 10:00–22:00     5.0      1  148.0   \n",
       "5                              ежедневно, 10:00–23:00     4.6      0   -1.0   \n",
       "6                   пн 15:00–04:00; вт-вс 15:00–05:00     4.4      0   45.0   \n",
       "7   пн-чт 10:00–22:00; пт,сб 10:00–23:00; вс 10:00...     4.7      0   45.0   \n",
       "8                              ежедневно, 10:00–22:00     4.8      0   79.0   \n",
       "9                              ежедневно, 12:00–00:00     4.3      0   65.0   \n",
       "10                           ежедневно, круглосуточно     4.5      0  102.0   \n",
       "11                             ежедневно, 10:00–21:00     4.9      0   -1.0   \n",
       "12                                  вт-сб 09:00–18:00     4.3      0   -1.0   \n",
       "13                             ежедневно, 08:00–22:00     4.8      1  180.0   \n",
       "14                             ежедневно, 13:00–00:00     4.2      0   -1.0   \n",
       "15                  пн-пт 08:30–18:30; сб 10:00–20:00     4.1      0  180.0   \n",
       "16                             ежедневно, 10:00–23:00     4.2      0   -1.0   \n",
       "17                           ежедневно, круглосуточно     4.4      0   96.0   \n",
       "18                             ежедневно, 09:00–21:00     4.3      0   25.0   \n",
       "19                           ежедневно, круглосуточно     4.4      1   -1.0   \n",
       "\n",
       "            price                       avg_bill  middle_avg_bill  \\\n",
       "0              -1                             -1             -1.0   \n",
       "1   выше среднего       Средний счёт:1500–1600 ₽           1550.0   \n",
       "2         средние         Средний счёт:от 1000 ₽           1000.0   \n",
       "3              -1  Цена чашки капучино:155–185 ₽             -1.0   \n",
       "4         средние         Средний счёт:400–600 ₽            500.0   \n",
       "5         средние                             -1             -1.0   \n",
       "6         средние             Средний счёт:199 ₽            199.0   \n",
       "7         средние         Средний счёт:200–300 ₽            250.0   \n",
       "8         средние          Средний счёт:от 500 ₽            500.0   \n",
       "9         средние       Средний счёт:1000–1200 ₽           1100.0   \n",
       "10        средние     Цена бокала пива:250–350 ₽             -1.0   \n",
       "11             -1                             -1             -1.0   \n",
       "12        средние             Средний счёт:330 ₽            330.0   \n",
       "13             -1                             -1             -1.0   \n",
       "14  выше среднего            Средний счёт:1500 ₽           1500.0   \n",
       "15        средние         Средний счёт:300–500 ₽            400.0   \n",
       "16        средние         Средний счёт:140–350 ₽            245.0   \n",
       "17        средние         Средний счёт:350–500 ₽            425.0   \n",
       "18        средние         Средний счёт:200–300 ₽            250.0   \n",
       "19             -1                             -1             -1.0   \n",
       "\n",
       "    middle_coffee_cup  is_24_7  \n",
       "0                -1.0    False  \n",
       "1                -1.0    False  \n",
       "2                -1.0    False  \n",
       "3               170.0    False  \n",
       "4                -1.0    False  \n",
       "5                -1.0    False  \n",
       "6                -1.0    False  \n",
       "7                -1.0    False  \n",
       "8                -1.0    False  \n",
       "9                -1.0    False  \n",
       "10               -1.0     True  \n",
       "11               -1.0    False  \n",
       "12               -1.0    False  \n",
       "13               -1.0    False  \n",
       "14               -1.0    False  \n",
       "15               -1.0    False  \n",
       "16               -1.0    False  \n",
       "17               -1.0     True  \n",
       "18               -1.0    False  \n",
       "19               -1.0     True  "
      ]
     },
     "execution_count": 22,
     "metadata": {},
     "output_type": "execute_result"
    }
   ],
   "source": [
    "join_df['is_24_7'] = join_df['hours'] == 'ежедневно, круглосуточно'\n",
    "\n",
    "join_df.head(20)"
   ]
  },
  {
   "cell_type": "markdown",
   "id": "562f30ab",
   "metadata": {
    "id": "562f30ab"
   },
   "source": [
    "---\n",
    "\n",
    "### Промежуточный вывод\n"
   ]
  },
  {
   "cell_type": "code",
   "execution_count": 23,
   "id": "1d56e161",
   "metadata": {
    "id": "4e587ce1"
   },
   "outputs": [
    {
     "name": "stdout",
     "output_type": "stream",
     "text": [
      "<class 'pandas.core.frame.DataFrame'>\n",
      "Int64Index: 8402 entries, 0 to 8405\n",
      "Data columns (total 14 columns):\n",
      " #   Column             Non-Null Count  Dtype  \n",
      "---  ------             --------------  -----  \n",
      " 0   id                 8402 non-null   object \n",
      " 1   name               8402 non-null   object \n",
      " 2   category           8402 non-null   object \n",
      " 3   address            8402 non-null   object \n",
      " 4   district           8402 non-null   object \n",
      " 5   hours              8402 non-null   object \n",
      " 6   rating             8402 non-null   float64\n",
      " 7   chain              8402 non-null   int8   \n",
      " 8   seats              8402 non-null   float64\n",
      " 9   price              8402 non-null   object \n",
      " 10  avg_bill           8402 non-null   object \n",
      " 11  middle_avg_bill    8402 non-null   float64\n",
      " 12  middle_coffee_cup  8402 non-null   float64\n",
      " 13  is_24_7            8402 non-null   bool   \n",
      "dtypes: bool(1), float64(4), int8(1), object(8)\n",
      "memory usage: 869.7+ KB\n"
     ]
    }
   ],
   "source": [
    "join_df.info()"
   ]
  },
  {
   "cell_type": "markdown",
   "id": "ca576af7",
   "metadata": {
    "id": "e3388762"
   },
   "source": [
    "В результате предоработки данных все пропуски были заменены на значение-индикатор **-1**, было удалено 4 строки с пропусками, а также создан новый столбец `is_24_7`."
   ]
  },
  {
   "cell_type": "markdown",
   "id": "6953e84c",
   "metadata": {
    "id": "6953e84c"
   },
   "source": [
    "## Исследовательский анализ данных\n",
    "Проведите исследовательский анализ исходных данных.\n",
    "\n",
    "При исследовании данных используйте визуализации. Проверьте, что для каждого случая подобран оптимальный тип визуализации с корректным оформлением. У графика должен быть заголовок, понятные подписи по осям, при необходимости легенда, а его размер является оптимальным для изучения.\n",
    "\n",
    "После исследования каждого пункта оставляйте небольшой комментарий с выводом или обсуждением результата. В конце шага обобщите результаты, выделив, по вашему мнению, самые важные."
   ]
  },
  {
   "cell_type": "markdown",
   "id": "8555d840",
   "metadata": {
    "id": "8555d840"
   },
   "source": [
    "---\n",
    "\n",
    "### Задача 1\n",
    "\n",
    "Какие категории заведений представлены в данных? Исследуйте количество объектов общественного питания по каждой категории. Результат сопроводите подходящей визуализацией."
   ]
  },
  {
   "cell_type": "code",
   "execution_count": 24,
   "id": "302e38c4",
   "metadata": {},
   "outputs": [
    {
     "data": {
      "text/plain": [
       "кафе               2376\n",
       "ресторан           2042\n",
       "кофейня            1413\n",
       "бар,паб             764\n",
       "пиццерия            633\n",
       "быстрое питание     603\n",
       "столовая            315\n",
       "булочная            256\n",
       "Name: category, dtype: int64"
      ]
     },
     "execution_count": 24,
     "metadata": {},
     "output_type": "execute_result"
    }
   ],
   "source": [
    "join_df['category'].value_counts()"
   ]
  },
  {
   "cell_type": "code",
   "execution_count": 25,
   "id": "ef2bffe9",
   "metadata": {
    "id": "ef2bffe9"
   },
   "outputs": [
    {
     "data": {
      "text/plain": [
       "Text(0, 0.5, 'Категория')"
      ]
     },
     "execution_count": 25,
     "metadata": {},
     "output_type": "execute_result"
    },
    {
     "data": {
      "image/png": "[encoded data removed]",
      "text/plain": [
       "<Figure size 576x360 with 1 Axes>"
      ]
     },
     "metadata": {
      "needs_background": "light"
     },
     "output_type": "display_data"
    }
   ],
   "source": [
    "plt.figure(figsize=(8,5))\n",
    "\n",
    "join_df['category'].value_counts().plot(kind = 'barh',\n",
    "                                        color = 'orange',\n",
    "                                        title = 'Распределение объектов общественного питания в зависимости от категории'\n",
    "                                       )\n",
    "plt.grid(axis = 'x')\n",
    "\n",
    "plt.xlabel('Количество объектов')\n",
    "plt.ylabel('Категория')"
   ]
  },
  {
   "cell_type": "markdown",
   "id": "3e2ebc17",
   "metadata": {
    "id": "71ab5e91"
   },
   "source": [
    "В данных представленно 8 категорий заведений. Наиболее популярными являются **кафе, рестораны и кофейни**, с количеством заведений 2376, 2042 и 1413 соответственно. В то же время, наименее популярными являются **булочные и столовые**, количество которых составляет всего 315 и 256 заведений соответственно."
   ]
  },
  {
   "cell_type": "markdown",
   "id": "6821e1d0",
   "metadata": {
    "id": "6821e1d0"
   },
   "source": [
    "---\n",
    "\n",
    "### Задача 2\n",
    "\n",
    "Какие административные районы Москвы присутствуют в данных? Исследуйте распределение количества заведений по административным районам Москвы, а также отдельно распределение заведений каждой категории в Центральном административном округе Москвы. Результат сопроводите подходящими визуализациями."
   ]
  },
  {
   "cell_type": "code",
   "execution_count": 26,
   "id": "d8d8211e",
   "metadata": {},
   "outputs": [
    {
     "data": {
      "text/plain": [
       "Центральный административный округ         2242\n",
       "Северный административный округ             898\n",
       "Южный административный округ                892\n",
       "Северо-Восточный административный округ     890\n",
       "Западный административный округ             850\n",
       "Восточный административный округ            798\n",
       "Юго-Восточный административный округ        714\n",
       "Юго-Западный административный округ         709\n",
       "Северо-Западный административный округ      409\n",
       "Name: district, dtype: int64"
      ]
     },
     "execution_count": 26,
     "metadata": {},
     "output_type": "execute_result"
    }
   ],
   "source": [
    "join_df['district'].value_counts()"
   ]
  },
  {
   "cell_type": "code",
   "execution_count": 27,
   "id": "0a290cd1",
   "metadata": {
    "id": "0a290cd1"
   },
   "outputs": [
    {
     "data": {
      "text/plain": [
       "Text(0, 0.5, 'Административный округ Москвы')"
      ]
     },
     "execution_count": 27,
     "metadata": {},
     "output_type": "execute_result"
    },
    {
     "data": {
      "image/png": "[encoded data removed]",
      "text/plain": [
       "<Figure size 576x360 with 1 Axes>"
      ]
     },
     "metadata": {
      "needs_background": "light"
     },
     "output_type": "display_data"
    }
   ],
   "source": [
    "plt.figure(figsize = (8,5))\n",
    "\n",
    "join_df['district'].value_counts().plot(kind = 'barh',\n",
    "                                        color = 'orange',\n",
    "                                        title = 'Распределение количества заведений в зависимости от административного района'\n",
    "                                       )\n",
    "\n",
    "plt.grid(axis = 'x')\n",
    "\n",
    "plt.xlabel('Количество заведений')\n",
    "plt.ylabel('Административный округ Москвы')"
   ]
  },
  {
   "cell_type": "markdown",
   "id": "ea18a303",
   "metadata": {
    "id": "41f1654a"
   },
   "source": [
    "Явный лидером по количеству заведений является **Центральный административный округ**, в котором насчитывается более двух тысяч заведений — 2242., а аутсайдером - **Северо-Западный административный округ**, в нём всего лишь 409 заведениями общественного питания. В остальных округах количество заведений примерно одинаково, в среднем составляя около 800 ."
   ]
  },
  {
   "cell_type": "code",
   "execution_count": 28,
   "id": "2174885a",
   "metadata": {},
   "outputs": [
    {
     "data": {
      "text/plain": [
       "ресторан           670\n",
       "кафе               464\n",
       "кофейня            428\n",
       "бар,паб            364\n",
       "пиццерия           113\n",
       "быстрое питание     87\n",
       "столовая            66\n",
       "булочная            50\n",
       "Name: category, dtype: int64"
      ]
     },
     "execution_count": 28,
     "metadata": {},
     "output_type": "execute_result"
    }
   ],
   "source": [
    "center_df = join_df[join_df['district'] == 'Центральный административный округ']\n",
    "center_df['category'].value_counts()"
   ]
  },
  {
   "cell_type": "code",
   "execution_count": 29,
   "id": "03126896",
   "metadata": {},
   "outputs": [
    {
     "data": {
      "text/plain": [
       "Text(0, 0.5, 'Категория')"
      ]
     },
     "execution_count": 29,
     "metadata": {},
     "output_type": "execute_result"
    },
    {
     "data": {
      "image/png": "[encoded data removed]",
      "text/plain": [
       "<Figure size 576x360 with 1 Axes>"
      ]
     },
     "metadata": {
      "needs_background": "light"
     },
     "output_type": "display_data"
    }
   ],
   "source": [
    "plt.figure(figsize=(8,5))\n",
    "\n",
    "center_df['category'].value_counts().plot(kind = 'barh',\n",
    "                                        color = 'orange',\n",
    "                                        title = 'Распределение объектов питания в зависимости от категории в Центральном округе'\n",
    "                                       )\n",
    "plt.grid(axis = 'x')\n",
    "\n",
    "plt.xlabel('Количество объектов')\n",
    "plt.ylabel('Категория')"
   ]
  },
  {
   "cell_type": "markdown",
   "id": "f62fbf84",
   "metadata": {},
   "source": [
    "График показывает, что общая тенденция популярности категорий заведений сохраняется и в Центральном административном округе. Однако стоит отметить, что рестораны уверенно занимают лидирующую позицию с заметным отрывом — их здесь целых 670. Кафе, кофейни, бары и пабы имеют примерно одинаковое количество заведений, превышающее 350 в каждой категории. В то же время булочные, столовые, заведения быстрого питания и пиццерии значительно уступают по популярности другим четырем категориям: пиццерий всего 113, а количество заведений остальных трех категорий не превышает 100."
   ]
  },
  {
   "cell_type": "markdown",
   "id": "7c824f58",
   "metadata": {
    "id": "7c824f58"
   },
   "source": [
    "---\n",
    "\n",
    "### Задача 3\n",
    "\n",
    "Изучите соотношение сетевых и несетевых заведений в целом по всем данным и в разрезе категорий заведения. Каких заведений больше — сетевых или несетевых? Какие категории заведений чаще являются сетевыми? Исследуйте данные, ответьте на вопросы и постройте необходимые визуализации."
   ]
  },
  {
   "cell_type": "code",
   "execution_count": 30,
   "id": "0599ce80",
   "metadata": {},
   "outputs": [
    {
     "data": {
      "text/plain": [
       "Несетевое    5199\n",
       "Сетевое      3203\n",
       "Name: chain, dtype: int64"
      ]
     },
     "execution_count": 30,
     "metadata": {},
     "output_type": "execute_result"
    }
   ],
   "source": [
    "copy_join_df = join_df.copy()\n",
    "copy_join_df['chain'] = copy_join_df['chain'].replace({0: 'Несетевое' ,\n",
    "                                                       1: 'Сетевое'})\n",
    "copy_join_df['chain'].value_counts()"
   ]
  },
  {
   "cell_type": "code",
   "execution_count": 31,
   "id": "0d66d439",
   "metadata": {
    "scrolled": true
   },
   "outputs": [
    {
     "data": {
      "text/plain": [
       "Text(0, 0.5, '')"
      ]
     },
     "execution_count": 31,
     "metadata": {},
     "output_type": "execute_result"
    },
    {
     "data": {
      "image/png": "[encoded data removed]",
      "text/plain": [
       "<Figure size 432x432 with 1 Axes>"
      ]
     },
     "metadata": {},
     "output_type": "display_data"
    }
   ],
   "source": [
    "plt.figure(figsize=(6,6))\n",
    "\n",
    "copy_join_df['chain'].value_counts().plot(kind = 'pie',\n",
    "                                     title = 'Количество сетевых и несетевых заведений',\n",
    "                                     shadow=True,\n",
    "                                     colors=['orange','purple'],\n",
    "                                     legend=True,\n",
    "                                     labels=None\n",
    "                                    )\n",
    "\n",
    "plt.ylabel('')"
   ]
  },
  {
   "cell_type": "markdown",
   "id": "d0992d9a",
   "metadata": {},
   "source": [
    "На графике видно, что количество несетевых заведений превышает количество сетевых. Это также подтверждается числовыми данными: несетевых заведений — 5199, в то время как сетевых — 3203. "
   ]
  },
  {
   "cell_type": "code",
   "execution_count": 32,
   "id": "f2bf168e",
   "metadata": {},
   "outputs": [
    {
     "data": {
      "text/html": [
       "<div>\n",
       "<style scoped>\n",
       "    .dataframe tbody tr th:only-of-type {\n",
       "        vertical-align: middle;\n",
       "    }\n",
       "\n",
       "    .dataframe tbody tr th {\n",
       "        vertical-align: top;\n",
       "    }\n",
       "\n",
       "    .dataframe thead th {\n",
       "        text-align: right;\n",
       "    }\n",
       "</style>\n",
       "<table border=\"1\" class=\"dataframe\">\n",
       "  <thead>\n",
       "    <tr style=\"text-align: right;\">\n",
       "      <th>chain</th>\n",
       "      <th>Несетевое</th>\n",
       "      <th>Сетевое</th>\n",
       "      <th>% сетевых от общего количества</th>\n",
       "    </tr>\n",
       "    <tr>\n",
       "      <th>category</th>\n",
       "      <th></th>\n",
       "      <th></th>\n",
       "      <th></th>\n",
       "    </tr>\n",
       "  </thead>\n",
       "  <tbody>\n",
       "    <tr>\n",
       "      <th>булочная</th>\n",
       "      <td>99</td>\n",
       "      <td>157</td>\n",
       "      <td>61.33</td>\n",
       "    </tr>\n",
       "    <tr>\n",
       "      <th>пиццерия</th>\n",
       "      <td>303</td>\n",
       "      <td>330</td>\n",
       "      <td>52.13</td>\n",
       "    </tr>\n",
       "    <tr>\n",
       "      <th>кофейня</th>\n",
       "      <td>693</td>\n",
       "      <td>720</td>\n",
       "      <td>50.96</td>\n",
       "    </tr>\n",
       "    <tr>\n",
       "      <th>быстрое питание</th>\n",
       "      <td>371</td>\n",
       "      <td>232</td>\n",
       "      <td>38.47</td>\n",
       "    </tr>\n",
       "    <tr>\n",
       "      <th>ресторан</th>\n",
       "      <td>1313</td>\n",
       "      <td>729</td>\n",
       "      <td>35.70</td>\n",
       "    </tr>\n",
       "    <tr>\n",
       "      <th>кафе</th>\n",
       "      <td>1597</td>\n",
       "      <td>779</td>\n",
       "      <td>32.79</td>\n",
       "    </tr>\n",
       "    <tr>\n",
       "      <th>столовая</th>\n",
       "      <td>227</td>\n",
       "      <td>88</td>\n",
       "      <td>27.94</td>\n",
       "    </tr>\n",
       "    <tr>\n",
       "      <th>бар,паб</th>\n",
       "      <td>596</td>\n",
       "      <td>168</td>\n",
       "      <td>21.99</td>\n",
       "    </tr>\n",
       "  </tbody>\n",
       "</table>\n",
       "</div>"
      ],
      "text/plain": [
       "chain            Несетевое  Сетевое  % сетевых от общего количества\n",
       "category                                                           \n",
       "булочная                99      157                           61.33\n",
       "пиццерия               303      330                           52.13\n",
       "кофейня                693      720                           50.96\n",
       "быстрое питание        371      232                           38.47\n",
       "ресторан              1313      729                           35.70\n",
       "кафе                  1597      779                           32.79\n",
       "столовая               227       88                           27.94\n",
       "бар,паб                596      168                           21.99"
      ]
     },
     "execution_count": 32,
     "metadata": {},
     "output_type": "execute_result"
    }
   ],
   "source": [
    "copy_join_df = join_df.copy()\n",
    "copy_join_df['chain'] = copy_join_df['chain'].replace({0: 'Несетевое' ,\n",
    "                                                       1: 'Сетевое'})\n",
    "group_df = copy_join_df.groupby('category')['chain'].value_counts().unstack()\n",
    "group_df['% сетевых от общего количества'] = round(group_df['Сетевое'] / (group_df['Сетевое'] + group_df['Несетевое']) * 100, 2)\n",
    "group_df.sort_values(by='% сетевых от общего количества', ascending = False)"
   ]
  },
  {
   "cell_type": "code",
   "execution_count": 33,
   "id": "ef442d1a",
   "metadata": {
    "id": "ef442d1a"
   },
   "outputs": [
    {
     "data": {
      "text/plain": [
       "Text(0.5, 0, 'Количество заведений')"
      ]
     },
     "execution_count": 33,
     "metadata": {},
     "output_type": "execute_result"
    },
    {
     "data": {
      "image/png": "[encoded data removed]",
      "text/plain": [
       "<Figure size 576x432 with 1 Axes>"
      ]
     },
     "metadata": {
      "needs_background": "light"
     },
     "output_type": "display_data"
    }
   ],
   "source": [
    "group_df.plot(kind = 'barh',\n",
    "              color = ['orange', 'purple'],\n",
    "              title = 'Количество сетевых и несетевых заведений в разрезе категорий',\n",
    "             figsize=(8,6))\n",
    "\n",
    "plt.ylabel('Категория')\n",
    "plt.xlabel('Количество заведений')"
   ]
  },
  {
   "cell_type": "markdown",
   "id": "af4861aa",
   "metadata": {
    "id": "0de29fa2"
   },
   "source": [
    "На графике видно, что сетевые заведения преобладают в трех категориях:\n",
    "- Булочная: 157 сетевых против 99 несетевых (61.33%)\n",
    "- Пиццерия: 330 сетевых против 303 несетевых (52.13%)\n",
    "- Кофейня: 720 сетевых против 693 несетевых (50.96%)\n",
    "\n",
    "В остальных категориях, сетевых заведений менее 40% ."
   ]
  },
  {
   "cell_type": "markdown",
   "id": "5913c3e3",
   "metadata": {
    "id": "5913c3e3"
   },
   "source": [
    "---\n",
    "\n",
    "### Задача 4\n",
    "\n",
    "Исследуйте количество посадочных мест в заведениях. Встречаются ли в данных аномальные значения или выбросы? Если да, то с чем они могут быть связаны? Приведите для каждой категории заведений наиболее типичное для него количество посадочных мест. Результат сопроводите подходящими визуализациями.\n"
   ]
  },
  {
   "cell_type": "code",
   "execution_count": 34,
   "id": "550f7791",
   "metadata": {},
   "outputs": [
    {
     "data": {
      "text/plain": [
       "6641    1288.0\n",
       "6574    1288.0\n",
       "6771    1288.0\n",
       "6524    1288.0\n",
       "6658    1288.0\n",
       "6807    1288.0\n",
       "6684    1288.0\n",
       "6838    1288.0\n",
       "6808    1288.0\n",
       "6518    1288.0\n",
       "6690    1288.0\n",
       "4231    1200.0\n",
       "2713    1040.0\n",
       "2722    1040.0\n",
       "2770    1040.0\n",
       "2966    1040.0\n",
       "4245     920.0\n",
       "4180     920.0\n",
       "5486     760.0\n",
       "7987     675.0\n",
       "Name: seats, dtype: float64"
      ]
     },
     "execution_count": 34,
     "metadata": {},
     "output_type": "execute_result"
    }
   ],
   "source": [
    "new_join_df = join_df[join_df['seats'] >= 0] # убираем значения-индикаторы\n",
    "seats_df = new_join_df.sort_values(by='seats', ascending = False)\n",
    "seats_df['seats'].head(20)"
   ]
  },
  {
   "cell_type": "code",
   "execution_count": 35,
   "id": "6cb238d2",
   "metadata": {
    "id": "6cb238d2"
   },
   "outputs": [
    {
     "data": {
      "text/plain": [
       "Text(0.5, 0, 'Количество посадочных мест')"
      ]
     },
     "execution_count": 35,
     "metadata": {},
     "output_type": "execute_result"
    },
    {
     "data": {
      "image/png": "[encoded data removed]",
      "text/plain": [
       "<Figure size 576x360 with 1 Axes>"
      ]
     },
     "metadata": {
      "needs_background": "light"
     },
     "output_type": "display_data"
    }
   ],
   "source": [
    "boxplot = new_join_df.boxplot(column = 'seats',\n",
    "                          vert = False,\n",
    "                         figsize = (8, 5),\n",
    "                              patch_artist=True,  # Включаем заливку коробок\n",
    "                            boxprops=dict(facecolor='lightgreen', color='darkblue'),\n",
    "                              medianprops=dict(color='red')\n",
    "                             )\n",
    "\n",
    "boxplot.set_title('Распределение количества посадочных мест в заведениях')\n",
    "boxplot.set_xlabel('Количество посадочных мест')"
   ]
  },
  {
   "cell_type": "markdown",
   "id": "a89eded1",
   "metadata": {
    "id": "062b55d8"
   },
   "source": [
    "На графике явно выдны аномально большие значения. Некоторые заведения имеют 1040, 1200 и 1280 посадочных местмест. Данные значения могут быть связаны с тем, что некоторые заведения могут иметь VIP-залы или зоны для мероприятий, что может сильно влиять на количество посадочных мест."
   ]
  },
  {
   "cell_type": "markdown",
   "id": "4cc7229c",
   "metadata": {},
   "source": [
    "Наиболее типичное значение посадочных мест для каждой из категорий:"
   ]
  },
  {
   "cell_type": "code",
   "execution_count": 36,
   "id": "ba705dc6",
   "metadata": {
    "scrolled": false
   },
   "outputs": [
    {
     "data": {
      "text/plain": [
       "category\n",
       "бар,паб            82.0\n",
       "булочная           50.0\n",
       "быстрое питание    65.0\n",
       "кафе               60.0\n",
       "кофейня            80.0\n",
       "пиццерия           55.0\n",
       "ресторан           86.0\n",
       "столовая           75.5\n",
       "Name: seats, dtype: float64"
      ]
     },
     "execution_count": 36,
     "metadata": {},
     "output_type": "execute_result"
    }
   ],
   "source": [
    "new_group_df = new_join_df.groupby('category')\n",
    "new_group_df['seats'].median()"
   ]
  },
  {
   "cell_type": "markdown",
   "id": "6b3ea675",
   "metadata": {},
   "source": [
    "Это наглядно демонстрируют следующие графики"
   ]
  },
  {
   "cell_type": "code",
   "execution_count": 37,
   "id": "ceadf25b",
   "metadata": {
    "id": "ceadf25b",
    "scrolled": false
   },
   "outputs": [
    {
     "data": {
      "image/png": "[encoded data removed]",
      "text/plain": [
       "<Figure size 720x720 with 9 Axes>"
      ]
     },
     "metadata": {
      "needs_background": "light"
     },
     "output_type": "display_data"
    }
   ],
   "source": [
    "boxplot_new = new_group_df.boxplot(column = 'seats',\n",
    "                                   figsize = (10,10),\n",
    "                                  showfliers=False,\n",
    "                                  patch_artist=True,\n",
    "                                   boxprops=dict(facecolor='lightgreen', color='darkblue'),\n",
    "                                  medianprops=dict(color='red')\n",
    "                                  )"
   ]
  },
  {
   "cell_type": "markdown",
   "id": "f9816306",
   "metadata": {},
   "source": [
    "Булочные имеют наименьшее среднее количество посадочных мест — всего 50, в то время как рестораны обладают наибольшим средним значением, равным 86 местам. Размах между средними составляет 36.0 ."
   ]
  },
  {
   "cell_type": "markdown",
   "id": "8ed065ea",
   "metadata": {
    "id": "8ed065ea"
   },
   "source": [
    "---\n",
    "\n",
    "### Задача 5\n",
    "\n",
    "Исследуйте рейтинг заведений. Визуализируйте распределение средних рейтингов по категориям заведений. Сильно ли различаются усреднённые рейтинги для разных типов общепита?"
   ]
  },
  {
   "cell_type": "code",
   "execution_count": 38,
   "id": "642c2198",
   "metadata": {},
   "outputs": [
    {
     "data": {
      "text/plain": [
       "category\n",
       "бар,паб            4.39\n",
       "булочная           4.26\n",
       "быстрое питание    4.04\n",
       "кафе               4.15\n",
       "кофейня            4.28\n",
       "пиццерия           4.28\n",
       "ресторан           4.29\n",
       "столовая           4.24\n",
       "Name: rating, dtype: float64"
      ]
     },
     "execution_count": 38,
     "metadata": {},
     "output_type": "execute_result"
    }
   ],
   "source": [
    "round(new_group_df['rating'].mean(), 2)"
   ]
  },
  {
   "cell_type": "code",
   "execution_count": 39,
   "id": "cc5206f8",
   "metadata": {
    "id": "cc5206f8"
   },
   "outputs": [
    {
     "data": {
      "text/plain": [
       "Text(0, 0.5, 'Категория')"
      ]
     },
     "execution_count": 39,
     "metadata": {},
     "output_type": "execute_result"
    },
    {
     "data": {
      "image/png": "[encoded data removed]",
      "text/plain": [
       "<Figure size 576x432 with 1 Axes>"
      ]
     },
     "metadata": {
      "needs_background": "light"
     },
     "output_type": "display_data"
    }
   ],
   "source": [
    "plt.figure(figsize=(8,6))\n",
    "\n",
    "new_group_df['rating'].mean().plot(kind = 'barh',\n",
    "                                   color = 'orange',\n",
    "                                   edgecolor = 'black',\n",
    "                                   title = 'Средний рейтинг заведений в разрезере категорий')\n",
    "\n",
    "plt.grid(axis = 'x')\n",
    "\n",
    "plt.xlabel('Средний рейтинг')\n",
    "plt.ylabel('Категория')"
   ]
  },
  {
   "cell_type": "markdown",
   "id": "42427818",
   "metadata": {
    "id": "3e0ec5d7"
   },
   "source": [
    "График демонстрирует, что средние рейтинги незначительно отличаются в каждой категории. Также можно заметить, что все они превышают 4, это показывает, что на рынке необходимо сразу удерживать высокий стандарт качества, независимо от формата заведения."
   ]
  },
  {
   "cell_type": "markdown",
   "id": "dd9702d9",
   "metadata": {
    "id": "dd9702d9"
   },
   "source": [
    "---\n",
    "\n",
    "### Задача 6\n",
    "\n",
    "Изучите, с какими данными показывают самую сильную корреляцию рейтинги заведений? Постройте и визуализируйте матрицу корреляции рейтинга заведения с разными данными: его категория, положение (административный район Москвы), статус сетевого заведения, количество мест, ценовая категория и признак, является ли заведения круглосуточным. Выберите самую сильную связь и проверьте её."
   ]
  },
  {
   "cell_type": "code",
   "execution_count": 40,
   "id": "15400eb9",
   "metadata": {
    "id": "15400eb9",
    "scrolled": true
   },
   "outputs": [
    {
     "name": "stdout",
     "output_type": "stream",
     "text": [
      "interval columns not set, guessing: ['rating', 'chain', 'seats']\n",
      "interval columns not set, guessing: ['rating', 'chain', 'seats']\n",
      "Корреляционная матрица с коэффициентом phi_k для переменной rating\n"
     ]
    },
    {
     "data": {
      "text/html": [
       "<div>\n",
       "<style scoped>\n",
       "    .dataframe tbody tr th:only-of-type {\n",
       "        vertical-align: middle;\n",
       "    }\n",
       "\n",
       "    .dataframe tbody tr th {\n",
       "        vertical-align: top;\n",
       "    }\n",
       "\n",
       "    .dataframe thead th {\n",
       "        text-align: right;\n",
       "    }\n",
       "</style>\n",
       "<table border=\"1\" class=\"dataframe\">\n",
       "  <thead>\n",
       "    <tr style=\"text-align: right;\">\n",
       "      <th></th>\n",
       "      <th>rating</th>\n",
       "    </tr>\n",
       "  </thead>\n",
       "  <tbody>\n",
       "    <tr>\n",
       "      <th>price</th>\n",
       "      <td>0.281253</td>\n",
       "    </tr>\n",
       "    <tr>\n",
       "      <th>district</th>\n",
       "      <td>0.200761</td>\n",
       "    </tr>\n",
       "    <tr>\n",
       "      <th>category</th>\n",
       "      <td>0.189716</td>\n",
       "    </tr>\n",
       "    <tr>\n",
       "      <th>is_24_7</th>\n",
       "      <td>0.150365</td>\n",
       "    </tr>\n",
       "    <tr>\n",
       "      <th>chain</th>\n",
       "      <td>0.107833</td>\n",
       "    </tr>\n",
       "    <tr>\n",
       "      <th>seats</th>\n",
       "      <td>0.000000</td>\n",
       "    </tr>\n",
       "  </tbody>\n",
       "</table>\n",
       "</div>"
      ],
      "text/plain": [
       "            rating\n",
       "price     0.281253\n",
       "district  0.200761\n",
       "category  0.189716\n",
       "is_24_7   0.150365\n",
       "chain     0.107833\n",
       "seats     0.000000"
      ]
     },
     "execution_count": 40,
     "metadata": {},
     "output_type": "execute_result"
    }
   ],
   "source": [
    "corr_matrix = join_df[['rating', 'category', 'district', 'chain', 'seats', 'price', 'is_24_7']].phik_matrix()\n",
    "\n",
    "correlation_matrix = join_df[['rating', 'category', 'district', 'chain', 'seats', 'price', 'is_24_7']].phik_matrix()\n",
    "\n",
    "print('Корреляционная матрица с коэффициентом phi_k для переменной rating')\n",
    "correlation_matrix.loc[correlation_matrix.index != 'rating'][['rating']].sort_values(by='rating', ascending=False)"
   ]
  },
  {
   "cell_type": "code",
   "execution_count": 41,
   "id": "8fd46fb7",
   "metadata": {
    "id": "8f0379af"
   },
   "outputs": [
    {
     "data": {
      "text/plain": [
       "(array([0.5, 1.5, 2.5, 3.5, 4.5, 5.5]),\n",
       " [Text(0, 0.5, 'price'),\n",
       "  Text(0, 1.5, 'district'),\n",
       "  Text(0, 2.5, 'category'),\n",
       "  Text(0, 3.5, 'is_24_7'),\n",
       "  Text(0, 4.5, 'chain'),\n",
       "  Text(0, 5.5, 'seats')])"
      ]
     },
     "execution_count": 41,
     "metadata": {},
     "output_type": "execute_result"
    },
    {
     "data": {
      "image/png": "[encoded data removed]",
      "text/plain": [
       "<Figure size 216x504 with 1 Axes>"
      ]
     },
     "metadata": {
      "needs_background": "light"
     },
     "output_type": "display_data"
    }
   ],
   "source": [
    "data_heatmap = correlation_matrix.loc[correlation_matrix.index != 'rating'][['rating']].sort_values(by='rating', ascending=False)\n",
    "\n",
    "plt.figure(figsize=(3, 7))\n",
    "\n",
    "sns.heatmap(data_heatmap,\n",
    "            cmap=sns.cubehelix_palette(as_cmap=True),\n",
    "            annot=True,\n",
    "            fmt='.2f',\n",
    "            linewidths=0.5,\n",
    "            cbar=False\n",
    "           )\n",
    "\n",
    "plt.title('Тепловая карта коэффициента phi_k для данных rating')\n",
    "plt.yticks(rotation=0)"
   ]
  },
  {
   "cell_type": "markdown",
   "id": "68e609f5",
   "metadata": {
    "id": "1a65a84d"
   },
   "source": [
    "Наибольший коэффициент корреляции у столбца `rating` со столбцом `price`.\n",
    "Проверим влияет ли категория цен в заведении на рейтинг заведения."
   ]
  },
  {
   "cell_type": "code",
   "execution_count": 42,
   "id": "8b61795d",
   "metadata": {},
   "outputs": [
    {
     "name": "stdout",
     "output_type": "stream",
     "text": [
      "Коэффициент корреляции Спирмена: 0.200\n",
      "P-value: 0.0000\n"
     ]
    }
   ],
   "source": [
    "new_join_df = join_df.copy()\n",
    "\n",
    "price_mapping = {\n",
    "    'низкие': 1,\n",
    "    'ниже среднего': 2,\n",
    "    'средние': 3,\n",
    "    'выше среднего': 4,\n",
    "    'высокие': 5\n",
    "}\n",
    "\n",
    "new_join_df['price_numeric'] = new_join_df['price'].replace(price_mapping)\n",
    "new_join_df = new_join_df.dropna(subset=['price_numeric', 'rating'])\n",
    "                     \n",
    "# Расчёт корреляции Спирмена\n",
    "corr, p_value = spearmanr(new_join_df['price_numeric'], new_join_df['rating'])\n",
    "print(f\"Коэффициент корреляции Спирмена: {corr:.3f}\")\n",
    "print(f\"P-value: {p_value:.4f}\")"
   ]
  },
  {
   "cell_type": "markdown",
   "id": "efc2770c",
   "metadata": {},
   "source": [
    "p-value < 0.05 следовательно связь является статистически значимой"
   ]
  },
  {
   "cell_type": "markdown",
   "id": "370de703",
   "metadata": {
    "id": "370de703"
   },
   "source": [
    "---\n",
    "\n",
    "### Задача 7\n",
    "\n",
    "Сгруппируйте данные по названиям заведений и найдите топ-15 популярных сетей в Москве. Для них посчитайте значения среднего рейтинга. Под популярностью понимается количество заведений этой сети в регионе. К какой категории заведений они относятся? Результат сопроводите подходящими визуализациями."
   ]
  },
  {
   "cell_type": "code",
   "execution_count": 43,
   "id": "5d828a9a",
   "metadata": {
    "id": "5d828a9a"
   },
   "outputs": [
    {
     "data": {
      "text/html": [
       "<div>\n",
       "<style scoped>\n",
       "    .dataframe tbody tr th:only-of-type {\n",
       "        vertical-align: middle;\n",
       "    }\n",
       "\n",
       "    .dataframe tbody tr th {\n",
       "        vertical-align: top;\n",
       "    }\n",
       "\n",
       "    .dataframe thead th {\n",
       "        text-align: right;\n",
       "    }\n",
       "</style>\n",
       "<table border=\"1\" class=\"dataframe\">\n",
       "  <thead>\n",
       "    <tr style=\"text-align: right;\">\n",
       "      <th></th>\n",
       "      <th>name</th>\n",
       "      <th>count</th>\n",
       "      <th>mean_rating</th>\n",
       "      <th>category</th>\n",
       "    </tr>\n",
       "  </thead>\n",
       "  <tbody>\n",
       "    <tr>\n",
       "      <th>0</th>\n",
       "      <td>шоколадница</td>\n",
       "      <td>120</td>\n",
       "      <td>4.177500</td>\n",
       "      <td>кофейня</td>\n",
       "    </tr>\n",
       "    <tr>\n",
       "      <th>1</th>\n",
       "      <td>домино'с пицца</td>\n",
       "      <td>76</td>\n",
       "      <td>4.169737</td>\n",
       "      <td>пиццерия</td>\n",
       "    </tr>\n",
       "    <tr>\n",
       "      <th>2</th>\n",
       "      <td>додо пицца</td>\n",
       "      <td>74</td>\n",
       "      <td>4.286486</td>\n",
       "      <td>пиццерия</td>\n",
       "    </tr>\n",
       "    <tr>\n",
       "      <th>3</th>\n",
       "      <td>one price coffee</td>\n",
       "      <td>71</td>\n",
       "      <td>4.064789</td>\n",
       "      <td>кофейня</td>\n",
       "    </tr>\n",
       "    <tr>\n",
       "      <th>4</th>\n",
       "      <td>яндекс лавка</td>\n",
       "      <td>69</td>\n",
       "      <td>3.872464</td>\n",
       "      <td>ресторан</td>\n",
       "    </tr>\n",
       "    <tr>\n",
       "      <th>5</th>\n",
       "      <td>cofix</td>\n",
       "      <td>65</td>\n",
       "      <td>4.075385</td>\n",
       "      <td>кофейня</td>\n",
       "    </tr>\n",
       "    <tr>\n",
       "      <th>6</th>\n",
       "      <td>prime</td>\n",
       "      <td>50</td>\n",
       "      <td>4.116000</td>\n",
       "      <td>ресторан</td>\n",
       "    </tr>\n",
       "    <tr>\n",
       "      <th>7</th>\n",
       "      <td>хинкальная</td>\n",
       "      <td>44</td>\n",
       "      <td>4.322727</td>\n",
       "      <td>кафе</td>\n",
       "    </tr>\n",
       "    <tr>\n",
       "      <th>8</th>\n",
       "      <td>кофепорт</td>\n",
       "      <td>42</td>\n",
       "      <td>4.147619</td>\n",
       "      <td>кофейня</td>\n",
       "    </tr>\n",
       "    <tr>\n",
       "      <th>9</th>\n",
       "      <td>кулинарная лавка братьев караваевых</td>\n",
       "      <td>39</td>\n",
       "      <td>4.394872</td>\n",
       "      <td>кафе</td>\n",
       "    </tr>\n",
       "    <tr>\n",
       "      <th>10</th>\n",
       "      <td>теремок</td>\n",
       "      <td>38</td>\n",
       "      <td>4.123684</td>\n",
       "      <td>ресторан</td>\n",
       "    </tr>\n",
       "    <tr>\n",
       "      <th>11</th>\n",
       "      <td>чайхана</td>\n",
       "      <td>37</td>\n",
       "      <td>3.924324</td>\n",
       "      <td>кафе</td>\n",
       "    </tr>\n",
       "    <tr>\n",
       "      <th>12</th>\n",
       "      <td>cofefest</td>\n",
       "      <td>32</td>\n",
       "      <td>3.984375</td>\n",
       "      <td>кофейня</td>\n",
       "    </tr>\n",
       "    <tr>\n",
       "      <th>13</th>\n",
       "      <td>буханка</td>\n",
       "      <td>32</td>\n",
       "      <td>4.396875</td>\n",
       "      <td>булочная</td>\n",
       "    </tr>\n",
       "    <tr>\n",
       "      <th>14</th>\n",
       "      <td>му-му</td>\n",
       "      <td>27</td>\n",
       "      <td>4.229630</td>\n",
       "      <td>кафе</td>\n",
       "    </tr>\n",
       "  </tbody>\n",
       "</table>\n",
       "</div>"
      ],
      "text/plain": [
       "                                   name  count  mean_rating  category\n",
       "0                           шоколадница    120     4.177500   кофейня\n",
       "1                        домино'с пицца     76     4.169737  пиццерия\n",
       "2                            додо пицца     74     4.286486  пиццерия\n",
       "3                      one price coffee     71     4.064789   кофейня\n",
       "4                          яндекс лавка     69     3.872464  ресторан\n",
       "5                                 cofix     65     4.075385   кофейня\n",
       "6                                 prime     50     4.116000  ресторан\n",
       "7                            хинкальная     44     4.322727      кафе\n",
       "8                              кофепорт     42     4.147619   кофейня\n",
       "9   кулинарная лавка братьев караваевых     39     4.394872      кафе\n",
       "10                              теремок     38     4.123684  ресторан\n",
       "11                              чайхана     37     3.924324      кафе\n",
       "12                             cofefest     32     3.984375   кофейня\n",
       "13                              буханка     32     4.396875  булочная\n",
       "14                                му-му     27     4.229630      кафе"
      ]
     },
     "execution_count": 43,
     "metadata": {},
     "output_type": "execute_result"
    }
   ],
   "source": [
    "set_df = join_df[join_df['chain'] == 1]\n",
    "                 \n",
    "name_counts = (\n",
    "    set_df.groupby('name')  \n",
    "    .size()                  \n",
    "    .reset_index(name='count') \n",
    "    .sort_values('count', ascending=False)\n",
    "    .head(15)\n",
    ")\n",
    "\n",
    "# Добавляем средний рейтинг для этих названий\n",
    "result = (\n",
    "    set_df[set_df['name'].isin(name_counts['name'])]  # Фильтруем топ-15\n",
    "    .groupby('name')\n",
    "    .agg(\n",
    "        count=('name', 'size'),         \n",
    "        mean_rating=('rating', 'mean'),\n",
    "        category=('category', lambda x: x.mode()[0])  # Самая частая категория\n",
    "    )\n",
    "    .sort_values('count', ascending=False)\n",
    "    .reset_index()\n",
    ")\n",
    "\n",
    "result"
   ]
  },
  {
   "cell_type": "code",
   "execution_count": 44,
   "id": "d013c598",
   "metadata": {
    "id": "d013c598"
   },
   "outputs": [
    {
     "data": {
      "image/png": "[encoded data removed]",
      "text/plain": [
       "<Figure size 864x432 with 1 Axes>"
      ]
     },
     "metadata": {
      "needs_background": "light"
     },
     "output_type": "display_data"
    }
   ],
   "source": [
    "plt.figure(figsize=(12, 6))\n",
    "sns.barplot(data=result,\n",
    "            x='count',\n",
    "            y='name',\n",
    "            color='orange')\n",
    "plt.title('Топ-15 сетевых заведений')\n",
    "plt.xlabel('Количество заведений')\n",
    "plt.ylabel('Название')\n",
    "\n",
    "plt.grid(axis='x')"
   ]
  },
  {
   "cell_type": "markdown",
   "id": "95a3e9cb",
   "metadata": {
    "id": "774348d5"
   },
   "source": [
    "На основе полученных данных можно сделать следующие выводы о топ-15 популярных сетях в Москве:\n",
    "1. ***Топ популярных заведений:*** \n",
    "- Кофейни лидируют по количеству заведений:\n",
    "    - \"Шоколадница\" (120)\n",
    "\n",
    "    - \"One Price Coffee\" (71)\n",
    "\n",
    "    - \"Cofix\" (65)\n",
    "\n",
    "    - \"Кофепорт\" (42)\n",
    "\n",
    "    - \"Cofefest\" (32)\n",
    "        \n",
    "Всего в топ-15 кофейни представлены 5 раз, что делает их самой распространённой\n",
    "    \n",
    "   - Следом идут пиццерии (домино'с пицца(76), додо пицца(74))\n",
    "\n",
    "\n",
    "   - Рестораны и кафе представлены меньшим числом заведений:\n",
    "\n",
    "        - \"Яндекс Лавка\" (69, ресторан)\n",
    "\n",
    "        - \"Хинкальная\" (44, кафе)\n",
    "\n",
    "        - \"Кулинарная Лавка братьев Караваевых\" (39, кафе)\n",
    "\n",
    "        - \"Теремок\" (38, ресторан)\n",
    "\n",
    "        - \"Чайхана\" (37, кафе)\n",
    "\n",
    "        - \"Му-Му\" (27, кафе)\n",
    "\n",
    "Таким образом, кофейни и пиццерии доминируют по количеству точек, тогда как рестораны и кафе менее распространены в сетевом формате.\n",
    "\n",
    "2. ***Средний рейтинг:***\n",
    "\n",
    "**Самые высокие рейтинги** у заведений с небольшим количеством точек:\n",
    "\n",
    "- \"Кулинарная Лавка братьев Караваевых\" (4.39, 39 заведений)\n",
    "\n",
    "- \"Буханка\" (4.40, 32 заведения)\n",
    "\n",
    "- \"Хинкальная\" (4.32, 44 заведения)\n",
    "\n",
    "Среди **крупных сетей лучший рейтинг у**:\n",
    "\n",
    "- \"Додо Пицца\" (4.29, 74 заведения)\n",
    "\n",
    "- \"Шоколадница\" (4.18, 120 заведений)\n",
    "\n",
    "Самый **низкий** рейтинг у:\n",
    "\n",
    "- \"Яндекс Лавка\" (3.87, ресторан)\n",
    "\n",
    "- \"Чайхана\" (3.92, кафе)\n",
    "\n",
    "Можно заметить,что чем меньше сеть, тем выше рейтинг (возможно, из-за лучшего контроля качества). Однако \"Додо Пицца\" и \"Шоколадница\" показывают, что крупные сети тоже могут поддерживать высокий уровень.\n",
    "\n",
    "3. ***Разнообразие категорий***: В выборке представлены различные категории заведений, больше всего кофеен, но кафе и рестораны тоже хорошо представлены. Пиццерии немногочисленны, но популярны. Это разнообразие позволяет удовлетворять различные потребности потребителей, от быстрого перекуса до полноценного обеда.\n"
   ]
  },
  {
   "cell_type": "markdown",
   "id": "85a90a94",
   "metadata": {
    "id": "85a90a94"
   },
   "source": [
    "---\n",
    "\n",
    "### Задача 8\n",
    "\n",
    "Изучите вариацию среднего чека заведения (столбец `middle_avg_bill`) в зависимости от района Москвы. Проанализируйте цены в Центральном административном округе и других. Как удалённость от центра влияет на цены в заведениях? Результат сопроводите подходящими визуализациями.\n"
   ]
  },
  {
   "cell_type": "code",
   "execution_count": 45,
   "id": "5fb4ffc6",
   "metadata": {
    "id": "5fb4ffc6"
   },
   "outputs": [],
   "source": [
    "moscow_df = join_df.copy()\n",
    "\n",
    "moscow_df['middle_avg_bill'] = moscow_df['middle_avg_bill'].replace(-1, pd.NA)\n",
    "\n",
    "# Удаляем строки с отсутствующими значениями в столбце среднего чека\n",
    "moscow_df = moscow_df.dropna(subset=['middle_avg_bill'])\n",
    "\n",
    "# Функция для извлечения среднего чека\n",
    "def extract_average_bill(value):\n",
    "# Находим все числовые значения в строке\n",
    "    numbers = re.findall(r'\\d+', value)\n",
    "    if len(numbers) == 2:\n",
    "        # Если есть два числа, возвращаем их медиану\n",
    "        return (int(numbers[0]) + int(numbers[1])) / 2\n",
    "    elif len(numbers) == 1:\n",
    "        # Если есть одно число, возвращаем его\n",
    "        return int(numbers[0])\n",
    "\n",
    "# Применяем функцию к столбцу avg_bill\n",
    "moscow_df['middle_avg_bill'] = moscow_df['avg_bill'].apply(extract_average_bill)"
   ]
  },
  {
   "cell_type": "markdown",
   "id": "ce2512ae",
   "metadata": {},
   "source": [
    "Распределение цен в **Центральном округе**"
   ]
  },
  {
   "cell_type": "code",
   "execution_count": 46,
   "id": "63f1fa02",
   "metadata": {},
   "outputs": [
    {
     "data": {
      "text/plain": [
       "Text(0.5, 0, 'Средний чек (руб.)')"
      ]
     },
     "execution_count": 46,
     "metadata": {},
     "output_type": "execute_result"
    },
    {
     "data": {
      "image/png": "[encoded data removed]",
      "text/plain": [
       "<Figure size 432x288 with 1 Axes>"
      ]
     },
     "metadata": {
      "needs_background": "light"
     },
     "output_type": "display_data"
    }
   ],
   "source": [
    "center_moscow_df = moscow_df[moscow_df['district'] == 'Центральный административный округ']\n",
    "\n",
    "center_moscow_df['middle_avg_bill'].plot(kind='hist',\n",
    "                                        color='orange',\n",
    "                                        edgecolor='black',\n",
    "                                        title='Средний чек заведений в Центральном административном округе',\n",
    "                                        bins = 20)\n",
    "\n",
    "plt.xlabel('Средний чек (руб.)')\n"
   ]
  },
  {
   "cell_type": "markdown",
   "id": "7f3b2cd4",
   "metadata": {},
   "source": [
    "На графике видно, что мода данного распределения составляет примерно 700-800р. , также можно увидеть, что есть аномально большие значения в районе 6000 и 7000."
   ]
  },
  {
   "cell_type": "code",
   "execution_count": 47,
   "id": "9b5e00a5",
   "metadata": {
    "id": "9b5e00a5"
   },
   "outputs": [
    {
     "data": {
      "text/html": [
       "<div>\n",
       "<style scoped>\n",
       "    .dataframe tbody tr th:only-of-type {\n",
       "        vertical-align: middle;\n",
       "    }\n",
       "\n",
       "    .dataframe tbody tr th {\n",
       "        vertical-align: top;\n",
       "    }\n",
       "\n",
       "    .dataframe thead th {\n",
       "        text-align: right;\n",
       "    }\n",
       "</style>\n",
       "<table border=\"1\" class=\"dataframe\">\n",
       "  <thead>\n",
       "    <tr style=\"text-align: right;\">\n",
       "      <th></th>\n",
       "      <th>district</th>\n",
       "      <th>middle_avg_bill</th>\n",
       "    </tr>\n",
       "  </thead>\n",
       "  <tbody>\n",
       "    <tr>\n",
       "      <th>5</th>\n",
       "      <td>Центральный административный округ</td>\n",
       "      <td>1191.058962</td>\n",
       "    </tr>\n",
       "    <tr>\n",
       "      <th>1</th>\n",
       "      <td>Западный административный округ</td>\n",
       "      <td>1053.227124</td>\n",
       "    </tr>\n",
       "    <tr>\n",
       "      <th>2</th>\n",
       "      <td>Северный административный округ</td>\n",
       "      <td>927.962733</td>\n",
       "    </tr>\n",
       "    <tr>\n",
       "      <th>8</th>\n",
       "      <td>Южный административный округ</td>\n",
       "      <td>834.399682</td>\n",
       "    </tr>\n",
       "    <tr>\n",
       "      <th>4</th>\n",
       "      <td>Северо-Западный административный округ</td>\n",
       "      <td>822.226115</td>\n",
       "    </tr>\n",
       "    <tr>\n",
       "      <th>0</th>\n",
       "      <td>Восточный административный округ</td>\n",
       "      <td>820.630769</td>\n",
       "    </tr>\n",
       "    <tr>\n",
       "      <th>7</th>\n",
       "      <td>Юго-Западный административный округ</td>\n",
       "      <td>792.565957</td>\n",
       "    </tr>\n",
       "    <tr>\n",
       "      <th>3</th>\n",
       "      <td>Северо-Восточный административный округ</td>\n",
       "      <td>716.614618</td>\n",
       "    </tr>\n",
       "    <tr>\n",
       "      <th>6</th>\n",
       "      <td>Юго-Восточный административный округ</td>\n",
       "      <td>654.103093</td>\n",
       "    </tr>\n",
       "  </tbody>\n",
       "</table>\n",
       "</div>"
      ],
      "text/plain": [
       "                                  district  middle_avg_bill\n",
       "5       Центральный административный округ      1191.058962\n",
       "1          Западный административный округ      1053.227124\n",
       "2          Северный административный округ       927.962733\n",
       "8             Южный административный округ       834.399682\n",
       "4   Северо-Западный административный округ       822.226115\n",
       "0         Восточный административный округ       820.630769\n",
       "7      Юго-Западный административный округ       792.565957\n",
       "3  Северо-Восточный административный округ       716.614618\n",
       "6     Юго-Восточный административный округ       654.103093"
      ]
     },
     "execution_count": 47,
     "metadata": {},
     "output_type": "execute_result"
    }
   ],
   "source": [
    "district_avg_bill = moscow_df.groupby('district')['middle_avg_bill'].mean().reset_index()\n",
    "sort_district_avg_bil = district_avg_bill.sort_values(by='middle_avg_bill', ascending = False)\n",
    "sort_district_avg_bil"
   ]
  },
  {
   "cell_type": "code",
   "execution_count": 48,
   "id": "b98066c1",
   "metadata": {
    "id": "b98066c1"
   },
   "outputs": [
    {
     "data": {
      "image/png": "[encoded data removed]",
      "text/plain": [
       "<Figure size 576x432 with 1 Axes>"
      ]
     },
     "metadata": {
      "needs_background": "light"
     },
     "output_type": "display_data"
    }
   ],
   "source": [
    "plt.figure(figsize=(8, 6))\n",
    "\n",
    "sns.barplot(data=sort_district_avg_bil,\n",
    "            x='middle_avg_bill',\n",
    "            y='district',\n",
    "            color='orange')\n",
    "plt.title('Средний чек заведений в зависимости от района Москвы')\n",
    "plt.xlabel('Средний чек (руб.)')\n",
    "plt.ylabel('Район')\n",
    "\n",
    "plt.grid(axis='x')"
   ]
  },
  {
   "cell_type": "markdown",
   "id": "c150bd4f",
   "metadata": {
    "id": "c150bd4f"
   },
   "source": [
    "---\n"
   ]
  },
  {
   "cell_type": "markdown",
   "id": "a0c73862",
   "metadata": {
    "id": "5ee8b279"
   },
   "source": [
    "График демонстрирует, что лидерами по среднему чеку являются **Центральный (1191р.)** и **Западный (1053р.)** округи. Cаймый же низский средний чек в **Юго-Восточном** административном округе, всего 654р. В остальных районах Москвы средний чек ниже 1000р.\n",
    "\n",
    "Таким образом, можно отметить прямую зависимость среднего чека от удаленности от центра. Это может быть связано с тем, что в центре города чаще бывают туристы, а также расположено множество офисов."
   ]
  },
  {
   "cell_type": "markdown",
   "id": "f2c54e9a",
   "metadata": {
    "id": "f2c54e9a"
   },
   "source": [
    "---\n",
    "\n",
    "### Промежуточный вывод\n",
    "\n",
    "Обобщите полученные результаты, выделив, по вашему мнению, самые важные."
   ]
  },
  {
   "cell_type": "markdown",
   "id": "c25fc4a4",
   "metadata": {
    "id": "c8869609"
   },
   "source": [
    "Анализ показал, что:"
   ]
  },
  {
   "cell_type": "markdown",
   "id": "27b23cf4",
   "metadata": {
    "id": "3313cfd6"
   },
   "source": [
    "- Большинство заведений общественного питания находятся в центральном административном округе(2242), что в 2–3 раза больше, чем в других округах. Наименьшее число заведений — в Северо-Западном округе (409). В остальных округах количество заведений примерно одинаково (700–900). \n",
    "\n",
    "\n",
    "- Наиболее популярными категориями являются **кафе(2376), рестораны(2042) и кофейни(1413)**, наименее популярными **булочные и столовые** с 256 и 315 заведениями соответственно. \n",
    "\n",
    "\n",
    "- Большинство заведений являются несетевыми, их 5199 против 3203 сетевых. Такая же тенденция в основном сохраняется и в разрезе категорий.\n",
    "\n",
    "\n",
    "- Средний рейтинг во всех категориях выше 4.0.\n",
    "\n",
    "\n",
    "- Сильнее всего на рейтинг заведения влияет цена.\n",
    "\n",
    "\n",
    "- Наибольший средний чек в ЦАО (1191руб.) и ЗАО (1053руб.). Самый низкий: Юго-Восточный округ (654руб.).\n"
   ]
  },
  {
   "cell_type": "markdown",
   "id": "480f3422",
   "metadata": {
    "id": "480f3422"
   },
   "source": [
    "## Итоговый вывод и рекомендации\n",
    "\n",
    "### Анализ данных о заведениях общественного питания в Москве выявил несколько ключевых тенденций и закономерностей:\n",
    "\n",
    "1. **Распределение заведений по районам:** Большинство заведений сосредоточено в Центральном административном округе(2242), что в 2–3 раза больше, чем в других округах, что подтверждает его статус как главного делового и туристического центра. Наименее представлен Северо-Западный округ с всего 409 заведениями, в то время как остальные округа имеют схожее количество, варьирующее от 600 до 900 заведений.\n",
    "\n",
    "\n",
    "2. **Популярные категории:** Наиболее распространенными категориями являются кафе (2376), рестораны (2042) и кофейни (1413). Менее популярны булочные (256) и столовые (315), что может указывать на предпочтения потребителей в сторону более разнообразных и качественных предложений.\n",
    "\n",
    "    В ЦАО доминируют рестораны (670 заведений), что связано с высокой проходимостью и туристической привлекательностью.\n",
    "\n",
    "\n",
    "3. **Сетевые и несетевые заведения:** В целом несетевые заведений больше 5199 против 3203 сетевых.\n",
    "\n",
    "    Сетевые форматы преобладают в :\n",
    "\n",
    "    - Булочных (61% сетевых),\n",
    "\n",
    "    - Пиццериях (52%),\n",
    "\n",
    "    - Кофейнях (51%).\n",
    "    \n",
    "    В остальных категориях доля сетевых заведений не превышает 40%.\n",
    "\n",
    "    Также среди сетевых заведений из топ-15 можно заметить тенденцию: чем меньше сеть, тем выше рейтинг, возможно, из-за лучшего контроля качества. Однако \"Додо Пицца\" и \"Шоколадница\" показывают, что крупные сети тоже могут поддерживать высокий уровень.\n",
    "    \n",
    "    \n",
    "4. **Рейтинг заведений:** Рейтинг слабо зависит от категорииво. В каждой категории он выше 4.0, что показывает необходимость поддержания высоких стандартов качества вне зависимости от выбора категории. Одноко рейтинг сильно зависит от ценового позиционирования, что подтверждается коэффициент корреляции в 0.200 и p-value < 0.05.\n",
    "\n",
    "\n",
    "5. **Средний чек:** Наивысшие значения среднего чека наблюдаются в Центральном (1191руб.) и Западном округах(1053руб.), в то время как в Юго-Восточном округе он составляет всего 654 руб.\n",
    "\n",
    "    Таким образом, есть прямая тенденция: Чем ближе к центру, тем выше цены (+20–40%).Это может быть связано с более высокой покупательной способностью населения в центральных районах.\n",
    "\n",
    "### Рекомендации для заказчика:\n",
    "\n",
    "- В Центральном административном округе и Западном административном округе сфокусироваться на **премиальных форматах** (кофейни, рестораны) с средним чеком более 1000 руб. Делать акцент на уникальность(авторская кухня, атмосфера).\n",
    "\n",
    "\n",
    "- В спальных округах развивать **бюджетные** кафе и фастфуд (чек до 800 руб.).\n",
    "\n",
    "\n",
    "- Для сетей: развивать булочные, кофейни и пиццерии.\n",
    "\n",
    "\n",
    "- Рекомендуется провести более глубокий анализ ценовой политики, особенно в Центральном округе, чтобы определить, какие факторы способствуют высокому среднему чеку.\n",
    "\n",
    "\n",
    "- Выяснить с чем связаны аномальные значения посадочных мест (>500), которые могут быть связаны с необходимостью наличия VIP или банкетных залов в некоторых категориях заведений.\n",
    "\n",
    "\n",
    "\n",
    "Для дальнейшего анализа стоит проанализировать **сезонности спроса**, а также разработать ценовые стратегии для **каждого округа**"
   ]
  }
 ],
 "metadata": {
  "ExecuteTimeLog": [
   {
    "duration": 4,
    "start_time": "2025-04-26T20:54:50.365Z"
   },
   {
    "duration": 2,
    "start_time": "2025-04-26T20:54:52.218Z"
   },
   {
    "duration": 2,
    "start_time": "2025-04-26T20:54:54.053Z"
   },
   {
    "duration": 2,
    "start_time": "2025-04-26T20:54:59.289Z"
   },
   {
    "duration": 3,
    "start_time": "2025-04-26T20:54:59.980Z"
   },
   {
    "duration": 2,
    "start_time": "2025-04-26T20:55:00.782Z"
   },
   {
    "duration": 2,
    "start_time": "2025-04-26T20:55:01.291Z"
   },
   {
    "duration": 2,
    "start_time": "2025-04-26T20:55:03.628Z"
   },
   {
    "duration": 95,
    "start_time": "2025-04-26T21:01:44.646Z"
   },
   {
    "duration": 41,
    "start_time": "2025-04-26T21:02:05.250Z"
   },
   {
    "duration": 393,
    "start_time": "2025-04-26T21:02:35.262Z"
   },
   {
    "duration": 257,
    "start_time": "2025-04-26T21:02:37.614Z"
   },
   {
    "duration": 15,
    "start_time": "2025-04-26T21:04:47.895Z"
   },
   {
    "duration": 17,
    "start_time": "2025-04-26T21:05:10.218Z"
   },
   {
    "duration": 12,
    "start_time": "2025-04-26T21:06:05.737Z"
   },
   {
    "duration": 12,
    "start_time": "2025-04-26T21:06:12.504Z"
   },
   {
    "duration": 11,
    "start_time": "2025-04-26T21:43:37.395Z"
   },
   {
    "duration": 18,
    "start_time": "2025-04-26T21:45:03.937Z"
   },
   {
    "duration": 16,
    "start_time": "2025-04-26T21:45:28.180Z"
   },
   {
    "duration": 20,
    "start_time": "2025-04-26T21:46:08.462Z"
   },
   {
    "duration": 5,
    "start_time": "2025-04-26T22:59:03.493Z"
   },
   {
    "duration": 18,
    "start_time": "2025-04-26T22:59:35.045Z"
   },
   {
    "duration": 39,
    "start_time": "2025-04-26T23:03:57.838Z"
   },
   {
    "duration": 5,
    "start_time": "2025-04-26T23:04:04.666Z"
   },
   {
    "duration": 4,
    "start_time": "2025-04-26T23:04:09.327Z"
   },
   {
    "duration": 3,
    "start_time": "2025-04-26T23:04:49.703Z"
   },
   {
    "duration": 14,
    "start_time": "2025-04-26T23:05:05.912Z"
   },
   {
    "duration": 8,
    "start_time": "2025-04-26T23:05:14.619Z"
   },
   {
    "duration": 11,
    "start_time": "2025-04-26T23:07:15.332Z"
   },
   {
    "duration": 15,
    "start_time": "2025-04-26T23:07:17.020Z"
   },
   {
    "duration": 15,
    "start_time": "2025-04-26T23:07:20.761Z"
   },
   {
    "duration": 6,
    "start_time": "2025-04-26T23:07:54.650Z"
   },
   {
    "duration": 14,
    "start_time": "2025-04-26T23:07:57.515Z"
   },
   {
    "duration": 10,
    "start_time": "2025-04-26T23:09:11.194Z"
   },
   {
    "duration": 11,
    "start_time": "2025-04-26T23:10:50.582Z"
   },
   {
    "duration": 15,
    "start_time": "2025-04-26T23:11:00.048Z"
   },
   {
    "duration": 7,
    "start_time": "2025-04-26T23:40:59.725Z"
   },
   {
    "duration": 15,
    "start_time": "2025-04-26T23:41:22.762Z"
   },
   {
    "duration": 6,
    "start_time": "2025-04-26T23:41:33.283Z"
   },
   {
    "duration": 4,
    "start_time": "2025-04-26T23:42:11.966Z"
   },
   {
    "duration": 15,
    "start_time": "2025-04-26T23:42:21.404Z"
   },
   {
    "duration": 9,
    "start_time": "2025-04-26T23:43:43.550Z"
   },
   {
    "duration": 3,
    "start_time": "2025-04-26T23:44:34.205Z"
   },
   {
    "duration": 1304,
    "start_time": "2025-04-26T23:46:13.765Z"
   },
   {
    "duration": 13,
    "start_time": "2025-04-26T23:47:18.928Z"
   },
   {
    "duration": 23,
    "start_time": "2025-04-26T23:47:39.754Z"
   },
   {
    "duration": 23,
    "start_time": "2025-04-26T23:48:49.037Z"
   },
   {
    "duration": 13,
    "start_time": "2025-04-26T23:48:54.821Z"
   },
   {
    "duration": 20,
    "start_time": "2025-04-26T23:51:39.279Z"
   },
   {
    "duration": 129,
    "start_time": "2025-04-26T23:51:59.531Z"
   },
   {
    "duration": 100,
    "start_time": "2025-04-26T23:52:03.249Z"
   },
   {
    "duration": 80,
    "start_time": "2025-04-26T23:52:20.842Z"
   },
   {
    "duration": 82,
    "start_time": "2025-04-26T23:52:37.827Z"
   },
   {
    "duration": 83,
    "start_time": "2025-04-26T23:52:40.956Z"
   },
   {
    "duration": 24,
    "start_time": "2025-04-26T23:53:04.054Z"
   },
   {
    "duration": 20,
    "start_time": "2025-04-26T23:53:16.702Z"
   },
   {
    "duration": 20,
    "start_time": "2025-04-26T23:53:32.909Z"
   },
   {
    "duration": 23,
    "start_time": "2025-04-26T23:53:44.757Z"
   },
   {
    "duration": 5,
    "start_time": "2025-04-26T23:57:06.956Z"
   },
   {
    "duration": 7,
    "start_time": "2025-04-27T00:00:13.277Z"
   },
   {
    "duration": 110,
    "start_time": "2025-04-27T00:53:18.013Z"
   },
   {
    "duration": 12,
    "start_time": "2025-04-27T00:53:23.518Z"
   },
   {
    "duration": 83,
    "start_time": "2025-04-27T00:55:41.393Z"
   },
   {
    "duration": 10,
    "start_time": "2025-04-27T00:55:50.225Z"
   },
   {
    "duration": 8,
    "start_time": "2025-04-27T00:56:00.294Z"
   },
   {
    "duration": 8,
    "start_time": "2025-04-27T00:56:05.460Z"
   },
   {
    "duration": 9,
    "start_time": "2025-04-27T00:56:09.391Z"
   },
   {
    "duration": 8,
    "start_time": "2025-04-27T00:56:12.641Z"
   },
   {
    "duration": 8,
    "start_time": "2025-04-27T00:57:22.669Z"
   },
   {
    "duration": 9,
    "start_time": "2025-04-27T00:57:41.226Z"
   },
   {
    "duration": 16,
    "start_time": "2025-04-27T00:58:22.853Z"
   },
   {
    "duration": 10,
    "start_time": "2025-04-27T01:04:17.463Z"
   },
   {
    "duration": 14,
    "start_time": "2025-04-27T01:14:17.555Z"
   },
   {
    "duration": 16,
    "start_time": "2025-04-27T01:14:31.848Z"
   },
   {
    "duration": 1287,
    "start_time": "2025-04-27T01:17:19.395Z"
   },
   {
    "duration": 12,
    "start_time": "2025-04-27T01:17:39.907Z"
   },
   {
    "duration": 6,
    "start_time": "2025-04-27T01:19:53.862Z"
   },
   {
    "duration": 13,
    "start_time": "2025-04-27T01:21:43.327Z"
   },
   {
    "duration": 4,
    "start_time": "2025-04-27T01:25:01.953Z"
   },
   {
    "duration": 84,
    "start_time": "2025-04-27T01:25:59.849Z"
   },
   {
    "duration": 89,
    "start_time": "2025-04-27T01:26:22.843Z"
   },
   {
    "duration": 8,
    "start_time": "2025-04-27T01:26:26.538Z"
   },
   {
    "duration": 5,
    "start_time": "2025-04-27T01:27:47.813Z"
   },
   {
    "duration": 4,
    "start_time": "2025-04-27T01:28:10.994Z"
   },
   {
    "duration": 4,
    "start_time": "2025-04-27T01:28:34.557Z"
   },
   {
    "duration": 4,
    "start_time": "2025-04-27T01:29:06.820Z"
   },
   {
    "duration": 6,
    "start_time": "2025-04-27T01:29:23.630Z"
   },
   {
    "duration": 4,
    "start_time": "2025-04-27T01:30:16.752Z"
   },
   {
    "duration": 6,
    "start_time": "2025-04-27T01:30:32.652Z"
   },
   {
    "duration": 24,
    "start_time": "2025-04-27T01:31:17.937Z"
   },
   {
    "duration": 10,
    "start_time": "2025-04-27T01:33:11.259Z"
   },
   {
    "duration": 4,
    "start_time": "2025-04-27T01:35:24.964Z"
   },
   {
    "duration": 25,
    "start_time": "2025-04-27T01:35:33.925Z"
   },
   {
    "duration": 19,
    "start_time": "2025-04-27T01:36:37.416Z"
   },
   {
    "duration": 14,
    "start_time": "2025-04-27T01:36:47.423Z"
   },
   {
    "duration": 8,
    "start_time": "2025-04-27T01:48:08.211Z"
   },
   {
    "duration": 6,
    "start_time": "2025-04-27T01:48:28.612Z"
   },
   {
    "duration": 1104,
    "start_time": "2025-04-27T01:48:33.752Z"
   },
   {
    "duration": 426,
    "start_time": "2025-04-27T01:48:34.858Z"
   },
   {
    "duration": 15,
    "start_time": "2025-04-27T01:48:35.285Z"
   },
   {
    "duration": 32,
    "start_time": "2025-04-27T01:48:35.302Z"
   },
   {
    "duration": 17,
    "start_time": "2025-04-27T01:48:35.336Z"
   },
   {
    "duration": 19,
    "start_time": "2025-04-27T01:48:35.355Z"
   },
   {
    "duration": 20,
    "start_time": "2025-04-27T01:48:35.375Z"
   },
   {
    "duration": 16,
    "start_time": "2025-04-27T01:48:35.396Z"
   },
   {
    "duration": 25,
    "start_time": "2025-04-27T01:48:35.414Z"
   },
   {
    "duration": 3,
    "start_time": "2025-04-27T01:48:35.440Z"
   },
   {
    "duration": 27,
    "start_time": "2025-04-27T01:48:35.445Z"
   },
   {
    "duration": 13,
    "start_time": "2025-04-27T01:48:35.474Z"
   },
   {
    "duration": 39,
    "start_time": "2025-04-27T01:48:35.488Z"
   },
   {
    "duration": 22,
    "start_time": "2025-04-27T01:48:35.530Z"
   },
   {
    "duration": 15,
    "start_time": "2025-04-27T01:48:35.553Z"
   },
   {
    "duration": 7,
    "start_time": "2025-04-27T01:48:35.569Z"
   },
   {
    "duration": 21,
    "start_time": "2025-04-27T01:48:35.578Z"
   },
   {
    "duration": 46,
    "start_time": "2025-04-27T01:48:35.601Z"
   },
   {
    "duration": 9,
    "start_time": "2025-04-27T01:48:35.649Z"
   },
   {
    "duration": 6,
    "start_time": "2025-04-27T01:48:35.659Z"
   },
   {
    "duration": 32,
    "start_time": "2025-04-27T01:48:35.667Z"
   },
   {
    "duration": 40,
    "start_time": "2025-04-27T01:48:35.700Z"
   },
   {
    "duration": 107,
    "start_time": "2025-04-27T01:48:35.742Z"
   },
   {
    "duration": 136,
    "start_time": "2025-04-27T01:48:58.289Z"
   },
   {
    "duration": 114,
    "start_time": "2025-04-27T01:49:26.191Z"
   },
   {
    "duration": 127,
    "start_time": "2025-04-27T01:49:36.442Z"
   },
   {
    "duration": 147,
    "start_time": "2025-04-27T01:49:47.465Z"
   },
   {
    "duration": 136,
    "start_time": "2025-04-27T01:49:54.011Z"
   },
   {
    "duration": 122,
    "start_time": "2025-04-27T01:50:07.723Z"
   },
   {
    "duration": 118,
    "start_time": "2025-04-27T01:51:23.686Z"
   },
   {
    "duration": 129,
    "start_time": "2025-04-27T01:51:33.242Z"
   },
   {
    "duration": 181,
    "start_time": "2025-04-27T01:51:54.383Z"
   },
   {
    "duration": 123,
    "start_time": "2025-04-27T01:52:04.716Z"
   },
   {
    "duration": 146,
    "start_time": "2025-04-27T01:53:25.168Z"
   },
   {
    "duration": 132,
    "start_time": "2025-04-27T01:53:35.001Z"
   },
   {
    "duration": 135,
    "start_time": "2025-04-27T01:55:08.604Z"
   },
   {
    "duration": 113,
    "start_time": "2025-04-27T01:55:13.908Z"
   },
   {
    "duration": 149,
    "start_time": "2025-04-27T01:55:17.138Z"
   },
   {
    "duration": 141,
    "start_time": "2025-04-27T01:55:22.426Z"
   },
   {
    "duration": 162,
    "start_time": "2025-04-27T01:55:37.511Z"
   },
   {
    "duration": 145,
    "start_time": "2025-04-27T01:56:26.904Z"
   },
   {
    "duration": 136,
    "start_time": "2025-04-27T01:56:54.762Z"
   },
   {
    "duration": 138,
    "start_time": "2025-04-27T01:57:04.592Z"
   },
   {
    "duration": 145,
    "start_time": "2025-04-27T01:57:33.462Z"
   },
   {
    "duration": 241,
    "start_time": "2025-04-27T01:57:42.202Z"
   },
   {
    "duration": 146,
    "start_time": "2025-04-27T02:00:51.893Z"
   },
   {
    "duration": 137,
    "start_time": "2025-04-27T02:01:38.248Z"
   },
   {
    "duration": 141,
    "start_time": "2025-04-27T02:01:49.109Z"
   },
   {
    "duration": 139,
    "start_time": "2025-04-27T02:01:51.972Z"
   },
   {
    "duration": 9,
    "start_time": "2025-04-27T02:02:31.187Z"
   },
   {
    "duration": 146,
    "start_time": "2025-04-27T02:03:00.226Z"
   },
   {
    "duration": 143,
    "start_time": "2025-04-27T02:03:05.398Z"
   },
   {
    "duration": 161,
    "start_time": "2025-04-27T02:03:12.635Z"
   },
   {
    "duration": 136,
    "start_time": "2025-04-27T02:03:24.337Z"
   },
   {
    "duration": 140,
    "start_time": "2025-04-27T02:03:28.483Z"
   },
   {
    "duration": 147,
    "start_time": "2025-04-27T02:03:36.424Z"
   },
   {
    "duration": 147,
    "start_time": "2025-04-27T02:03:58.356Z"
   },
   {
    "duration": 102,
    "start_time": "2025-04-27T02:08:12.925Z"
   },
   {
    "duration": 181,
    "start_time": "2025-04-27T02:08:19.474Z"
   },
   {
    "duration": 172,
    "start_time": "2025-04-27T02:08:28.427Z"
   },
   {
    "duration": 172,
    "start_time": "2025-04-27T02:09:16.217Z"
   },
   {
    "duration": 288,
    "start_time": "2025-04-27T02:09:23.336Z"
   },
   {
    "duration": 184,
    "start_time": "2025-04-27T02:09:31.023Z"
   },
   {
    "duration": 171,
    "start_time": "2025-04-27T02:09:36.627Z"
   },
   {
    "duration": 176,
    "start_time": "2025-04-27T02:10:22.409Z"
   },
   {
    "duration": 172,
    "start_time": "2025-04-27T02:10:29.707Z"
   },
   {
    "duration": 179,
    "start_time": "2025-04-27T02:10:52.953Z"
   },
   {
    "duration": 178,
    "start_time": "2025-04-27T02:11:35.594Z"
   },
   {
    "duration": 173,
    "start_time": "2025-04-27T02:13:21.856Z"
   },
   {
    "duration": 178,
    "start_time": "2025-04-27T02:13:52.202Z"
   },
   {
    "duration": 153,
    "start_time": "2025-04-27T02:14:03.112Z"
   },
   {
    "duration": 140,
    "start_time": "2025-04-27T02:14:13.275Z"
   },
   {
    "duration": 181,
    "start_time": "2025-04-27T02:14:26.065Z"
   },
   {
    "duration": 187,
    "start_time": "2025-04-27T02:14:42.829Z"
   },
   {
    "duration": 171,
    "start_time": "2025-04-27T02:16:15.443Z"
   },
   {
    "duration": 193,
    "start_time": "2025-04-27T02:16:30.097Z"
   },
   {
    "duration": 143,
    "start_time": "2025-04-27T02:18:07.905Z"
   },
   {
    "duration": 177,
    "start_time": "2025-04-27T02:18:32.891Z"
   },
   {
    "duration": 1198,
    "start_time": "2025-04-27T02:18:47.346Z"
   },
   {
    "duration": 204,
    "start_time": "2025-04-27T02:18:48.546Z"
   },
   {
    "duration": 13,
    "start_time": "2025-04-27T02:18:48.751Z"
   },
   {
    "duration": 15,
    "start_time": "2025-04-27T02:18:48.766Z"
   },
   {
    "duration": 20,
    "start_time": "2025-04-27T02:18:48.782Z"
   },
   {
    "duration": 8,
    "start_time": "2025-04-27T02:18:48.804Z"
   },
   {
    "duration": 30,
    "start_time": "2025-04-27T02:18:48.813Z"
   },
   {
    "duration": 14,
    "start_time": "2025-04-27T02:18:48.845Z"
   },
   {
    "duration": 14,
    "start_time": "2025-04-27T02:18:48.860Z"
   },
   {
    "duration": 4,
    "start_time": "2025-04-27T02:18:48.876Z"
   },
   {
    "duration": 14,
    "start_time": "2025-04-27T02:18:48.882Z"
   },
   {
    "duration": 44,
    "start_time": "2025-04-27T02:18:48.898Z"
   },
   {
    "duration": 13,
    "start_time": "2025-04-27T02:18:48.944Z"
   },
   {
    "duration": 25,
    "start_time": "2025-04-27T02:18:48.958Z"
   },
   {
    "duration": 16,
    "start_time": "2025-04-27T02:18:48.985Z"
   },
   {
    "duration": 42,
    "start_time": "2025-04-27T02:18:49.002Z"
   },
   {
    "duration": 30,
    "start_time": "2025-04-27T02:18:49.045Z"
   },
   {
    "duration": 9,
    "start_time": "2025-04-27T02:18:49.076Z"
   },
   {
    "duration": 9,
    "start_time": "2025-04-27T02:18:49.086Z"
   },
   {
    "duration": 9,
    "start_time": "2025-04-27T02:18:49.096Z"
   },
   {
    "duration": 45,
    "start_time": "2025-04-27T02:18:49.106Z"
   },
   {
    "duration": 13,
    "start_time": "2025-04-27T02:18:49.153Z"
   },
   {
    "duration": 184,
    "start_time": "2025-04-27T02:18:49.167Z"
   },
   {
    "duration": 200,
    "start_time": "2025-04-27T02:18:49.353Z"
   },
   {
    "duration": 181,
    "start_time": "2025-04-27T02:19:07.749Z"
   },
   {
    "duration": 189,
    "start_time": "2025-04-27T02:21:01.244Z"
   },
   {
    "duration": 97,
    "start_time": "2025-04-27T02:23:14.306Z"
   },
   {
    "duration": 11,
    "start_time": "2025-04-27T02:23:31.923Z"
   },
   {
    "duration": 1267,
    "start_time": "2025-04-27T02:23:41.110Z"
   },
   {
    "duration": 166,
    "start_time": "2025-04-27T02:24:43.091Z"
   },
   {
    "duration": 228,
    "start_time": "2025-04-27T02:25:15.106Z"
   },
   {
    "duration": 161,
    "start_time": "2025-04-27T02:25:45.384Z"
   },
   {
    "duration": 147,
    "start_time": "2025-04-27T02:25:50.384Z"
   },
   {
    "duration": 7,
    "start_time": "2025-04-27T02:34:59.770Z"
   },
   {
    "duration": 6,
    "start_time": "2025-04-27T02:35:02.760Z"
   },
   {
    "duration": 7,
    "start_time": "2025-04-27T02:35:14.330Z"
   },
   {
    "duration": 7,
    "start_time": "2025-04-27T02:36:10.566Z"
   },
   {
    "duration": 94,
    "start_time": "2025-04-27T02:39:14.524Z"
   },
   {
    "duration": 966,
    "start_time": "2025-04-27T02:46:51.470Z"
   },
   {
    "duration": 1124,
    "start_time": "2025-04-27T02:47:36.859Z"
   },
   {
    "duration": 225,
    "start_time": "2025-04-27T02:47:37.986Z"
   },
   {
    "duration": 14,
    "start_time": "2025-04-27T02:47:38.212Z"
   },
   {
    "duration": 28,
    "start_time": "2025-04-27T02:47:38.228Z"
   },
   {
    "duration": 14,
    "start_time": "2025-04-27T02:47:38.258Z"
   },
   {
    "duration": 9,
    "start_time": "2025-04-27T02:47:38.274Z"
   },
   {
    "duration": 18,
    "start_time": "2025-04-27T02:47:38.285Z"
   },
   {
    "duration": 15,
    "start_time": "2025-04-27T02:47:38.304Z"
   },
   {
    "duration": 29,
    "start_time": "2025-04-27T02:47:38.320Z"
   },
   {
    "duration": 4,
    "start_time": "2025-04-27T02:47:38.352Z"
   },
   {
    "duration": 21,
    "start_time": "2025-04-27T02:47:38.357Z"
   },
   {
    "duration": 9,
    "start_time": "2025-04-27T02:47:38.380Z"
   },
   {
    "duration": 11,
    "start_time": "2025-04-27T02:47:38.390Z"
   },
   {
    "duration": 56,
    "start_time": "2025-04-27T02:47:38.402Z"
   },
   {
    "duration": 15,
    "start_time": "2025-04-27T02:47:38.460Z"
   },
   {
    "duration": 8,
    "start_time": "2025-04-27T02:47:38.477Z"
   },
   {
    "duration": 15,
    "start_time": "2025-04-27T02:47:38.487Z"
   },
   {
    "duration": 42,
    "start_time": "2025-04-27T02:47:38.504Z"
   },
   {
    "duration": 9,
    "start_time": "2025-04-27T02:47:38.548Z"
   },
   {
    "duration": 7,
    "start_time": "2025-04-27T02:47:38.558Z"
   },
   {
    "duration": 23,
    "start_time": "2025-04-27T02:47:38.566Z"
   },
   {
    "duration": 48,
    "start_time": "2025-04-27T02:47:38.591Z"
   },
   {
    "duration": 168,
    "start_time": "2025-04-27T02:47:38.641Z"
   },
   {
    "duration": 205,
    "start_time": "2025-04-27T02:47:38.810Z"
   },
   {
    "duration": 177,
    "start_time": "2025-04-27T02:47:39.016Z"
   },
   {
    "duration": 1148,
    "start_time": "2025-04-27T02:51:12.878Z"
   },
   {
    "duration": 205,
    "start_time": "2025-04-27T02:51:14.028Z"
   },
   {
    "duration": 16,
    "start_time": "2025-04-27T02:51:14.237Z"
   },
   {
    "duration": 15,
    "start_time": "2025-04-27T02:51:14.255Z"
   },
   {
    "duration": 11,
    "start_time": "2025-04-27T02:51:14.272Z"
   },
   {
    "duration": 10,
    "start_time": "2025-04-27T02:51:14.285Z"
   },
   {
    "duration": 14,
    "start_time": "2025-04-27T02:51:14.340Z"
   },
   {
    "duration": 16,
    "start_time": "2025-04-27T02:51:14.355Z"
   },
   {
    "duration": 14,
    "start_time": "2025-04-27T02:51:14.374Z"
   },
   {
    "duration": 5,
    "start_time": "2025-04-27T02:51:14.389Z"
   },
   {
    "duration": 55,
    "start_time": "2025-04-27T02:51:14.395Z"
   },
   {
    "duration": 11,
    "start_time": "2025-04-27T02:51:14.452Z"
   },
   {
    "duration": 13,
    "start_time": "2025-04-27T02:51:14.465Z"
   },
   {
    "duration": 70,
    "start_time": "2025-04-27T02:51:14.480Z"
   },
   {
    "duration": 17,
    "start_time": "2025-04-27T02:51:14.552Z"
   },
   {
    "duration": 8,
    "start_time": "2025-04-27T02:51:14.571Z"
   },
   {
    "duration": 19,
    "start_time": "2025-04-27T02:51:14.580Z"
   },
   {
    "duration": 49,
    "start_time": "2025-04-27T02:51:14.601Z"
   },
   {
    "duration": 11,
    "start_time": "2025-04-27T02:51:14.652Z"
   },
   {
    "duration": 8,
    "start_time": "2025-04-27T02:51:14.664Z"
   },
   {
    "duration": 20,
    "start_time": "2025-04-27T02:51:14.673Z"
   },
   {
    "duration": 17,
    "start_time": "2025-04-27T02:51:14.738Z"
   },
   {
    "duration": 192,
    "start_time": "2025-04-27T02:51:14.757Z"
   },
   {
    "duration": 215,
    "start_time": "2025-04-27T02:51:14.951Z"
   },
   {
    "duration": 182,
    "start_time": "2025-04-27T02:51:15.168Z"
   },
   {
    "duration": 15,
    "start_time": "2025-04-27T02:51:15.352Z"
   },
   {
    "duration": 9,
    "start_time": "2025-04-27T02:51:15.371Z"
   },
   {
    "duration": 1176,
    "start_time": "2025-04-27T02:54:41.071Z"
   },
   {
    "duration": 174,
    "start_time": "2025-04-27T02:54:42.249Z"
   },
   {
    "duration": 17,
    "start_time": "2025-04-27T02:54:42.425Z"
   },
   {
    "duration": 16,
    "start_time": "2025-04-27T02:54:42.445Z"
   },
   {
    "duration": 11,
    "start_time": "2025-04-27T02:54:42.462Z"
   },
   {
    "duration": 34,
    "start_time": "2025-04-27T02:54:42.474Z"
   },
   {
    "duration": 13,
    "start_time": "2025-04-27T02:54:42.510Z"
   },
   {
    "duration": 27,
    "start_time": "2025-04-27T02:54:42.525Z"
   },
   {
    "duration": 15,
    "start_time": "2025-04-27T02:54:42.554Z"
   },
   {
    "duration": 5,
    "start_time": "2025-04-27T02:54:42.572Z"
   },
   {
    "duration": 16,
    "start_time": "2025-04-27T02:54:42.578Z"
   },
   {
    "duration": 47,
    "start_time": "2025-04-27T02:54:42.596Z"
   },
   {
    "duration": 12,
    "start_time": "2025-04-27T02:54:42.645Z"
   },
   {
    "duration": 25,
    "start_time": "2025-04-27T02:54:42.658Z"
   },
   {
    "duration": 15,
    "start_time": "2025-04-27T02:54:42.685Z"
   },
   {
    "duration": 43,
    "start_time": "2025-04-27T02:54:42.702Z"
   },
   {
    "duration": 27,
    "start_time": "2025-04-27T02:54:42.746Z"
   },
   {
    "duration": 10,
    "start_time": "2025-04-27T02:54:42.775Z"
   },
   {
    "duration": 11,
    "start_time": "2025-04-27T02:54:42.787Z"
   },
   {
    "duration": 42,
    "start_time": "2025-04-27T02:54:42.800Z"
   },
   {
    "duration": 20,
    "start_time": "2025-04-27T02:54:42.843Z"
   },
   {
    "duration": 15,
    "start_time": "2025-04-27T02:54:42.864Z"
   },
   {
    "duration": 204,
    "start_time": "2025-04-27T02:54:42.881Z"
   },
   {
    "duration": 220,
    "start_time": "2025-04-27T02:54:43.086Z"
   },
   {
    "duration": 170,
    "start_time": "2025-04-27T02:54:43.307Z"
   },
   {
    "duration": 131,
    "start_time": "2025-04-27T02:54:43.479Z"
   },
   {
    "duration": 6,
    "start_time": "2025-04-27T02:54:43.612Z"
   },
   {
    "duration": 107,
    "start_time": "2025-04-27T02:55:16.307Z"
   },
   {
    "duration": 110,
    "start_time": "2025-04-27T02:55:46.556Z"
   },
   {
    "duration": 115,
    "start_time": "2025-04-27T02:55:50.105Z"
   },
   {
    "duration": 118,
    "start_time": "2025-04-27T02:56:27.478Z"
   },
   {
    "duration": 114,
    "start_time": "2025-04-27T02:56:50.989Z"
   },
   {
    "duration": 181,
    "start_time": "2025-04-27T02:56:58.332Z"
   },
   {
    "duration": 114,
    "start_time": "2025-04-27T02:58:17.143Z"
   },
   {
    "duration": 1270,
    "start_time": "2025-04-27T02:59:57.325Z"
   },
   {
    "duration": 1378,
    "start_time": "2025-04-27T03:00:02.181Z"
   },
   {
    "duration": 933,
    "start_time": "2025-04-27T03:00:45.406Z"
   },
   {
    "duration": 116,
    "start_time": "2025-04-27T03:03:00.514Z"
   },
   {
    "duration": 115,
    "start_time": "2025-04-27T03:03:24.111Z"
   },
   {
    "duration": 193,
    "start_time": "2025-04-27T03:03:45.646Z"
   },
   {
    "duration": 193,
    "start_time": "2025-04-27T03:03:57.612Z"
   },
   {
    "duration": 193,
    "start_time": "2025-04-27T03:04:05.984Z"
   },
   {
    "duration": 205,
    "start_time": "2025-04-27T03:04:40.791Z"
   },
   {
    "duration": 176,
    "start_time": "2025-04-27T03:05:18.216Z"
   },
   {
    "duration": 185,
    "start_time": "2025-04-27T03:05:36.815Z"
   },
   {
    "duration": 182,
    "start_time": "2025-04-27T03:05:49.705Z"
   },
   {
    "duration": 279,
    "start_time": "2025-04-27T03:05:54.903Z"
   },
   {
    "duration": 185,
    "start_time": "2025-04-27T03:06:00.973Z"
   },
   {
    "duration": 185,
    "start_time": "2025-04-27T03:07:20.209Z"
   },
   {
    "duration": 190,
    "start_time": "2025-04-27T03:08:01.224Z"
   },
   {
    "duration": 204,
    "start_time": "2025-04-27T03:09:10.538Z"
   },
   {
    "duration": 191,
    "start_time": "2025-04-27T03:09:35.767Z"
   },
   {
    "duration": 1138,
    "start_time": "2025-04-27T03:09:52.020Z"
   },
   {
    "duration": 207,
    "start_time": "2025-04-27T03:09:53.160Z"
   },
   {
    "duration": 13,
    "start_time": "2025-04-27T03:09:53.369Z"
   },
   {
    "duration": 18,
    "start_time": "2025-04-27T03:09:53.384Z"
   },
   {
    "duration": 20,
    "start_time": "2025-04-27T03:09:53.404Z"
   },
   {
    "duration": 10,
    "start_time": "2025-04-27T03:09:53.426Z"
   },
   {
    "duration": 15,
    "start_time": "2025-04-27T03:09:53.437Z"
   },
   {
    "duration": 14,
    "start_time": "2025-04-27T03:09:53.453Z"
   },
   {
    "duration": 28,
    "start_time": "2025-04-27T03:09:53.468Z"
   },
   {
    "duration": 41,
    "start_time": "2025-04-27T03:09:53.498Z"
   },
   {
    "duration": 15,
    "start_time": "2025-04-27T03:09:53.540Z"
   },
   {
    "duration": 9,
    "start_time": "2025-04-27T03:09:53.557Z"
   },
   {
    "duration": 12,
    "start_time": "2025-04-27T03:09:53.567Z"
   },
   {
    "duration": 44,
    "start_time": "2025-04-27T03:09:53.580Z"
   },
   {
    "duration": 25,
    "start_time": "2025-04-27T03:09:53.626Z"
   },
   {
    "duration": 8,
    "start_time": "2025-04-27T03:09:53.652Z"
   },
   {
    "duration": 34,
    "start_time": "2025-04-27T03:09:53.661Z"
   },
   {
    "duration": 38,
    "start_time": "2025-04-27T03:09:53.697Z"
   },
   {
    "duration": 9,
    "start_time": "2025-04-27T03:09:53.736Z"
   },
   {
    "duration": 11,
    "start_time": "2025-04-27T03:09:53.747Z"
   },
   {
    "duration": 35,
    "start_time": "2025-04-27T03:09:53.760Z"
   },
   {
    "duration": 39,
    "start_time": "2025-04-27T03:09:53.797Z"
   },
   {
    "duration": 176,
    "start_time": "2025-04-27T03:09:53.838Z"
   },
   {
    "duration": 203,
    "start_time": "2025-04-27T03:09:54.016Z"
   },
   {
    "duration": 172,
    "start_time": "2025-04-27T03:09:54.221Z"
   },
   {
    "duration": 121,
    "start_time": "2025-04-27T03:09:54.395Z"
   },
   {
    "duration": 210,
    "start_time": "2025-04-27T03:09:54.518Z"
   },
   {
    "duration": 206,
    "start_time": "2025-04-27T03:10:22.503Z"
   },
   {
    "duration": 209,
    "start_time": "2025-04-27T03:11:16.212Z"
   },
   {
    "duration": 198,
    "start_time": "2025-04-27T03:11:29.694Z"
   },
   {
    "duration": 286,
    "start_time": "2025-04-27T03:11:36.436Z"
   },
   {
    "duration": 289,
    "start_time": "2025-04-27T03:12:44.871Z"
   },
   {
    "duration": 82,
    "start_time": "2025-04-27T03:13:06.110Z"
   },
   {
    "duration": 198,
    "start_time": "2025-04-27T03:13:19.752Z"
   },
   {
    "duration": 75,
    "start_time": "2025-04-27T03:13:41.750Z"
   },
   {
    "duration": 200,
    "start_time": "2025-04-27T03:13:57.227Z"
   },
   {
    "duration": 108,
    "start_time": "2025-04-27T03:14:06.107Z"
   },
   {
    "duration": 211,
    "start_time": "2025-04-27T03:14:22.931Z"
   },
   {
    "duration": 11,
    "start_time": "2025-04-27T03:23:32.467Z"
   },
   {
    "duration": 153,
    "start_time": "2025-04-27T03:23:55.187Z"
   },
   {
    "duration": 142,
    "start_time": "2025-04-27T03:24:13.392Z"
   },
   {
    "duration": 144,
    "start_time": "2025-04-27T03:24:17.687Z"
   },
   {
    "duration": 131,
    "start_time": "2025-04-27T03:24:33.613Z"
   },
   {
    "duration": 13,
    "start_time": "2025-04-27T03:25:29.788Z"
   },
   {
    "duration": 8,
    "start_time": "2025-04-27T03:26:28.861Z"
   },
   {
    "duration": 107,
    "start_time": "2025-04-27T03:26:36.779Z"
   },
   {
    "duration": 99,
    "start_time": "2025-04-27T03:26:47.661Z"
   },
   {
    "duration": 182,
    "start_time": "2025-04-27T03:27:18.566Z"
   },
   {
    "duration": 98,
    "start_time": "2025-04-27T03:27:35.520Z"
   },
   {
    "duration": 107,
    "start_time": "2025-04-27T03:33:21.318Z"
   },
   {
    "duration": 121,
    "start_time": "2025-04-27T03:34:55.946Z"
   },
   {
    "duration": 125,
    "start_time": "2025-04-27T03:35:20.631Z"
   },
   {
    "duration": 127,
    "start_time": "2025-04-27T03:35:27.641Z"
   },
   {
    "duration": 11,
    "start_time": "2025-04-27T03:36:46.823Z"
   },
   {
    "duration": 113,
    "start_time": "2025-04-27T03:36:57.572Z"
   },
   {
    "duration": 3,
    "start_time": "2025-04-27T03:37:38.015Z"
   },
   {
    "duration": 487,
    "start_time": "2025-04-27T03:38:19.951Z"
   },
   {
    "duration": 647,
    "start_time": "2025-04-27T03:38:50.812Z"
   },
   {
    "duration": 511,
    "start_time": "2025-04-27T03:38:56.245Z"
   },
   {
    "duration": 521,
    "start_time": "2025-04-27T03:39:01.233Z"
   },
   {
    "duration": 675,
    "start_time": "2025-04-27T03:39:05.549Z"
   },
   {
    "duration": 539,
    "start_time": "2025-04-27T03:39:11.314Z"
   },
   {
    "duration": 546,
    "start_time": "2025-04-27T03:39:16.021Z"
   },
   {
    "duration": 701,
    "start_time": "2025-04-27T03:39:20.414Z"
   },
   {
    "duration": 585,
    "start_time": "2025-04-27T03:39:29.704Z"
   },
   {
    "duration": 613,
    "start_time": "2025-04-27T03:39:34.592Z"
   },
   {
    "duration": 766,
    "start_time": "2025-04-27T03:41:07.774Z"
   },
   {
    "duration": 601,
    "start_time": "2025-04-27T03:42:13.577Z"
   },
   {
    "duration": 783,
    "start_time": "2025-04-27T03:42:36.814Z"
   },
   {
    "duration": 632,
    "start_time": "2025-04-27T03:42:52.181Z"
   },
   {
    "duration": 261,
    "start_time": "2025-04-27T03:45:01.200Z"
   },
   {
    "duration": 642,
    "start_time": "2025-04-27T03:45:25.019Z"
   },
   {
    "duration": 800,
    "start_time": "2025-04-27T03:47:11.735Z"
   },
   {
    "duration": 588,
    "start_time": "2025-04-27T03:48:20.957Z"
   },
   {
    "duration": 1053,
    "start_time": "2025-04-27T03:49:57.010Z"
   },
   {
    "duration": 1542,
    "start_time": "2025-04-27T03:50:45.556Z"
   },
   {
    "duration": 791,
    "start_time": "2025-04-27T03:51:10.150Z"
   },
   {
    "duration": 570,
    "start_time": "2025-04-27T03:51:33.961Z"
   },
   {
    "duration": 571,
    "start_time": "2025-04-27T03:52:09.220Z"
   },
   {
    "duration": 734,
    "start_time": "2025-04-27T03:52:13.064Z"
   },
   {
    "duration": 592,
    "start_time": "2025-04-27T03:52:21.960Z"
   },
   {
    "duration": 564,
    "start_time": "2025-04-27T03:53:10.128Z"
   },
   {
    "duration": 736,
    "start_time": "2025-04-27T03:53:18.747Z"
   },
   {
    "duration": 5,
    "start_time": "2025-04-27T03:53:34.787Z"
   },
   {
    "duration": 6,
    "start_time": "2025-04-27T03:56:36.424Z"
   },
   {
    "duration": 120,
    "start_time": "2025-04-27T04:00:18.873Z"
   },
   {
    "duration": 116,
    "start_time": "2025-04-27T04:00:24.349Z"
   },
   {
    "duration": 123,
    "start_time": "2025-04-27T04:00:25.527Z"
   },
   {
    "duration": 126,
    "start_time": "2025-04-27T04:00:26.230Z"
   },
   {
    "duration": 123,
    "start_time": "2025-04-27T04:00:26.817Z"
   },
   {
    "duration": 116,
    "start_time": "2025-04-27T04:00:27.290Z"
   },
   {
    "duration": 117,
    "start_time": "2025-04-27T04:00:27.859Z"
   },
   {
    "duration": 123,
    "start_time": "2025-04-27T04:00:28.343Z"
   },
   {
    "duration": 117,
    "start_time": "2025-04-27T04:00:28.795Z"
   },
   {
    "duration": 114,
    "start_time": "2025-04-27T04:00:29.219Z"
   },
   {
    "duration": 113,
    "start_time": "2025-04-27T04:00:49.552Z"
   },
   {
    "duration": 7,
    "start_time": "2025-04-27T04:03:13.795Z"
   },
   {
    "duration": 724,
    "start_time": "2025-04-27T04:03:16.483Z"
   },
   {
    "duration": 577,
    "start_time": "2025-04-27T04:03:25.898Z"
   },
   {
    "duration": 607,
    "start_time": "2025-04-27T04:03:37.001Z"
   },
   {
    "duration": 116,
    "start_time": "2025-04-27T04:16:16.187Z"
   },
   {
    "duration": 131,
    "start_time": "2025-04-27T04:16:55.770Z"
   },
   {
    "duration": 139,
    "start_time": "2025-04-27T04:17:33.116Z"
   },
   {
    "duration": 139,
    "start_time": "2025-04-27T04:17:39.890Z"
   },
   {
    "duration": 144,
    "start_time": "2025-04-27T04:17:58.048Z"
   },
   {
    "duration": 282,
    "start_time": "2025-04-27T04:18:06.036Z"
   },
   {
    "duration": 139,
    "start_time": "2025-04-27T04:18:09.849Z"
   },
   {
    "duration": 145,
    "start_time": "2025-04-27T04:18:47.227Z"
   },
   {
    "duration": 145,
    "start_time": "2025-04-27T04:19:01.212Z"
   },
   {
    "duration": 141,
    "start_time": "2025-04-27T04:21:22.574Z"
   },
   {
    "duration": 148,
    "start_time": "2025-04-27T04:21:55.543Z"
   },
   {
    "duration": 146,
    "start_time": "2025-04-27T04:22:15.319Z"
   },
   {
    "duration": 44,
    "start_time": "2025-04-27T04:55:42.096Z"
   },
   {
    "duration": 3275,
    "start_time": "2025-04-27T04:56:23.122Z"
   },
   {
    "duration": 3,
    "start_time": "2025-04-27T04:56:34.490Z"
   },
   {
    "duration": 3,
    "start_time": "2025-04-27T04:56:37.546Z"
   },
   {
    "duration": 5,
    "start_time": "2025-04-27T05:00:34.871Z"
   },
   {
    "duration": 4,
    "start_time": "2025-04-27T05:00:42.678Z"
   },
   {
    "duration": 1391,
    "start_time": "2025-04-27T05:02:23.872Z"
   },
   {
    "duration": 194,
    "start_time": "2025-04-27T05:02:42.329Z"
   },
   {
    "duration": 69,
    "start_time": "2025-04-27T05:05:24.513Z"
   },
   {
    "duration": 180,
    "start_time": "2025-04-27T05:10:31.279Z"
   },
   {
    "duration": 178,
    "start_time": "2025-04-27T05:13:45.808Z"
   },
   {
    "duration": 338,
    "start_time": "2025-04-27T05:14:16.046Z"
   },
   {
    "duration": 369,
    "start_time": "2025-04-27T05:14:40.782Z"
   },
   {
    "duration": 11,
    "start_time": "2025-04-27T05:17:26.897Z"
   },
   {
    "duration": 107,
    "start_time": "2025-04-27T05:17:39.176Z"
   },
   {
    "duration": 292,
    "start_time": "2025-04-27T05:17:58.849Z"
   },
   {
    "duration": 10,
    "start_time": "2025-04-27T05:18:54.606Z"
   },
   {
    "duration": 267,
    "start_time": "2025-04-27T05:19:47.255Z"
   },
   {
    "duration": 278,
    "start_time": "2025-04-27T05:20:59.830Z"
   },
   {
    "duration": 292,
    "start_time": "2025-04-27T05:21:12.312Z"
   },
   {
    "duration": 261,
    "start_time": "2025-04-27T05:21:18.451Z"
   },
   {
    "duration": 196,
    "start_time": "2025-04-27T05:22:02.561Z"
   },
   {
    "duration": 101,
    "start_time": "2025-04-27T05:23:05.772Z"
   },
   {
    "duration": 242,
    "start_time": "2025-04-27T05:23:37.220Z"
   },
   {
    "duration": 105,
    "start_time": "2025-04-27T05:25:14.663Z"
   },
   {
    "duration": 207,
    "start_time": "2025-04-27T05:25:19.969Z"
   },
   {
    "duration": 233,
    "start_time": "2025-04-27T05:26:21.442Z"
   },
   {
    "duration": 231,
    "start_time": "2025-04-27T05:26:28.742Z"
   },
   {
    "duration": 384,
    "start_time": "2025-04-27T05:26:35.894Z"
   },
   {
    "duration": 200,
    "start_time": "2025-04-27T05:26:48.680Z"
   },
   {
    "duration": 197,
    "start_time": "2025-04-27T05:26:58.685Z"
   },
   {
    "duration": 12,
    "start_time": "2025-04-27T05:35:23.780Z"
   },
   {
    "duration": 11,
    "start_time": "2025-04-27T05:39:56.819Z"
   },
   {
    "duration": 11,
    "start_time": "2025-04-27T05:40:20.106Z"
   },
   {
    "duration": 10,
    "start_time": "2025-04-27T05:42:25.258Z"
   },
   {
    "duration": 258,
    "start_time": "2025-04-27T05:42:45.226Z"
   },
   {
    "duration": 10,
    "start_time": "2025-04-27T05:46:07.420Z"
   },
   {
    "duration": 87,
    "start_time": "2025-04-27T05:49:24.567Z"
   },
   {
    "duration": 95,
    "start_time": "2025-04-27T05:50:30.426Z"
   },
   {
    "duration": 114,
    "start_time": "2025-04-27T05:50:49.875Z"
   },
   {
    "duration": 148,
    "start_time": "2025-04-27T05:51:27.773Z"
   },
   {
    "duration": 349,
    "start_time": "2025-04-27T05:52:10.605Z"
   },
   {
    "duration": 20,
    "start_time": "2025-04-27T05:55:09.157Z"
   },
   {
    "duration": 1166,
    "start_time": "2025-04-27T05:55:38.365Z"
   },
   {
    "duration": 290,
    "start_time": "2025-04-27T05:55:39.533Z"
   },
   {
    "duration": 14,
    "start_time": "2025-04-27T05:55:39.824Z"
   },
   {
    "duration": 16,
    "start_time": "2025-04-27T05:55:39.840Z"
   },
   {
    "duration": 11,
    "start_time": "2025-04-27T05:55:39.857Z"
   },
   {
    "duration": 12,
    "start_time": "2025-04-27T05:55:39.869Z"
   },
   {
    "duration": 11,
    "start_time": "2025-04-27T05:55:39.883Z"
   },
   {
    "duration": 54,
    "start_time": "2025-04-27T05:55:39.896Z"
   },
   {
    "duration": 15,
    "start_time": "2025-04-27T05:55:39.951Z"
   },
   {
    "duration": 4,
    "start_time": "2025-04-27T05:55:39.968Z"
   },
   {
    "duration": 13,
    "start_time": "2025-04-27T05:55:39.974Z"
   },
   {
    "duration": 9,
    "start_time": "2025-04-27T05:55:39.989Z"
   },
   {
    "duration": 49,
    "start_time": "2025-04-27T05:55:39.999Z"
   },
   {
    "duration": 27,
    "start_time": "2025-04-27T05:55:40.049Z"
   },
   {
    "duration": 15,
    "start_time": "2025-04-27T05:55:40.078Z"
   },
   {
    "duration": 6,
    "start_time": "2025-04-27T05:55:40.095Z"
   },
   {
    "duration": 48,
    "start_time": "2025-04-27T05:55:40.103Z"
   },
   {
    "duration": 16,
    "start_time": "2025-04-27T05:55:40.153Z"
   },
   {
    "duration": 9,
    "start_time": "2025-04-27T05:55:40.171Z"
   },
   {
    "duration": 9,
    "start_time": "2025-04-27T05:55:40.181Z"
   },
   {
    "duration": 54,
    "start_time": "2025-04-27T05:55:40.191Z"
   },
   {
    "duration": 25,
    "start_time": "2025-04-27T05:55:40.246Z"
   },
   {
    "duration": 186,
    "start_time": "2025-04-27T05:55:40.273Z"
   },
   {
    "duration": 234,
    "start_time": "2025-04-27T05:55:40.460Z"
   },
   {
    "duration": 179,
    "start_time": "2025-04-27T05:55:40.696Z"
   },
   {
    "duration": 181,
    "start_time": "2025-04-27T05:55:40.877Z"
   },
   {
    "duration": 224,
    "start_time": "2025-04-27T05:55:41.060Z"
   },
   {
    "duration": 136,
    "start_time": "2025-04-27T05:55:41.288Z"
   },
   {
    "duration": 19,
    "start_time": "2025-04-27T05:55:41.425Z"
   },
   {
    "duration": 734,
    "start_time": "2025-04-27T05:55:41.445Z"
   },
   {
    "duration": 186,
    "start_time": "2025-04-27T05:55:42.181Z"
   },
   {
    "duration": 424,
    "start_time": "2025-04-27T05:55:42.369Z"
   },
   {
    "duration": 125,
    "start_time": "2025-04-27T05:55:42.794Z"
   },
   {
    "duration": 0,
    "start_time": "2025-04-27T05:55:42.921Z"
   },
   {
    "duration": 0,
    "start_time": "2025-04-27T05:55:42.922Z"
   },
   {
    "duration": 228,
    "start_time": "2025-04-27T05:56:10.959Z"
   },
   {
    "duration": 19,
    "start_time": "2025-04-27T05:56:28.269Z"
   },
   {
    "duration": 17,
    "start_time": "2025-04-27T05:58:10.389Z"
   },
   {
    "duration": 7,
    "start_time": "2025-04-27T05:59:59.636Z"
   },
   {
    "duration": 10,
    "start_time": "2025-04-27T06:00:03.358Z"
   },
   {
    "duration": 15,
    "start_time": "2025-04-27T06:01:25.612Z"
   },
   {
    "duration": 91,
    "start_time": "2025-04-27T06:02:07.140Z"
   },
   {
    "duration": 15,
    "start_time": "2025-04-27T06:02:15.815Z"
   },
   {
    "duration": 15,
    "start_time": "2025-04-27T06:03:31.923Z"
   },
   {
    "duration": 10,
    "start_time": "2025-04-27T06:03:49.989Z"
   },
   {
    "duration": 14,
    "start_time": "2025-04-27T06:04:12.523Z"
   },
   {
    "duration": 14,
    "start_time": "2025-04-27T06:04:17.247Z"
   },
   {
    "duration": 14,
    "start_time": "2025-04-27T06:06:18.498Z"
   },
   {
    "duration": 13,
    "start_time": "2025-04-27T06:07:08.045Z"
   },
   {
    "duration": 12,
    "start_time": "2025-04-27T06:10:21.549Z"
   },
   {
    "duration": 15,
    "start_time": "2025-04-27T06:10:36.026Z"
   },
   {
    "duration": 17,
    "start_time": "2025-04-27T06:10:39.066Z"
   },
   {
    "duration": 15,
    "start_time": "2025-04-27T06:10:40.652Z"
   },
   {
    "duration": 22,
    "start_time": "2025-04-27T06:10:40.893Z"
   },
   {
    "duration": 21,
    "start_time": "2025-04-27T06:10:55.895Z"
   },
   {
    "duration": 21,
    "start_time": "2025-04-27T06:11:05.247Z"
   },
   {
    "duration": 23,
    "start_time": "2025-04-27T06:11:06.192Z"
   },
   {
    "duration": 22,
    "start_time": "2025-04-27T06:11:06.873Z"
   },
   {
    "duration": 21,
    "start_time": "2025-04-27T06:11:18.262Z"
   },
   {
    "duration": 20,
    "start_time": "2025-04-27T06:11:23.908Z"
   },
   {
    "duration": 38,
    "start_time": "2025-04-27T06:12:17.558Z"
   },
   {
    "duration": 11,
    "start_time": "2025-04-27T06:14:21.282Z"
   },
   {
    "duration": 20,
    "start_time": "2025-04-27T06:15:27.624Z"
   },
   {
    "duration": 16,
    "start_time": "2025-04-27T06:15:35.305Z"
   },
   {
    "duration": 16,
    "start_time": "2025-04-27T06:15:42.442Z"
   },
   {
    "duration": 24,
    "start_time": "2025-04-27T06:15:48.576Z"
   },
   {
    "duration": 21,
    "start_time": "2025-04-27T06:16:22.182Z"
   },
   {
    "duration": 27,
    "start_time": "2025-04-27T06:16:43.606Z"
   },
   {
    "duration": 10,
    "start_time": "2025-04-27T06:22:08.869Z"
   },
   {
    "duration": 18,
    "start_time": "2025-04-27T06:22:25.554Z"
   },
   {
    "duration": 10,
    "start_time": "2025-04-27T06:23:15.365Z"
   },
   {
    "duration": 11,
    "start_time": "2025-04-27T06:23:23.998Z"
   },
   {
    "duration": 9,
    "start_time": "2025-04-27T06:23:37.204Z"
   },
   {
    "duration": 9,
    "start_time": "2025-04-27T06:23:44.732Z"
   },
   {
    "duration": 10,
    "start_time": "2025-04-27T06:23:57.064Z"
   },
   {
    "duration": 10,
    "start_time": "2025-04-27T06:24:25.494Z"
   },
   {
    "duration": 10,
    "start_time": "2025-04-27T06:24:26.417Z"
   },
   {
    "duration": 10,
    "start_time": "2025-04-27T06:30:15.258Z"
   },
   {
    "duration": 11,
    "start_time": "2025-04-27T06:30:27.931Z"
   },
   {
    "duration": 15,
    "start_time": "2025-04-27T06:30:34.776Z"
   },
   {
    "duration": 17,
    "start_time": "2025-04-27T06:31:36.008Z"
   },
   {
    "duration": 30,
    "start_time": "2025-04-27T06:32:51.065Z"
   },
   {
    "duration": 21,
    "start_time": "2025-04-27T06:34:07.842Z"
   },
   {
    "duration": 20,
    "start_time": "2025-04-27T06:34:34.220Z"
   },
   {
    "duration": 31,
    "start_time": "2025-04-27T06:34:42.233Z"
   },
   {
    "duration": 226,
    "start_time": "2025-04-27T06:38:08.125Z"
   },
   {
    "duration": 219,
    "start_time": "2025-04-27T06:38:30.652Z"
   },
   {
    "duration": 22,
    "start_time": "2025-04-27T06:38:49.603Z"
   },
   {
    "duration": 21,
    "start_time": "2025-04-27T06:38:55.338Z"
   },
   {
    "duration": 228,
    "start_time": "2025-04-27T06:39:14.272Z"
   },
   {
    "duration": 337,
    "start_time": "2025-04-27T06:39:30.286Z"
   },
   {
    "duration": 231,
    "start_time": "2025-04-27T06:39:47.002Z"
   },
   {
    "duration": 226,
    "start_time": "2025-04-27T06:40:16.049Z"
   },
   {
    "duration": 24,
    "start_time": "2025-04-27T06:47:42.947Z"
   },
   {
    "duration": 17,
    "start_time": "2025-04-27T06:47:47.288Z"
   },
   {
    "duration": 31,
    "start_time": "2025-04-27T06:48:52.207Z"
   },
   {
    "duration": 23,
    "start_time": "2025-04-27T06:49:14.336Z"
   },
   {
    "duration": 674,
    "start_time": "2025-04-27T06:49:36.237Z"
   },
   {
    "duration": 29,
    "start_time": "2025-04-27T06:49:44.912Z"
   },
   {
    "duration": 17,
    "start_time": "2025-04-27T06:51:21.661Z"
   },
   {
    "duration": 22,
    "start_time": "2025-04-27T06:54:43.608Z"
   },
   {
    "duration": 27,
    "start_time": "2025-04-27T06:56:05.596Z"
   },
   {
    "duration": 12,
    "start_time": "2025-04-27T06:56:59.546Z"
   },
   {
    "duration": 18,
    "start_time": "2025-04-27T06:57:06.669Z"
   },
   {
    "duration": 26,
    "start_time": "2025-04-27T06:57:45.158Z"
   },
   {
    "duration": 20,
    "start_time": "2025-04-27T06:57:59.828Z"
   },
   {
    "duration": 28,
    "start_time": "2025-04-27T06:58:07.050Z"
   },
   {
    "duration": 30,
    "start_time": "2025-04-27T07:01:27.458Z"
   },
   {
    "duration": 20,
    "start_time": "2025-04-27T07:02:32.362Z"
   },
   {
    "duration": 18,
    "start_time": "2025-04-27T07:02:39.817Z"
   },
   {
    "duration": 13,
    "start_time": "2025-04-27T07:02:47.205Z"
   },
   {
    "duration": 357,
    "start_time": "2025-04-27T07:04:52.103Z"
   },
   {
    "duration": 3,
    "start_time": "2025-04-27T07:08:50.304Z"
   },
   {
    "duration": 90,
    "start_time": "2025-04-27T07:09:01.006Z"
   },
   {
    "duration": 20,
    "start_time": "2025-04-27T07:09:12.223Z"
   },
   {
    "duration": 40,
    "start_time": "2025-04-27T07:09:25.804Z"
   },
   {
    "duration": 22,
    "start_time": "2025-04-27T07:11:01.744Z"
   },
   {
    "duration": 26,
    "start_time": "2025-04-27T07:11:08.523Z"
   },
   {
    "duration": 198,
    "start_time": "2025-04-27T07:13:19.194Z"
   },
   {
    "duration": 104,
    "start_time": "2025-04-27T07:13:38.815Z"
   },
   {
    "duration": 187,
    "start_time": "2025-04-27T07:13:44.478Z"
   },
   {
    "duration": 184,
    "start_time": "2025-04-27T07:14:14.383Z"
   },
   {
    "duration": 200,
    "start_time": "2025-04-27T07:14:41.864Z"
   },
   {
    "duration": 196,
    "start_time": "2025-04-27T07:14:52.156Z"
   },
   {
    "duration": 37,
    "start_time": "2025-04-27T07:16:04.555Z"
   },
   {
    "duration": 20,
    "start_time": "2025-04-27T07:17:11.573Z"
   },
   {
    "duration": 6,
    "start_time": "2025-04-27T07:18:10.357Z"
   },
   {
    "duration": 23,
    "start_time": "2025-04-27T07:18:19.463Z"
   },
   {
    "duration": 248,
    "start_time": "2025-04-27T07:20:44.267Z"
   },
   {
    "duration": 148,
    "start_time": "2025-04-27T07:21:24.661Z"
   },
   {
    "duration": 268,
    "start_time": "2025-04-27T07:22:18.716Z"
   },
   {
    "duration": 155,
    "start_time": "2025-04-27T07:22:26.733Z"
   },
   {
    "duration": 146,
    "start_time": "2025-04-27T07:22:35.275Z"
   },
   {
    "duration": 156,
    "start_time": "2025-04-27T07:22:48.211Z"
   },
   {
    "duration": 153,
    "start_time": "2025-04-27T07:24:22.241Z"
   },
   {
    "duration": 151,
    "start_time": "2025-04-27T07:25:51.194Z"
   },
   {
    "duration": 6,
    "start_time": "2025-04-27T07:27:50.817Z"
   },
   {
    "duration": 10,
    "start_time": "2025-04-27T07:27:59.246Z"
   },
   {
    "duration": 212,
    "start_time": "2025-04-27T07:32:33.541Z"
   },
   {
    "duration": 210,
    "start_time": "2025-04-27T07:32:47.275Z"
   },
   {
    "duration": 140,
    "start_time": "2025-04-27T07:33:11.386Z"
   },
   {
    "duration": 161,
    "start_time": "2025-04-27T07:33:19.185Z"
   },
   {
    "duration": 210,
    "start_time": "2025-04-27T07:33:30.070Z"
   },
   {
    "duration": 200,
    "start_time": "2025-04-27T07:33:39.953Z"
   },
   {
    "duration": 366,
    "start_time": "2025-04-27T07:34:53.304Z"
   },
   {
    "duration": 121,
    "start_time": "2025-04-27T07:35:17.647Z"
   },
   {
    "duration": 112,
    "start_time": "2025-04-27T07:35:52.692Z"
   },
   {
    "duration": 137,
    "start_time": "2025-04-27T07:36:30.437Z"
   },
   {
    "duration": 133,
    "start_time": "2025-04-27T07:36:42.513Z"
   },
   {
    "duration": 124,
    "start_time": "2025-04-27T07:36:47.188Z"
   },
   {
    "duration": 117,
    "start_time": "2025-04-27T07:37:27.085Z"
   },
   {
    "duration": 110,
    "start_time": "2025-04-27T07:37:37.794Z"
   },
   {
    "duration": 126,
    "start_time": "2025-04-27T07:37:42.172Z"
   },
   {
    "duration": 121,
    "start_time": "2025-04-27T07:37:46.232Z"
   },
   {
    "duration": 129,
    "start_time": "2025-04-27T07:39:47.029Z"
   },
   {
    "duration": 119,
    "start_time": "2025-04-27T07:40:16.564Z"
   },
   {
    "duration": 124,
    "start_time": "2025-04-27T07:40:28.644Z"
   },
   {
    "duration": 118,
    "start_time": "2025-04-27T07:40:36.003Z"
   },
   {
    "duration": 132,
    "start_time": "2025-04-27T07:40:51.719Z"
   },
   {
    "duration": 804,
    "start_time": "2025-04-27T07:41:39.969Z"
   },
   {
    "duration": 603,
    "start_time": "2025-04-27T07:42:11.218Z"
   },
   {
    "duration": 228,
    "start_time": "2025-04-27T07:43:50.751Z"
   },
   {
    "duration": 217,
    "start_time": "2025-04-27T07:43:58.124Z"
   },
   {
    "duration": 1214,
    "start_time": "2025-04-27T08:23:38.958Z"
   },
   {
    "duration": 202,
    "start_time": "2025-04-27T08:23:40.174Z"
   },
   {
    "duration": 15,
    "start_time": "2025-04-27T08:23:40.377Z"
   },
   {
    "duration": 14,
    "start_time": "2025-04-27T08:23:40.394Z"
   },
   {
    "duration": 12,
    "start_time": "2025-04-27T08:23:40.410Z"
   },
   {
    "duration": 11,
    "start_time": "2025-04-27T08:23:40.423Z"
   },
   {
    "duration": 13,
    "start_time": "2025-04-27T08:23:40.439Z"
   },
   {
    "duration": 36,
    "start_time": "2025-04-27T08:23:40.454Z"
   },
   {
    "duration": 13,
    "start_time": "2025-04-27T08:23:40.492Z"
   },
   {
    "duration": 10,
    "start_time": "2025-04-27T08:23:40.507Z"
   },
   {
    "duration": 13,
    "start_time": "2025-04-27T08:23:40.518Z"
   },
   {
    "duration": 10,
    "start_time": "2025-04-27T08:23:40.533Z"
   },
   {
    "duration": 10,
    "start_time": "2025-04-27T08:23:40.545Z"
   },
   {
    "duration": 23,
    "start_time": "2025-04-27T08:23:40.557Z"
   },
   {
    "duration": 15,
    "start_time": "2025-04-27T08:23:40.581Z"
   },
   {
    "duration": 7,
    "start_time": "2025-04-27T08:23:40.597Z"
   },
   {
    "duration": 46,
    "start_time": "2025-04-27T08:23:40.606Z"
   },
   {
    "duration": 10,
    "start_time": "2025-04-27T08:23:40.653Z"
   },
   {
    "duration": 9,
    "start_time": "2025-04-27T08:23:40.664Z"
   },
   {
    "duration": 15,
    "start_time": "2025-04-27T08:23:40.674Z"
   },
   {
    "duration": 29,
    "start_time": "2025-04-27T08:23:40.691Z"
   },
   {
    "duration": 41,
    "start_time": "2025-04-27T08:23:40.722Z"
   },
   {
    "duration": 193,
    "start_time": "2025-04-27T08:23:40.765Z"
   },
   {
    "duration": 215,
    "start_time": "2025-04-27T08:23:40.960Z"
   },
   {
    "duration": 179,
    "start_time": "2025-04-27T08:23:41.176Z"
   },
   {
    "duration": 127,
    "start_time": "2025-04-27T08:23:41.357Z"
   },
   {
    "duration": 223,
    "start_time": "2025-04-27T08:23:41.486Z"
   },
   {
    "duration": 129,
    "start_time": "2025-04-27T08:23:41.712Z"
   },
   {
    "duration": 6,
    "start_time": "2025-04-27T08:23:41.843Z"
   },
   {
    "duration": 701,
    "start_time": "2025-04-27T08:23:41.850Z"
   },
   {
    "duration": 172,
    "start_time": "2025-04-27T08:23:42.552Z"
   },
   {
    "duration": 388,
    "start_time": "2025-04-27T08:23:42.726Z"
   },
   {
    "duration": 258,
    "start_time": "2025-04-27T08:23:43.115Z"
   },
   {
    "duration": 16,
    "start_time": "2025-04-27T08:23:43.374Z"
   },
   {
    "duration": 48,
    "start_time": "2025-04-27T08:23:43.391Z"
   },
   {
    "duration": 237,
    "start_time": "2025-04-27T08:23:43.441Z"
   },
   {
    "duration": 19,
    "start_time": "2025-04-27T08:23:43.680Z"
   },
   {
    "duration": 165,
    "start_time": "2025-04-27T08:23:43.701Z"
   },
   {
    "duration": 10,
    "start_time": "2025-04-27T08:23:43.867Z"
   },
   {
    "duration": 217,
    "start_time": "2025-04-27T08:23:43.878Z"
   },
   {
    "duration": 1304,
    "start_time": "2025-04-27T19:50:17.813Z"
   },
   {
    "duration": 0,
    "start_time": "2025-04-27T19:50:19.121Z"
   },
   {
    "duration": 0,
    "start_time": "2025-04-27T19:50:19.122Z"
   },
   {
    "duration": 0,
    "start_time": "2025-04-27T19:50:19.123Z"
   },
   {
    "duration": 0,
    "start_time": "2025-04-27T19:50:19.124Z"
   },
   {
    "duration": 0,
    "start_time": "2025-04-27T19:50:19.125Z"
   },
   {
    "duration": 0,
    "start_time": "2025-04-27T19:50:19.127Z"
   },
   {
    "duration": 0,
    "start_time": "2025-04-27T19:50:19.128Z"
   },
   {
    "duration": 0,
    "start_time": "2025-04-27T19:50:19.129Z"
   },
   {
    "duration": 0,
    "start_time": "2025-04-27T19:50:19.131Z"
   },
   {
    "duration": 0,
    "start_time": "2025-04-27T19:50:19.131Z"
   },
   {
    "duration": 0,
    "start_time": "2025-04-27T19:50:19.133Z"
   },
   {
    "duration": 0,
    "start_time": "2025-04-27T19:50:19.134Z"
   },
   {
    "duration": 0,
    "start_time": "2025-04-27T19:50:19.161Z"
   },
   {
    "duration": 0,
    "start_time": "2025-04-27T19:50:19.162Z"
   },
   {
    "duration": 0,
    "start_time": "2025-04-27T19:50:19.163Z"
   },
   {
    "duration": 0,
    "start_time": "2025-04-27T19:50:19.164Z"
   },
   {
    "duration": 0,
    "start_time": "2025-04-27T19:50:19.165Z"
   },
   {
    "duration": 0,
    "start_time": "2025-04-27T19:50:19.167Z"
   },
   {
    "duration": 0,
    "start_time": "2025-04-27T19:50:19.168Z"
   },
   {
    "duration": 0,
    "start_time": "2025-04-27T19:50:19.169Z"
   },
   {
    "duration": 0,
    "start_time": "2025-04-27T19:50:19.170Z"
   },
   {
    "duration": 0,
    "start_time": "2025-04-27T19:50:19.172Z"
   },
   {
    "duration": 0,
    "start_time": "2025-04-27T19:50:19.173Z"
   },
   {
    "duration": 0,
    "start_time": "2025-04-27T19:50:19.174Z"
   },
   {
    "duration": 0,
    "start_time": "2025-04-27T19:50:19.175Z"
   },
   {
    "duration": 0,
    "start_time": "2025-04-27T19:50:19.176Z"
   },
   {
    "duration": 0,
    "start_time": "2025-04-27T19:50:19.177Z"
   },
   {
    "duration": 0,
    "start_time": "2025-04-27T19:50:19.179Z"
   },
   {
    "duration": 0,
    "start_time": "2025-04-27T19:50:19.180Z"
   },
   {
    "duration": 0,
    "start_time": "2025-04-27T19:50:19.181Z"
   },
   {
    "duration": 0,
    "start_time": "2025-04-27T19:50:19.182Z"
   },
   {
    "duration": 0,
    "start_time": "2025-04-27T19:50:19.183Z"
   },
   {
    "duration": 0,
    "start_time": "2025-04-27T19:50:19.184Z"
   },
   {
    "duration": 0,
    "start_time": "2025-04-27T19:50:19.185Z"
   },
   {
    "duration": 0,
    "start_time": "2025-04-27T19:50:19.186Z"
   },
   {
    "duration": 0,
    "start_time": "2025-04-27T19:50:19.187Z"
   },
   {
    "duration": 0,
    "start_time": "2025-04-27T19:50:19.188Z"
   },
   {
    "duration": 0,
    "start_time": "2025-04-27T19:50:19.189Z"
   },
   {
    "duration": 0,
    "start_time": "2025-04-27T19:50:19.190Z"
   },
   {
    "duration": 3794,
    "start_time": "2025-04-27T19:51:00.154Z"
   },
   {
    "duration": 2081,
    "start_time": "2025-04-27T19:51:03.951Z"
   },
   {
    "duration": 223,
    "start_time": "2025-04-27T19:51:06.034Z"
   },
   {
    "duration": 15,
    "start_time": "2025-04-27T19:51:06.259Z"
   },
   {
    "duration": 16,
    "start_time": "2025-04-27T19:51:06.276Z"
   },
   {
    "duration": 12,
    "start_time": "2025-04-27T19:51:06.293Z"
   },
   {
    "duration": 10,
    "start_time": "2025-04-27T19:51:06.307Z"
   },
   {
    "duration": 45,
    "start_time": "2025-04-27T19:51:06.318Z"
   },
   {
    "duration": 15,
    "start_time": "2025-04-27T19:51:06.365Z"
   },
   {
    "duration": 16,
    "start_time": "2025-04-27T19:51:06.383Z"
   },
   {
    "duration": 5,
    "start_time": "2025-04-27T19:51:06.400Z"
   },
   {
    "duration": 22,
    "start_time": "2025-04-27T19:51:06.406Z"
   },
   {
    "duration": 35,
    "start_time": "2025-04-27T19:51:06.430Z"
   },
   {
    "duration": 14,
    "start_time": "2025-04-27T19:51:06.467Z"
   },
   {
    "duration": 28,
    "start_time": "2025-04-27T19:51:06.482Z"
   },
   {
    "duration": 19,
    "start_time": "2025-04-27T19:51:06.512Z"
   },
   {
    "duration": 9,
    "start_time": "2025-04-27T19:51:06.561Z"
   },
   {
    "duration": 20,
    "start_time": "2025-04-27T19:51:06.572Z"
   },
   {
    "duration": 13,
    "start_time": "2025-04-27T19:51:06.594Z"
   },
   {
    "duration": 15,
    "start_time": "2025-04-27T19:51:06.609Z"
   },
   {
    "duration": 39,
    "start_time": "2025-04-27T19:51:06.626Z"
   },
   {
    "duration": 22,
    "start_time": "2025-04-27T19:51:06.667Z"
   },
   {
    "duration": 16,
    "start_time": "2025-04-27T19:51:06.691Z"
   },
   {
    "duration": 229,
    "start_time": "2025-04-27T19:51:06.709Z"
   },
   {
    "duration": 228,
    "start_time": "2025-04-27T19:51:06.941Z"
   },
   {
    "duration": 195,
    "start_time": "2025-04-27T19:51:07.170Z"
   },
   {
    "duration": 144,
    "start_time": "2025-04-27T19:51:07.366Z"
   },
   {
    "duration": 247,
    "start_time": "2025-04-27T19:51:07.513Z"
   },
   {
    "duration": 156,
    "start_time": "2025-04-27T19:51:07.762Z"
   },
   {
    "duration": 9,
    "start_time": "2025-04-27T19:51:07.921Z"
   },
   {
    "duration": 798,
    "start_time": "2025-04-27T19:51:07.932Z"
   },
   {
    "duration": 183,
    "start_time": "2025-04-27T19:51:08.732Z"
   },
   {
    "duration": 431,
    "start_time": "2025-04-27T19:51:08.917Z"
   },
   {
    "duration": 259,
    "start_time": "2025-04-27T19:51:09.350Z"
   },
   {
    "duration": 19,
    "start_time": "2025-04-27T19:51:09.611Z"
   },
   {
    "duration": 134,
    "start_time": "2025-04-27T19:51:09.632Z"
   },
   {
    "duration": 266,
    "start_time": "2025-04-27T19:51:09.768Z"
   },
   {
    "duration": 34,
    "start_time": "2025-04-27T19:51:10.036Z"
   },
   {
    "duration": 178,
    "start_time": "2025-04-27T19:51:10.071Z"
   },
   {
    "duration": 18,
    "start_time": "2025-04-27T19:51:10.251Z"
   },
   {
    "duration": 229,
    "start_time": "2025-04-27T19:51:10.271Z"
   },
   {
    "duration": 33,
    "start_time": "2025-04-27T20:05:48.533Z"
   },
   {
    "duration": 5,
    "start_time": "2025-04-27T20:06:26.453Z"
   },
   {
    "duration": 46,
    "start_time": "2025-04-28T13:21:14.002Z"
   },
   {
    "duration": 3117,
    "start_time": "2025-04-28T13:21:20.976Z"
   },
   {
    "duration": 1309,
    "start_time": "2025-04-28T13:21:24.096Z"
   },
   {
    "duration": 150,
    "start_time": "2025-04-28T13:21:25.406Z"
   },
   {
    "duration": 14,
    "start_time": "2025-04-28T13:21:25.558Z"
   },
   {
    "duration": 18,
    "start_time": "2025-04-28T13:21:25.573Z"
   },
   {
    "duration": 10,
    "start_time": "2025-04-28T13:21:25.592Z"
   },
   {
    "duration": 16,
    "start_time": "2025-04-28T13:21:25.604Z"
   },
   {
    "duration": 26,
    "start_time": "2025-04-28T13:21:25.621Z"
   },
   {
    "duration": 38,
    "start_time": "2025-04-28T13:21:25.649Z"
   },
   {
    "duration": 14,
    "start_time": "2025-04-28T13:21:25.689Z"
   },
   {
    "duration": 9,
    "start_time": "2025-04-28T13:21:25.704Z"
   },
   {
    "duration": 20,
    "start_time": "2025-04-28T13:21:25.715Z"
   },
   {
    "duration": 9,
    "start_time": "2025-04-28T13:21:25.737Z"
   },
   {
    "duration": 12,
    "start_time": "2025-04-28T13:21:25.747Z"
   },
   {
    "duration": 26,
    "start_time": "2025-04-28T13:21:25.761Z"
   },
   {
    "duration": 16,
    "start_time": "2025-04-28T13:21:25.788Z"
   },
   {
    "duration": 34,
    "start_time": "2025-04-28T13:21:25.805Z"
   },
   {
    "duration": 69,
    "start_time": "2025-04-28T13:21:25.841Z"
   },
   {
    "duration": 17,
    "start_time": "2025-04-28T13:21:25.911Z"
   },
   {
    "duration": 10,
    "start_time": "2025-04-28T13:21:25.930Z"
   },
   {
    "duration": 7,
    "start_time": "2025-04-28T13:21:25.942Z"
   },
   {
    "duration": 17,
    "start_time": "2025-04-28T13:21:25.951Z"
   },
   {
    "duration": 14,
    "start_time": "2025-04-28T13:21:25.970Z"
   },
   {
    "duration": 6,
    "start_time": "2025-04-28T13:21:25.985Z"
   },
   {
    "duration": 196,
    "start_time": "2025-04-28T13:21:25.992Z"
   },
   {
    "duration": 199,
    "start_time": "2025-04-28T13:21:26.190Z"
   },
   {
    "duration": 214,
    "start_time": "2025-04-28T13:21:26.391Z"
   },
   {
    "duration": 123,
    "start_time": "2025-04-28T13:21:26.608Z"
   },
   {
    "duration": 211,
    "start_time": "2025-04-28T13:21:26.735Z"
   },
   {
    "duration": 124,
    "start_time": "2025-04-28T13:21:26.947Z"
   },
   {
    "duration": 8,
    "start_time": "2025-04-28T13:21:27.073Z"
   },
   {
    "duration": 694,
    "start_time": "2025-04-28T13:21:27.082Z"
   },
   {
    "duration": 157,
    "start_time": "2025-04-28T13:21:27.778Z"
   },
   {
    "duration": 356,
    "start_time": "2025-04-28T13:21:27.938Z"
   },
   {
    "duration": 315,
    "start_time": "2025-04-28T13:21:28.296Z"
   },
   {
    "duration": 30,
    "start_time": "2025-04-28T13:21:28.613Z"
   },
   {
    "duration": 30,
    "start_time": "2025-04-28T13:21:28.645Z"
   },
   {
    "duration": 254,
    "start_time": "2025-04-28T13:21:28.677Z"
   },
   {
    "duration": 19,
    "start_time": "2025-04-28T13:21:28.933Z"
   },
   {
    "duration": 165,
    "start_time": "2025-04-28T13:21:28.953Z"
   },
   {
    "duration": 16,
    "start_time": "2025-04-28T13:21:29.120Z"
   },
   {
    "duration": 285,
    "start_time": "2025-04-28T13:21:29.137Z"
   },
   {
    "duration": 6,
    "start_time": "2025-04-28T13:27:57.072Z"
   },
   {
    "duration": 210,
    "start_time": "2025-04-28T13:28:01.138Z"
   },
   {
    "duration": 7,
    "start_time": "2025-04-28T13:28:03.861Z"
   },
   {
    "duration": 1399,
    "start_time": "2025-04-28T13:31:55.558Z"
   },
   {
    "duration": 1252,
    "start_time": "2025-04-28T13:32:05.149Z"
   },
   {
    "duration": 1253,
    "start_time": "2025-04-28T13:32:15.086Z"
   },
   {
    "duration": 80,
    "start_time": "2025-04-28T13:32:59.044Z"
   },
   {
    "duration": 80,
    "start_time": "2025-04-28T13:33:21.296Z"
   },
   {
    "duration": 41,
    "start_time": "2025-04-28T13:33:30.968Z"
   },
   {
    "duration": 34,
    "start_time": "2025-04-28T13:34:35.350Z"
   },
   {
    "duration": 5,
    "start_time": "2025-04-28T13:40:17.422Z"
   },
   {
    "duration": 7,
    "start_time": "2025-04-28T13:40:45.653Z"
   },
   {
    "duration": 172,
    "start_time": "2025-04-28T13:40:54.822Z"
   },
   {
    "duration": 84,
    "start_time": "2025-04-28T13:50:01.748Z"
   },
   {
    "duration": 182,
    "start_time": "2025-04-28T13:52:05.758Z"
   },
   {
    "duration": 15,
    "start_time": "2025-04-28T13:53:28.371Z"
   },
   {
    "duration": 96,
    "start_time": "2025-04-28T13:53:44.818Z"
   },
   {
    "duration": 105,
    "start_time": "2025-04-28T13:55:12.054Z"
   },
   {
    "duration": 90,
    "start_time": "2025-04-28T13:55:28.960Z"
   },
   {
    "duration": 99,
    "start_time": "2025-04-28T13:55:32.966Z"
   },
   {
    "duration": 183,
    "start_time": "2025-04-28T13:55:55.204Z"
   },
   {
    "duration": 180,
    "start_time": "2025-04-28T13:56:05.696Z"
   },
   {
    "duration": 165,
    "start_time": "2025-04-28T13:56:36.765Z"
   },
   {
    "duration": 173,
    "start_time": "2025-04-28T13:56:45.514Z"
   },
   {
    "duration": 168,
    "start_time": "2025-04-28T13:57:03.117Z"
   },
   {
    "duration": 173,
    "start_time": "2025-04-28T13:57:09.218Z"
   },
   {
    "duration": 172,
    "start_time": "2025-04-28T13:57:16.773Z"
   },
   {
    "duration": 98,
    "start_time": "2025-04-28T13:57:36.866Z"
   },
   {
    "duration": 96,
    "start_time": "2025-04-28T13:57:47.824Z"
   },
   {
    "duration": 114,
    "start_time": "2025-04-28T13:57:55.674Z"
   },
   {
    "duration": 2680,
    "start_time": "2025-04-28T13:58:04.670Z"
   },
   {
    "duration": 1208,
    "start_time": "2025-04-28T13:58:07.353Z"
   },
   {
    "duration": 174,
    "start_time": "2025-04-28T13:58:08.563Z"
   },
   {
    "duration": 13,
    "start_time": "2025-04-28T13:58:08.740Z"
   },
   {
    "duration": 15,
    "start_time": "2025-04-28T13:58:08.755Z"
   },
   {
    "duration": 11,
    "start_time": "2025-04-28T13:58:08.772Z"
   },
   {
    "duration": 10,
    "start_time": "2025-04-28T13:58:08.785Z"
   },
   {
    "duration": 47,
    "start_time": "2025-04-28T13:58:08.797Z"
   },
   {
    "duration": 15,
    "start_time": "2025-04-28T13:58:08.845Z"
   },
   {
    "duration": 61,
    "start_time": "2025-04-28T13:58:08.864Z"
   },
   {
    "duration": 5,
    "start_time": "2025-04-28T13:58:08.927Z"
   },
   {
    "duration": 16,
    "start_time": "2025-04-28T13:58:08.933Z"
   },
   {
    "duration": 10,
    "start_time": "2025-04-28T13:58:08.951Z"
   },
   {
    "duration": 12,
    "start_time": "2025-04-28T13:58:08.962Z"
   },
   {
    "duration": 23,
    "start_time": "2025-04-28T13:58:08.976Z"
   },
   {
    "duration": 45,
    "start_time": "2025-04-28T13:58:09.001Z"
   },
   {
    "duration": 8,
    "start_time": "2025-04-28T13:58:09.048Z"
   },
   {
    "duration": 22,
    "start_time": "2025-04-28T13:58:09.058Z"
   },
   {
    "duration": 11,
    "start_time": "2025-04-28T13:58:09.082Z"
   },
   {
    "duration": 10,
    "start_time": "2025-04-28T13:58:09.095Z"
   },
   {
    "duration": 33,
    "start_time": "2025-04-28T13:58:09.106Z"
   },
   {
    "duration": 21,
    "start_time": "2025-04-28T13:58:09.141Z"
   },
   {
    "duration": 19,
    "start_time": "2025-04-28T13:58:09.164Z"
   },
   {
    "duration": 10,
    "start_time": "2025-04-28T13:58:09.184Z"
   },
   {
    "duration": 197,
    "start_time": "2025-04-28T13:58:09.196Z"
   },
   {
    "duration": 6,
    "start_time": "2025-04-28T13:58:09.394Z"
   },
   {
    "duration": 200,
    "start_time": "2025-04-28T13:58:09.401Z"
   },
   {
    "duration": 8,
    "start_time": "2025-04-28T13:58:09.604Z"
   },
   {
    "duration": 185,
    "start_time": "2025-04-28T13:58:09.614Z"
   },
   {
    "duration": 186,
    "start_time": "2025-04-28T13:58:09.801Z"
   },
   {
    "duration": 215,
    "start_time": "2025-04-28T13:58:09.988Z"
   },
   {
    "duration": 134,
    "start_time": "2025-04-28T13:58:10.205Z"
   },
   {
    "duration": 8,
    "start_time": "2025-04-28T13:58:10.341Z"
   },
   {
    "duration": 684,
    "start_time": "2025-04-28T13:58:10.351Z"
   },
   {
    "duration": 162,
    "start_time": "2025-04-28T13:58:11.037Z"
   },
   {
    "duration": 357,
    "start_time": "2025-04-28T13:58:11.201Z"
   },
   {
    "duration": 223,
    "start_time": "2025-04-28T13:58:11.560Z"
   },
   {
    "duration": 16,
    "start_time": "2025-04-28T13:58:11.785Z"
   },
   {
    "duration": 49,
    "start_time": "2025-04-28T13:58:11.803Z"
   },
   {
    "duration": 243,
    "start_time": "2025-04-28T13:58:11.854Z"
   },
   {
    "duration": 18,
    "start_time": "2025-04-28T13:58:12.100Z"
   },
   {
    "duration": 180,
    "start_time": "2025-04-28T13:58:12.120Z"
   },
   {
    "duration": 13,
    "start_time": "2025-04-28T13:58:12.302Z"
   },
   {
    "duration": 230,
    "start_time": "2025-04-28T13:58:12.317Z"
   },
   {
    "duration": 181,
    "start_time": "2025-04-28T13:58:25.641Z"
   },
   {
    "duration": 179,
    "start_time": "2025-04-28T13:59:16.067Z"
   },
   {
    "duration": 170,
    "start_time": "2025-04-28T13:59:19.316Z"
   },
   {
    "duration": 278,
    "start_time": "2025-04-28T13:59:23.948Z"
   },
   {
    "duration": 9,
    "start_time": "2025-04-28T14:00:33.411Z"
   },
   {
    "duration": 163,
    "start_time": "2025-04-28T14:02:47.713Z"
   },
   {
    "duration": 182,
    "start_time": "2025-04-28T14:02:57.051Z"
   },
   {
    "duration": 164,
    "start_time": "2025-04-28T14:03:03.087Z"
   },
   {
    "duration": 157,
    "start_time": "2025-04-28T14:03:08.006Z"
   },
   {
    "duration": 10,
    "start_time": "2025-04-28T14:04:47.701Z"
   },
   {
    "duration": 9,
    "start_time": "2025-04-28T14:04:52.436Z"
   },
   {
    "duration": 13,
    "start_time": "2025-04-28T14:05:01.491Z"
   },
   {
    "duration": 201,
    "start_time": "2025-04-28T14:05:11.608Z"
   },
   {
    "duration": 12,
    "start_time": "2025-04-28T14:07:20.774Z"
   },
   {
    "duration": 16,
    "start_time": "2025-04-28T14:07:31.741Z"
   },
   {
    "duration": 18,
    "start_time": "2025-04-28T14:07:57.568Z"
   },
   {
    "duration": 15,
    "start_time": "2025-04-28T14:08:04.476Z"
   },
   {
    "duration": 17,
    "start_time": "2025-04-28T14:08:10.215Z"
   },
   {
    "duration": 16,
    "start_time": "2025-04-28T14:08:23.714Z"
   },
   {
    "duration": 108,
    "start_time": "2025-04-28T14:10:03.621Z"
   },
   {
    "duration": 19,
    "start_time": "2025-04-28T14:10:12.119Z"
   },
   {
    "duration": 17,
    "start_time": "2025-04-28T14:10:23.310Z"
   },
   {
    "duration": 6,
    "start_time": "2025-04-28T14:17:29.629Z"
   },
   {
    "duration": 111,
    "start_time": "2025-04-28T14:18:21.431Z"
   },
   {
    "duration": 14,
    "start_time": "2025-04-28T14:18:36.262Z"
   },
   {
    "duration": 22,
    "start_time": "2025-04-28T14:19:09.216Z"
   },
   {
    "duration": 11,
    "start_time": "2025-04-28T14:19:24.089Z"
   },
   {
    "duration": 22,
    "start_time": "2025-04-28T14:19:37.594Z"
   },
   {
    "duration": 19,
    "start_time": "2025-04-28T14:19:54.855Z"
   },
   {
    "duration": 20,
    "start_time": "2025-04-28T14:20:31.800Z"
   },
   {
    "duration": 23,
    "start_time": "2025-04-28T14:21:57.083Z"
   },
   {
    "duration": 21,
    "start_time": "2025-04-28T14:23:18.638Z"
   },
   {
    "duration": 128,
    "start_time": "2025-04-28T14:24:30.686Z"
   },
   {
    "duration": 20,
    "start_time": "2025-04-28T14:24:35.037Z"
   },
   {
    "duration": 12,
    "start_time": "2025-04-28T14:25:22.274Z"
   },
   {
    "duration": 20,
    "start_time": "2025-04-28T14:25:35.121Z"
   },
   {
    "duration": 10,
    "start_time": "2025-04-28T14:26:19.228Z"
   },
   {
    "duration": 14,
    "start_time": "2025-04-28T14:26:32.001Z"
   },
   {
    "duration": 11,
    "start_time": "2025-04-28T14:26:38.584Z"
   },
   {
    "duration": 11,
    "start_time": "2025-04-28T14:27:41.511Z"
   },
   {
    "duration": 15,
    "start_time": "2025-04-28T14:27:52.412Z"
   },
   {
    "duration": 7,
    "start_time": "2025-04-28T14:28:08.780Z"
   },
   {
    "duration": 7,
    "start_time": "2025-04-28T14:28:12.535Z"
   },
   {
    "duration": 24,
    "start_time": "2025-04-28T14:28:25.687Z"
   },
   {
    "duration": 9,
    "start_time": "2025-04-28T14:28:36.272Z"
   },
   {
    "duration": 8,
    "start_time": "2025-04-28T14:36:04.198Z"
   },
   {
    "duration": 6,
    "start_time": "2025-04-28T14:36:14.770Z"
   },
   {
    "duration": 1273,
    "start_time": "2025-04-28T14:44:09.522Z"
   },
   {
    "duration": 4,
    "start_time": "2025-04-28T14:44:56.194Z"
   },
   {
    "duration": 23,
    "start_time": "2025-04-28T14:45:07.712Z"
   },
   {
    "duration": 34,
    "start_time": "2025-04-28T14:47:39.153Z"
   },
   {
    "duration": 31,
    "start_time": "2025-04-28T14:47:55.522Z"
   },
   {
    "duration": 1272,
    "start_time": "2025-04-28T14:48:03.282Z"
   },
   {
    "duration": 31,
    "start_time": "2025-04-28T14:48:11.332Z"
   },
   {
    "duration": 32,
    "start_time": "2025-04-28T14:48:15.664Z"
   },
   {
    "duration": 32,
    "start_time": "2025-04-28T14:48:44.609Z"
   },
   {
    "duration": 33,
    "start_time": "2025-04-28T14:49:17.552Z"
   },
   {
    "duration": 225,
    "start_time": "2025-04-28T14:49:38.044Z"
   },
   {
    "duration": 97,
    "start_time": "2025-04-28T14:56:25.879Z"
   },
   {
    "duration": 33,
    "start_time": "2025-04-28T14:56:31.990Z"
   },
   {
    "duration": 52,
    "start_time": "2025-04-28T20:07:53.459Z"
   },
   {
    "duration": 3561,
    "start_time": "2025-04-28T20:07:58.759Z"
   },
   {
    "duration": 2355,
    "start_time": "2025-04-28T20:08:02.323Z"
   },
   {
    "duration": 293,
    "start_time": "2025-04-28T20:08:04.680Z"
   },
   {
    "duration": 16,
    "start_time": "2025-04-28T20:08:04.976Z"
   },
   {
    "duration": 69,
    "start_time": "2025-04-28T20:08:04.994Z"
   },
   {
    "duration": 11,
    "start_time": "2025-04-28T20:08:05.065Z"
   },
   {
    "duration": 16,
    "start_time": "2025-04-28T20:08:05.078Z"
   },
   {
    "duration": 67,
    "start_time": "2025-04-28T20:08:05.095Z"
   },
   {
    "duration": 16,
    "start_time": "2025-04-28T20:08:05.163Z"
   },
   {
    "duration": 16,
    "start_time": "2025-04-28T20:08:05.181Z"
   },
   {
    "duration": 4,
    "start_time": "2025-04-28T20:08:05.198Z"
   },
   {
    "duration": 66,
    "start_time": "2025-04-28T20:08:05.203Z"
   },
   {
    "duration": 9,
    "start_time": "2025-04-28T20:08:05.271Z"
   },
   {
    "duration": 12,
    "start_time": "2025-04-28T20:08:05.282Z"
   },
   {
    "duration": 86,
    "start_time": "2025-04-28T20:08:05.296Z"
   },
   {
    "duration": 95,
    "start_time": "2025-04-28T20:08:05.384Z"
   },
   {
    "duration": 8,
    "start_time": "2025-04-28T20:08:05.481Z"
   },
   {
    "duration": 71,
    "start_time": "2025-04-28T20:08:05.490Z"
   },
   {
    "duration": 12,
    "start_time": "2025-04-28T20:08:05.562Z"
   },
   {
    "duration": 10,
    "start_time": "2025-04-28T20:08:05.576Z"
   },
   {
    "duration": 6,
    "start_time": "2025-04-28T20:08:05.588Z"
   },
   {
    "duration": 83,
    "start_time": "2025-04-28T20:08:05.596Z"
   },
   {
    "duration": 28,
    "start_time": "2025-04-28T20:08:05.681Z"
   },
   {
    "duration": 59,
    "start_time": "2025-04-28T20:08:05.711Z"
   },
   {
    "duration": 365,
    "start_time": "2025-04-28T20:08:05.773Z"
   },
   {
    "duration": 7,
    "start_time": "2025-04-28T20:08:06.140Z"
   },
   {
    "duration": 228,
    "start_time": "2025-04-28T20:08:06.160Z"
   },
   {
    "duration": 8,
    "start_time": "2025-04-28T20:08:06.392Z"
   },
   {
    "duration": 218,
    "start_time": "2025-04-28T20:08:06.402Z"
   },
   {
    "duration": 10,
    "start_time": "2025-04-28T20:08:06.621Z"
   },
   {
    "duration": 215,
    "start_time": "2025-04-28T20:08:06.633Z"
   },
   {
    "duration": 25,
    "start_time": "2025-04-28T20:08:06.849Z"
   },
   {
    "duration": 276,
    "start_time": "2025-04-28T20:08:06.876Z"
   },
   {
    "duration": 16,
    "start_time": "2025-04-28T20:08:07.153Z"
   },
   {
    "duration": 155,
    "start_time": "2025-04-28T20:08:07.171Z"
   },
   {
    "duration": 9,
    "start_time": "2025-04-28T20:08:07.328Z"
   },
   {
    "duration": 795,
    "start_time": "2025-04-28T20:08:07.339Z"
   },
   {
    "duration": 8,
    "start_time": "2025-04-28T20:08:08.137Z"
   },
   {
    "duration": 196,
    "start_time": "2025-04-28T20:08:08.147Z"
   },
   {
    "duration": 430,
    "start_time": "2025-04-28T20:08:08.345Z"
   },
   {
    "duration": 312,
    "start_time": "2025-04-28T20:08:08.777Z"
   },
   {
    "duration": 21,
    "start_time": "2025-04-28T20:08:09.091Z"
   },
   {
    "duration": 58,
    "start_time": "2025-04-28T20:08:09.114Z"
   },
   {
    "duration": 265,
    "start_time": "2025-04-28T20:08:09.174Z"
   },
   {
    "duration": 34,
    "start_time": "2025-04-28T20:08:09.441Z"
   },
   {
    "duration": 190,
    "start_time": "2025-04-28T20:08:09.477Z"
   },
   {
    "duration": 13,
    "start_time": "2025-04-28T20:08:09.669Z"
   },
   {
    "duration": 249,
    "start_time": "2025-04-28T20:08:09.684Z"
   },
   {
    "duration": 26,
    "start_time": "2025-04-28T20:08:24.917Z"
   },
   {
    "duration": 12,
    "start_time": "2025-04-28T20:13:24.191Z"
   },
   {
    "duration": 13,
    "start_time": "2025-04-28T20:16:35.948Z"
   },
   {
    "duration": 228,
    "start_time": "2025-04-28T20:16:41.989Z"
   },
   {
    "duration": 2854,
    "start_time": "2025-04-28T21:35:42.935Z"
   },
   {
    "duration": 1405,
    "start_time": "2025-04-28T21:35:45.792Z"
   },
   {
    "duration": 250,
    "start_time": "2025-04-28T21:35:47.198Z"
   },
   {
    "duration": 15,
    "start_time": "2025-04-28T21:35:47.451Z"
   },
   {
    "duration": 19,
    "start_time": "2025-04-28T21:35:47.467Z"
   },
   {
    "duration": 12,
    "start_time": "2025-04-28T21:35:47.487Z"
   },
   {
    "duration": 11,
    "start_time": "2025-04-28T21:35:47.501Z"
   },
   {
    "duration": 16,
    "start_time": "2025-04-28T21:35:47.513Z"
   },
   {
    "duration": 43,
    "start_time": "2025-04-28T21:35:47.531Z"
   },
   {
    "duration": 16,
    "start_time": "2025-04-28T21:35:47.577Z"
   },
   {
    "duration": 11,
    "start_time": "2025-04-28T21:35:47.595Z"
   },
   {
    "duration": 23,
    "start_time": "2025-04-28T21:35:47.608Z"
   },
   {
    "duration": 28,
    "start_time": "2025-04-28T21:35:47.633Z"
   },
   {
    "duration": 13,
    "start_time": "2025-04-28T21:35:47.662Z"
   },
   {
    "duration": 27,
    "start_time": "2025-04-28T21:35:47.677Z"
   },
   {
    "duration": 18,
    "start_time": "2025-04-28T21:35:47.705Z"
   },
   {
    "duration": 46,
    "start_time": "2025-04-28T21:35:47.725Z"
   },
   {
    "duration": 114,
    "start_time": "2025-04-28T21:35:47.773Z"
   },
   {
    "duration": 11,
    "start_time": "2025-04-28T21:35:47.889Z"
   },
   {
    "duration": 10,
    "start_time": "2025-04-28T21:35:47.901Z"
   },
   {
    "duration": 7,
    "start_time": "2025-04-28T21:35:47.913Z"
   },
   {
    "duration": 42,
    "start_time": "2025-04-28T21:35:47.921Z"
   },
   {
    "duration": 15,
    "start_time": "2025-04-28T21:35:47.965Z"
   },
   {
    "duration": 6,
    "start_time": "2025-04-28T21:35:47.982Z"
   },
   {
    "duration": 215,
    "start_time": "2025-04-28T21:35:47.990Z"
   },
   {
    "duration": 7,
    "start_time": "2025-04-28T21:35:48.206Z"
   },
   {
    "duration": 234,
    "start_time": "2025-04-28T21:35:48.214Z"
   },
   {
    "duration": 14,
    "start_time": "2025-04-28T21:35:48.451Z"
   },
   {
    "duration": 199,
    "start_time": "2025-04-28T21:35:48.467Z"
   },
   {
    "duration": 9,
    "start_time": "2025-04-28T21:35:48.668Z"
   },
   {
    "duration": 206,
    "start_time": "2025-04-28T21:35:48.679Z"
   },
   {
    "duration": 19,
    "start_time": "2025-04-28T21:35:48.887Z"
   },
   {
    "duration": 296,
    "start_time": "2025-04-28T21:35:48.908Z"
   },
   {
    "duration": 11,
    "start_time": "2025-04-28T21:35:49.206Z"
   },
   {
    "duration": 159,
    "start_time": "2025-04-28T21:35:49.219Z"
   },
   {
    "duration": 8,
    "start_time": "2025-04-28T21:35:49.379Z"
   },
   {
    "duration": 780,
    "start_time": "2025-04-28T21:35:49.389Z"
   },
   {
    "duration": 7,
    "start_time": "2025-04-28T21:35:50.171Z"
   },
   {
    "duration": 187,
    "start_time": "2025-04-28T21:35:50.181Z"
   },
   {
    "duration": 412,
    "start_time": "2025-04-28T21:35:50.370Z"
   },
   {
    "duration": 244,
    "start_time": "2025-04-28T21:35:50.783Z"
   },
   {
    "duration": 31,
    "start_time": "2025-04-28T21:35:51.029Z"
   },
   {
    "duration": 36,
    "start_time": "2025-04-28T21:35:51.063Z"
   },
   {
    "duration": 272,
    "start_time": "2025-04-28T21:35:51.101Z"
   },
   {
    "duration": 21,
    "start_time": "2025-04-28T21:35:51.375Z"
   },
   {
    "duration": 185,
    "start_time": "2025-04-28T21:35:51.398Z"
   },
   {
    "duration": 12,
    "start_time": "2025-04-28T21:35:51.584Z"
   },
   {
    "duration": 238,
    "start_time": "2025-04-28T21:35:51.598Z"
   },
   {
    "duration": 3025,
    "start_time": "2025-04-29T15:26:53.987Z"
   },
   {
    "duration": 1446,
    "start_time": "2025-04-29T15:26:57.014Z"
   },
   {
    "duration": 185,
    "start_time": "2025-04-29T15:26:58.462Z"
   },
   {
    "duration": 12,
    "start_time": "2025-04-29T15:26:58.649Z"
   },
   {
    "duration": 21,
    "start_time": "2025-04-29T15:26:58.663Z"
   },
   {
    "duration": 9,
    "start_time": "2025-04-29T15:26:58.686Z"
   },
   {
    "duration": 11,
    "start_time": "2025-04-29T15:26:58.696Z"
   },
   {
    "duration": 9,
    "start_time": "2025-04-29T15:26:58.708Z"
   },
   {
    "duration": 12,
    "start_time": "2025-04-29T15:26:58.719Z"
   },
   {
    "duration": 13,
    "start_time": "2025-04-29T15:26:58.733Z"
   },
   {
    "duration": 3,
    "start_time": "2025-04-29T15:26:58.771Z"
   },
   {
    "duration": 16,
    "start_time": "2025-04-29T15:26:58.775Z"
   },
   {
    "duration": 9,
    "start_time": "2025-04-29T15:26:58.794Z"
   },
   {
    "duration": 12,
    "start_time": "2025-04-29T15:26:58.806Z"
   },
   {
    "duration": 59,
    "start_time": "2025-04-29T15:26:58.819Z"
   },
   {
    "duration": 15,
    "start_time": "2025-04-29T15:26:58.880Z"
   },
   {
    "duration": 32,
    "start_time": "2025-04-29T15:26:58.896Z"
   },
   {
    "duration": 16,
    "start_time": "2025-04-29T15:26:58.929Z"
   },
   {
    "duration": 9,
    "start_time": "2025-04-29T15:26:58.947Z"
   },
   {
    "duration": 13,
    "start_time": "2025-04-29T15:26:58.957Z"
   },
   {
    "duration": 6,
    "start_time": "2025-04-29T15:26:58.972Z"
   },
   {
    "duration": 28,
    "start_time": "2025-04-29T15:26:58.979Z"
   },
   {
    "duration": 15,
    "start_time": "2025-04-29T15:26:59.008Z"
   },
   {
    "duration": 6,
    "start_time": "2025-04-29T15:26:59.025Z"
   },
   {
    "duration": 192,
    "start_time": "2025-04-29T15:26:59.032Z"
   },
   {
    "duration": 6,
    "start_time": "2025-04-29T15:26:59.225Z"
   },
   {
    "duration": 230,
    "start_time": "2025-04-29T15:26:59.233Z"
   },
   {
    "duration": 12,
    "start_time": "2025-04-29T15:26:59.464Z"
   },
   {
    "duration": 250,
    "start_time": "2025-04-29T15:26:59.478Z"
   },
   {
    "duration": 10,
    "start_time": "2025-04-29T15:26:59.730Z"
   },
   {
    "duration": 181,
    "start_time": "2025-04-29T15:26:59.742Z"
   },
   {
    "duration": 18,
    "start_time": "2025-04-29T15:26:59.925Z"
   },
   {
    "duration": 242,
    "start_time": "2025-04-29T15:26:59.945Z"
   },
   {
    "duration": 9,
    "start_time": "2025-04-29T15:27:00.189Z"
   },
   {
    "duration": 138,
    "start_time": "2025-04-29T15:27:00.199Z"
   },
   {
    "duration": 7,
    "start_time": "2025-04-29T15:27:00.339Z"
   },
   {
    "duration": 709,
    "start_time": "2025-04-29T15:27:00.348Z"
   },
   {
    "duration": 12,
    "start_time": "2025-04-29T15:27:01.059Z"
   },
   {
    "duration": 156,
    "start_time": "2025-04-29T15:27:01.073Z"
   },
   {
    "duration": 352,
    "start_time": "2025-04-29T15:27:01.230Z"
   },
   {
    "duration": 235,
    "start_time": "2025-04-29T15:27:01.586Z"
   },
   {
    "duration": 17,
    "start_time": "2025-04-29T15:27:01.823Z"
   },
   {
    "duration": 47,
    "start_time": "2025-04-29T15:27:01.841Z"
   },
   {
    "duration": 225,
    "start_time": "2025-04-29T15:27:01.890Z"
   },
   {
    "duration": 19,
    "start_time": "2025-04-29T15:27:02.117Z"
   },
   {
    "duration": 162,
    "start_time": "2025-04-29T15:27:02.137Z"
   },
   {
    "duration": 10,
    "start_time": "2025-04-29T15:27:02.300Z"
   },
   {
    "duration": 278,
    "start_time": "2025-04-29T15:27:02.312Z"
   },
   {
    "duration": 74,
    "start_time": "2025-04-29T15:48:02.727Z"
   },
   {
    "duration": 55,
    "start_time": "2025-04-29T23:52:09.466Z"
   },
   {
    "duration": 3639,
    "start_time": "2025-04-29T23:52:27.094Z"
   },
   {
    "duration": 1483,
    "start_time": "2025-04-29T23:52:30.735Z"
   },
   {
    "duration": 230,
    "start_time": "2025-04-29T23:52:32.219Z"
   },
   {
    "duration": 15,
    "start_time": "2025-04-29T23:52:32.451Z"
   },
   {
    "duration": 47,
    "start_time": "2025-04-29T23:52:32.468Z"
   },
   {
    "duration": 21,
    "start_time": "2025-04-29T23:52:32.516Z"
   },
   {
    "duration": 11,
    "start_time": "2025-04-29T23:52:32.539Z"
   },
   {
    "duration": 55,
    "start_time": "2025-04-29T23:52:32.553Z"
   },
   {
    "duration": 32,
    "start_time": "2025-04-29T23:52:32.609Z"
   },
   {
    "duration": 19,
    "start_time": "2025-04-29T23:52:32.643Z"
   },
   {
    "duration": 31,
    "start_time": "2025-04-29T23:52:32.664Z"
   },
   {
    "duration": 33,
    "start_time": "2025-04-29T23:52:32.697Z"
   },
   {
    "duration": 33,
    "start_time": "2025-04-29T23:52:32.732Z"
   },
   {
    "duration": 52,
    "start_time": "2025-04-29T23:52:32.767Z"
   },
   {
    "duration": 42,
    "start_time": "2025-04-29T23:52:32.821Z"
   },
   {
    "duration": 16,
    "start_time": "2025-04-29T23:52:32.865Z"
   },
   {
    "duration": 15,
    "start_time": "2025-04-29T23:52:32.883Z"
   },
   {
    "duration": 48,
    "start_time": "2025-04-29T23:52:32.900Z"
   },
   {
    "duration": 24,
    "start_time": "2025-04-29T23:52:32.950Z"
   },
   {
    "duration": 58,
    "start_time": "2025-04-29T23:52:32.976Z"
   },
   {
    "duration": 8,
    "start_time": "2025-04-29T23:52:33.036Z"
   },
   {
    "duration": 58,
    "start_time": "2025-04-29T23:52:33.045Z"
   },
   {
    "duration": 23,
    "start_time": "2025-04-29T23:52:33.105Z"
   },
   {
    "duration": 14,
    "start_time": "2025-04-29T23:52:33.130Z"
   },
   {
    "duration": 193,
    "start_time": "2025-04-29T23:52:33.146Z"
   },
   {
    "duration": 7,
    "start_time": "2025-04-29T23:52:33.341Z"
   },
   {
    "duration": 276,
    "start_time": "2025-04-29T23:52:33.350Z"
   },
   {
    "duration": 8,
    "start_time": "2025-04-29T23:52:33.630Z"
   },
   {
    "duration": 215,
    "start_time": "2025-04-29T23:52:33.639Z"
   },
   {
    "duration": 10,
    "start_time": "2025-04-29T23:52:33.856Z"
   },
   {
    "duration": 283,
    "start_time": "2025-04-29T23:52:33.867Z"
   },
   {
    "duration": 17,
    "start_time": "2025-04-29T23:52:34.152Z"
   },
   {
    "duration": 340,
    "start_time": "2025-04-29T23:52:34.171Z"
   },
   {
    "duration": 11,
    "start_time": "2025-04-29T23:52:34.513Z"
   },
   {
    "duration": 154,
    "start_time": "2025-04-29T23:52:34.525Z"
   },
   {
    "duration": 7,
    "start_time": "2025-04-29T23:52:34.681Z"
   },
   {
    "duration": 808,
    "start_time": "2025-04-29T23:52:34.690Z"
   },
   {
    "duration": 6,
    "start_time": "2025-04-29T23:52:35.505Z"
   },
   {
    "duration": 229,
    "start_time": "2025-04-29T23:52:35.513Z"
   },
   {
    "duration": 420,
    "start_time": "2025-04-29T23:52:35.744Z"
   },
   {
    "duration": 339,
    "start_time": "2025-04-29T23:52:36.166Z"
   },
   {
    "duration": 18,
    "start_time": "2025-04-29T23:52:36.507Z"
   },
   {
    "duration": 50,
    "start_time": "2025-04-29T23:52:36.527Z"
   },
   {
    "duration": 257,
    "start_time": "2025-04-29T23:52:36.579Z"
   },
   {
    "duration": 20,
    "start_time": "2025-04-29T23:52:36.838Z"
   },
   {
    "duration": 204,
    "start_time": "2025-04-29T23:52:36.860Z"
   },
   {
    "duration": 11,
    "start_time": "2025-04-29T23:52:37.066Z"
   },
   {
    "duration": 238,
    "start_time": "2025-04-29T23:52:37.079Z"
   },
   {
    "duration": 271,
    "start_time": "2025-04-30T00:21:24.936Z"
   },
   {
    "duration": 3228,
    "start_time": "2025-04-30T13:25:05.758Z"
   },
   {
    "duration": 2055,
    "start_time": "2025-04-30T13:25:08.988Z"
   },
   {
    "duration": 523,
    "start_time": "2025-04-30T13:25:11.044Z"
   },
   {
    "duration": 15,
    "start_time": "2025-04-30T13:25:11.568Z"
   },
   {
    "duration": 14,
    "start_time": "2025-04-30T13:25:11.584Z"
   },
   {
    "duration": 10,
    "start_time": "2025-04-30T13:25:11.599Z"
   },
   {
    "duration": 9,
    "start_time": "2025-04-30T13:25:11.611Z"
   },
   {
    "duration": 21,
    "start_time": "2025-04-30T13:25:11.621Z"
   },
   {
    "duration": 15,
    "start_time": "2025-04-30T13:25:11.643Z"
   },
   {
    "duration": 15,
    "start_time": "2025-04-30T13:25:11.660Z"
   },
   {
    "duration": 12,
    "start_time": "2025-04-30T13:25:11.676Z"
   },
   {
    "duration": 18,
    "start_time": "2025-04-30T13:25:11.690Z"
   },
   {
    "duration": 31,
    "start_time": "2025-04-30T13:25:11.710Z"
   },
   {
    "duration": 11,
    "start_time": "2025-04-30T13:25:11.742Z"
   },
   {
    "duration": 41,
    "start_time": "2025-04-30T13:25:11.755Z"
   },
   {
    "duration": 14,
    "start_time": "2025-04-30T13:25:11.797Z"
   },
   {
    "duration": 6,
    "start_time": "2025-04-30T13:25:11.813Z"
   },
   {
    "duration": 22,
    "start_time": "2025-04-30T13:25:11.835Z"
   },
   {
    "duration": 10,
    "start_time": "2025-04-30T13:25:11.858Z"
   },
   {
    "duration": 13,
    "start_time": "2025-04-30T13:25:11.870Z"
   },
   {
    "duration": 15,
    "start_time": "2025-04-30T13:25:11.884Z"
   },
   {
    "duration": 25,
    "start_time": "2025-04-30T13:25:11.901Z"
   },
   {
    "duration": 13,
    "start_time": "2025-04-30T13:25:11.936Z"
   },
   {
    "duration": 6,
    "start_time": "2025-04-30T13:25:11.951Z"
   },
   {
    "duration": 198,
    "start_time": "2025-04-30T13:25:11.959Z"
   },
   {
    "duration": 7,
    "start_time": "2025-04-30T13:25:12.159Z"
   },
   {
    "duration": 215,
    "start_time": "2025-04-30T13:25:12.168Z"
   },
   {
    "duration": 8,
    "start_time": "2025-04-30T13:25:12.388Z"
   },
   {
    "duration": 184,
    "start_time": "2025-04-30T13:25:12.398Z"
   },
   {
    "duration": 10,
    "start_time": "2025-04-30T13:25:12.584Z"
   },
   {
    "duration": 195,
    "start_time": "2025-04-30T13:25:12.595Z"
   },
   {
    "duration": 18,
    "start_time": "2025-04-30T13:25:12.792Z"
   },
   {
    "duration": 238,
    "start_time": "2025-04-30T13:25:12.812Z"
   },
   {
    "duration": 11,
    "start_time": "2025-04-30T13:25:13.052Z"
   },
   {
    "duration": 142,
    "start_time": "2025-04-30T13:25:13.065Z"
   },
   {
    "duration": 8,
    "start_time": "2025-04-30T13:25:13.209Z"
   },
   {
    "duration": 695,
    "start_time": "2025-04-30T13:25:13.219Z"
   },
   {
    "duration": 6,
    "start_time": "2025-04-30T13:25:13.916Z"
   },
   {
    "duration": 158,
    "start_time": "2025-04-30T13:25:13.936Z"
   },
   {
    "duration": 392,
    "start_time": "2025-04-30T13:25:14.096Z"
   },
   {
    "duration": 219,
    "start_time": "2025-04-30T13:25:14.489Z"
   },
   {
    "duration": 33,
    "start_time": "2025-04-30T13:25:14.709Z"
   },
   {
    "duration": 29,
    "start_time": "2025-04-30T13:25:14.743Z"
   },
   {
    "duration": 266,
    "start_time": "2025-04-30T13:25:14.774Z"
   },
   {
    "duration": 18,
    "start_time": "2025-04-30T13:25:15.042Z"
   },
   {
    "duration": 172,
    "start_time": "2025-04-30T13:25:15.062Z"
   },
   {
    "duration": 10,
    "start_time": "2025-04-30T13:25:15.236Z"
   },
   {
    "duration": 211,
    "start_time": "2025-04-30T13:25:15.247Z"
   },
   {
    "duration": 3523,
    "start_time": "2025-05-01T12:53:54.688Z"
   },
   {
    "duration": 1485,
    "start_time": "2025-05-01T12:53:58.213Z"
   },
   {
    "duration": 188,
    "start_time": "2025-05-01T12:53:59.700Z"
   },
   {
    "duration": 15,
    "start_time": "2025-05-01T12:53:59.890Z"
   },
   {
    "duration": 24,
    "start_time": "2025-05-01T12:53:59.906Z"
   },
   {
    "duration": 13,
    "start_time": "2025-05-01T12:53:59.932Z"
   },
   {
    "duration": 10,
    "start_time": "2025-05-01T12:53:59.946Z"
   },
   {
    "duration": 12,
    "start_time": "2025-05-01T12:53:59.957Z"
   },
   {
    "duration": 14,
    "start_time": "2025-05-01T12:53:59.971Z"
   },
   {
    "duration": 50,
    "start_time": "2025-05-01T12:53:59.987Z"
   },
   {
    "duration": 26,
    "start_time": "2025-05-01T12:54:00.039Z"
   },
   {
    "duration": 47,
    "start_time": "2025-05-01T12:54:00.067Z"
   },
   {
    "duration": 42,
    "start_time": "2025-05-01T12:54:00.116Z"
   },
   {
    "duration": 30,
    "start_time": "2025-05-01T12:54:00.160Z"
   },
   {
    "duration": 39,
    "start_time": "2025-05-01T12:54:00.191Z"
   },
   {
    "duration": 22,
    "start_time": "2025-05-01T12:54:00.232Z"
   },
   {
    "duration": 8,
    "start_time": "2025-05-01T12:54:00.255Z"
   },
   {
    "duration": 55,
    "start_time": "2025-05-01T12:54:00.264Z"
   },
   {
    "duration": 17,
    "start_time": "2025-05-01T12:54:00.321Z"
   },
   {
    "duration": 17,
    "start_time": "2025-05-01T12:54:00.339Z"
   },
   {
    "duration": 16,
    "start_time": "2025-05-01T12:54:00.358Z"
   },
   {
    "duration": 46,
    "start_time": "2025-05-01T12:54:00.376Z"
   },
   {
    "duration": 49,
    "start_time": "2025-05-01T12:54:00.423Z"
   },
   {
    "duration": 23,
    "start_time": "2025-05-01T12:54:00.474Z"
   },
   {
    "duration": 225,
    "start_time": "2025-05-01T12:54:00.499Z"
   },
   {
    "duration": 11,
    "start_time": "2025-05-01T12:54:00.726Z"
   },
   {
    "duration": 311,
    "start_time": "2025-05-01T12:54:00.739Z"
   },
   {
    "duration": 8,
    "start_time": "2025-05-01T12:54:01.053Z"
   },
   {
    "duration": 201,
    "start_time": "2025-05-01T12:54:01.063Z"
   },
   {
    "duration": 10,
    "start_time": "2025-05-01T12:54:01.265Z"
   },
   {
    "duration": 236,
    "start_time": "2025-05-01T12:54:01.277Z"
   },
   {
    "duration": 22,
    "start_time": "2025-05-01T12:54:01.515Z"
   },
   {
    "duration": 278,
    "start_time": "2025-05-01T12:54:01.539Z"
   },
   {
    "duration": 21,
    "start_time": "2025-05-01T12:54:01.819Z"
   },
   {
    "duration": 215,
    "start_time": "2025-05-01T12:54:01.842Z"
   },
   {
    "duration": 7,
    "start_time": "2025-05-01T12:54:02.059Z"
   },
   {
    "duration": 780,
    "start_time": "2025-05-01T12:54:02.068Z"
   },
   {
    "duration": 7,
    "start_time": "2025-05-01T12:54:02.850Z"
   },
   {
    "duration": 194,
    "start_time": "2025-05-01T12:54:02.859Z"
   },
   {
    "duration": 423,
    "start_time": "2025-05-01T12:54:03.055Z"
   },
   {
    "duration": 290,
    "start_time": "2025-05-01T12:54:03.481Z"
   },
   {
    "duration": 19,
    "start_time": "2025-05-01T12:54:03.774Z"
   },
   {
    "duration": 156,
    "start_time": "2025-05-01T12:54:03.795Z"
   },
   {
    "duration": 262,
    "start_time": "2025-05-01T12:54:03.953Z"
   },
   {
    "duration": 32,
    "start_time": "2025-05-01T12:54:04.217Z"
   },
   {
    "duration": 220,
    "start_time": "2025-05-01T12:54:04.251Z"
   },
   {
    "duration": 16,
    "start_time": "2025-05-01T12:54:04.473Z"
   },
   {
    "duration": 249,
    "start_time": "2025-05-01T12:54:04.491Z"
   }
  ],
  "colab": {
   "provenance": []
  },
  "kernelspec": {
   "display_name": "Python 3 (ipykernel)",
   "language": "python",
   "name": "python3"
  },
  "language_info": {
   "codemirror_mode": {
    "name": "ipython",
    "version": 3
   },
   "file_extension": ".py",
   "mimetype": "text/x-python",
   "name": "python",
   "nbconvert_exporter": "python",
   "pygments_lexer": "ipython3",
   "version": "3.9.5"
  },
  "toc": {
   "base_numbering": 1,
   "nav_menu": {},
   "number_sections": true,
   "sideBar": true,
   "skip_h1_title": true,
   "title_cell": "Table of Contents",
   "title_sidebar": "Contents",
   "toc_cell": false,
   "toc_position": {
    "height": "calc(100% - 180px)",
    "left": "10px",
    "top": "150px",
    "width": "317.844px"
   },
   "toc_section_display": true,
   "toc_window_display": true
  }
 },
 "nbformat": 4,
 "nbformat_minor": 5
}
